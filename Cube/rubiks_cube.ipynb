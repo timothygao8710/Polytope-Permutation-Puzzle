{
 "cells": [
  {
   "cell_type": "code",
   "execution_count": 1,
   "id": "initial_id",
   "metadata": {
    "collapsed": true,
    "ExecuteTime": {
     "end_time": "2023-12-24T17:32:57.825093200Z",
     "start_time": "2023-12-24T17:32:54.351534900Z"
    }
   },
   "outputs": [],
   "source": [
    "# First clone and set up: https://github.com/dwalton76/rubiks-cube-NxNxN-solver.\n",
    "# Then, put this notebook in the root directory of that repo.\n",
    "\n",
    "# General libraries\n",
    "import pandas as pd\n",
    "import numpy as np\n",
    "from tqdm.notebook import tqdm\n",
    "import json"
   ]
  },
  {
   "cell_type": "code",
   "execution_count": 25,
   "outputs": [],
   "source": [
    "DATA_DIRECTORY = '../santa-2023/'"
   ],
   "metadata": {
    "collapsed": false,
    "ExecuteTime": {
     "end_time": "2023-12-23T13:46:10.885711800Z",
     "start_time": "2023-12-23T13:46:10.838515400Z"
    }
   },
   "id": "6eda66d236a69442"
  },
  {
   "cell_type": "code",
   "execution_count": 26,
   "outputs": [],
   "source": [
    "# Rubik's Cube solver library from GitHub\n",
    "from rubikscubennnsolver import RubiksCube, SolveError\n",
    "import rubikscubennnsolver\n",
    "from rubikscubennnsolver.RubiksCubeNNNOdd import RubiksCubeNNNOdd\n",
    "from rubikscubennnsolver.RubiksCubeNNNEven import RubiksCubeNNNEven"
   ],
   "metadata": {
    "collapsed": false,
    "ExecuteTime": {
     "end_time": "2023-12-23T13:46:10.981539Z",
     "start_time": "2023-12-23T13:46:10.838515400Z"
    }
   },
   "id": "74f78fd995ecb004"
  },
  {
   "cell_type": "code",
   "execution_count": 27,
   "outputs": [],
   "source": [
    "def get_inverse_perm(perm : list) -> list:\n",
    "    inv_perm = [0] * len(perm)\n",
    "    \n",
    "    for i in range(len(perm)):\n",
    "        inv_perm[perm[i]] = i\n",
    "        \n",
    "    return inv_perm"
   ],
   "metadata": {
    "collapsed": false,
    "ExecuteTime": {
     "end_time": "2023-12-23T13:46:10.981539Z",
     "start_time": "2023-12-23T13:46:10.869678200Z"
    }
   },
   "id": "a4bee7a6199a2efd"
  },
  {
   "cell_type": "code",
   "execution_count": 28,
   "outputs": [],
   "source": [
    "# Load puzzle_info into a dictionary to easily access the moves\n",
    "\n",
    "allowed_moves = {}\n",
    "\n",
    "puzzle_info = pd.read_csv(DATA_DIRECTORY + 'puzzle_info.csv')\n",
    "for _, row in puzzle_info.iterrows():\n",
    "    allowed_moves[row['puzzle_type']] = json.loads(row['allowed_moves'].replace(\"'\", '\"'))\n",
    "\n",
    "    # Add inverse moves\n",
    "    d = allowed_moves[row['puzzle_type']]\n",
    "    for k, move in tuple(d.items()):\n",
    "        d['-' + k] = get_inverse_perm(move)"
   ],
   "metadata": {
    "collapsed": false,
    "ExecuteTime": {
     "end_time": "2023-12-23T13:46:11.058851900Z",
     "start_time": "2023-12-23T13:46:10.885711800Z"
    }
   },
   "id": "e932c013cfb16c1f"
  },
  {
   "cell_type": "code",
   "execution_count": 29,
   "outputs": [],
   "source": [
    "def convert_to_kociemba(s: str) -> str:\n",
    "    \"\"\"\n",
    "    Convert the string to kociemba notation\n",
    "    1. Change the colors\n",
    "    2. The faces are processed in the order: 'URFDLB'\n",
    "    \n",
    "    Kaggle Coloring:\n",
    "    (https://www.kaggle.com/code/ryanholbrook/getting-started-with-santa-2023?scriptVersionId=155960527&cellId=14)\n",
    "             +--------+                               +--------+\n",
    "             | 0    1 |                               | A    A |\n",
    "             |   d1   |                               |   d1   |\n",
    "             | 2    3 |                               | A    A |\n",
    "    +--------+--------+--------+--------+    +--------+--------+--------+--------+\n",
    "    | 16  17 | 4    5 | 8   9  | 12  13 |    | E    E | B    B | C    C | D    D |\n",
    "    |   r1   |   f0   |   r0   |   f1   |    |   r1   |   f0   |   r0   |   f1   |\n",
    "    | 18  19 | 6    7 | 10  11 | 14  15 |    | E    E | B    B | C    C | D    D |\n",
    "    +--------+--------+--------+--------+    +--------+--------+--------+--------+\n",
    "             | 20  21 |                               | F    F |\n",
    "             |   d0   |                               |   d0   |\n",
    "             | 22  23 |                               | F    F |\n",
    "             +--------+                               +--------+\n",
    "    \n",
    "    Kociemba Coloring:\n",
    "    (https://github.com/muodov/kociemba?tab=readme-ov-file#cube-string-notation)\n",
    "                 |************|\n",
    "                 |*U1**U2**U3*|\n",
    "                 |************|\n",
    "                 |*U4**U5**U6*|\n",
    "                 |************|\n",
    "                 |*U7**U8**U9*|\n",
    "                 |************|\n",
    "     ************|************|************|************\n",
    "     *L1**L2**L3*|*F1**F2**F3*|*R1**R2**R3*|*B1**B2**B3*\n",
    "     ************|************|************|************\n",
    "     *L4**L5**L6*|*F4**F5**F6*|*R4**R5**R6*|*B4**B5**B6*\n",
    "     ************|************|************|************\n",
    "     *L7**L8**L9*|*F7**F8**F9*|*R7**R8**R9*|*B7**B8**B9*\n",
    "     ************|************|************|************\n",
    "                 |************|\n",
    "                 |*D1**D2**D3*|\n",
    "                 |************|\n",
    "                 |*D4**D5**D6*|\n",
    "                 |************|\n",
    "                 |*D7**D8**D9*|\n",
    "                 |************|\n",
    "    \"\"\"\n",
    "    \n",
    "    convert_color = {'A' : 'U', \n",
    "                     'B' : 'F', \n",
    "                     'C' : 'R',\n",
    "                     'D' : 'B',\n",
    "                     'E' : 'L',\n",
    "                     'F' : 'D'}\n",
    "    \n",
    "    s = list(s)\n",
    "    m = len(s) // 6\n",
    "    \n",
    "    # 1\n",
    "    for i in range(len(s)):\n",
    "        s[i] = convert_color[s[i]]\n",
    "    \n",
    "    # 2\n",
    "    s = [s[m*i:m*(i+1)] for i in range(6)]\n",
    "    perm = [0, 2, 1, 5, 4, 3]\n",
    "    s = [s[perm[i]] for i in range(6)]\n",
    "    s = [s[i//m][i%m] for i in range(6*m)]\n",
    "    \n",
    "    return ''.join(s)\n",
    "\n",
    "assert(convert_to_kociemba('AAAABBBBCCCCDDDDEEEEFFFF') == 'UUUURRRRFFFFDDDDLLLLBBBB')"
   ],
   "metadata": {
    "collapsed": false,
    "ExecuteTime": {
     "end_time": "2023-12-23T13:46:11.110817Z",
     "start_time": "2023-12-23T13:46:11.063367800Z"
    }
   },
   "id": "2e400620e4210584"
  },
  {
   "cell_type": "code",
   "execution_count": 30,
   "outputs": [],
   "source": [
    "def get_cube(kociemba_notation: str) -> RubiksCube:\n",
    "    \"\"\"\n",
    "    Gets the correct cube object from kociemba notation\n",
    "    \"\"\"\n",
    "    \n",
    "    size = int((len(kociemba_notation) // 6) ** 0.5) # No precision errors since float result rounded from exact result\n",
    "    KOCIEMBA_FACE_ORDER = 'URFDLB'\n",
    "    \n",
    "    if size == 2:\n",
    "        # rubiks cube libraries\n",
    "        from rubikscubennnsolver.RubiksCube222 import RubiksCube222\n",
    "\n",
    "        cube = RubiksCube222(kociemba_notation, KOCIEMBA_FACE_ORDER)\n",
    "    elif size == 3:\n",
    "        # rubiks cube libraries\n",
    "        from rubikscubennnsolver.RubiksCube333 import RubiksCube333\n",
    "\n",
    "        cube = RubiksCube333(kociemba_notation, KOCIEMBA_FACE_ORDER)\n",
    "    elif size == 4:\n",
    "        # rubiks cube libraries\n",
    "        from rubikscubennnsolver.RubiksCube444 import RubiksCube444\n",
    "\n",
    "        cube = RubiksCube444(kociemba_notation, KOCIEMBA_FACE_ORDER)\n",
    "    elif size == 5:\n",
    "        # rubiks cube libraries\n",
    "        from rubikscubennnsolver.RubiksCube555 import RubiksCube555\n",
    "\n",
    "        cube = RubiksCube555(kociemba_notation, KOCIEMBA_FACE_ORDER)\n",
    "    elif size == 6:\n",
    "        # rubiks cube libraries\n",
    "        from rubikscubennnsolver.RubiksCube666 import RubiksCube666\n",
    "\n",
    "        cube = RubiksCube666(kociemba_notation, KOCIEMBA_FACE_ORDER)\n",
    "    elif size == 7:\n",
    "        # rubiks cube libraries\n",
    "        from rubikscubennnsolver.RubiksCube777 import RubiksCube777\n",
    "\n",
    "        cube = RubiksCube777(kociemba_notation, KOCIEMBA_FACE_ORDER)\n",
    "    elif size % 2 == 0:\n",
    "        # rubiks cube libraries\n",
    "        from rubikscubennnsolver.RubiksCubeNNNEven import RubiksCubeNNNEven\n",
    "\n",
    "        cube = RubiksCubeNNNEven(kociemba_notation, KOCIEMBA_FACE_ORDER)\n",
    "    else:\n",
    "        # rubiks cube libraries\n",
    "        from rubikscubennnsolver.RubiksCubeNNNOdd import RubiksCubeNNNOdd\n",
    "\n",
    "        cube = RubiksCubeNNNOdd(kociemba_notation, KOCIEMBA_FACE_ORDER)\n",
    "    \n",
    "    return cube"
   ],
   "metadata": {
    "collapsed": false,
    "ExecuteTime": {
     "end_time": "2023-12-23T13:46:11.110817Z",
     "start_time": "2023-12-23T13:46:11.063367800Z"
    }
   },
   "id": "829447584319c0d"
  },
  {
   "cell_type": "code",
   "execution_count": 31,
   "outputs": [],
   "source": [
    "def convert_cuber_moves_to_kaggle_moves(moves : list[str], n) -> list[str]:\n",
    "    \"\"\"\n",
    "    Converts the cuber move to kaggle moves\n",
    "    \n",
    "    To learn about cuber notation for moves:\n",
    "        https://www.youtube.com/watch?v=37y4f8FYdFs\n",
    "        One confusing case is that Rw = 2Rw (they are used interchangeably)\n",
    "    \n",
    "    To learn about kaggle moves:\n",
    "        https://www.kaggle.com/code/ryanholbrook/getting-started-with-santa-2023?scriptVersionId=155960527&cellId=14\n",
    "        Note that wide moves don't exist on kaggle\n",
    "    \n",
    "    Major discrepancy:\n",
    "        There is a kaggle move that rotates each layer clockwise with respect to 3 the\n",
    "        FRD faces.\n",
    "        However, cuber moves are clockwise with respect to one of the 6 faces.\n",
    "        \n",
    "    Examples:\n",
    "        The R move corresponds to r_0\n",
    "        The L corresponds to -r_{n-1}.\n",
    "        The R2 move corresponds to r_0, r_0\n",
    "        The Rw or 2Rw move corresponds to r_0, r_1\n",
    "        The 2Lw move corresponds to -r_{n-1}, -r_{n-2}\n",
    "    \"\"\"\n",
    "    \n",
    "    convert_axis = {'R' : 'r',\n",
    "                    'L' : 'r',\n",
    "                    'F' : 'f',\n",
    "                    'B' : 'f',\n",
    "                    'D' : 'd',\n",
    "                    'U' : 'd'}\n",
    "    axis_changed = 'LBU'\n",
    "    invert_str = ['', '-']\n",
    "    \n",
    "    \n",
    "    kaggle_moves = []\n",
    "    \n",
    "    for move in moves:\n",
    "        rotations = 1\n",
    "        invert = 0\n",
    "        \n",
    "        if move[-1] == \"'\":\n",
    "            invert = 1\n",
    "        if move[-1] == '2':\n",
    "            rotations = 2\n",
    "        \n",
    "        width = 1 # If no w, just rotate single layer\n",
    "        \n",
    "        if 'w' in move:\n",
    "            width = 2  # Default if no number\n",
    "            if move[0].isdigit():\n",
    "                # Get and remove width from prefix of move\n",
    "                width = ''\n",
    "                for i in range(len(move)):\n",
    "                    if not move[i].isdigit():\n",
    "                        width = int(move[:i])\n",
    "                        move = move[i:]\n",
    "                        break\n",
    "\n",
    "        original_axis = move[0]\n",
    "        axis = convert_axis[original_axis]\n",
    "        \n",
    "        # Get kaggle moves\n",
    "        for i in range(width):\n",
    "            for j in range(rotations):\n",
    "                if original_axis in axis_changed:\n",
    "                    kaggle_moves.append(invert_str[invert^1] + axis + str(n-1-i))\n",
    "                else:\n",
    "                    kaggle_moves.append(invert_str[invert] + axis + str(i))\n",
    "    \n",
    "    return kaggle_moves"
   ],
   "metadata": {
    "collapsed": false,
    "ExecuteTime": {
     "end_time": "2023-12-23T13:46:11.158684Z",
     "start_time": "2023-12-23T13:46:11.085049Z"
    }
   },
   "id": "9fb30a46e5a0a5d3"
  },
  {
   "cell_type": "code",
   "execution_count": 32,
   "outputs": [],
   "source": [
    "def add_final_rotation(puzzle_type: str,\n",
    "                       initial_state: str,\n",
    "                       moves: list[str]) -> None:\n",
    "    \"\"\"\n",
    "    The solver from GitHub doesn't care about the final orientation of the cube.\n",
    "    We'll need to rotate it.\n",
    "    \n",
    "    I think this uses the minimum rotations (should double-check).\n",
    "    Should take at most 3*n kaggle moves (3 rotations).\n",
    "    \n",
    "    Updates moves in place.\n",
    "    \"\"\"\n",
    "\n",
    "    n = int((len(initial_state) // 6) ** 0.5)\n",
    "    m = n*n\n",
    "\n",
    "    current_array = np.array(tuple(initial_state))\n",
    "    \n",
    "    for move in moves:\n",
    "        current_array = current_array[allowed_moves[puzzle_type][move]]\n",
    "\n",
    "    new_moves = []\n",
    "    b_at_3 = False\n",
    "    \n",
    "    # Get B in place\n",
    "    # Rotation[i] = Move(s) to get B in place if they are at face i in kaggle order\n",
    "    rotation = [('-r',), tuple(), ('-d',), ('d', 'r'), ('d',), ('r',)]  \n",
    "    for i in range(6):\n",
    "        if current_array[i*m] == 'B' and rotation[i]:\n",
    "            b_at_3 = i == 3\n",
    "            rotations = 2 if i == 3 else 1  # B is opposite where it should be\n",
    "            for j in range(rotations):\n",
    "                new_moves.extend(rotation[i][0] + str(k) for k in range(n))\n",
    "    \n",
    "    # Apply moves\n",
    "    current_array = current_array.copy()\n",
    "    for move in new_moves:\n",
    "        current_array = current_array[allowed_moves[puzzle_type][move]]\n",
    "    \n",
    "    # Get 'C' in place\n",
    "    if b_at_3 and current_array[4*m] == 'C':\n",
    "        # We rotated on i = 3 to get B in place.\n",
    "        # If we use the other valid rotation, it puts B AND C in place.\n",
    "        new_moves = []\n",
    "        for j in range(2):\n",
    "            new_moves.extend(rotation[3][1] + str(k) for k in range(n))\n",
    "    else:\n",
    "        rotation = ['f', None, '', None, 'f', '-f']  # Notice how we only rotate about f axis\n",
    "        for i in range(6):\n",
    "            if current_array[i*m] == 'C' and rotation[i] != '':\n",
    "                rotations = 2 if i == 4 else 1  # C is opposite where it should be \n",
    "                for j in range(rotations):\n",
    "                    new_moves.extend(rotation[i] + str(k) for k in range(n))\n",
    "    \n",
    "    moves += new_moves"
   ],
   "metadata": {
    "collapsed": false,
    "ExecuteTime": {
     "end_time": "2023-12-23T13:46:11.190559400Z",
     "start_time": "2023-12-23T13:46:11.169270500Z"
    }
   },
   "id": "5314c0762582c8f8"
  },
  {
   "cell_type": "code",
   "execution_count": 33,
   "outputs": [],
   "source": [
    "def invert_kaggle_moves(moves : list[str]) -> list[str]:\n",
    "    \"\"\"\n",
    "    Gives a list of moves that when applied in order has the inverse effect\n",
    "    of the original list of moves applied in order\n",
    "    \"\"\"\n",
    "    \n",
    "    inverse_moves = []\n",
    "    \n",
    "    for move in moves[::-1]:\n",
    "        if move[0] == '-':\n",
    "            inverse_moves.append(move[1:])\n",
    "        else:\n",
    "            inverse_moves.append('-' + move)\n",
    "        \n",
    "    return inverse_moves"
   ],
   "metadata": {
    "collapsed": false,
    "ExecuteTime": {
     "end_time": "2023-12-23T13:46:11.190559400Z",
     "start_time": "2023-12-23T13:46:11.174794200Z"
    }
   },
   "id": "188dabd1343b5aee"
  },
  {
   "cell_type": "code",
   "execution_count": 34,
   "outputs": [],
   "source": [
    "def get_kaggle_moves(puzzle_type: str,\n",
    "                     initial_state: str,\n",
    "                     solution_state: str) -> list[str]:\n",
    "    \"\"\"\n",
    "    Let A be the moves that get us from initial_state to solved Rubik's Cube\n",
    "    Let B be the moves that get us from solution_state to solved Rubik's Cube\n",
    "    \n",
    "    Then to get from initial_state to solution_state, apply A then inverse(B)\n",
    "    \"\"\"\n",
    "    \n",
    "    initial_state_kociemba = convert_to_kociemba(initial_state)\n",
    "    solution_state_kociemba = convert_to_kociemba(solution_state)\n",
    "\n",
    "    # I edited RubiksCube222, so it would return instead of sys.exit(0) (error in jupyter)\n",
    "    # Also removed the unnecessary print right above that line\n",
    "    initial_cube = get_cube(initial_state_kociemba)\n",
    "    solution_cube = get_cube(solution_state_kociemba)\n",
    "\n",
    "    initial_cube.solve()\n",
    "    solution_cube.solve()\n",
    "    \n",
    "    initial_cuber_moves = initial_cube.get_solution()  # Custom method I added\n",
    "    solution_cuber_moves = solution_cube.get_solution()  # Custom method I added\n",
    "\n",
    "    n = int((len(initial_state) // 6) ** 0.5)\n",
    "    initial_kaggle_moves = convert_cuber_moves_to_kaggle_moves(initial_cuber_moves, n)\n",
    "    solution_kaggle_moves = convert_cuber_moves_to_kaggle_moves(solution_cuber_moves, n)\n",
    "    \n",
    "    add_final_rotation(puzzle_type, initial_state, initial_kaggle_moves)\n",
    "    add_final_rotation(puzzle_type, solution_state, solution_kaggle_moves)\n",
    "\n",
    "\n",
    "    return initial_kaggle_moves + invert_kaggle_moves(solution_kaggle_moves)"
   ],
   "metadata": {
    "collapsed": false,
    "ExecuteTime": {
     "end_time": "2023-12-23T13:46:11.206250500Z",
     "start_time": "2023-12-23T13:46:11.190559400Z"
    }
   },
   "id": "274dd4b3ab40235e"
  },
  {
   "cell_type": "code",
   "execution_count": 35,
   "outputs": [],
   "source": [
    "def check_moves(puzzle_type: str,\n",
    "                initial_state : str,\n",
    "                solution_state : str,\n",
    "                moves : list[str]) -> bool:\n",
    "    \"\"\"\n",
    "    Returns if moves converts initial_state to solution_state\n",
    "    \"\"\"\n",
    "    \n",
    "    current_array = np.array(tuple(initial_state))\n",
    "    solution_array = np.array(tuple(solution_state))\n",
    "    \n",
    "    for move in moves:\n",
    "        current_array = current_array[allowed_moves[puzzle_type][move]]\n",
    "    \n",
    "    return (current_array == solution_array).all()"
   ],
   "metadata": {
    "collapsed": false,
    "ExecuteTime": {
     "end_time": "2023-12-23T13:46:11.221823Z",
     "start_time": "2023-12-23T13:46:11.206250500Z"
    }
   },
   "id": "550cecd14c2a1c33"
  },
  {
   "cell_type": "code",
   "execution_count": 36,
   "outputs": [],
   "source": [
    "# Get submission and cube puzzles\n",
    "\n",
    "submission = pd.read_csv(DATA_DIRECTORY + 'submission.csv', index_col=0)\n",
    "puzzles = pd.read_csv(DATA_DIRECTORY + 'puzzles.csv')\n",
    "puzzles = puzzles[puzzles['puzzle_type'].str.contains('cube')]"
   ],
   "metadata": {
    "collapsed": false,
    "ExecuteTime": {
     "end_time": "2023-12-23T13:46:11.301201600Z",
     "start_time": "2023-12-23T13:46:11.269249200Z"
    }
   },
   "id": "cc85c43c02644db4"
  },
  {
   "cell_type": "code",
   "execution_count": 37,
   "outputs": [],
   "source": [
    "# To quantify improvement and potential improvement\n",
    "\n",
    "skipped_has_n = []  # Skipped because has 'N'\n",
    "tot_skipped_has_n = 0\n",
    "cannot_solve = []  # Skipped because meeting point of standard solved cube impossible\n",
    "tot_cannot_solve = 0\n",
    "improve = {}\n",
    "tot_improved = 0\n",
    "error_while_solving = []  # Unknown errors, but almost certainly from GitHub cube solver\n",
    "cube_solver_wrong = []  # Cube solver doesn't get it right..."
   ],
   "metadata": {
    "collapsed": false,
    "ExecuteTime": {
     "end_time": "2023-12-23T13:46:11.337336Z",
     "start_time": "2023-12-23T13:46:11.301201600Z"
    }
   },
   "id": "e054f6867bf835e"
  },
  {
   "cell_type": "code",
   "execution_count": 38,
   "outputs": [
    {
     "data": {
      "text/plain": "  0%|          | 0/284 [00:00<?, ?it/s]",
      "application/vnd.jupyter.widget-view+json": {
       "version_major": 2,
       "version_minor": 0,
       "model_id": "2bc0356a3f084a128dd708b022ebd1f1"
      }
     },
     "metadata": {},
     "output_type": "display_data"
    },
    {
     "name": "stdout",
     "output_type": "stream",
     "text": [
      "UUUURRRRFFFFDDDDLLLLBBBB\n",
      "UUUURRRRFFFFDDDDLLLLBBBB\n",
      "UUUURRRRFFFFDDDDLLLLBBBB\n",
      "UUUURRRRFFFFDDDDLLLLBBBB\n",
      "UUUURRRRFFFFDDDDLLLLBBBB\n",
      "UUUUUUUUURRRRRRRRRFFFFFFFFFDDDDDDDDDLLLLLLLLLBBBBBBBBB\n",
      "Improved cube_3/3/3 with id 140 by 174 moves\n",
      "UUUUUUUUURRRRRRRRRFFFFFFFFFDDDDDDDDDLLLLLLLLLBBBBBBBBB\n",
      "Improved cube_3/3/3 with id 141 by 240 moves\n",
      "UUUUUUUUURRRRRRRRRFFFFFFFFFDDDDDDDDDLLLLLLLLLBBBBBBBBB\n",
      "Improved cube_3/3/3 with id 142 by 338 moves\n",
      "UUUUUUUUURRRRRRRRRFFFFFFFFFDDDDDDDDDLLLLLLLLLBBBBBBBBB\n",
      "Improved cube_3/3/3 with id 143 by 396 moves\n",
      "UUUUUUUUURRRRRRRRRFFFFFFFFFDDDDDDDDDLLLLLLLLLBBBBBBBBB\n",
      "Improved cube_3/3/3 with id 144 by 304 moves\n",
      "UUUUUUUUURRRRRRRRRFFFFFFFFFDDDDDDDDDLLLLLLLLLBBBBBBBBB\n",
      "Improved cube_3/3/3 with id 145 by 224 moves\n",
      "UUUUUUUUURRRRRRRRRFFFFFFFFFDDDDDDDDDLLLLLLLLLBBBBBBBBB\n",
      "Improved cube_3/3/3 with id 146 by 296 moves\n",
      "UUUUUUUUURRRRRRRRRFFFFFFFFFDDDDDDDDDLLLLLLLLLBBBBBBBBB\n",
      "Improved cube_3/3/3 with id 147 by 210 moves\n",
      "UUUUUUUUURRRRRRRRRFFFFFFFFFDDDDDDDDDLLLLLLLLLBBBBBBBBB\n",
      "Improved cube_3/3/3 with id 148 by 192 moves\n",
      "UUUUUUUUURRRRRRRRRFFFFFFFFFDDDDDDDDDLLLLLLLLLBBBBBBBBB\n",
      "Improved cube_3/3/3 with id 149 by 184 moves\n",
      "UUUUUUUUUUUUUUUURRRRRRRRRRRRRRRRFFFFFFFFFFFFFFFFDDDDDDDDDDDDDDDDLLLLLLLLLLLLLLLLBBBBBBBBBBBBBBBB\n"
     ]
    },
    {
     "name": "stderr",
     "output_type": "stream",
     "text": [
      "found 50 phase4 solutions with --solution-count 50, 2 solutions without PLL\n",
      "phase 3 is 7 steps, phase 4 is 9 steps, solve 333 in 21 steps, total 37 (NEW MIN)\n",
      "phase 3 is 7 steps, phase 4 is 9 steps, solve 333 in 22 steps, total 38\n"
     ]
    },
    {
     "name": "stdout",
     "output_type": "stream",
     "text": [
      "Improved cube_4/4/4 with id 205 by 458 moves\n",
      "UUUUUUUUUUUUUUUURRRRRRRRRRRRRRRRFFFFFFFFFFFFFFFFDDDDDDDDDDDDDDDDLLLLLLLLLLLLLLLLBBBBBBBBBBBBBBBB\n"
     ]
    },
    {
     "name": "stderr",
     "output_type": "stream",
     "text": [
      "found 50 phase4 solutions with --solution-count 50, 17 solutions without PLL\n",
      "phase 3 is 8 steps, phase 4 is 10 steps, solve 333 in 22 steps, total 40 (NEW MIN)\n",
      "phase 3 is 8 steps, phase 4 is 10 steps, solve 333 in 21 steps, total 39 (NEW MIN)\n",
      "phase 3 is 8 steps, phase 4 is 10 steps, solve 333 in 22 steps, total 40\n",
      "phase 3 is 8 steps, phase 4 is 10 steps, solve 333 in 22 steps, total 40\n",
      "phase 3 is 8 steps, phase 4 is 10 steps, solve 333 in 22 steps, total 40\n"
     ]
    },
    {
     "name": "stdout",
     "output_type": "stream",
     "text": [
      "Improved cube_4/4/4 with id 206 by 354 moves\n",
      "UUUUUUUUUUUUUUUURRRRRRRRRRRRRRRRFFFFFFFFFFFFFFFFDDDDDDDDDDDDDDDDLLLLLLLLLLLLLLLLBBBBBBBBBBBBBBBB\n"
     ]
    },
    {
     "name": "stderr",
     "output_type": "stream",
     "text": [
      "found 50 phase4 solutions with --solution-count 50, 2 solutions without PLL\n",
      "phase 3 is 7 steps, phase 4 is 11 steps, solve 333 in 21 steps, total 39 (NEW MIN)\n",
      "phase 3 is 7 steps, phase 4 is 11 steps, solve 333 in 20 steps, total 38 (NEW MIN)\n"
     ]
    },
    {
     "name": "stdout",
     "output_type": "stream",
     "text": [
      "Improved cube_4/4/4 with id 207 by 396 moves\n",
      "UUUUUUUUUUUUUUUURRRRRRRRRRRRRRRRFFFFFFFFFFFFFFFFDDDDDDDDDDDDDDDDLLLLLLLLLLLLLLLLBBBBBBBBBBBBBBBB\n"
     ]
    },
    {
     "name": "stderr",
     "output_type": "stream",
     "text": [
      "found 50 phase4 solutions with --solution-count 50, 0 solutions without PLL\n",
      "found 1050 phase4 solutions with --solution-count 1050, 15 solutions without PLL\n",
      "phase 3 is 7 steps, phase 4 is 10 steps, solve 333 in 21 steps, total 38 (NEW MIN)\n",
      "phase 3 is 7 steps, phase 4 is 11 steps, solve 333 in 22 steps, total 40\n",
      "phase 3 is 7 steps, phase 4 is 11 steps, solve 333 in 19 steps, total 37 (NEW MIN)\n",
      "phase 3 is 7 steps, phase 4 is 11 steps, solve 333 in 21 steps, total 39\n",
      "phase 3 is 7 steps, phase 4 is 11 steps, solve 333 in 21 steps, total 39\n"
     ]
    },
    {
     "name": "stdout",
     "output_type": "stream",
     "text": [
      "Improved cube_4/4/4 with id 208 by 410 moves\n",
      "UUUUUUUUUUUUUUUURRRRRRRRRRRRRRRRFFFFFFFFFFFFFFFFDDDDDDDDDDDDDDDDLLLLLLLLLLLLLLLLBBBBBBBBBBBBBBBB\n"
     ]
    },
    {
     "name": "stderr",
     "output_type": "stream",
     "text": [
      "found 50 phase4 solutions with --solution-count 50, 1 solutions without PLL\n",
      "phase 3 is 6 steps, phase 4 is 11 steps, solve 333 in 21 steps, total 38 (NEW MIN)\n"
     ]
    },
    {
     "name": "stdout",
     "output_type": "stream",
     "text": [
      "Improved cube_4/4/4 with id 209 by 340 moves\n",
      "UUUUUUUUUUUUUUUUUUUUUUUUURRRRRRRRRRRRRRRRRRRRRRRRRFFFFFFFFFFFFFFFFFFFFFFFFFDDDDDDDDDDDDDDDDDDDDDDDDDLLLLLLLLLLLLLLLLLLLLLLLLLBBBBBBBBBBBBBBBBBBBBBBBBB\n",
      "Improved cube_5/5/5 with id 240 by 1446 moves\n",
      "UUUUUUUUUUUUUUUUUUUUUUUUURRRRRRRRRRRRRRRRRRRRRRRRRFFFFFFFFFFFFFFFFFFFFFFFFFDDDDDDDDDDDDDDDDDDDDDDDDDLLLLLLLLLLLLLLLLLLLLLLLLLBBBBBBBBBBBBBBBBBBBBBBBBB\n",
      "Improved cube_5/5/5 with id 241 by 1222 moves\n",
      "UUUUUUUUUUUUUUUUUUUUUUUUURRRRRRRRRRRRRRRRRRRRRRRRRFFFFFFFFFFFFFFFFFFFFFFFFFDDDDDDDDDDDDDDDDDDDDDDDDDLLLLLLLLLLLLLLLLLLLLLLLLLBBBBBBBBBBBBBBBBBBBBBBBBB\n",
      "Improved cube_5/5/5 with id 242 by 1312 moves\n",
      "UUUUUUUUUUUUUUUUUUUUUUUUURRRRRRRRRRRRRRRRRRRRRRRRRFFFFFFFFFFFFFFFFFFFFFFFFFDDDDDDDDDDDDDDDDDDDDDDDDDLLLLLLLLLLLLLLLLLLLLLLLLLBBBBBBBBBBBBBBBBBBBBBBBBB\n",
      "Improved cube_5/5/5 with id 243 by 1460 moves\n",
      "UUUUUUUUUUUUUUUUUUUUUUUUURRRRRRRRRRRRRRRRRRRRRRRRRFFFFFFFFFFFFFFFFFFFFFFFFFDDDDDDDDDDDDDDDDDDDDDDDDDLLLLLLLLLLLLLLLLLLLLLLLLLBBBBBBBBBBBBBBBBBBBBBBBBB\n",
      "Improved cube_5/5/5 with id 244 by 1494 moves\n",
      "UUUUUUUUUUUUUUUUUUUUUUUUUUUUUUUUUUUURRRRRRRRRRRRRRRRRRRRRRRRRRRRRRRRRRRRFFFFFFFFFFFFFFFFFFFFFFFFFFFFFFFFFFFFDDDDDDDDDDDDDDDDDDDDDDDDDDDDDDDDDDDDLLLLLLLLLLLLLLLLLLLLLLLLLLLLLLLLLLLLBBBBBBBBBBBBBBBBBBBBBBBBBBBBBBBBBBBB\n"
     ]
    },
    {
     "name": "stderr",
     "output_type": "stream",
     "text": [
      "found 50 phase4 solutions with --solution-count 50, 0 solutions without PLL\n",
      "found 1050 phase4 solutions with --solution-count 1050, 4 solutions without PLL\n"
     ]
    },
    {
     "name": "stdout",
     "output_type": "stream",
     "text": [
      "Improved cube_6/6/6 with id 256 by 2376 moves\n",
      "UUUUUUUUUUUUUUUUUUUUUUUUUUUUUUUUUUUUUUUUUUUUUUUUUUUUUUUUUUUUUUUUUUUUUUUUUUUUUUUUUUUUUUUUUUUUUUUUUUUUUUUUUUUUUUUUUUUUUUUUUUUUUUUUUUUUUUUUUUUUUUUUUUUUUUUUUUUUUUUUUUUUUUUUUUUUUUUUUUUUUUUUUUUUUUUUUUUUUUUUUUUUUUUUUUUUUUUUUUUUUUUUUUUUUUUUUUUUUUUUUUUUUUUUUUUUUUUUUUUUUUUUUUUUUUUUUUUUUUUUUUUUUUUUUUUUUUUUUUUUUUUUUUUUUUUUUUUUUUUUUUUUUUUUUUUUUUUUUUUUUUUUUUUUUUUUUUUUUUUUUUUUUUUUUUUUUUUUUUUUUUUUUUUUUUUUUUUUUUUUUUUUUUUUUUUUUUUUUUUUUUUUUUUUUUUUUUUUUUUUUUUUUUUUUUUUUUUUUUUUUUUUUUUUUUUUUUUUUUUUUUUUUUUUUUUUUUUUUUUUUUUUUUUUUUUUUUUUUUUUUUUUUUUUUUUUUUUUUUUUUUUUUUUUUUUUUUUUUUUUUUUUUUUUUUUUUUUUUUUUUUUUUUUUUUUUUUUUUUUUUUUUUUUUUUUUUUUUUUUUUUUUUUUUUUUUUUUUUUUUUUUUUUUUUUUUUUUUUUUUUUUUUUUUUUUUUUUUUUUUUUUUUUUUUUUUUUUUUUUUUUUUUUUUUUUUUUUUUUUUUUUUUUUUUUUUUUUUUUUUUUUUUUUUUUUUUUUUUUUUUUUUUUUUUUUUUUUUUUUUUUUUUUUUUUUUUUUUUUUUUUUUUUUUUUUUUUUUUUUUUUUUUUUUUUUUUUUUUUUUUUUUUUUUUUUUUUUUUUUUUUUUUUUUUUUUUUUUUUUUUUUUUUUUUUUUUUUUUUUUUUUUUUUUUUUUUUUUUUUUUUUUUUUUUUUUUUUUUUUUUUUUUUUUUUUUUUUUUUUUUUUUUUUUUUUUUUUUUUUUUUUUUUUUUUUUUUUUUUUUUUUUUUUUUUUUUUUUUUUUUUUUUUUUUUUUUUUUUUUUUUUUUUUUUUUUUUUUUUUUUUUUUUUUUUUUUUUUUUUUUUUUUUUUURRRRRRRRRRRRRRRRRRRRRRRRRRRRRRRRRRRRRRRRRRRRRRRRRRRRRRRRRRRRRRRRRRRRRRRRRRRRRRRRRRRRRRRRRRRRRRRRRRRRRRRRRRRRRRRRRRRRRRRRRRRRRRRRRRRRRRRRRRRRRRRRRRRRRRRRRRRRRRRRRRRRRRRRRRRRRRRRRRRRRRRRRRRRRRRRRRRRRRRRRRRRRRRRRRRRRRRRRRRRRRRRRRRRRRRRRRRRRRRRRRRRRRRRRRRRRRRRRRRRRRRRRRRRRRRRRRRRRRRRRRRRRRRRRRRRRRRRRRRRRRRRRRRRRRRRRRRRRRRRRRRRRRRRRRRRRRRRRRRRRRRRRRRRRRRRRRRRRRRRRRRRRRRRRRRRRRRRRRRRRRRRRRRRRRRRRRRRRRRRRRRRRRRRRRRRRRRRRRRRRRRRRRRRRRRRRRRRRRRRRRRRRRRRRRRRRRRRRRRRRRRRRRRRRRRRRRRRRRRRRRRRRRRRRRRRRRRRRRRRRRRRRRRRRRRRRRRRRRRRRRRRRRRRRRRRRRRRRRRRRRRRRRRRRRRRRRRRRRRRRRRRRRRRRRRRRRRRRRRRRRRRRRRRRRRRRRRRRRRRRRRRRRRRRRRRRRRRRRRRRRRRRRRRRRRRRRRRRRRRRRRRRRRRRRRRRRRRRRRRRRRRRRRRRRRRRRRRRRRRRRRRRRRRRRRRRRRRRRRRRRRRRRRRRRRRRRRRRRRRRRRRRRRRRRRRRRRRRRRRRRRRRRRRRRRRRRRRRRRRRRRRRRRRRRRRRRRRRRRRRRRRRRRRRRRRRRRRRRRRRRRRRRRRRRRRRRRRRRRRRRRRRRRRRRRRRRRRRRRRRRRRRRRRRRRRRRRRRRRRRRRRRRRRRRRRRRRRRRRRRRRRRRRRRRRRRRRRRRRRRRRRRRRRRRRRRRRRRRRRRRRRRRRRRRRRRRRRRRRRRRRRRRRRRRRRRRRRRRRRRRRRRRRRRRRRRRRRRRRRRRRRRRRRRRRRRRRRRRRRRRRRRRRRRRRRRRRRRRRRRRRRRRRRRRRRRRRRRRRRRRRRRRRRRRRRRRRRRRRRRRRRRRRRRRRRRRRRRRRRRRRRRRRRRFFFFFFFFFFFFFFFFFFFFFFFFFFFFFFFFFFFFFFFFFFFFFFFFFFFFFFFFFFFFFFFFFFFFFFFFFFFFFFFFFFFFFFFFFFFFFFFFFFFFFFFFFFFFFFFFFFFFFFFFFFFFFFFFFFFFFFFFFFFFFFFFFFFFFFFFFFFFFFFFFFFFFFFFFFFFFFFFFFFFFFFFFFFFFFFFFFFFFFFFFFFFFFFFFFFFFFFFFFFFFFFFFFFFFFFFFFFFFFFFFFFFFFFFFFFFFFFFFFFFFFFFFFFFFFFFFFFFFFFFFFFFFFFFFFFFFFFFFFFFFFFFFFFFFFFFFFFFFFFFFFFFFFFFFFFFFFFFFFFFFFFFFFFFFFFFFFFFFFFFFFFFFFFFFFFFFFFFFFFFFFFFFFFFFFFFFFFFFFFFFFFFFFFFFFFFFFFFFFFFFFFFFFFFFFFFFFFFFFFFFFFFFFFFFFFFFFFFFFFFFFFFFFFFFFFFFFFFFFFFFFFFFFFFFFFFFFFFFFFFFFFFFFFFFFFFFFFFFFFFFFFFFFFFFFFFFFFFFFFFFFFFFFFFFFFFFFFFFFFFFFFFFFFFFFFFFFFFFFFFFFFFFFFFFFFFFFFFFFFFFFFFFFFFFFFFFFFFFFFFFFFFFFFFFFFFFFFFFFFFFFFFFFFFFFFFFFFFFFFFFFFFFFFFFFFFFFFFFFFFFFFFFFFFFFFFFFFFFFFFFFFFFFFFFFFFFFFFFFFFFFFFFFFFFFFFFFFFFFFFFFFFFFFFFFFFFFFFFFFFFFFFFFFFFFFFFFFFFFFFFFFFFFFFFFFFFFFFFFFFFFFFFFFFFFFFFFFFFFFFFFFFFFFFFFFFFFFFFFFFFFFFFFFFFFFFFFFFFFFFFFFFFFFFFFFFFFFFFFFFFFFFFFFFFFFFFFFFFFFFFFFFFFFFFFFFFFFFFFFFFFFFFFFFFFFFFFFFFFFFFFFFFFFFFFFFFFFFFFFFFFFFFFFFFFFFFFFFFFFFFFFFFFFFFFFFFFFFFFFFFFFFFFFFFFFFFFFFFFFFFFFFFFFFFFFFFFFFFFFFFFFFFFFFFFFFFFFFFFFFFFFFFFFFFFFFFFFFFFFFFFFFFFFFFDDDDDDDDDDDDDDDDDDDDDDDDDDDDDDDDDDDDDDDDDDDDDDDDDDDDDDDDDDDDDDDDDDDDDDDDDDDDDDDDDDDDDDDDDDDDDDDDDDDDDDDDDDDDDDDDDDDDDDDDDDDDDDDDDDDDDDDDDDDDDDDDDDDDDDDDDDDDDDDDDDDDDDDDDDDDDDDDDDDDDDDDDDDDDDDDDDDDDDDDDDDDDDDDDDDDDDDDDDDDDDDDDDDDDDDDDDDDDDDDDDDDDDDDDDDDDDDDDDDDDDDDDDDDDDDDDDDDDDDDDDDDDDDDDDDDDDDDDDDDDDDDDDDDDDDDDDDDDDDDDDDDDDDDDDDDDDDDDDDDDDDDDDDDDDDDDDDDDDDDDDDDDDDDDDDDDDDDDDDDDDDDDDDDDDDDDDDDDDDDDDDDDDDDDDDDDDDDDDDDDDDDDDDDDDDDDDDDDDDDDDDDDDDDDDDDDDDDDDDDDDDDDDDDDDDDDDDDDDDDDDDDDDDDDDDDDDDDDDDDDDDDDDDDDDDDDDDDDDDDDDDDDDDDDDDDDDDDDDDDDDDDDDDDDDDDDDDDDDDDDDDDDDDDDDDDDDDDDDDDDDDDDDDDDDDDDDDDDDDDDDDDDDDDDDDDDDDDDDDDDDDDDDDDDDDDDDDDDDDDDDDDDDDDDDDDDDDDDDDDDDDDDDDDDDDDDDDDDDDDDDDDDDDDDDDDDDDDDDDDDDDDDDDDDDDDDDDDDDDDDDDDDDDDDDDDDDDDDDDDDDDDDDDDDDDDDDDDDDDDDDDDDDDDDDDDDDDDDDDDDDDDDDDDDDDDDDDDDDDDDDDDDDDDDDDDDDDDDDDDDDDDDDDDDDDDDDDDDDDDDDDDDDDDDDDDDDDDDDDDDDDDDDDDDDDDDDDDDDDDDDDDDDDDDDDDDDDDDDDDDDDDDDDDDDDDDDDDDDDDDDDDDDDDDDDDDDDDDDDDDDDDDDDDDDDDDDDDDDDDDDDDDDDDDDDDDDDDDDDDDDDDDDDDDDDDDDDDDDDDDDDDDDDDDDDDDDDDDDDDDDDDDDDDDDDDDDDDDDDDDDDDDDDDDDDDDDDDDDDDDDDDDDDDDDDDDDDDDDDDDDDDDDDDDLLLLLLLLLLLLLLLLLLLLLLLLLLLLLLLLLLLLLLLLLLLLLLLLLLLLLLLLLLLLLLLLLLLLLLLLLLLLLLLLLLLLLLLLLLLLLLLLLLLLLLLLLLLLLLLLLLLLLLLLLLLLLLLLLLLLLLLLLLLLLLLLLLLLLLLLLLLLLLLLLLLLLLLLLLLLLLLLLLLLLLLLLLLLLLLLLLLLLLLLLLLLLLLLLLLLLLLLLLLLLLLLLLLLLLLLLLLLLLLLLLLLLLLLLLLLLLLLLLLLLLLLLLLLLLLLLLLLLLLLLLLLLLLLLLLLLLLLLLLLLLLLLLLLLLLLLLLLLLLLLLLLLLLLLLLLLLLLLLLLLLLLLLLLLLLLLLLLLLLLLLLLLLLLLLLLLLLLLLLLLLLLLLLLLLLLLLLLLLLLLLLLLLLLLLLLLLLLLLLLLLLLLLLLLLLLLLLLLLLLLLLLLLLLLLLLLLLLLLLLLLLLLLLLLLLLLLLLLLLLLLLLLLLLLLLLLLLLLLLLLLLLLLLLLLLLLLLLLLLLLLLLLLLLLLLLLLLLLLLLLLLLLLLLLLLLLLLLLLLLLLLLLLLLLLLLLLLLLLLLLLLLLLLLLLLLLLLLLLLLLLLLLLLLLLLLLLLLLLLLLLLLLLLLLLLLLLLLLLLLLLLLLLLLLLLLLLLLLLLLLLLLLLLLLLLLLLLLLLLLLLLLLLLLLLLLLLLLLLLLLLLLLLLLLLLLLLLLLLLLLLLLLLLLLLLLLLLLLLLLLLLLLLLLLLLLLLLLLLLLLLLLLLLLLLLLLLLLLLLLLLLLLLLLLLLLLLLLLLLLLLLLLLLLLLLLLLLLLLLLLLLLLLLLLLLLLLLLLLLLLLLLLLLLLLLLLLLLLLLLLLLLLLLLLLLLLLLLLLLLLLLLLLLLLLLLLLLLLLLLLLLLLLLLLLLLLLLLLLLLLLLLLLLLLLLLLLLLLLLLLLLLLLLLLLLLLLLLLLLLLLLLLLLLLLLLLLLLLLLLLLLLLLLLLLLLLLLLLLLLLLLLLLLLLLLLLLLLLLLLLLLLLLLLLLLLLLLLLLLLLLLLLLLLLLLLLLLLLLLLLLLLLLLLLLLLLLLLLLLLLLLLLLLLLBBBBBBBBBBBBBBBBBBBBBBBBBBBBBBBBBBBBBBBBBBBBBBBBBBBBBBBBBBBBBBBBBBBBBBBBBBBBBBBBBBBBBBBBBBBBBBBBBBBBBBBBBBBBBBBBBBBBBBBBBBBBBBBBBBBBBBBBBBBBBBBBBBBBBBBBBBBBBBBBBBBBBBBBBBBBBBBBBBBBBBBBBBBBBBBBBBBBBBBBBBBBBBBBBBBBBBBBBBBBBBBBBBBBBBBBBBBBBBBBBBBBBBBBBBBBBBBBBBBBBBBBBBBBBBBBBBBBBBBBBBBBBBBBBBBBBBBBBBBBBBBBBBBBBBBBBBBBBBBBBBBBBBBBBBBBBBBBBBBBBBBBBBBBBBBBBBBBBBBBBBBBBBBBBBBBBBBBBBBBBBBBBBBBBBBBBBBBBBBBBBBBBBBBBBBBBBBBBBBBBBBBBBBBBBBBBBBBBBBBBBBBBBBBBBBBBBBBBBBBBBBBBBBBBBBBBBBBBBBBBBBBBBBBBBBBBBBBBBBBBBBBBBBBBBBBBBBBBBBBBBBBBBBBBBBBBBBBBBBBBBBBBBBBBBBBBBBBBBBBBBBBBBBBBBBBBBBBBBBBBBBBBBBBBBBBBBBBBBBBBBBBBBBBBBBBBBBBBBBBBBBBBBBBBBBBBBBBBBBBBBBBBBBBBBBBBBBBBBBBBBBBBBBBBBBBBBBBBBBBBBBBBBBBBBBBBBBBBBBBBBBBBBBBBBBBBBBBBBBBBBBBBBBBBBBBBBBBBBBBBBBBBBBBBBBBBBBBBBBBBBBBBBBBBBBBBBBBBBBBBBBBBBBBBBBBBBBBBBBBBBBBBBBBBBBBBBBBBBBBBBBBBBBBBBBBBBBBBBBBBBBBBBBBBBBBBBBBBBBBBBBBBBBBBBBBBBBBBBBBBBBBBBBBBBBBBBBBBBBBBBBBBBBBBBBBBBBBBBBBBBBBBBBBBBBBBBBBBBBBBBBBBBBBBBBBBBBBBBBBBBBBBBBBBBBBBBBBBBBBBBBBBBBBBBBBBBBBBBBBBBBBBBBBBBBBBBBBBBBBBBBBBBBBBBBBBBBBBBBBBBBBBBBBBBBBBBBBBBBBBBBBBBBBBBBBBBBBBBBBBBBBBBBBB\n",
      "Improved cube_33/33/33 with id 283 by 25074 moves\n"
     ]
    }
   ],
   "source": [
    "# 130..\n",
    "# 200, 201, 202, 203, 204 (4x4x4)\n",
    "# 235, 236, 237, 238, 239, (5x5x5) error while solving,\n",
    "# 200-204 are all the even cubes with ABA solution.\n",
    "# (Could not determine wing_str for (F, B))\n",
    "redos = [282]\n",
    "redo = [235]\n",
    "# error_while_solving=[(282, 'cube_33/33/33', 139625, Exception('Could not determine wing_str for (B, F)'))]\n",
    "\n",
    "for i in tqdm(list(range(len(puzzles)))):\n",
    "    initial_state = puzzles.iloc[i]['initial_state'].split(';')\n",
    "    solution_state = puzzles.iloc[i]['solution_state'].split(';')\n",
    "    puzzle_type = puzzles.iloc[i]['puzzle_type']\n",
    "    id = puzzles.iloc[i]['id']\n",
    "    old_moves = submission.iloc[id]['moves'].split('.')\n",
    "\n",
    "    if 'N' in initial_state[0]:\n",
    "        continue\n",
    "        # Has 'N'\n",
    "        # skipped_has_n.append((id, puzzle_type, len(old_moves)))\n",
    "        # tot_skipped_has_n += len(old_moves)\n",
    "        order = 'ABCDEF'\n",
    "        m = len(initial_state) // 6\n",
    "        \n",
    "        initial_state = str(order[int(x[1:])//m] for x in initial_state)\n",
    "        solution_state = str(order[int(x[1:])//m] for x in solution_state)\n",
    "    else:\n",
    "        initial_state = ''.join(initial_state)\n",
    "        solution_state = ''.join(solution_state)\n",
    "    \n",
    "    # try:\n",
    "    moves = get_kaggle_moves(puzzle_type, initial_state, solution_state)\n",
    "        ## Impossible to get to meeting point of standard solved cube\n",
    "        #cannot_solve.append((id, puzzle_type, len(old_moves)))\n",
    "        #tot_cannot_solve += len(old_moves)\n",
    "        #continue\n",
    "    # except Exception as e:\n",
    "    #     # Almost certainly an issue with the GitHub cube solver\n",
    "    #     error_while_solving.append((id, puzzle_type, len(old_moves), e))\n",
    "    #     continue\n",
    "        \n",
    "    # Verify correctness\n",
    "    if not check_moves(puzzle_type, initial_state, solution_state, moves):\n",
    "        cube_solver_wrong.append((id, puzzle_type, len(old_moves)))\n",
    "    \n",
    "    # Compare and replace if better\n",
    "    if len(moves) < len(old_moves):\n",
    "        submission.loc[id, 'moves'] = '.'.join(moves)  # Replace\n",
    "        \n",
    "        improvement = len(old_moves) - len(moves)\n",
    "        # Print improvement\n",
    "        print(f'Improved {puzzle_type} with id {id} by {improvement} moves')\n",
    "        \n",
    "        # Store improvement statistics\n",
    "        if puzzle_type not in improve:\n",
    "            improve[puzzle_type] = [0, 0, 0]\n",
    "        improve[puzzle_type][0] += improvement\n",
    "        improve[puzzle_type][1] += len(old_moves)\n",
    "        improve[puzzle_type][2] += 1\n",
    "        \n",
    "        tot_improved += improvement"
   ],
   "metadata": {
    "collapsed": false,
    "ExecuteTime": {
     "end_time": "2023-12-23T13:53:34.784569600Z",
     "start_time": "2023-12-23T13:46:11.313690300Z"
    }
   },
   "id": "bde66c2eb9e418c4"
  },
  {
   "cell_type": "code",
   "execution_count": 46,
   "outputs": [
    {
     "name": "stdout",
     "output_type": "stream",
     "text": [
      "tot_improved=38900\n"
     ]
    }
   ],
   "source": [
    "print(f'{tot_improved=}')"
   ],
   "metadata": {
    "collapsed": false,
    "ExecuteTime": {
     "end_time": "2023-12-23T13:54:03.875866100Z",
     "start_time": "2023-12-23T13:54:03.796940200Z"
    }
   },
   "id": "f8de1a477cd69a94"
  },
  {
   "cell_type": "code",
   "execution_count": 40,
   "outputs": [
    {
     "name": "stdout",
     "output_type": "stream",
     "text": [
      "tot_skipped_has_n=0\n",
      "skipped_has_n=[]\n"
     ]
    }
   ],
   "source": [
    "print(f'{tot_skipped_has_n=}')\n",
    "print(f'{skipped_has_n=}')"
   ],
   "metadata": {
    "collapsed": false,
    "ExecuteTime": {
     "end_time": "2023-12-23T13:53:34.813093300Z",
     "start_time": "2023-12-23T13:53:34.792824600Z"
    }
   },
   "id": "6c8d49ae3529287d"
  },
  {
   "cell_type": "code",
   "execution_count": 41,
   "outputs": [
    {
     "name": "stdout",
     "output_type": "stream",
     "text": [
      "0\n",
      "cannot_solve=[]\n"
     ]
    }
   ],
   "source": [
    "print(f'{tot_cannot_solve}')\n",
    "print(f'{cannot_solve=}')"
   ],
   "metadata": {
    "collapsed": false,
    "ExecuteTime": {
     "end_time": "2023-12-23T13:53:34.843893800Z",
     "start_time": "2023-12-23T13:53:34.823094600Z"
    }
   },
   "id": "c5a905edd1f121f0"
  },
  {
   "cell_type": "code",
   "execution_count": 42,
   "outputs": [
    {
     "name": "stdout",
     "output_type": "stream",
     "text": [
      "error_while_solving=[]\n",
      "cube_solver_wrong=[]\n"
     ]
    }
   ],
   "source": [
    "print(f'{error_while_solving=}')\n",
    "print(f'{cube_solver_wrong=}')"
   ],
   "metadata": {
    "collapsed": false,
    "ExecuteTime": {
     "end_time": "2023-12-23T13:53:34.848909200Z",
     "start_time": "2023-12-23T13:53:34.828266400Z"
    }
   },
   "id": "980d1295be1fffd"
  },
  {
   "cell_type": "code",
   "execution_count": 43,
   "outputs": [
    {
     "name": "stdout",
     "output_type": "stream",
     "text": [
      "redo=[]\n"
     ]
    }
   ],
   "source": [
    "redo = [a[0] for a in error_while_solving] + [a[0] for a in cube_solver_wrong]\n",
    "print(f'{redo=}')"
   ],
   "metadata": {
    "collapsed": false,
    "ExecuteTime": {
     "end_time": "2023-12-23T13:53:34.855078Z",
     "start_time": "2023-12-23T13:53:34.844905900Z"
    }
   },
   "id": "67edea39357431c8"
  },
  {
   "cell_type": "code",
   "execution_count": 44,
   "outputs": [
    {
     "name": "stdout",
     "output_type": "stream",
     "text": [
      "cube_3/3/3 Average Improvement: 255.8 Score, 87.72290809327846%\n",
      "cube_4/4/4 Average Improvement: 391.6 Score, 79.91836734693878%\n",
      "cube_5/5/5 Average Improvement: 1386.8 Score, 88.34246400815391%\n",
      "cube_6/6/6 Average Improvement: 2376.0 Score, 87.09677419354838%\n",
      "cube_33/33/33 Average Improvement: 25074.0 Score, 22.99523110785033%\n"
     ]
    }
   ],
   "source": [
    "for puzzle_type, v in improve.items():\n",
    "    print(f'{puzzle_type} Average Improvement: {v[0]/v[2]} Score, {100*v[0]/v[1]}%')"
   ],
   "metadata": {
    "collapsed": false,
    "ExecuteTime": {
     "end_time": "2023-12-23T13:53:34.865523600Z",
     "start_time": "2023-12-23T13:53:34.862262600Z"
    }
   },
   "id": "ca81e8fee3d13bac"
  },
  {
   "cell_type": "code",
   "execution_count": 45,
   "outputs": [],
   "source": [
    "# Save submission\n",
    "\n",
    "submission.to_csv(DATA_DIRECTORY + 'submission.csv')"
   ],
   "metadata": {
    "collapsed": false,
    "ExecuteTime": {
     "end_time": "2023-12-23T13:53:34.952960400Z",
     "start_time": "2023-12-23T13:53:34.865523600Z"
    }
   },
   "id": "af84db58e26185b2"
  }
 ],
 "metadata": {
  "kernelspec": {
   "display_name": "Python 3",
   "language": "python",
   "name": "python3"
  },
  "language_info": {
   "codemirror_mode": {
    "name": "ipython",
    "version": 2
   },
   "file_extension": ".py",
   "mimetype": "text/x-python",
   "name": "python",
   "nbconvert_exporter": "python",
   "pygments_lexer": "ipython2",
   "version": "2.7.6"
  }
 },
 "nbformat": 4,
 "nbformat_minor": 5
}
