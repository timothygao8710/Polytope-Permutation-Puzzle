{
 "cells": [
  {
   "cell_type": "markdown",
   "metadata": {
    "_cell_guid": "b1076dfc-b9ad-4769-8c92-a6c4dae69d19",
    "_uuid": "8f2839f25d086af736a60e9eeb907d3b93b6e0e5"
   },
   "source": [
    "# Premature Optimization is the root of all evil"
   ]
  },
  {
   "cell_type": "code",
   "execution_count": 1,
   "metadata": {},
   "outputs": [],
   "source": [
    "import matplotlib.pyplot as plt\n",
    "from scipy import stats\n",
    "import numpy as np\n",
    "from numba import jit\n",
    "import pstats\n",
    "import heapq\n",
    "import time\n",
    "import cProfile\n",
    "import pandas as pd"
   ]
  },
  {
   "cell_type": "code",
   "execution_count": 2,
   "metadata": {},
   "outputs": [],
   "source": [
    "puzzle_info_path = 'puzzle_info.csv'\n",
    "puzzles_path = 'puzzles.csv'\n",
    "sample_submission_path = 'sample_submission.csv' # change name across board\n",
    "puzzle_info_df = pd.read_csv(puzzle_info_path)\n",
    "puzzles_df = pd.read_csv(puzzles_path)\n",
    "sample_submission_df = pd.read_csv(sample_submission_path)"
   ]
  },
  {
   "cell_type": "code",
   "execution_count": 3,
   "metadata": {},
   "outputs": [
    {
     "data": {
      "text/html": [
       "<div>\n",
       "<style scoped>\n",
       "    .dataframe tbody tr th:only-of-type {\n",
       "        vertical-align: middle;\n",
       "    }\n",
       "\n",
       "    .dataframe tbody tr th {\n",
       "        vertical-align: top;\n",
       "    }\n",
       "\n",
       "    .dataframe thead th {\n",
       "        text-align: right;\n",
       "    }\n",
       "</style>\n",
       "<table border=\"1\" class=\"dataframe\">\n",
       "  <thead>\n",
       "    <tr style=\"text-align: right;\">\n",
       "      <th></th>\n",
       "      <th>id</th>\n",
       "      <th>puzzle_type</th>\n",
       "      <th>solution_state</th>\n",
       "      <th>initial_state</th>\n",
       "      <th>num_wildcards</th>\n",
       "    </tr>\n",
       "  </thead>\n",
       "  <tbody>\n",
       "    <tr>\n",
       "      <th>0</th>\n",
       "      <td>0</td>\n",
       "      <td>cube_2/2/2</td>\n",
       "      <td>A;A;A;A;B;B;B;B;C;C;C;C;D;D;D;D;E;E;E;E;F;F;F;F</td>\n",
       "      <td>D;E;D;A;E;B;A;B;C;A;C;A;D;C;D;F;F;F;E;E;B;F;B;C</td>\n",
       "      <td>0</td>\n",
       "    </tr>\n",
       "    <tr>\n",
       "      <th>1</th>\n",
       "      <td>1</td>\n",
       "      <td>cube_2/2/2</td>\n",
       "      <td>A;A;A;A;B;B;B;B;C;C;C;C;D;D;D;D;E;E;E;E;F;F;F;F</td>\n",
       "      <td>D;E;C;B;B;E;F;A;F;D;B;F;F;E;B;D;A;A;C;D;C;E;A;C</td>\n",
       "      <td>0</td>\n",
       "    </tr>\n",
       "    <tr>\n",
       "      <th>2</th>\n",
       "      <td>2</td>\n",
       "      <td>cube_2/2/2</td>\n",
       "      <td>A;A;A;A;B;B;B;B;C;C;C;C;D;D;D;D;E;E;E;E;F;F;F;F</td>\n",
       "      <td>E;F;C;C;F;A;D;D;B;B;A;F;E;B;C;A;A;B;D;F;E;E;C;D</td>\n",
       "      <td>0</td>\n",
       "    </tr>\n",
       "    <tr>\n",
       "      <th>3</th>\n",
       "      <td>3</td>\n",
       "      <td>cube_2/2/2</td>\n",
       "      <td>A;A;A;A;B;B;B;B;C;C;C;C;D;D;D;D;E;E;E;E;F;F;F;F</td>\n",
       "      <td>A;C;E;C;F;D;E;D;A;A;F;A;B;D;B;F;E;D;B;F;B;C;C;E</td>\n",
       "      <td>0</td>\n",
       "    </tr>\n",
       "    <tr>\n",
       "      <th>4</th>\n",
       "      <td>4</td>\n",
       "      <td>cube_2/2/2</td>\n",
       "      <td>A;A;A;A;B;B;B;B;C;C;C;C;D;D;D;D;E;E;E;E;F;F;F;F</td>\n",
       "      <td>E;D;E;D;A;E;F;B;A;C;F;D;F;D;C;A;F;B;C;C;B;E;B;A</td>\n",
       "      <td>0</td>\n",
       "    </tr>\n",
       "  </tbody>\n",
       "</table>\n",
       "</div>"
      ],
      "text/plain": [
       "   id puzzle_type                                   solution_state  \\\n",
       "0   0  cube_2/2/2  A;A;A;A;B;B;B;B;C;C;C;C;D;D;D;D;E;E;E;E;F;F;F;F   \n",
       "1   1  cube_2/2/2  A;A;A;A;B;B;B;B;C;C;C;C;D;D;D;D;E;E;E;E;F;F;F;F   \n",
       "2   2  cube_2/2/2  A;A;A;A;B;B;B;B;C;C;C;C;D;D;D;D;E;E;E;E;F;F;F;F   \n",
       "3   3  cube_2/2/2  A;A;A;A;B;B;B;B;C;C;C;C;D;D;D;D;E;E;E;E;F;F;F;F   \n",
       "4   4  cube_2/2/2  A;A;A;A;B;B;B;B;C;C;C;C;D;D;D;D;E;E;E;E;F;F;F;F   \n",
       "\n",
       "                                     initial_state  num_wildcards  \n",
       "0  D;E;D;A;E;B;A;B;C;A;C;A;D;C;D;F;F;F;E;E;B;F;B;C              0  \n",
       "1  D;E;C;B;B;E;F;A;F;D;B;F;F;E;B;D;A;A;C;D;C;E;A;C              0  \n",
       "2  E;F;C;C;F;A;D;D;B;B;A;F;E;B;C;A;A;B;D;F;E;E;C;D              0  \n",
       "3  A;C;E;C;F;D;E;D;A;A;F;A;B;D;B;F;E;D;B;F;B;C;C;E              0  \n",
       "4  E;D;E;D;A;E;F;B;A;C;F;D;F;D;C;A;F;B;C;C;B;E;B;A              0  "
      ]
     },
     "execution_count": 3,
     "metadata": {},
     "output_type": "execute_result"
    }
   ],
   "source": [
    "puzzles_df.head()"
   ]
  },
  {
   "cell_type": "code",
   "execution_count": 4,
   "metadata": {},
   "outputs": [
    {
     "data": {
      "text/html": [
       "<div>\n",
       "<style scoped>\n",
       "    .dataframe tbody tr th:only-of-type {\n",
       "        vertical-align: middle;\n",
       "    }\n",
       "\n",
       "    .dataframe tbody tr th {\n",
       "        vertical-align: top;\n",
       "    }\n",
       "\n",
       "    .dataframe thead th {\n",
       "        text-align: right;\n",
       "    }\n",
       "</style>\n",
       "<table border=\"1\" class=\"dataframe\">\n",
       "  <thead>\n",
       "    <tr style=\"text-align: right;\">\n",
       "      <th></th>\n",
       "      <th>id</th>\n",
       "      <th>puzzle_type</th>\n",
       "      <th>parsed_initial_state</th>\n",
       "      <th>parsed_solution_state</th>\n",
       "    </tr>\n",
       "  </thead>\n",
       "  <tbody>\n",
       "    <tr>\n",
       "      <th>0</th>\n",
       "      <td>0</td>\n",
       "      <td>cube_2/2/2</td>\n",
       "      <td>[0, 1, 0, 2, 1, 3, 2, 3, 4, 2, 4, 2, 0, 4, 0, ...</td>\n",
       "      <td>[2, 2, 2, 2, 3, 3, 3, 3, 4, 4, 4, 4, 0, 0, 0, ...</td>\n",
       "    </tr>\n",
       "    <tr>\n",
       "      <th>1</th>\n",
       "      <td>1</td>\n",
       "      <td>cube_2/2/2</td>\n",
       "      <td>[0, 1, 4, 3, 3, 1, 5, 2, 5, 0, 3, 5, 5, 1, 3, ...</td>\n",
       "      <td>[2, 2, 2, 2, 3, 3, 3, 3, 4, 4, 4, 4, 0, 0, 0, ...</td>\n",
       "    </tr>\n",
       "    <tr>\n",
       "      <th>2</th>\n",
       "      <td>2</td>\n",
       "      <td>cube_2/2/2</td>\n",
       "      <td>[1, 5, 4, 4, 5, 2, 0, 0, 3, 3, 2, 5, 1, 3, 4, ...</td>\n",
       "      <td>[2, 2, 2, 2, 3, 3, 3, 3, 4, 4, 4, 4, 0, 0, 0, ...</td>\n",
       "    </tr>\n",
       "    <tr>\n",
       "      <th>3</th>\n",
       "      <td>3</td>\n",
       "      <td>cube_2/2/2</td>\n",
       "      <td>[2, 4, 1, 4, 5, 0, 1, 0, 2, 2, 5, 2, 3, 0, 3, ...</td>\n",
       "      <td>[2, 2, 2, 2, 3, 3, 3, 3, 4, 4, 4, 4, 0, 0, 0, ...</td>\n",
       "    </tr>\n",
       "    <tr>\n",
       "      <th>4</th>\n",
       "      <td>4</td>\n",
       "      <td>cube_2/2/2</td>\n",
       "      <td>[1, 0, 1, 0, 2, 1, 5, 3, 2, 4, 5, 0, 5, 0, 4, ...</td>\n",
       "      <td>[2, 2, 2, 2, 3, 3, 3, 3, 4, 4, 4, 4, 0, 0, 0, ...</td>\n",
       "    </tr>\n",
       "  </tbody>\n",
       "</table>\n",
       "</div>"
      ],
      "text/plain": [
       "   id puzzle_type                               parsed_initial_state  \\\n",
       "0   0  cube_2/2/2  [0, 1, 0, 2, 1, 3, 2, 3, 4, 2, 4, 2, 0, 4, 0, ...   \n",
       "1   1  cube_2/2/2  [0, 1, 4, 3, 3, 1, 5, 2, 5, 0, 3, 5, 5, 1, 3, ...   \n",
       "2   2  cube_2/2/2  [1, 5, 4, 4, 5, 2, 0, 0, 3, 3, 2, 5, 1, 3, 4, ...   \n",
       "3   3  cube_2/2/2  [2, 4, 1, 4, 5, 0, 1, 0, 2, 2, 5, 2, 3, 0, 3, ...   \n",
       "4   4  cube_2/2/2  [1, 0, 1, 0, 2, 1, 5, 3, 2, 4, 5, 0, 5, 0, 4, ...   \n",
       "\n",
       "                               parsed_solution_state  \n",
       "0  [2, 2, 2, 2, 3, 3, 3, 3, 4, 4, 4, 4, 0, 0, 0, ...  \n",
       "1  [2, 2, 2, 2, 3, 3, 3, 3, 4, 4, 4, 4, 0, 0, 0, ...  \n",
       "2  [2, 2, 2, 2, 3, 3, 3, 3, 4, 4, 4, 4, 0, 0, 0, ...  \n",
       "3  [2, 2, 2, 2, 3, 3, 3, 3, 4, 4, 4, 4, 0, 0, 0, ...  \n",
       "4  [2, 2, 2, 2, 3, 3, 3, 3, 4, 4, 4, 4, 0, 0, 0, ...  "
      ]
     },
     "execution_count": 4,
     "metadata": {},
     "output_type": "execute_result"
    }
   ],
   "source": [
    "# Parsing the initial_state and solution_state columns\n",
    "# Converting the semicolon-separated string values into lists of colors\n",
    "puzzles_df['parsed_initial_state'] = puzzles_df['initial_state'].apply(lambda x: x.split(';'))\n",
    "seen = {}\n",
    "\n",
    "for i in range(len(puzzles_df['parsed_initial_state'])):\n",
    "    for j in range(len(puzzles_df['parsed_initial_state'][i])):\n",
    "        if puzzles_df['parsed_initial_state'][i][j] not in seen:\n",
    "            seen[puzzles_df['parsed_initial_state'][i][j]] = len(seen)\n",
    "        puzzles_df['parsed_initial_state'][i][j] = seen[puzzles_df['parsed_initial_state'][i][j]]\n",
    "\n",
    "puzzles_df['parsed_solution_state'] = puzzles_df['solution_state'].apply(lambda x: x.split(';'))\n",
    "\n",
    "for i in range(len(puzzles_df['parsed_solution_state'])):\n",
    "    for j in range(len(puzzles_df['parsed_solution_state'][i])):\n",
    "        puzzles_df['parsed_solution_state'][i][j] = seen[puzzles_df['parsed_solution_state'][i][j]]\n",
    "\n",
    "# Displaying the modified dataframe with parsed states\n",
    "puzzles_df[['id', 'puzzle_type', 'parsed_initial_state', 'parsed_solution_state']].head()"
   ]
  },
  {
   "cell_type": "code",
   "execution_count": 5,
   "metadata": {},
   "outputs": [
    {
     "data": {
      "text/plain": [
       "'cube_2/2/2'"
      ]
     },
     "execution_count": 5,
     "metadata": {},
     "output_type": "execute_result"
    }
   ],
   "source": [
    "import json\n",
    "\n",
    "# Converting the string representation of allowed_moves to dictionary\n",
    "puzzle_info_df['allowed_moves'] = puzzle_info_df['allowed_moves'].apply(lambda x: json.loads(x.replace(\"'\", '\"')))\n",
    "\n",
    "# Selecting an example puzzle type and displaying its allowed moves\n",
    "example_puzzle_type = puzzle_info_df['puzzle_type'].iloc[0]\n",
    "example_allowed_moves = puzzle_info_df[puzzle_info_df['puzzle_type'] == example_puzzle_type]['allowed_moves'].iloc[0]\n",
    "\n",
    "example_puzzle_type"
   ]
  },
  {
   "cell_type": "code",
   "execution_count": 6,
   "metadata": {},
   "outputs": [],
   "source": [
    "def getInversePerm(arr):\n",
    "    # gets the inverse move for a certain move\n",
    "    res = [0 for i in range(len(arr))]\n",
    "    for i in range(len(arr)):\n",
    "        res[arr[i]] = i\n",
    "    return res\n",
    "    \n",
    "# type : (np.array(move_perm_i), np.array(name_i))\n",
    "puz_info = {}\n",
    "\n",
    "# type : {move : perm}\n",
    "move_to_perm = {}\n",
    "\n",
    "for i in range(len(puzzle_info_df)):\n",
    "    puz_info[puzzle_info_df['puzzle_type'][i]] = [[], []]\n",
    "    move_to_perm[puzzle_info_df['puzzle_type'][i]] = {}\n",
    "    \n",
    "    for j in puzzle_info_df['allowed_moves'][i].keys():\n",
    "        puz_info[puzzle_info_df['puzzle_type'][i]][1].append(j)\n",
    "        puz_info[puzzle_info_df['puzzle_type'][i]][0].append(np.array(puzzle_info_df['allowed_moves'][i][j]))\n",
    "\n",
    "        puz_info[puzzle_info_df['puzzle_type'][i]][1].append(str('-' + j)) # might be the opposite\n",
    "        puz_info[puzzle_info_df['puzzle_type'][i]][0].append(np.array(getInversePerm(puzzle_info_df['allowed_moves'][i][j])))\n",
    "\n",
    "        move_to_perm[puzzle_info_df['puzzle_type'][i]][str('-' + j)] = np.array(getInversePerm(puzzle_info_df['allowed_moves'][i][j]))\n",
    "        move_to_perm[puzzle_info_df['puzzle_type'][i]][j] = np.array(puzzle_info_df['allowed_moves'][i][j])\n",
    "\n",
    "# move_to_perm['cube_2/2/2']"
   ]
  },
  {
   "cell_type": "code",
   "execution_count": 7,
   "metadata": {},
   "outputs": [
    {
     "data": {
      "text/html": [
       "<div>\n",
       "<style scoped>\n",
       "    .dataframe tbody tr th:only-of-type {\n",
       "        vertical-align: middle;\n",
       "    }\n",
       "\n",
       "    .dataframe tbody tr th {\n",
       "        vertical-align: top;\n",
       "    }\n",
       "\n",
       "    .dataframe thead th {\n",
       "        text-align: right;\n",
       "    }\n",
       "</style>\n",
       "<table border=\"1\" class=\"dataframe\">\n",
       "  <thead>\n",
       "    <tr style=\"text-align: right;\">\n",
       "      <th></th>\n",
       "      <th>id</th>\n",
       "      <th>moves</th>\n",
       "    </tr>\n",
       "  </thead>\n",
       "  <tbody>\n",
       "    <tr>\n",
       "      <th>0</th>\n",
       "      <td>0</td>\n",
       "      <td>r1.-f1</td>\n",
       "    </tr>\n",
       "    <tr>\n",
       "      <th>1</th>\n",
       "      <td>1</td>\n",
       "      <td>f1.d0.-r0.-f1.-d0.-f1.d0.-r0.f0.-f1.-r0.f1.-d1...</td>\n",
       "    </tr>\n",
       "    <tr>\n",
       "      <th>2</th>\n",
       "      <td>2</td>\n",
       "      <td>f1.d0.-d1.r0.-d1.-f0.f1.-r0.-f0.-r1.-f0.r0.-d0...</td>\n",
       "    </tr>\n",
       "    <tr>\n",
       "      <th>3</th>\n",
       "      <td>3</td>\n",
       "      <td>-f0.-r0.-f0.-d0.-f0.f1.r0.-d1.-r0.-r1.-r0.-f1....</td>\n",
       "    </tr>\n",
       "    <tr>\n",
       "      <th>4</th>\n",
       "      <td>4</td>\n",
       "      <td>d1.-f1.d1.r1.-f0.d1.-d0.-r1.d1.d1.-f1.d1.-d0.-...</td>\n",
       "    </tr>\n",
       "    <tr>\n",
       "      <th>...</th>\n",
       "      <td>...</td>\n",
       "      <td>...</td>\n",
       "    </tr>\n",
       "    <tr>\n",
       "      <th>393</th>\n",
       "      <td>393</td>\n",
       "      <td>f19.f21.-f39.f20.f2.-f5.f7.-r3.f55.-f12.f65.-f...</td>\n",
       "    </tr>\n",
       "    <tr>\n",
       "      <th>394</th>\n",
       "      <td>394</td>\n",
       "      <td>-f31.-f22.f16.-f17.-f13.-f24.-f14.f2.f21.f44.f...</td>\n",
       "    </tr>\n",
       "    <tr>\n",
       "      <th>395</th>\n",
       "      <td>395</td>\n",
       "      <td>-r0.-f42.-f8.f16.-f49.f14.-f1.f56.f26.f35.f62....</td>\n",
       "    </tr>\n",
       "    <tr>\n",
       "      <th>396</th>\n",
       "      <td>396</td>\n",
       "      <td>f25.-f29.f46.f49.-f8.f27.f26.-f20.f2.-f20.f6.f...</td>\n",
       "    </tr>\n",
       "    <tr>\n",
       "      <th>397</th>\n",
       "      <td>397</td>\n",
       "      <td>-r1.f23.-f24.-r2.f30.f30.f38.-f19.f24.f19.f18....</td>\n",
       "    </tr>\n",
       "  </tbody>\n",
       "</table>\n",
       "<p>398 rows × 2 columns</p>\n",
       "</div>"
      ],
      "text/plain": [
       "      id                                              moves\n",
       "0      0                                             r1.-f1\n",
       "1      1  f1.d0.-r0.-f1.-d0.-f1.d0.-r0.f0.-f1.-r0.f1.-d1...\n",
       "2      2  f1.d0.-d1.r0.-d1.-f0.f1.-r0.-f0.-r1.-f0.r0.-d0...\n",
       "3      3  -f0.-r0.-f0.-d0.-f0.f1.r0.-d1.-r0.-r1.-r0.-f1....\n",
       "4      4  d1.-f1.d1.r1.-f0.d1.-d0.-r1.d1.d1.-f1.d1.-d0.-...\n",
       "..   ...                                                ...\n",
       "393  393  f19.f21.-f39.f20.f2.-f5.f7.-r3.f55.-f12.f65.-f...\n",
       "394  394  -f31.-f22.f16.-f17.-f13.-f24.-f14.f2.f21.f44.f...\n",
       "395  395  -r0.-f42.-f8.f16.-f49.f14.-f1.f56.f26.f35.f62....\n",
       "396  396  f25.-f29.f46.f49.-f8.f27.f26.-f20.f2.-f20.f6.f...\n",
       "397  397  -r1.f23.-f24.-r2.f30.f30.f38.-f19.f24.f19.f18....\n",
       "\n",
       "[398 rows x 2 columns]"
      ]
     },
     "execution_count": 7,
     "metadata": {},
     "output_type": "execute_result"
    }
   ],
   "source": [
    "# optimize reference solution\n",
    "reference_solution = pd.read_csv(sample_submission_path)\n",
    "reference_solution"
   ]
  },
  {
   "cell_type": "code",
   "execution_count": 8,
   "metadata": {},
   "outputs": [],
   "source": [
    "# import random\n",
    "# from tqdm import tqdm\n",
    "\n",
    "# class Node:\n",
    "#     def __init__(self, state, parent=None, move=None):\n",
    "#         self.state = state\n",
    "#         self.parent = parent\n",
    "#         self.move = move\n",
    "#         self.children = []\n",
    "#         self.wins = 0\n",
    "#         self.visits = 0\n",
    "#         self.untried_moves = get_possible_moves(state)\n",
    "\n",
    "#     def select_child(self):\n",
    "#         # UCB1 formula for child selection\n",
    "#         return max(self.children, key=lambda c: c.wins / c.visits + math.sqrt(2 * math.log(self.visits) / c.visits))\n",
    "\n",
    "#     def add_child(self, move, state):\n",
    "#         # Add a new child node for this move\n",
    "#         child_node = Node(state=state, parent=self, move=move)\n",
    "#         self.untried_moves.remove(move)\n",
    "#         self.children.append(child_node)\n",
    "#         return child_node\n",
    "\n",
    "#     def update(self, result):\n",
    "#         # Update this node with the simulation result\n",
    "#         self.visits += 1\n",
    "#         self.wins += result\n",
    "\n",
    "# def get_possible_moves(state):\n",
    "#     # Assuming move_perm is a global variable defining permutations for moves\n",
    "#     return list(range(len(move_perm)))\n",
    "\n",
    "# def apply_move(state, move_index):\n",
    "#     # Apply the permutation defined by move_perm[move_index] to state\n",
    "#     return state[move_perm[move_index]]\n",
    "\n",
    "# def is_terminal(state, goal_state, max_dist):\n",
    "#     # Check if the state is within max_dist of the goal state\n",
    "#     return np.sum(state != goal_state) <= max_dist\n",
    "\n",
    "# def monte_carlo_tree_search(idx, number_of_simulations=1000):\n",
    "#     global puzzles_df, puz_info, move_perm\n",
    "\n",
    "#     initial_state = np.array(puzzles_df['parsed_initial_state'][idx])\n",
    "#     goal_state = np.array(puzzles_df['parsed_solution_state'][idx])\n",
    "#     max_dist = puzzles_df['num_wildcards'][idx]\n",
    "#     move_perm = np.array(puz_info[puzzles_df['puzzle_type'][idx]][0])\n",
    "\n",
    "#     root = Node(state=initial_state)\n",
    "\n",
    "#     for _ in tqdm(range(number_of_simulations)):\n",
    "#         node = root\n",
    "#         state = initial_state.copy()\n",
    "\n",
    "#         # Selection\n",
    "#         while node.untried_moves == [] and node.children != []:\n",
    "#             node = node.select_child()\n",
    "#             state = apply_move(state, node.move)\n",
    "\n",
    "#         # Expansion\n",
    "#         if node.untried_moves != []:\n",
    "#             move = random.choice(node.untried_moves)\n",
    "#             state = apply_move(state, move)\n",
    "#             node = node.add_child(move, state)\n",
    "\n",
    "#         # Simulation\n",
    "#         while not is_terminal(state, goal_state, max_dist):\n",
    "#             move = random.choice(get_possible_moves(state))\n",
    "#             state = apply_move(state, move)\n",
    "\n",
    "#         # Backpropagation\n",
    "#         simulation_result = 1 if is_terminal(state, goal_state, max_dist) else 0\n",
    "#         while node is not None:\n",
    "#             node.update(simulation_result)\n",
    "#             node = node.parent\n",
    "\n",
    "#     # Return the move that leads to the best node\n",
    "#     best_move = sorted(root.children, key=lambda c: c.visits)[-1].move\n",
    "#     return best_move\n",
    "\n",
    "# # Example usage:\n",
    "# idx = 0  # Puzzle index\n",
    "# best_move = monte_carlo_tree_search(idx)"
   ]
  },
  {
   "cell_type": "code",
   "execution_count": 9,
   "metadata": {},
   "outputs": [],
   "source": [
    "@jit(nopython=True, parallel = True, fastmath = True)\n",
    "def hash_perm(perm):\n",
    "    base = 9973\n",
    "    modb = 1000000007\n",
    "    modc = 1000000009\n",
    "\n",
    "    B, C = 0, 0\n",
    "    for i in perm:\n",
    "        B = (B * base) % modb + i\n",
    "        C = (C * base) % modc + i\n",
    "\n",
    "    return (B, C)\n",
    "\n",
    "def dist(a, b):\n",
    "    return np.count_nonzero(a != b)"
   ]
  },
  {
   "cell_type": "code",
   "execution_count": 10,
   "metadata": {},
   "outputs": [
    {
     "name": "stdout",
     "output_type": "stream",
     "text": [
      "[0 0 0 ... 0 0 0]\n"
     ]
    }
   ],
   "source": [
    "# 1e6 ~ 2 seconds\n",
    "mx_mem = int(1e7)\n",
    "mem_idx = 0\n",
    "\n",
    "last_state = np.zeros(mx_mem, dtype=int)\n",
    "last_move = np.zeros(mx_mem, dtype=int)\n",
    "\n",
    "print(last_state)"
   ]
  },
  {
   "cell_type": "code",
   "execution_count": null,
   "metadata": {},
   "outputs": [
    {
     "name": "stdout",
     "output_type": "stream",
     "text": [
      "42\n",
      "38\n",
      "36\n",
      "35\n",
      "33\n",
      "32\n",
      "29\n",
      "28\n",
      "27\n",
      "26\n",
      "25\n",
      "24\n",
      "23\n",
      "22\n",
      "21\n",
      "20\n",
      "19\n",
      "16\n",
      "15\n",
      "13\n",
      "12\n",
      "11\n",
      "10\n",
      "8\n",
      "6\n"
     ]
    }
   ],
   "source": [
    "%%time\n",
    "\n",
    "test10 = []\n",
    "test30 = []\n",
    "test50 = []\n",
    "test70 = []\n",
    "pq = []\n",
    "improvements = []\n",
    "\n",
    "def a_star_search(idx):\n",
    "    global mem_idx\n",
    "    \n",
    "    initial_state = np.array(puzzles_df['parsed_initial_state'][idx])\n",
    "    goal_state = np.array(puzzles_df['parsed_solution_state'][idx])\n",
    "    max_dist = puzzles_df['num_wildcards'][idx]\n",
    "    move_perm = np.array(puz_info[puzzles_df['puzzle_type'][idx]][0])\n",
    "\n",
    "    n = len(initial_state)\n",
    "    m = len(move_perm)\n",
    "\n",
    "    # Pruning 1: Over the entire tree, what is the average dist for path length? \n",
    "    # We make a branch dead if it's a lot worse than other branches of same length\n",
    "    # -> don't consider branch in the first place\n",
    "\n",
    "    # TODO: Implement a \"momentum\" modifier --> the more time a path \"beats out\" avg_dist in upd_prune, the more momentum it gathers, \n",
    "    # making it more likely to be picked next (so lower priority)\n",
    "\n",
    "    avg_dist = np.array([n + 1 for i in range(500 * n)], dtype = np.float32)\n",
    "    mx_dist = np.array([-1 for i in range(500 * n)]) # must ensure no outliers skew max/min -> follows guassian?\n",
    "    n_dist = np.array([0 for i in range(500 * n)])\n",
    "\n",
    "    #don't update avg every other time when its below\n",
    "    def upd_prune(nxt_p, nxt_dist):\n",
    "        if n_dist[nxt_p] == 0:\n",
    "            # mx_dist[nxt_p], avg_dist[nxt_p] = nxt_dist, nxt_dist\n",
    "            avg_dist[nxt_p] = nxt_dist\n",
    "            n_dist[nxt_p] = 1\n",
    "            return True\n",
    "\n",
    "        if n_dist[nxt_p] > 500: #min samples needed to start pruning\n",
    "            if nxt_dist > avg_dist[nxt_p]:\n",
    "                return False\n",
    "            # P = 1 - (nxt_dist - avg_dist[nxt_p]) / (mx_dist[nxt_p] - avg_dist[nxt_p]) * 100\n",
    "            # if np.random.rand() > P:\n",
    "            #     return False\n",
    "\n",
    "        if nxt_p == 10:\n",
    "            test10.append((nxt_dist, mem_idx))\n",
    "        if nxt_p == 50:\n",
    "            test50.append((nxt_dist, mem_idx))\n",
    "        if nxt_p == 30:\n",
    "            test30.append((nxt_dist, mem_idx))\n",
    "        if nxt_p == 70:\n",
    "            test70.append((nxt_dist, mem_idx))\n",
    "        \n",
    "        # mx_dist[nxt_p] = max(mx_dist[nxt_p], nxt_dist)\n",
    "        avg_dist[nxt_p] *= n_dist[nxt_p] / (n_dist[nxt_p] + 1)\n",
    "        avg_dist[nxt_p] += nxt_dist / (n_dist[nxt_p] + 1)\n",
    "        n_dist[nxt_p] += 1\n",
    "        return True\n",
    "    \n",
    "    # Pruning 2: as tree grows larger, we want to be more selective about the paths we chose --> exponential fall-off\n",
    "    # We don't want to be stuck explore paths of length 2 - 3 if our deepest path is already 10+\n",
    "    # Even if there is a better path of length 2 - 3, it's unlikely to ever be explored anyways at that point\n",
    "    # Temporary solution: above 30% of max_length -> automatically ok, otherwise, linearly decrease chosen probability\n",
    "    # Depends a lot on the type of puzzles (# of branches per node)\n",
    "\n",
    "    mx_len = 0\n",
    "    \n",
    "    # Let's make 1 & 2 have a multiplicative effect\n",
    "\n",
    "    # Edge-reduce 3: artificially reduce the number of edges per node\n",
    "    # Some valid out going edges are worse than others.\n",
    "    # Get rid of the ones that are significantly worse\n",
    "    \n",
    "    # pq = []\n",
    "    heapq.heappush(pq, (0, mem_idx, initial_state, 0))  # (priority, mem_idx, state, path_length)\n",
    "    mem_idx += 1\n",
    "\n",
    "    pruned_branch = 0\n",
    "    \n",
    "    best_so_far = 1e18\n",
    "    S = time.time()\n",
    "    considered = set()\n",
    "    considered.add(hash_perm(initial_state))\n",
    "    while mem_idx + m < mx_mem:\n",
    "        cur_p_plus_dist, cur_idx, cur_state, cur_p = heapq.heappop(pq) \n",
    "        cur_dist = cur_p_plus_dist - cur_p\n",
    "\n",
    "        # experimentation taught me to not put stuff here... everything in heap is already a carefully selected \"ok\" branch\n",
    "        # if mx_len > 50 and np.random.rand() > 1 + cur_p / mx_len - 0.3: # Pruning 2 (too risky) --> missing results in HUGE penalty\n",
    "        #     pruned_branch += 1\n",
    "        #     continue\n",
    "\n",
    "        mx_len = max(mx_len, cur_p + 1)\n",
    "\n",
    "        # all_outs = []\n",
    "        \n",
    "        for i in range(m):\n",
    "            nxt_state = cur_state[move_perm[i]]\n",
    "            nxt_hash = hash_perm(nxt_state)\n",
    "            nxt_p = 1 + cur_p\n",
    "\n",
    "            nxt_dist = dist(nxt_state, goal_state)\n",
    "            \n",
    "            # Pruning 1 Start\n",
    "            ok = upd_prune(nxt_p, nxt_dist)\n",
    "            if not ok:\n",
    "                pruned_branch += 1\n",
    "                continue\n",
    "            # Pruning 1 End\n",
    "\n",
    "            # if mx_len > 20 and np.random.rand() > 1 + nxt_p / mx_len - 0.3: # Pruning 2 (too risky) --> missing results in HUGE penalty\n",
    "            #     pruned_branch += 1\n",
    "            #     continue\n",
    "\n",
    "            if nxt_hash in considered:\n",
    "                continue\n",
    "            considered.add(nxt_hash)\n",
    "\n",
    "            if nxt_dist < best_so_far:\n",
    "                improvements.append((time.time() - S, nxt_dist))\n",
    "                print(nxt_dist)\n",
    "                best_so_far = nxt_dist\n",
    "\n",
    "        # edge reduce 3 Start: <-- Doesn't work atm, makes thigns slower only\n",
    "            \n",
    "        #     all_outs.append((nxt_dist, nxt_hash, nxt_state))\n",
    "\n",
    "        # all_outs = list(sorted(all_outs))\n",
    "        # print(all_outs)\n",
    "        \n",
    "        # for i in range(int(0.9 * len(all_outs))):\n",
    "        #     nxt_dist, nxt_hash, nxt_state = all_outs[i]\n",
    "        #     nxt_p = 1 + cur_p\n",
    "\n",
    "        # edge reduce 3 End:\n",
    "            \n",
    "            last_state[mem_idx] = cur_idx\n",
    "            last_move[mem_idx] = i\n",
    "\n",
    "            if nxt_dist <= max_dist:\n",
    "                print(\"Number of pruned branches\", pruned_branch)\n",
    "                print(\"Final length\", cur_p)\n",
    "                print(\"Final Dist\", nxt_dist)\n",
    "                \n",
    "                return mem_idx\n",
    "            \n",
    "            priority = nxt_p + nxt_dist\n",
    "            heapq.heappush(pq, (priority, mem_idx, nxt_state, 1+cur_p))\n",
    "            mem_idx += 1\n",
    "    return None\n",
    "\n",
    "mem_idx = 0\n",
    "# cProfile.run('a_star_search(30)')\n",
    "# print(puzzles_df['puzzle_type'][3])\n",
    "print(a_star_search(30))\n",
    "\n",
    "# cProfile.run('a_star_search(29)')\n",
    "\n",
    "# 4.1, 6.57\n",
    "# 4.01, 6.smth, "
   ]
  },
  {
   "cell_type": "code",
   "execution_count": 231,
   "metadata": {},
   "outputs": [
    {
     "name": "stdout",
     "output_type": "stream",
     "text": [
      "4571\n"
     ]
    },
    {
     "data": {
      "text/plain": [
       "(array([ 188.,  173.,  318.,  368.,  412., 1070.,  736.,  600.,  561.,\n",
       "         145.]),\n",
       " array([1383. , 1384.2, 1385.4, 1386.6, 1387.8, 1389. , 1390.2, 1391.4,\n",
       "        1392.6, 1393.8, 1395. ]),\n",
       " <BarContainer object of 10 artists>)"
      ]
     },
     "execution_count": 231,
     "metadata": {},
     "output_type": "execute_result"
    },
    {
     "data": {
      "image/png": "[encoded data removed]",
      "text/plain": [
       "<Figure size 640x480 with 1 Axes>"
      ]
     },
     "metadata": {},
     "output_type": "display_data"
    }
   ],
   "source": [
    "print(len(pq))\n",
    "\n",
    "fringe_lengths = [] # all path lengths on fringe\n",
    "for j in pq:\n",
    "    fringe_lengths.append(j[3])\n",
    "\n",
    "plt.hist(fringe_lengths)"
   ]
  },
  {
   "cell_type": "code",
   "execution_count": 232,
   "metadata": {},
   "outputs": [
    {
     "name": "stdout",
     "output_type": "stream",
     "text": [
      "For path length 10, distribution of distances\n",
      "12842\n"
     ]
    },
    {
     "data": {
      "text/plain": [
       "(array([  15.,   96.,  827., 3563., 6138., 1653.,  298.,  135.,   89.,\n",
       "          28.]),\n",
       " array([20. , 21.9, 23.8, 25.7, 27.6, 29.5, 31.4, 33.3, 35.2, 37.1, 39. ]),\n",
       " <BarContainer object of 10 artists>)"
      ]
     },
     "execution_count": 232,
     "metadata": {},
     "output_type": "execute_result"
    },
    {
     "data": {
      "image/png": "[encoded data removed]",
      "text/plain": [
       "<Figure size 640x480 with 1 Axes>"
      ]
     },
     "metadata": {},
     "output_type": "display_data"
    }
   ],
   "source": [
    "print(\"For path length 10, distribution of distances\")\n",
    "print(len(test10))\n",
    "temp = []\n",
    "for i in test10:\n",
    "    temp.append(i[0])\n",
    "plt.hist(temp)"
   ]
  },
  {
   "cell_type": "code",
   "execution_count": 233,
   "metadata": {},
   "outputs": [
    {
     "name": "stdout",
     "output_type": "stream",
     "text": [
      "For path length 10, distribution of times (where we changed the average)\n",
      "12842\n"
     ]
    },
    {
     "data": {
      "text/plain": [
       "(array([1513.,  648., 1079., 1144., 1752., 1681., 1613., 1157.,  769.,\n",
       "        1486.]),\n",
       " array([   296. ,  10795.4,  21294.8,  31794.2,  42293.6,  52793. ,\n",
       "         63292.4,  73791.8,  84291.2,  94790.6, 105290. ]),\n",
       " <BarContainer object of 10 artists>)"
      ]
     },
     "execution_count": 233,
     "metadata": {},
     "output_type": "execute_result"
    },
    {
     "data": {
      "image/png": "[encoded data removed]",
      "text/plain": [
       "<Figure size 640x480 with 1 Axes>"
      ]
     },
     "metadata": {},
     "output_type": "display_data"
    }
   ],
   "source": [
    "print(\"For path length 10, distribution of times (where we changed the average)\")\n",
    "print(len(test10))\n",
    "temp = []\n",
    "for i in test10:\n",
    "    temp.append(i[1])\n",
    "plt.hist(temp)"
   ]
  },
  {
   "cell_type": "code",
   "execution_count": 234,
   "metadata": {},
   "outputs": [
    {
     "name": "stdout",
     "output_type": "stream",
     "text": [
      "2683\n"
     ]
    },
    {
     "data": {
      "text/plain": [
       "(array([125., 489., 454., 403.,  78., 487., 279., 221.,  62.,  85.]),\n",
       " array([ 89644. ,  92267.4,  94890.8,  97514.2, 100137.6, 102761. ,\n",
       "        105384.4, 108007.8, 110631.2, 113254.6, 115878. ]),\n",
       " <BarContainer object of 10 artists>)"
      ]
     },
     "execution_count": 234,
     "metadata": {},
     "output_type": "execute_result"
    },
    {
     "data": {
      "image/png": "[encoded data removed]",
      "text/plain": [
       "<Figure size 640x480 with 1 Axes>"
      ]
     },
     "metadata": {},
     "output_type": "display_data"
    }
   ],
   "source": [
    "print(len(test30))\n",
    "temp = []\n",
    "for i in test30:\n",
    "    temp.append(i[1])\n",
    "plt.hist(temp)"
   ]
  },
  {
   "cell_type": "code",
   "execution_count": 235,
   "metadata": {},
   "outputs": [
    {
     "name": "stdout",
     "output_type": "stream",
     "text": [
      "2591\n"
     ]
    }
   ],
   "source": [
    "print(len(test50))"
   ]
  },
  {
   "cell_type": "code",
   "execution_count": 236,
   "metadata": {},
   "outputs": [
    {
     "name": "stdout",
     "output_type": "stream",
     "text": [
      "2591\n"
     ]
    },
    {
     "data": {
      "text/plain": [
       "(array([197., 685., 614., 564.,  94.,  74., 150.,  87.,  77.,  49.]),\n",
       " array([123612. , 125266.4, 126920.8, 128575.2, 130229.6, 131884. ,\n",
       "        133538.4, 135192.8, 136847.2, 138501.6, 140156. ]),\n",
       " <BarContainer object of 10 artists>)"
      ]
     },
     "execution_count": 236,
     "metadata": {},
     "output_type": "execute_result"
    },
    {
     "data": {
      "image/png": "[encoded data removed]",
      "text/plain": [
       "<Figure size 640x480 with 1 Axes>"
      ]
     },
     "metadata": {},
     "output_type": "display_data"
    }
   ],
   "source": [
    "print(len(test50))\n",
    "temp = []\n",
    "for i in test50:\n",
    "    temp.append(i[1])\n",
    "plt.hist(temp)"
   ]
  },
  {
   "cell_type": "code",
   "execution_count": 237,
   "metadata": {},
   "outputs": [
    {
     "name": "stdout",
     "output_type": "stream",
     "text": [
      "2930\n"
     ]
    }
   ],
   "source": [
    "print(len(test70))"
   ]
  },
  {
   "cell_type": "code",
   "execution_count": 238,
   "metadata": {},
   "outputs": [
    {
     "name": "stdout",
     "output_type": "stream",
     "text": [
      "2930\n"
     ]
    },
    {
     "data": {
      "text/plain": [
       "(array([535., 738., 662., 366., 136., 163.,  69.,  99.,  93.,  69.]),\n",
       " array([148928. , 150671.1, 152414.2, 154157.3, 155900.4, 157643.5,\n",
       "        159386.6, 161129.7, 162872.8, 164615.9, 166359. ]),\n",
       " <BarContainer object of 10 artists>)"
      ]
     },
     "execution_count": 238,
     "metadata": {},
     "output_type": "execute_result"
    },
    {
     "data": {
      "image/png": "[encoded data removed]",
      "text/plain": [
       "<Figure size 640x480 with 1 Axes>"
      ]
     },
     "metadata": {},
     "output_type": "display_data"
    }
   ],
   "source": [
    "print(len(test70))\n",
    "temp = []\n",
    "for i in test70:\n",
    "    temp.append(i[1])\n",
    "plt.hist(temp)"
   ]
  },
  {
   "cell_type": "code",
   "execution_count": 240,
   "metadata": {},
   "outputs": [
    {
     "name": "stdout",
     "output_type": "stream",
     "text": [
      "1\n"
     ]
    }
   ],
   "source": [
    "print(len(improvements))"
   ]
  },
  {
   "cell_type": "code",
   "execution_count": 166,
   "metadata": {},
   "outputs": [
    {
     "ename": "ValueError",
     "evalue": "The truth value of an array with more than one element is ambiguous. Use a.any() or a.all()",
     "output_type": "error",
     "traceback": [
      "\u001b[0;31m---------------------------------------------------------------------------\u001b[0m",
      "\u001b[0;31mValueError\u001b[0m                                Traceback (most recent call last)",
      "File \u001b[0;32m<timed exec>:28\u001b[0m\n",
      "File \u001b[0;32m<timed exec>:17\u001b[0m, in \u001b[0;36msolve\u001b[0;34m(idx)\u001b[0m\n",
      "File \u001b[0;32m<timed exec>:79\u001b[0m, in \u001b[0;36ma_star_search\u001b[0;34m(idx)\u001b[0m\n",
      "\u001b[0;31mValueError\u001b[0m: The truth value of an array with more than one element is ambiguous. Use a.any() or a.all()"
     ]
    }
   ],
   "source": [
    "%%time\n",
    "def dig_through_memory(idx):\n",
    "    res = []\n",
    "    while idx != 0:\n",
    "        res.append(last_move[idx])\n",
    "        idx = last_state[idx]\n",
    "\n",
    "    res = list(reversed(res))\n",
    "    return res\n",
    "\n",
    "def solve(idx):\n",
    "    global mem_idx\n",
    "    \n",
    "    mem_idx = 0\n",
    "    \n",
    "    move_name = np.array(puz_info[puzzles_df['puzzle_type'][idx]][1])\n",
    "\n",
    "    res = a_star_search(idx)\n",
    "    \n",
    "    if res == None:\n",
    "        return None\n",
    "\n",
    "    res = dig_through_memory(res)\n",
    "    for i in range(len(res)):\n",
    "        res[i] = move_name[res[i]]\n",
    "\n",
    "    return res\n",
    "\n",
    "A = solve(30)\n",
    "A"
   ]
  },
  {
   "cell_type": "code",
   "execution_count": 15,
   "metadata": {},
   "outputs": [
    {
     "data": {
      "text/plain": [
       "[<matplotlib.lines.Line2D at 0x41d3e1610>]"
      ]
     },
     "execution_count": 15,
     "metadata": {},
     "output_type": "execute_result"
    },
    {
     "data": {
      "image/png": "[encoded data removed]",
      "text/plain": [
       "<Figure size 640x480 with 1 Axes>"
      ]
     },
     "metadata": {},
     "output_type": "display_data"
    }
   ],
   "source": [
    "\n",
    "ys = [i for i in range(10)]\n",
    "plt.plot(xs, ys)"
   ]
  },
  {
   "cell_type": "markdown",
   "metadata": {},
   "source": [
    "# Step 6: Build submission format function"
   ]
  },
  {
   "cell_type": "code",
   "execution_count": 28,
   "metadata": {},
   "outputs": [],
   "source": [
    "def format_solution_for_submission(puzzle_id, solution_moves):\n",
    "    \"\"\"\n",
    "    Format the solution to a puzzle for submission.\n",
    "\n",
    "    :param puzzle_id: The unique identifier of the puzzle.\n",
    "    :param solution_moves: List of tuples representing the solution moves.\n",
    "    :return: Formatted string suitable for submission.\n",
    "    \"\"\"\n",
    "    formatted_moves = []\n",
    "    for move in solution_moves:\n",
    "        formatted_moves.append(move)\n",
    "\n",
    "    # Joining the moves into a single string separated by periods\n",
    "    return {'id': puzzle_id, 'moves': '.'.join(formatted_moves)}\n"
   ]
  },
  {
   "cell_type": "markdown",
   "metadata": {},
   "source": [
    "# Step 7: Define solve function"
   ]
  },
  {
   "cell_type": "code",
   "execution_count": 29,
   "metadata": {},
   "outputs": [
    {
     "name": "stderr",
     "output_type": "stream",
     "text": [
      "  0%|                                                   | 0/398 [00:00<?, ?it/s]"
     ]
    },
    {
     "name": "stdout",
     "output_type": "stream",
     "text": [
      "OK : 0 16\n",
      "num [6, 3]\n",
      "OK : 1 13131\n",
      "num [0, 6, 2, 9, 9, 2, 9, 3, 8]\n"
     ]
    },
    {
     "name": "stderr",
     "output_type": "stream",
     "text": [
      "  1%|▎                                          | 3/398 [00:01<03:15,  2.02it/s]"
     ]
    },
    {
     "name": "stdout",
     "output_type": "stream",
     "text": [
      "OK : 2 776542\n",
      "num [3, 5, 1, 7, 1, 8, 7, 9, 0, 8, 8, 1]\n"
     ]
    },
    {
     "name": "stderr",
     "output_type": "stream",
     "text": [
      "  1%|▎                                          | 3/398 [00:02<05:00,  1.31it/s]\n"
     ]
    },
    {
     "ename": "KeyboardInterrupt",
     "evalue": "",
     "output_type": "error",
     "traceback": [
      "\u001b[0;31m---------------------------------------------------------------------------\u001b[0m",
      "\u001b[0;31mKeyboardInterrupt\u001b[0m                         Traceback (most recent call last)",
      "Cell \u001b[0;32mIn[29], line 7\u001b[0m\n\u001b[1;32m      4\u001b[0m res_df \u001b[38;5;241m=\u001b[39m []\n\u001b[1;32m      6\u001b[0m \u001b[38;5;28;01mfor\u001b[39;00m i \u001b[38;5;129;01min\u001b[39;00m tqdm(\u001b[38;5;28mrange\u001b[39m(\u001b[38;5;28mlen\u001b[39m(puzzles_df))):\n\u001b[0;32m----> 7\u001b[0m     res \u001b[38;5;241m=\u001b[39m \u001b[43msolve\u001b[49m\u001b[43m(\u001b[49m\u001b[43mi\u001b[49m\u001b[43m)\u001b[49m\n\u001b[1;32m      8\u001b[0m     \u001b[38;5;66;03m# print(res)\u001b[39;00m\n\u001b[1;32m      9\u001b[0m     \u001b[38;5;28;01mif\u001b[39;00m res \u001b[38;5;241m==\u001b[39m \u001b[38;5;28;01mNone\u001b[39;00m:\n",
      "Cell \u001b[0;32mIn[27], line 17\u001b[0m, in \u001b[0;36msolve\u001b[0;34m(idx)\u001b[0m\n\u001b[1;32m     13\u001b[0m mem_idx \u001b[38;5;241m=\u001b[39m \u001b[38;5;241m0\u001b[39m\n\u001b[1;32m     15\u001b[0m move_name \u001b[38;5;241m=\u001b[39m np\u001b[38;5;241m.\u001b[39marray(puz_info[puzzles_df[\u001b[38;5;124m'\u001b[39m\u001b[38;5;124mpuzzle_type\u001b[39m\u001b[38;5;124m'\u001b[39m][idx]][\u001b[38;5;241m1\u001b[39m])\n\u001b[0;32m---> 17\u001b[0m res \u001b[38;5;241m=\u001b[39m \u001b[43ma_star_search\u001b[49m\u001b[43m(\u001b[49m\u001b[43midx\u001b[49m\u001b[43m)\u001b[49m\n\u001b[1;32m     19\u001b[0m \u001b[38;5;28;01mif\u001b[39;00m res \u001b[38;5;241m==\u001b[39m \u001b[38;5;28;01mNone\u001b[39;00m:\n\u001b[1;32m     20\u001b[0m     \u001b[38;5;28;01mreturn\u001b[39;00m sample_submission_df[\u001b[38;5;124m'\u001b[39m\u001b[38;5;124mmoves\u001b[39m\u001b[38;5;124m'\u001b[39m][idx]\n",
      "File \u001b[0;32m<timed exec>:29\u001b[0m, in \u001b[0;36ma_star_search\u001b[0;34m(idx)\u001b[0m\n",
      "\u001b[0;31mKeyboardInterrupt\u001b[0m: "
     ]
    }
   ],
   "source": [
    "from tqdm import tqdm\n",
    "\n",
    "all_ok = []\n",
    "res_df = []\n",
    "\n",
    "for i in tqdm(range(len(puzzles_df))):\n",
    "    res = solve(i)\n",
    "    # print(res)\n",
    "    if res == None:\n",
    "        res = format_solution_for_submission(i, sample_submission_df['moves'][i].split('.'))\n",
    "    else:\n",
    "        all_ok.append(i)\n",
    "        res = format_solution_for_submission(i, res)\n",
    "    res_df.append(res)"
   ]
  },
  {
   "cell_type": "code",
   "execution_count": null,
   "metadata": {},
   "outputs": [],
   "source": [
    "for i in tqdm(range(len(res_df), len(puzzles_df))):\n",
    "    res = None\n",
    "    # print(res)\n",
    "    if res == None:\n",
    "        res = format_solution_for_submission(i, sample_submission_df['moves'][i].split('.'))\n",
    "    else:\n",
    "        all_ok.append(i)\n",
    "        res = format_solution_for_submission(i, res)\n",
    "    res_df.append(res)"
   ]
  },
  {
   "cell_type": "code",
   "execution_count": null,
   "metadata": {},
   "outputs": [],
   "source": [
    "print(all_ok)"
   ]
  },
  {
   "cell_type": "code",
   "execution_count": null,
   "metadata": {},
   "outputs": [],
   "source": [
    "res_df = pd.DataFrame(res_df)\n",
    "res_df"
   ]
  },
  {
   "cell_type": "markdown",
   "metadata": {},
   "source": [
    "# Step 9: Save submission"
   ]
  },
  {
   "cell_type": "code",
   "execution_count": null,
   "metadata": {},
   "outputs": [],
   "source": [
    "# Define the file path for the output CSV file\n",
    "output_csv_path = 'submission.csv'\n",
    "\n",
    "# Save the output DataFrame to a CSV file\n",
    "res_df.to_csv(output_csv_path, index=False)\n",
    "\n",
    "# Return the path of the saved file\n",
    "output_csv_path"
   ]
  },
  {
   "cell_type": "code",
   "execution_count": null,
   "metadata": {},
   "outputs": [],
   "source": []
  },
  {
   "cell_type": "code",
   "execution_count": null,
   "metadata": {},
   "outputs": [],
   "source": []
  },
  {
   "cell_type": "code",
   "execution_count": null,
   "metadata": {},
   "outputs": [],
   "source": []
  }
 ],
 "metadata": {
  "kaggle": {
   "accelerator": "none",
   "dataSources": [
    {
     "databundleVersionId": 7323271,
     "sourceId": 65704,
     "sourceType": "competition"
    }
   ],
   "dockerImageVersionId": 30626,
   "isGpuEnabled": false,
   "isInternetEnabled": true,
   "language": "python",
   "sourceType": "notebook"
  },
  "kernelspec": {
   "display_name": "climate-change-ai-venv-kernel",
   "language": "python",
   "name": "climate-change-ai-venv-kernel"
  },
  "language_info": {
   "codemirror_mode": {
    "name": "ipython",
    "version": 3
   },
   "file_extension": ".py",
   "mimetype": "text/x-python",
   "name": "python",
   "nbconvert_exporter": "python",
   "pygments_lexer": "ipython3",
   "version": "3.11.6"
  }
 },
 "nbformat": 4,
 "nbformat_minor": 4
}
