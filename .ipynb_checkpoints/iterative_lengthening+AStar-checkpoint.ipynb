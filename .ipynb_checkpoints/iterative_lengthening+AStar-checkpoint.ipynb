{
 "cells": [
  {
   "cell_type": "code",
   "execution_count": 1,
   "metadata": {},
   "outputs": [],
   "source": [
    "import matplotlib.pyplot as plt\n",
    "from scipy import stats\n",
    "import numpy as np\n",
    "from numba import jit\n",
    "import pstats\n",
    "import heapq\n",
    "import time\n",
    "import cProfile\n",
    "import pandas as pd"
   ]
  },
  {
   "cell_type": "code",
   "execution_count": 2,
   "metadata": {},
   "outputs": [],
   "source": [
    "puzzle_info_path = 'puzzle_info.csv'\n",
    "puzzles_path = 'puzzles.csv'\n",
    "sample_submission_path = 'sample_submission.csv' # change name across board\n",
    "puzzle_info_df = pd.read_csv(puzzle_info_path)\n",
    "puzzles_df = pd.read_csv(puzzles_path)\n",
    "sample_submission_df = pd.read_csv(sample_submission_path)"
   ]
  },
  {
   "cell_type": "code",
   "execution_count": 3,
   "metadata": {},
   "outputs": [],
   "source": [
    "# Parsing the initial_state and solution_state columns\n",
    "# Converting the semicolon-separated string values into lists of colors\n",
    "puzzles_df['parsed_initial_state'] = puzzles_df['initial_state'].apply(lambda x: x.split(';'))\n",
    "seen = {}\n",
    "\n",
    "for i in range(len(puzzles_df['parsed_initial_state'])):\n",
    "    for j in range(len(puzzles_df['parsed_initial_state'][i])):\n",
    "        if puzzles_df['parsed_initial_state'][i][j] not in seen:\n",
    "            seen[puzzles_df['parsed_initial_state'][i][j]] = len(seen)\n",
    "        puzzles_df['parsed_initial_state'][i][j] = seen[puzzles_df['parsed_initial_state'][i][j]]\n",
    "\n",
    "puzzles_df['parsed_solution_state'] = puzzles_df['solution_state'].apply(lambda x: x.split(';'))\n",
    "\n",
    "for i in range(len(puzzles_df['parsed_solution_state'])):\n",
    "    for j in range(len(puzzles_df['parsed_solution_state'][i])):\n",
    "        puzzles_df['parsed_solution_state'][i][j] = seen[puzzles_df['parsed_solution_state'][i][j]]"
   ]
  },
  {
   "cell_type": "code",
   "execution_count": 4,
   "metadata": {},
   "outputs": [],
   "source": [
    "import json\n",
    "\n",
    "# Converting the string representation of allowed_moves to dictionary\n",
    "puzzle_info_df['allowed_moves'] = puzzle_info_df['allowed_moves'].apply(lambda x: json.loads(x.replace(\"'\", '\"')))\n",
    "\n",
    "# Selecting an example puzzle type and displaying its allowed moves\n",
    "example_puzzle_type = puzzle_info_df['puzzle_type'].iloc[0]\n",
    "example_allowed_moves = puzzle_info_df[puzzle_info_df['puzzle_type'] == example_puzzle_type]['allowed_moves'].iloc[0]"
   ]
  },
  {
   "cell_type": "code",
   "execution_count": 5,
   "metadata": {},
   "outputs": [],
   "source": [
    "def getInversePerm(arr):\n",
    "    # gets the inverse move for a certain move\n",
    "    res = [0 for i in range(len(arr))]\n",
    "    for i in range(len(arr)):\n",
    "        res[arr[i]] = i\n",
    "    return res\n",
    "    \n",
    "# type : (np.array(move_perm_i), np.array(name_i))\n",
    "puz_info = {}\n",
    "\n",
    "# type : {move : perm}\n",
    "move_to_perm = {}\n",
    "\n",
    "for i in range(len(puzzle_info_df)):\n",
    "    puz_info[puzzle_info_df['puzzle_type'][i]] = [[], []]\n",
    "    move_to_perm[puzzle_info_df['puzzle_type'][i]] = {}\n",
    "    \n",
    "    for j in puzzle_info_df['allowed_moves'][i].keys():\n",
    "        puz_info[puzzle_info_df['puzzle_type'][i]][1].append(j)\n",
    "        puz_info[puzzle_info_df['puzzle_type'][i]][0].append(np.array(puzzle_info_df['allowed_moves'][i][j]))\n",
    "\n",
    "        puz_info[puzzle_info_df['puzzle_type'][i]][1].append(str('-' + j)) # might be the opposite\n",
    "        puz_info[puzzle_info_df['puzzle_type'][i]][0].append(np.array(getInversePerm(puzzle_info_df['allowed_moves'][i][j])))\n",
    "\n",
    "        move_to_perm[puzzle_info_df['puzzle_type'][i]][str('-' + j)] = np.array(getInversePerm(puzzle_info_df['allowed_moves'][i][j]))\n",
    "        move_to_perm[puzzle_info_df['puzzle_type'][i]][j] = np.array(puzzle_info_df['allowed_moves'][i][j])\n",
    "\n",
    "# move_to_perm['cube_2/2/2']"
   ]
  },
  {
   "cell_type": "code",
   "execution_count": 24,
   "metadata": {},
   "outputs": [],
   "source": [
    "@jit(nopython=True, parallel = True, fastmath = True)\n",
    "def hash_perm(perm):\n",
    "    base = 9973\n",
    "    modb = 1000000007\n",
    "    modc = 1000000009\n",
    "\n",
    "    B, C = 0, 0\n",
    "    for i in perm:\n",
    "        B = (B * base) % modb + i\n",
    "        C = (C * base) % modc + i\n",
    "\n",
    "    return (B, C)\n",
    "\n",
    "def dist(a, b):\n",
    "    return np.count_nonzero(a != b)"
   ]
  },
  {
   "cell_type": "code",
   "execution_count": 25,
   "metadata": {},
   "outputs": [
    {
     "name": "stdout",
     "output_type": "stream",
     "text": [
      "[0 0 0 ... 0 0 0]\n"
     ]
    }
   ],
   "source": [
    "# 1e6 ~ 2 seconds\n",
    "mx_mem = int(1e7)\n",
    "mem_idx = 0\n",
    "\n",
    "last_state = np.zeros(mx_mem, dtype=int)\n",
    "last_move = np.zeros(mx_mem, dtype=int)\n",
    "\n",
    "print(last_state)"
   ]
  },
  {
   "cell_type": "code",
   "execution_count": 46,
   "metadata": {},
   "outputs": [
    {
     "name": "stdout",
     "output_type": "stream",
     "text": [
      "42 1\n",
      "38 2\n",
      "36 3\n",
      "35 4\n",
      "33 5\n",
      "32 6\n",
      "29 6\n",
      "28 9\n",
      "27 11\n",
      "26 12\n",
      "25 10\n",
      "24 13\n",
      "23 14\n",
      "22 14\n",
      "21 13\n",
      "20 15\n",
      "20 11\n",
      "19 16\n",
      "16 18\n",
      "16 17\n",
      "15 20\n",
      "14 19\n",
      "12 29\n",
      "12 25\n",
      "11 30\n",
      "9 34\n",
      "6 35\n",
      "(6, 21478, array([1, 2, 2, 2, 2, 2, 2, 2, 2, 3, 3, 3, 3, 3, 3, 3, 3, 3, 4, 4, 4, 4,\n",
      "       4, 5, 4, 4, 4, 0, 0, 0, 0, 0, 0, 0, 0, 0, 5, 1, 1, 1, 1, 1, 2, 1,\n",
      "       1, 5, 5, 5, 5, 5, 5, 1, 4, 5]), 35)\n"
     ]
    }
   ],
   "source": [
    "def chunk_search(idx, initial_state = None, chunk_time = 1):\n",
    "    global mem_idx\n",
    "\n",
    "    if initial_state is None:\n",
    "        initial_state = np.array(puzzles_df['parsed_initial_state'][idx])\n",
    "    \n",
    "    goal_state = np.array(puzzles_df['parsed_solution_state'][idx])\n",
    "    max_dist = puzzles_df['num_wildcards'][idx]\n",
    "    move_perm = np.array(puz_info[puzzles_df['puzzle_type'][idx]][0])\n",
    "\n",
    "    n = len(initial_state)\n",
    "    m = len(move_perm)\n",
    "\n",
    "    avg_dist = np.array([n + 1 for i in range(500 * n)], dtype = np.float32)\n",
    "    n_dist = np.array([0 for i in range(500 * n)])\n",
    "\n",
    "    def upd_prune(nxt_p, nxt_dist, avg_dist, n_dist):\n",
    "        if n_dist[nxt_p] == 0:\n",
    "            avg_dist[nxt_p] = nxt_dist\n",
    "            n_dist[nxt_p] = 1\n",
    "            return True\n",
    "\n",
    "        if n_dist[nxt_p] > 100 * chunk_time: # pruning here\n",
    "            if nxt_dist > avg_dist[nxt_p]:\n",
    "                return False\n",
    "        \n",
    "        avg_dist[nxt_p] *= n_dist[nxt_p] / (n_dist[nxt_p] + 1)\n",
    "        avg_dist[nxt_p] += nxt_dist / (n_dist[nxt_p] + 1)\n",
    "        n_dist[nxt_p] += 1\n",
    "        return True\n",
    "    \n",
    "    pq = []\n",
    "    heapq.heappush(pq, (0, mem_idx, initial_state, 0))  # (priority, mem_idx, state, path_length)\n",
    "    mem_idx += 1\n",
    "\n",
    "    best_branch = (dist(initial_state, goal_state), 0, initial_state, 0) # (score, mem_idx, state, path_length)\n",
    "\n",
    "    considered = set()\n",
    "    considered.add(hash_perm(initial_state))\n",
    "\n",
    "    start_time = time.time()\n",
    "    \n",
    "    while mem_idx + m < mx_mem:\n",
    "        if time.time() - start_time > chunk_time:\n",
    "            break\n",
    "        \n",
    "        cur_p_plus_dist, cur_idx, cur_state, cur_p = heapq.heappop(pq) \n",
    "\n",
    "        for i in range(m):\n",
    "            nxt_state = cur_state[move_perm[i]]\n",
    "            nxt_hash = hash_perm(nxt_state)\n",
    "            nxt_p = 1 + cur_p\n",
    "\n",
    "            nxt_dist = dist(nxt_state, goal_state)\n",
    "            \n",
    "            ok = upd_prune(nxt_p, nxt_dist,avg_dist,n_dist)\n",
    "            if not ok:\n",
    "                continue\n",
    "\n",
    "            if nxt_hash in considered:\n",
    "                continue\n",
    "            considered.add(nxt_hash)\n",
    "\n",
    "            if (nxt_dist == best_branch[0] and nxt_p < best_branch[3]) or nxt_dist < best_branch[0]:\n",
    "                print(nxt_dist, nxt_p)\n",
    "                best_branch = (nxt_dist, mem_idx, nxt_state, nxt_p)\n",
    "            \n",
    "            last_state[mem_idx] = cur_idx\n",
    "            last_move[mem_idx] = i\n",
    "\n",
    "            if nxt_dist <= max_dist:\n",
    "                print(\"Number of pruned branches\", pruned_branch)\n",
    "                print(\"Chunk length\", cur_p)\n",
    "                # print(\"Chunk Dist\", nxt_dist)\n",
    "                \n",
    "                return best_branch\n",
    "            \n",
    "            priority = nxt_p + nxt_dist\n",
    "            heapq.heappush(pq, (priority, mem_idx, nxt_state, 1+cur_p))\n",
    "            mem_idx += 1\n",
    "    return best_branch\n",
    "\n",
    "mem_idx = 0\n",
    "print(chunk_search(30))\n",
    "# cProfile.run('chunk_search(30)')"
   ]
  },
  {
   "cell_type": "code",
   "execution_count": 51,
   "metadata": {},
   "outputs": [
    {
     "name": "stdout",
     "output_type": "stream",
     "text": [
      "Start chunk\n",
      "1818 1\n",
      "1808 1\n",
      "1806 2\n",
      "1804 2\n",
      "1801 2\n",
      "1800 2\n",
      "1798 2\n",
      "1794 3\n",
      "1792 3\n",
      "1790 3\n",
      "1788 3\n",
      "1786 4\n",
      "1785 4\n",
      "1783 4\n",
      "1781 4\n",
      "1780 4\n",
      "1779 4\n",
      "1778 4\n",
      "1776 5\n",
      "1775 5\n",
      "1770 5\n",
      "1769 5\n",
      "1768 5\n",
      "1767 6\n",
      "1764 6\n",
      "1759 6\n",
      "1758 7\n",
      "1755 7\n",
      "1750 7\n",
      "1749 8\n",
      "1746 8\n",
      "1745 8\n",
      "1744 8\n",
      "1743 8\n",
      "1742 8\n",
      "1741 8\n",
      "1736 9\n",
      "1735 9\n",
      "1734 9\n",
      "1733 9\n",
      "1732 10\n",
      "1727 10\n",
      "1726 10\n",
      "1725 11\n",
      "1721 11\n",
      "1720 11\n",
      "1719 12\n",
      "1718 12\n",
      "1715 12\n",
      "1713 12\n",
      "1710 13\n",
      "1707 13\n",
      "1704 14\n",
      "1702 14\n",
      "1701 14\n",
      "1700 15\n",
      "1696 15\n",
      "1694 15\n",
      "1693 16\n",
      "1689 16\n",
      "1688 17\n",
      "1687 17\n",
      "1684 17\n",
      "1683 18\n",
      "1682 18\n",
      "1677 18\n",
      "1676 19\n",
      "1675 19\n",
      "1666 19\n",
      "1664 20\n",
      "1661 20\n",
      "1660 20\n",
      "1659 21\n",
      "1655 21\n",
      "1652 22\n",
      "1646 23\n",
      "1643 24\n",
      "1642 24\n",
      "1640 25\n",
      "1637 25\n",
      "1635 26\n",
      "1634 26\n",
      "1630 26\n",
      "1629 27\n",
      "1628 27\n",
      "1626 27\n",
      "1625 28\n",
      "1623 28\n",
      "1619 28\n",
      "1618 29\n",
      "1617 29\n",
      "1616 30\n",
      "1615 30\n",
      "1614 31\n",
      "1613 32\n",
      "1612 32\n",
      "1610 33\n",
      "1608 34\n",
      "1607 35\n",
      "1606 35\n",
      "1605 36\n",
      "1604 37\n",
      "1602 37\n",
      "1600 38\n",
      "1599 40\n",
      "1598 40\n",
      "1595 41\n",
      "1594 42\n",
      "1592 43\n",
      "1591 44\n",
      "1590 47\n",
      "1589 46\n",
      "1588 47\n",
      "1587 50\n",
      "1585 49\n",
      "1584 52\n",
      "1584 50\n",
      "1583 52\n",
      "1583 51\n",
      "End chunk\n",
      "Start chunk\n",
      "1582 4\n",
      "1581 4\n",
      "1580 7\n",
      "1578 4\n",
      "1576 7\n",
      "End chunk\n",
      "Start chunk\n",
      "1574 3\n",
      "1573 6\n",
      "1571 6\n",
      "1569 8\n",
      "1568 11\n",
      "End chunk\n",
      "Start chunk\n",
      "1564 3\n",
      "1563 4\n",
      "1562 5\n",
      "1559 7\n",
      "1558 11\n",
      "End chunk\n",
      "Start chunk\n",
      "1556 4\n",
      "1556 3\n",
      "1555 6\n",
      "1554 6\n",
      "End chunk\n",
      "Start chunk\n",
      "1553 6\n",
      "1553 4\n",
      "1552 4\n",
      "1552 3\n",
      "1551 6\n",
      "1550 10\n",
      "End chunk\n",
      "Start chunk\n",
      "1549 4\n",
      "1548 7\n",
      "1546 6\n",
      "1544 7\n",
      "1542 8\n",
      "1540 11\n",
      "1540 8\n",
      "1539 12\n",
      "End chunk\n",
      "Start chunk\n",
      "1538 7\n",
      "1538 4\n",
      "1537 6\n",
      "1537 4\n",
      "End chunk\n",
      "Start chunk\n",
      "1536 6\n",
      "1536 4\n",
      "1535 4\n",
      "End chunk\n",
      "Start chunk\n",
      "1534 6\n",
      "1534 4\n",
      "End chunk\n"
     ]
    }
   ],
   "source": [
    "def dig_through_memory(idx):\n",
    "    res = []\n",
    "    while idx != 0:\n",
    "        res.append(last_move[idx])\n",
    "        idx = last_state[idx]\n",
    "\n",
    "    res = list(reversed(res))\n",
    "    return res\n",
    "\n",
    "def solve(idx, allotted_time = 10):\n",
    "    global mem_idx\n",
    "    \n",
    "    start_time = time.time()\n",
    "    move_name = np.array(puz_info[puzzles_df['puzzle_type'][idx]][1])\n",
    "    max_dist = puzzles_df['num_wildcards'][idx]\n",
    "\n",
    "    found = 0\n",
    "    res = []\n",
    "    cur = np.array(puzzles_df['parsed_initial_state'][idx])\n",
    "    \n",
    "    while (time.time() - start_time < allotted_time and not found):\n",
    "        print(\"Start chunk\")\n",
    "        mem_idx = 0\n",
    "        nxt_cur = chunk_search(idx, cur, chunk_time = 1) \n",
    "        # larger chunk_time -> better solution, longer time\n",
    "        # more breath on search\n",
    "\n",
    "        if nxt_cur[0] <= max_dist:\n",
    "            found = 1\n",
    "\n",
    "        cur_moves = dig_through_memory(nxt_cur[1])\n",
    "        res = res + cur_moves\n",
    "        \n",
    "        cur = nxt_cur[2]\n",
    "        print(\"End chunk\")\n",
    "    \n",
    "    if not found:\n",
    "        return None\n",
    "        \n",
    "    for i in range(len(res)):\n",
    "        res[i] = move_name[res[i]]\n",
    "    return res\n",
    "\n",
    "A = solve(280)\n",
    "A"
   ]
  },
  {
   "cell_type": "code",
   "execution_count": 15,
   "metadata": {},
   "outputs": [
    {
     "data": {
      "text/plain": [
       "[<matplotlib.lines.Line2D at 0x41d3e1610>]"
      ]
     },
     "execution_count": 15,
     "metadata": {},
     "output_type": "execute_result"
    },
    {
     "data": {
      "image/png": "[encoded data removed]",
      "text/plain": [
       "<Figure size 640x480 with 1 Axes>"
      ]
     },
     "metadata": {},
     "output_type": "display_data"
    }
   ],
   "source": [
    "\n",
    "ys = [i for i in range(10)]\n",
    "plt.plot(xs, ys)"
   ]
  },
  {
   "cell_type": "markdown",
   "metadata": {},
   "source": [
    "# Step 6: Build submission format function"
   ]
  },
  {
   "cell_type": "code",
   "execution_count": 28,
   "metadata": {},
   "outputs": [],
   "source": [
    "def format_solution_for_submission(puzzle_id, solution_moves):\n",
    "    \"\"\"\n",
    "    Format the solution to a puzzle for submission.\n",
    "\n",
    "    :param puzzle_id: The unique identifier of the puzzle.\n",
    "    :param solution_moves: List of tuples representing the solution moves.\n",
    "    :return: Formatted string suitable for submission.\n",
    "    \"\"\"\n",
    "    formatted_moves = []\n",
    "    for move in solution_moves:\n",
    "        formatted_moves.append(move)\n",
    "\n",
    "    # Joining the moves into a single string separated by periods\n",
    "    return {'id': puzzle_id, 'moves': '.'.join(formatted_moves)}\n"
   ]
  },
  {
   "cell_type": "markdown",
   "metadata": {},
   "source": [
    "# Step 7: Define solve function"
   ]
  },
  {
   "cell_type": "code",
   "execution_count": 29,
   "metadata": {},
   "outputs": [
    {
     "name": "stderr",
     "output_type": "stream",
     "text": [
      "  0%|                                                   | 0/398 [00:00<?, ?it/s]"
     ]
    },
    {
     "name": "stdout",
     "output_type": "stream",
     "text": [
      "OK : 0 16\n",
      "num [6, 3]\n",
      "OK : 1 13131\n",
      "num [0, 6, 2, 9, 9, 2, 9, 3, 8]\n"
     ]
    },
    {
     "name": "stderr",
     "output_type": "stream",
     "text": [
      "  1%|▎                                          | 3/398 [00:01<03:15,  2.02it/s]"
     ]
    },
    {
     "name": "stdout",
     "output_type": "stream",
     "text": [
      "OK : 2 776542\n",
      "num [3, 5, 1, 7, 1, 8, 7, 9, 0, 8, 8, 1]\n"
     ]
    },
    {
     "name": "stderr",
     "output_type": "stream",
     "text": [
      "  1%|▎                                          | 3/398 [00:02<05:00,  1.31it/s]\n"
     ]
    },
    {
     "ename": "KeyboardInterrupt",
     "evalue": "",
     "output_type": "error",
     "traceback": [
      "\u001b[0;31m---------------------------------------------------------------------------\u001b[0m",
      "\u001b[0;31mKeyboardInterrupt\u001b[0m                         Traceback (most recent call last)",
      "Cell \u001b[0;32mIn[29], line 7\u001b[0m\n\u001b[1;32m      4\u001b[0m res_df \u001b[38;5;241m=\u001b[39m []\n\u001b[1;32m      6\u001b[0m \u001b[38;5;28;01mfor\u001b[39;00m i \u001b[38;5;129;01min\u001b[39;00m tqdm(\u001b[38;5;28mrange\u001b[39m(\u001b[38;5;28mlen\u001b[39m(puzzles_df))):\n\u001b[0;32m----> 7\u001b[0m     res \u001b[38;5;241m=\u001b[39m \u001b[43msolve\u001b[49m\u001b[43m(\u001b[49m\u001b[43mi\u001b[49m\u001b[43m)\u001b[49m\n\u001b[1;32m      8\u001b[0m     \u001b[38;5;66;03m# print(res)\u001b[39;00m\n\u001b[1;32m      9\u001b[0m     \u001b[38;5;28;01mif\u001b[39;00m res \u001b[38;5;241m==\u001b[39m \u001b[38;5;28;01mNone\u001b[39;00m:\n",
      "Cell \u001b[0;32mIn[27], line 17\u001b[0m, in \u001b[0;36msolve\u001b[0;34m(idx)\u001b[0m\n\u001b[1;32m     13\u001b[0m mem_idx \u001b[38;5;241m=\u001b[39m \u001b[38;5;241m0\u001b[39m\n\u001b[1;32m     15\u001b[0m move_name \u001b[38;5;241m=\u001b[39m np\u001b[38;5;241m.\u001b[39marray(puz_info[puzzles_df[\u001b[38;5;124m'\u001b[39m\u001b[38;5;124mpuzzle_type\u001b[39m\u001b[38;5;124m'\u001b[39m][idx]][\u001b[38;5;241m1\u001b[39m])\n\u001b[0;32m---> 17\u001b[0m res \u001b[38;5;241m=\u001b[39m \u001b[43ma_star_search\u001b[49m\u001b[43m(\u001b[49m\u001b[43midx\u001b[49m\u001b[43m)\u001b[49m\n\u001b[1;32m     19\u001b[0m \u001b[38;5;28;01mif\u001b[39;00m res \u001b[38;5;241m==\u001b[39m \u001b[38;5;28;01mNone\u001b[39;00m:\n\u001b[1;32m     20\u001b[0m     \u001b[38;5;28;01mreturn\u001b[39;00m sample_submission_df[\u001b[38;5;124m'\u001b[39m\u001b[38;5;124mmoves\u001b[39m\u001b[38;5;124m'\u001b[39m][idx]\n",
      "File \u001b[0;32m<timed exec>:29\u001b[0m, in \u001b[0;36ma_star_search\u001b[0;34m(idx)\u001b[0m\n",
      "\u001b[0;31mKeyboardInterrupt\u001b[0m: "
     ]
    }
   ],
   "source": [
    "from tqdm import tqdm\n",
    "\n",
    "all_ok = []\n",
    "res_df = []\n",
    "\n",
    "for i in tqdm(range(len(puzzles_df))):\n",
    "    res = solve(i)\n",
    "    # print(res)\n",
    "    if res == None:\n",
    "        res = format_solution_for_submission(i, sample_submission_df['moves'][i].split('.'))\n",
    "    else:\n",
    "        all_ok.append(i)\n",
    "        res = format_solution_for_submission(i, res)\n",
    "    res_df.append(res)"
   ]
  },
  {
   "cell_type": "code",
   "execution_count": null,
   "metadata": {},
   "outputs": [],
   "source": [
    "for i in tqdm(range(len(res_df), len(puzzles_df))):\n",
    "    res = None\n",
    "    # print(res)\n",
    "    if res == None:\n",
    "        res = format_solution_for_submission(i, sample_submission_df['moves'][i].split('.'))\n",
    "    else:\n",
    "        all_ok.append(i)\n",
    "        res = format_solution_for_submission(i, res)\n",
    "    res_df.append(res)"
   ]
  },
  {
   "cell_type": "code",
   "execution_count": null,
   "metadata": {},
   "outputs": [],
   "source": [
    "print(all_ok)"
   ]
  },
  {
   "cell_type": "code",
   "execution_count": null,
   "metadata": {},
   "outputs": [],
   "source": [
    "res_df = pd.DataFrame(res_df)\n",
    "res_df"
   ]
  },
  {
   "cell_type": "markdown",
   "metadata": {},
   "source": [
    "# Step 9: Save submission"
   ]
  },
  {
   "cell_type": "code",
   "execution_count": null,
   "metadata": {},
   "outputs": [],
   "source": [
    "# Define the file path for the output CSV file\n",
    "output_csv_path = 'submission.csv'\n",
    "\n",
    "# Save the output DataFrame to a CSV file\n",
    "res_df.to_csv(output_csv_path, index=False)\n",
    "\n",
    "# Return the path of the saved file\n",
    "output_csv_path"
   ]
  },
  {
   "cell_type": "code",
   "execution_count": null,
   "metadata": {},
   "outputs": [],
   "source": []
  },
  {
   "cell_type": "code",
   "execution_count": null,
   "metadata": {},
   "outputs": [],
   "source": []
  },
  {
   "cell_type": "code",
   "execution_count": null,
   "metadata": {},
   "outputs": [],
   "source": []
  }
 ],
 "metadata": {
  "kaggle": {
   "accelerator": "none",
   "dataSources": [
    {
     "databundleVersionId": 7323271,
     "sourceId": 65704,
     "sourceType": "competition"
    }
   ],
   "dockerImageVersionId": 30626,
   "isGpuEnabled": false,
   "isInternetEnabled": true,
   "language": "python",
   "sourceType": "notebook"
  },
  "kernelspec": {
   "display_name": "climate-change-ai-venv-kernel",
   "language": "python",
   "name": "climate-change-ai-venv-kernel"
  },
  "language_info": {
   "codemirror_mode": {
    "name": "ipython",
    "version": 3
   },
   "file_extension": ".py",
   "mimetype": "text/x-python",
   "name": "python",
   "nbconvert_exporter": "python",
   "pygments_lexer": "ipython3",
   "version": "3.11.6"
  }
 },
 "nbformat": 4,
 "nbformat_minor": 4
}
