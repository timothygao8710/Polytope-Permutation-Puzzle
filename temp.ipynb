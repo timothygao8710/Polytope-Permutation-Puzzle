{
 "cells": [
  {
   "cell_type": "markdown",
   "metadata": {
    "_cell_guid": "b1076dfc-b9ad-4769-8c92-a6c4dae69d19",
    "_uuid": "8f2839f25d086af736a60e9eeb907d3b93b6e0e5"
   },
   "source": [
    "# Premature Optimization is the root of all evil"
   ]
  },
  {
   "cell_type": "code",
   "execution_count": 25,
   "metadata": {},
   "outputs": [],
   "source": [
    "import matplotlib.pyplot as plt\n",
    "from scipy import stats\n",
    "import numpy as np\n",
    "from numba import jit\n",
    "import pstats\n",
    "import heapq\n",
    "import time\n",
    "import cProfile\n",
    "import pandas as pd"
   ]
  },
  {
   "cell_type": "code",
   "execution_count": 26,
   "metadata": {},
   "outputs": [],
   "source": [
    "def getInversePerm(arr):\n",
    "    # gets the inverse move for a certain move\n",
    "    res = [0 for i in range(len(arr))]\n",
    "    for i in range(len(arr)):\n",
    "        res[arr[i]] = i\n",
    "    return res\n",
    "\n",
    "\n",
    "def describe_array(arr):\n",
    "    print(\"Array:\", arr)\n",
    "    print(\"Count:\", len(arr))\n",
    "    print(\"Mean:\", np.mean(arr))\n",
    "    print(\"Median:\", np.median(arr))\n",
    "    print(\"Standard Deviation:\", np.std(arr))\n",
    "    print(\"Variance:\", np.var(arr))\n",
    "    print(\"Minimum:\", np.min(arr))\n",
    "    print(\"Maximum:\", np.max(arr))\n",
    "    print(\"Range:\", np.max(arr) - np.min(arr))\n",
    "    print(\"25th Percentile:\", np.percentile(arr, 25))\n",
    "    print(\"50th Percentile (Median):\", np.percentile(arr, 50))\n",
    "    print(\"75th Percentile:\", np.percentile(arr, 75))\n",
    "    print(\"Interquartile Range:\", np.percentile(arr, 75) - np.percentile(arr, 25))"
   ]
  },
  {
   "cell_type": "code",
   "execution_count": 27,
   "metadata": {},
   "outputs": [
    {
     "data": {
      "text/html": [
       "<div>\n",
       "<style scoped>\n",
       "    .dataframe tbody tr th:only-of-type {\n",
       "        vertical-align: middle;\n",
       "    }\n",
       "\n",
       "    .dataframe tbody tr th {\n",
       "        vertical-align: top;\n",
       "    }\n",
       "\n",
       "    .dataframe thead th {\n",
       "        text-align: right;\n",
       "    }\n",
       "</style>\n",
       "<table border=\"1\" class=\"dataframe\">\n",
       "  <thead>\n",
       "    <tr style=\"text-align: right;\">\n",
       "      <th></th>\n",
       "      <th>id</th>\n",
       "      <th>puzzle_type</th>\n",
       "      <th>solution_state</th>\n",
       "      <th>initial_state</th>\n",
       "      <th>num_wildcards</th>\n",
       "    </tr>\n",
       "  </thead>\n",
       "  <tbody>\n",
       "    <tr>\n",
       "      <th>0</th>\n",
       "      <td>0</td>\n",
       "      <td>cube_2/2/2</td>\n",
       "      <td>A;A;A;A;B;B;B;B;C;C;C;C;D;D;D;D;E;E;E;E;F;F;F;F</td>\n",
       "      <td>D;E;D;A;E;B;A;B;C;A;C;A;D;C;D;F;F;F;E;E;B;F;B;C</td>\n",
       "      <td>0</td>\n",
       "    </tr>\n",
       "    <tr>\n",
       "      <th>1</th>\n",
       "      <td>1</td>\n",
       "      <td>cube_2/2/2</td>\n",
       "      <td>A;A;A;A;B;B;B;B;C;C;C;C;D;D;D;D;E;E;E;E;F;F;F;F</td>\n",
       "      <td>D;E;C;B;B;E;F;A;F;D;B;F;F;E;B;D;A;A;C;D;C;E;A;C</td>\n",
       "      <td>0</td>\n",
       "    </tr>\n",
       "    <tr>\n",
       "      <th>2</th>\n",
       "      <td>2</td>\n",
       "      <td>cube_2/2/2</td>\n",
       "      <td>A;A;A;A;B;B;B;B;C;C;C;C;D;D;D;D;E;E;E;E;F;F;F;F</td>\n",
       "      <td>E;F;C;C;F;A;D;D;B;B;A;F;E;B;C;A;A;B;D;F;E;E;C;D</td>\n",
       "      <td>0</td>\n",
       "    </tr>\n",
       "    <tr>\n",
       "      <th>3</th>\n",
       "      <td>3</td>\n",
       "      <td>cube_2/2/2</td>\n",
       "      <td>A;A;A;A;B;B;B;B;C;C;C;C;D;D;D;D;E;E;E;E;F;F;F;F</td>\n",
       "      <td>A;C;E;C;F;D;E;D;A;A;F;A;B;D;B;F;E;D;B;F;B;C;C;E</td>\n",
       "      <td>0</td>\n",
       "    </tr>\n",
       "    <tr>\n",
       "      <th>4</th>\n",
       "      <td>4</td>\n",
       "      <td>cube_2/2/2</td>\n",
       "      <td>A;A;A;A;B;B;B;B;C;C;C;C;D;D;D;D;E;E;E;E;F;F;F;F</td>\n",
       "      <td>E;D;E;D;A;E;F;B;A;C;F;D;F;D;C;A;F;B;C;C;B;E;B;A</td>\n",
       "      <td>0</td>\n",
       "    </tr>\n",
       "  </tbody>\n",
       "</table>\n",
       "</div>"
      ],
      "text/plain": [
       "   id puzzle_type                                   solution_state  \\\n",
       "0   0  cube_2/2/2  A;A;A;A;B;B;B;B;C;C;C;C;D;D;D;D;E;E;E;E;F;F;F;F   \n",
       "1   1  cube_2/2/2  A;A;A;A;B;B;B;B;C;C;C;C;D;D;D;D;E;E;E;E;F;F;F;F   \n",
       "2   2  cube_2/2/2  A;A;A;A;B;B;B;B;C;C;C;C;D;D;D;D;E;E;E;E;F;F;F;F   \n",
       "3   3  cube_2/2/2  A;A;A;A;B;B;B;B;C;C;C;C;D;D;D;D;E;E;E;E;F;F;F;F   \n",
       "4   4  cube_2/2/2  A;A;A;A;B;B;B;B;C;C;C;C;D;D;D;D;E;E;E;E;F;F;F;F   \n",
       "\n",
       "                                     initial_state  num_wildcards  \n",
       "0  D;E;D;A;E;B;A;B;C;A;C;A;D;C;D;F;F;F;E;E;B;F;B;C              0  \n",
       "1  D;E;C;B;B;E;F;A;F;D;B;F;F;E;B;D;A;A;C;D;C;E;A;C              0  \n",
       "2  E;F;C;C;F;A;D;D;B;B;A;F;E;B;C;A;A;B;D;F;E;E;C;D              0  \n",
       "3  A;C;E;C;F;D;E;D;A;A;F;A;B;D;B;F;E;D;B;F;B;C;C;E              0  \n",
       "4  E;D;E;D;A;E;F;B;A;C;F;D;F;D;C;A;F;B;C;C;B;E;B;A              0  "
      ]
     },
     "execution_count": 27,
     "metadata": {},
     "output_type": "execute_result"
    }
   ],
   "source": [
    "# File paths\n",
    "puzzle_info_path = 'puzzle_info.csv'\n",
    "puzzles_path = 'puzzles.csv'\n",
    "sample_submission_path = 'sample_submission.csv' # change name across board\n",
    "my_submission_path = 'submission.csv'\n",
    "\n",
    "# Loading the data\n",
    "puzzle_info_df = pd.read_csv(puzzle_info_path)\n",
    "puzzles_df = pd.read_csv(puzzles_path)\n",
    "sample_submission_df = pd.read_csv(sample_submission_path)\n",
    "my_submission_df = pd.read_csv(my_submission_path)\n",
    "puzzles_df.head()"
   ]
  },
  {
   "cell_type": "code",
   "execution_count": 28,
   "metadata": {},
   "outputs": [
    {
     "data": {
      "text/html": [
       "<div>\n",
       "<style scoped>\n",
       "    .dataframe tbody tr th:only-of-type {\n",
       "        vertical-align: middle;\n",
       "    }\n",
       "\n",
       "    .dataframe tbody tr th {\n",
       "        vertical-align: top;\n",
       "    }\n",
       "\n",
       "    .dataframe thead th {\n",
       "        text-align: right;\n",
       "    }\n",
       "</style>\n",
       "<table border=\"1\" class=\"dataframe\">\n",
       "  <thead>\n",
       "    <tr style=\"text-align: right;\">\n",
       "      <th></th>\n",
       "      <th>id</th>\n",
       "      <th>puzzle_type</th>\n",
       "      <th>parsed_initial_state</th>\n",
       "      <th>parsed_solution_state</th>\n",
       "    </tr>\n",
       "  </thead>\n",
       "  <tbody>\n",
       "    <tr>\n",
       "      <th>0</th>\n",
       "      <td>0</td>\n",
       "      <td>cube_2/2/2</td>\n",
       "      <td>[0, 1, 0, 2, 1, 3, 2, 3, 4, 2, 4, 2, 0, 4, 0, ...</td>\n",
       "      <td>[2, 2, 2, 2, 3, 3, 3, 3, 4, 4, 4, 4, 0, 0, 0, ...</td>\n",
       "    </tr>\n",
       "    <tr>\n",
       "      <th>1</th>\n",
       "      <td>1</td>\n",
       "      <td>cube_2/2/2</td>\n",
       "      <td>[0, 1, 4, 3, 3, 1, 5, 2, 5, 0, 3, 5, 5, 1, 3, ...</td>\n",
       "      <td>[2, 2, 2, 2, 3, 3, 3, 3, 4, 4, 4, 4, 0, 0, 0, ...</td>\n",
       "    </tr>\n",
       "    <tr>\n",
       "      <th>2</th>\n",
       "      <td>2</td>\n",
       "      <td>cube_2/2/2</td>\n",
       "      <td>[1, 5, 4, 4, 5, 2, 0, 0, 3, 3, 2, 5, 1, 3, 4, ...</td>\n",
       "      <td>[2, 2, 2, 2, 3, 3, 3, 3, 4, 4, 4, 4, 0, 0, 0, ...</td>\n",
       "    </tr>\n",
       "    <tr>\n",
       "      <th>3</th>\n",
       "      <td>3</td>\n",
       "      <td>cube_2/2/2</td>\n",
       "      <td>[2, 4, 1, 4, 5, 0, 1, 0, 2, 2, 5, 2, 3, 0, 3, ...</td>\n",
       "      <td>[2, 2, 2, 2, 3, 3, 3, 3, 4, 4, 4, 4, 0, 0, 0, ...</td>\n",
       "    </tr>\n",
       "    <tr>\n",
       "      <th>4</th>\n",
       "      <td>4</td>\n",
       "      <td>cube_2/2/2</td>\n",
       "      <td>[1, 0, 1, 0, 2, 1, 5, 3, 2, 4, 5, 0, 5, 0, 4, ...</td>\n",
       "      <td>[2, 2, 2, 2, 3, 3, 3, 3, 4, 4, 4, 4, 0, 0, 0, ...</td>\n",
       "    </tr>\n",
       "  </tbody>\n",
       "</table>\n",
       "</div>"
      ],
      "text/plain": [
       "   id puzzle_type                               parsed_initial_state  \\\n",
       "0   0  cube_2/2/2  [0, 1, 0, 2, 1, 3, 2, 3, 4, 2, 4, 2, 0, 4, 0, ...   \n",
       "1   1  cube_2/2/2  [0, 1, 4, 3, 3, 1, 5, 2, 5, 0, 3, 5, 5, 1, 3, ...   \n",
       "2   2  cube_2/2/2  [1, 5, 4, 4, 5, 2, 0, 0, 3, 3, 2, 5, 1, 3, 4, ...   \n",
       "3   3  cube_2/2/2  [2, 4, 1, 4, 5, 0, 1, 0, 2, 2, 5, 2, 3, 0, 3, ...   \n",
       "4   4  cube_2/2/2  [1, 0, 1, 0, 2, 1, 5, 3, 2, 4, 5, 0, 5, 0, 4, ...   \n",
       "\n",
       "                               parsed_solution_state  \n",
       "0  [2, 2, 2, 2, 3, 3, 3, 3, 4, 4, 4, 4, 0, 0, 0, ...  \n",
       "1  [2, 2, 2, 2, 3, 3, 3, 3, 4, 4, 4, 4, 0, 0, 0, ...  \n",
       "2  [2, 2, 2, 2, 3, 3, 3, 3, 4, 4, 4, 4, 0, 0, 0, ...  \n",
       "3  [2, 2, 2, 2, 3, 3, 3, 3, 4, 4, 4, 4, 0, 0, 0, ...  \n",
       "4  [2, 2, 2, 2, 3, 3, 3, 3, 4, 4, 4, 4, 0, 0, 0, ...  "
      ]
     },
     "execution_count": 28,
     "metadata": {},
     "output_type": "execute_result"
    }
   ],
   "source": [
    "# Parsing the initial_state and solution_state columns\n",
    "# Converting the semicolon-separated string values into lists of colors\n",
    "puzzles_df['parsed_initial_state'] = puzzles_df['initial_state'].apply(lambda x: x.split(';'))\n",
    "seen = {}\n",
    "\n",
    "for i in range(len(puzzles_df['parsed_initial_state'])):\n",
    "    for j in range(len(puzzles_df['parsed_initial_state'][i])):\n",
    "        if puzzles_df['parsed_initial_state'][i][j] not in seen:\n",
    "            seen[puzzles_df['parsed_initial_state'][i][j]] = len(seen)\n",
    "        puzzles_df['parsed_initial_state'][i][j] = seen[puzzles_df['parsed_initial_state'][i][j]]\n",
    "\n",
    "puzzles_df['parsed_solution_state'] = puzzles_df['solution_state'].apply(lambda x: x.split(';'))\n",
    "\n",
    "for i in range(len(puzzles_df['parsed_solution_state'])):\n",
    "    for j in range(len(puzzles_df['parsed_solution_state'][i])):\n",
    "        puzzles_df['parsed_solution_state'][i][j] = seen[puzzles_df['parsed_solution_state'][i][j]]\n",
    "\n",
    "# Displaying the modified dataframe with parsed states\n",
    "puzzles_df[['id', 'puzzle_type', 'parsed_initial_state', 'parsed_solution_state']].head()"
   ]
  },
  {
   "cell_type": "code",
   "execution_count": 29,
   "metadata": {},
   "outputs": [],
   "source": [
    "# Converting the string representation of allowed_moves to dictionary\n",
    "puzzle_info_df['allowed_moves'] = puzzle_info_df['allowed_moves'].apply(lambda x: json.loads(x.replace(\"'\", '\"')))\n",
    "\n",
    "# Selecting an example puzzle type and displaying its allowed moves\n",
    "example_puzzle_type = puzzle_info_df['puzzle_type'].iloc[0]\n",
    "example_allowed_moves = puzzle_info_df[puzzle_info_df['puzzle_type'] == example_puzzle_type]['allowed_moves'].iloc[0]"
   ]
  },
  {
   "cell_type": "code",
   "execution_count": 30,
   "metadata": {},
   "outputs": [],
   "source": [
    "# type : (np.array(move_perm_i), np.array(name_i))\n",
    "puz_info = {}\n",
    "\n",
    "# type : {move : perm}\n",
    "move_to_perm = {}\n",
    "\n",
    "for i in range(len(puzzle_info_df)):\n",
    "    puz_info[puzzle_info_df['puzzle_type'][i]] = [[], []]\n",
    "    move_to_perm[puzzle_info_df['puzzle_type'][i]] = {}\n",
    "    \n",
    "    for j in puzzle_info_df['allowed_moves'][i].keys():\n",
    "        puz_info[puzzle_info_df['puzzle_type'][i]][1].append(j)\n",
    "        puz_info[puzzle_info_df['puzzle_type'][i]][0].append(np.array(puzzle_info_df['allowed_moves'][i][j]))\n",
    "\n",
    "        puz_info[puzzle_info_df['puzzle_type'][i]][1].append(str('-' + j)) # might be the opposite\n",
    "        puz_info[puzzle_info_df['puzzle_type'][i]][0].append(np.array(getInversePerm(puzzle_info_df['allowed_moves'][i][j])))\n",
    "\n",
    "        move_to_perm[puzzle_info_df['puzzle_type'][i]][str('-' + j)] = np.array(getInversePerm(puzzle_info_df['allowed_moves'][i][j]))\n",
    "        move_to_perm[puzzle_info_df['puzzle_type'][i]][j] = np.array(puzzle_info_df['allowed_moves'][i][j])\n",
    "\n",
    "# move_to_perm['cube_2/2/2']"
   ]
  },
  {
   "cell_type": "code",
   "execution_count": 31,
   "metadata": {},
   "outputs": [
    {
     "data": {
      "text/html": [
       "<div>\n",
       "<style scoped>\n",
       "    .dataframe tbody tr th:only-of-type {\n",
       "        vertical-align: middle;\n",
       "    }\n",
       "\n",
       "    .dataframe tbody tr th {\n",
       "        vertical-align: top;\n",
       "    }\n",
       "\n",
       "    .dataframe thead th {\n",
       "        text-align: right;\n",
       "    }\n",
       "</style>\n",
       "<table border=\"1\" class=\"dataframe\">\n",
       "  <thead>\n",
       "    <tr style=\"text-align: right;\">\n",
       "      <th></th>\n",
       "      <th>id</th>\n",
       "      <th>moves</th>\n",
       "    </tr>\n",
       "  </thead>\n",
       "  <tbody>\n",
       "    <tr>\n",
       "      <th>0</th>\n",
       "      <td>0</td>\n",
       "      <td>r1.-f1</td>\n",
       "    </tr>\n",
       "    <tr>\n",
       "      <th>1</th>\n",
       "      <td>1</td>\n",
       "      <td>f1.d0.-r0.-f1.-d0.-f1.d0.-r0.f0.-f1.-r0.f1.-d1...</td>\n",
       "    </tr>\n",
       "    <tr>\n",
       "      <th>2</th>\n",
       "      <td>2</td>\n",
       "      <td>f1.d0.-d1.r0.-d1.-f0.f1.-r0.-f0.-r1.-f0.r0.-d0...</td>\n",
       "    </tr>\n",
       "    <tr>\n",
       "      <th>3</th>\n",
       "      <td>3</td>\n",
       "      <td>-f0.-r0.-f0.-d0.-f0.f1.r0.-d1.-r0.-r1.-r0.-f1....</td>\n",
       "    </tr>\n",
       "    <tr>\n",
       "      <th>4</th>\n",
       "      <td>4</td>\n",
       "      <td>d1.-f1.d1.r1.-f0.d1.-d0.-r1.d1.d1.-f1.d1.-d0.-...</td>\n",
       "    </tr>\n",
       "    <tr>\n",
       "      <th>...</th>\n",
       "      <td>...</td>\n",
       "      <td>...</td>\n",
       "    </tr>\n",
       "    <tr>\n",
       "      <th>393</th>\n",
       "      <td>393</td>\n",
       "      <td>f19.f21.-f39.f20.f2.-f5.f7.-r3.f55.-f12.f65.-f...</td>\n",
       "    </tr>\n",
       "    <tr>\n",
       "      <th>394</th>\n",
       "      <td>394</td>\n",
       "      <td>-f31.-f22.f16.-f17.-f13.-f24.-f14.f2.f21.f44.f...</td>\n",
       "    </tr>\n",
       "    <tr>\n",
       "      <th>395</th>\n",
       "      <td>395</td>\n",
       "      <td>-r0.-f42.-f8.f16.-f49.f14.-f1.f56.f26.f35.f62....</td>\n",
       "    </tr>\n",
       "    <tr>\n",
       "      <th>396</th>\n",
       "      <td>396</td>\n",
       "      <td>f25.-f29.f46.f49.-f8.f27.f26.-f20.f2.-f20.f6.f...</td>\n",
       "    </tr>\n",
       "    <tr>\n",
       "      <th>397</th>\n",
       "      <td>397</td>\n",
       "      <td>-r1.f23.-f24.-r2.f30.f30.f38.-f19.f24.f19.f18....</td>\n",
       "    </tr>\n",
       "  </tbody>\n",
       "</table>\n",
       "<p>398 rows × 2 columns</p>\n",
       "</div>"
      ],
      "text/plain": [
       "      id                                              moves\n",
       "0      0                                             r1.-f1\n",
       "1      1  f1.d0.-r0.-f1.-d0.-f1.d0.-r0.f0.-f1.-r0.f1.-d1...\n",
       "2      2  f1.d0.-d1.r0.-d1.-f0.f1.-r0.-f0.-r1.-f0.r0.-d0...\n",
       "3      3  -f0.-r0.-f0.-d0.-f0.f1.r0.-d1.-r0.-r1.-r0.-f1....\n",
       "4      4  d1.-f1.d1.r1.-f0.d1.-d0.-r1.d1.d1.-f1.d1.-d0.-...\n",
       "..   ...                                                ...\n",
       "393  393  f19.f21.-f39.f20.f2.-f5.f7.-r3.f55.-f12.f65.-f...\n",
       "394  394  -f31.-f22.f16.-f17.-f13.-f24.-f14.f2.f21.f44.f...\n",
       "395  395  -r0.-f42.-f8.f16.-f49.f14.-f1.f56.f26.f35.f62....\n",
       "396  396  f25.-f29.f46.f49.-f8.f27.f26.-f20.f2.-f20.f6.f...\n",
       "397  397  -r1.f23.-f24.-r2.f30.f30.f38.-f19.f24.f19.f18....\n",
       "\n",
       "[398 rows x 2 columns]"
      ]
     },
     "execution_count": 31,
     "metadata": {},
     "output_type": "execute_result"
    }
   ],
   "source": [
    "# optimize reference solution\n",
    "reference_solution = pd.read_csv(sample_submission_path)\n",
    "reference_solution"
   ]
  },
  {
   "cell_type": "markdown",
   "metadata": {},
   "source": [
    "# Submission Stats"
   ]
  },
  {
   "cell_type": "code",
   "execution_count": 32,
   "metadata": {},
   "outputs": [
    {
     "name": "stdout",
     "output_type": "stream",
     "text": [
      "Array: [2, 63, 62, 92, 70, 54, 68, 83, 98, 76, 66, 63, 72, 131, 96, 68, 63, 62, 89, 82, 112, 96, 63, 53, 99, 61, 93, 73, 83, 82, 300, 392, 268, 239, 304, 440, 267, 299, 237, 408, 259, 296, 208, 229, 602, 584, 327, 358, 242, 258, 238, 370, 479, 355, 230, 309, 285, 344, 282, 415, 251, 236, 385, 225, 429, 200, 250, 331, 298, 225, 205, 266, 327, 392, 408, 320, 382, 358, 257, 254, 372, 221, 251, 300, 260, 227, 265, 310, 209, 268, 277, 303, 216, 214, 317, 287, 425, 323, 292, 249, 263, 356, 274, 398, 221, 231, 207, 340, 342, 268, 257, 265, 399, 219, 262, 273, 329, 315, 385, 360, 331, 295, 339, 346, 301, 311, 268, 264, 260, 299, 362, 401, 215, 268, 395, 372, 227, 376, 257, 241, 209, 287, 412, 474, 399, 267, 358, 263, 233, 258, 700, 610, 498, 593, 665, 544, 642, 637, 443, 697, 598, 538, 789, 816, 542, 616, 597, 465, 420, 670, 558, 519, 466, 736, 483, 472, 737, 493, 534, 486, 670, 592, 491, 675, 499, 888, 595, 734, 701, 451, 458, 731, 737, 659, 495, 594, 947, 550, 422, 517, 623, 633, 439, 586, 509, 560, 477, 499, 541, 483, 1881, 1143, 1207, 2108, 1153, 1112, 1174, 1473, 1169, 1418, 1001, 2043, 1418, 1218, 1574, 1352, 1154, 1451, 2393, 1233, 1363, 1514, 1999, 1213, 1105, 1235, 1904, 1162, 1214, 1637, 1890, 1427, 1510, 1655, 1751, 2234, 2304, 2053, 2445, 2063, 2054, 2574, 3229, 2146, 2049, 3395, 2742, 4306, 4158, 4892, 4330, 4261, 5332, 5947, 6057, 5641, 5401, 7505, 6361, 6326, 6837, 7521, 9002, 10047, 10304, 11999, 9113, 24419, 21455, 32249, 24194, 123431, 139629, 109140, 339, 335, 484, 482, 489, 351, 356, 380, 378, 322, 341, 486, 319, 452, 393, 398, 327, 397, 447, 412, 422, 441, 428, 409, 470, 408, 421, 706, 556, 453, 752, 508, 501, 406, 607, 2586, 2003, 2388, 2061, 2309, 2271, 2246, 2104, 2047, 2093, 5179, 4564, 4576, 4067, 4060, 5610, 5737, 5881, 22284, 229, 320, 213, 236, 210, 251, 209, 216, 247, 216, 479, 496, 502, 444, 482, 481, 517, 493, 503, 441, 433, 413, 412, 426, 473, 432, 506, 463, 564, 480, 5727, 4710, 5886, 4851, 3750, 2401, 2906, 3805, 2712, 4266, 2964, 3124, 2772, 2889, 3243, 3379, 3455, 2735, 2746, 2522, 26960, 32610, 25239, 30775, 22323, 30596, 28971, 28876, 26402, 21111]\n",
      "Count: 398\n",
      "Mean: 3066.809045226131\n",
      "Median: 473.5\n",
      "Standard Deviation: 11801.981539768813\n",
      "Variance: 139286768.26504382\n",
      "Minimum: 2\n",
      "Maximum: 139629\n",
      "Range: 139627\n",
      "25th Percentile: 292.75\n",
      "50th Percentile (Median): 473.5\n",
      "75th Percentile: 1513.0\n",
      "Interquartile Range: 1220.25\n",
      "Score: 1220590\n"
     ]
    }
   ],
   "source": [
    "tot = 0\n",
    "arr = []\n",
    "for i in range(len(sample_submission_df)):\n",
    "    arr.append(len(sample_submission_df['moves'][i].split('.')))\n",
    "    tot += len(sample_submission_df['moves'][i].split('.'))\n",
    "\n",
    "describe_array(arr)\n",
    "print(\"Score:\", tot)"
   ]
  },
  {
   "cell_type": "code",
   "execution_count": 33,
   "metadata": {},
   "outputs": [
    {
     "name": "stdout",
     "output_type": "stream",
     "text": [
      "## MY SUBMISSION INFO ##\n",
      "Array: [2, 9, 62, 92, 70, 54, 10, 83, 98, 76, 10, 63, 72, 131, 96, 10, 11, 62, 11, 82, 112, 96, 63, 53, 99, 61, 93, 73, 83, 82, 300, 392, 268, 239, 304, 440, 267, 299, 237, 408, 259, 296, 208, 229, 602, 584, 327, 358, 242, 258, 238, 370, 479, 355, 230, 309, 285, 344, 282, 415, 251, 236, 385, 225, 429, 200, 250, 331, 298, 225, 205, 266, 327, 392, 408, 320, 382, 358, 257, 254, 372, 221, 251, 300, 260, 227, 265, 310, 209, 268, 277, 303, 216, 214, 317, 287, 425, 323, 292, 249, 263, 356, 274, 398, 221, 231, 207, 340, 342, 268, 257, 265, 399, 219, 262, 273, 329, 315, 385, 360, 331, 295, 339, 346, 301, 311, 268, 264, 260, 299, 362, 401, 215, 268, 395, 372, 227, 376, 257, 241, 209, 287, 412, 474, 399, 267, 358, 263, 233, 258, 700, 610, 498, 593, 665, 544, 642, 637, 443, 697, 598, 538, 789, 816, 542, 616, 597, 465, 420, 670, 558, 519, 466, 736, 483, 472, 737, 493, 534, 486, 670, 592, 491, 675, 499, 888, 595, 734, 701, 451, 458, 731, 737, 659, 495, 594, 947, 550, 422, 517, 623, 633, 439, 586, 509, 560, 477, 499, 541, 483, 1881, 1143, 1207, 2108, 1153, 1112, 1174, 1473, 1169, 1418, 1001, 2043, 1418, 1218, 1574, 1352, 1154, 1451, 2393, 1233, 1363, 1514, 1999, 1213, 1105, 1235, 1904, 1162, 1214, 1637, 1890, 1427, 1510, 1655, 1751, 2234, 2304, 2053, 2445, 2063, 2054, 2574, 3229, 2146, 2049, 3395, 2742, 4306, 4158, 4892, 4330, 4261, 5332, 5947, 6057, 5641, 5401, 7505, 6361, 6326, 6837, 7521, 9002, 10047, 10304, 11999, 9113, 24419, 21455, 32249, 24194, 123431, 139629, 109140, 7, 3, 5, 2, 6, 8, 10, 5, 8, 8, 10, 9, 10, 9, 7, 8, 11, 5, 9, 11, 10, 9, 10, 10, 8, 6, 3, 11, 10, 10, 9, 10, 8, 8, 9, 18, 15, 16, 2061, 2309, 17, 2246, 2104, 2047, 16, 5179, 4564, 4576, 4067, 4060, 5610, 5737, 5881, 22284, 229, 320, 213, 236, 210, 251, 209, 216, 247, 216, 479, 496, 502, 444, 482, 481, 517, 493, 503, 441, 433, 413, 412, 426, 473, 432, 506, 463, 564, 480, 5727, 4710, 5886, 4851, 3750, 2401, 2906, 3805, 2712, 4266, 2964, 3124, 2772, 2889, 3243, 3379, 3455, 2735, 2746, 2522, 26960, 32610, 25239, 30775, 22323, 30596, 28971, 28876, 26402, 21111]\n",
      "Count: 398\n",
      "Mean: 2999.7010050251256\n",
      "Median: 427.5\n",
      "Standard Deviation: 11815.702822919453\n",
      "Variance: 139610833.19954672\n",
      "Minimum: 2\n",
      "Maximum: 139629\n",
      "Range: 139627\n",
      "25th Percentile: 238.25\n",
      "50th Percentile (Median): 427.5\n",
      "75th Percentile: 1418.0\n",
      "Interquartile Range: 1179.75\n",
      "\n",
      "Score: 1193881\n"
     ]
    }
   ],
   "source": [
    "print(\"## MY SUBMISSION INFO ##\")\n",
    "\n",
    "tot = 0\n",
    "arr = []\n",
    "for i in range(len(my_submission_df)):\n",
    "    arr.append(len(my_submission_df['moves'][i].split('.')))\n",
    "    tot += len(my_submission_df['moves'][i].split('.'))\n",
    "\n",
    "describe_array(arr)\n",
    "print()\n",
    "print(\"Score:\", tot)"
   ]
  },
  {
   "cell_type": "markdown",
   "metadata": {},
   "source": [
    "# Puzzle Type Stats\n",
    "\n",
    "type : nodes : degree : # of times puzzle is in puzzles"
   ]
  },
  {
   "cell_type": "code",
   "execution_count": 41,
   "metadata": {},
   "outputs": [
    {
     "name": "stdout",
     "output_type": "stream",
     "text": [
      "cube_2/2/2 --> 24 12 30\n",
      "cube_3/3/3 --> 54 18 120\n",
      "cube_4/4/4 --> 96 24 60\n",
      "cube_5/5/5 --> 150 30 35\n",
      "cube_6/6/6 --> 216 36 12\n",
      "cube_7/7/7 --> 294 42 5\n",
      "cube_8/8/8 --> 384 48 5\n",
      "cube_9/9/9 --> 486 54 5\n",
      "cube_10/10/10 --> 600 60 5\n",
      "cube_19/19/19 --> 2166 114 4\n",
      "cube_33/33/33 --> 6534 198 3\n",
      "wreath_6/6 --> 10 4 20\n",
      "wreath_7/7 --> 12 4 15\n",
      "wreath_12/12 --> 22 4 10\n",
      "wreath_21/21 --> 40 4 5\n",
      "wreath_33/33 --> 64 4 3\n",
      "wreath_100/100 --> 198 4 1\n",
      "globe_1/8 --> 32 36 10\n",
      "globe_1/16 --> 64 68 5\n",
      "globe_2/6 --> 36 30 5\n",
      "globe_3/4 --> 32 24 15\n",
      "globe_6/4 --> 56 30 5\n",
      "globe_6/8 --> 112 46 5\n",
      "globe_6/10 --> 140 54 5\n",
      "globe_3/33 --> 264 140 4\n",
      "globe_33/3 --> 264 140 4\n",
      "globe_8/25 --> 450 118 2\n"
     ]
    }
   ],
   "source": [
    "# type : (np.array(move_perm_i), np.array(name_i))\n",
    "puz_info\n",
    "\n",
    "for i in puz_info.keys():\n",
    "    print(i, '-->', len(puz_info[i][0][0]), len(puz_info[i][0]), len(puzzles_df[puzzles_df['puzzle_type'] == i]))\n",
    "    # print(\"Nodes:\", len(puz_info[i][0][0]))\n",
    "    # print(\"Degree:\", len(puz_info[i][0]))\n",
    "\n",
    "# type : {move : perm}\n",
    "# move_to_perm"
   ]
  },
  {
   "cell_type": "code",
   "execution_count": null,
   "metadata": {},
   "outputs": [],
   "source": []
  },
  {
   "cell_type": "code",
   "execution_count": null,
   "metadata": {},
   "outputs": [],
   "source": []
  },
  {
   "cell_type": "code",
   "execution_count": null,
   "metadata": {},
   "outputs": [],
   "source": []
  },
  {
   "cell_type": "code",
   "execution_count": null,
   "metadata": {},
   "outputs": [],
   "source": []
  },
  {
   "cell_type": "code",
   "execution_count": null,
   "metadata": {},
   "outputs": [],
   "source": []
  },
  {
   "cell_type": "code",
   "execution_count": null,
   "metadata": {},
   "outputs": [],
   "source": []
  },
  {
   "cell_type": "code",
   "execution_count": 30,
   "metadata": {},
   "outputs": [],
   "source": [
    "# replace inclusive [start, end] with other\n",
    "#np.concatenate()\n",
    "def replace(arr, start, end, other):\n",
    "    return arr[:start] + other + arr[end+1:]\n",
    "\n",
    "\n",
    "@jit(nopython=True, parallel = True, fastmath = True)\n",
    "def hash_perm(perm):\n",
    "    base = 9973\n",
    "    modb = 1000000007\n",
    "    modc = 1000000009\n",
    "\n",
    "    B, C = 0, 0\n",
    "    for i in perm:\n",
    "        B = (B * base) % modb + i\n",
    "        C = (C * base) % modc + i\n",
    "\n",
    "    return B, C"
   ]
  },
  {
   "cell_type": "code",
   "execution_count": 31,
   "metadata": {},
   "outputs": [
    {
     "name": "stdout",
     "output_type": "stream",
     "text": [
      "CPU times: user 4.18 s, sys: 6.97 s, total: 11.2 s\n",
      "Wall time: 13.9 s\n"
     ]
    }
   ],
   "source": [
    "%%time\n",
    "reference_nodes = []\n",
    "hashed_nodes = []\n",
    "\n",
    "for i in range(len(reference_solution)):\n",
    "    res = []\n",
    "    moves = move_to_perm[puzzles_df['puzzle_type'][i]]\n",
    "    cur_moves = reference_solution['moves'][i].split('.')\n",
    "\n",
    "    cur = np.array(puzzles_df['parsed_initial_state'][i])\n",
    "    res.append(cur)\n",
    "\n",
    "    for j in cur_moves:\n",
    "        cur_perm = moves[j]\n",
    "        cur = cur[cur_perm]\n",
    "        res.append(cur)\n",
    "\n",
    "    reference_nodes.append(np.array(res))"
   ]
  },
  {
   "cell_type": "code",
   "execution_count": 32,
   "metadata": {},
   "outputs": [
    {
     "name": "stderr",
     "output_type": "stream",
     "text": [
      "/opt/homebrew/lib/python3.11/site-packages/numba/core/typed_passes.py:334: NumbaPerformanceWarning: \n",
      "The keyword argument 'parallel=True' was specified but no transformation for parallel execution was possible.\n",
      "\n",
      "To find out why, try turning on parallel diagnostics, see https://numba.readthedocs.io/en/stable/user/parallel.html#diagnostics for help.\n",
      "\n",
      "File \"../../../../../var/folders/kd/99328vjn0zlc1kls78_rwvdh0000gn/T/ipykernel_1309/1309015955.py\", line 7:\n",
      "<source missing, REPL/exec in use?>\n",
      "\n",
      "  warnings.warn(errors.NumbaPerformanceWarning(msg,\n"
     ]
    }
   ],
   "source": [
    "for i in range(len(reference_solution)):\n",
    "    hashed_nodes = []\n",
    "    for j in reference_nodes[i]:\n",
    "        hashed_nodes.append(hash(hash_perm(j)))\n",
    "\n",
    "# cache the hash?"
   ]
  },
  {
   "cell_type": "code",
   "execution_count": 33,
   "metadata": {},
   "outputs": [],
   "source": [
    "# TO-DO : \n",
    "# Split data into solvable and unsolvable (search space too large) --> which are the unsolvable ones?\n",
    "\n",
    "\n",
    "# Keep doing this a bunch of times\n",
    "# randomly pick two indicies (with a higher chance of picking end depending on wild card), run a*, add edge"
   ]
  },
  {
   "cell_type": "markdown",
   "metadata": {},
   "source": [
    "# Step 5: Develop search algorithm"
   ]
  },
  {
   "cell_type": "code",
   "execution_count": 42,
   "metadata": {},
   "outputs": [],
   "source": [
    "@jit(nopython=True, parallel = True, fastmath = True)\n",
    "def hash_perm(perm):\n",
    "    base = 9973\n",
    "    modb = 1000000007\n",
    "    modc = 1000000009\n",
    "\n",
    "    B, C = 0, 0\n",
    "    for i in perm:\n",
    "        B = (B * base) % modb + i\n",
    "        C = (C * base) % modc + i\n",
    "\n",
    "    return (B, C)\n",
    "\n",
    "def dist(a, b):\n",
    "    return np.count_nonzero(a != b)"
   ]
  },
  {
   "cell_type": "code",
   "execution_count": 43,
   "metadata": {},
   "outputs": [
    {
     "name": "stdout",
     "output_type": "stream",
     "text": [
      "[0 0 0 ... 0 0 0]\n"
     ]
    }
   ],
   "source": [
    "# 1e6 ~ 2 seconds\n",
    "mx_mem = int(1e7)\n",
    "mem_idx = 0\n",
    "\n",
    "last_state = np.zeros(mx_mem, dtype=int)\n",
    "last_move = np.zeros(mx_mem, dtype=int)\n",
    "\n",
    "print(last_state)"
   ]
  },
  {
   "cell_type": "code",
   "execution_count": 46,
   "metadata": {},
   "outputs": [
    {
     "name": "stderr",
     "output_type": "stream",
     "text": [
      "/opt/homebrew/lib/python3.11/site-packages/numba/core/typed_passes.py:334: NumbaPerformanceWarning: \n",
      "The keyword argument 'parallel=True' was specified but no transformation for parallel execution was possible.\n",
      "\n",
      "To find out why, try turning on parallel diagnostics, see https://numba.readthedocs.io/en/stable/user/parallel.html#diagnostics for help.\n",
      "\n",
      "File \"../../../../../var/folders/kd/99328vjn0zlc1kls78_rwvdh0000gn/T/ipykernel_3414/3022860735.py\", line 1:\n",
      "<source missing, REPL/exec in use?>\n",
      "\n",
      "  warnings.warn(errors.NumbaPerformanceWarning(msg,\n"
     ]
    },
    {
     "name": "stdout",
     "output_type": "stream",
     "text": [
      "None\n",
      "CPU times: user 15.9 s, sys: 1.69 s, total: 17.6 s\n",
      "Wall time: 17.9 s\n"
     ]
    }
   ],
   "source": [
    "%%time\n",
    "\n",
    "def dijstra_with_timeout(idx, timeout = 90):\n",
    "    global mem_idx\n",
    "    \n",
    "    initial_state = np.array(puzzles_df['parsed_initial_state'][idx])\n",
    "    goal_state = np.array(puzzles_df['parsed_solution_state'][idx])\n",
    "    max_dist = puzzles_df['num_wildcards'][idx]\n",
    "    move_perm = np.array(puz_info[puzzles_df['puzzle_type'][idx]][0])\n",
    "\n",
    "    S = time.time()\n",
    "    n = len(initial_state)\n",
    "    m = len(move_perm)\n",
    "    \n",
    "    pq = []\n",
    "    heapq.heappush(pq, (0, mem_idx, initial_state))  # (priority, mem_idx, state)\n",
    "    mem_idx += 1\n",
    "    \n",
    "    considered = set()\n",
    "    considered.add(hash_perm(initial_state))\n",
    "\n",
    "    while mem_idx + m < mx_mem:\n",
    "        if time.time() - S > timeout:\n",
    "            return None\n",
    "        \n",
    "        cur_p, cur_idx, cur_state = heapq.heappop(pq) \n",
    "        cur_dist = dist(cur_state, goal_state)\n",
    "        cur_p -= cur_dist \n",
    "\n",
    "        if cur_dist <= max_dist:\n",
    "            return cur_idx\n",
    "        \n",
    "        for i in range(m):\n",
    "            new_state = cur_state[move_perm[i]]\n",
    "            cur_hash = hash_perm(new_state)\n",
    "            \n",
    "            if cur_hash not in considered:\n",
    "                considered.add(cur_hash)\n",
    "                \n",
    "                last_state[mem_idx] = cur_idx\n",
    "                last_move[mem_idx] = i\n",
    "                \n",
    "                priority = cur_p + 1\n",
    "                \n",
    "                heapq.heappush(pq, (priority, mem_idx, new_state))\n",
    "                mem_idx += 1\n",
    "    return None\n",
    "\n",
    "\n",
    "# cProfile.run('a_star_search(37)')\n",
    "print(dijstra_with_timeout(2))"
   ]
  },
  {
   "cell_type": "code",
   "execution_count": 61,
   "metadata": {},
   "outputs": [
    {
     "name": "stdout",
     "output_type": "stream",
     "text": [
      "CPU times: user 21.1 s, sys: 13.9 s, total: 35 s\n",
      "Wall time: 38 s\n"
     ]
    },
    {
     "data": {
      "text/plain": [
       "'f2.-r2.-r0.f4.-d0.r0.f2.f3.f0.r3.-d4.f2.-f4.d1.r2.-f2.d1.-f4.d1.d0.r0.f2.f3.f0.d2.-f4.r1.r3.-r0.d3.-d1.f4.d2.r1.-d0.d4.d3.-r4.f0.f2.-d2.-f0.-f3.-f2.-r0.f3.-f4.d1.-r3.-f0.-f3.-f2.-r0.d0.-f4.r0.-f2.-r0.-d2.-f0.-f3.-f2.-r0.f3.-f4.d1.-r3.-f0.-f3.-f2.-r0.d0.-f4.r0.-f2.-r0.-d2.-f1.-f4.r1.-f4.d1.-r2.d0.-r1.f1.-r0.-f1.r2.-f2.-d2.-f0.-f3.-f2.-r0.-r3.-r1.f4.d2.r0.f2.-r0.f4.-d0.r0.f2.f3.f0.r3.-d1.f4.-f3.r0.f2.f3.f0.d2.-f2.-f0.r4.-d3.-d4.d0.-r1.-d2.-f0.-f3.-f2.-r0.f3.-f4.d1.-r3.-f0.-f3.-f2.-r0.d0.-f4.r0.-f2.-f1.-f4.r1.-f4.d1.-r2.-d0.f1.r0.-f1.r0.f2.-r0.f4.-d0.r0.f2.f3.f0.r3.-d1.f4.-f3.-f3.d1.-f4.d1.d0.d1.f2.-r2.f1.r0.-f1.r1.-d0.r2.-d1.f4.-r1.f4.f1.d2.r0.f2.-r0.f4.-d0.r0.f2.f3.f0.r3.-d1.f4.-f3.r0.f2.f3.f0.d2.r0.f2.-r0.f4.-d0.r0.f2.f3.f0.r3.-d1.f4.-f3.r0.f2.f3.f0.d2.-f2.-f0.r4.-d3.-d4.d0.-r1.-d2.-f4.d1.-d3.r0.d0.r2.-d1.f4.-r1.f4.f1.f2.-r0.f4.-d0.r0.f2.f3.f0.r3.-d1.f4.-f3.r0.f2.f3.f0.d2.r1.-d0.d4.d3.-r4.f0.f2.-d2.-f0.-f3.-f2.-r0.f3.-f4.d1.-r3.-f0.-f3.-f2.-r0.d0.-f4.r0.-f2.-r0.-d2.-f0.-f3.-f2.-r0.f3.-f4.d1.-r3.-f0.-f3.-f2.-r0.d0.-f4.r0.-f2.-r0.-d2.-f1.-f3.-f4.d1.-r2.-d1.-d0.-d1.f4.-d1.-f2.f1.-r0.-f1.r0.f2.-r0.f4.-d0.r0.f2.f3.f0.r3.-d1.f4.-f3.r0.f2.f3.f0.d2.-f2.-f0.r4.-d3.-d4.d0.-r1.-d2.-f4.d1.-d3.r0.-d0.-d1.-d0.-d1.f4.-d1.-f4.r1.-f4.d1.-r2.d0.-r1.d0.-r1.-r0.d3.-d1.f4.d2.r1.-d0.d4.d3.-r4.f0.f2.-d2.-f0.-f3.-f2.-r0.f3.-f4.d1.-r3.-f0.-f3.-f2.-r0.d0.-f4.r0.-f2.-r0.-d2.-f0.-f3.-f2.-r0.f3.-f4.d1.-r3.-f0.-f3.-f2.-r0.d0.-f4.r0.-f2.-r0.-d2.-f1.-f4.r1.-f4.d1.-r2.d0.-r1.f1.-r0.-f1.r2.-f2.-d2.-f0.-f3.-f2.-r0.f2.-r2.f1.r0.-f1.r1.-d0.r2.-d1.f4.-r1.f4.f1.d2.r0.f2.-r0.f4.-d0.r0.f2.f3.f0.r3.-d1.f4.-f3.r0.f2.f3.f0.d2.r0.f2.-r0.f4.-d0.r0.f2.f3.f0.r3.-d1.f4.-f3.r0.f2.f3.f0.d2.-f2.-f0.r4.-d3.-d4.d0.-r1.-d2.-f4.d1.-d3.r0.-r3.-r1.f4.r0.f2.-r0.f4.-d0.r0.f2.f3.f0.r3.-d1.f4.-f3.r0.f2.f3.f0.d2.-f2.-f0.r4.-d3.-d4.d0.-r1.-d2.-f4.d1.-d3.r0.-d1.-r4.-f4.d1.d0.-f4.r1.r3.f2.-r2.f1.r0.-f1.r1.-d0.r2.-d1.f4.-r1.f4.f1.d2.r0.f2.-r0.f4.-d0.r0.f2.f3.f0.r3.-d1.f4.-f3.r0.f2.f3.f0.d2.r0.f2.-r0.f4.-d0.r0.f2.f3.f0.r3.-d1.f4.-f3.r0.f2.f3.f0.d2.-f2.-f0.r4.-d3.-d4.d0.-r1.-d2.-f4.d1.-d3.r0.-r3.-r1.f4.-d0.-d1.f4.r4.d3.r0.f2.-r0.f4.-d0.r0.f2.f3.f0.r3.-d1.f4.-f3.r0.f2.f3.f0.d2.-f2.-f0.r4.-d3.-d4.d0.-r1.-d2.-f0.-f3.-f2.-r0.f3.-f4.d1.-r3.-f0.-f3.-f2.-r0.d0.-f4.r0.-f2.-f1.-f4.r1.-f4.d1.-r2.-d0.r0.f2.-r0.f4.-d0.r0.f2.f3.f0.r3.-d1.f4.-f3.r0.f2.f3.f0.d2.-f2.-f0.r4.-d3.-d4.d0.-r1.-d2.-f4.d1.-d3.r0.-d3.r0.-f2.f1.-r0.-f1.-d2.-f0.-f3.-f2.-r0.f3.-f4.d1.-r3.-f0.-f3.-f2.-r0.d0.-f4.r0.-f2.-r0.-d2.-f1.-f4.r1.-f4.d1.-r2.d0.-r1.f1.-r0.-f1.r2.-f2.d0.r2.-d1.f4.-r1.f4.f1.f2.-r0.f4.-d0.r0.f2.f3.f0.r3.-d1.f4.-f3.r0.f2.f3.f0.d2.r1.-d0.d4.d3.-r4.f0.f2.-d2.-f0.-f3.-f2.-r0.f3.-f4.d1.-r3.-f0.-f3.-f2.-r0.d0.-f4.r0.-f2.-r0.-d3.-r4.-f4.d1.d0.-f2.f1.-r0.-f1.r0.f2.-r0.f4.-d0.r0.f2.f3.f0.r3.-d1.f4.-f3.r0.f2.f3.f0.d2.-f2.-f0.r4.-d3.-d4.d0.-r1.-d2.-f0.-f3.-f2.-r0.f3.-f4.d1.-r3.-f0.-f3.-f2.-r0.d0.-f4.r0.-f2.-f1.-f4.r1.-f4.d1.-r2.-d0.r0.f2.-r0.f4.-d0.r0.f2.f3.f0.r3.-d1.f4.-f3.-f3.d1.-f4.d1.d0.d1.d0.r2.-d1.f4.-r1.f4.f1.f2.-r0.f4.-d0.r0.f2.f3.f0.r3.-d1.f4.-f3.r0.f2.f3.f0.d2.r1.-d0.d4.d3.-r4.f0.f2.-d2.-f0.-f3.-f2.-r0.f3.-f4.d1.-r3.-f0.-f3.-f2.-r0.d0.-f4.r0.-f2.-r0.-d2.-f0.-f3.-f2.-r0.f3.-f4.d1.-r3.-f0.-f3.-f2.-r0.d0.-f4.r0.-f2.-r0.-d2.r0.f2.-r0.f4.-d0.r0.f2.f3.f0.r3.-d1.f4.-f3.r0.f2.f3.f0.d2.-f2.-f0.r4.-d3.-d4.d0.-r1.-d2.-f4.d1.-d3.r0.-d3.r0.d0.r2.-d1.f4.-r1.f4.f1.f2.-r0.f4.-d0.r0.f2.f3.f0.r3.-d1.f4.-f3.r0.f2.f3.f0.d2.r1.-d0.d4.d3.-r4.f0.f2.-d2.-f0.-f3.-f2.-r0.f3.-f4.d1.-r3.-f0.-f3.-f2.-r0.d0.-f4.r0.-f2.-r0.-d2.-f4.r1.r3.-d0.-d1.-d0.-d1.f4.-d1.-d2.-f0.-f3.-f2.-r0.f3.-f4.d1.-r3.-f0.-f3.-f2.-r0.d0.-f4.r0.-f2.-r0.-d2.-d2.-f0.-f3.-f2.-r0.f3.-f4.d1.-r3.-f0.-f3.-f2.-r0.d0.-f4.r0.-f2.-r0.-d2.-f1.-f4.r1.-f4.d1.-r2.d0.-r1.f1.-r0.-f1.r2.-f2.r0.f2.-r0.f4.-d0.r0.f2.f3.f0.r3.-d1.f4.-f3.r0.f2.f3.f0.d2.-f2.-f0.r4.-d3.-d4.d0.-r1.-d2.-f4.d1.-d3.r0.-d1.-r4.-f4.d1.d0.r0.f2.-r0.f4.-d0.r0.f2.f3.f0.r3.-d1.f4.-f3.r0.f2.f3.f0.d2.-f2.-f0.r4.-d3.-d4.d0.-r1.-d2.-f4.d1.-d3.r0.-d0.-d1.f4.-d1.-f2.-f0.r4.-d3.-d4.d0.-r1.-d0.-d1.f4.-d1.-d2.-f0.-f3.-f2.-r0.f3.-f4.d1.-r3.-f0.-f3.-f2.-r0.d0.-f4.r0.-f2.-r0.-f4.r1.-f4.d1.-r2.d0.-r1.d0.-r1.-r3.-r1.f4.r1.-d0.d4.d3.-r4.f0.f2.r0.f2.f3.f0.d2.-f0.r4.-d3.-d4.d0.-r1.d0.r2.-d1.f4.-r1.f4.f1.-r0.r2.-f2.-r4.-d1.-r4.-f4.d1.d0.f1.r0.-f1.-d2.-f4.d1.r0.f2.-r0.f4.-d0.r0.f2.f3.f0.r3.-d1.f4.-f3.-f3.-f1.-f4.r1.-f4.d1.-r2.d0.-r1.d0.-r1.f3.-f4.d1.-r3.-f0.-f3.-f2.-r0.d0.-f4.r0.-f2.-r0.-f4.d1.-r3.-f0.-f3.-f2.-r0.d0.-f4.r0.-f2.-r0.-f3.-f4.d1.-r2.f2.-r2.-r0.f4.-d0.r0.f2.f3.f0.r3.-d4.f2.-f4.d1.d0.-r1.-d3.-d4.f2.-r2.-d2.-f0.-f3.-f2.-r0.f2.-r3.-f0.-f3.-f2.-r0.d0.-f4.r0.-f2.-r0.r2.-d1.f4.-r1.f4.r0.-f1.-f4.d1.-r2.-f0.-f3.-f2.-r0.d0.-f4.r0.d0.-f4.r0.-f0.-f3.-f2.-r0.-r0.f0.-f4.r0.-f0.-f3.-f2.-r0.-r1.d1.-r3.-f0.-f3.-f2.-r0.d0.-f4.r0.-d3.r0.-r3.-r1.f4.-d4.f2.-d0.-d1.f4.r2.-d1.f4.-r1.f4.f1.-r0.-f1.-f4.r1.-f4.d1.-r2.-f0.-d1.-d3.-r4.-f4.d1.d0.-d4.f2.-f4.d1.-r3.-f0.-f3.-f2.-r0.d0.-f4.r0.r2.r0.f2.f3.f0.d2.-f1.-f4.r1.-f4.d1.-r2.d0.-r1.-d3.-d4.d0.-r1.f2.-r2.-r0.f4.-d0.r0.f2.f3.f0.r3.-d4.f2.-f4.d1.r2.-f2.-d2.-f4.r1.r3.-f2.f1.-r0.-f1.-d1.-d0.-d1.f4.-d1.-d2.-f4.d1.-d3.r0.f2.-r2.f1.r0.-f1.-f0.-f3.-f2.-r0.d0.-f4.r0.r2.-d1.f4.f3.-f1.-f4.r1.-f4.d1.-r2.d0.-r1.d0.-r1.-r3.-r1.f4.f2.-r2.-r0.f4.-d0.r0.f2.f3.f0.r3.-d4.f2.-f4.d1.r2.-f2.d1.-f4.d1.d0.r1.-d0.d4.d3.-r4.f0.f2.f2.-r2.f1.r0.-f1.r1.-d0.r2.-d1.f4.-r1.f4.f1.f2.-r2.-r0.f4.-d0.r0.f2.f3.f0.r3.-d4.f2.-f4.d1.r2.-f2.d1.-f4.d1.d0.r0.f2.f3.f0.d2.d0.r2.-d1.f4.-r1.f4.f1.f2.-r0.f4.-d0.r0.f2.f3.f0.r3.-d1.f4.-f3.r0.f2.f3.f0.-f1.-f4.r1.-f4.d1.-r2.d0.-r1.f1.-r0.-f1.r2.-f2.r1.-d0.d4.d3.-r4.f0.f2.-d2.-f0.-f3.-f2.-r0.-f3.d1.-f4.d1.d0.d1.r0.f2.-r0.f4.-d0.r0.f2.f3.f0.r3.-d1.f4.-f3.r0.f2.f3.f0.d2.-f2.-f0.r4.-d3.-d4.d0.-r1.-d2.-f4.d1.-d3.r0.-d1.-r4.-f4.d1.d0.-f4.r1.r3.f1.r0.-f1.r0.f2.-r0.f4.-d0.r0.f2.f3.f0.r3.-d1.f4.-f3.-f3.d1.-f4.d1.d0.d1.d0.r2.-d1.f4.-r1.f4.f1.f2.-r0.f4.-d0.r0.f2.f3.f0.r3.-d1.f4.-f3.r0.f2.f3.f0.d2.r1.-d0.d4.d3.-r4.f0.f2.-d2.-f0.-f3.-f2.-r0.f3.-f4.d1.-r3.-f0.-f3.-f2.-r0.d0.-f4.r0.-f2.-r0.-f3.-f4.d1.-r2.-d1.-d0.-d1.f4.-d1.-d2.-f0.-f3.-f2.-r0.f3.-f4.d1.-r3.-f0.-f3.-f2.-r0.d0.-f4.r0.-f2.-r0.f1.r0.-f1.f2.-d0.-d1.-d0.-d1.f4.-d1.-f4.r1.-f4.d1.-r2.d0.-r1.d0.-r1.-r3.-f4.d1.-r2.d0.-r1.d0.-r1.-r3.-r1.f4.r2.-f2.-r4.d0.r2.-d1.f4.-r1.f4.f1.f2.-r0.f4.-d0.r0.f2.f3.f0.r3.-d1.f4.-f3.r0.f2.f3.f0.d2.r1.-d0.d4.d3.-r4.f0.f2.-d2.-f0.-f3.-f2.-r0.f3.-f4.d1.-r3.-f0.-f3.-f2.-r0.d0.-f4.r0.-f2.-r0.-f4.r1.r3.r1.-d0.r1.-d0.r2.-d1.f4.-r1.f4.d1.-f4.d1.d0.d1.d0.-r0.d3.-d1.f4.d2.r1.-d0.d4.d3.-r4.f0.f2.-d2.-f0.-f3.-f2.-r0.f3.-f4.d1.-r3.-f0.-f3.-f2.-r0.d0.-f4.r0.-f2.-r0.f1.r0.-f1.f2.-f0.-f3.-f2.-r0.d0.-f4.r0.r2.-d1.f4.f3.r1.-d0.d4.d3.-r4.f0.f2.-d2.-f0.-f3.-f2.-r0.f3.-f4.d1.-r3.-f0.-f3.-f2.-r0.d0.-f4.r0.-f2.-r0'"
      ]
     },
     "execution_count": 61,
     "metadata": {},
     "output_type": "execute_result"
    }
   ],
   "source": [
    "%%time\n",
    "def dig_through_memory(idx):\n",
    "    res = []\n",
    "    while idx != 0:\n",
    "        res.append(last_move[idx])\n",
    "        idx = last_state[idx]\n",
    "\n",
    "    res = list(reversed(res))\n",
    "    return res\n",
    "\n",
    "def solve(idx):\n",
    "    global mem_idx\n",
    "    \n",
    "    mem_idx = 0\n",
    "    \n",
    "    move_name = np.array(puz_info[puzzles_df['puzzle_type'][idx]][1])\n",
    "\n",
    "    res = dijstra_with_timeout(idx)\n",
    "    \n",
    "    if res == None:\n",
    "        return sample_submission_df['moves'][idx]\n",
    "\n",
    "    res = dig_through_memory(res)\n",
    "    for i in range(len(res)):\n",
    "        res[i] = move_name[res[i]]\n",
    "\n",
    "    return res\n",
    "\n",
    "solve(210)"
   ]
  },
  {
   "cell_type": "code",
   "execution_count": 45,
   "metadata": {},
   "outputs": [],
   "source": [
    "def format_solution_for_submission(puzzle_id, solution_moves):\n",
    "    \"\"\"\n",
    "    Format the solution to a puzzle for submission.\n",
    "\n",
    "    :param puzzle_id: The unique identifier of the puzzle.\n",
    "    :param solution_moves: List of tuples representing the solution moves.\n",
    "    :return: Formatted string suitable for submission.\n",
    "    \"\"\"\n",
    "    formatted_moves = []\n",
    "    for move in solution_moves:\n",
    "        formatted_moves.append(move)\n",
    "\n",
    "    # Joining the moves into a single string separated by periods\n",
    "    return {'id': puzzle_id, 'moves': '.'.join(formatted_moves)}\n"
   ]
  },
  {
   "cell_type": "markdown",
   "metadata": {},
   "source": [
    "# Step 7: Define solve function"
   ]
  },
  {
   "cell_type": "code",
   "execution_count": 57,
   "metadata": {},
   "outputs": [
    {
     "name": "stderr",
     "output_type": "stream",
     "text": [
      "  6%|██▎                                       | 22/398 [00:46<13:19,  2.13s/it]\n"
     ]
    },
    {
     "ename": "KeyboardInterrupt",
     "evalue": "",
     "output_type": "error",
     "traceback": [
      "\u001b[0;31m---------------------------------------------------------------------------\u001b[0m",
      "\u001b[0;31mKeyboardInterrupt\u001b[0m                         Traceback (most recent call last)",
      "Cell \u001b[0;32mIn[57], line 7\u001b[0m\n\u001b[1;32m      4\u001b[0m res_df \u001b[38;5;241m=\u001b[39m []\n\u001b[1;32m      6\u001b[0m \u001b[38;5;28;01mfor\u001b[39;00m i \u001b[38;5;129;01min\u001b[39;00m tqdm(\u001b[38;5;28mrange\u001b[39m(\u001b[38;5;28mlen\u001b[39m(puzzles_df))):\n\u001b[0;32m----> 7\u001b[0m     res \u001b[38;5;241m=\u001b[39m \u001b[43msolve\u001b[49m\u001b[43m(\u001b[49m\u001b[43mi\u001b[49m\u001b[43m)\u001b[49m\n\u001b[1;32m      9\u001b[0m     \u001b[38;5;28;01mif\u001b[39;00m res \u001b[38;5;241m==\u001b[39m \u001b[38;5;28;01mNone\u001b[39;00m:\n\u001b[1;32m     10\u001b[0m         res \u001b[38;5;241m=\u001b[39m format_solution_for_submission(i, sample_submission_df[\u001b[38;5;124m'\u001b[39m\u001b[38;5;124mmoves\u001b[39m\u001b[38;5;124m'\u001b[39m][i]\u001b[38;5;241m.\u001b[39msplit(\u001b[38;5;124m'\u001b[39m\u001b[38;5;124m.\u001b[39m\u001b[38;5;124m'\u001b[39m))\n",
      "Cell \u001b[0;32mIn[43], line 17\u001b[0m, in \u001b[0;36msolve\u001b[0;34m(idx)\u001b[0m\n\u001b[1;32m     13\u001b[0m mem_idx \u001b[38;5;241m=\u001b[39m \u001b[38;5;241m0\u001b[39m\n\u001b[1;32m     15\u001b[0m move_name \u001b[38;5;241m=\u001b[39m np\u001b[38;5;241m.\u001b[39marray(puz_info[puzzles_df[\u001b[38;5;124m'\u001b[39m\u001b[38;5;124mpuzzle_type\u001b[39m\u001b[38;5;124m'\u001b[39m][idx]][\u001b[38;5;241m1\u001b[39m])\n\u001b[0;32m---> 17\u001b[0m res \u001b[38;5;241m=\u001b[39m \u001b[43ma_star_search\u001b[49m\u001b[43m(\u001b[49m\u001b[43midx\u001b[49m\u001b[43m)\u001b[49m\n\u001b[1;32m     19\u001b[0m \u001b[38;5;28;01mif\u001b[39;00m res \u001b[38;5;241m==\u001b[39m \u001b[38;5;28;01mNone\u001b[39;00m:\n\u001b[1;32m     20\u001b[0m     \u001b[38;5;28;01mreturn\u001b[39;00m sample_submission_df[\u001b[38;5;124m'\u001b[39m\u001b[38;5;124mmoves\u001b[39m\u001b[38;5;124m'\u001b[39m][idx]\n",
      "File \u001b[0;32m<timed exec>:29\u001b[0m, in \u001b[0;36ma_star_search\u001b[0;34m(idx)\u001b[0m\n",
      "\u001b[0;31mKeyboardInterrupt\u001b[0m: "
     ]
    }
   ],
   "source": [
    "from tqdm import tqdm\n",
    "\n",
    "all_ok = []\n",
    "res_df = []\n",
    "\n",
    "for i in tqdm(range(len(puzzles_df))):\n",
    "    res = solve(i)\n",
    "    \n",
    "    if res == None:\n",
    "        res = format_solution_for_submission(i, sample_submission_df['moves'][i].split('.'))\n",
    "    else:\n",
    "        all_ok.append(i)\n",
    "        res = format_solution_for_submission(i, res)\n",
    "    \n",
    "    res_df.append(res)\n",
    "    # break"
   ]
  },
  {
   "cell_type": "code",
   "execution_count": 59,
   "metadata": {},
   "outputs": [
    {
     "name": "stdout",
     "output_type": "stream",
     "text": [
      "[{'id': 0, 'moves': 'r1.-f1'}, {'id': 1, 'moves': 'f0.r1.f1.-d0.-d0.f1.-d0.-f1.d0'}, {'id': 2, 'moves': '-f1.-r0.-f0.-r1.-f0.d0.-r1.-d0.f0.d0.d0.-f0'}, {'id': 3, 'moves': '-f0.d0.-r0.f0.-d0.-r0.d0.-f0.-r0.-f0'}, {'id': 4, 'moves': 'f0.-r0.-f1.-r0.-d1.-r0.-d1.-d1.r0.d0.f1.-d0'}, {'id': 5, 'moves': 'f0.-r0.-f0.-r0.-f0.-f0.-d1.-f0.-d1.-r0.-f0.r0'}, {'id': 6, 'moves': '-r0.r1.f0.-r1.d1.f1.-d0.f0.-d0.f0.d0.d0'}, {'id': 7, 'moves': '-f1.-r0.-f0.-d0.-f1.-r1.d1.-r1.f0.-d1.-f0'}, {'id': 8, 'moves': '-d0.-f0.-r1.-d1.-f0.-r0.f0.f0.r0.-f0.-d1.f0'}, {'id': 9, 'moves': '-d1.f1.-f0.-r0.d0.d0.-r0.-d0.-r0.-f0.r0.f0'}, {'id': 10, 'moves': 'f0.d1.-r0.r1.f0.d1.-f0.-d1.-d1.-f0'}, {'id': 11, 'moves': 'd0.-f1.-d1.f0.r1.-d1.r0.-f1.-d1.-f1.-d1'}, {'id': 12, 'moves': 'r0.-r1.d1.-r1.-f1.-f1.d1.-r1.d1.-d0.f1.d0'}, {'id': 13, 'moves': '-f0.f1.-r1.f1.d1.-f1.r1.f1.r1.f1.f1'}, {'id': 14, 'moves': 'd1.r0.-d1.r1.r1.d0.r1.-d0.f1.r0.d0.-r0'}, {'id': 15, 'moves': 'f0.-f1.d0.f0.d0.-r0.-f1.-d0.-f1.r0'}, {'id': 16, 'moves': '-f0.-d0.-f1.-r0.-f1.-r0.d1.f1.r0.-f1.-r0'}, {'id': 17, 'moves': 'd0.f1.d1.f1.-d1.f1.-d1.-r0.-r0.d1.d1.r0'}, {'id': 18, 'moves': 'f1.d1.f0.d1.d1.-r0.-d1.-r0.d1.r0.r0'}, {'id': 19, 'moves': '-f1.-d0.-r1.d1.-f0.d0.-f0.-d0.-f0.d0.-r0.-d0'}, {'id': 20, 'moves': '-f0.r1.d0.d0.f0.r1.d1.-f0.d0.-f0.-d0.f0'}, {'id': 21, 'moves': '-f0.-d0.r0.d1.f0.r0.-d1.-d1.r0.r0.-d1.-r0.d1.d1'}]\n"
     ]
    }
   ],
   "source": [
    "print(res_df)"
   ]
  },
  {
   "cell_type": "code",
   "execution_count": null,
   "metadata": {},
   "outputs": [],
   "source": [
    "for i in tqdm(range(len(res_df), len(puzzles_df))):\n",
    "    res = None\n",
    "    # print(res)\n",
    "    if res == None:\n",
    "        res = format_solution_for_submission(i, sample_submission_df['moves'][i].split('.'))\n",
    "    else:\n",
    "        all_ok.append(i)\n",
    "        res = format_solution_for_submission(i, res)\n",
    "    res_df.append(res)"
   ]
  },
  {
   "cell_type": "code",
   "execution_count": null,
   "metadata": {},
   "outputs": [],
   "source": [
    "print(all_ok)"
   ]
  },
  {
   "cell_type": "code",
   "execution_count": null,
   "metadata": {},
   "outputs": [],
   "source": [
    "res_df = pd.DataFrame(res_df)\n",
    "res_df"
   ]
  },
  {
   "cell_type": "markdown",
   "metadata": {},
   "source": [
    "# Step 9: Save submission"
   ]
  },
  {
   "cell_type": "code",
   "execution_count": null,
   "metadata": {},
   "outputs": [],
   "source": [
    "# Define the file path for the output CSV file\n",
    "output_csv_path = 'submission.csv'\n",
    "\n",
    "# Save the output DataFrame to a CSV file\n",
    "res_df.to_csv(output_csv_path, index=False)\n",
    "\n",
    "# Return the path of the saved file\n",
    "output_csv_path"
   ]
  },
  {
   "cell_type": "code",
   "execution_count": null,
   "metadata": {},
   "outputs": [],
   "source": []
  },
  {
   "cell_type": "code",
   "execution_count": null,
   "metadata": {},
   "outputs": [],
   "source": []
  },
  {
   "cell_type": "code",
   "execution_count": null,
   "metadata": {},
   "outputs": [],
   "source": []
  }
 ],
 "metadata": {
  "kaggle": {
   "accelerator": "none",
   "dataSources": [
    {
     "databundleVersionId": 7323271,
     "sourceId": 65704,
     "sourceType": "competition"
    }
   ],
   "dockerImageVersionId": 30626,
   "isGpuEnabled": false,
   "isInternetEnabled": true,
   "language": "python",
   "sourceType": "notebook"
  },
  "kernelspec": {
   "display_name": "climate-change-ai-venv-kernel",
   "language": "python",
   "name": "climate-change-ai-venv-kernel"
  },
  "language_info": {
   "codemirror_mode": {
    "name": "ipython",
    "version": 3
   },
   "file_extension": ".py",
   "mimetype": "text/x-python",
   "name": "python",
   "nbconvert_exporter": "python",
   "pygments_lexer": "ipython3",
   "version": "3.11.6"
  }
 },
 "nbformat": 4,
 "nbformat_minor": 4
}
