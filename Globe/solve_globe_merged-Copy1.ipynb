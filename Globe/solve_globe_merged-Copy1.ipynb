{
 "cells": [
  {
   "cell_type": "code",
   "execution_count": 101,
   "metadata": {
    "ExecuteTime": {
     "end_time": "2024-01-02T09:51:23.269105500Z",
     "start_time": "2024-01-02T09:51:22.752609200Z"
    },
    "collapsed": false,
    "jupyter": {
     "outputs_hidden": false
    }
   },
   "outputs": [],
   "source": [
    "import matplotlib.pyplot as plt\n",
    "from scipy import stats\n",
    "import numpy as np\n",
    "from numba import jit\n",
    "import pstats\n",
    "import heapq\n",
    "import time\n",
    "import cProfile\n",
    "import pandas as pd\n",
    "import numpy as np\n",
    "import pandas as pd\n",
    "from ast import literal_eval\n",
    "from pathlib import Path\n",
    "from pprint import pprint\n",
    "import cProfile\n",
    "import json\n",
    "import random\n",
    "\n",
    "puzzle_info_path = 'puzzle_info.csv'\n",
    "puzzles_path = 'puzzles.csv'\n",
    "sample_submission_path = 'sample_submission.csv'\n",
    "my_submission_path = 'submission.csv'\n",
    "\n",
    "puzzle_info_df = pd.read_csv(puzzle_info_path)\n",
    "puzzles_df = pd.read_csv(puzzles_path)\n",
    "sample_submission_df = pd.read_csv(sample_submission_path)\n",
    "my_submission_df = pd.read_csv(my_submission_path)"
   ]
  },
  {
   "cell_type": "code",
   "execution_count": 102,
   "metadata": {
    "ExecuteTime": {
     "end_time": "2024-01-02T09:51:23.276141200Z",
     "start_time": "2024-01-02T09:51:22.877185Z"
    }
   },
   "outputs": [
    {
     "data": {
      "text/html": [
       "<div>\n",
       "<style scoped>\n",
       "    .dataframe tbody tr th:only-of-type {\n",
       "        vertical-align: middle;\n",
       "    }\n",
       "\n",
       "    .dataframe tbody tr th {\n",
       "        vertical-align: top;\n",
       "    }\n",
       "\n",
       "    .dataframe thead th {\n",
       "        text-align: right;\n",
       "    }\n",
       "</style>\n",
       "<table border=\"1\" class=\"dataframe\">\n",
       "  <thead>\n",
       "    <tr style=\"text-align: right;\">\n",
       "      <th></th>\n",
       "      <th>id</th>\n",
       "      <th>puzzle_type</th>\n",
       "      <th>solution_state</th>\n",
       "      <th>initial_state</th>\n",
       "      <th>num_wildcards</th>\n",
       "    </tr>\n",
       "  </thead>\n",
       "  <tbody>\n",
       "    <tr>\n",
       "      <th>338</th>\n",
       "      <td>338</td>\n",
       "      <td>globe_1/8</td>\n",
       "      <td>A;A;C;C;E;E;G;G;I;I;K;K;M;M;O;O;B;B;D;D;F;F;H;...</td>\n",
       "      <td>I;P;O;A;A;D;F;L;J;M;G;M;P;F;E;J;E;B;O;G;H;D;N;...</td>\n",
       "      <td>0</td>\n",
       "    </tr>\n",
       "    <tr>\n",
       "      <th>339</th>\n",
       "      <td>339</td>\n",
       "      <td>globe_1/8</td>\n",
       "      <td>A;A;C;C;E;E;G;G;I;I;K;K;M;M;O;O;B;B;D;D;F;F;H;...</td>\n",
       "      <td>K;I;C;B;M;J;D;G;E;H;N;E;F;I;D;K;L;P;A;O;B;N;J;...</td>\n",
       "      <td>0</td>\n",
       "    </tr>\n",
       "    <tr>\n",
       "      <th>340</th>\n",
       "      <td>340</td>\n",
       "      <td>globe_1/8</td>\n",
       "      <td>A;A;C;C;E;E;G;G;I;I;K;K;M;M;O;O;B;B;D;D;F;F;H;...</td>\n",
       "      <td>M;O;L;M;P;F;L;B;I;G;E;J;A;G;O;I;C;H;D;P;B;A;N;...</td>\n",
       "      <td>0</td>\n",
       "    </tr>\n",
       "    <tr>\n",
       "      <th>341</th>\n",
       "      <td>341</td>\n",
       "      <td>globe_1/8</td>\n",
       "      <td>A;A;C;C;E;E;G;G;I;I;K;K;M;M;O;O;B;B;D;D;F;F;H;...</td>\n",
       "      <td>P;O;G;J;A;L;F;C;D;B;P;N;F;M;I;G;O;M;H;H;E;N;K;...</td>\n",
       "      <td>0</td>\n",
       "    </tr>\n",
       "    <tr>\n",
       "      <th>342</th>\n",
       "      <td>342</td>\n",
       "      <td>globe_1/8</td>\n",
       "      <td>A;A;C;C;E;E;G;G;I;I;K;K;M;M;O;O;B;B;D;D;F;F;H;...</td>\n",
       "      <td>F;H;O;M;C;J;K;I;J;L;B;N;B;G;K;H;D;P;A;D;E;N;P;...</td>\n",
       "      <td>2</td>\n",
       "    </tr>\n",
       "    <tr>\n",
       "      <th>343</th>\n",
       "      <td>343</td>\n",
       "      <td>globe_1/8</td>\n",
       "      <td>N0;N1;N2;N3;N4;N5;N6;N7;N8;N9;N10;N11;N12;N13;...</td>\n",
       "      <td>N21;N1;N9;N20;N30;N8;N25;N26;N11;N2;N16;N27;N4...</td>\n",
       "      <td>0</td>\n",
       "    </tr>\n",
       "    <tr>\n",
       "      <th>344</th>\n",
       "      <td>344</td>\n",
       "      <td>globe_1/8</td>\n",
       "      <td>N0;N1;N2;N3;N4;N5;N6;N7;N8;N9;N10;N11;N12;N13;...</td>\n",
       "      <td>N30;N0;N22;N15;N24;N19;N14;N18;N31;N6;N23;N16;...</td>\n",
       "      <td>0</td>\n",
       "    </tr>\n",
       "    <tr>\n",
       "      <th>345</th>\n",
       "      <td>345</td>\n",
       "      <td>globe_1/8</td>\n",
       "      <td>N0;N1;N2;N3;N4;N5;N6;N7;N8;N9;N10;N11;N12;N13;...</td>\n",
       "      <td>N19;N11;N22;N29;N15;N7;N14;N16;N0;N18;N9;N24;N...</td>\n",
       "      <td>0</td>\n",
       "    </tr>\n",
       "    <tr>\n",
       "      <th>346</th>\n",
       "      <td>346</td>\n",
       "      <td>globe_1/8</td>\n",
       "      <td>N0;N1;N2;N3;N4;N5;N6;N7;N8;N9;N10;N11;N12;N13;...</td>\n",
       "      <td>N9;N7;N17;N11;N30;N14;N5;N0;N16;N31;N6;N4;N1;N...</td>\n",
       "      <td>0</td>\n",
       "    </tr>\n",
       "    <tr>\n",
       "      <th>347</th>\n",
       "      <td>347</td>\n",
       "      <td>globe_1/8</td>\n",
       "      <td>N0;N1;N2;N3;N4;N5;N6;N7;N8;N9;N10;N11;N12;N13;...</td>\n",
       "      <td>N26;N10;N17;N24;N11;N3;N14;N16;N23;N2;N21;N1;N...</td>\n",
       "      <td>0</td>\n",
       "    </tr>\n",
       "  </tbody>\n",
       "</table>\n",
       "</div>"
      ],
      "text/plain": [
       "      id puzzle_type                                     solution_state  \\\n",
       "338  338   globe_1/8  A;A;C;C;E;E;G;G;I;I;K;K;M;M;O;O;B;B;D;D;F;F;H;...   \n",
       "339  339   globe_1/8  A;A;C;C;E;E;G;G;I;I;K;K;M;M;O;O;B;B;D;D;F;F;H;...   \n",
       "340  340   globe_1/8  A;A;C;C;E;E;G;G;I;I;K;K;M;M;O;O;B;B;D;D;F;F;H;...   \n",
       "341  341   globe_1/8  A;A;C;C;E;E;G;G;I;I;K;K;M;M;O;O;B;B;D;D;F;F;H;...   \n",
       "342  342   globe_1/8  A;A;C;C;E;E;G;G;I;I;K;K;M;M;O;O;B;B;D;D;F;F;H;...   \n",
       "343  343   globe_1/8  N0;N1;N2;N3;N4;N5;N6;N7;N8;N9;N10;N11;N12;N13;...   \n",
       "344  344   globe_1/8  N0;N1;N2;N3;N4;N5;N6;N7;N8;N9;N10;N11;N12;N13;...   \n",
       "345  345   globe_1/8  N0;N1;N2;N3;N4;N5;N6;N7;N8;N9;N10;N11;N12;N13;...   \n",
       "346  346   globe_1/8  N0;N1;N2;N3;N4;N5;N6;N7;N8;N9;N10;N11;N12;N13;...   \n",
       "347  347   globe_1/8  N0;N1;N2;N3;N4;N5;N6;N7;N8;N9;N10;N11;N12;N13;...   \n",
       "\n",
       "                                         initial_state  num_wildcards  \n",
       "338  I;P;O;A;A;D;F;L;J;M;G;M;P;F;E;J;E;B;O;G;H;D;N;...              0  \n",
       "339  K;I;C;B;M;J;D;G;E;H;N;E;F;I;D;K;L;P;A;O;B;N;J;...              0  \n",
       "340  M;O;L;M;P;F;L;B;I;G;E;J;A;G;O;I;C;H;D;P;B;A;N;...              0  \n",
       "341  P;O;G;J;A;L;F;C;D;B;P;N;F;M;I;G;O;M;H;H;E;N;K;...              0  \n",
       "342  F;H;O;M;C;J;K;I;J;L;B;N;B;G;K;H;D;P;A;D;E;N;P;...              2  \n",
       "343  N21;N1;N9;N20;N30;N8;N25;N26;N11;N2;N16;N27;N4...              0  \n",
       "344  N30;N0;N22;N15;N24;N19;N14;N18;N31;N6;N23;N16;...              0  \n",
       "345  N19;N11;N22;N29;N15;N7;N14;N16;N0;N18;N9;N24;N...              0  \n",
       "346  N9;N7;N17;N11;N30;N14;N5;N0;N16;N31;N6;N4;N1;N...              0  \n",
       "347  N26;N10;N17;N24;N11;N3;N14;N16;N23;N2;N21;N1;N...              0  "
      ]
     },
     "execution_count": 102,
     "metadata": {},
     "output_type": "execute_result"
    }
   ],
   "source": [
    "puzzles_df[puzzles_df[\"puzzle_type\"] == 'globe_1/8']\n",
    "# Two types: permutation & colors"
   ]
  },
  {
   "cell_type": "markdown",
   "metadata": {},
   "source": [
    "# Solving 2xM"
   ]
  },
  {
   "cell_type": "code",
   "execution_count": 103,
   "metadata": {
    "ExecuteTime": {
     "end_time": "2024-01-02T09:51:23.276141200Z",
     "start_time": "2024-01-02T09:51:22.881308800Z"
    }
   },
   "outputs": [],
   "source": [
    "idx = 343\n",
    "N = 1+1\n",
    "M = int(2*8)"
   ]
  },
  {
   "cell_type": "code",
   "execution_count": 104,
   "metadata": {
    "ExecuteTime": {
     "end_time": "2024-01-02T09:51:23.276141200Z",
     "start_time": "2024-01-02T09:51:22.952008900Z"
    }
   },
   "outputs": [
    {
     "name": "stdout",
     "output_type": "stream",
     "text": [
      "r0\n",
      "[[ 1  2  3  4  5  6  7  8  9 10 11 12 13 14 15  0]\n",
      " [16 17 18 19 20 21 22 23 24 25 26 27 28 29 30 31]]\n",
      "nr0\n",
      "[[15  0  1  2  3  4  5  6  7  8  9 10 11 12 13 14]\n",
      " [16 17 18 19 20 21 22 23 24 25 26 27 28 29 30 31]]\n",
      "r1\n",
      "[[ 0  1  2  3  4  5  6  7  8  9 10 11 12 13 14 15]\n",
      " [17 18 19 20 21 22 23 24 25 26 27 28 29 30 31 16]]\n",
      "f0\n",
      "[[23 22 21 20 19 18 17 16  8  9 10 11 12 13 14 15]\n",
      " [ 7  6  5  4  3  2  1  0 24 25 26 27 28 29 30 31]]\n",
      "[[ 0 24 23 22 21 20 19 18 17  9 10 11 12 13 14 15]\n",
      " [16  8  7  6  5  4  3  2  1 25 26 27 28 29 30 31]]\n",
      "[[ 0  1 25 24 23 22 21 20 19 18 10 11 12 13 14 15]\n",
      " [16 17  9  8  7  6  5  4  3  2 26 27 28 29 30 31]]\n",
      "[[ 1  2  3  4  5  6  7 23  8  9 10 11 12 13 14 15]\n",
      " [ 0 16 17 18 19 20 21 22 24 25 26 27 28 29 30 31]]\n",
      "[[16  0  1  2  3  4  5  6  8  9 10 11 12 13 14 15]\n",
      " [17 18 19 20 21 22 23  7 24 25 26 27 28 29 30 31]]\n",
      "[[ 0  1  2  3  4  5  6  7 16  8  9 10 11 12 13 14]\n",
      " [17 18 19 20 21 22 23 15 24 25 26 27 28 29 30 31]]\n",
      "[[ 0  1  2  3  4  5  6  7  9 10 11 12 13 14 15 23]\n",
      " [ 8 16 17 18 19 20 21 22 24 25 26 27 28 29 30 31]]\n",
      "[[24  0  1  2  3  4  5  6  8  9 10 11 12 13 14 15]\n",
      " [16 17 18 19 20 21 22 23 25 26 27 28 29 30 31  7]]\n",
      "[[ 1  2  3  4  5  6  7 31  8  9 10 11 12 13 14 15]\n",
      " [16 17 18 19 20 21 22 23  0 24 25 26 27 28 29 30]]\n"
     ]
    }
   ],
   "source": [
    "def print_globe(b):\n",
    "    print(np.asarray(b).reshape(2, M))\n",
    "\n",
    "apply_move = {}\n",
    "\n",
    "def set_moves(verbose = False): # Assumes M is reset\n",
    "    test_globe = np.array([i for i in range(2*M)])\n",
    "    r0_perm = np.array([i for i in range(2*M)])\n",
    "    r1_perm = np.array([i for i in range(2*M)])\n",
    "    f0_perm = np.array([i for i in range(2*M)])\n",
    "    \n",
    "    r0_perm[M-1] = 0\n",
    "    for i in range(0, M-1):\n",
    "        r0_perm[i] = i+1\n",
    "    \n",
    "    r1_perm[2 * M - 1] = M\n",
    "    for i in range(M, 2*M-1):\n",
    "        r1_perm[i] = i+1\n",
    "    \n",
    "    for i in range(M//2):\n",
    "        f0_perm[i] = M + M//2 - 1 - i\n",
    "    \n",
    "    for i in range(M, M + M//2):\n",
    "        f0_perm[i] = M//2-1 - (i-M)\n",
    "    \n",
    "    nr0_perm = np.array([i for i in range(2*M)])\n",
    "    nr1_perm = np.array([i for i in range(2*M)])\n",
    "    \n",
    "    for i in range(M-1):\n",
    "        nr0_perm = nr0_perm[r0_perm]\n",
    "    \n",
    "    for i in range(M-1):\n",
    "        nr1_perm = nr1_perm[r1_perm]\n",
    "\n",
    "    def r0(arr, moves):\n",
    "        moves.append('r0')\n",
    "        arr = arr[r0_perm]\n",
    "        return arr\n",
    "    \n",
    "    def nr0(arr, moves):\n",
    "        moves.append('-r0')\n",
    "        arr = arr[nr0_perm]\n",
    "        return arr\n",
    "    \n",
    "    def r1(arr, moves):\n",
    "        moves.append('r1')\n",
    "        arr = arr[r1_perm]\n",
    "        return arr\n",
    "    \n",
    "    def nr1(arr, moves):\n",
    "        moves.append('-r1')\n",
    "        arr = arr[nr1_perm]\n",
    "        return arr\n",
    "    \n",
    "    def f0(arr, moves):\n",
    "        moves.append('f0')\n",
    "        arr = arr[f0_perm]\n",
    "        return arr\n",
    "    \n",
    "    apply_move['r0'] = r0\n",
    "    apply_move['-r0'] = nr0\n",
    "    apply_move['r1'] = r1\n",
    "    apply_move['-r1'] = nr1\n",
    "    apply_move['f0'] = f0\n",
    "\n",
    "    def create_f_function(i, cur_perm):\n",
    "        return lambda arr, moves: (moves.append('f' + str(i)), arr[cur_perm])[1]\n",
    "\n",
    "    for i in range(1, M):\n",
    "        cur_perm = np.array([i for i in range(2*M)])\n",
    "    \n",
    "        for j in range(i):\n",
    "            cur_perm = cur_perm[r0_perm]\n",
    "            cur_perm = cur_perm[r1_perm]\n",
    "    \n",
    "        cur_perm = cur_perm[f0_perm]\n",
    "    \n",
    "        for j in range(i):\n",
    "            cur_perm = cur_perm[nr0_perm]\n",
    "            cur_perm = cur_perm[nr1_perm]\n",
    "            \n",
    "        apply_move['f' + str(i)] = create_f_function(i, cur_perm)\n",
    "\n",
    "    if verbose:\n",
    "        print(\"r0\")\n",
    "        print_globe(r0(test_globe, []))\n",
    "        print(\"nr0\")\n",
    "        print_globe(nr0(test_globe, []))\n",
    "        print(\"r1\")\n",
    "        print_globe(r1(test_globe, []))\n",
    "        print(\"f0\")\n",
    "        print_globe(f0(test_globe, []))\n",
    "        print_globe(apply_move['f1'](test_globe, []))\n",
    "        print_globe(apply_move['f2'](test_globe, []))\n",
    "\n",
    "    set_half_turn_moves(verbose)\n",
    "\n",
    "def set_half_turn_moves(verbose):\n",
    "    test_globe = np.array([i for i in range(2*M)])\n",
    "    def half_turn_ccw(arr, moves):\n",
    "        for i in range(M//2):\n",
    "            arr = apply_move['-r0'](arr, moves)\n",
    "        \n",
    "        arr = apply_move['f0'](arr, moves)\n",
    "        arr = apply_move['r0'](arr, moves)\n",
    "        arr = apply_move['f0'](arr, moves)\n",
    "        \n",
    "        for i in range(M//2):\n",
    "            arr = apply_move['r0'](arr, moves)\n",
    "        return arr\n",
    "    \n",
    "    def half_turn_cw(arr, moves):\n",
    "        for i in range(M//2):\n",
    "            arr = apply_move['-r0'](arr, moves)\n",
    "        \n",
    "        arr = apply_move['f0'](arr, moves)\n",
    "        arr = apply_move['-r0'](arr, moves)\n",
    "        arr = apply_move['f0'](arr, moves)\n",
    "        \n",
    "        for i in range(M//2):\n",
    "            arr = apply_move['r0'](arr, moves)\n",
    "        return arr\n",
    "    \n",
    "    apply_move['half_turn'] = half_turn_ccw\n",
    "    apply_move['rev_half_turn'] = half_turn_cw\n",
    "\n",
    "    def top_right_cw(arr, moves):\n",
    "        arr = apply_move['f0'](arr, moves)\n",
    "        arr = apply_move['-r0'](arr, moves)\n",
    "        arr = apply_move['f0'](arr, moves)\n",
    "        return arr\n",
    "    \n",
    "    def top_right_ccw(arr, moves):\n",
    "        arr = apply_move['f0'](arr, moves)\n",
    "        arr = apply_move['r0'](arr, moves)\n",
    "        arr = apply_move['f0'](arr, moves)\n",
    "        return arr\n",
    "    \n",
    "    def top_left_ccw(arr, moves):\n",
    "        arr = apply_move['f0'](arr, moves)\n",
    "        arr = apply_move['-r1'](arr, moves)\n",
    "        arr = apply_move['f0'](arr, moves)\n",
    "        return arr\n",
    "    \n",
    "    def top_left_cw(arr, moves):\n",
    "        arr = apply_move['f0'](arr, moves)\n",
    "        arr = apply_move['r1'](arr, moves)\n",
    "        arr = apply_move['f0'](arr, moves)\n",
    "        return arr\n",
    "    \n",
    "    apply_move['top_right_cw'] = top_right_cw\n",
    "    apply_move['top_right_ccw'] = top_right_ccw\n",
    "    apply_move['top_left_cw'] = top_left_cw\n",
    "    apply_move['top_left_ccw'] = top_left_ccw\n",
    "\n",
    "    if verbose:\n",
    "        print_globe(half_turn_ccw(test_globe, []))\n",
    "        print_globe(half_turn_cw(test_globe, []))\n",
    "        print_globe(top_right_cw(test_globe, []))\n",
    "        print_globe(top_right_ccw(test_globe, []))\n",
    "        print_globe(top_left_cw(test_globe, []))\n",
    "        print_globe(top_left_ccw(test_globe, []))\n",
    "\n",
    "set_moves(True)"
   ]
  },
  {
   "cell_type": "markdown",
   "metadata": {
    "collapsed": false,
    "jupyter": {
     "outputs_hidden": false
    }
   },
   "source": [
    "## Phase 0: Set Left Half"
   ]
  },
  {
   "cell_type": "code",
   "execution_count": 105,
   "metadata": {
    "ExecuteTime": {
     "end_time": "2024-01-02T09:51:23.279465Z",
     "start_time": "2024-01-02T09:51:22.962533700Z"
    },
    "collapsed": false,
    "jupyter": {
     "outputs_hidden": false
    }
   },
   "outputs": [],
   "source": [
    "def set_left_half(globe: np.array, solution_globe: np.array, moves: list) -> np.array:\n",
    "    \"\"\"\n",
    "    MOVES CAN STILL BE OPTIMIZED. Optimize bottom left first.\n",
    "    Note we can directly model some operations as a shortest path problem instead of constructing by hand.\n",
    "\n",
    "    Sets the left half of the globe to anything (the right half is arbitrary after).\n",
    "    Returns it (original unaffected).\n",
    "    'moves' changed in place.\n",
    "\n",
    "    We first set the top left then the bottom left, both from left to right.\n",
    "    Most of the puzzles have duplicates, and this function accounts for that to decrease moves.\n",
    "\n",
    "    TOP LEFT:\n",
    "        For the top left, say we want to set the ith element.\n",
    "        Then, our goal is to use any element with value ai (remember there are duplicates).\n",
    "        Let's get it in the bottom row at position i+m/2-1 so we can apply fi to finish.\n",
    "\n",
    "        Consider each candidate element and pick the one that takes the least moves.\n",
    "\n",
    "        If it is in the top, try all available f's. Now it is in the bottom.\n",
    "\n",
    "        Now the element must be in the bottom, say at position j. The following algo is called fastest_rotation() in the code:\n",
    "        It will take j-(i+m/2-1) rotations (if negative, use inverse).\n",
    "            POSSIBLE OPTIMIZATION: we could use 2 f moves to move the element faster. Use BFS for optimal.\n",
    "\n",
    "        Finally, Apply fi to set the element.\n",
    "\n",
    "    BOTTOM LEFT:\n",
    "        For the bottom left, say we want to set the ith element.\n",
    "            Note that i > 0, i=0 handled separately similar to TOP LEFT.\n",
    "        An invariant is that the elements 0, 1, ... i-1 are contiguous and i-1 is at M+M//2-1 in the bottom (center).\n",
    "\n",
    "        Consider each candidate element (any with value ai) and pick the one that takes the least moves.\n",
    "\n",
    "        If it is in the top, use f to put it in the bottom, now it is in the right half.\n",
    "        If it is in the bottom and in the left half, rotate until it is in the right half.\n",
    "\n",
    "        Now the element must be in the right half. The following algo is called merge_i() in the code:\n",
    "        Use r1 until element 0 is at index M or element i is at M + M//2, whichever occurs sooner.\n",
    "        Then, use top_right_ccw until element i-1 is at M+M//2-1.\n",
    "        Repeat until element i-1 is adjacent to element i (at M + M//2). Then finish with r1.\n",
    "\n",
    "    NUMBER OF MOVES:\n",
    "        Empirical results for 3/33:\n",
    "            N0:N1... (no duplicates)\n",
    "                Top left ~390\n",
    "                Bot left ~1550\n",
    "\n",
    "            (AAAAAABBBBBBC...) (6 original duplicates)\n",
    "                Top left ~180\n",
    "                Bot left ~800\n",
    "\n",
    "        Theory:\n",
    "            Let x be the number of duplicates.\n",
    "\n",
    "            Top left:\n",
    "                ~M/2(x+1) moves per element.\n",
    "                    If x=1, the element is about M/4 away from i+m/2-1. We generalize this as x+1 points on a circle.\n",
    "            Bottom left:\n",
    "                ~2*M/(x+1)\n",
    "                    Using the x+1 points on a circle argument, bottom point is M/(x+1) away.\n",
    "                    To decrease dist by 1, we'll need r1 + 1 top top_right_ccw.\n",
    "                    So worse case is 4 moves per 1 dist. However, for small i we can do multiple top_right_ccw at once.\n",
    "\n",
    "    OPTIMAL PERM TO SET:\n",
    "        WLOG consider setting the top left. It is optimal to set it to 0, 1, ... M/4-1, 3M/4, 2, ... M-1\n",
    "\n",
    "        Move_top_bot_helper() will insert the remaining elements (M/4 ... 3M/4-1) randomly.\n",
    "\n",
    "        Note that an array of length X has X^2/4 inversions on average.\n",
    "        Thus, we'll have (M/2)^2/4 inversions from these remaining elements regardless of our choice of top left.\n",
    "\n",
    "        Let's calculate the # of inversions between the remaining elements and those in the top left.\n",
    "        It suffices to calculate it for a single element since they all have the same relative value with respect to top left.\n",
    "        There are M//2+1 \"locations\" it could equally likely be (before 1st top left, between 1st, 2nd, ...).\n",
    "        The inversions respectively are M/4, M/4-1, ... 0 ... M/4.\n",
    "        Thus, the average # of inversions for each of remaining element with elements in top left = M/8.\n",
    "        We can prove the optimality via:\n",
    "            Inversions contributed by each element are independent.\n",
    "            Minimum expected inversions achieved at median via calculus: minimize (k)(k-1)/2 + (m-k)(m-k-1)/2\n",
    "        This yields M/8 * M/2 more inversions.\n",
    "\n",
    "        The total is M^2/8 inversions, which is half the number if top was just randomly permuted (M^2/4).\n",
    "    \"\"\"\n",
    "\n",
    "    # Optimal top left and bottom left\n",
    "    sorted_top = list(solution_globe[:M])\n",
    "    sorted_bot = list(solution_globe[M:])\n",
    "    top_left = sorted_top[:M//4] + sorted_top[-(M//2 - M//4):]\n",
    "    bot_left = sorted_bot[:M//4] + sorted_bot[-(M//2 - M//4):]\n",
    "\n",
    "    def idx_after_f(x, i):\n",
    "        # Index of i (i is in top) after using fx (gets mirrored and placed at bottom)\n",
    "        return M + x + (M//2-1 - (i-x))\n",
    "\n",
    "    def fastest_rotation(j, k):\n",
    "        # Returns the shortest rotation moves to place j at k on bottom\n",
    "        dist_r1 = (j-k) % M\n",
    "        dist_nr1 = (k-j) % M\n",
    "        if dist_r1 < dist_nr1:\n",
    "            # Faster to use r1\n",
    "            return ['r1'] * dist_r1\n",
    "        else:\n",
    "            # Faster to go in the other direction and use -r1\n",
    "            return ['-r1'] * dist_nr1\n",
    "\n",
    "    # Set top left element by element\n",
    "    for i in range(M//2):\n",
    "        if globe[i] == top_left[i]:\n",
    "            # Lucky! It's already set.\n",
    "            continue\n",
    "\n",
    "        best_moves = None\n",
    "        candidates = []  # (moves, index of candidate in bottom) after reducing to in bottom case\n",
    "\n",
    "        # Top\n",
    "        for j in range(i+1, M):\n",
    "            if globe[j] == top_left[i]:\n",
    "                # Try all possible f{k} moves\n",
    "                for x in range(max(i+1, j-M//2+1), min(j, M//2)+1):\n",
    "                    candidates.append(([f'f{x}'], idx_after_f(x, j)))\n",
    "\n",
    "        # Bottom\n",
    "        for j in range(M, 2*M):\n",
    "            if globe[j] == top_left[i]:\n",
    "                candidates.append(([], j))\n",
    "\n",
    "        # Now we've reduces to bottom case\n",
    "        # Find candidate which takes the least moves\n",
    "        final_idx_bot = M + i+M//2-1  # Index we want the element before applying fi\n",
    "        for cur_moves, bot_j in candidates:\n",
    "            cur_moves += fastest_rotation(bot_j, final_idx_bot)\n",
    "\n",
    "            # Update if better\n",
    "            if best_moves is None or len(cur_moves) < len(best_moves):\n",
    "                best_moves = cur_moves\n",
    "\n",
    "        # Apply final fi\n",
    "        best_moves.append(f'f{i}')\n",
    "\n",
    "        # Apply moves to the globe\n",
    "        for move in best_moves:\n",
    "            globe = apply_move[move](globe, moves)\n",
    "\n",
    "\n",
    "    # Set bottom left element by element\n",
    "\n",
    "    def merge_i(idx_0, idx_i):\n",
    "        # Returns the moves to make elements i-1 and i adjacent (i is in the bottom left)\n",
    "\n",
    "        moves = []\n",
    "\n",
    "        while idx_i - idx_0 > i:\n",
    "            # Use r1 until idx_0 is at M or idx_i is at M + M//2\n",
    "            max_r1 = min(idx_0 - M, idx_i - (M+M//2))\n",
    "            moves.extend(['r1'] * max_r1)\n",
    "            idx_i -= max_r1\n",
    "            idx_0 -= max_r1\n",
    "\n",
    "            # Use top_right_ccw until i-1 is at center (M + M//2-1)\n",
    "            idx_i_minus_one = idx_0 + i-1\n",
    "            amt_rotate = (M + M//2-1) - idx_i_minus_one\n",
    "            moves.extend([f'f{M//2}'] + ['-r1']*amt_rotate + [f'f{M//2}'])\n",
    "            idx_0 += amt_rotate\n",
    "\n",
    "        return moves\n",
    "\n",
    "    for i in range(M//2):\n",
    "        best_moves = None\n",
    "\n",
    "        if i == 0:\n",
    "            # Handle element 0 separately, very similarly to how we did top left.\n",
    "            candidates = []  # (moves, index of element) after reducing to in bottom case.\n",
    "\n",
    "            # At top\n",
    "            for j in range(M//2, M):\n",
    "                if globe[j] == bot_left[i]:\n",
    "                    candidates.append(([f'f{M//2}'], idx_after_f(M//2, j)))\n",
    "\n",
    "            # At bot\n",
    "            for j in range(M, 2*M):\n",
    "                if globe[j] == bot_left[i]:\n",
    "                    candidates.append(([], j))\n",
    "\n",
    "            # Now we've reduced to bottom case\n",
    "            # Find best candidate\n",
    "            for cur_moves, idx_candidate in candidates:\n",
    "                cur_moves += fastest_rotation(idx_candidate, M + M//2-1)\n",
    "\n",
    "                # Update if better\n",
    "                if best_moves is None or len(cur_moves) < len(best_moves):\n",
    "                    best_moves = cur_moves\n",
    "        else:\n",
    "            candidates = [] # (moves, index of 0, index of candidate in bottom) after reducing to in bottom right case.\n",
    "            idx_0 = M + M//2-i\n",
    "\n",
    "            # Top\n",
    "            for j in range(M//2, M):\n",
    "                if globe[j] == bot_left[i]:\n",
    "                    # Apply f{M//2}\n",
    "                    candidates.append(([f'f{M//2}'], idx_0, idx_after_f(M//2, j)))\n",
    "\n",
    "            # Bot left\n",
    "            for j in range(M, idx_0):\n",
    "                if globe[j] == bot_left[i]:\n",
    "                    # Use r1 until candidate is in bot right\n",
    "                    num_r1 = j-M+1\n",
    "                    candidates.append((['r1'] * num_r1, idx_0 - num_r1, 2*M-1))\n",
    "\n",
    "            # Bot right\n",
    "            for j in range(M + M//2, 2*M):\n",
    "                if globe[j] == bot_left[i]:\n",
    "                    candidates.append(([], idx_0, j))\n",
    "\n",
    "            # Now we've reduced to bottom right case\n",
    "            # Find best candidate\n",
    "            for cur_moves, idx_0, idx_candidate in candidates:\n",
    "                cur_moves += merge_i(idx_0, idx_candidate)\n",
    "\n",
    "                # Update if better\n",
    "                if best_moves is None or len(cur_moves) < len(best_moves):\n",
    "                    best_moves = cur_moves\n",
    "\n",
    "            # Apply r1 to now have element i at center (M + M//2-1)\n",
    "            best_moves.append('r1')\n",
    "\n",
    "        # Apply moves to the globe\n",
    "        for move in best_moves:\n",
    "            globe = apply_move[move](globe, moves)\n",
    "\n",
    "    assert (globe[:M//2] == top_left).all()\n",
    "    assert (globe[M:M+M//2] == bot_left).all()\n",
    "\n",
    "    return globe"
   ]
  },
  {
   "cell_type": "markdown",
   "metadata": {},
   "source": [
    "## Phase 1: Sort Elements Into Top/Bottom Arrays"
   ]
  },
  {
   "cell_type": "code",
   "execution_count": 106,
   "metadata": {
    "ExecuteTime": {
     "end_time": "2024-01-02T09:51:23.279465Z",
     "start_time": "2024-01-02T09:51:22.970638300Z"
    }
   },
   "outputs": [
    {
     "name": "stdout",
     "output_type": "stream",
     "text": [
      "32\n"
     ]
    }
   ],
   "source": [
    "test_globe = np.array(puzzles_df[puzzles_df[\"puzzle_type\"] == \"globe_1/8\"]['initial_state'][idx].split(';'))\n",
    "test_solution_globe = np.array(puzzles_df[puzzles_df[\"puzzle_type\"] == \"globe_1/8\"]['solution_state'][idx].split(';'))\n",
    "print(len(test_globe))"
   ]
  },
  {
   "cell_type": "code",
   "execution_count": 107,
   "metadata": {
    "ExecuteTime": {
     "end_time": "2024-01-02T09:51:23.279465Z",
     "start_time": "2024-01-02T09:51:22.982283100Z"
    }
   },
   "outputs": [],
   "source": [
    "# test_globe = apply_move['f0'](test_globe, [])\n",
    "# test_globe = apply_move['f9'](test_globe, [])\n",
    "# test_globe = apply_move['r0'](test_globe, [])\n",
    "# test_globe = apply_move['r0'](test_globe, [])\n",
    "# test_globe = apply_move['f1'](test_globe, [])"
   ]
  },
  {
   "cell_type": "code",
   "execution_count": 108,
   "metadata": {
    "ExecuteTime": {
     "end_time": "2024-01-02T09:51:23.279465Z",
     "start_time": "2024-01-02T09:51:22.990409500Z"
    }
   },
   "outputs": [
    {
     "name": "stdout",
     "output_type": "stream",
     "text": [
      "[['N21' 'N1' 'N9' 'N20' 'N30' 'N8' 'N25' 'N26' 'N11' 'N2' 'N16' 'N27'\n",
      "  'N4' 'N28' 'N6' 'N13']\n",
      " ['N17' 'N31' 'N12' 'N18' 'N19' 'N0' 'N29' 'N10' 'N22' 'N14' 'N24' 'N7'\n",
      "  'N3' 'N5' 'N15' 'N23']]\n"
     ]
    }
   ],
   "source": [
    "print_globe(test_globe)"
   ]
  },
  {
   "cell_type": "code",
   "execution_count": 109,
   "metadata": {
    "ExecuteTime": {
     "end_time": "2024-01-02T09:51:23.279465Z",
     "start_time": "2024-01-02T09:51:23.001396700Z"
    }
   },
   "outputs": [],
   "source": [
    "moves = []"
   ]
  },
  {
   "cell_type": "code",
   "execution_count": 138,
   "metadata": {
    "ExecuteTime": {
     "end_time": "2024-01-02T09:51:23.280415200Z",
     "start_time": "2024-01-02T09:51:23.011671Z"
    }
   },
   "outputs": [
    {
     "ename": "IndexError",
     "evalue": "index 32 is out of bounds for axis 0 with size 32",
     "output_type": "error",
     "traceback": [
      "\u001b[0;31m---------------------------------------------------------------------------\u001b[0m",
      "\u001b[0;31mIndexError\u001b[0m                                Traceback (most recent call last)",
      "Cell \u001b[0;32mIn[138], line 69\u001b[0m\n\u001b[1;32m     66\u001b[0m     \u001b[38;5;28;01mreturn\u001b[39;00m arr\n\u001b[1;32m     68\u001b[0m m \u001b[38;5;241m=\u001b[39m []\n\u001b[0;32m---> 69\u001b[0m print_globe(\u001b[43mmove_top_bottom_helper\u001b[49m\u001b[43m(\u001b[49m\u001b[43mtest_globe\u001b[49m\u001b[43m,\u001b[49m\u001b[43m \u001b[49m\u001b[43mtest_solution_globe\u001b[49m\u001b[43m,\u001b[49m\u001b[43m \u001b[49m\u001b[43mm\u001b[49m\u001b[43m)\u001b[49m)\n\u001b[1;32m     70\u001b[0m \u001b[38;5;28mprint\u001b[39m(\u001b[38;5;28mlen\u001b[39m(m))\n",
      "Cell \u001b[0;32mIn[138], line 23\u001b[0m, in \u001b[0;36mmove_top_bottom_helper\u001b[0;34m(arr, solution_arr, moves)\u001b[0m\n\u001b[1;32m     20\u001b[0m top \u001b[38;5;241m=\u001b[39m \u001b[38;5;28mset\u001b[39m(solution_arr[:M])\n\u001b[1;32m     21\u001b[0m bot \u001b[38;5;241m=\u001b[39m \u001b[38;5;28mset\u001b[39m(solution_arr[M:])\n\u001b[0;32m---> 23\u001b[0m \u001b[38;5;28;01mwhile\u001b[39;00m \u001b[38;5;129;01mnot\u001b[39;00m \u001b[43mis_moved_top_bottom\u001b[49m\u001b[43m(\u001b[49m\u001b[43marr\u001b[49m\u001b[43m,\u001b[49m\u001b[43m \u001b[49m\u001b[43msolution_arr\u001b[49m\u001b[43m)\u001b[49m:\n\u001b[1;32m     25\u001b[0m     rotate_locs \u001b[38;5;241m=\u001b[39m [\n\u001b[1;32m     26\u001b[0m         (M\u001b[38;5;241m/\u001b[39m\u001b[38;5;241m/\u001b[39m\u001b[38;5;241m2\u001b[39m, M \u001b[38;5;241m+\u001b[39m M \u001b[38;5;241m/\u001b[39m\u001b[38;5;241m/\u001b[39m \u001b[38;5;241m2\u001b[39m \u001b[38;5;241m-\u001b[39m \u001b[38;5;241m1\u001b[39m, \u001b[38;5;124m'\u001b[39m\u001b[38;5;124mtop_right_ccw\u001b[39m\u001b[38;5;124m'\u001b[39m),\n\u001b[1;32m     27\u001b[0m         (M\u001b[38;5;241m-\u001b[39m\u001b[38;5;241m1\u001b[39m, M, \u001b[38;5;124m'\u001b[39m\u001b[38;5;124mtop_right_cw\u001b[39m\u001b[38;5;124m'\u001b[39m),\n\u001b[1;32m     28\u001b[0m         (M\u001b[38;5;241m/\u001b[39m\u001b[38;5;241m/\u001b[39m\u001b[38;5;241m2\u001b[39m\u001b[38;5;241m-\u001b[39m\u001b[38;5;241m1\u001b[39m, M \u001b[38;5;241m+\u001b[39m M\u001b[38;5;241m/\u001b[39m\u001b[38;5;241m/\u001b[39m\u001b[38;5;241m2\u001b[39m, \u001b[38;5;124m'\u001b[39m\u001b[38;5;124mtop_left_cw\u001b[39m\u001b[38;5;124m'\u001b[39m),\n\u001b[1;32m     29\u001b[0m         (\u001b[38;5;241m0\u001b[39m, \u001b[38;5;241m2\u001b[39m\u001b[38;5;241m*\u001b[39mM\u001b[38;5;241m-\u001b[39m\u001b[38;5;241m1\u001b[39m, \u001b[38;5;124m'\u001b[39m\u001b[38;5;124mtop_left_ccw\u001b[39m\u001b[38;5;124m'\u001b[39m)\n\u001b[1;32m     30\u001b[0m     ]\n\u001b[1;32m     32\u001b[0m     all_costs \u001b[38;5;241m=\u001b[39m []\n",
      "Cell \u001b[0;32mIn[138], line 6\u001b[0m, in \u001b[0;36mis_moved_top_bottom\u001b[0;34m(arr, solution_arr)\u001b[0m\n\u001b[1;32m      3\u001b[0m bot \u001b[38;5;241m=\u001b[39m \u001b[38;5;28mset\u001b[39m(solution_arr[M:])\n\u001b[1;32m      5\u001b[0m \u001b[38;5;28;01mfor\u001b[39;00m i \u001b[38;5;129;01min\u001b[39;00m \u001b[38;5;28mrange\u001b[39m(M):\n\u001b[0;32m----> 6\u001b[0m     \u001b[38;5;28;01mif\u001b[39;00m \u001b[43marr\u001b[49m\u001b[43m[\u001b[49m\u001b[43mi\u001b[49m\u001b[43m]\u001b[49m \u001b[38;5;129;01min\u001b[39;00m bot:\n\u001b[1;32m      7\u001b[0m         \u001b[38;5;28;01mreturn\u001b[39;00m \u001b[38;5;28;01mFalse\u001b[39;00m\n\u001b[1;32m      8\u001b[0m \u001b[38;5;28;01mfor\u001b[39;00m i \u001b[38;5;129;01min\u001b[39;00m \u001b[38;5;28mrange\u001b[39m(M, \u001b[38;5;241m2\u001b[39m\u001b[38;5;241m*\u001b[39mM):\n",
      "\u001b[0;31mIndexError\u001b[0m: index 32 is out of bounds for axis 0 with size 32"
     ]
    }
   ],
   "source": [
    "def is_moved_top_bottom(arr, solution_arr):\n",
    "    top = set(solution_arr[:M])\n",
    "    bot = set(solution_arr[M:])\n",
    "\n",
    "    for i in range(M):\n",
    "        if arr[i] in bot:\n",
    "            return False\n",
    "    for i in range(M, 2*M):\n",
    "        if arr[i] in top:\n",
    "            return False\n",
    "    return True\n",
    "\n",
    "# change this to allow all M cyclic rotates\n",
    "def move_top_bottom_helper(arr, solution_arr, moves):\n",
    "    \"\"\"\n",
    "    Note that top_right_cw is just a shifted top_left_cw, so that is redundant.\n",
    "    Also, we should apply the _right_cw directly at top element to remove rotating to right place.\n",
    "    \"\"\"\n",
    "    \n",
    "    top = set(solution_arr[:M])\n",
    "    bot = set(solution_arr[M:])\n",
    "    \n",
    "    while not is_moved_top_bottom(arr, solution_arr):\n",
    "        \n",
    "        rotate_locs = [\n",
    "            (M//2, M + M // 2 - 1, 'top_right_ccw'),\n",
    "            (M-1, M, 'top_right_cw'),\n",
    "            (M//2-1, M + M//2, 'top_left_cw'),\n",
    "            (0, 2*M-1, 'top_left_ccw')\n",
    "        ]\n",
    "\n",
    "        all_costs = []\n",
    "\n",
    "        for a, b, op_name in rotate_locs:\n",
    "            mn_a, mn_b = int(1e9), int(1e9)\n",
    "            top_ops, bot_ops = [], []\n",
    "            \n",
    "            for i in range(M):\n",
    "                if arr[i] in bot: # TODO: Try no abs. Can only r0\n",
    "                    if abs(i - a) < mn_a:\n",
    "                        mn_a = abs(i-a)\n",
    "\n",
    "                        if i < a: # rotate right\n",
    "                            top_ops = ['-r0'] * (a - i)\n",
    "                        else:\n",
    "                            top_ops = ['r0'] * (i - a)\n",
    "\n",
    "            for i in range(M, 2*M):\n",
    "                if arr[i] in top:\n",
    "                    if abs(i - b) < mn_b:\n",
    "                        mn_b = abs(i - b)\n",
    "\n",
    "                        if i < b:\n",
    "                            bot_ops = ['-r1'] * (b - i)\n",
    "                        else:\n",
    "                            bot_ops = ['r1'] * (i - b)\n",
    "\n",
    "            all_costs.append((mn_a + mn_b, top_ops + bot_ops, op_name))\n",
    "\n",
    "        all_costs = list(sorted(all_costs))\n",
    "        random_i = random.randrange(len(all_costs))  # Random choice\n",
    "        for move in all_costs[random_i][1]:\n",
    "            arr = apply_move[move](arr, moves)\n",
    "        arr = apply_move[all_costs[random_i][2]](arr, moves)\n",
    "        \n",
    "    return arr\n",
    "\n",
    "m = []\n",
    "print_globe(move_top_bottom_helper(test_globe, test_solution_globe, m))\n",
    "print(len(m))"
   ]
  },
  {
   "cell_type": "code",
   "execution_count": 111,
   "metadata": {
    "ExecuteTime": {
     "end_time": "2024-01-02T09:51:23.280415200Z",
     "start_time": "2024-01-02T09:51:23.019328200Z"
    }
   },
   "outputs": [],
   "source": [
    "test_globe = move_top_bottom_helper(test_globe, test_solution_globe, moves)\n",
    "top_bot_moves = moves\n",
    "top_bot_state = test_globe\n",
    "# try only applying ex-red here"
   ]
  },
  {
   "cell_type": "markdown",
   "metadata": {},
   "source": [
    "## Phase 2: Remove Inversions"
   ]
  },
  {
   "cell_type": "code",
   "execution_count": 112,
   "metadata": {
    "ExecuteTime": {
     "end_time": "2024-01-02T09:51:23.280415200Z",
     "start_time": "2024-01-02T09:51:23.029435400Z"
    }
   },
   "outputs": [
    {
     "name": "stdout",
     "output_type": "stream",
     "text": [
      "[['N13' 'N1' 'N9' 'N8' 'N11' 'N2' 'N4' 'N5' 'N6' 'N3' 'N7' 'N10' 'N14'\n",
      "  'N0' 'N12' 'N15']\n",
      " ['N28' 'N21' 'N31' 'N18' 'N19' 'N29' 'N22' 'N24' 'N27' 'N23' 'N26' 'N16'\n",
      "  'N25' 'N17' 'N30' 'N20']]\n"
     ]
    }
   ],
   "source": [
    "test_globe = top_bot_state\n",
    "moves = top_bot_moves\n",
    "\n",
    "print_globe(test_globe)"
   ]
  },
  {
   "cell_type": "code",
   "execution_count": 113,
   "metadata": {
    "ExecuteTime": {
     "end_time": "2024-01-02T09:51:23.280415200Z",
     "start_time": "2024-01-02T09:51:23.040571300Z"
    }
   },
   "outputs": [
    {
     "name": "stdout",
     "output_type": "stream",
     "text": [
      "69\n",
      "66\n"
     ]
    }
   ],
   "source": [
    "def merge_and_count(arr, temp, left, mid, right):\n",
    "    i, j, k = left, mid + 1, left\n",
    "    inv_count = 0\n",
    "\n",
    "    while i <= mid and j <= right:\n",
    "        if arr[i] <= arr[j]:\n",
    "            temp[k] = arr[i]\n",
    "            i += 1\n",
    "        else:\n",
    "            temp[k] = arr[j]\n",
    "            inv_count += (mid - i + 1)\n",
    "            j += 1\n",
    "        k += 1\n",
    "\n",
    "    while i <= mid:\n",
    "        temp[k] = arr[i]\n",
    "        k += 1\n",
    "        i += 1\n",
    "\n",
    "    while j <= right:\n",
    "        temp[k] = arr[j]\n",
    "        k += 1\n",
    "        j += 1\n",
    "\n",
    "    for i in range(left, right + 1):\n",
    "        arr[i] = temp[i]\n",
    "\n",
    "    return inv_count\n",
    "\n",
    "def merge_sort_and_count(arr, temp, left, right):\n",
    "    inv_count = 0\n",
    "    if left < right:\n",
    "        mid = (left + right) // 2\n",
    "        inv_count += merge_sort_and_count(arr, temp, left, mid)\n",
    "        inv_count += merge_sort_and_count(arr, temp, mid + 1, right)\n",
    "        inv_count += merge_and_count(arr, temp, left, mid, right)\n",
    "    return inv_count\n",
    "\n",
    "def count_inversions(arr):\n",
    "    n = len(arr)\n",
    "    temp_arr = arr.copy()  # Create a copy of the array\n",
    "    temp = [0] * n\n",
    "    return merge_sort_and_count(temp_arr, temp, 0, n - 1)\n",
    "\n",
    "print(count_inversions(test_globe[0:M]))\n",
    "print(count_inversions(test_globe[M:2*M]))"
   ]
  },
  {
   "cell_type": "code",
   "execution_count": 114,
   "metadata": {
    "ExecuteTime": {
     "end_time": "2024-01-02T09:51:23.280415200Z",
     "start_time": "2024-01-02T09:51:23.050678700Z"
    }
   },
   "outputs": [
    {
     "name": "stdout",
     "output_type": "stream",
     "text": [
      "[[ 0  1  2  3  4  5  6  7  8  9 10 11 12 13 14 15]\n",
      " [16 17 18 19 20 21 22 23 24 25 26 27 28 29 30 31]]\n",
      "[[ 0  2  1  3  4  5  6  7  8  9 10 11 12 13 14 15]\n",
      " [16 18 17 19 20 21 22 23 24 25 26 27 28 29 30 31]]\n"
     ]
    }
   ],
   "source": [
    "temp_test_globe = np.array([i for i in range(2*M)])\n",
    "\n",
    "# swaps i, i+1 for both top and bottom\n",
    "def swap_same_idx(i, arr, moves):\n",
    "    loc = M // 2 - 1\n",
    "    if i < loc:\n",
    "        i += M\n",
    "\n",
    "    delta = i - loc\n",
    "\n",
    "    arr = apply_move['f' + str(delta)](arr, moves)\n",
    "    arr = apply_move['r0'](arr, moves)\n",
    "    arr = apply_move['f' + str(delta)](arr, moves)\n",
    "\n",
    "    arr = apply_move['r1'](arr, moves)\n",
    "    arr = apply_move['r1'](arr, moves)\n",
    "\n",
    "    plus_half_minus_one = (delta + loc) % M\n",
    "\n",
    "    arr = apply_move['f' + str(plus_half_minus_one)](arr, moves)\n",
    "    arr = apply_move['r0'](arr, moves)\n",
    "    arr = apply_move['f' + str(plus_half_minus_one)](arr, moves)\n",
    "\n",
    "    arr = apply_move['-r0'](arr, moves) # could remove, but should be handled by ex-red\n",
    "    arr = apply_move['-r1'](arr, moves) # could remove, but should be handled by ex-red\n",
    "\n",
    "    return arr\n",
    "\n",
    "print_globe(temp_test_globe)\n",
    "print_globe(swap_same_idx(1, temp_test_globe, []))"
   ]
  },
  {
   "cell_type": "code",
   "execution_count": 115,
   "metadata": {
    "ExecuteTime": {
     "end_time": "2024-01-02T09:51:23.280415200Z",
     "start_time": "2024-01-02T09:51:23.061332500Z"
    }
   },
   "outputs": [],
   "source": [
    "def get_inversion_locs(arr):\n",
    "    A, B = [], []\n",
    "    for i in range(0, M-1):\n",
    "        if (arr[i] > arr[i+1]):\n",
    "            A.append(i)\n",
    "\n",
    "    for i in range(M, 2*M-1):\n",
    "        if (arr[i] > arr[i+1]):\n",
    "            B.append(i - M)\n",
    "\n",
    "    return (A, B)\n",
    "\n",
    "# Could try: Non-circular min_abs_diff\n",
    "def min_abs_diff(A, B):\n",
    "    return (A[0], B[0]) # CHANGE POLICY\n",
    "    # A = A + [i + M for i in A]\n",
    "    # B = B + [i + M for i in B]\n",
    "    \n",
    "    # i, j = 0, 0\n",
    "    # min_diff = int(1e9)\n",
    "    # min_indices = (-1, -1)\n",
    "\n",
    "    # while i < len(A) and j < len(B):\n",
    "    #     diff = abs(A[i] - B[j])\n",
    "\n",
    "    #     if diff < min_diff:\n",
    "    #         min_diff = diff\n",
    "    #         min_indices = (A[i], B[j])\n",
    "\n",
    "    #     if A[i] < B[j]:\n",
    "    #         i += 1\n",
    "    #     else:\n",
    "    #         j += 1\n",
    "\n",
    "    # if min_indices[0] >= M:\n",
    "    #     min_indices = (min_indices[0] - M, min_indices[1])\n",
    "\n",
    "    # if min_indices[1] >= M:\n",
    "    #     min_indices = (min_indices[0], min_indices[1] - M)\n",
    "        \n",
    "    # return min_indices\n",
    "\n",
    "def is_array_zero_to_n(arr):\n",
    "    n = len(arr) - 1\n",
    "    return len(arr) == n + 1 and set(arr) == set(range(n + 1))\n",
    "\n",
    "def check_swaps(arr, swaps):\n",
    "    arr_copy = arr.copy()\n",
    "    for swap in swaps:\n",
    "        if 0 <= swap < len(arr_copy) - 1:\n",
    "            arr_copy[swap], arr_copy[swap + 1] = arr_copy[swap + 1], arr_copy[swap]\n",
    "            # print(arr_copy)\n",
    "        else:\n",
    "            return False\n",
    "    return arr_copy == sorted(arr_copy)\n",
    "\n",
    "# Phase 2, finding optimal order of swaps of one array to minimize the amount of rotations of other\n",
    "# Minimize sum of absolute distances between swaps\n",
    "def get_swaps_order(arr):\n",
    "    swaps = []\n",
    "    arr = [i % M for i in arr]\n",
    "\n",
    "    mx = -1\n",
    "    move_forward = []\n",
    "    for i in range(len(arr)):\n",
    "        if(arr[i] < mx):\n",
    "             move_forward.append(i)\n",
    "        mx = max(mx, arr[i])\n",
    "\n",
    "    while move_forward:\n",
    "        for i in range(len(move_forward)-1, -1, -1):\n",
    "            if i != 0 and move_forward[i-1] == move_forward[i] - 1:\n",
    "                continue\n",
    "\n",
    "            swaps.append(move_forward[i] - 1)\n",
    "            arr[move_forward[i]-1], arr[move_forward[i]] = arr[move_forward[i]], arr[move_forward[i]-1]\n",
    "            move_forward[i] -= 1\n",
    "            \n",
    "            temp = -1\n",
    "            for k in range(move_forward[i]):\n",
    "                temp = max(temp, arr[k])\n",
    "\n",
    "            \n",
    "            if temp <= arr[move_forward[i]]:\n",
    "                move_forward.pop(i)\n",
    "                \n",
    "            break\n",
    "\n",
    "    if (not is_array_zero_to_n(arr)):\n",
    "        print(\"get_swaps_order function is incorrect\")\n",
    "        # swaps = swaps + get_swaps_order(arr)\n",
    "    \n",
    "    return swaps\n",
    "\n",
    "x = get_swaps_order([2,6,0,5,4,7,1,3])"
   ]
  },
  {
   "cell_type": "code",
   "execution_count": 116,
   "metadata": {
    "ExecuteTime": {
     "end_time": "2024-01-02T09:51:23.280415200Z",
     "start_time": "2024-01-02T09:51:23.072987300Z"
    }
   },
   "outputs": [],
   "source": [
    "def is_array_zero_to_n(arr):\n",
    "    n = len(arr) - 1\n",
    "    for i in range(len(arr)):\n",
    "        if arr[i] != i:\n",
    "            return False\n",
    "\n",
    "    return True\n",
    "\n",
    "def remove_inversions(arr, moves):\n",
    "    \n",
    "    # Phase 1: Remove until equal inversions\n",
    "    up_inversions, down_inversions = get_inversion_locs(arr)\n",
    "    up_cnt, down_cnt = count_inversions(arr[0:M]), count_inversions(arr[M:2*M])\n",
    "    \n",
    "    while up_cnt != down_cnt:\n",
    "        if up_cnt == 0 or down_cnt == 0:\n",
    "            print(\"Remove inversions failure: one array has no inversions, other still has\")\n",
    "        \n",
    "        if up_cnt > down_cnt:\n",
    "            arr = swap_same_idx(up_inversions[0], arr, moves) # CHANGE POLICY\n",
    "        else:\n",
    "            arr = swap_same_idx(down_inversions[0], arr, moves) # CHANGE POLICY\n",
    "\n",
    "        up_cnt, down_cnt = count_inversions(arr[0:M]), count_inversions(arr[M:2*M])\n",
    "        up_inversions, down_inversions = get_inversion_locs(arr)\n",
    "        \n",
    "    up_cnt, down_cnt = count_inversions(arr[0:M]), count_inversions(arr[M:2*M])\n",
    "    \n",
    "    # Phase 2: Both Have Inversions\n",
    "    while up_inversions and down_inversions:\n",
    "        up_i, down_i = min_abs_diff(up_inversions, down_inversions)\n",
    "\n",
    "        if down_i < up_i: \n",
    "            diff = up_i - down_i # Could do: Try swapping K/2 left up, K/2 down right\n",
    "            for k in range(diff):\n",
    "                arr = apply_move['r0'](arr, moves)\n",
    "\n",
    "            arr = swap_same_idx(down_i, arr, moves)\n",
    "\n",
    "            for k in range(diff):\n",
    "                arr = apply_move['-r0'](arr, moves)\n",
    "\n",
    "        else:\n",
    "            diff = down_i - up_i # Could do: Try swapping K/2 left up, K/2 down right\n",
    "            for k in range(diff):\n",
    "                arr = apply_move['r1'](arr, moves)\n",
    "\n",
    "            arr = swap_same_idx(up_i, arr, moves)\n",
    "\n",
    "            for k in range(diff):\n",
    "                arr = apply_move['-r1'](arr, moves)\n",
    "\n",
    "        up_inversions, down_inversions = get_inversion_locs(arr)\n",
    "        \n",
    "    # Phase 3: Do some final rotations to get everything aligned right. Check correctness\n",
    "    while arr[0] != 0:\n",
    "        arr = apply_move['r0'](arr, moves)\n",
    "\n",
    "    while arr[M] != M:\n",
    "        arr = apply_move['r1'](arr, moves)\n",
    "\n",
    "    return arr\n"
   ]
  },
  {
   "cell_type": "code",
   "execution_count": 117,
   "metadata": {
    "ExecuteTime": {
     "end_time": "2024-01-02T09:51:23.280415200Z",
     "start_time": "2024-01-02T09:51:23.083103800Z"
    },
    "collapsed": false,
    "jupyter": {
     "outputs_hidden": false
    }
   },
   "outputs": [],
   "source": [
    "def min_inversion_ordering_array(arr: np.array, sorted_arr) -> np.array:\n",
    "    \"\"\"\n",
    "    globe is a 2xm globe.\n",
    "\n",
    "    When globe has duplicates, there are many sorted \"orderings\" when treating each element as distinct.\n",
    "\n",
    "    For example:\n",
    "    AABBCC is the original array.\n",
    "    Then there are 2^3 sorted orderings e.g. 012345, 102345, 103245 ...\n",
    "\n",
    "    This function returns the ordering that has minimum inversions.\n",
    "    The optimal ordering has elements of the same value mapped to the\n",
    "    corresponding increasing subsequence. Proof via exchange argument.\n",
    "\n",
    "    For example (one layer only):\n",
    "    BACCAB => 204513\n",
    "    \"\"\"\n",
    "\n",
    "    res = np.ones(M, dtype=np.int16)\n",
    "    idx = {}  # idx[value] = next index for 'value'\n",
    "\n",
    "    # Get the first index in the solution array\n",
    "    for i, x in enumerate(sorted_arr):\n",
    "        if x not in idx:\n",
    "            idx[x] = i\n",
    "\n",
    "    # Find the ordering\n",
    "    for i in range(M):\n",
    "        res[i] = idx[arr[i]]\n",
    "        idx[arr[i]] += 1\n",
    "\n",
    "    return res"
   ]
  },
  {
   "cell_type": "code",
   "execution_count": 118,
   "metadata": {
    "ExecuteTime": {
     "end_time": "2024-01-02T09:51:23.280415200Z",
     "start_time": "2024-01-02T09:51:23.093225700Z"
    },
    "collapsed": false,
    "jupyter": {
     "outputs_hidden": false
    }
   },
   "outputs": [],
   "source": [
    "def min_inversion_ordering(globe: np.array, solution_globe) -> np.array:\n",
    "    \"\"\"\n",
    "    Returns the ordering of elements that minimizes inversion in the\n",
    "    bottom and top layer. See min_inversion_ordering_array for more details.\n",
    "    \"\"\"\n",
    "\n",
    "    return np.concatenate((min_inversion_ordering_array(globe[:M], solution_globe[:M]),\n",
    "                           min_inversion_ordering_array(globe[M:], solution_globe[M:]) + M))"
   ]
  },
  {
   "cell_type": "code",
   "execution_count": 119,
   "metadata": {
    "ExecuteTime": {
     "end_time": "2024-01-02T09:51:23.280415200Z",
     "start_time": "2024-01-02T09:51:23.105904500Z"
    }
   },
   "outputs": [
    {
     "name": "stdout",
     "output_type": "stream",
     "text": [
      "best_inversions=90\n"
     ]
    }
   ],
   "source": [
    "def sort_top_bot(arr, solution_arr):\n",
    "    \"\"\"\n",
    "    For top and bottom, find the rotation with minimum inversions for each parity.\n",
    "    \n",
    "    Then solve the pair with minimum sum of inversions.\n",
    "    Note we don't factor in the rotations necessary, but this is negligible \n",
    "        (maybe add a penalty = rotations/(moves to remove 1 inversion))\n",
    "    \"\"\"\n",
    "    \n",
    "    # best_rotations[parity][0 if top else 1] = (inversions, rotation moves)\n",
    "    best_rotations = [[(1e9,), (1e9,)], [(1e9,), (1e9,)]]\n",
    "    \n",
    "    # Try all possible rotations\n",
    "    for dir in ('', '-'):\n",
    "        for i in range(M//2):\n",
    "            # Top\n",
    "            cur_moves = []\n",
    "            cur_arr = arr\n",
    "            for rotation in range(i):\n",
    "                cur_arr = apply_move[dir + 'r0'](cur_arr, cur_moves)\n",
    "            cur_arr = min_inversion_ordering(cur_arr, solution_arr)\n",
    "            inversions = count_inversions(cur_arr[:M])\n",
    "            \n",
    "            if best_rotations[inversions % 2][0][0] > inversions:\n",
    "                best_rotations[inversions % 2][0] = (inversions, cur_moves)\n",
    "            \n",
    "            # Bottom\n",
    "            cur_moves = []\n",
    "            cur_arr = arr\n",
    "            for rotation in range(i):\n",
    "                cur_arr = apply_move[dir + 'r1'](cur_arr, cur_moves)\n",
    "            cur_arr = min_inversion_ordering(cur_arr, solution_arr)\n",
    "            inversions = count_inversions(cur_arr[M:])\n",
    "\n",
    "            if best_rotations[inversions % 2][1][0] > inversions:\n",
    "                best_rotations[inversions % 2][1] = (inversions, cur_moves)\n",
    "        \n",
    "    # TODO: Apply Exp-Red\n",
    "    best = 0\n",
    "    \n",
    "    best_inversions = 1e9\n",
    "    for i in range(2):\n",
    "        inversions = best_rotations[i][0][0] + best_rotations[i][1][0]\n",
    "        \n",
    "        if inversions < best_inversions:\n",
    "            best = i\n",
    "            best_inversions = inversions\n",
    "    \n",
    "    if best_inversions == 1e9:\n",
    "        # Possible that there aren't 2 rotations with same parity if duplicates\n",
    "        return -1\n",
    "    \n",
    "    print(f\"{best_inversions=}\")\n",
    "    \n",
    "    moves = []\n",
    "    for move in best_rotations[best][0][1] + best_rotations[best][1][1]:\n",
    "        arr = apply_move[move](arr, moves)\n",
    "    arr = min_inversion_ordering(arr, solution_arr)\n",
    "    remove_inversions(arr, moves)\n",
    "    \n",
    "    return moves\n",
    "\n",
    "res = sort_top_bot(test_globe, test_solution_globe)"
   ]
  },
  {
   "cell_type": "code",
   "execution_count": 120,
   "metadata": {
    "ExecuteTime": {
     "end_time": "2024-01-02T09:51:23.280415200Z",
     "start_time": "2024-01-02T09:51:23.116095500Z"
    }
   },
   "outputs": [
    {
     "name": "stdout",
     "output_type": "stream",
     "text": [
      "917\n"
     ]
    }
   ],
   "source": [
    "print(len(res))"
   ]
  },
  {
   "cell_type": "code",
   "execution_count": 121,
   "metadata": {
    "ExecuteTime": {
     "end_time": "2024-01-02T09:51:23.280415200Z",
     "start_time": "2024-01-02T09:51:23.133376300Z"
    }
   },
   "outputs": [
    {
     "name": "stdout",
     "output_type": "stream",
     "text": [
      "[['N0' 'N1' 'N2' 'N3' 'N4' 'N5' 'N6' 'N7' 'N8' 'N9' 'N10' 'N11' 'N12'\n",
      "  'N13' 'N14' 'N15']\n",
      " ['N16' 'N17' 'N18' 'N19' 'N20' 'N21' 'N22' 'N23' 'N24' 'N25' 'N26' 'N27'\n",
      "  'N28' 'N29' 'N30' 'N31']]\n",
      "961\n",
      "[[21  1  9 20 30  8 25 26 11  2 16 27  4 28  6 13]\n",
      " [17 31 12 18 19  0 29 10 22 14 24  7  3  5 15 23]]\n",
      "[[ 0  1  2  3  4  5  6  7  8  9 10 11 12 13 14 15]\n",
      " [16 17 18 19 20 21 22 23 24 25 26 27 28 29 30 31]]\n"
     ]
    }
   ],
   "source": [
    "test_globe_copy = test_globe\n",
    "for i in res:\n",
    "    test_globe_copy = apply_move[i](test_globe_copy, [])\n",
    "print_globe(test_globe_copy)\n",
    "\n",
    "moves = moves + res\n",
    "print(len(moves))\n",
    "\n",
    "test_globe = puzzles_df[puzzles_df[\"puzzle_type\"] == \"globe_1/8\"]['initial_state'][idx]\n",
    "test_globe = np.array([int(x[1:]) for x in test_globe.split(';') if x])\n",
    "print_globe(test_globe)\n",
    "\n",
    "for i in moves:\n",
    "    test_globe = apply_move[i](test_globe, [])\n",
    "print_globe(test_globe)"
   ]
  },
  {
   "cell_type": "markdown",
   "metadata": {},
   "source": [
    "# Transition"
   ]
  },
  {
   "cell_type": "code",
   "execution_count": 122,
   "metadata": {
    "ExecuteTime": {
     "end_time": "2024-01-02T09:51:23.280415200Z",
     "start_time": "2024-01-02T09:51:23.185934500Z"
    }
   },
   "outputs": [],
   "source": [
    "def get_run_length_encoding(path):    \n",
    "    rows = [[] for _ in range(2)]\n",
    "    \n",
    "    def expand_f(x):\n",
    "        for i in range(2):\n",
    "            rows[i].append(x)\n",
    "            rows[i].append('f0')\n",
    "            rows[i].append(M - x)\n",
    "    \n",
    "    for i in path:\n",
    "        if 'f' in i:\n",
    "            if '-' in i:\n",
    "                expand_f(int(i[2:]))\n",
    "            else:\n",
    "                expand_f(int(i[1:]))\n",
    "        else:\n",
    "            for j in range(2):\n",
    "                temp = 'r' + str(j)\n",
    "\n",
    "                if temp == i:\n",
    "                    rows[j].append(1)\n",
    "                    \n",
    "                temp = '-r' + str(j)\n",
    "\n",
    "                if temp == i:\n",
    "                    rows[j].append(M-1)\n",
    "\n",
    "    Rrows = [[] for _ in range(2)]\n",
    "\n",
    "    for r in range(2):\n",
    "        run = 0\n",
    "        for i in rows[r]:\n",
    "            if type(i) == type(0):\n",
    "                run += i\n",
    "            else:\n",
    "                Rrows[r].append(run)\n",
    "                Rrows[r].append('f0')\n",
    "                run = 0\n",
    "            \n",
    "        Rrows[r].append(run)\n",
    "    \n",
    "    return (Rrows[0], Rrows[1])"
   ]
  },
  {
   "cell_type": "code",
   "execution_count": 123,
   "metadata": {
    "ExecuteTime": {
     "end_time": "2024-01-02T09:51:23.280415200Z",
     "start_time": "2024-01-02T09:51:23.195308100Z"
    }
   },
   "outputs": [],
   "source": [
    "def check_moves(arr, moves):\n",
    "    for i in moves:\n",
    "        arr = apply_move[i](arr, [])\n",
    "    return is_array_zero_to_n(arr)\n",
    "\n",
    "def solve_2xM(arr, solution_arr):\n",
    "    # Set left half\n",
    "    left_half_moves = []\n",
    "    # arr = set_left_half(arr, solution_arr, left_half_moves)\n",
    "\n",
    "    while True:\n",
    "        # Move top/bot\n",
    "        move_top_bot_moves = []\n",
    "        arr = move_top_bottom_helper(arr, solution_arr, move_top_bot_moves)\n",
    "\n",
    "        # Sort top/bot\n",
    "        sort_moves = sort_top_bot(arr, solution_arr)\n",
    "        \n",
    "        if sort_moves != -1:\n",
    "            break\n",
    "        \n",
    "    # Combine moves\n",
    "    res_moves = left_half_moves + move_top_bot_moves + sort_moves\n",
    "\n",
    "    print(\"Left Half Moves\", len(left_half_moves),\n",
    "          \"Move top/bot moves:\", len(move_top_bot_moves),\n",
    "          \"Sorting moves:\", len(sort_moves))\n",
    "    \n",
    "    # res_moves = ex_red(res_moves)\n",
    "\n",
    "    # print(\"After Ex-Red\", len(res_moves))\n",
    "    return res_moves\n",
    "    \n",
    "\n",
    "def solve_1xM(arr, sol_arr):\n",
    "    res = []\n",
    "    while(arr != sol_arr):\n",
    "        arr = arr[1:] + [arr[0]]\n",
    "        res.append('r0')\n",
    "    return res\n",
    "\n",
    "# test_globe = puzzles_df[puzzles_df[\"puzzle_type\"] == \"globe_1/8\"]['initial_state'][343]\n",
    "# test_globe = np.array([int(x[1:]) for x in test_globe.split(';') if x])\n",
    "# print_globe(test_globe)\n",
    "# temp = solve_2xM(test_globe)"
   ]
  },
  {
   "cell_type": "markdown",
   "metadata": {},
   "source": [
    "# Solving N x M"
   ]
  },
  {
   "cell_type": "code",
   "execution_count": 124,
   "metadata": {
    "ExecuteTime": {
     "end_time": "2024-01-02T09:51:23.280415200Z",
     "start_time": "2024-01-02T09:51:23.203433700Z"
    }
   },
   "outputs": [],
   "source": [
    "# GLobe 1/16\n",
    "# idx = 348\n",
    "# N = 1+1\n",
    "# M = int(2*16)"
   ]
  },
  {
   "cell_type": "code",
   "execution_count": 130,
   "metadata": {
    "ExecuteTime": {
     "end_time": "2024-01-02T09:51:23.280415200Z",
     "start_time": "2024-01-02T09:51:23.213081Z"
    }
   },
   "outputs": [],
   "source": [
    "# #Globe 3/33\n",
    "# idx = 395\n",
    "# N = 3+1 \n",
    "# M = int(2*33)"
   ]
  },
  {
   "cell_type": "code",
   "execution_count": 131,
   "metadata": {},
   "outputs": [],
   "source": [
    "# GLobe 8 / 25\n",
    "idx = 396\n",
    "N = 8+1 \n",
    "M = int(2*25)"
   ]
  },
  {
   "cell_type": "code",
   "execution_count": 132,
   "metadata": {
    "ExecuteTime": {
     "end_time": "2024-01-02T09:51:23.281404800Z",
     "start_time": "2024-01-02T09:51:23.221208600Z"
    }
   },
   "outputs": [
    {
     "data": {
      "text/plain": [
       "id                                                              396\n",
       "puzzle_type                                              globe_8/25\n",
       "solution_state    A;A;A;A;A;D;D;D;D;D;G;G;G;G;G;J;J;J;J;J;M;M;M;...\n",
       "initial_state     V;P;F;L;P;X;O;A;J;b;V;Y;D;Y;C;X;J;F;U;G;d;L;b;...\n",
       "num_wildcards                                                     0\n",
       "Name: 396, dtype: object"
      ]
     },
     "execution_count": 132,
     "metadata": {},
     "output_type": "execute_result"
    }
   ],
   "source": [
    "puzzles_df.iloc[idx]"
   ]
  },
  {
   "cell_type": "code",
   "execution_count": 133,
   "metadata": {
    "ExecuteTime": {
     "end_time": "2024-01-02T09:51:23.281404800Z",
     "start_time": "2024-01-02T09:51:23.235337Z"
    }
   },
   "outputs": [],
   "source": [
    "# Make all encodings same length\n",
    "def equalize_lengths(encodings):\n",
    "    mx_length = 0\n",
    "    for i in encodings:\n",
    "        mx_length = max(mx_length, len(i))\n",
    "\n",
    "    for i in range(len(encodings)):\n",
    "        if(((mx_length - len(encodings[i]))/2) % 2 == 1):\n",
    "            print(\"Failure: Odd number of F0s needed to allign rows!\")\n",
    "\n",
    "        while(len(encodings[i]) < mx_length):\n",
    "            encodings[i].append('f0')\n",
    "            encodings[i].append(0)\n",
    "\n",
    "    return encodings\n",
    "\n",
    "def is_int(x):\n",
    "    return isinstance(x, int)\n",
    "\n",
    "def combine_palindromic_rows(encodings):\n",
    "    encodings = equalize_lengths(encodings)\n",
    "    n, m = len(encodings), len(encodings[0]) # number of rows / length of run-length encoding of each row\n",
    "\n",
    "    # Take modulo + Convert F0s to FXs\n",
    "    for j in range(m):\n",
    "        all_prev = []\n",
    "        for i in range(n):\n",
    "            if is_int(encodings[i][j]): # Is rotation\n",
    "                encodings[i][j] %= M\n",
    "            else:\n",
    "                all_prev.append(encodings[i][j-1])\n",
    "\n",
    "        all_prev = list(sorted(all_prev))\n",
    "        med = (len(all_prev) == 0) or all_prev[n//2]\n",
    "        \n",
    "        for i in range(n):  \n",
    "            if not is_int(encodings[i][j]): # Is f0\n",
    "                encodings[i][j-1] = (encodings[i][j-1] - med + M) % M\n",
    "                encodings[i][j] = 'f' + str(med)\n",
    "                encodings[i][j+1] += med\n",
    "\n",
    "    # Convert to inverse rotation when better\n",
    "    moves = []\n",
    "    for j in range(m):\n",
    "        if not is_int(encodings[0][j]):\n",
    "            moves.append(encodings[0][j])\n",
    "            continue\n",
    "\n",
    "        for i in range(n):\n",
    "            if M - encodings[i][j] < encodings[i][j]:\n",
    "                moves = moves + ['-r' + str(i)] * (M - encodings[i][j])\n",
    "            else:\n",
    "                moves = moves + ['r' + str(i)] * (encodings[i][j])\n",
    "\n",
    "    # print(moves)\n",
    "    # Remove duplicate FXs\n",
    "    final_moves = []\n",
    "    i = 0\n",
    "    while i < len(moves):\n",
    "        if i != len(moves) - 1 and ('f' in moves[i]) and moves[i] == moves[i+1]:\n",
    "            i += 2\n",
    "        else:\n",
    "            final_moves.append(moves[i])\n",
    "            i += 1\n",
    "    \n",
    "    return final_moves"
   ]
  },
  {
   "cell_type": "code",
   "execution_count": 134,
   "metadata": {
    "ExecuteTime": {
     "end_time": "2024-01-02T09:51:23.620025Z",
     "start_time": "2024-01-02T09:51:23.252677300Z"
    }
   },
   "outputs": [
    {
     "name": "stdout",
     "output_type": "stream",
     "text": [
      "best_inversions=942\n",
      "Left Half Moves 0 Move top/bot moves: 131 Sorting moves: 12104\n",
      "best_inversions=984\n",
      "Left Half Moves 0 Move top/bot moves: 130 Sorting moves: 11043\n",
      "best_inversions=928\n",
      "Left Half Moves 0 Move top/bot moves: 144 Sorting moves: 12758\n",
      "best_inversions=916\n",
      "Left Half Moves 0 Move top/bot moves: 129 Sorting moves: 12952\n"
     ]
    }
   ],
   "source": [
    "# redefine moves\n",
    "\n",
    "initial_state = puzzles_df['initial_state'][idx].split(';')\n",
    "solution_state = puzzles_df['solution_state'][idx].split(';')\n",
    "\n",
    "all_encodings = []\n",
    "top_half_moves = []\n",
    "bot_half_moves = []\n",
    "\n",
    "for i in range(N):\n",
    "    if N-1-i < i:\n",
    "        break\n",
    "        \n",
    "    arr = np.array(initial_state[i*M : i*M + M] \n",
    "                   + initial_state[(N-1-i) * M : (N-1-i) * M + M])\n",
    "    solution_arr = np.array(solution_state[i*M : i*M + M] \n",
    "                            + solution_state[(N-1-i) * M : (N-1-i) * M + M])\n",
    "\n",
    "    set_moves()\n",
    "\n",
    "    if N-1-i == i:\n",
    "        # Set moves for 1xM separately\n",
    "        # arr = np.array(initial_state[i*M : i*M + M])\n",
    "        \n",
    "        cur_moves = solve_1xM(initial_state[i*M : i*M + M], solution_state[i*M : i*M + M])\n",
    "        top_half_moves.append(get_run_length_encoding(cur_moves)[0])\n",
    "\n",
    "        continue\n",
    "    \n",
    "    cur_moves = solve_2xM(arr, solution_arr) \n",
    "\n",
    "    # Try red-expand for palindromic rows separately first\n",
    "    cur_top_moves, cur_bot_moves = get_run_length_encoding(cur_moves)\n",
    "    cur_moves = combine_palindromic_rows([cur_top_moves] + [cur_bot_moves])\n",
    "    # End\n",
    "    \n",
    "    cur_top_moves, cur_bot_moves = get_run_length_encoding(cur_moves)\n",
    "\n",
    "    top_half_moves.append(cur_top_moves)\n",
    "    bot_half_moves.append(cur_bot_moves)\n",
    "    \n",
    "all_encodings = top_half_moves + bot_half_moves[::-1]"
   ]
  },
  {
   "cell_type": "code",
   "execution_count": 135,
   "metadata": {
    "ExecuteTime": {
     "end_time": "2024-01-02T09:51:23.634430600Z",
     "start_time": "2024-01-02T09:51:23.563057200Z"
    }
   },
   "outputs": [
    {
     "name": "stdout",
     "output_type": "stream",
     "text": [
      "9\n"
     ]
    }
   ],
   "source": [
    "print(len(all_encodings))"
   ]
  },
  {
   "cell_type": "code",
   "execution_count": 136,
   "metadata": {
    "ExecuteTime": {
     "end_time": "2024-01-02T09:51:26.019739800Z",
     "start_time": "2024-01-02T09:51:23.567117200Z"
    }
   },
   "outputs": [],
   "source": [
    "res_moves = combine_palindromic_rows(all_encodings)"
   ]
  },
  {
   "cell_type": "code",
   "execution_count": 137,
   "metadata": {
    "ExecuteTime": {
     "end_time": "2024-01-02T09:51:26.024623600Z",
     "start_time": "2024-01-02T09:51:26.019427300Z"
    }
   },
   "outputs": [
    {
     "name": "stdout",
     "output_type": "stream",
     "text": [
      "41522\n"
     ]
    }
   ],
   "source": [
    "print(len(res_moves))"
   ]
  },
  {
   "cell_type": "code",
   "execution_count": 467,
   "metadata": {
    "ExecuteTime": {
     "end_time": "2024-01-02T09:51:26.072267600Z",
     "start_time": "2024-01-02T09:51:26.022422400Z"
    }
   },
   "outputs": [
    {
     "name": "stdout",
     "output_type": "stream",
     "text": [
      "['f0', 'r0', 'r3', 'r3', 'f65', '-r2', '-r3', 'f65', 'r0', 'r0', '-r2', '-r2', 'f65', 'r0', '-r2', 'f65', 'r0', '-r2', 'f65', 'r0', 'r0', 'r1', 'r1', 'r1', 'r2', 'f64', '-r2', '-r2', '-r3', 'f64', 'r1', '-r3', 'f64', 'r1', 'r1', '-r3', 'f64', 'r0', 'r1', 'r1', 'r1', 'f63', 'r1', '-r3', 'f63', 'r0', 'r0', 'r0', '-r2', 'f63', '-r2', '-r3', 'f64', 'r1', '-r3', '-r3', '-r3', 'f64', '-r2', '-r3', 'f64', 'r0', 'r0', 'r1', 'f64', 'r0', '-r2', '-r3', 'f64', 'r0', '-r2', '-r2', '-r3', 'f64', '-r2', '-r2', '-r3', 'f65', 'r0', 'r1', 'f65', 'r1', 'r1', 'r1', 'r1', 'r1', '-r3', 'f65', 'r1', 'r1', '-r3', 'f65', 'r0', 'r0', 'r0', 'r0', 'r1', 'r1', 'r1', 'r1', 'r3', 'r3', 'r3', 'f62', 'r0', '-r2', '-r2', '-r2', '-r3', 'f62', 'r0', '-r2', 'f62', 'r1', 'r1', 'r1', '-r3', '-r3', 'f62', '-r2', '-r3', 'f62', 'r0', '-r2', '-r3', 'f62', '-r2', '-r3', 'f62', 'r0', '-r2', 'f62', '-r2', '-r2', '-r3', 'f63', '-r2', '-r2', '-r3', '-r3', 'f63', '-r2', '-r2', '-r3', '-r3', 'f64', 'r0', '-r2', '-r3', 'f64', '-r2', '-r3', '-r3', 'f65', 'r0', 'r0', 'r0', 'r1', 'f64', '-r2', '-r3', 'f65', '-r2', '-r2', '-r3', '-r3', 'f65', 'r1', '-r3', 'f65', 'r0', 'r0', 'r0', 'r0', 'r1', 'r1', 'r1', 'r1', 'r3', 'r3', 'r3', 'f62', '-r2', '-r3', 'f62', 'r0', 'r2', 'r2', 'r2', 'r2', 'r2', 'r2', 'r2', 'r2', 'r2', 'r2', 'r2', 'r2', 'r2', 'r2', 'r2', 'r2', 'r2', 'r2', 'r2', 'r2', 'f61', 'r2', '-r3', 'f61', 'r0', 'r0', 'r0', 'r1', 'r1', 'r1', 'r1', 'r1', 'r1', 'r1', 'r1', 'r1', 'r1', 'r1', 'r1', 'r1', 'r1', 'r1', 'r1', 'r1', '-r2', '-r2', '-r2', '-r2', '-r2', '-r2', '-r2', 'f58', '-r2', '-r3', 'f58', 'r1', '-r2', '-r3', '-r3', '-r3', '-r3', '-r3', '-r3', '-r3', '-r3', '-r3', '-r3', 'f58', 'r0', '-r2', 'f58', '-r0', '-r0', '-r0', '-r0', '-r0', '-r0', '-r0', '-r0', 'r1', 'r1', '-r2', '-r2', '-r2', '-r2', '-r2', '-r2', 'f63', '-r0', 'r1', 'f63', '-r1', '-r1', '-r1', '-r1', '-r1', '-r1', '-r1', '-r1', '-r1', '-r1', '-r1', '-r1', '-r1', '-r1', '-r1', '-r1', '-r1', '-r2', '-r2', '-r2', '-r2', '-r2', '-r2', '-r2', '-r2', '-r2', '-r2', '-r2', '-r2', '-r2', '-r2', '-r2', 'r3', 'r3', 'r3', 'r3', 'r3', 'r3', 'r3', 'r3', 'r3', 'r3', 'r3', 'r3', 'r3', 'r3', 'r3', 'r3', 'r3', 'f46', '-r0', 'r1', 'f46', '-r1', '-r1', '-r1', '-r1', '-r1', '-r1', '-r1', '-r1', '-r1', '-r1', '-r1', '-r1', '-r1', '-r1', '-r1', '-r1', '-r1', '-r1', '-r1', '-r1', '-r1', '-r1', '-r1', '-r1', '-r1', '-r1', '-r1', '-r1', '-r1', '-r1', '-r1', '-r2', '-r2', '-r2', '-r2', '-r2', '-r2', '-r2', '-r2', '-r2', '-r2', '-r2', '-r2', '-r2', '-r2', '-r2', '-r2', '-r2', '-r2', '-r2', '-r2', '-r2', '-r2', '-r2', '-r2', '-r2', '-r2', '-r2', '-r2', '-r2', '-r2', '-r2', 'r3', 'r3', 'f46', '-r0', 'r1', 'f46', '-r0', '-r0', '-r0', '-r0', '-r0', '-r0', '-r0', 'r2', 'r2', '-r3', '-r3', '-r3', '-r3', '-r3', '-r3', '-r3', '-r3', '-r3', '-r3', 'f12', '-r0', '-r2', 'f13', '-r0', '-r0', '-r0', '-r0', '-r0', '-r0', '-r0', '-r0', '-r0', '-r0', '-r0', '-r0', '-r0', '-r0', '-r0', '-r0', '-r0', '-r0', '-r0', '-r0', '-r0', '-r0', '-r0', '-r0', '-r0', '-r0', '-r0', '-r0', '-r0', '-r0', '-r0', '-r3', '-r3', '-r3', '-r3', '-r3', '-r3', '-r3', '-r3', '-r3', '-r3', '-r3', '-r3', '-r3', '-r3', '-r3', '-r3', '-r3', '-r3', '-r3', '-r3', '-r3', '-r3', '-r3', '-r3', '-r3', '-r3', '-r3', '-r3', '-r3', '-r3', '-r3', '-r3', 'f45', '-r0', '-r2', 'f46', 'r0', 'r0', 'r0', 'r0', 'r0', 'r0', 'r0', 'r0', 'r0', 'r0', 'r0', 'r0', 'r0', 'r0', 'r0', 'r0', 'r0', 'r0', 'r0', 'r0', 'r0', 'r0', 'r0', 'r0', 'r0', '-r1', '-r1', '-r1', '-r1', '-r1', '-r1', '-r1', '-r1', '-r1', '-r1', '-r2', '-r2', '-r2', '-r2', '-r2', '-r2', '-r2', '-r2', 'f22', '-r2', '-r3', 'f23', '-r0', '-r0', '-r0', '-r0', '-r3', '-r3', 'f59', '-r2', '-r3', 'f60', 'r2', 'r2', 'f26', '-r2', '-r3', 'f27', 'r3', 'r3', 'f59', '-r2', '-r3', 'f60', '-r1', '-r1', '-r1', '-r2', 'f29', '-r2', '-r3', 'f30', 'r3', 'r3', 'f62', '-r2', '-r3', 'f63', 'r2', 'r2', 'f29', '-r2', '-r3', 'f30', 'r3', 'r3', 'f62', '-r2', '-r3', 'f63', 'r2', 'r2', 'f29', '-r2', '-r3', 'f30', 'r3', 'r3', 'f62', '-r2', '-r3', 'f63', '-r1', '-r1', '-r1', '-r1', '-r1', '-r2', '-r2', '-r2', 'f34', '-r2', '-r3', 'f35', '-r0', '-r0', '-r0', '-r0', '-r0', '-r0', '-r3', '-r3', '-r3', '-r3', 'f7', '-r2', '-r3', 'f8', '-r1', '-r1', 'f42', '-r2', '-r3', 'f43', '-r0', '-r0', 'f11', '-r2', '-r3', 'f12', 'r2', 'r2', 'f44', '-r2', '-r3', 'f45', 'r3', 'r3', 'f11', '-r2', '-r3', 'f12', 'r2', 'r2', 'f44', '-r2', '-r3', 'f45', 'r3', 'r3', 'f11', '-r2', '-r3', 'f12', 'r2', 'r2', 'f44', '-r2', '-r3', 'f45', '-r0', '-r0', '-r0', '-r0', '-r3', '-r3', 'f15', '-r2', '-r3', 'f16', '-r1', '-r1', '-r1', '-r1', '-r1', '-r2', '-r2', '-r2', 'f53', '-r2', '-r3', 'f54', 'r3', 'r3', 'f20', '-r2', '-r3', 'f21', 'r2', 'r2', 'f53', '-r2', '-r3', 'f54', 'r3', 'r3', 'f20', '-r2', '-r3', 'f21', 'r2', 'r2', 'f53', '-r2', '-r3', 'f54', 'r3', 'r3', 'f20', '-r2', '-r3', 'f21', 'r2', 'r2', 'f53', '-r2', '-r3', 'f54', 'r3', 'r3', 'f20', '-r2', '-r3', 'f21', 'r2', 'r2', 'f53', '-r2', '-r3', 'f54', 'r3', 'r3', 'f20', '-r2', '-r3', 'f21', 'r2', 'r2', 'f53', '-r2', '-r3', 'f54', '-r0', '-r0', '-r0', '-r0', '-r0', '-r0', '-r0', '-r3', '-r3', '-r3', '-r3', '-r3', 'f27', '-r2', '-r3', 'f28', 'r0', 'r0', 'r0', 'r0', 'r0', 'r0', 'r0', 'r2', 'r2', 'r3', 'r3', 'r3', 'r3', 'r3', 'r3', 'r3', 'f60', '-r2', '-r3', 'f61', 'r3', 'r3', 'f27', '-r2', '-r3', 'f28', 'r2', 'r2', 'f60', '-r2', '-r3', 'f61', '-r0', '-r0', '-r0', '-r3', 'f30', '-r2', '-r3', 'f31', 'r2', 'r2', 'f63', '-r2', '-r3', 'f64', 'r3', 'r3', 'f30', '-r2', '-r3', 'f31', 'r0', 'r0', 'r0', 'r0', 'r0', 'r2', 'r2', 'r3', 'r3', 'r3', 'r3', 'r3', 'f63', '-r2', '-r3', 'f64', 'r3', 'r3', 'f30', '-r2', '-r3', 'f31', '-r1', '-r1', 'f65', 'r0', 'r1', 'f65', 'r3', 'r3', 'f31', '-r2', '-r3', 'f32', 'r2', 'r2', 'f64', '-r2', '-r3', 'f65', 'r3', 'r3', 'f31', '-r2', '-r3', 'f32', 'r2', 'r2', 'f64', '-r2', '-r3', 'f65', 'r3', 'r3', 'f31', '-r2', '-r3', 'f32', 'r2', 'r2', 'f64', '-r2', '-r3', 'f65', 'r3', 'r3', 'f31', '-r2', '-r3', 'f32', '-r1', '-r1', '-r1', '-r1', '-r1', '-r2', '-r2', '-r2', 'f3', '-r2', '-r3', 'f4', 'r3', 'r3', 'f36', '-r2', '-r3', 'f37', 'r2', 'r2', 'f3', '-r2', '-r3', 'f4', 'r3', 'r3', 'f36', '-r2', '-r3', 'f37', 'r2', 'r2', 'f3', '-r2', '-r3', 'f4', 'r3', 'r3', 'f36', '-r2', '-r3', 'f37', '-r1', '-r1', '-r1', '-r1', '-r2', '-r2', 'f7', '-r2', '-r3', 'f8', '-r0', '-r0', '-r0', '-r0', '-r0', '-r0', '-r0', '-r0', '-r0', '-r0', '-r0', '-r3', '-r3', '-r3', '-r3', '-r3', '-r3', '-r3', '-r3', '-r3', 'f51', '-r2', '-r3', 'f52', 'r2', 'r2', 'f18', '-r2', '-r3', 'f19', 'r3', 'r3', 'f51', '-r2', '-r3', 'f52', '-r1', '-r1', '-r1', '-r2', 'f21', '-r2', '-r3', 'f22', '-r0', '-r0', '-r0', '-r3', 'f57', '-r2', '-r3', 'f58', 'r2', 'r2', 'f24', '-r2', '-r3', 'f25', 'r3', 'r3', 'f57', '-r2', '-r3', 'f58', 'r2', 'r2', 'f24', '-r2', '-r3', 'f25', 'r3', 'r3', 'f57', '-r2', '-r3', 'f58', '-r1', '-r1', '-r1', '-r1', '-r2', '-r2', 'f28', '-r2', '-r3', 'f29', '-r0', '-r0', '-r0', '-r0', '-r3', '-r3', 'f65', 'r0', 'r1', 'f65', 'r2', 'r2', 'f31', '-r2', '-r3', 'f32', 'r3', 'r3', 'f64', '-r2', '-r3', 'f65', 'r2', 'r2', '-r3', '-r3', '-r3', '-r3', '-r3', '-r3', '-r3', '-r3', '-r3', '-r3', '-r3', 'f31', '-r2', '-r3', 'f32', 'r3', 'r3', 'f64', '-r2', '-r3', 'f65', '-r0', '-r0', '-r1', '-r1', 'f33', '-r2', '-r3', 'f34', 'r3', 'r3', 'f0', '-r2', '-r3', 'f1', '-r0', '-r0', '-r1', '-r1', 'f35', '-r2', '-r3', 'f36', 'r3', 'r3', 'f2', '-r2', '-r3', 'f3', 'r2', 'r2', 'f35', '-r2', '-r3', 'f36', 'r3', 'r3', 'f2', '-r2', '-r3', 'f3', 'r2', 'r2', 'f35', '-r2', '-r3', 'f36', 'r3', 'r3', 'f2', '-r2', '-r3', 'f3', '-r0', '-r0', '-r1', '-r1', 'r3', 'r3', 'r3', 'f37', '-r2', '-r3', 'f38', '-r0', '-r0', '-r0', '-r0', '-r0', '-r0', '-r0', '-r0', '-r3', '-r3', '-r3', '-r3', '-r3', '-r3', 'f12', '-r2', '-r3', 'f13', 'r2', 'r2', 'f45', '-r2', '-r3', 'f46', 'r3', 'r3', 'f12', '-r2', '-r3', 'f13', 'r2', 'r2', 'f45', '-r2', '-r3', 'f46', 'r3', 'r3', 'f12', '-r2', '-r3', 'f13', 'r0', 'r0', 'r0', 'r0', 'r0', 'r0', 'r0', 'r0', 'r0', '-r1', '-r1', '-r3', '-r3', 'f47', '-r2', '-r3', 'f48', 'r3', 'r3', 'f14', '-r2', '-r3', 'f15', 'r2', 'r2', 'f47', '-r2', '-r3', 'f48', '-r1', '-r1', '-r1', '-r1', '-r1', '-r1', '-r1', '-r1', '-r1', 'r3', 'r3', 'f14', '-r2', '-r3', 'f15', 'r0', '-r1', '-r1', '-r3', '-r3', 'f49', '-r2', '-r3', 'f50', '-r0', '-r0', 'r1', 'r1', '-r2', '-r2', 'f18', '-r2', '-r3', 'f19', '-r0', '-r0', '-r1', '-r1', 'r3', 'r3', 'r3', 'r3', 'r3', 'f53', '-r2', '-r3', 'f54', '-r0', '-r0', '-r1', '-r1', 'r2', 'r2', 'r2', 'r2', 'r2', 'f22', '-r2', '-r3', 'f23', 'r2', 'r2', 'f55', '-r2', '-r3', 'f56', '-r0', '-r0', 'r1', '-r2', '-r2', 'f24', '-r2', '-r3', 'f25', 'r2', 'r2', 'f57', '-r2', '-r3', 'f58', 'r3', 'r3', 'f24', '-r2', '-r3', 'f25', 'r2', 'r2', 'f57', '-r2', '-r3', 'f58', '-r0', '-r0', '-r1', '-r1', 'r2', 'r2', 'f26', '-r2', '-r3', 'f27', 'r2', 'r2', 'f59', '-r2', '-r3', 'f60', 'r3', 'r3', 'f26', '-r2', '-r3', 'f27', 'r2', 'r2', 'f59', '-r2', '-r3', 'f60', '-r0', '-r0', 'r1', 'r1', 'r1', '-r2', '-r2', 'f28', '-r2', '-r3', 'f29', 'r2', 'r2', 'r3', 'r3', 'r3', 'r3', 'r3', 'r3', 'r3', 'f61', '-r2', '-r3', 'f62', '-r0', '-r0', '-r2', '-r2', 'f30', '-r2', '-r3', 'f31', 'r2', 'r2', 'f63', '-r2', '-r3', 'f64', 'r3', 'r3', 'f30', '-r2', '-r3', 'f31', 'r2', 'r2', 'f63', '-r2', '-r3', 'f64', 'r3', 'r3', 'f30', '-r2', '-r3', 'f31', 'r2', 'r2', 'f63', '-r2', '-r3', 'f64', 'r3', 'r3', 'f30', '-r2', '-r3', 'f31', 'r2', 'r2', 'f63', '-r2', '-r3', 'f64', '-r0', '-r0', 'r1', 'r1', 'r1', '-r2', '-r2', 'f32', '-r2', '-r3', 'f33', 'r0', 'r0', 'r0', 'r0', 'r0', 'r0', 'r0', 'r0', 'r0', 'r0', 'r0', 'r0', 'r0', 'r2', 'r2', 'f65', 'r0', 'r1', 'f65', 'r3', 'r3', 'f31', '-r2', '-r3', 'f32', 'r2', 'r2', 'f64', '-r2', '-r3', 'f65', 'r3', 'r3', 'f31', '-r2', '-r3', 'f32', 'r2', 'r2', 'f64', '-r2', '-r3', 'f65', '-r0', '-r0', '-r1', '-r1', 'r2', 'r2', 'r2', 'r2', 'r2', 'r2', 'r2', 'r2', 'r2', 'f33', '-r2', '-r3', 'f34', '-r0', '-r0', '-r1', '-r1', 'r3', 'r3', 'r3', 'r3', 'r3', 'r3', 'r3', 'f2', '-r2', '-r3', 'f3', '-r0', '-r0', 'r1', 'r1', 'r1', '-r2', '-r2', 'f37', '-r2', '-r3', 'f38', 'r2', 'r2', 'f4', '-r2', '-r3', 'f5', 'r3', 'r3', 'f37', '-r2', '-r3', 'f38', 'r0', 'r0', 'r0', 'r0', '-r1', '-r1', '-r3', '-r3', 'f6', '-r2', '-r3', 'f7', 'r3', 'r3', 'f39', '-r2', '-r3', 'f40', 'r2', 'r2', 'f6', '-r2', '-r3', 'f7', 'r3', 'r3', 'f39', '-r2', '-r3', 'f40', 'r2', 'r2', 'f6', '-r2', '-r3', 'f7', 'r3', 'r3', 'f39', '-r2', '-r3', 'f40', 'r2', 'r2', 'f6', '-r2', '-r3', 'f7', 'r3', 'r3', 'f39', '-r2', '-r3', 'f40', 'r0', 'r0', 'r0', '-r1', '-r1', '-r3', '-r3', 'f8', '-r2', '-r3', 'f9', 'r3', 'r3', 'f41', '-r2', '-r3', 'f42', 'r2', 'r2', 'f8', '-r2', '-r3', 'f9', 'r3', 'r3', 'f41', '-r2', '-r3', 'f42', 'r2', 'r2', 'f8', '-r2', '-r3', 'f9', 'r3', 'r3', 'f41', '-r2', '-r3', 'f42', '-r0', '-r0', '-r1', '-r1', 'r3', 'r3', 'r3', 'r3', 'r3', 'r3', 'r3', 'r3', 'f10', '-r2', '-r3', 'f11', '-r0', '-r0', 'r1', 'r1', 'r1', 'r1', 'r1', 'r1', 'r1', 'r1', '-r2', '-r2', 'f45', '-r2', '-r3', 'f46', '-r0', '-r0', '-r1', '-r1', 'f14', '-r2', '-r3', 'f15', 'r3', 'r3', 'f47', '-r2', '-r3', 'f48', 'r2', 'r2', 'f14', '-r2', '-r3', 'f15', '-r0', '-r0', '-r1', '-r1', 'r2', 'r2', 'r2', 'r2', 'r2', 'r2', 'r2', 'r2', 'r2', 'r2', 'r2', 'f49', '-r2', '-r3', 'f50', 'r0', 'r0', 'r0', 'r0', 'r0', '-r1', '-r1', '-r3', '-r3', 'f18', '-r2', '-r3', 'f19', 'r3', 'r3', 'f51', '-r2', '-r3', 'f52', '-r0', '-r0', '-r1', '-r1', 'r3', 'r3', 'r3', 'f20', '-r2', '-r3', 'f21', 'r3', 'r3', 'f53', '-r2', '-r3', 'f54', '-r0', '-r0', '-r1', '-r1', 'f22', '-r2', '-r3', 'f23', 'r3', 'r3', 'f55', '-r2', '-r3', 'f56', 'r2', 'r2', 'f22', '-r2', '-r3', 'f23', '-r0', '-r0', 'r1', 'r1', 'r1', 'r1', 'r1', '-r2', '-r2', 'f57', '-r2', '-r3', 'f58', 'r2', 'r2', 'f24', '-r2', '-r3', 'f25', 'r3', 'r3', 'f57', '-r2', '-r3', 'f58', 'r2', 'r2', 'f24', '-r2', '-r3', 'f25', 'r3', 'r3', 'f57', '-r2', '-r3', 'f58', 'r2', 'r2', 'f24', '-r2', '-r3', 'f25', 'r3', 'r3', 'f57', '-r2', '-r3', 'f58', 'r2', 'r2', 'f24', '-r2', '-r3', 'f25', 'r3', 'r3', 'f57', '-r2', '-r3', 'f58', 'r2', 'r2', 'f24', '-r2', '-r3', 'f25', 'r3', 'r3', 'f57', '-r2', '-r3', 'f58', '-r0', '-r0', '-r1', '-r1', 'r3', 'r3', 'r3', 'r3', 'r3', 'r3', 'f26', '-r2', '-r3', 'f27', 'r3', 'r3', 'f59', '-r2', '-r3', 'f60', 'r2', 'r2', 'f26', '-r2', '-r3', 'f27', 'r3', 'r3', 'f59', '-r2', '-r3', 'f60', 'r2', 'r2', 'f26', '-r2', '-r3', 'f27', 'r3', 'r3', 'f59', '-r2', '-r3', 'f60', 'r2', 'r2', 'f26', '-r2', '-r3', 'f27', 'r3', 'r3', 'f59', '-r2', '-r3', 'f60', 'r2', 'r2', 'f26', '-r2', '-r3', 'f27', 'r3', 'r3', 'f59', '-r2', '-r3', 'f60', 'r2', 'r2', 'f26', '-r2', '-r3', 'f27', 'r1', 'r1', 'r1', 'r1', 'r1', 'r1', 'r1', 'r1', 'r1', 'r1', 'r1', 'r1', 'r3', 'r3', 'f59', '-r2', '-r3', 'f60', 'r2', 'r2', 'f26', '-r2', '-r3', 'f27', 'r3', 'r3', 'f59', '-r2', '-r3', 'f60', 'r2', 'r2', 'f26', '-r2', '-r3', 'f27', 'r3', 'r3', 'f59', '-r2', '-r3', 'f60', 'r0', 'r0', 'r0', 'r0', 'r0', 'r0', 'r0', 'r0', 'r0', 'r0', 'r0', 'r0', 'r0', 'r0', 'r0', 'r0', '-r1', '-r1', '-r3', '-r3', 'f28', '-r2', '-r3', 'f29', 'r2', 'r2', 'r2', 'r2', 'r2', 'r2', 'r2', 'r2', 'r2', 'r2', 'r2', 'r2', 'r2', 'r2', 'r2', 'r2', 'r2', 'r2', 'r2', 'r3', 'r3', 'f61', '-r2', '-r3', 'f62', 'r2', 'r2', 'f28', '-r2', '-r3', 'f29', 'r3', 'r3', 'f61', '-r2', '-r3', 'f62', '-r0', '-r0', '-r1', '-r1', 'r3', 'r3', 'r3', 'r3', 'r3', 'r3', 'r3', 'r3', 'r3', 'r3', 'f30', '-r2', '-r3', 'f31', 'r3', 'r3', 'f63', '-r2', '-r3', 'f64', 'r2', 'r2', 'f30', '-r2', '-r3', 'f31', 'r1', 'r1', 'r1', 'r1', 'r1', 'r1', 'r1', 'r1', 'r2', 'r2', 'r2', 'r2', 'r3', 'r3', 'f63', '-r2', '-r3', 'f64', 'r2', 'r2', 'f30', '-r2', '-r3', 'f31', 'r3', 'r3', 'f63', '-r2', '-r3', 'f64', '-r0', '-r0', '-r1', '-r1', 'r3', 'r3', 'f32', '-r2', '-r3', 'f33', 'r3', 'r3', 'f65', 'r0', 'r1', 'f65', 'r2', 'r2', 'f31', '-r2', '-r3', 'f32', 'r3', 'r3', 'f64', '-r2', '-r3', 'f65', 'r0', 'r0', 'r0', 'r0', 'r0', 'r0', '-r1', '-r1', '-r3', '-r3', 'f33', '-r2', '-r3', 'f34', 'r3', 'r3', 'f0', '-r2', '-r3', 'f1', 'r2', 'r2', 'f33', '-r2', '-r3', 'f34', 'r3', 'r3', 'f0', '-r2', '-r3', 'f1', 'r2', 'r2', 'f33', '-r2', '-r3', 'f34', 'r3', 'r3', 'f0', '-r2', '-r3', 'f1', 'r2', 'r2', 'f33', '-r2', '-r3', 'f34', 'r3', 'r3', 'f0', '-r2', '-r3', 'f1', 'r2', 'r2', 'f33', '-r2', '-r3', 'f34', 'r3', 'r3', 'f0', '-r2', '-r3', 'f1', 'r2', 'r2', 'f33', '-r2', '-r3', 'f34', 'r3', 'r3', 'f0', '-r2', '-r3', 'f1', 'r0', 'r0', 'r0', 'r0', 'r0', '-r1', '-r1', '-r3', '-r3', 'f35', '-r2', '-r3', 'f36', '-r0', '-r0', 'r1', 'r1', 'r1', 'r1', 'r1', 'r1', 'r1', 'r1', 'r1', '-r2', '-r2', 'f4', '-r2', '-r3', 'f5', 'r2', 'r2', 'f37', '-r2', '-r3', 'f38', 'r3', 'r3', 'f4', '-r2', '-r3', 'f5', 'r2', 'r2', 'f37', '-r2', '-r3', 'f38', 'r3', 'r3', 'f4', '-r2', '-r3', 'f5', 'r2', 'r2', 'f37', '-r2', '-r3', 'f38', '-r0', '-r0', '-r0', '-r0', 'r2', 'r2', 'r2', 'r2', 'r2', 'r2', 'r2', 'r2', 'r2', 'r2', '-r3', '-r3', 'f8', '-r2', '-r3', 'f9', 'r2', 'r2', 'f41', '-r2', '-r3', 'f42', 'r3', 'r3', 'f8', '-r2', '-r3', 'f9', 'r2', 'r2', 'f41', '-r2', '-r3', 'f42', 'r3', 'r3', 'f8', '-r2', '-r3', 'f9', 'r2', 'r2', 'f41', '-r2', '-r3', 'f42', 'r3', 'r3', 'f8', '-r2', '-r3', 'f9', 'r2', 'r2', 'f41', '-r2', '-r3', 'f42', 'r3', 'r3', 'f8', '-r2', '-r3', 'f9', 'r2', 'r2', 'f41', '-r2', '-r3', 'f42', 'r3', 'r3', 'f8', '-r2', '-r3', 'f9', 'r2', 'r2', 'f41', '-r2', '-r3', 'f42', '-r0', '-r0', 'r1', 'r1', 'r1', 'r1', 'r1', '-r2', '-r2', 'f10', '-r2', '-r3', 'f11', '-r0', '-r0', '-r1', '-r1', 'r3', 'r3', 'r3', 'r3', 'r3', 'r3', 'r3', 'r3', 'r3', 'r3', 'r3', 'r3', 'r3', 'r3', 'r3', 'r3', 'r3', 'f45', '-r2', '-r3', 'f46', '-r0', '-r0', '-r2', '-r2', 'f14', '-r2', '-r3', 'f15', 'r2', 'r2', 'f47', '-r2', '-r3', 'f48', 'r3', 'r3', 'f14', '-r2', '-r3', 'f15', 'r2', 'r2', 'f47', '-r2', '-r3', 'f48', 'r3', 'r3', 'f14', '-r2', '-r3', 'f15', 'r2', 'r2', 'f47', '-r2', '-r3', 'f48', '-r0', '-r0', 'r1', 'r1', '-r2', '-r2', 'f16', '-r2', '-r3', 'f17', 'r2', 'r2', 'f49', '-r2', '-r3', 'f50', '-r0', '-r0', '-r1', '-r1', 'r2', 'r2', 'r2', 'r2', 'r2', 'r2', 'r2', 'r2', 'r2', 'r2', 'f18', '-r2', '-r3', 'f19', 'r2', 'r2', 'f51', '-r2', '-r3', 'f52', 'r3', 'r3', 'f18', '-r2', '-r3', 'f19', 'r2', 'r2', 'f51', '-r2', '-r3', 'f52', 'r3', 'r3', 'f18', '-r2', '-r3', 'f19', 'r2', 'r2', 'f51', '-r2', '-r3', 'f52', '-r0', '-r0', 'r1', 'r1', 'r1', '-r2', '-r2', 'f20', '-r2', '-r3', 'f21', 'r2', 'r2', 'f53', '-r2', '-r3', 'f54', 'r3', 'r3', 'f20', '-r2', '-r3', 'f21', 'r2', 'r2', 'f53', '-r2', '-r3', 'f54', 'r3', 'r3', 'f20', '-r2', '-r3', 'f21', '-r0', '-r0', '-r1', '-r1', 'r3', 'r3', 'r3', 'r3', 'r3', 'r3', 'r3', 'r3', 'r3', 'f55', '-r2', '-r3', 'f56', '-r0', '-r0', '-r1', '-r1', 'r2', 'r2', 'r2', 'r2', 'r2', 'f24', '-r2', '-r3', 'f25', 'r2', 'r2', 'f57', '-r2', '-r3', 'f58', 'r3', 'r3', 'f24', '-r2', '-r3', 'f25', 'r2', 'r2', 'f57', '-r2', '-r3', 'f58', 'r3', 'r3', 'f24', '-r2', '-r3', 'f25', 'r0', 'r0', 'r0', 'r0', 'r0', 'r0', 'r0', 'r0', 'r0', 'r0', 'r0', 'r0', 'r0', 'r0', 'r0', 'r0', 'r0', 'r0', 'r0', 'r0', 'r0', 'r0', 'r0', 'r0', 'r2', 'r2', 'f57', '-r2', '-r3', 'f58', '-r0', '-r0', '-r1', '-r1', 'r2', 'r2', 'f26', '-r2', '-r3', 'f27', 'r2', 'r2', 'f59', '-r2', '-r3', 'f60', 'r3', 'r3', 'f26', '-r2', '-r3', 'f27', 'r2', 'r2', 'f59', '-r2', '-r3', 'f60', 'r3', 'r3', 'f26', '-r2', '-r3', 'f27', 'r2', 'r2', 'f59', '-r2', '-r3', 'f60', 'r3', 'r3', 'f26', '-r2', '-r3', 'f27', 'r2', 'r2', 'f59', '-r2', '-r3', 'f60', '-r0', '-r0', 'r1', 'r1', 'r1', 'r1', 'r1', 'r1', 'r1', 'r1', 'r1', '-r2', '-r2', 'f28', '-r2', '-r3', 'f29', 'r2', 'r2', 'f61', '-r2', '-r3', 'f62', 'r3', 'r3', 'f28', '-r2', '-r3', 'f29', 'r2', 'r2', 'r3', 'r3', 'r3', 'r3', 'r3', 'r3', 'r3', 'r3', 'r3', 'r3', 'f61', '-r2', '-r3', 'f62', 'r3', 'r3', 'f28', '-r2', '-r3', 'f29', 'r2', 'r2', 'f61', '-r2', '-r3', 'f62', '-r0', '-r0', 'r1', 'r1', '-r2', '-r2', 'f30', '-r2', '-r3', 'f31', 'r2', 'r2', 'f63', '-r2', '-r3', 'f64', 'r3', 'r3', 'f30', '-r2', '-r3', 'f31', 'r2', 'r2', 'f63', '-r2', '-r3', 'f64', 'r3', 'r3', 'f30', '-r2', '-r3', 'f31', 'r2', 'r2', 'f63', '-r2', '-r3', 'f64', 'r3', 'r3', 'f30', '-r2', '-r3', 'f31', 'r2', 'r2', 'f63', '-r2', '-r3', 'f64', 'r3', 'r3', 'f30', '-r2', '-r3', 'f31', 'r0', 'r0', 'r0', 'r0', 'r0', 'r0', 'r0', 'r0', 'r0', 'r0', 'r0', 'r0', 'r0', 'r2', 'r2', 'f63', '-r2', '-r3', 'f64', 'r3', 'r3', 'f30', '-r2', '-r3', 'f31', 'r2', 'r2', 'f63', '-r2', '-r3', 'f64', 'r3', 'r3', 'f30', '-r2', '-r3', 'f31', 'r2', 'r2', 'f63', '-r2', '-r3', 'f64', 'r3', 'r3', 'f30', '-r2', '-r3', 'f31', 'r2', 'r2', 'f63', '-r2', '-r3', 'f64', 'r3', 'r3', 'f30', '-r2', '-r3', 'f31', 'r2', 'r2', 'f63', '-r2', '-r3', 'f64', 'r3', 'r3', 'f30', '-r2', '-r3', 'f31', 'r2', 'r2', 'f63', '-r2', '-r3', 'f64', 'r3', 'r3', 'f30', '-r2', '-r3', 'f31', 'r2', 'r2', 'f63', '-r2', '-r3', 'f64', 'r3', 'r3', 'f30', '-r2', '-r3', 'f31', 'r2', 'r2', 'f63', '-r2', '-r3', 'f64', 'r3', 'r3', 'f30', '-r2', '-r3', 'f31', 'r2', 'r2', 'r3', 'r3', 'r3', 'r3', 'r3', 'r3', 'r3', 'r3', 'r3', 'r3', 'r3', 'r3', 'r3', 'r3', 'r3', 'f63', '-r2', '-r3', 'f64', 'r3', 'r3', 'f30', '-r2', '-r3', 'f31', 'r2', 'r2', 'f63', '-r2', '-r3', 'f64', 'r3', 'r3', 'f30', '-r2', '-r3', 'f31', 'r2', 'r2', 'r3', 'r3', 'r3', 'f63', '-r2', '-r3', 'f64', 'r3', 'r3', 'f30', '-r2', '-r3', 'f31', 'r2', 'r2', 'f63', '-r2', '-r3', 'f64', '-r0', '-r0', '-r1', '-r1', 'r2', 'r2', 'r2', 'r2', 'r2', 'r2', 'r2', 'r2', 'r2', 'r2', 'r2', 'r2', 'r2', 'r2', 'r2', 'r2', 'r2', 'r2', 'r2', 'r2', 'r2', 'r2', 'f32', '-r2', '-r3', 'f33', 'r2', 'r2', 'f65', 'r0', 'r1', 'f65', 'r3', 'r3', 'f31', '-r2', '-r3', 'f32', 'r2', 'r2', 'f64', '-r2', '-r3', 'f65', '-r0', '-r0', 'r1', 'r1', 'r1', 'r1', 'r1', 'r1', 'r1', 'r1', 'r1', 'r1', 'r1', 'r1', 'r1', 'r1', 'r1', 'r1', 'r1', '-r2', '-r2', 'f33', '-r2', '-r3', 'f34', '-r0', '-r0', '-r1', '-r1', 'r3', 'r3', 'r3', 'f2', '-r2', '-r3', 'f3', 'r3', 'r3', 'f35', '-r2', '-r3', 'f36', 'r2', 'r2', 'f2', '-r2', '-r3', 'f3', 'r3', 'r3', 'f35', '-r2', '-r3', 'f36', 'r2', 'r2', 'f2', '-r2', '-r3', 'f3', 'r3', 'r3', 'f35', '-r2', '-r3', 'f36', 'r2', 'r2', 'f2', '-r2', '-r3', 'f3', 'r3', 'r3', 'f35', '-r2', '-r3', 'f36', 'r2', 'r2', 'f2', '-r2', '-r3', 'f3', 'r3', 'r3', 'f35', '-r2', '-r3', 'f36', 'r2', 'r2', 'f2', '-r2', '-r3', 'f3', 'r3', 'r3', 'f35', '-r2', '-r3', 'f36', 'r2', 'r2', 'f2', '-r2', '-r3', 'f3', 'r3', 'r3', 'f35', '-r2', '-r3', 'f36', 'r2', 'r2', 'f2', '-r2', '-r3', 'f3', 'r3', 'r3', 'f35', '-r2', '-r3', 'f36', 'r0', 'r0', 'r0', 'r0', 'r0', 'r0', 'r0', 'r0', 'r0', 'r0', 'r0', 'r0', 'r0', 'r0', 'r0', 'r0', 'r0', 'r0', 'r0', 'r0', 'r0', '-r1', '-r1', '-r3', '-r3', 'f4', '-r2', '-r3', 'f5', '-r0', '-r0', '-r1', '-r1', 'r2', 'r2', 'r2', 'r2', 'r2', 'r2', 'r2', 'r2', 'r2', 'r2', 'f39', '-r2', '-r3', 'f40', 'r2', 'r2', 'f6', '-r2', '-r3', 'f7', '-r0', '-r0', '-r1', '-r1', 'f41', '-r2', '-r3', 'f42', 'r2', 'r2', 'f8', '-r2', '-r3', 'f9', '-r0', '-r0', 'r1', 'r1', 'r1', 'r1', 'r1', 'r1', 'r1', 'r1', 'r1', 'r1', '-r2', '-r2', 'f43', '-r2', '-r3', 'f44', 'r2', 'r2', 'f10', '-r2', '-r3', 'f11', '-r0', '-r0', '-r1', '-r1', 'r2', 'f45', '-r2', '-r3', 'f46', 'r2', 'r2', 'f12', '-r2', '-r3', 'f13', 'r3', 'r3', 'f45', '-r2', '-r3', 'f46', 'r0', 'r0', 'r0', 'r0', 'r0', 'r0', '-r1', '-r1', '-r3', '-r3', 'f14', '-r2', '-r3', 'f15', 'r3', 'r3', 'f47', '-r2', '-r3', 'f48', 'r2', 'r2', 'f14', '-r2', '-r3', 'f15', 'r3', 'r3', 'f47', '-r2', '-r3', 'f48', '-r0', '-r0', '-r1', '-r1', 'r3', 'r3', 'r3', 'r3', 'r3', 'r3', 'r3', 'r3', 'r3', 'r3', 'r3', 'r3', 'r3', 'r3', 'r3', 'f16', '-r2', '-r3', 'f17', 'r3', 'r3', 'f49', '-r2', '-r3', 'f50', 'r2', 'r2', 'f16', '-r2', '-r3', 'f17', 'r3', 'r3', 'f49', '-r2', '-r3', 'f50', 'r2', 'r2', 'f16', '-r2', '-r3', 'f17', 'r3', 'r3', 'f49', '-r2', '-r3', 'f50', 'r2', 'r2', 'f16', '-r2', '-r3', 'f17', 'r3', 'r3', 'f49', '-r2', '-r3', 'f50', 'r2', 'r2', 'f16', '-r2', '-r3', 'f17', 'r3', 'r3', 'f49', '-r2', '-r3', 'f50', 'r2', 'r2', 'f16', '-r2', '-r3', 'f17', '-r0', '-r0', 'r1', 'r1', 'r1', 'r1', 'r1', 'r1', 'r1', 'r1', 'r1', '-r2', '-r2', 'f51', '-r2', '-r3', 'f52', 'r2', 'r2', 'f18', '-r2', '-r3', 'f19', 'r3', 'r3', 'f51', '-r2', '-r3', 'f52', 'r2', 'r2', 'f18', '-r2', '-r3', 'f19', 'r3', 'r3', 'f51', '-r2', '-r3', 'f52', 'r2', 'r2', 'f18', '-r2', '-r3', 'f19', 'r3', 'r3', 'f51', '-r2', '-r3', 'f52', 'r2', 'r2', 'f18', '-r2', '-r3', 'f19', 'r3', 'r3', 'f51', '-r2', '-r3', 'f52', '-r0', '-r0', '-r1', '-r1', 'r3', 'r3', 'r3', 'r3', 'r3', 'r3', 'r3', 'r3', 'r3', 'f20', '-r2', '-r3', 'f21', 'r3', 'r3', 'f53', '-r2', '-r3', 'f54', 'r2', 'r2', 'f20', '-r2', '-r3', 'f21', 'r3', 'r3', 'f53', '-r2', '-r3', 'f54', 'r2', 'r2', 'f20', '-r2', '-r3', 'f21', 'r3', 'r3', 'f53', '-r2', '-r3', 'f54', 'r2', 'r2', 'f20', '-r2', '-r3', 'f21', 'r3', 'r3', 'f53', '-r2', '-r3', 'f54', 'r2', 'r2', 'f20', '-r2', '-r3', 'f21', 'r3', 'r3', 'f53', '-r2', '-r3', 'f54', 'r2', 'r2', 'f20', '-r2', '-r3', 'f21', 'r2', 'r2', 'r2', 'r2', 'r2', 'r2', 'r2', 'r2', 'r2', 'r2', 'r2', 'r2', 'r2', 'r2', 'r2', 'r2', 'r2', 'r2', 'r2', 'r2', 'r3', 'r3', 'f53', '-r2', '-r3', 'f54', 'r2', 'r2', 'f20', '-r2', '-r3', 'f21', 'r3', 'r3', 'f53', '-r2', '-r3', 'f54', 'r2', 'r2', 'f20', '-r2', '-r3', 'f21', 'r3', 'r3', 'f53', '-r2', '-r3', 'f54', 'r2', 'r2', 'f20', '-r2', '-r3', 'f21', 'r3', 'r3', 'f53', '-r2', '-r3', 'f54', 'r2', 'r2', 'f20', '-r2', '-r3', 'f21', 'r3', 'r3', 'f53', '-r2', '-r3', 'f54', 'r2', 'r2', 'f20', '-r2', '-r3', 'f21', 'r3', 'r3', 'f53', '-r2', '-r3', 'f54', 'r2', 'r2', 'f20', '-r2', '-r3', 'f21', 'r3', 'r3', 'f53', '-r2', '-r3', 'f54', 'r0', 'r0', 'r0', 'r0', 'r0', 'r0', 'r0', 'r0', 'r0', 'r0', 'r0', 'r0', 'r0', 'r0', 'r0', 'r0', 'r0', 'r0', 'r0', 'r0', 'r0', 'r0', 'r0', '-r1', '-r1', '-r3', '-r3', 'f22', '-r2', '-r3', 'f23', 'r1', 'r1', 'r1', 'r1', 'r1', 'r1', 'r1', 'r1', 'r1', 'r1', 'r1', 'r1', 'r1', 'r1', 'r1', 'r1', 'r1', 'r1', 'r3', 'r3', 'f55', '-r2', '-r3', 'f56', 'r2', 'r2', 'f22', '-r2', '-r3', 'f23', 'r3', 'r3', 'f55', '-r2', '-r3', 'f56', 'r2', 'r2', 'f22', '-r2', '-r3', 'f23', 'r3', 'r3', 'f55', '-r2', '-r3', 'f56', 'r2', 'r2', 'f22', '-r2', '-r3', 'f23', 'r3', 'r3', 'f55', '-r2', '-r3', 'f56', 'r2', 'r2', 'f22', '-r2', '-r3', 'f23', 'r3', 'r3', 'f55', '-r2', '-r3', 'f56', 'r2', 'r2', 'f22', '-r2', '-r3', 'f23', 'r2', 'r2', 'r2', 'r2', 'r2', 'r2', 'r2', 'r2', 'r2', 'r2', 'r2', 'r2', 'r2', 'r3', 'r3', 'f55', '-r2', '-r3', 'f56', 'r2', 'r2', 'f22', '-r2', '-r3', 'f23', 'r3', 'r3', 'f55', '-r2', '-r3', 'f56', 'r2', 'r2', 'f22', '-r2', '-r3', 'f23', 'r3', 'r3', 'f55', '-r2', '-r3', 'f56', 'r2', 'r2', 'f22', '-r2', '-r3', 'f23', 'r3', 'r3', 'f55', '-r2', '-r3', 'f56', 'r2', 'r2', 'f22', '-r2', '-r3', 'f23', 'r3', 'r3', 'f55', '-r2', '-r3', 'f56', 'r2', 'r2', 'f22', '-r2', '-r3', 'f23', 'r3', 'r3', 'f55', '-r2', '-r3', 'f56', '-r0', '-r0', '-r1', '-r1', 'r3', 'r3', 'r3', 'r3', 'r3', 'r3', 'r3', 'r3', 'r3', 'r3', 'r3', 'r3', 'r3', 'r3', 'r3', 'r3', 'r3', 'r3', 'r3', 'r3', 'r3', 'r3', 'f24', '-r2', '-r3', 'f25', '-r0', '-r0', '-r1', '-r1', 'r2', 'r2', 'r2', 'r2', 'r2', 'f59', '-r2', '-r3', 'f60', 'r2', 'r2', 'f26', '-r2', '-r3', 'f27', 'r3', 'r3', 'f59', '-r2', '-r3', 'f60', 'r2', 'r2', 'f26', '-r2', '-r3', 'f27', 'r3', 'r3', 'f59', '-r2', '-r3', 'f60', 'r0', 'r0', 'r0', 'r0', 'r0', 'r0', 'r0', 'r0', 'r0', 'r0', 'r0', 'r0', 'r0', '-r1', '-r1', '-r3', '-r3', 'f28', '-r2', '-r3', 'f29', 'r3', 'r3', 'f61', '-r2', '-r3', 'f62', 'r2', 'r2', 'f28', '-r2', '-r3', 'f29', 'r3', 'r3', 'f61', '-r2', '-r3', 'f62', 'r2', 'r2', 'f28', '-r2', '-r3', 'f29', 'r3', 'r3', 'f61', '-r2', '-r3', 'f62', 'r2', 'r2', 'f28', '-r2', '-r3', 'f29', 'r3', 'r3', 'f61', '-r2', '-r3', 'f62', 'r2', 'r2', 'f28', '-r2', '-r3', 'f29', 'r3', 'r3', 'f61', '-r2', '-r3', 'f62', 'r2', 'r2', 'f28', '-r2', '-r3', 'f29', 'r3', 'r3', 'f61', '-r2', '-r3', 'f62', 'r2', 'r2', 'f28', '-r2', '-r3', 'f29', 'r3', 'r3', 'f61', '-r2', '-r3', 'f62', 'r2', 'r2', 'f28', '-r2', '-r3', 'f29', 'r3', 'r3', 'f61', '-r2', '-r3', 'f62', 'r2', 'r2', 'f28', '-r2', '-r3', 'f29', 'r3', 'r3', 'f61', '-r2', '-r3', 'f62', 'r2', 'r2', 'f28', '-r2', '-r3', 'f29', 'r3', 'r3', 'f61', '-r2', '-r3', 'f62', 'r2', 'r2', 'f28', '-r2', '-r3', 'f29', 'r3', 'r3', 'f61', '-r2', '-r3', 'f62', 'r2', 'r2', 'f28', '-r2', '-r3', 'f29', 'r1', 'r1', 'r1', 'r1', 'r1', 'r1', 'r1', 'r1', 'r1', 'r1', 'r1', 'r1', 'r1', 'r1', 'r1', 'r1', 'r1', 'r1', 'r1', 'r1', 'r1', 'r1', 'r1', 'r1', 'r1', 'r1', 'r3', 'r3', 'f61', '-r2', '-r3', 'f62', 'r2', 'r2', 'f28', '-r2', '-r3', 'f29', 'r3', 'r3', 'f61', '-r2', '-r3', 'f62', 'r2', 'r2', 'f28', '-r2', '-r3', 'f29', 'r3', 'r3', 'f61', '-r2', '-r3', 'f62', 'r2', 'r2', 'f28', '-r2', '-r3', 'f29', 'r3', 'r3', 'f61', '-r2', '-r3', 'f62', 'r2', 'r2', 'f28', '-r2', '-r3', 'f29', 'r3', 'r3', 'f61', '-r2', '-r3', 'f62', 'r2', 'r2', 'f28', '-r2', '-r3', 'f29', 'r3', 'r3', 'f61', '-r2', '-r3', 'f62', 'r0', 'r0', 'r0', 'r0', 'r0', 'r0', 'r0', 'r0', 'r0', 'r0', 'r0', 'r0', 'r0', 'r0', 'r0', 'r0', '-r1', '-r1', '-r3', '-r3', 'f30', '-r2', '-r3', 'f31', 'r1', 'r1', 'r1', 'r1', 'r1', 'r1', 'r1', 'r3', 'r3', 'f63', '-r2', '-r3', 'f64', 'r2', 'r2', 'f30', '-r2', '-r3', 'f31', 'r3', 'r3', 'f63', '-r2', '-r3', 'f64', 'r2', 'r2', 'f30', '-r2', '-r3', 'f31', 'r2', 'r2', 'r2', 'r2', 'r2', 'r2', 'r2', 'r2', 'r2', 'r2', 'r2', 'r2', 'r2', 'r2', 'r2', 'r2', 'r2', 'r2', 'r2', 'r2', 'r2', 'r2', 'r2', 'r2', 'r3', 'r3', 'f63', '-r2', '-r3', 'f64', 'r2', 'r2', 'f30', '-r2', '-r3', 'f31', 'r3', 'r3', 'f63', '-r2', '-r3', 'f64', '-r0', '-r0', '-r1', '-r1', 'r3', 'r3', 'r3', 'r3', 'r3', 'r3', 'r3', 'r3', 'r3', 'r3', 'r3', 'r3', 'r3', 'r3', 'r3', 'r3', 'r3', 'r3', 'r3', 'r3', 'r3', 'r3', 'r3', 'f32', '-r2', '-r3', 'f33', 'r3', 'r3', 'f65', 'r0', 'r1', 'f65', 'r2', 'r2', 'f31', '-r2', '-r3', 'f32', 'r3', 'r3', 'f64', '-r2', '-r3', 'f65', 'r2', 'r2', 'f31', '-r2', '-r3', 'f32', 'r3', 'r3', 'f64', '-r2', '-r3', 'f65', 'r2', 'r2', 'f31', '-r2', '-r3', 'f32', 'r3', 'r3', 'f64', '-r2', '-r3', 'f65', 'r2', 'r2', 'f31', '-r2', '-r3', 'f32', 'r3', 'r3', 'f64', '-r2', '-r3', 'f65', 'r2', 'r2', 'f31', '-r2', '-r3', 'f32', 'r3', 'r3', 'f64', '-r2', '-r3', 'f65', 'r2', 'r2', 'f31', '-r2', '-r3', 'f32', 'r1', 'r1', 'r1', 'r1', 'r1', 'r1', 'r1', 'r1', 'r1', 'r1', 'r1', 'r3', 'r3', 'f64', '-r2', '-r3', 'f65', 'r2', 'r2', 'f31', '-r2', '-r3', 'f32', 'r3', 'r3', 'f64', '-r2', '-r3', 'f65', 'r2', 'r2', 'f31', '-r2', '-r3', 'f32', 'r3', 'r3', 'f64', '-r2', '-r3', 'f65', 'r2', 'r2', 'f31', '-r2', '-r3', 'f32', 'r3', 'r3', 'f64', '-r2', '-r3', 'f65', 'r2', 'r2', 'f31', '-r2', '-r3', 'f32', 'r3', 'r3', 'f64', '-r2', '-r3', 'f65', 'r2', 'r2', 'f31', '-r2', '-r3', 'f32', 'r2', 'r2', 'r2', 'r2', 'r2', 'r2', 'r2', 'r2', 'r2', 'r2', 'r2', 'r2', 'r2', 'r2', 'r3', 'r3', 'f64', '-r2', '-r3', 'f65', 'r2', 'r2', 'f31', '-r2', '-r3', 'f32', 'r2', 'r2', 'r3', 'r3', 'f64', '-r2', '-r3', 'f65', 'r2', 'r2', 'f31', '-r2', '-r3', 'f32', 'r3', 'r3', 'f64', '-r2', '-r3', 'f65', '-r0', '-r0', '-r1', '-r1', 'r3', 'r3', 'r3', 'r3', 'r3', 'r3', 'r3', 'r3', 'r3', 'r3', 'r3', 'r3', 'r3', 'f33', '-r2', '-r3', 'f34', 'r3', 'r3', 'f0', '-r2', '-r3', 'f1', 'r2', 'r2', 'f33', '-r2', '-r3', 'f34', 'r3', 'r3', 'f0', '-r2', '-r3', 'f1', 'r2', 'r2', 'f33', '-r2', '-r3', 'f34', 'r3', 'r3', 'f0', '-r2', '-r3', 'f1', 'r2', 'r2', 'f33', '-r2', '-r3', 'f34', 'r3', 'r3', 'f0', '-r2', '-r3', 'f1', 'r2', 'r2', 'f33', '-r2', '-r3', 'f34', 'r3', 'r3', 'f0', '-r2', '-r3', 'f1', 'r2', 'r2', 'f33', '-r2', '-r3', 'f34', 'r3', 'r3', 'f0', '-r2', '-r3', 'f1', 'r2', 'r2', 'f33', '-r2', '-r3', 'f34', 'r3', 'r3', 'f0', '-r2', '-r3', 'f1', 'r0', 'r0', 'r0', 'r0', 'r0', 'r0', 'r0', 'r0', 'r0', 'r0', 'r0', 'r0', 'r0', 'r0', 'r0', 'r0', 'r0', 'r0', 'r0', 'r0', 'r0', 'r0', 'r0', 'r0', '-r1', '-r1', '-r3', '-r3', 'f35', '-r2', '-r3', 'f36', 'r3', 'r3', 'f2', '-r2', '-r3', 'f3', 'r2', 'r2', 'f35', '-r2', '-r3', 'f36', 'r3', 'r3', 'f2', '-r2', '-r3', 'f3', 'r0', '-r1', '-r1', '-r3', '-r3', 'f37', '-r2', '-r3', 'f38', 'r3', 'r3', 'f4', '-r2', '-r3', 'f5', 'r2', 'r2', 'f37', '-r2', '-r3', 'f38', 'r3', 'r3', 'f4', '-r2', '-r3', 'f5', 'r2', 'r2', 'f37', '-r2', '-r3', 'f38', 'r3', 'r3', 'f4', '-r2', '-r3', 'f5', 'r2', 'r2', 'f37', '-r2', '-r3', 'f38', 'r3', 'r3', 'f4', '-r2', '-r3', 'f5', 'r2', 'r2', 'f37', '-r2', '-r3', 'f38', 'r3', 'r3', 'f4', '-r2', '-r3', 'f5', 'r2', 'r2', 'f37', '-r2', '-r3', 'f38', 'r3', 'r3', 'f4', '-r2', '-r3', 'f5', 'r2', 'r2', 'f37', '-r2', '-r3', 'f38', 'r3', 'r3', 'f4', '-r2', '-r3', 'f5', 'r2', 'r2', 'f37', '-r2', '-r3', 'f38', 'r3', 'r3', 'f4', '-r2', '-r3', 'f5', 'r2', 'r2', 'f37', '-r2', '-r3', 'f38', 'r3', 'r3', 'f4', '-r2', '-r3', 'f5', 'r2', 'r2', 'f37', '-r2', '-r3', 'f38', '-r0', '-r0', 'r1', 'r1', 'r1', 'r1', 'r1', 'r1', 'r1', 'r1', 'r1', 'r1', 'r1', 'r1', 'r1', 'r1', 'r1', 'r1', 'r1', 'r1', 'r1', 'r1', 'r1', 'r1', 'r1', 'r1', 'r1', '-r2', '-r2', 'f6', '-r2', '-r3', 'f7', '-r0', '-r0', '-r1', '-r1', 'r3', 'r3', 'r3', 'r3', 'r3', 'r3', 'r3', 'r3', 'r3', 'r3', 'r3', 'r3', 'r3', 'r3', 'r3', 'r3', 'r3', 'r3', 'f41', '-r2', '-r3', 'f42', '-r0', '-r0', '-r1', '-r1', 'r2', 'r2', 'r2', 'r2', 'r2', 'r2', 'r2', 'r2', 'r2', 'r2', 'r2', 'r2', 'r2', 'r2', 'r2', 'r2', 'r2', 'r2', 'r2', 'r2', 'f10', '-r2', '-r3', 'f11', 'r2', 'r2', 'f43', '-r2', '-r3', 'f44', 'r3', 'r3', 'f10', '-r2', '-r3', 'f11', 'r2', 'r2', 'f43', '-r2', '-r3', 'f44', 'r3', 'r3', 'f10', '-r2', '-r3', 'f11', 'r2', 'r2', 'f43', '-r2', '-r3', 'f44', 'r3', 'r3', 'f10', '-r2', '-r3', 'f11', 'r2', 'r2', 'f43', '-r2', '-r3', 'f44', 'r3', 'r3', 'f10', '-r2', '-r3', 'f11', 'r2', 'r2', 'f43', '-r2', '-r3', 'f44', 'r3', 'r3', 'f10', '-r2', '-r3', 'f11', 'r2', 'r2', 'f43', '-r2', '-r3', 'f44', 'r3', 'r3', 'f10', '-r2', '-r3', 'f11', 'r2', 'r2', 'f43', '-r2', '-r3', 'f44', 'r3', 'r3', 'f10', '-r2', '-r3', 'f11', 'r2', 'r2', 'f43', '-r2', '-r3', 'f44', 'r3', 'r3', 'f10', '-r2', '-r3', 'f11', 'r0', 'r0', 'r0', 'r0', 'r0', 'r0', 'r0', 'r0', 'r0', 'r0', 'r0', 'r0', 'r0', 'r0', 'r0', 'r0', 'r0', 'r0', '-r1', '-r1', '-r3', '-r3', 'f45', '-r2', '-r3', 'f46', 'r3', 'r3', 'f12', '-r2', '-r3', 'f13', 'r2', 'r2', 'f45', '-r2', '-r3', 'f46', 'r3', 'r3', 'f12', '-r2', '-r3', 'f13', 'r2', 'r2', 'f45', '-r2', '-r3', 'f46', 'r3', 'r3', 'f12', '-r2', '-r3', 'f13', 'r2', 'r2', 'f45', '-r2', '-r3', 'f46', 'r3', 'r3', 'f12', '-r2', '-r3', 'f13', 'r2', 'r2', 'f45', '-r2', '-r3', 'f46', 'r3', 'r3', 'f12', '-r2', '-r3', 'f13', 'r2', 'r2', 'f45', '-r2', '-r3', 'f46', 'r3', 'r3', 'f12', '-r2', '-r3', 'f13', 'r2', 'r2', 'f45', '-r2', '-r3', 'f46', 'r3', 'r3', 'f12', '-r2', '-r3', 'f13', 'r2', 'r2', 'f45', '-r2', '-r3', 'f46', 'r3', 'r3', 'f12', '-r2', '-r3', 'f13', 'r2', 'r2', 'f45', '-r2', '-r3', 'f46', 'r3', 'r3', 'f12', '-r2', '-r3', 'f13', '-r0', '-r0', '-r1', '-r1', 'r3', 'r3', 'r3', 'r3', 'r3', 'r3', 'r3', 'r3', 'r3', 'r3', 'r3', 'r3', 'r3', 'r3', 'r3', 'r3', 'r3', 'f47', '-r2', '-r3', 'f48', 'r3', 'r3', 'f14', '-r2', '-r3', 'f15', 'r2', 'r2', 'f47', '-r2', '-r3', 'f48', 'r3', 'r3', 'f14', '-r2', '-r3', 'f15', 'r2', 'r2', 'f47', '-r2', '-r3', 'f48', 'r3', 'r3', 'f14', '-r2', '-r3', 'f15', 'r2', 'r2', 'f47', '-r2', '-r3', 'f48', 'r3', 'r3', 'f14', '-r2', '-r3', 'f15', 'r2', 'r2', 'f47', '-r2', '-r3', 'f48', 'r3', 'r3', 'f14', '-r2', '-r3', 'f15', 'r2', 'r2', 'f47', '-r2', '-r3', 'f48', '-r0', '-r0', '-r1', '-r1', 'r2', 'r2', 'r2', 'r2', 'r2', 'r2', 'r2', 'r2', 'r2', 'r2', 'r2', 'r2', 'r2', 'r2', 'r2', 'r2', 'r2', 'r2', 'r2', 'r2', 'r2', 'r2', 'f16', '-r2', '-r3', 'f17', 'r2', 'r2', 'f49', '-r2', '-r3', 'f50', 'r3', 'r3', 'f16', '-r2', '-r3', 'f17', '-r0', '-r0', '-r1', '-r1', 'r3', 'r3', 'r3', 'r3', 'r3', 'r3', 'f51', '-r2', '-r3', 'f52', 'r3', 'r3', 'f18', '-r2', '-r3', 'f19', 'r2', 'r2', 'f51', '-r2', '-r3', 'f52', 'r3', 'r3', 'f18', '-r2', '-r3', 'f19', 'r2', 'r2', 'f51', '-r2', '-r3', 'f52', 'r3', 'r3', 'f18', '-r2', '-r3', 'f19', 'r2', 'r2', 'f51', '-r2', '-r3', 'f52', 'r3', 'r3', 'f18', '-r2', '-r3', 'f19', 'r2', 'r2', 'f51', '-r2', '-r3', 'f52', '-r0', '-r0', 'r1', 'r1', 'r1', 'r1', 'r1', 'r1', 'r1', 'r1', 'r1', 'r1', 'r1', 'r1', 'r1', 'r1', 'r1', 'r1', 'r1', 'r1', 'r1', 'r1', 'r1', 'r1', 'r1', 'r1', 'r1', 'r1', 'r1', 'r1', 'r1', '-r2', '-r2', 'f20', '-r2', '-r3', 'f21', 'r2', 'r2', 'f53', '-r2', '-r3', 'f54', 'r3', 'r3', 'f20', '-r2', '-r3', 'f21', 'r0', 'r0', 'r0', 'r0', 'r0', 'r0', 'r0', 'r0', 'r0', 'r0', 'r0', 'r0', 'r0', 'r0', 'r0', 'r0', 'r0', 'r0', 'r0', 'r0', 'r0', 'r0', 'r0', 'r2', 'r2', 'f53', '-r2', '-r3', 'f54', 'r3', 'r3', 'f20', '-r2', '-r3', 'f21', 'r2', 'r2', 'f53', '-r2', '-r3', 'f54', 'r3', 'r3', 'f20', '-r2', '-r3', 'f21', 'r2', 'r2', 'f53', '-r2', '-r3', 'f54', 'r3', 'r3', 'f20', '-r2', '-r3', 'f21', 'r2', 'r2', 'f53', '-r2', '-r3', 'f54', 'r3', 'r3', 'f20', '-r2', '-r3', 'f21', 'r2', 'r2', 'f53', '-r2', '-r3', 'f54', 'r3', 'r3', 'f20', '-r2', '-r3', 'f21', 'r2', 'r2', 'f53', '-r2', '-r3', 'f54', 'r3', 'r3', 'f20', '-r2', '-r3', 'f21', 'r2', 'r2', 'f53', '-r2', '-r3', 'f54', '-r0', '-r0', 'r1', 'r1', 'r1', 'r1', 'r1', 'r1', 'r1', '-r2', '-r2', 'f22', '-r2', '-r3', 'f23', 'r2', 'r2', 'f55', '-r2', '-r3', 'f56', 'r3', 'r3', 'f22', '-r2', '-r3', 'f23', 'r2', 'r2', 'f55', '-r2', '-r3', 'f56', 'r3', 'r3', 'f22', '-r2', '-r3', 'f23', 'r2', 'r2', 'r3', 'r3', 'r3', 'r3', 'r3', 'r3', 'r3', 'r3', 'r3', 'r3', 'r3', 'r3', 'r3', 'r3', 'r3', 'r3', 'f55', '-r2', '-r3', 'f56', 'r3', 'r3', 'f22', '-r2', '-r3', 'f23', 'r2', 'r2', 'f55', '-r2', '-r3', 'f56', 'r3', 'r3', 'f22', '-r2', '-r3', 'f23', 'r2', 'r2', 'f55', '-r2', '-r3', 'f56', 'r3', 'r3', 'f22', '-r2', '-r3', 'f23', 'r2', 'r2', 'f55', '-r2', '-r3', 'f56', 'r3', 'r3', 'f22', '-r2', '-r3', 'f23', 'r2', 'r2', 'f55', '-r2', '-r3', 'f56', 'r3', 'r3', 'f22', '-r2', '-r3', 'f23', 'r2', 'r2', 'f55', '-r2', '-r3', 'f56', 'r3', 'r3', 'f22', '-r2', '-r3', 'f23', 'r2', 'r2', 'f55', '-r2', '-r3', 'f56', 'r3', 'r3', 'f22', '-r2', '-r3', 'f23', 'r2', 'r2', 'f55', '-r2', '-r3', 'f56', 'r3', 'r3', 'f22', '-r2', '-r3', 'f23', 'r2', 'r2', 'f55', '-r2', '-r3', 'f56', 'r3', 'r3', 'f22', '-r2', '-r3', 'f23', 'r2', 'r2', 'f55', '-r2', '-r3', 'f56', 'r3', 'r3', 'f22', '-r2', '-r3', 'f23', 'r2', 'r2', 'f55', '-r2', '-r3', 'f56', 'r3', 'r3', 'f22', '-r2', '-r3', 'f23', 'r2', 'r2', 'f55', '-r2', '-r3', 'f56', '-r0', '-r0', 'r1', 'r1', 'r1', 'r1', 'r1', 'r1', 'r1', 'r1', 'r1', 'r1', 'r1', 'r1', 'r1', '-r2', '-r2', 'f24', '-r2', '-r3', 'f25', 'r2', 'r2', 'f57', '-r2', '-r3', 'f58', 'r3', 'r3', 'f24', '-r2', '-r3', 'f25', 'r2', 'r2', 'f57', '-r2', '-r3', 'f58', 'r3', 'r3', 'f24', '-r2', '-r3', 'f25', 'r2', 'r2', 'f57', '-r2', '-r3', 'f58', 'r3', 'r3', 'f24', '-r2', '-r3', 'f25', 'r2', 'r2', 'f57', '-r2', '-r3', 'f58', '-r0', '-r0', '-r0', '-r0', '-r0', 'r2', 'r2', 'r2', 'r2', 'r2', 'r2', 'r2', 'r2', 'r2', 'r2', 'r2', 'r2', 'r2', 'r2', 'r2', 'r2', 'r2', 'r2', 'r2', 'r2', 'r2', 'r2', 'r2', 'r2', 'r2', 'r2', 'r2', 'r2', '-r3', '-r3', '-r3', 'f29', '-r2', '-r3', 'f30', 'r2', 'r2', 'f62', '-r2', '-r3', 'f63', 'r3', 'r3', 'f29', '-r2', '-r3', 'f30', 'r2', 'r2', 'f62', '-r2', '-r3', 'f63', 'r3', 'r3', 'f29', '-r2', '-r3', 'f30', 'r2', 'r2', 'f62', '-r2', '-r3', 'f63', 'r3', 'r3', 'f29', '-r2', '-r3', 'f30', 'r2', 'r2', 'f62', '-r2', '-r3', 'f63', 'r3', 'r3', 'f29', '-r2', '-r3', 'f30', 'r2', 'r2', 'f62', '-r2', '-r3', 'f63', 'r3', 'r3', 'f29', '-r2', '-r3', 'f30', 'r2', 'r2', 'f62', '-r2', '-r3', 'f63', 'r3', 'r3', 'f29', '-r2', '-r3', 'f30', 'r2', 'r2', 'f62', '-r2', '-r3', 'f63', 'r3', 'r3', 'f29', '-r2', '-r3', 'f30', 'r2', 'r2', 'f62', '-r2', '-r3', 'f63', 'r3', 'r3', 'f29', '-r2', '-r3', 'f30', 'r2', 'r2', 'f62', '-r2', '-r3', 'f63', 'r3', 'r3', 'f29', '-r2', '-r3', 'f30', 'r2', 'r2', 'f62', '-r2', '-r3', 'f63', 'r3', 'r3', 'f29', '-r2', '-r3', 'f30', '-r0', '-r0', '-r0', '-r0', '-r0', '-r0', '-r0', '-r0', '-r0', '-r0', '-r0', '-r0', '-r0', '-r0', '-r0', '-r0', '-r0', '-r0', '-r0', '-r0', '-r0', '-r0', '-r0', '-r0', '-r0', '-r0', '-r0', '-r0', '-r0', '-r0', 'r2', 'r2', 'f62', '-r2', '-r3', 'f63', 'r3', 'r3', 'f29', '-r2', '-r3', 'f30', '-r1', '-r1', '-r3', '-r3', 'f64', '-r2', '-r3', 'f65', 'r3', 'r3', 'f31', '-r2', '-r3', 'f32', 'r2', 'r2', 'f64', '-r2', '-r3', 'f65', 'r3', 'r3', 'f31', '-r2', '-r3', 'f32', 'r2', 'r2', 'f64', '-r2', '-r3', 'f65', 'r3', 'r3', 'f31', '-r2', '-r3', 'f32', 'r2', 'r2', 'f64', '-r2', '-r3', 'f65', 'r3', 'r3', 'f31', '-r2', '-r3', 'f32', 'r2', 'r2', 'f64', '-r2', '-r3', 'f65', 'r3', 'r3', 'f31', '-r2', '-r3', 'f32', 'r2', 'r2', 'f64', '-r2', '-r3', 'f65', '-r0', '-r0', '-r1', '-r1', 'r2', 'r2', 'r2', 'r2', 'r2', 'r2', 'r2', 'r2', 'r2', 'r2', 'r2', 'r2', 'r2', 'r2', 'r2', 'r2', 'f33', '-r2', '-r3', 'f34', 'r2', 'r2', 'f0', '-r2', '-r3', 'f1', 'r3', 'r3', 'f33', '-r2', '-r3', 'f34', '-r0', '-r0', '-r1', '-r1', 'r3', 'r3', 'r3', 'r3', 'r3', 'r3', 'r3', 'r3', 'r3', 'r3', 'r3', 'r3', 'r3', 'r3', 'r3', 'r3', 'r3', 'r3', 'r3', 'r3', 'r3', 'r3', 'r3', 'r3', 'r3', 'r3', 'r3', 'r3', 'r3', 'r3', 'r3', 'r3', 'r3', 'f2', '-r2', '-r3', 'f3', 'r3', 'r3', 'f35', '-r2', '-r3', 'f36', 'r2', 'r2', 'f2', '-r2', '-r3', 'f3', 'r3', 'r3', 'f35', '-r2', '-r3', 'f36', 'r2', 'r2', 'f2', '-r2', '-r3', 'f3', 'r3', 'r3', 'f35', '-r2', '-r3', 'f36', 'r2', 'r2', 'f2', '-r2', '-r3', 'f3', 'r3', 'r3', 'f35', '-r2', '-r3', 'f36', 'r2', 'r2', 'f2', '-r2', '-r3', 'f3', 'r3', 'r3', 'f35', '-r2', '-r3', 'f36', 'r2', 'r2', 'f2', '-r2', '-r3', 'f3', 'r3', 'r3', 'f35', '-r2', '-r3', 'f36', 'r2', 'r2', 'f2', '-r2', '-r3', 'f3', 'r3', 'r3', 'f35', '-r2', '-r3', 'f36', 'r2', 'r2', 'f2', '-r2', '-r3', 'f3', 'r3', 'r3', 'f35', '-r2', '-r3', 'f36', 'r2', 'r2', 'f2', '-r2', '-r3', 'f3', 'r3', 'r3', 'f35', '-r2', '-r3', 'f36', 'r2', 'r2', 'f2', '-r2', '-r3', 'f3', 'r3', 'r3', 'f35', '-r2', '-r3', 'f36', 'r2', 'r2', 'f2', '-r2', '-r3', 'f3', 'r3', 'r3', 'f35', '-r2', '-r3', 'f36', 'r2', 'r2', 'f2', '-r2', '-r3', 'f3', 'r1', 'r1', 'r1', 'r1', 'r1', 'r1', 'r1', 'r1', 'r1', 'r1', 'r1', 'r1', 'r1', 'r1', 'r1', 'r1', 'r1', 'r1', 'r1', 'r1', 'r1', 'r1', 'r1', 'r1', 'r1', 'r1', 'r1', 'r1', 'r1', 'r1', 'r1', 'r3', 'r3', 'f35', '-r2', '-r3', 'f36', 'r2', 'r2', 'f2', '-r2', '-r3', 'f3', 'r3', 'r3', 'f35', '-r2', '-r3', 'f36', 'r2', 'r2', 'f2', '-r2', '-r3', 'f3', 'r3', 'r3', 'f35', '-r2', '-r3', 'f36', 'r2', 'r2', 'f2', '-r2', '-r3', 'f3', 'r3', 'r3', 'f35', '-r2', '-r3', 'f36', 'r2', 'r2', 'f2', '-r2', '-r3', 'f3', 'r3', 'r3', 'f35', '-r2', '-r3', 'f36', 'r2', 'r2', 'f2', '-r2', '-r3', 'f3', 'r3', 'r3', 'f35', '-r2', '-r3', 'f36', 'r2', 'r2', 'f2', '-r2', '-r3', 'f3', 'r3', 'r3', 'f35', '-r2', '-r3', 'f36', 'r2', 'r2', 'f2', '-r2', '-r3', 'f3', 'r3', 'r3', 'f35', '-r2', '-r3', 'f36', '-r0', '-r0', '-r1', '-r1', 'r3', 'r3', 'r3', 'r3', 'r3', 'r3', 'r3', 'r3', 'r3', 'r3', 'r3', 'r3', 'r3', 'r3', 'r3', 'r3', 'r3', 'r3', 'f4', '-r2', '-r3', 'f5', 'r3', 'r3', 'f37', '-r2', '-r3', 'f38', 'r2', 'r2', 'f4', '-r2', '-r3', 'f5', 'r3', 'r3', 'f37', '-r2', '-r3', 'f38', 'r2', 'r2', 'f4', '-r2', '-r3', 'f5', '-r0', '-r0', 'r1', 'r1', 'r1', 'r1', 'r1', 'r1', 'r1', 'r1', 'r1', '-r2', '-r2', 'f39', '-r2', '-r3', 'f40', 'r2', 'r2', 'f6', '-r2', '-r3', 'f7', 'r3', 'r3', 'f39', '-r2', '-r3', 'f40', 'r2', 'r2', 'f6', '-r2', '-r3', 'f7', 'r3', 'r3', 'f39', '-r2', '-r3', 'f40', 'r2', 'r2', 'f6', '-r2', '-r3', 'f7', 'r3', 'r3', 'f39', '-r2', '-r3', 'f40', 'r2', 'r2', 'f6', '-r2', '-r3', 'f7', 'r3', 'r3', 'f39', '-r2', '-r3', 'f40', 'r0', 'r0', 'r0', 'r0', 'r0', 'r0', 'r0', 'r0', 'r0', 'r0', 'r0', 'r0', 'r0', 'r0', 'r0', 'r0', 'r0', 'r0', 'r0', 'r0', 'r0', 'r0', 'r0', 'r0', 'r0', 'r0', 'r0', 'r0', 'r0', 'r0', 'r0', 'r0', '-r1', '-r1', '-r3', '-r3', 'f8', '-r2', '-r3', 'f9', 'r3', 'r3', 'f41', '-r2', '-r3', 'f42', 'r2', 'r2', 'f8', '-r2', '-r3', 'f9', 'r3', 'r3', 'f41', '-r2', '-r3', 'f42', 'r2', 'r2', 'f8', '-r2', '-r3', 'f9', 'r3', 'r3', 'f41', '-r2', '-r3', 'f42', 'r2', 'r2', 'f8', '-r2', '-r3', 'f9', 'r3', 'r3', 'f41', '-r2', '-r3', 'f42', 'r2', 'r2', 'f8', '-r2', '-r3', 'f9', 'r3', 'r3', 'f41', '-r2', '-r3', 'f42', 'r2', 'r2', 'f8', '-r2', '-r3', 'f9', '-r2', '-r2', '-r2', '-r2', '-r2', '-r2', '-r2', '-r2', '-r2', '-r2', '-r2', '-r2', '-r2', '-r2', '-r2', '-r2', '-r2', '-r2', '-r2', '-r2', '-r2', '-r2', '-r2', '-r2', '-r2', '-r2', '-r2', '-r2', '-r2', '-r2', '-r2', '-r2', 'r3', 'r3', 'f41', '-r2', '-r3', 'f42', 'r2', 'r2', 'f8', '-r2', '-r3', 'f9', '-r0', '-r0', 'r1', 'r1', 'r1', 'r1', 'r1', 'r1', 'r1', 'r1', 'r1', 'r1', 'f43', '-r2', '-r3', 'f44', 'r2', 'r2', 'f10', '-r2', '-r3', 'f11', 'r3', 'r3', 'f43', '-r2', '-r3', 'f44', 'r2', 'r2', 'f10', '-r2', '-r3', 'f11', 'r3', 'r3', 'f43', '-r2', '-r3', 'f44', 'r2', 'r2', 'f10', '-r2', '-r3', 'f11', 'r3', 'r3', 'f43', '-r2', '-r3', 'f44', 'r2', 'r2', 'f10', '-r2', '-r3', 'f11', 'r3', 'r3', 'f43', '-r2', '-r3', 'f44', 'r2', 'r2', 'f10', '-r2', '-r3', 'f11', 'r3', 'r3', 'f43', '-r2', '-r3', 'f44', 'r2', 'r2', 'f10', '-r2', '-r3', 'f11', '-r0', '-r0', '-r1', '-r1', 'r2', 'r2', 'r2', 'r2', 'r2', 'f45', '-r2', '-r3', 'f46', 'r2', 'r2', 'f12', '-r2', '-r3', 'f13', 'r3', 'r3', 'f45', '-r2', '-r3', 'f46', 'r2', 'r2', 'f12', '-r2', '-r3', 'f13', 'r3', 'r3', 'f45', '-r2', '-r3', 'f46', '-r0', '-r0', '-r1', '-r1', 'r3', 'r3', 'r3', 'r3', 'r3', 'r3', 'r3', 'r3', 'r3', 'r3', 'r3', 'r3', 'r3', 'r3', 'r3', 'r3', 'r3', 'r3', 'r3', 'r3', 'r3', 'f14', '-r2', '-r3', 'f15', 'r3', 'r3', 'f47', '-r2', '-r3', 'f48', 'r2', 'r2', 'f14', '-r2', '-r3', 'f15', 'r3', 'r3', 'f47', '-r2', '-r3', 'f48', 'r2', 'r2', 'f14', '-r2', '-r3', 'f15', 'r3', 'r3', 'f47', '-r2', '-r3', 'f48', 'r2', 'r2', 'f14', '-r2', '-r3', 'f15', 'r3', 'r3', 'f47', '-r2', '-r3', 'f48', 'r2', 'r2', 'f14', '-r2', '-r3', 'f15', 'r3', 'r3', 'f47', '-r2', '-r3', 'f48', 'r2', 'r2', 'f14', '-r2', '-r3', 'f15', 'r3', 'r3', 'f47', '-r2', '-r3', 'f48', 'r2', 'r2', 'f14', '-r2', '-r3', 'f15', 'r3', 'r3', 'f47', '-r2', '-r3', 'f48', 'r2', 'r2', 'f14', '-r2', '-r3', 'f15', 'r3', 'r3', 'f47', '-r2', '-r3', 'f48', 'r2', 'r2', 'f14', '-r2', '-r3', 'f15', 'r3', 'r3', 'f47', '-r2', '-r3', 'f48', 'r2', 'r2', 'f14', '-r2', '-r3', 'f15', 'r3', 'r3', 'f47', '-r2', '-r3', 'f48', 'r2', 'r2', 'f14', '-r2', '-r3', 'f15', 'r3', 'r3', 'f47', '-r2', '-r3', 'f48', 'r2', 'r2', 'f14', '-r2', '-r3', 'f15', 'r3', 'r3', 'f47', '-r2', '-r3', 'f48', 'r2', 'r2', 'f14', '-r2', '-r3', 'f15', 'r3', 'r3', 'f47', '-r2', '-r3', 'f48', 'r0', 'r0', 'r0', 'r0', 'r0', 'r0', 'r0', 'r0', 'r0', 'r0', 'r0', 'r0', 'r0', 'r0', 'r0', 'r0', 'r0', 'r0', 'r0', 'r0', 'r0', 'r0', 'r0', 'r0', 'r0', 'r0', 'r0', '-r1', '-r1', '-r3', '-r3', 'f16', '-r2', '-r3', 'f17', 'r3', 'r3', 'f49', '-r2', '-r3', 'f50', 'r2', 'r2', 'f16', '-r2', '-r3', 'f17', 'r3', 'r3', 'f49', '-r2', '-r3', 'f50', 'r2', 'r2', 'f16', '-r2', '-r3', 'f17', 'r2', 'r2', 'r2', 'r2', 'r2', 'r2', 'r2', 'r2', 'r2', 'r2', 'r2', 'r2', 'r2', 'r2', 'r2', 'r2', 'r2', 'r2', 'r2', 'r3', 'r3', 'f49', '-r2', '-r3', 'f50', 'r2', 'r2', 'f16', '-r2', '-r3', 'f17', 'r3', 'r3', 'f49', '-r2', '-r3', 'f50', 'r0', 'r0', 'r0', '-r1', '-r1', '-r3', '-r3', 'f18', '-r2', '-r3', 'f19', 'r1', 'r1', 'r1', 'r1', 'r1', 'r1', 'r1', 'r1', 'r1', 'r1', 'r1', 'r1', 'r1', 'r1', 'r1', 'r1', 'r1', 'r1', 'r1', 'r1', 'r1', 'r1', 'r1', 'r1', 'r1', 'r1', 'r1', 'r3', 'r3', 'f51', '-r2', '-r3', 'f52', 'r2', 'r2', 'f18', '-r2', '-r3', 'f19', 'r3', 'r3', 'f51', '-r2', '-r3', 'f52', 'r2', 'r2', 'f18', '-r2', '-r3', 'f19', 'r3', 'r3', 'f51', '-r2', '-r3', 'f52', 'r2', 'r2', 'f18', '-r2', '-r3', 'f19', 'r3', 'r3', 'f51', '-r2', '-r3', 'f52', '-r0', '-r0', '-r1', '-r1', 'r3', 'r3', 'r3', 'r3', 'r3', 'r3', 'r3', 'r3', 'r3', 'r3', 'r3', 'r3', 'r3', 'r3', 'r3', 'r3', 'r3', 'r3', 'r3', 'r3', 'r3', 'f20', '-r2', '-r3', 'f21', 'r3', 'r3', 'f53', '-r2', '-r3', 'f54', 'r2', 'r2', 'f20', '-r2', '-r3', 'f21', 'r3', 'r3', 'f53', '-r2', '-r3', 'f54', 'r2', 'r2', 'f20', '-r2', '-r3', 'f21', '-r0', '-r0', 'r1', 'r1', 'r1', 'r1', 'r1', '-r2', '-r2', 'f55', '-r2', '-r3', 'f56', 'r2', 'r2', 'f22', '-r2', '-r3', 'f23', 'r3', 'r3', 'f55', '-r2', '-r3', 'f56', 'r2', 'r2', 'f22', '-r2', '-r3', 'f23', 'r3', 'r3', 'f55', '-r2', '-r3', 'f56', 'r2', 'r2', 'f22', '-r2', '-r3', 'f23', 'r3', 'r3', 'f55', '-r2', '-r3', 'f56', 'r2', 'r2', 'f22', '-r2', '-r3', 'f23', 'r3', 'r3', 'f55', '-r2', '-r3', 'f56', 'r2', 'r2', 'f22', '-r2', '-r3', 'f23', 'r3', 'r3', 'f55', '-r2', '-r3', 'f56', 'r2', 'r2', 'f22', '-r2', '-r3', 'f23', 'r3', 'r3', 'f55', '-r2', '-r3', 'f56', 'r2', 'r2', 'f22', '-r2', '-r3', 'f23', 'r3', 'r3', 'f55', '-r2', '-r3', 'f56', 'r2', 'r2', 'f22', '-r2', '-r3', 'f23', 'r3', 'r3', 'f55', '-r2', '-r3', 'f56', 'r2', 'r2', 'f22', '-r2', '-r3', 'f23', 'r3', 'r3', 'f55', '-r2', '-r3', 'f56', 'r2', 'r2', 'f22', '-r2', '-r3', 'f23', 'r3', 'r3', 'f55', '-r2', '-r3', 'f56', 'r2', 'r2', 'f22', '-r2', '-r3', 'f23', 'r3', 'r3', 'f55', '-r2', '-r3', 'f56', 'r2', 'r2', 'f22', '-r2', '-r3', 'f23', 'r3', 'r3', 'f55', '-r2', '-r3', 'f56', 'r2', 'r2', 'f22', '-r2', '-r3', 'f23', 'r3', 'r3', 'f55', '-r2', '-r3', 'f56', 'r2', 'r2', 'f22', '-r2', '-r3', 'f23', 'r3', 'r3', 'f55', '-r2', '-r3', 'f56', 'r2', 'r2', 'f22', '-r2', '-r3', 'f23', 'r3', 'r3', 'f55', '-r2', '-r3', 'f56', 'r2', 'r2', 'f22', '-r2', '-r3', 'f23', 'r3', 'r3', 'f55', '-r2', '-r3', 'f56', 'r2', 'r2', 'f22', '-r2', '-r3', 'f23', 'r3', 'r3', 'f55', '-r2', '-r3', 'f56', 'r2', 'r2', 'f22', '-r2', '-r3', 'f23', 'r3', 'r3', 'f55', '-r2', '-r3', 'f56', 'r2', 'r2', 'f22', '-r2', '-r3', 'f23', 'r3', 'r3', 'f55', '-r2', '-r3', 'f56', 'r2', 'r2', 'f22', '-r2', '-r3', 'f23', 'r3', 'r3', 'f55', '-r2', '-r3', 'f56', '-r0', '-r0', '-r1', '-r1', 'r3', 'r3', 'r3', 'r3', 'r3', 'r3', 'r3', 'r3', 'r3', 'r3', 'r3', 'r3', 'r3', 'r3', 'r3', 'r3', 'r3', 'r3', 'r3', 'r3', 'r3', 'r3', 'f24', '-r2', '-r3', 'f25', 'r3', 'r3', 'f57', '-r2', '-r3', 'f58', 'r2', 'r2', 'f24', '-r2', '-r3', 'f25', 'r3', 'r3', 'f57', '-r2', '-r3', 'f58', 'r2', 'r2', 'f24', '-r2', '-r3', 'f25', 'r3', 'r3', 'f57', '-r2', '-r3', 'f58', 'r2', 'r2', 'f24', '-r2', '-r3', 'f25', 'r1', 'r1', 'r1', 'r1', 'r1', 'r1', 'r1', 'r1', 'r1', 'r1', 'r1', 'r1', 'r1', 'r1', 'r1', 'r1', 'r1', 'r1', 'r1', 'r1', 'r1', 'r1', 'r1', 'r1', 'r1', 'r1', 'r3', 'r3', 'f57', '-r2', '-r3', 'f58', 'r2', 'r2', 'f24', '-r2', '-r3', 'f25', 'r3', 'r3', 'f57', '-r2', '-r3', 'f58', 'r2', 'r2', 'f24', '-r2', '-r3', 'f25', 'r3', 'r3', 'f57', '-r2', '-r3', 'f58', 'r2', 'r2', 'f24', '-r2', '-r3', 'f25', '-r2', '-r2', '-r2', '-r2', '-r2', '-r2', '-r2', '-r2', '-r2', '-r2', '-r2', '-r2', '-r2', '-r2', '-r2', '-r2', '-r2', '-r2', '-r2', '-r2', '-r2', '-r2', '-r2', '-r2', '-r2', '-r2', '-r2', '-r2', '-r2', '-r2', 'r3', 'r3', 'f57', '-r2', '-r3', 'f58', 'r2', 'r2', 'f24', '-r2', '-r3', 'f25', 'r3', 'r3', 'f57', '-r2', '-r3', 'f58', '-r0', '-r0', '-r1', '-r1', 'r3', 'r3', 'r3', 'r3', 'r3', 'r3', 'r3', 'f26', '-r2', '-r3', 'f27', 'r3', 'r3', 'f59', '-r2', '-r3', 'f60', '-r0', '-r0', '-r0', '-r0', '-r0', '-r0', '-r0', '-r0', '-r0', '-r0', '-r0', '-r0', '-r0', '-r0', '-r0', '-r0', '-r0', '-r0', '-r0', '-r0', '-r0', '-r0', '-r0', '-r0', '-r0', '-r0', '-r0', '-r0', '-r0', '-r0', '-r0', '-r1', '-r1', '-r3', '-r3', 'f28', '-r2', '-r3', 'f29', 'r3', 'r3', 'f61', '-r2', '-r3', 'f62', 'r2', 'r2', 'f28', '-r2', '-r3', 'f29', 'r3', 'r3', 'f61', '-r2', '-r3', 'f62', 'r2', 'r2', 'f28', '-r2', '-r3', 'f29', 'r3', 'r3', 'f61', '-r2', '-r3', 'f62', 'r0', 'r0', '-r1', '-r1', '-r3', '-r3', 'f30', '-r2', '-r3', 'f31', 'r3', 'r3', 'f63', '-r2', '-r3', 'f64', 'r2', 'r2', 'f30', '-r2', '-r3', 'f31', 'r1', 'r1', 'r1', 'r1', 'r1', 'r1', 'r1', 'r1', 'r1', 'r1', 'r1', 'r3', 'r3', 'f63', '-r2', '-r3', 'f64', 'r2', 'r2', 'f30', '-r2', '-r3', 'f31', 'r3', 'r3', 'f63', '-r2', '-r3', 'f64', 'r2', 'r2', 'f30', '-r2', '-r3', 'f31', 'r3', 'r3', 'f63', '-r2', '-r3', 'f64', 'r2', 'r2', 'f30', '-r2', '-r3', 'f31', 'r3', 'r3', 'f63', '-r2', '-r3', 'f64', 'r2', 'r2', 'f30', '-r2', '-r3', 'f31', 'r3', 'r3', 'f63', '-r2', '-r3', 'f64', 'r2', 'r2', 'f30', '-r2', '-r3', 'f31', 'r3', 'r3', 'f63', '-r2', '-r3', 'f64', 'r2', 'r2', 'f30', '-r2', '-r3', 'f31', 'r3', 'r3', 'f63', '-r2', '-r3', 'f64', 'r2', 'r2', 'f30', '-r2', '-r3', 'f31', 'r3', 'r3', 'f63', '-r2', '-r3', 'f64', 'r2', 'r2', 'f30', '-r2', '-r3', 'f31', 'r3', 'r3', 'f63', '-r2', '-r3', 'f64', 'r2', 'r2', 'f30', '-r2', '-r3', 'f31', 'r3', 'r3', 'f63', '-r2', '-r3', 'f64', 'r2', 'r2', 'f30', '-r2', '-r3', 'f31', 'r3', 'r3', 'f63', '-r2', '-r3', 'f64', 'r2', 'r2', 'f30', '-r2', '-r3', 'f31', 'r1', 'r1', 'r1', 'r1', 'r1', 'r1', 'r1', 'r1', 'r1', 'r1', 'r1', 'r1', 'r3', 'r3', 'f63', '-r2', '-r3', 'f64', 'r2', 'r2', 'f30', '-r2', '-r3', 'f31', 'r3', 'r3', 'f63', '-r2', '-r3', 'f64', 'r2', 'r2', 'f30', '-r2', '-r3', 'f31', 'r3', 'r3', 'f63', '-r2', '-r3', 'f64', 'r2', 'r2', 'f30', '-r2', '-r3', 'f31', 'r3', 'r3', 'f63', '-r2', '-r3', 'f64', 'r2', 'r2', 'f30', '-r2', '-r3', 'f31', 'r3', 'r3', 'f63', '-r2', '-r3', 'f64', 'r2', 'r2', 'f30', '-r2', '-r3', 'f31', 'r3', 'r3', 'f63', '-r2', '-r3', 'f64', 'r2', 'r2', 'f30', '-r2', '-r3', 'f31', 'r3', 'r3', 'f63', '-r2', '-r3', 'f64', 'r2', 'r2', 'f30', '-r2', '-r3', 'f31', 'r3', 'r3', 'f63', '-r2', '-r3', 'f64', 'r2', 'r2', 'f30', '-r2', '-r3', 'f31', 'r3', 'r3', 'f63', '-r2', '-r3', 'f64', 'r2', 'r2', 'f30', '-r2', '-r3', 'f31', 'r1', 'r1', 'r1', 'r1', 'r1', 'r1', 'r1', 'r1', 'r1', 'r1', 'r3', 'r3', 'f63', '-r2', '-r3', 'f64', 'r2', 'r2', 'f30', '-r2', '-r3', 'f31', 'r2', 'r2', 'r2', 'r2', 'r2', 'r2', 'r2', 'r2', 'r2', 'r2', 'r2', 'r2', 'r2', 'r2', 'r2', 'r2', 'r2', 'r2', 'r2', 'r2', 'r2', 'r2', 'r2', 'r2', 'r2', 'r2', 'r2', 'r2', 'r2', 'r3', 'r3', 'f63', '-r2', '-r3', 'f64', 'r2', 'r2', 'f30', '-r2', '-r3', 'f31', 'r3', 'r3', 'f63', '-r2', '-r3', 'f64', 'r2', 'r2', 'f30', '-r2', '-r3', 'f31', 'r3', 'r3', 'f63', '-r2', '-r3', 'f64', 'r2', 'r2', 'f30', '-r2', '-r3', 'f31', 'r3', 'r3', 'f63', '-r2', '-r3', 'f64', 'r2', 'r2', 'f30', '-r2', '-r3', 'f31', 'r3', 'r3', 'f63', '-r2', '-r3', 'f64', 'r2', 'r2', 'f30', '-r2', '-r3', 'f31', 'r3', 'r3', 'f63', '-r2', '-r3', 'f64', 'r0', 'r0', 'r0', 'r0', 'r0', 'r0', 'r0', 'r0', 'r0', 'r0', 'r0', 'r0', 'r0', 'r0', 'r0', 'r0', 'r0', 'r0', 'r0', 'r0', 'r0', 'r0', 'r0', 'r0', 'r0', 'r0', 'r0', '-r1', '-r1', '-r3', '-r3', 'f32', '-r2', '-r3', 'f33', 'r3', 'r3', 'f65', 'r0', 'r1', 'f65', '-r0', '-r0', '-r1', '-r1', 'r3', 'r3', 'r3', 'r3', 'r3', 'r3', 'r3', 'r3', 'r3', 'r3', 'r3', 'r3', 'r3', 'r3', 'r3', 'r3', 'r3', 'r3', 'r3', 'r3', 'r3', 'r3', 'r3', 'r3', 'r3', 'r3', 'r3', 'r3', 'r3', 'r3', 'r3', 'r3', 'f33', '-r2', '-r3', 'f34', 'r3', 'r3', 'f0', '-r2', '-r3', 'f1', 'r2', 'r2', 'f33', '-r2', '-r3', 'f34', 'r3', 'r3', 'f0', '-r2', '-r3', 'f1', 'r2', 'r2', 'f33', '-r2', '-r3', 'f34', 'r3', 'r3', 'f0', '-r2', '-r3', 'f1', 'r2', 'r2', 'f33', '-r2', '-r3', 'f34', 'r3', 'r3', 'f0', '-r2', '-r3', 'f1', 'r2', 'r2', 'f33', '-r2', '-r3', 'f34', 'r3', 'r3', 'f0', '-r2', '-r3', 'f1', 'r2', 'r2', 'f33', '-r2', '-r3', 'f34', 'r3', 'r3', 'f0', '-r2', '-r3', 'f1', 'r2', 'r2', 'f33', '-r2', '-r3', 'f34', 'r3', 'r3', 'f0', '-r2', '-r3', 'f1', 'r0', 'r0', 'r0', 'r0', 'r0', 'r0', 'r0', '-r1', '-r1', '-r3', '-r3', 'f35', '-r2', '-r3', 'f36', 'r3', 'r3', 'f2', '-r2', '-r3', 'f3', 'r2', 'r2', 'f35', '-r2', '-r3', 'f36', 'r3', 'r3', 'f2', '-r2', '-r3', 'f3', 'r2', 'r2', 'f35', '-r2', '-r3', 'f36', 'r3', 'r3', 'f2', '-r2', '-r3', 'f3', 'r2', 'r2', 'f35', '-r2', '-r3', 'f36', 'r3', 'r3', 'f2', '-r2', '-r3', 'f3', 'r2', 'r2', 'f35', '-r2', '-r3', 'f36', 'r3', 'r3', 'f2', '-r2', '-r3', 'f3', 'r2', 'r2', 'f35', '-r2', '-r3', 'f36', 'r3', 'r3', 'f2', '-r2', '-r3', 'f3', 'r2', 'r2', 'f35', '-r2', '-r3', 'f36', 'r3', 'r3', 'f2', '-r2', '-r3', 'f3', 'r2', 'r2', 'f35', '-r2', '-r3', 'f36', 'r3', 'r3', 'f2', '-r2', '-r3', 'f3', 'r2', 'r2', 'f35', '-r2', '-r3', 'f36', 'r3', 'r3', 'f2', '-r2', '-r3', 'f3', 'r2', 'r2', 'f35', '-r2', '-r3', 'f36', 'r3', 'r3', 'f2', '-r2', '-r3', 'f3', 'r2', 'r2', 'f35', '-r2', '-r3', 'f36', 'r3', 'r3', 'f2', '-r2', '-r3', 'f3', 'r2', 'r2', 'f35', '-r2', '-r3', 'f36', 'r3', 'r3', 'f2', '-r2', '-r3', 'f3', 'r2', 'r2', 'f35', '-r2', '-r3', 'f36', 'r3', 'r3', 'f2', '-r2', '-r3', 'f3', 'r2', 'r2', 'f35', '-r2', '-r3', 'f36', 'r3', 'r3', 'f2', '-r2', '-r3', 'f3', 'r2', 'r2', 'f35', '-r2', '-r3', 'f36', 'r3', 'r3', 'f2', '-r2', '-r3', 'f3', 'r2', 'r2', 'f35', '-r2', '-r3', 'f36', 'r3', 'r3', 'f2', '-r2', '-r3', 'f3', 'r2', 'r2', 'f35', '-r2', '-r3', 'f36', 'r3', 'r3', 'f2', '-r2', '-r3', 'f3', 'r2', 'r2', 'f35', '-r2', '-r3', 'f36', 'r3', 'r3', 'f2', '-r2', '-r3', 'f3', 'r2', 'r2', 'f35', '-r2', '-r3', 'f36', 'r3', 'r3', 'f2', '-r2', '-r3', 'f3', 'r2', 'r2', 'f35', '-r2', '-r3', 'f36', 'r3', 'r3', 'f2', '-r2', '-r3', 'f3', 'r2', 'r2', 'f35', '-r2', '-r3', 'f36', 'r3', 'r3', 'f2', '-r2', '-r3', 'f3', 'r2', 'r2', 'f35', '-r2', '-r3', 'f36', 'r3', 'r3', 'f2', '-r2', '-r3', 'f3', 'r2', 'r2', 'f35', '-r2', '-r3', 'f36', 'r3', 'r3', 'f2', '-r2', '-r3', 'f3', 'r2', 'r2', 'f35', '-r2', '-r3', 'f36', 'r3', 'r3', 'f2', '-r2', '-r3', 'f3', 'r2', 'r2', 'r3', 'r3', 'r3', 'r3', 'r3', 'r3', 'r3', 'r3', 'r3', 'r3', 'r3', 'r3', 'r3', 'r3', 'r3', 'r3', 'r3', 'r3', 'r3', 'r3', 'r3', 'r3', 'r3', 'r3', 'r3', 'r3', 'r3', 'r3', 'r3', 'r3', 'r3', 'r3', 'f35', '-r2', '-r3', 'f36', 'r3', 'r3', 'f2', '-r2', '-r3', 'f3', 'r2', 'r2', 'f35', '-r2', '-r3', 'f36', 'r3', 'r3', 'f2', '-r2', '-r3', 'f3', 'r2', 'r2', 'f35', '-r2', '-r3', 'f36', 'r3', 'r3', 'f2', '-r2', '-r3', 'f3', 'r2', 'r2', 'f35', '-r2', '-r3', 'f36', 'r3', 'r3', 'f2', '-r2', '-r3', 'f3', 'r0', 'r0', 'r0', 'r0', 'r0', 'r0', 'r0', 'r0', 'r0', 'r0', 'r0', 'r0', 'r0', 'r0', 'r0', 'r0', 'r0', 'r0', 'r0', 'r0', 'r0', 'r0', 'r0', 'r0', 'r0', 'r0', 'r0', '-r1', '-r1', '-r3', '-r3', 'f37', '-r2', '-r3', 'f38', 'r3', 'r3', 'f4', '-r2', '-r3', 'f5', 'r2', 'r2', 'f37', '-r2', '-r3', 'f38', '-r0', '-r0', '-r1', '-r1', '-r1', '-r1', '-r1', '-r1', '-r1', '-r1', '-r1', '-r1', '-r1', '-r1', '-r1', '-r1', '-r1', '-r1', '-r1', '-r1', '-r1', '-r1', '-r1', '-r1', '-r1', '-r2', '-r2', 'f6', '-r2', '-r3', 'f7', 'r2', 'r2', 'f39', '-r2', '-r3', 'f40', 'r3', 'r3', 'f6', '-r2', '-r3', 'f7', 'r2', 'r2', 'f39', '-r2', '-r3', 'f40', '-r0', '-r0', '-r1', '-r1', '-r2', '-r2', '-r2', '-r2', '-r2', '-r2', '-r2', '-r2', '-r2', '-r2', '-r2', '-r2', '-r2', '-r2', '-r2', '-r2', '-r2', '-r2', '-r2', '-r2', '-r2', '-r2', 'f8', '-r2', '-r3', 'f9', '-r0', '-r0', '-r1', '-r1', 'r3', 'r3', 'r3', 'r3', 'r3', 'r3', 'r3', 'f43', '-r2', '-r3', 'f44', 'r3', 'r3', 'f10', '-r2', '-r3', 'f11', 'r2', 'r2', 'f43', '-r2', '-r3', 'f44', 'r3', 'r3', 'f10', '-r2', '-r3', 'f11', 'r2', 'r2', 'f43', '-r2', '-r3', 'f44', 'r3', 'r3', 'f10', '-r2', '-r3', 'f11', 'r2', 'r2', 'f43', '-r2', '-r3', 'f44', 'r3', 'r3', 'f10', '-r2', '-r3', 'f11', 'r2', 'r2', 'f43', '-r2', '-r3', 'f44', 'r3', 'r3', 'f10', '-r2', '-r3', 'f11', 'r2', 'r2', 'f43', '-r2', '-r3', 'f44', 'r3', 'r3', 'f10', '-r2', '-r3', 'f11', 'r2', 'r2', 'f43', '-r2', '-r3', 'f44', 'r3', 'r3', 'f10', '-r2', '-r3', 'f11', 'r2', 'r2', 'f43', '-r2', '-r3', 'f44', '-r0', '-r0', '-r1', '-r1', 'r2', 'r2', 'r2', 'r2', 'r2', 'r2', 'r2', 'f12', '-r2', '-r3', 'f13', 'r2', 'r2', 'f45', '-r2', '-r3', 'f46', 'r3', 'r3', 'f12', '-r2', '-r3', 'f13', 'r0', 'r0', 'r0', 'r0', 'r0', 'r0', 'r0', 'r0', 'r0', 'r0', 'r0', 'r0', '-r1', '-r1', '-r3', '-r3', 'f47', '-r2', '-r3', 'f48', 'r3', 'r3', 'f14', '-r2', '-r3', 'f15', 'r2', 'r2', 'f47', '-r2', '-r3', 'f48', 'r3', 'r3', 'f14', '-r2', '-r3', 'f15', 'r2', 'r2', 'f47', '-r2', '-r3', 'f48', 'r3', 'r3', 'f14', '-r2', '-r3', 'f15', 'r2', 'r2', 'f47', '-r2', '-r3', 'f48', 'r3', 'r3', 'f14', '-r2', '-r3', 'f15', 'r2', 'r2', 'f47', '-r2', '-r3', 'f48', 'r3', 'r3', 'f14', '-r2', '-r3', 'f15', 'r2', 'r2', 'f47', '-r2', '-r3', 'f48', 'r3', 'r3', 'f14', '-r2', '-r3', 'f15', 'r2', 'r2', 'f47', '-r2', '-r3', 'f48', 'r3', 'r3', 'f14', '-r2', '-r3', 'f15', 'r2', 'r2', 'f47', '-r2', '-r3', 'f48', 'r3', 'r3', 'f14', '-r2', '-r3', 'f15', 'r2', 'r2', 'f47', '-r2', '-r3', 'f48', 'r3', 'r3', 'f14', '-r2', '-r3', 'f15', 'r2', 'r2', 'f47', '-r2', '-r3', 'f48', '-r0', '-r0', '-r1', '-r1', 'r2', 'r2', 'r2', 'r2', 'r2', 'r2', 'r2', 'r2', 'r2', 'r2', 'f16', '-r2', '-r3', 'f17', 'r2', 'r2', 'f49', '-r2', '-r3', 'f50', 'r3', 'r3', 'f16', '-r2', '-r3', 'f17', 'r2', 'r2', 'f49', '-r2', '-r3', 'f50', 'r3', 'r3', 'f16', '-r2', '-r3', 'f17', 'r2', 'r2', 'f49', '-r2', '-r3', 'f50', 'r3', 'r3', 'f16', '-r2', '-r3', 'f17', 'r2', 'r2', 'r3', 'r3', 'r3', 'r3', 'r3', 'r3', 'r3', 'r3', 'r3', 'r3', 'r3', 'r3', 'r3', 'r3', 'r3', 'r3', 'r3', 'r3', 'r3', 'r3', 'r3', 'r3', 'r3', 'f49', '-r2', '-r3', 'f50', '-r0', '-r0', 'r1', 'r1', 'r1', 'r1', 'r1', 'r1', 'r1', 'r1', 'r1', 'r1', 'r1', 'r1', 'r1', 'r1', 'r1', 'r1', 'r1', 'r1', 'r1', 'r1', 'r1', 'r1', 'r1', 'r1', 'r1', '-r2', '-r2', 'f18', '-r2', '-r3', 'f19', 'r2', 'r2', 'f51', '-r2', '-r3', 'f52', 'r3', 'r3', 'f18', '-r2', '-r3', 'f19', 'r2', 'r2', 'f51', '-r2', '-r3', 'f52', 'r3', 'r3', 'f18', '-r2', '-r3', 'f19', 'r2', 'r2', 'f51', '-r2', '-r3', 'f52', 'r3', 'r3', 'f18', '-r2', '-r3', 'f19', 'r2', 'r2', 'f51', '-r2', '-r3', 'f52', 'r3', 'r3', 'f18', '-r2', '-r3', 'f19', 'r2', 'r2', 'f51', '-r2', '-r3', 'f52', 'r3', 'r3', 'f18', '-r2', '-r3', 'f19', 'r2', 'r2', 'f51', '-r2', '-r3', 'f52', 'r3', 'r3', 'f18', '-r2', '-r3', 'f19', 'r2', 'r2', 'f51', '-r2', '-r3', 'f52', 'r3', 'r3', 'f18', '-r2', '-r3', 'f19', 'r2', 'r2', 'f51', '-r2', '-r3', 'f52', 'r3', 'r3', 'f18', '-r2', '-r3', 'f19', 'r2', 'r2', 'f51', '-r2', '-r3', 'f52', 'r3', 'r3', 'f18', '-r2', '-r3', 'f19', 'r2', 'r2', 'f51', '-r2', '-r3', 'f52', 'r3', 'r3', 'f18', '-r2', '-r3', 'f19', 'r2', 'r2', 'f51', '-r2', '-r3', 'f52', 'r3', 'r3', 'f18', '-r2', '-r3', 'f19', '-r0', '-r0', '-r1', '-r1', 'r3', 'r3', 'r3', 'r3', 'r3', 'r3', 'r3', 'r3', 'r3', 'r3', 'r3', 'f53', '-r2', '-r3', 'f54', 'r3', 'r3', 'f20', '-r2', '-r3', 'f21', 'r2', 'r2', 'f53', '-r2', '-r3', 'f54', 'r3', 'r3', 'f20', '-r2', '-r3', 'f21', 'r2', 'r2', 'f53', '-r2', '-r3', 'f54', 'r3', 'r3', 'f20', '-r2', '-r3', 'f21', 'r2', 'r2', 'f53', '-r2', '-r3', 'f54', 'r3', 'r3', 'f20', '-r2', '-r3', 'f21', 'r2', 'r2', 'f53', '-r2', '-r3', 'f54', 'r3', 'r3', 'f20', '-r2', '-r3', 'f21', 'r2', 'r2', 'f53', '-r2', '-r3', 'f54', 'r3', 'r3', 'f20', '-r2', '-r3', 'f21', 'r2', 'r2', 'f53', '-r2', '-r3', 'f54', 'r3', 'r3', 'f20', '-r2', '-r3', 'f21', 'r2', 'r2', 'f53', '-r2', '-r3', 'f54', 'r3', 'r3', 'f20', '-r2', '-r3', 'f21', 'r2', 'r2', 'f53', '-r2', '-r3', 'f54', 'r3', 'r3', 'f20', '-r2', '-r3', 'f21', 'r2', 'r2', 'f53', '-r2', '-r3', 'f54', 'r3', 'r3', 'f20', '-r2', '-r3', 'f21', 'r2', 'r2', 'f53', '-r2', '-r3', 'f54', 'r3', 'r3', 'f20', '-r2', '-r3', 'f21', 'r2', 'r2', 'f53', '-r2', '-r3', 'f54', 'r3', 'r3', 'f20', '-r2', '-r3', 'f21', 'r2', 'r2', 'f53', '-r2', '-r3', 'f54', 'r3', 'r3', 'f20', '-r2', '-r3', 'f21', 'r2', 'r2', 'f53', '-r2', '-r3', 'f54', 'r3', 'r3', 'f20', '-r2', '-r3', 'f21', 'r2', 'r2', 'f53', '-r2', '-r3', 'f54', 'r3', 'r3', 'f20', '-r2', '-r3', 'f21', 'r2', 'r2', 'f53', '-r2', '-r3', 'f54', 'r3', 'r3', 'f20', '-r2', '-r3', 'f21', '-r0', '-r0', '-r0', '-r0', '-r0', '-r0', '-r0', '-r0', '-r0', '-r0', '-r0', '-r0', '-r0', '-r0', '-r0', '-r0', '-r0', '-r0', '-r0', '-r0', '-r0', '-r0', '-r0', '-r0', 'r2', 'r2', 'f53', '-r2', '-r3', 'f54', 'r3', 'r3', 'f20', '-r2', '-r3', 'f21', 'r2', 'r2', 'f53', '-r2', '-r3', 'f54', 'r3', 'r3', 'f20', '-r2', '-r3', 'f21', 'r2', 'r2', 'f53', '-r2', '-r3', 'f54', 'r3', 'r3', 'f20', '-r2', '-r3', 'f21', 'r2', 'r2', 'f53', '-r2', '-r3', 'f54', 'r3', 'r3', 'f20', '-r2', '-r3', 'f21', 'r2', 'r2', 'f53', '-r2', '-r3', 'f54', 'r3', 'r3', 'f20', '-r2', '-r3', 'f21', 'r2', 'r2', 'f53', '-r2', '-r3', 'f54', '-r0', '-r0', 'r1', 'r1', 'r1', 'r1', 'r1', 'r1', 'r1', 'r1', 'r1', 'r1', 'r1', 'r1', 'r1', 'r1', 'r1', 'r1', 'r1', 'r1', 'r1', 'r1', 'r1', 'r1', 'r1', 'r1', 'r1', 'r1', 'r1', 'r1', 'r1', 'r1', 'r1', 'r1', '-r2', '-r2', 'f22', '-r2', '-r3', 'f23', 'r2', 'r2', 'f55', '-r2', '-r3', 'f56', 'r3', 'r3', 'f22', '-r2', '-r3', 'f23', 'r2', 'r2', 'f55', '-r2', '-r3', 'f56', 'r3', 'r3', 'f22', '-r2', '-r3', 'f23', 'r2', 'r2', 'f55', '-r2', '-r3', 'f56', 'r3', 'r3', 'f22', '-r2', '-r3', 'f23', 'r2', 'r2', 'f55', '-r2', '-r3', 'f56', 'r3', 'r3', 'f22', '-r2', '-r3', 'f23', 'r2', 'r2', 'f55', '-r2', '-r3', 'f56', 'r3', 'r3', 'f22', '-r2', '-r3', 'f23', 'r2', 'r2', 'f55', '-r2', '-r3', 'f56', 'r3', 'r3', 'f22', '-r2', '-r3', 'f23', 'r2', 'r2', 'f55', '-r2', '-r3', 'f56', 'r3', 'r3', 'f22', '-r2', '-r3', 'f23', 'r2', 'r2', 'f55', '-r2', '-r3', 'f56', 'r3', 'r3', 'f22', '-r2', '-r3', 'f23', 'r2', 'r2', 'r3', 'r3', 'r3', 'r3', 'r3', 'r3', 'r3', 'r3', 'r3', 'r3', 'r3', 'r3', 'r3', 'r3', 'r3', 'r3', 'r3', 'r3', 'r3', 'r3', 'r3', 'r3', 'r3', 'r3', 'r3', 'r3', 'r3', 'r3', 'r3', 'r3', 'r3', 'f55', '-r2', '-r3', 'f56', 'r3', 'r3', 'f22', '-r2', '-r3', 'f23', 'r2', 'r2', 'f55', '-r2', '-r3', 'f56', '-r2', '-r2', '-r2', '-r2', '-r2', '-r2', '-r2', '-r2', '-r2', '-r2', '-r2', '-r2', '-r2', '-r2', '-r2', '-r2', '-r2', '-r2', 'r3', 'r3', 'f22', '-r2', '-r3', 'f23', 'r2', 'r2', 'f55', '-r2', '-r3', 'f56', 'r3', 'r3', 'f22', '-r2', '-r3', 'f23', 'r2', 'r2', 'f55', '-r2', '-r3', 'f56', 'r3', 'r3', 'f22', '-r2', '-r3', 'f23', 'r2', 'r2', 'f55', '-r2', '-r3', 'f56', 'r3', 'r3', 'f22', '-r2', '-r3', 'f23', 'r2', 'r2', 'f55', '-r2', '-r3', 'f56', '-r0', '-r0', '-r1', '-r1', 'r2', 'r2', 'r2', 'f24', '-r2', '-r3', 'f25', 'r2', 'r2', 'f57', '-r2', '-r3', 'f58', 'r3', 'r3', 'f24', '-r2', '-r3', 'f25', 'r2', 'r2', 'f57', '-r2', '-r3', 'f58', 'r3', 'r3', 'f24', '-r2', '-r3', 'f25', 'r2', 'r2', 'r3', 'r3', 'r3', 'r3', 'r3', 'r3', 'r3', 'r3', 'r3', 'f57', '-r2', '-r3', 'f58', 'r3', 'r3', 'f24', '-r2', '-r3', 'f25', 'r2', 'r2', 'f57', '-r2', '-r3', 'f58', 'r3', 'r3', 'f24', '-r2', '-r3', 'f25', 'r2', 'r2', 'f57', '-r2', '-r3', 'f58', 'r3', 'r3', 'f24', '-r2', '-r3', 'f25', 'r2', 'r2', 'f57', '-r2', '-r3', 'f58', '-r0', '-r0', 'r1', 'r1', 'r1', 'r1', 'r1', 'r1', 'r1', 'r1', 'r1', 'r1', 'r1', 'r1', 'r1', 'r1', 'r1', 'r1', 'r1', 'r1', 'r1', '-r2', '-r2', 'f26', '-r2', '-r3', 'f27', 'r2', 'r2', 'f59', '-r2', '-r3', 'f60', 'r3', 'r3', 'f26', '-r2', '-r3', 'f27', 'r2', 'r2', 'f59', '-r2', '-r3', 'f60', 'r3', 'r3', 'f26', '-r2', '-r3', 'f27', 'r0', 'r0', 'r0', 'r0', 'r0', 'r0', 'r0', 'r0', 'r0', 'r0', 'r0', 'r0', 'r0', 'r0', 'r0', 'r0', 'r0', 'r0', 'r0', 'r0', 'r0', 'r0', 'r0', 'r0', 'r0', 'r0', 'r0', 'r0', 'r0', 'r2', 'r2', 'f59', '-r2', '-r3', 'f60', 'r3', 'r3', 'f26', '-r2', '-r3', 'f27', 'r2', 'r2', 'f59', '-r2', '-r3', 'f60', 'r3', 'r3', 'f26', '-r2', '-r3', 'f27', 'r2', 'r2', 'f59', '-r2', '-r3', 'f60', 'r3', 'r3', 'f26', '-r2', '-r3', 'f27', 'r2', 'r2', 'f59', '-r2', '-r3', 'f60', 'r3', 'r3', 'f26', '-r2', '-r3', 'f27', 'r2', 'r2', 'f59', '-r2', '-r3', 'f60', 'r3', 'r3', 'f26', '-r2', '-r3', 'f27', 'r2', 'r2', 'f59', '-r2', '-r3', 'f60', 'r3', 'r3', 'f26', '-r2', '-r3', 'f27', 'r2', 'r2', 'f59', '-r2', '-r3', 'f60', 'r3', 'r3', 'f26', '-r2', '-r3', 'f27', 'r2', 'r2', 'f59', '-r2', '-r3', 'f60', 'r3', 'r3', 'f26', '-r2', '-r3', 'f27', 'r2', 'r2', 'f59', '-r2', '-r3', 'f60', 'r3', 'r3', 'f26', '-r2', '-r3', 'f27', 'r2', 'r2', 'f59', '-r2', '-r3', 'f60', 'r3', 'r3', 'f26', '-r2', '-r3', 'f27', 'r2', 'r2', 'f59', '-r2', '-r3', 'f60', 'r3', 'r3', 'f26', '-r2', '-r3', 'f27', 'r2', 'r2', 'f59', '-r2', '-r3', 'f60', 'r3', 'r3', 'f26', '-r2', '-r3', 'f27', 'r2', 'r2', 'f59', '-r2', '-r3', 'f60', 'r3', 'r3', 'f26', '-r2', '-r3', 'f27', 'r2', 'r2', 'f59', '-r2', '-r3', 'f60', 'r3', 'r3', 'f26', '-r2', '-r3', 'f27', 'r2', 'r2', 'f59', '-r2', '-r3', 'f60', 'r3', 'r3', 'f26', '-r2', '-r3', 'f27', 'r2', 'r2', 'f59', '-r2', '-r3', 'f60', 'r3', 'r3', 'f26', '-r2', '-r3', 'f27', 'r2', 'r2', 'f59', '-r2', '-r3', 'f60', 'r3', 'r3', 'f26', '-r2', '-r3', 'f27', 'r2', 'r2', 'f59', '-r2', '-r3', 'f60', 'r3', 'r3', 'f26', '-r2', '-r3', 'f27', 'r2', 'r2', 'f59', '-r2', '-r3', 'f60', 'r3', 'r3', 'f26', '-r2', '-r3', 'f27', 'r2', 'r2', 'f59', '-r2', '-r3', 'f60', 'r3', 'r3', 'f26', '-r2', '-r3', 'f27', 'r2', 'r2', 'r3', 'r3', 'r3', 'r3', 'r3', 'r3', 'r3', 'r3', 'r3', 'r3', 'r3', 'r3', 'r3', 'r3', 'r3', 'r3', 'r3', 'r3', 'r3', 'r3', 'r3', 'r3', 'r3', 'r3', 'r3', 'r3', 'r3', 'f59', '-r2', '-r3', 'f60', 'r3', 'r3', 'f26', '-r2', '-r3', 'f27', 'r2', 'r2', 'f59', '-r2', '-r3', 'f60', 'r3', 'r3', 'f26', '-r2', '-r3', 'f27', 'r2', 'r2', 'f59', '-r2', '-r3', 'f60', 'r3', 'r3', 'f26', '-r2', '-r3', 'f27', 'r2', 'r2', 'f59', '-r2', '-r3', 'f60', 'r3', 'r3', 'f26', '-r2', '-r3', 'f27', 'r2', 'r2', 'f59', '-r2', '-r3', 'f60', 'r3', 'r3', 'f26', '-r2', '-r3', 'f27', 'r2', 'r2', 'f59', '-r2', '-r3', 'f60', 'r3', 'r3', 'f26', '-r2', '-r3', 'f27', 'r2', 'r2', 'f59', '-r2', '-r3', 'f60', 'r3', 'r3', 'f26', '-r2', '-r3', 'f27', 'r2', 'r2', 'f59', '-r2', '-r3', 'f60', 'r3', 'r3', 'f26', '-r2', '-r3', 'f27', 'r2', 'r2', 'f59', '-r2', '-r3', 'f60', 'r3', 'r3', 'f26', '-r2', '-r3', 'f27', 'r2', 'r2', 'f59', '-r2', '-r3', 'f60', 'r3', 'r3', 'f26', '-r2', '-r3', 'f27', 'r2', 'r2', 'f59', '-r2', '-r3', 'f60', '-r2', '-r2', '-r2', '-r2', '-r2', '-r2', '-r2', '-r2', '-r2', '-r2', '-r2', '-r2', '-r2', '-r2', '-r2', '-r2', '-r2', '-r2', '-r2', '-r2', '-r2', '-r2', '-r2', '-r2', '-r2', '-r2', 'r3', 'r3', 'f26', '-r2', '-r3', 'f27', 'r2', 'r2', 'f59', '-r2', '-r3', 'f60', 'r3', 'r3', 'f26', '-r2', '-r3', 'f27', 'r2', 'r2', 'f59', '-r2', '-r3', 'f60', 'r3', 'r3', 'f26', '-r2', '-r3', 'f27', 'r2', 'r2', 'f59', '-r2', '-r3', 'f60', 'r3', 'r3', 'f26', '-r2', '-r3', 'f27', 'r2', 'r2', 'f59', '-r2', '-r3', 'f60', 'r3', 'r3', 'f26', '-r2', '-r3', 'f27', 'r2', 'r2', 'f59', '-r2', '-r3', 'f60', 'r3', 'r3', 'f26', '-r2', '-r3', 'f27', 'r2', 'r2', 'f59', '-r2', '-r3', 'f60', 'r3', 'r3', 'f26', '-r2', '-r3', 'f27', 'r2', 'r2', 'f59', '-r2', '-r3', 'f60', 'r3', 'r3', 'f26', '-r2', '-r3', 'f27', 'r2', 'r2', 'f59', '-r2', '-r3', 'f60', 'r3', 'r3', 'f26', '-r2', '-r3', 'f27', 'r2', 'r2', 'f59', '-r2', '-r3', 'f60', 'r3', 'r3', 'f26', '-r2', '-r3', 'f27', 'r2', 'r2', 'f59', '-r2', '-r3', 'f60', 'r3', 'r3', 'f26', '-r2', '-r3', 'f27', 'r2', 'r2', 'f59', '-r2', '-r3', 'f60', 'r3', 'r3', 'f26', '-r2', '-r3', 'f27', 'r2', 'r2', 'f59', '-r2', '-r3', 'f60', '-r1', '-r1', '-r1', '-r1', '-r1', '-r1', '-r1', '-r1', '-r1', '-r1', '-r1', '-r1', '-r1', '-r1', '-r1', '-r1', '-r1', '-r1', '-r1', '-r1', 'r3', 'r3', 'f26', '-r2', '-r3', 'f27', 'r2', 'r2', 'f59', '-r2', '-r3', 'f60', 'r3', 'r3', 'f26', '-r2', '-r3', 'f27', 'r2', 'r2', 'f59', '-r2', '-r3', 'f60', 'r3', 'r3', 'f26', '-r2', '-r3', 'f27', 'r2', 'r2', 'f59', '-r2', '-r3', 'f60', 'r3', 'r3', 'f26', '-r2', '-r3', 'f27', 'r2', 'r2', 'f59', '-r2', '-r3', 'f60', 'r3', 'r3', 'f26', '-r2', '-r3', 'f27', '-r0', '-r0', '-r0', '-r0', '-r0', '-r0', '-r0', '-r0', '-r0', '-r0', '-r0', '-r0', '-r0', '-r0', '-r0', '-r0', '-r0', '-r0', 'r2', 'r2', 'f59', '-r2', '-r3', 'f60', 'r3', 'r3', 'f26', '-r2', '-r3', 'f27', 'r2', 'r2', 'f59', '-r2', '-r3', 'f60', 'r3', 'r3', 'f26', '-r2', '-r3', 'f27', 'r2', 'r2', 'f59', '-r2', '-r3', 'f60', 'r3', 'r3', 'f26', '-r2', '-r3', 'f27', 'r2', 'r2', 'f59', '-r2', '-r3', 'f60', 'r3', 'r3', 'f26', '-r2', '-r3', 'f27', 'r2', 'r2', 'f59', '-r2', '-r3', 'f60', 'r3', 'r3', 'f26', '-r2', '-r3', 'f27', 'r2', 'r2', 'f59', '-r2', '-r3', 'f60', 'r3', 'r3', 'f26', '-r2', '-r3', 'f27', 'r0', 'r0', 'r0', 'r0', 'r0', 'r0', 'r0', 'r2', 'r2', 'f59', '-r2', '-r3', 'f60', '-r0', '-r0', 'r1', 'r1', 'r1', 'r1', 'r1', 'r1', 'r1', 'r1', 'r1', 'r1', '-r2', '-r2', 'f28', '-r2', '-r3', 'f29', 'r2', 'r2', 'f61', '-r2', '-r3', 'f62', 'r3', 'r3', 'f28', '-r2', '-r3', 'f29', 'r2', 'r2', '-r3', '-r3', '-r3', '-r3', '-r3', '-r3', '-r3', '-r3', '-r3', '-r3', '-r3', '-r3', '-r3', '-r3', '-r3', '-r3', '-r3', '-r3', '-r3', '-r3', '-r3', '-r3', '-r3', '-r3', '-r3', '-r3', '-r3', '-r3', '-r3', 'f61', '-r2', '-r3', 'f62', 'r3', 'r3', 'f28', '-r2', '-r3', 'f29', 'r2', 'r2', 'f61', '-r2', '-r3', 'f62', 'r3', 'r3', 'f28', '-r2', '-r3', 'f29', 'r2', 'r2', 'f61', '-r2', '-r3', 'f62', 'r3', 'r3', 'f28', '-r2', '-r3', 'f29', 'r2', 'r2', 'f61', '-r2', '-r3', 'f62', 'r3', 'r3', 'f28', '-r2', '-r3', 'f29', 'r2', 'r2', 'f61', '-r2', '-r3', 'f62', 'r3', 'r3', 'f28', '-r2', '-r3', 'f29', 'r2', 'r2', 'f61', '-r2', '-r3', 'f62', 'r3', 'r3', 'f28', '-r2', '-r3', 'f29', 'r2', 'r2', 'f61', '-r2', '-r3', 'f62', 'r3', 'r3', 'f28', '-r2', '-r3', 'f29', 'r2', 'r2', 'f61', '-r2', '-r3', 'f62', 'r3', 'r3', 'f28', '-r2', '-r3', 'f29', 'r2', 'r2', 'f61', '-r2', '-r3', 'f62', '-r0', '-r0', '-r1', '-r1', 'r2', 'r2', 'r2', 'r2', 'r2', 'r2', 'r2', 'r2', 'r2', 'r2', 'r2', 'r2', 'r2', 'r2', 'r2', 'r2', 'r2', 'r2', 'r2', 'r2', 'r2', 'r2', 'r2', 'r2', 'r2', 'r2', 'r2', 'r2', 'r2', 'r2', 'r2', 'r2', 'f30', '-r2', '-r3', 'f31', 'r2', 'r2', 'f63', '-r2', '-r3', 'f64', 'r3', 'r3', 'f30', '-r2', '-r3', 'f31', 'r2', 'r2', 'f63', '-r2', '-r3', 'f64', 'r3', 'r3', 'f30', '-r2', '-r3', 'f31', 'r2', 'r2', 'f63', '-r2', '-r3', 'f64', 'r3', 'r3', 'f30', '-r2', '-r3', 'f31', 'r2', 'r2', 'f63', '-r2', '-r3', 'f64', 'r3', 'r3', 'f30', '-r2', '-r3', 'f31', 'r2', 'r2', 'f63', '-r2', '-r3', 'f64', 'r3', 'r3', 'f30', '-r2', '-r3', 'f31', 'r2', 'r2', 'f63', '-r2', '-r3', 'f64', 'r3', 'r3', 'f30', '-r2', '-r3', 'f31', 'r2', 'r2', 'f63', '-r2', '-r3', 'f64', 'r3', 'r3', 'f30', '-r2', '-r3', 'f31', 'r2', 'r2', 'f63', '-r2', '-r3', 'f64', 'r3', 'r3', 'f30', '-r2', '-r3', 'f31', 'r2', 'r2', 'f63', '-r2', '-r3', 'f64', 'r3', 'r3', 'f30', '-r2', '-r3', 'f31', 'r2', 'r2', 'f63', '-r2', '-r3', 'f64', 'r3', 'r3', 'f30', '-r2', '-r3', 'f31', 'r2', 'r2', 'f63', '-r2', '-r3', 'f64', 'r3', 'r3', 'f30', '-r2', '-r3', 'f31', 'r2', 'r2', 'f63', '-r2', '-r3', 'f64', 'r3', 'r3', 'f30', '-r2', '-r3', 'f31', 'r2', 'r2', 'f63', '-r2', '-r3', 'f64', 'r3', 'r3', 'f30', '-r2', '-r3', 'f31', 'r2', 'r2', 'f63', '-r2', '-r3', 'f64', 'r3', 'r3', 'f30', '-r2', '-r3', 'f31', 'r2', 'r2', 'f63', '-r2', '-r3', 'f64', 'r3', 'r3', 'f30', '-r2', '-r3', 'f31', 'r2', 'r2', 'f63', '-r2', '-r3', 'f64', 'r3', 'r3', 'f30', '-r2', '-r3', 'f31', 'r2', 'r2', 'f63', '-r2', '-r3', 'f64', 'r3', 'r3', 'f30', '-r2', '-r3', 'f31', 'r2', 'r2', 'f63', '-r2', '-r3', 'f64', 'r3', 'r3', 'f30', '-r2', '-r3', 'f31', 'r2', 'r2', 'f63', '-r2', '-r3', 'f64', 'r3', 'r3', 'f30', '-r2', '-r3', 'f31', 'r2', 'r2', 'f63', '-r2', '-r3', 'f64', 'r3', 'r3', 'f30', '-r2', '-r3', 'f31', 'r2', 'r2', 'f63', '-r2', '-r3', 'f64', 'r3', 'r3', 'f30', '-r2', '-r3', 'f31', 'r2', 'r2', 'f63', '-r2', '-r3', 'f64', 'r3', 'r3', 'f30', '-r2', '-r3', 'f31', 'r2', 'r2', 'f63', '-r2', '-r3', 'f64', 'r3', 'r3', 'f30', '-r2', '-r3', 'f31', 'r2', 'r2', 'f63', '-r2', '-r3', 'f64', 'r3', 'r3', 'f30', '-r2', '-r3', 'f31', '-r0', '-r0', '-r0', '-r0', '-r0', '-r0', '-r0', '-r0', '-r0', '-r0', '-r0', '-r0', '-r0', '-r0', '-r0', '-r0', '-r0', '-r0', '-r0', '-r0', '-r0', '-r0', '-r0', '-r0', '-r0', '-r0', '-r0', '-r0', '-r0', '-r0', 'r2', 'r2', 'f63', '-r2', '-r3', 'f64', 'r3', 'r3', 'f30', '-r2', '-r3', 'f31', '-r1', '-r1', '-r3', '-r3', 'f65', 'r0', 'r1', 'f65', 'r3', 'r3', 'f31', '-r2', '-r3', 'f32', 'r2', 'r2', 'f64', '-r2', '-r3', 'f65', 'r3', 'r3', 'f31', '-r2', '-r3', 'f32', 'r2', 'r2', 'f64', '-r2', '-r3', 'f65', 'r3', 'r3', 'f31', '-r2', '-r3', 'f32', 'r2', 'r2', 'f64', '-r2', '-r3', 'f65', '-r1', '-r1', '-r1', '-r1', '-r1', '-r1', '-r1', '-r1', '-r1', '-r1', '-r1', '-r1', '-r1', '-r1', '-r1', '-r1', '-r1', '-r1', '-r1', '-r1', '-r1', '-r1', '-r1', '-r1', '-r1', '-r1', 'r3', 'r3', 'f31', '-r2', '-r3', 'f32', 'r2', 'r2', '-r3', '-r3', '-r3', '-r3', '-r3', '-r3', '-r3', '-r3', '-r3', '-r3', '-r3', '-r3', '-r3', '-r3', '-r3', '-r3', '-r3', '-r3', '-r3', '-r3', '-r3', '-r3', '-r3', '-r3', '-r3', '-r3', '-r3', 'f64', '-r2', '-r3', 'f65', 'r3', 'r3', 'f31', '-r2', '-r3', 'f32', 'r2', 'r2', 'f64', '-r2', '-r3', 'f65', 'r3', 'r3', 'f31', '-r2', '-r3', 'f32', 'r2', 'r2', 'f64', '-r2', '-r3', 'f65', 'r3', 'r3', 'f31', '-r2', '-r3', 'f32', 'r2', 'r2', 'f64', '-r2', '-r3', 'f65', 'r3', 'r3', 'f31', '-r2', '-r3', 'f32', 'r2', 'r2', 'f64', '-r2', '-r3', 'f65', 'r3', 'r3', 'f31', '-r2', '-r3', 'f32', 'r2', 'r2', 'r3', 'r3', 'r3', 'r3', 'r3', 'r3', 'f64', '-r2', '-r3', 'f65', 'r3', 'r3', 'f31', '-r2', '-r3', 'f32', 'r2', 'r2', 'f64', '-r2', '-r3', 'f65', 'r3', 'r3', 'f31', '-r2', '-r3', 'f32', 'r2', 'r2', 'f64', '-r2', '-r3', 'f65', 'r3', 'r3', 'f31', '-r2', '-r3', 'f32', 'r2', 'r2', 'f64', '-r2', '-r3', 'f65', 'r3', 'r3', 'f31', '-r2', '-r3', 'f32', 'r2', 'r2', 'f64', '-r2', '-r3', 'f65', 'r3', 'r3', 'f31', '-r2', '-r3', 'f32', 'r2', 'r2', 'f64', '-r2', '-r3', 'f65', 'r3', 'r3', 'f31', '-r2', '-r3', 'f32', 'r2', 'r2', 'f64', '-r2', '-r3', 'f65', '-r0', '-r0', 'r1', 'r1', 'r1', 'r1', 'r1', 'r1', 'r1', 'r1', 'r1', 'r1', 'r1', '-r2', '-r2', 'f33', '-r2', '-r3', 'f34', 'r2', 'r2', 'f0', '-r2', '-r3', 'f1', '-r2', '-r2', '-r2', '-r2', '-r2', '-r2', '-r2', '-r2', '-r2', '-r2', '-r2', '-r2', '-r2', '-r2', '-r2', '-r2', '-r2', '-r2', '-r2', '-r2', '-r2', '-r2', '-r2', 'r3', 'r3', 'f33', '-r2', '-r3', 'f34', 'r2', 'r2', 'f0', '-r2', '-r3', 'f1', 'r3', 'r3', 'f33', '-r2', '-r3', 'f34', 'r2', 'r2', 'f0', '-r2', '-r3', 'f1', 'r3', 'r3', 'f33', '-r2', '-r3', 'f34', 'r2', 'r2', 'f0', '-r2', '-r3', 'f1', 'r3', 'r3', 'f33', '-r2', '-r3', 'f34', 'r2', 'r2', 'f0', '-r2', '-r3', 'f1', 'r3', 'r3', 'f33', '-r2', '-r3', 'f34', 'r2', 'r2', 'f0', '-r2', '-r3', 'f1', 'r3', 'r3', 'f33', '-r2', '-r3', 'f34', 'r2', 'r2', 'f0', '-r2', '-r3', 'f1', 'r3', 'r3', 'f33', '-r2', '-r3', 'f34', 'r2', 'r2', 'f0', '-r2', '-r3', 'f1', 'r3', 'r3', 'f33', '-r2', '-r3', 'f34', 'r2', 'r2', 'f0', '-r2', '-r3', 'f1', 'r3', 'r3', 'f33', '-r2', '-r3', 'f34', 'r2', 'r2', 'f0', '-r2', '-r3', 'f1', 'r3', 'r3', 'f33', '-r2', '-r3', 'f34', '-r0', '-r0', '-r1', '-r1', 'r3', 'r3', 'r3', 'r3', 'r3', 'r3', 'r3', 'r3', 'r3', 'r3', 'r3', 'r3', 'r3', 'r3', 'r3', 'r3', 'f2', '-r2', '-r3', 'f3', 'r3', 'r3', 'f35', '-r2', '-r3', 'f36', 'r2', 'r2', 'f2', '-r2', '-r3', 'f3', 'r3', 'r3', 'f35', '-r2', '-r3', 'f36', 'r2', 'r2', 'f2', '-r2', '-r3', 'f3', 'r3', 'r3', 'f35', '-r2', '-r3', 'f36', '-r0', '-r0', '-r1', '-r1', 'r3', 'r3', 'f4', '-r2', '-r3', 'f5', 'r3', 'r3', 'f37', '-r2', '-r3', 'f38', 'r2', 'r2', 'f4', '-r2', '-r3', 'f5', 'r3', 'r3', 'f37', '-r2', '-r3', 'f38', 'r2', 'r2', 'f4', '-r2', '-r3', 'f5', 'r3', 'r3', 'f37', '-r2', '-r3', 'f38', 'r2', 'r2', 'f4', '-r2', '-r3', 'f5', 'r3', 'r3', 'f37', '-r2', '-r3', 'f38', 'r2', 'r2', 'f4', '-r2', '-r3', 'f5', 'r3', 'r3', 'f37', '-r2', '-r3', 'f38', 'r2', 'r2', 'f4', '-r2', '-r3', 'f5', 'r3', 'r3', 'f37', '-r2', '-r3', 'f38', 'r2', 'r2', 'f4', '-r2', '-r3', 'f5', 'r3', 'r3', 'f37', '-r2', '-r3', 'f38', 'r2', 'r2', 'f4', '-r2', '-r3', 'f5', 'r3', 'r3', 'f37', '-r2', '-r3', 'f38', 'r2', 'r2', 'f4', '-r2', '-r3', 'f5', 'r3', 'r3', 'f37', '-r2', '-r3', 'f38', 'r2', 'r2', 'f4', '-r2', '-r3', 'f5', 'r3', 'r3', 'f37', '-r2', '-r3', 'f38', 'r2', 'r2', 'f4', '-r2', '-r3', 'f5', 'r3', 'r3', 'f37', '-r2', '-r3', 'f38', 'r2', 'r2', 'f4', '-r2', '-r3', 'f5', '-r0', '-r0', 'r1', 'r1', 'r1', 'r1', 'r1', 'r1', 'r1', 'r1', 'r1', 'r1', 'r1', 'r1', 'r1', 'r1', 'r1', 'r1', 'r1', 'r1', 'r1', 'r1', 'r1', 'r1', 'r1', 'r1', '-r2', '-r2', 'f39', '-r2', '-r3', 'f40', 'r2', 'r2', 'f6', '-r2', '-r3', 'f7', '-r0', '-r0', '-r1', '-r1', 'r2', 'r2', 'r2', 'r2', 'r2', 'r2', 'r2', 'r2', 'r2', 'r2', 'r2', 'r2', 'r2', 'r2', 'r2', 'r2', 'r2', 'r2', 'r2', 'r2', 'r2', 'r2', 'r2', 'r2', 'f41', '-r2', '-r3', 'f42', 'r2', 'r2', 'f8', '-r2', '-r3', 'f9', 'r3', 'r3', 'f41', '-r2', '-r3', 'f42', 'r2', 'r2', 'f8', '-r2', '-r3', 'f9', 'r3', 'r3', 'f41', '-r2', '-r3', 'f42', 'r2', 'r2', 'f8', '-r2', '-r3', 'f9', 'r3', 'r3', 'f41', '-r2', '-r3', 'f42', '-r0', '-r0', '-r1', '-r1', 'r3', 'r3', 'r3', 'r3', 'r3', 'r3', 'r3', 'r3', 'r3', 'r3', 'r3', 'r3', 'r3', 'r3', 'r3', 'f10', '-r2', '-r3', 'f11', 'r3', 'r3', 'f43', '-r2', '-r3', 'f44', '-r0', '-r0', '-r0', '-r0', '-r0', '-r0', '-r0', '-r0', '-r0', '-r0', '-r0', '-r0', '-r0', '-r0', '-r0', '-r0', '-r0', '-r0', '-r0', '-r0', '-r0', '-r1', '-r1', '-r3', '-r3', 'f12', '-r2', '-r3', 'f13', 'r3', 'r3', 'f45', '-r2', '-r3', 'f46', 'r2', 'r2', 'f12', '-r2', '-r3', 'f13', 'r3', 'r3', 'f45', '-r2', '-r3', 'f46', 'r2', 'r2', 'f12', '-r2', '-r3', 'f13', 'r3', 'r3', 'f45', '-r2', '-r3', 'f46', 'r2', 'r2', 'f12', '-r2', '-r3', 'f13', 'r3', 'r3', 'f45', '-r2', '-r3', 'f46', 'r2', 'r2', 'f12', '-r2', '-r3', 'f13', 'r3', 'r3', 'f45', '-r2', '-r3', 'f46', 'r2', 'r2', 'f12', '-r2', '-r3', 'f13', 'r3', 'r3', 'f45', '-r2', '-r3', 'f46', 'r2', 'r2', 'f12', '-r2', '-r3', 'f13', 'r3', 'r3', 'f45', '-r2', '-r3', 'f46', 'r2', 'r2', 'f12', '-r2', '-r3', 'f13', 'r3', 'r3', 'f45', '-r2', '-r3', 'f46', 'r2', 'r2', 'f12', '-r2', '-r3', 'f13', 'r3', 'r3', 'f45', '-r2', '-r3', 'f46', 'r2', 'r2', 'f12', '-r2', '-r3', 'f13', '-r0', '-r0', 'r1', 'r1', 'r1', 'r1', 'r1', 'r1', 'r1', 'r1', 'r1', 'r1', 'r1', 'r1', 'r1', 'r1', '-r2', '-r2', 'f47', '-r2', '-r3', 'f48', 'r2', 'r2', 'f14', '-r2', '-r3', 'f15', 'r3', 'r3', 'f47', '-r2', '-r3', 'f48', 'r2', 'r2', 'f14', '-r2', '-r3', 'f15', 'r3', 'r3', 'f47', '-r2', '-r3', 'f48', 'r2', 'r2', 'f14', '-r2', '-r3', 'f15', 'r3', 'r3', 'f47', '-r2', '-r3', 'f48', 'r2', 'r2', 'f14', '-r2', '-r3', 'f15', 'r3', 'r3', 'f47', '-r2', '-r3', 'f48', 'r2', 'r2', 'f14', '-r2', '-r3', 'f15', 'r2', 'r2', 'r2', 'r2', 'r2', 'r2', 'r2', 'r2', 'r2', 'r2', 'r2', 'r2', 'r2', 'r2', 'r2', 'r2', 'r2', 'r2', 'r2', 'r2', 'r3', 'r3', 'f47', '-r2', '-r3', 'f48', 'r0', 'r0', 'r0', 'r0', 'r0', 'r0', 'r0', 'r0', 'r0', 'r0', 'r0', 'r0', 'r0', 'r0', '-r1', '-r1', '-r3', '-r3', 'f16', '-r2', '-r3', 'f17', 'r3', 'r3', 'f49', '-r2', '-r3', 'f50', 'r2', 'r2', 'f16', '-r2', '-r3', 'f17', 'r3', 'r3', 'f49', '-r2', '-r3', 'f50', 'r2', 'r2', 'f16', '-r2', '-r3', 'f17', 'r3', 'r3', 'f49', '-r2', '-r3', 'f50', 'r2', 'r2', 'f16', '-r2', '-r3', 'f17', 'r3', 'r3', 'f49', '-r2', '-r3', 'f50', 'r2', 'r2', 'f16', '-r2', '-r3', 'f17', 'r3', 'r3', 'f49', '-r2', '-r3', 'f50', 'r2', 'r2', 'f16', '-r2', '-r3', 'f17', 'r3', 'r3', 'f49', '-r2', '-r3', 'f50', 'r2', 'r2', 'f16', '-r2', '-r3', 'f17', 'r3', 'r3', 'f49', '-r2', '-r3', 'f50', 'r2', 'r2', 'f16', '-r2', '-r3', 'f17', 'r3', 'r3', 'f49', '-r2', '-r3', 'f50', 'r2', 'r2', 'f16', '-r2', '-r3', 'f17', 'r3', 'r3', 'f49', '-r2', '-r3', 'f50', 'r2', 'r2', 'f16', '-r2', '-r3', 'f17', 'r3', 'r3', 'f49', '-r2', '-r3', 'f50', 'r2', 'r2', 'f16', '-r2', '-r3', 'f17', 'r3', 'r3', 'f49', '-r2', '-r3', 'f50', 'r2', 'r2', 'f16', '-r2', '-r3', 'f17', 'r3', 'r3', 'f49', '-r2', '-r3', 'f50', 'r0', 'r0', 'r0', 'r0', 'r0', 'r0', 'r0', 'r0', 'r0', 'r0', 'r0', '-r1', '-r1', '-r3', '-r3', 'f18', '-r2', '-r3', 'f19', 'r3', 'r3', 'f51', '-r2', '-r3', 'f52', 'r2', 'r2', 'f18', '-r2', '-r3', 'f19', 'r3', 'r3', 'f51', '-r2', '-r3', 'f52', 'r2', 'r2', 'f18', '-r2', '-r3', 'f19', 'r3', 'r3', 'f51', '-r2', '-r3', 'f52', 'r2', 'r2', 'f18', '-r2', '-r3', 'f19', 'r3', 'r3', 'f51', '-r2', '-r3', 'f52', 'r2', 'r2', 'f18', '-r2', '-r3', 'f19', 'r3', 'r3', 'f51', '-r2', '-r3', 'f52', 'r2', 'r2', 'f18', '-r2', '-r3', 'f19', 'r2', 'r2', 'r2', 'r2', 'r2', 'r2', 'r2', 'r2', 'r2', 'r2', 'r2', 'r2', 'r2', 'r2', 'r2', 'r2', 'r2', 'r2', 'r2', 'r3', 'r3', 'f51', '-r2', '-r3', 'f52', 'r2', 'r2', 'f18', '-r2', '-r3', 'f19', 'r1', 'r1', 'r1', 'r1', 'r1', 'r1', 'r1', 'r1', 'r1', 'r1', 'r1', 'r1', 'r1', 'r1', 'r1', 'r1', 'r1', 'r1', 'r1', 'r1', 'r1', 'r1', 'r1', 'r1', 'r1', 'r3', 'r3', 'f51', '-r2', '-r3', 'f52', 'r2', 'r2', 'f18', '-r2', '-r3', 'f19', 'r3', 'r3', 'f51', '-r2', '-r3', 'f52', 'r2', 'r2', 'f18', '-r2', '-r3', 'f19', 'r3', 'r3', 'f51', '-r2', '-r3', 'f52', 'r2', 'r2', 'f18', '-r2', '-r3', 'f19', 'r3', 'r3', 'f51', '-r2', '-r3', 'f52', 'r2', 'r2', 'f18', '-r2', '-r3', 'f19', 'r3', 'r3', 'f51', '-r2', '-r3', 'f52', 'r2', 'r2', 'f18', '-r2', '-r3', 'f19', 'r3', 'r3', 'f51', '-r2', '-r3', 'f52', 'r2', 'r2', 'f18', '-r2', '-r3', 'f19', 'r3', 'r3', 'f51', '-r2', '-r3', 'f52', 'r2', 'r2', 'f18', '-r2', '-r3', 'f19', 'r3', 'r3', 'f51', '-r2', '-r3', 'f52', 'r2', 'r2', 'f18', '-r2', '-r3', 'f19', 'r3', 'r3', 'f51', '-r2', '-r3', 'f52', 'r2', 'r2', 'f18', '-r2', '-r3', 'f19', 'r3', 'r3', 'f51', '-r2', '-r3', 'f52', 'r2', 'r2', 'f18', '-r2', '-r3', 'f19', 'r3', 'r3', 'f51', '-r2', '-r3', 'f52', 'r2', 'r2', 'f18', '-r2', '-r3', 'f19', '-r0', '-r0', '-r1', '-r1', 'r2', 'r2', 'r2', 'r2', 'r2', 'r2', 'r2', 'r2', 'r2', 'r2', 'r2', 'f53', '-r2', '-r3', 'f54', 'r2', 'r2', 'f20', '-r2', '-r3', 'f21', 'r3', 'r3', 'f53', '-r2', '-r3', 'f54', 'r2', 'r2', 'f20', '-r2', '-r3', 'f21', 'r3', 'r3', 'f53', '-r2', '-r3', 'f54', 'r2', 'r2', 'f20', '-r2', '-r3', 'f21', 'r3', 'r3', 'f53', '-r2', '-r3', 'f54', 'r0', 'r0', 'r0', 'r0', 'r0', 'r0', 'r0', 'r0', 'r0', 'r0', 'r0', 'r0', 'r0', 'r0', 'r0', 'r0', 'r0', 'r0', 'r0', 'r0', '-r1', '-r1', '-r3', '-r3', 'f22', '-r2', '-r3', 'f23', 'r3', 'r3', 'f55', '-r2', '-r3', 'f56', 'r2', 'r2', 'f22', '-r2', '-r3', 'f23', 'r3', 'r3', 'f55', '-r2', '-r3', 'f56', 'r2', 'r2', 'f22', '-r2', '-r3', 'f23', 'r3', 'r3', 'f55', '-r2', '-r3', 'f56', 'r2', 'r2', 'f22', '-r2', '-r3', 'f23', 'r3', 'r3', 'f55', '-r2', '-r3', 'f56', 'r2', 'r2', 'f22', '-r2', '-r3', 'f23', 'r3', 'r3', 'f55', '-r2', '-r3', 'f56', 'r2', 'r2', 'f22', '-r2', '-r3', 'f23', 'r3', 'r3', 'f55', '-r2', '-r3', 'f56', 'r2', 'r2', '-r3', '-r3', '-r3', '-r3', '-r3', '-r3', '-r3', '-r3', '-r3', '-r3', 'f22', '-r2', '-r3', 'f23', 'r3', 'r3', 'f55', '-r2', '-r3', 'f56', 'r2', 'r2', 'f22', '-r2', '-r3', 'f23', 'r3', 'r3', 'f55', '-r2', '-r3', 'f56', 'r2', 'r2', 'f22', '-r2', '-r3', 'f23', 'r3', 'r3', 'f55', '-r2', '-r3', 'f56', 'r2', 'r2', 'f22', '-r2', '-r3', 'f23', 'r3', 'r3', 'f55', '-r2', '-r3', 'f56', 'r2', 'r2', 'f22', '-r2', '-r3', 'f23', 'r3', 'r3', 'f55', '-r2', '-r3', 'f56', 'r2', 'r2', 'f22', '-r2', '-r3', 'f23', 'r3', 'r3', 'f55', '-r2', '-r3', 'f56', 'r2', 'r2', 'f22', '-r2', '-r3', 'f23', 'r3', 'r3', 'f55', '-r2', '-r3', 'f56', 'r2', 'r2', 'f22', '-r2', '-r3', 'f23', 'r3', 'r3', 'f55', '-r2', '-r3', 'f56', 'r2', 'r2', 'f22', '-r2', '-r3', 'f23', 'r3', 'r3', 'f55', '-r2', '-r3', 'f56', 'r2', 'r2', 'f22', '-r2', '-r3', 'f23', 'r3', 'r3', 'f55', '-r2', '-r3', 'f56', 'r2', 'r2', 'f22', '-r2', '-r3', 'f23', 'r3', 'r3', 'f55', '-r2', '-r3', 'f56', 'r2', 'r2', 'f22', '-r2', '-r3', 'f23', 'r3', 'r3', 'f55', '-r2', '-r3', 'f56', 'r2', 'r2', 'f22', '-r2', '-r3', 'f23', 'r3', 'r3', 'f55', '-r2', '-r3', 'f56', 'r2', 'r2', 'f22', '-r2', '-r3', 'f23', 'r3', 'r3', 'f55', '-r2', '-r3', 'f56', 'r0', 'r0', 'r0', 'r0', 'r0', 'r0', 'r0', 'r0', 'r0', 'r0', 'r0', 'r0', 'r0', 'r0', 'r0', 'r0', 'r0', 'r0', 'r0', '-r1', '-r1', '-r3', '-r3', 'f24', '-r2', '-r3', 'f25', 'r3', 'r3', 'f57', '-r2', '-r3', 'f58', 'r2', 'r2', 'f24', '-r2', '-r3', 'f25', 'r3', 'r3', 'f57', '-r2', '-r3', 'f58', 'r2', 'r2', 'f24', '-r2', '-r3', 'f25', 'r3', 'r3', 'f57', '-r2', '-r3', 'f58', 'r2', 'r2', 'f24', '-r2', '-r3', 'f25', 'r3', 'r3', 'f57', '-r2', '-r3', 'f58', 'r2', 'r2', 'f24', '-r2', '-r3', 'f25', '-r1', '-r1', '-r1', '-r1', '-r1', '-r1', '-r1', '-r1', '-r1', '-r1', '-r1', '-r1', '-r1', '-r1', '-r1', '-r1', '-r1', '-r1', '-r1', '-r1', '-r1', '-r1', '-r1', '-r1', '-r1', '-r1', 'r3', 'r3', 'f57', '-r2', '-r3', 'f58', 'r2', 'r2', 'f24', '-r2', '-r3', 'f25', 'r3', 'r3', 'f57', '-r2', '-r3', 'f58', 'r2', 'r2', 'f24', '-r2', '-r3', 'f25', 'r3', 'r3', 'f57', '-r2', '-r3', 'f58', 'r2', 'r2', 'f24', '-r2', '-r3', 'f25', 'r3', 'r3', 'f57', '-r2', '-r3', 'f58', 'r2', 'r2', 'f24', '-r2', '-r3', 'f25', 'r3', 'r3', 'f57', '-r2', '-r3', 'f58', 'r2', 'r2', 'f24', '-r2', '-r3', 'f25', 'r3', 'r3', 'f57', '-r2', '-r3', 'f58', 'r2', 'r2', 'f24', '-r2', '-r3', 'f25', 'r3', 'r3', 'f57', '-r2', '-r3', 'f58', 'r2', 'r2', 'f24', '-r2', '-r3', 'f25', 'r3', 'r3', 'f57', '-r2', '-r3', 'f58', 'r2', 'r2', 'f24', '-r2', '-r3', 'f25', 'r3', 'r3', 'f57', '-r2', '-r3', 'f58', 'r2', 'r2', 'f24', '-r2', '-r3', 'f25', 'r3', 'r3', 'f57', '-r2', '-r3', 'f58', 'r2', 'r2', 'f24', '-r2', '-r3', 'f25', 'r3', 'r3', 'f57', '-r2', '-r3', 'f58', 'r2', 'r2', 'f24', '-r2', '-r3', 'f25', 'r3', 'r3', 'f57', '-r2', '-r3', 'f58', 'r2', 'r2', 'f24', '-r2', '-r3', 'f25', 'r3', 'r3', 'f57', '-r2', '-r3', 'f58', 'r2', 'r2', 'f24', '-r2', '-r3', 'f25', 'r3', 'r3', 'f57', '-r2', '-r3', 'f58', 'r2', 'r2', 'f24', '-r2', '-r3', 'f25', 'r1', 'r1', 'r1', 'r1', 'r1', 'r1', 'r1', 'r1', 'r1', 'r1', 'r1', 'r1', 'r1', 'r1', 'r1', 'r3', 'r3', 'f57', '-r2', '-r3', 'f58', 'r2', 'r2', 'f24', '-r2', '-r3', 'f25', 'r3', 'r3', 'f57', '-r2', '-r3', 'f58', 'r2', 'r2', 'f24', '-r2', '-r3', 'f25', 'r3', 'r3', 'f57', '-r2', '-r3', 'f58', 'r2', 'r2', 'f24', '-r2', '-r3', 'f25', 'r3', 'r3', 'f57', '-r2', '-r3', 'f58', 'r2', 'r2', 'f24', '-r2', '-r3', 'f25', 'r3', 'r3', 'f57', '-r2', '-r3', 'f58', 'r2', 'r2', 'f24', '-r2', '-r3', 'f25', 'r3', 'r3', 'f57', '-r2', '-r3', 'f58', 'r0', 'r0', 'r0', 'r0', 'r0', 'r0', 'r0', 'r0', 'r0', 'r0', 'r0', 'r0', 'r0', 'r0', 'r0', 'r0', 'r0', 'r0', 'r0', 'r0', 'r0', 'r0', 'r0', '-r1', '-r1', '-r3', '-r3', 'f26', '-r2', '-r3', 'f27', '-r2', '-r2', '-r2', '-r2', '-r2', '-r2', '-r2', '-r2', '-r2', '-r2', '-r2', '-r2', '-r2', '-r2', '-r2', '-r2', '-r2', 'r3', 'r3', 'f59', '-r2', '-r3', 'f60', 'r2', 'r2', 'f26', '-r2', '-r3', 'f27', 'r3', 'r3', 'f59', '-r2', '-r3', 'f60', 'r2', 'r2', 'f26', '-r2', '-r3', 'f27', 'r3', 'r3', 'f59', '-r2', '-r3', 'f60', 'r2', 'r2', 'f26', '-r2', '-r3', 'f27', '-r0', '-r0', '-r1', '-r1', 'r2', 'r2', 'r2', 'f61', '-r2', '-r3', 'f62', 'r2', 'r2', 'f28', '-r2', '-r3', 'f29', 'r3', 'r3', 'f61', '-r2', '-r3', 'f62', 'r2', 'r2', 'f28', '-r2', '-r3', 'f29', 'r3', 'r3', 'f61', '-r2', '-r3', 'f62', 'r2', 'r2', 'f28', '-r2', '-r3', 'f29', 'r3', 'r3', 'f61', '-r2', '-r3', 'f62', 'r2', 'r2', 'f28', '-r2', '-r3', 'f29', 'r3', 'r3', 'f61', '-r2', '-r3', 'f62', 'r2', 'r2', '-r3', '-r3', '-r3', '-r3', '-r3', '-r3', '-r3', '-r3', '-r3', '-r3', '-r3', '-r3', '-r3', '-r3', '-r3', '-r3', '-r3', '-r3', '-r3', 'f28', '-r2', '-r3', 'f29', 'r3', 'r3', 'f61', '-r2', '-r3', 'f62', 'r2', 'r2', 'f28', '-r2', '-r3', 'f29', 'r3', 'r3', 'f61', '-r2', '-r3', 'f62', 'r2', 'r2', 'f28', '-r2', '-r3', 'f29', 'r3', 'r3', 'f61', '-r2', '-r3', 'f62', 'r2', 'r2', 'f28', '-r2', '-r3', 'f29', 'r3', 'r3', 'f61', '-r2', '-r3', 'f62', 'r2', 'r2', 'f28', '-r2', '-r3', 'f29', 'r3', 'r3', 'f61', '-r2', '-r3', 'f62', 'r2', 'r2', 'f28', '-r2', '-r3', 'f29', 'r3', 'r3', 'f61', '-r2', '-r3', 'f62', 'r2', 'r2', 'f28', '-r2', '-r3', 'f29', 'r3', 'r3', 'f61', '-r2', '-r3', 'f62', 'r2', 'r2', 'f28', '-r2', '-r3', 'f29', 'r3', 'r3', 'f61', '-r2', '-r3', 'f62', 'r2', 'r2', 'f28', '-r2', '-r3', 'f29', 'r3', 'r3', 'f61', '-r2', '-r3', 'f62', 'r2', 'r2', 'f28', '-r2', '-r3', 'f29', 'r3', 'r3', 'f61', '-r2', '-r3', 'f62', 'r2', 'r2', 'f28', '-r2', '-r3', 'f29', 'r3', 'r3', 'f61', '-r2', '-r3', 'f62', 'r2', 'r2', 'f28', '-r2', '-r3', 'f29', 'r3', 'r3', 'f61', '-r2', '-r3', 'f62', 'r2', 'r2', 'f28', '-r2', '-r3', 'f29', 'r3', 'r3', 'f61', '-r2', '-r3', 'f62', 'r2', 'r2', 'f28', '-r2', '-r3', 'f29', 'r3', 'r3', 'f61', '-r2', '-r3', 'f62', 'r2', 'r2', 'f28', '-r2', '-r3', 'f29', 'r3', 'r3', 'f61', '-r2', '-r3', 'f62', 'r2', 'r2', 'f28', '-r2', '-r3', 'f29', 'r3', 'r3', 'f61', '-r2', '-r3', 'f62', 'r2', 'r2', 'f28', '-r2', '-r3', 'f29', 'r3', 'r3', 'f61', '-r2', '-r3', 'f62', 'r2', 'r2', 'f28', '-r2', '-r3', 'f29', 'r3', 'r3', 'f61', '-r2', '-r3', 'f62', 'r2', 'r2', 'f28', '-r2', '-r3', 'f29', 'r3', 'r3', 'f61', '-r2', '-r3', 'f62', 'r2', 'r2', 'f28', '-r2', '-r3', 'f29', 'r3', 'r3', 'f61', '-r2', '-r3', 'f62', 'r2', 'r2', 'f28', '-r2', '-r3', 'f29', '-r1', '-r1', '-r1', '-r1', '-r1', '-r1', '-r1', '-r1', '-r1', '-r1', '-r1', '-r1', '-r1', '-r1', '-r1', '-r1', '-r1', '-r1', '-r1', '-r1', '-r1', '-r1', '-r1', '-r1', '-r1', '-r1', '-r1', '-r1', '-r1', '-r1', '-r1', 'r2', 'r2', 'r2', 'r2', 'r2', 'r2', 'r2', 'r2', 'r2', 'r2', 'r2', 'r2', 'r2', 'r2', 'r2', 'r2', 'r2', 'r2', 'r2', 'r2', 'r2', 'r2', 'r2', 'r2', 'r2', 'r2', 'r3', 'r3', 'f61', '-r2', '-r3', 'f62', 'r2', 'r2', 'f28', '-r2', '-r3', 'f29', 'r3', 'r3', 'f61', '-r2', '-r3', 'f62', 'r2', 'r2', 'f28', '-r2', '-r3', 'f29', 'r3', 'r3', 'f61', '-r2', '-r3', 'f62', 'r2', 'r2', 'f28', '-r2', '-r3', 'f29', 'r3', 'r3', 'f61', '-r2', '-r3', 'f62', 'r2', 'r2', 'f28', '-r2', '-r3', 'f29', 'r3', 'r3', 'f61', '-r2', '-r3', 'f62', 'r2', 'r2', 'f28', '-r2', '-r3', 'f29', 'r3', 'r3', 'f61', '-r2', '-r3', 'f62', 'r2', 'r2', 'f28', '-r2', '-r3', 'f29', 'r3', 'r3', 'f61', '-r2', '-r3', 'f62', 'r2', 'r2', 'f28', '-r2', '-r3', 'f29', 'r3', 'r3', 'f61', '-r2', '-r3', 'f62', 'r2', 'r2', 'f28', '-r2', '-r3', 'f29', 'r3', 'r3', 'f61', '-r2', '-r3', 'f62', 'r2', 'r2', 'f28', '-r2', '-r3', 'f29', 'r3', 'r3', 'f61', '-r2', '-r3', 'f62', 'r2', 'r2', 'f28', '-r2', '-r3', 'f29', 'r3', 'r3', 'f61', '-r2', '-r3', 'f62', 'r2', 'r2', 'f28', '-r2', '-r3', 'f29', 'r3', 'r3', 'f61', '-r2', '-r3', 'f62', 'r2', 'r2', 'f28', '-r2', '-r3', 'f29', 'r3', 'r3', 'f61', '-r2', '-r3', 'f62', '-r0', '-r0', '-r1', '-r1', 'r3', 'r3', 'r3', 'r3', 'r3', 'r3', 'r3', 'r3', 'r3', 'r3', 'r3', 'r3', 'r3', 'r3', 'r3', 'r3', 'r3', 'r3', 'r3', 'r3', 'r3', 'r3', 'r3', 'r3', 'r3', 'r3', 'r3', 'r3', 'r3', 'r3', 'r3', 'r3', 'f30', '-r2', '-r3', 'f31', 'r3', 'r3', 'f63', '-r2', '-r3', 'f64', 'r2', 'r2', 'f30', '-r2', '-r3', 'f31', 'r3', 'r3', 'f63', '-r2', '-r3', 'f64', 'r2', 'r2', 'f30', '-r2', '-r3', 'f31', 'r3', 'r3', 'f63', '-r2', '-r3', 'f64', 'r2', 'r2', 'f30', '-r2', '-r3', 'f31', 'r3', 'r3', 'f63', '-r2', '-r3', 'f64', 'r2', 'r2', 'f30', '-r2', '-r3', 'f31', 'r3', 'r3', 'f63', '-r2', '-r3', 'f64', 'r2', 'r2', 'f30', '-r2', '-r3', 'f31', 'r3', 'r3', 'f63', '-r2', '-r3', 'f64', 'r2', 'r2', 'f30', '-r2', '-r3', 'f31', 'r3', 'r3', 'f63', '-r2', '-r3', 'f64', 'r2', 'r2', 'f30', '-r2', '-r3', 'f31', 'r3', 'r3', 'f63', '-r2', '-r3', 'f64', 'r2', 'r2', 'f30', '-r2', '-r3', 'f31', 'r3', 'r3', 'f63', '-r2', '-r3', 'f64', 'r2', 'r2', 'f30', '-r2', '-r3', 'f31', 'r3', 'r3', 'f63', '-r2', '-r3', 'f64', 'r2', 'r2', 'f30', '-r2', '-r3', 'f31', 'r3', 'r3', 'f63', '-r2', '-r3', 'f64', 'r2', 'r2', 'f30', '-r2', '-r3', 'f31', 'r3', 'r3', 'f63', '-r2', '-r3', 'f64', 'r2', 'r2', 'f30', '-r2', '-r3', 'f31', 'r3', 'r3', 'f63', '-r2', '-r3', 'f64', 'r2', 'r2', 'f30', '-r2', '-r3', 'f31', 'r3', 'r3', 'f63', '-r2', '-r3', 'f64', '-r0', '-r0', '-r0', '-r0', '-r0', '-r0', '-r0', '-r0', '-r0', '-r0', 'r2', 'r2', 'f30', '-r2', '-r3', 'f31', 'r3', 'r3', 'f63', '-r2', '-r3', 'f64', 'r2', 'r2', 'f30', '-r2', '-r3', 'f31', 'r3', 'r3', 'f63', '-r2', '-r3', 'f64', 'r2', 'r2', 'f30', '-r2', '-r3', 'f31', 'r3', 'r3', 'f63', '-r2', '-r3', 'f64', 'r2', 'r2', 'f30', '-r2', '-r3', 'f31', 'r3', 'r3', 'f63', '-r2', '-r3', 'f64', 'r2', 'r2', 'f30', '-r2', '-r3', 'f31', 'r3', 'r3', 'f63', '-r2', '-r3', 'f64', 'r2', 'r2', 'f30', '-r2', '-r3', 'f31', 'r1', 'r1', 'r1', 'r1', 'r1', 'r1', 'r1', 'r1', 'r1', 'r1', 'r1', 'r1', 'r1', 'r1', 'r1', 'r1', 'r1', 'r1', 'r1', 'r1', 'r1', 'r1', 'r1', 'r1', 'r1', 'r1', 'r1', 'r1', 'r1', 'r1', 'r1', 'r1', 'r1', 'r3', 'r3', 'f63', '-r2', '-r3', 'f64', 'r2', 'r2', 'f30', '-r2', '-r3', 'f31', 'r3', 'r3', 'f63', '-r2', '-r3', 'f64', 'r2', 'r2', 'f30', '-r2', '-r3', 'f31', 'r3', 'r3', 'f63', '-r2', '-r3', 'f64', 'r2', 'r2', 'f30', '-r2', '-r3', 'f31', 'r3', 'r3', 'f63', '-r2', '-r3', 'f64', 'r2', 'r2', 'f30', '-r2', '-r3', 'f31', 'r3', 'r3', 'f63', '-r2', '-r3', 'f64', 'r2', 'r2', 'f30', '-r2', '-r3', 'f31', 'r3', 'r3', 'f63', '-r2', '-r3', 'f64', 'r2', 'r2', 'f30', '-r2', '-r3', 'f31', 'r1', 'r1', 'r1', 'r1', 'r1', 'r1', 'r1', 'r3', 'r3', 'f63', '-r2', '-r3', 'f64', 'r2', 'r2', 'f30', '-r2', '-r3', 'f31', 'r3', 'r3', 'f63', '-r2', '-r3', 'f64', '-r0', '-r0', '-r1', '-r1', 'r3', 'r3', 'r3', 'r3', 'r3', 'r3', 'r3', 'r3', 'r3', 'r3', 'r3', 'r3', 'r3', 'r3', 'r3', 'r3', 'r3', 'r3', 'r3', 'r3', 'r3', 'r3', 'r3', 'r3', 'r3', 'r3', 'f32', '-r2', '-r3', 'f33', 'r3', 'r3', 'f65', 'r0', 'r1', 'f65', 'r2', 'r2', 'f31', '-r2', '-r3', 'f32', 'r1', 'r1', 'r1', 'r1', 'r3', 'r3', 'f64', '-r2', '-r3', 'f65', 'r0', 'r0', 'r0', 'r0', 'r0', 'r0', 'r0', 'r0', 'r0', 'r0', 'r0', 'r0', 'r0', 'r0', '-r1', '-r1', '-r3', '-r3', 'f33', '-r2', '-r3', 'f34', 'r3', 'r3', 'f0', '-r2', '-r3', 'f1', 'r2', 'r2', 'f33', '-r2', '-r3', 'f34', 'r3', 'r3', 'f0', '-r2', '-r3', 'f1', 'r2', 'r2', 'f33', '-r2', '-r3', 'f34', 'r3', 'r3', 'f0', '-r2', '-r3', 'f1', 'r2', 'r2', 'f33', '-r2', '-r3', 'f34', 'r3', 'r3', 'f0', '-r2', '-r3', 'f1', 'r2', 'r2', 'f33', '-r2', '-r3', 'f34', '-r0', '-r0', '-r1', '-r1', '-r2', '-r2', '-r2', '-r2', '-r2', '-r2', '-r2', '-r2', '-r2', '-r2', '-r2', '-r2', '-r2', '-r2', '-r2', '-r2', '-r2', '-r2', '-r2', '-r2', '-r2', 'f2', '-r2', '-r3', 'f3', 'r2', 'r2', 'f35', '-r2', '-r3', 'f36', 'r3', 'r3', 'f2', '-r2', '-r3', 'f3', 'r2', 'r2', 'f35', '-r2', '-r3', 'f36', 'r3', 'r3', 'f2', '-r2', '-r3', 'f3', 'r2', 'r2', 'f35', '-r2', '-r3', 'f36', 'r3', 'r3', 'f2', '-r2', '-r3', 'f3', 'r2', 'r2', 'f35', '-r2', '-r3', 'f36', 'r3', 'r3', 'f2', '-r2', '-r3', 'f3', 'r2', 'r2', 'f35', '-r2', '-r3', 'f36', 'r3', 'r3', 'f2', '-r2', '-r3', 'f3', 'r2', 'r2', 'f35', '-r2', '-r3', 'f36', 'r3', 'r3', 'f2', '-r2', '-r3', 'f3', 'r2', 'r2', 'f35', '-r2', '-r3', 'f36', 'r3', 'r3', 'f2', '-r2', '-r3', 'f3', 'r2', 'r2', 'f35', '-r2', '-r3', 'f36', 'r3', 'r3', 'f2', '-r2', '-r3', 'f3', 'r2', 'r2', 'f35', '-r2', '-r3', 'f36', 'r3', 'r3', 'f2', '-r2', '-r3', 'f3', 'r2', 'r2', 'f35', '-r2', '-r3', 'f36', 'r3', 'r3', 'f2', '-r2', '-r3', 'f3', 'r2', 'r2', 'f35', '-r2', '-r3', 'f36', 'r3', 'r3', 'f2', '-r2', '-r3', 'f3', 'r2', 'r2', 'f35', '-r2', '-r3', 'f36', 'r3', 'r3', 'f2', '-r2', '-r3', 'f3', 'r2', 'r2', 'f35', '-r2', '-r3', 'f36', 'r3', 'r3', 'f2', '-r2', '-r3', 'f3', 'r2', 'r2', 'f35', '-r2', '-r3', 'f36', 'r3', 'r3', 'f2', '-r2', '-r3', 'f3', 'r2', 'r2', 'f35', '-r2', '-r3', 'f36', 'r3', 'r3', 'f2', '-r2', '-r3', 'f3', 'r2', 'r2', 'f35', '-r2', '-r3', 'f36', 'r3', 'r3', 'f2', '-r2', '-r3', 'f3', 'r2', 'r2', 'f35', '-r2', '-r3', 'f36', 'r3', 'r3', 'f2', '-r2', '-r3', 'f3', 'r2', 'r2', 'f35', '-r2', '-r3', 'f36', 'r3', 'r3', 'f2', '-r2', '-r3', 'f3', 'r2', 'r2', 'f35', '-r2', '-r3', 'f36', 'r3', 'r3', 'f2', '-r2', '-r3', 'f3', 'r2', 'r2', 'f35', '-r2', '-r3', 'f36', 'r3', 'r3', 'f2', '-r2', '-r3', 'f3', 'r2', 'r2', 'f35', '-r2', '-r3', 'f36', 'r3', 'r3', 'f2', '-r2', '-r3', 'f3', 'r0', 'r0', 'r0', 'r0', 'r0', 'r0', 'r0', 'r0', 'r0', 'r0', 'r0', 'r0', 'r0', 'r0', 'r0', 'r0', 'r0', 'r0', 'r0', 'r0', 'r0', 'r0', 'r0', 'r0', 'r0', '-r1', '-r1', '-r3', '-r3', 'f37', '-r2', '-r3', 'f38', 'r3', 'r3', 'f4', '-r2', '-r3', 'f5', 'r2', 'r2', 'f37', '-r2', '-r3', 'f38', 'r3', 'r3', 'f4', '-r2', '-r3', 'f5', 'r2', 'r2', 'f37', '-r2', '-r3', 'f38', 'r3', 'r3', 'f4', '-r2', '-r3', 'f5', 'r2', 'r2', 'f37', '-r2', '-r3', 'f38', '-r0', '-r0', '-r1', '-r1', 'r2', 'r2', 'r2', 'r2', 'r2', 'r2', 'r2', 'r2', 'r2', 'r2', 'r2', 'r2', 'r2', 'r2', 'r2', 'r2', 'r2', 'r2', 'r2', 'r2', 'r2', 'r2', 'r2', 'r2', 'f6', '-r2', '-r3', 'f7', 'r2', 'r2', 'f39', '-r2', '-r3', 'f40', 'r3', 'r3', 'f6', '-r2', '-r3', 'f7', 'r0', 'r0', 'r0', 'r0', '-r1', '-r1', '-r3', '-r3', 'f41', '-r2', '-r3', 'f42', 'r3', 'r3', 'f8', '-r2', '-r3', 'f9', 'r2', 'r2', '-r3', '-r3', '-r3', '-r3', '-r3', '-r3', '-r3', '-r3', '-r3', '-r3', '-r3', '-r3', '-r3', '-r3', '-r3', '-r3', '-r3', '-r3', '-r3', '-r3', '-r3', '-r3', '-r3', '-r3', '-r3', '-r3', '-r3', '-r3', '-r3', '-r3', '-r3', 'f41', '-r2', '-r3', 'f42', 'r3', 'r3', 'f8', '-r2', '-r3', 'f9', 'r2', 'r2', 'f41', '-r2', '-r3', 'f42', 'r3', 'r3', 'f8', '-r2', '-r3', 'f9', 'r2', 'r2', 'f41', '-r2', '-r3', 'f42', 'r3', 'r3', 'f8', '-r2', '-r3', 'f9', 'r2', 'r2', 'f41', '-r2', '-r3', 'f42', 'r3', 'r3', 'f8', '-r2', '-r3', 'f9', 'r2', 'r2', 'f41', '-r2', '-r3', 'f42', 'r3', 'r3', 'f8', '-r2', '-r3', 'f9', 'r2', 'r2', 'f41', '-r2', '-r3', 'f42', 'r3', 'r3', 'f8', '-r2', '-r3', 'f9', 'r2', 'r2', 'f41', '-r2', '-r3', 'f42', 'r3', 'r3', 'f8', '-r2', '-r3', 'f9', 'r2', 'r2', 'f41', '-r2', '-r3', 'f42', 'r3', 'r3', 'f8', '-r2', '-r3', 'f9', '-r0', '-r0', '-r1', '-r1', 'r3', 'r3', 'r3', 'r3', 'r3', 'r3', 'r3', 'r3', 'f43', '-r2', '-r3', 'f44', 'r3', 'r3', 'f10', '-r2', '-r3', 'f11', 'r2', 'r2', 'f43', '-r2', '-r3', 'f44', 'r3', 'r3', 'f10', '-r2', '-r3', 'f11', 'r2', 'r2', 'f43', '-r2', '-r3', 'f44', 'r3', 'r3', 'f10', '-r2', '-r3', 'f11', 'r2', 'r2', 'f43', '-r2', '-r3', 'f44', 'r3', 'r3', 'f10', '-r2', '-r3', 'f11', 'r2', 'r2', 'f43', '-r2', '-r3', 'f44', 'r3', 'r3', 'f10', '-r2', '-r3', 'f11', 'r2', 'r2', 'f43', '-r2', '-r3', 'f44', 'r3', 'r3', 'f10', '-r2', '-r3', 'f11', 'r2', 'r2', 'f43', '-r2', '-r3', 'f44', 'r3', 'r3', 'f10', '-r2', '-r3', 'f11', 'r0', 'r0', 'r0', 'r0', 'r0', 'r0', 'r0', 'r0', 'r0', 'r0', 'r0', 'r0', 'r0', 'r0', 'r0', '-r1', '-r1', '-r3', '-r3', 'f45', '-r2', '-r3', 'f46', '-r0', '-r0', '-r1', '-r1', '-r1', '-r1', '-r1', '-r1', '-r1', '-r1', '-r1', '-r1', '-r1', '-r1', '-r1', '-r1', '-r1', '-r1', '-r1', '-r1', '-r1', '-r2', '-r2', 'f14', '-r2', '-r3', 'f15', 'r2', 'r2', 'f47', '-r2', '-r3', 'f48', 'r3', 'r3', 'f14', '-r2', '-r3', 'f15', 'r2', 'r2', 'f47', '-r2', '-r3', 'f48', 'r3', 'r3', 'f14', '-r2', '-r3', 'f15', 'r2', 'r2', 'f47', '-r2', '-r3', 'f48', '-r0', '-r0', 'r1', 'r1', '-r2', '-r2', 'f16', '-r2', '-r3', 'f17', 'r2', 'r2', 'f49', '-r2', '-r3', 'f50', 'r3', 'r3', 'f16', '-r2', '-r3', 'f17', 'r2', 'r2', 'f49', '-r2', '-r3', 'f50', 'r3', 'r3', 'f16', '-r2', '-r3', 'f17', 'r2', 'r2', 'f49', '-r2', '-r3', 'f50', '-r0', '-r0', '-r1', '-r1', 'r2', 'r2', 'r2', 'r2', 'r2', 'r2', 'r2', 'r2', 'r2', 'r2', 'r2', 'r2', 'r2', 'r2', 'r2', 'r2', 'r2', 'r2', 'r2', 'r2', 'r2', 'r2', 'r2', 'f18', '-r2', '-r3', 'f19', 'r2', 'r2', 'f51', '-r2', '-r3', 'f52', '-r0', '-r0', '-r1', '-r1', 'f20', '-r2', '-r3', 'f21', 'r2', 'r2', 'f53', '-r2', '-r3', 'f54', 'r3', 'r3', 'f20', '-r2', '-r3', 'f21', 'r2', 'r2', 'f53', '-r2', '-r3', 'f54', 'r3', 'r3', 'f20', '-r2', '-r3', 'f21', 'r2', 'r2', 'f53', '-r2', '-r3', 'f54', 'r3', 'r3', 'f20', '-r2', '-r3', 'f21', 'r2', 'r2', 'f53', '-r2', '-r3', 'f54', '-r0', '-r0', 'r1', 'r1', 'r1', 'r1', 'r1', 'r1', 'r1', '-r2', '-r2', 'f22', '-r2', '-r3', 'f23', 'r2', 'r2', 'r3', 'r3', 'r3', 'r3', 'r3', 'r3', 'r3', 'r3', 'r3', 'r3', 'r3', 'r3', 'r3', 'r3', 'r3', 'r3', 'r3', 'r3', 'r3', 'r3', 'f55', '-r2', '-r3', 'f56', 'r3', 'r3', 'f22', '-r2', '-r3', 'f23', 'r2', 'r2', 'f55', '-r2', '-r3', 'f56', 'r3', 'r3', 'f22', '-r2', '-r3', 'f23', 'r2', 'r2', 'f55', '-r2', '-r3', 'f56', 'r3', 'r3', 'f22', '-r2', '-r3', 'f23', 'r2', 'r2', 'f55', '-r2', '-r3', 'f56', 'r3', 'r3', 'f22', '-r2', '-r3', 'f23', 'r2', 'r2', 'f55', '-r2', '-r3', 'f56', 'r3', 'r3', 'f22', '-r2', '-r3', 'f23', 'r2', 'r2', 'f55', '-r2', '-r3', 'f56', 'r3', 'r3', 'f22', '-r2', '-r3', 'f23', 'r2', 'r2', 'f55', '-r2', '-r3', 'f56', 'r3', 'r3', 'f22', '-r2', '-r3', 'f23', 'r2', 'r2', 'f55', '-r2', '-r3', 'f56', 'r3', 'r3', 'f22', '-r2', '-r3', 'f23', 'r2', 'r2', 'f55', '-r2', '-r3', 'f56', 'r3', 'r3', 'f22', '-r2', '-r3', 'f23', 'r2', 'r2', 'f55', '-r2', '-r3', 'f56', 'r3', 'r3', 'f22', '-r2', '-r3', 'f23', 'r2', 'r2', 'f55', '-r2', '-r3', 'f56', 'r3', 'r3', 'f22', '-r2', '-r3', 'f23', 'r2', 'r2', 'f55', '-r2', '-r3', 'f56', 'r3', 'r3', 'f22', '-r2', '-r3', 'f23', 'r2', 'r2', 'f55', '-r2', '-r3', 'f56', 'r3', 'r3', 'f22', '-r2', '-r3', 'f23', 'r2', 'r2', 'r3', 'r3', 'r3', 'r3', 'r3', 'r3', 'r3', 'r3', 'r3', 'r3', 'r3', 'r3', 'r3', 'r3', 'f55', '-r2', '-r3', 'f56', 'r3', 'r3', 'f22', '-r2', '-r3', 'f23', 'r2', 'r2', 'f55', '-r2', '-r3', 'f56', 'r3', 'r3', 'f22', '-r2', '-r3', 'f23', 'r2', 'r2', 'f55', '-r2', '-r3', 'f56', 'r3', 'r3', 'f22', '-r2', '-r3', 'f23', 'r2', 'r2', 'f55', '-r2', '-r3', 'f56', 'r3', 'r3', 'f22', '-r2', '-r3', 'f23', 'r2', 'r2', 'f55', '-r2', '-r3', 'f56', 'r3', 'r3', 'f22', '-r2', '-r3', 'f23', '-r0', '-r0', 'r2', 'r2', '-r3', '-r3', '-r3', '-r3', '-r3', '-r3', '-r3', '-r3', '-r3', '-r3', '-r3', '-r3', '-r3', '-r3', '-r3', '-r3', '-r3', '-r3', '-r3', '-r3', '-r3', '-r3', '-r3', '-r3', '-r3', '-r3', '-r3', 'f55', 'r1', 'f55', 'r1', 'r1', 'r1', 'r1', 'r1', 'r1', 'r1', 'r1', 'r1', 'r1', 'r1', 'r1', 'r1', 'r1', 'r1', 'r1', 'r1', 'r1', 'r1', 'r1', 'r1', 'r1', 'r1', 'r1', 'r1', 'r1', 'r1', 'r1', 'r1', 'r1', 'r1', 'r1', 'r2', 'r2', 'r2', 'r2', 'r2', 'r2', 'r2', 'r2', 'r2', 'r2', 'r2', 'r2', 'r2', 'r2', 'r2', 'r2', 'r2', 'r2', 'r2', 'r2', 'r2', 'r2', 'r2', 'r2', 'r2', 'r2', 'r2', 'r2', 'r2', 'r2', 'r2', 'r2', 'f55', 'r1', 'f55', 'r1', 'r1', 'r1', 'r1', 'r1', 'r1', 'r1', 'r1', 'r1', 'r1', 'r1', 'r1', 'r1', 'r1', 'r1', 'r1', 'r1', 'r1', 'r1', 'r1', 'r1', 'r1', 'r1', 'r1', 'r1', 'r1', 'r1', 'r1', 'r1', 'r1', 'r1', 'r1', '-r2', '-r2', '-r2', '-r2', '-r2', '-r2', '-r2', '-r2', '-r2', '-r2', '-r2', '-r2', '-r2', '-r2', '-r2', '-r2', '-r2', '-r2', '-r2', '-r2', '-r2', '-r2', '-r2', '-r2', '-r2', '-r2', '-r2', '-r2', '-r2', '-r2', '-r2', '-r2', 'f55', 'r1', 'f55', 'r1', 'r1', 'r1', 'r1', 'r1', 'r1', 'r1', 'r1', 'r1', 'r1', 'r1', 'r1', 'r1', 'r1', 'r1', 'r1', 'r1', 'r1', 'r1', 'r1', 'r1', 'r1', 'r1', 'r1', 'r1', 'r1', 'r1', 'r1', 'r1', 'r1', 'r1', 'r1', 'r2', 'r2', 'r2', 'r2', 'r2', 'r2', 'r2', 'r2', 'r2', 'r2', 'r2', 'r2', 'r2', 'r2', 'r2', 'r2', 'r2', 'r2', 'r2', 'r2', 'r2', 'r2', 'r2', 'r2', 'r2', 'r2', 'r2', 'r2', 'r2', 'r2', 'r2', 'r2', 'f55', 'r1', 'f55', 'r1', 'r1', 'r1', 'r1', 'r1', 'r1', 'r1', 'r1', 'r1', 'r1', 'r1', 'r1', 'r1', 'r1', 'r1', 'r1', 'r1', 'r1', 'r1', 'r1', 'r1', 'r1', 'r1', 'r1', 'r1', 'r1', 'r1', 'r1', 'r1', 'r1', 'r1', 'r1', '-r2', '-r2', '-r2', '-r2', '-r2', '-r2', '-r2', '-r2', '-r2', '-r2', '-r2', '-r2', '-r2', '-r2', '-r2', '-r2', '-r2', '-r2', '-r2', '-r2', '-r2', '-r2', '-r2', '-r2', '-r2', '-r2', '-r2', '-r2', '-r2', '-r2', '-r2', '-r2', 'f55', 'r1', 'f55', 'r1', 'r1', 'r1', 'r1', 'r1', 'r1', 'r1', 'r1', 'r1', 'r1', 'r1', 'r1', 'r1', 'r1', 'r1', 'r1', 'r1', 'r1', 'r1', 'r1', 'r1', 'r1', 'r1', 'r1', 'r1', 'r1', 'r1', 'r1', 'r1', 'r1', 'r1', 'r1', 'r2', 'r2', 'r2', 'r2', 'r2', 'r2', 'r2', 'r2', 'r2', 'r2', 'r2', 'r2', 'r2', 'r2', 'r2', 'r2', 'r2', 'r2', 'r2', 'r2', 'r2', 'r2', 'r2', 'r2', 'r2', 'r2', 'r2', 'r2', 'r2', 'r2', 'r2', 'r2', 'f55', 'r1', 'f55', 'r1', 'r1', 'r1', 'r1', 'r1', 'r1', 'r1', 'r1', 'r1', 'r1', 'r1', 'r1', 'r1', 'r1', 'r1', 'r1', 'r1', 'r1', 'r1', 'r1', 'r1', 'r1', 'r1', 'r1', 'r1', 'r1', 'r1', 'r1', 'r1', 'r1', 'r1', 'r1', '-r2', '-r2', '-r2', '-r2', '-r2', '-r2', '-r2', '-r2', '-r2', '-r2', '-r2', '-r2', '-r2', '-r2', '-r2', '-r2', '-r2', '-r2', '-r2', '-r2', '-r2', '-r2', '-r2', '-r2', '-r2', '-r2', '-r2', '-r2', '-r2', '-r2', '-r2', '-r2', 'f55', 'r1', 'f55', '-r0', '-r0', '-r0', '-r0', '-r0', '-r0', '-r0', '-r0', '-r0', '-r0', '-r0', 'r1', 'r1', 'r1', 'r1', 'r1', 'r1', 'r1', 'r1', 'r1', 'r1', 'r1', 'r2', 'r2', 'r2', 'r2', 'r2', 'r2', 'r2', 'r2', 'r2', 'r2', 'r2', 'r2', 'r2', 'r2', 'r2', '-r3', '-r3', '-r3', '-r3', '-r3', '-r3', '-r3', '-r3', '-r3', '-r3', '-r3']\n"
     ]
    }
   ],
   "source": [
    "print(res_moves)"
   ]
  },
  {
   "cell_type": "markdown",
   "metadata": {},
   "source": [
    "# Checking Moves With Official"
   ]
  },
  {
   "cell_type": "code",
   "execution_count": 457,
   "metadata": {
    "ExecuteTime": {
     "end_time": "2024-01-02T09:51:26.259403400Z",
     "start_time": "2024-01-02T09:51:26.045234200Z"
    }
   },
   "outputs": [],
   "source": [
    "def getInversePerm(arr):\n",
    "    # gets the inverse move for a certain move\n",
    "    res = [0 for i in range(len(arr))]\n",
    "    for i in range(len(arr)):\n",
    "        res[arr[i]] = i\n",
    "    return res\n",
    "    \n",
    "# type : (np.array(move_perm_i), np.array(name_i))\n",
    "puz_info = {}\n",
    "\n",
    "# type : {move : perm}\n",
    "move_to_perm = {}\n",
    "\n",
    "puzzle_info_df['allowed_moves_converted'] = puzzle_info_df['allowed_moves'].apply(lambda x: json.loads(x.replace(\"'\", '\"')))\n",
    "\n",
    "for i in range(len(puzzle_info_df)):\n",
    "    puz_info[puzzle_info_df['puzzle_type'][i]] = [[], []]\n",
    "    move_to_perm[puzzle_info_df['puzzle_type'][i]] = {}\n",
    "    \n",
    "    for j in puzzle_info_df['allowed_moves_converted'][i].keys():\n",
    "        puz_info[puzzle_info_df['puzzle_type'][i]][1].append(j)\n",
    "        puz_info[puzzle_info_df['puzzle_type'][i]][0].append(np.array(puzzle_info_df['allowed_moves_converted'][i][j]))\n",
    "\n",
    "        puz_info[puzzle_info_df['puzzle_type'][i]][1].append(str('-' + j)) # might be the opposite\n",
    "        puz_info[puzzle_info_df['puzzle_type'][i]][0].append(np.array(getInversePerm(puzzle_info_df['allowed_moves_converted'][i][j])))\n",
    "\n",
    "        move_to_perm[puzzle_info_df['puzzle_type'][i]][str('-' + j)] = np.array(getInversePerm(puzzle_info_df['allowed_moves_converted'][i][j]))\n",
    "        move_to_perm[puzzle_info_df['puzzle_type'][i]][j] = np.array(puzzle_info_df['allowed_moves_converted'][i][j])\n",
    "\n",
    "# move_to_perm['cube_2/2/2']"
   ]
  },
  {
   "cell_type": "code",
   "execution_count": 458,
   "metadata": {
    "ExecuteTime": {
     "end_time": "2024-01-02T09:51:26.356340900Z",
     "start_time": "2024-01-02T09:51:26.262928300Z"
    }
   },
   "outputs": [
    {
     "data": {
      "text/plain": [
       "True"
      ]
     },
     "execution_count": 458,
     "metadata": {},
     "output_type": "execute_result"
    }
   ],
   "source": [
    "def check_official(moves, idx):\n",
    "    puzzle_type = puzzles_df['puzzle_type'][idx]\n",
    "    initial_state = np.array(puzzles_df['initial_state'][idx].split(';'))\n",
    "    solution_state = np.array(puzzles_df['solution_state'][idx].split(';'))\n",
    "\n",
    "    official_moves = move_to_perm[puzzle_type]\n",
    "    \n",
    "    for i in moves:\n",
    "        initial_state = initial_state[official_moves[i]]\n",
    "\n",
    "    return all(solution_state == initial_state)\n",
    "\n",
    "check_official(res_moves, idx)"
   ]
  },
  {
   "cell_type": "markdown",
   "metadata": {
    "collapsed": false,
    "jupyter": {
     "outputs_hidden": false
    }
   },
   "source": [
    "# Submissions #\n",
    "\n",
    "The submission format requires moves in a sequence to be delimited by a period `.`. Indicate the inverse of a named move with a preceeding `-`. Moves are applied from left to right.\n",
    "\n",
    "The `sample_submission.csv` contains a baseline solution for each puzzle."
   ]
  },
  {
   "cell_type": "markdown",
   "metadata": {
    "collapsed": false,
    "jupyter": {
     "outputs_hidden": false
    }
   },
   "source": [
    "Let's check that the given sequence for the first puzzle is actually a solution."
   ]
  },
  {
   "cell_type": "code",
   "execution_count": null,
   "metadata": {
    "ExecuteTime": {
     "end_time": "2024-01-02T09:51:26.402376700Z",
     "start_time": "2024-01-02T09:51:26.350341600Z"
    }
   },
   "outputs": [],
   "source": []
  }
 ],
 "metadata": {
  "kaggle": {
   "accelerator": "none",
   "dataSources": [
    {
     "databundleVersionId": 7339171,
     "sourceId": 65704,
     "sourceType": "competition"
    }
   ],
   "dockerImageVersionId": 30626,
   "isGpuEnabled": false,
   "isInternetEnabled": true,
   "language": "python",
   "sourceType": "notebook"
  },
  "kernelspec": {
   "display_name": "climate-change-ai-venv-kernel",
   "language": "python",
   "name": "climate-change-ai-venv-kernel"
  },
  "language_info": {
   "codemirror_mode": {
    "name": "ipython",
    "version": 3
   },
   "file_extension": ".py",
   "mimetype": "text/x-python",
   "name": "python",
   "nbconvert_exporter": "python",
   "pygments_lexer": "ipython3",
   "version": "3.11.6"
  },
  "name": "getting_started.ipynb"
 },
 "nbformat": 4,
 "nbformat_minor": 4
}
