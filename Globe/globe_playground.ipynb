{
 "cells": [
  {
   "cell_type": "markdown",
   "metadata": {
    "collapsed": false,
    "jupyter": {
     "outputs_hidden": false
    }
   },
   "source": [
    "# Welcome to the Santa 2023 - The Polytope Permutation Puzzle! #\n",
    "\n",
    "Santa's tree is adorned with many-colored, puzzle-like decorations of all shapes and sizes. Unfortunately, the colors on these decorations have gotten all mixed up! In this competition, you're challenged to set the decorations right in the fewest number of moves.\n",
    "\n",
    "This notebook will give you a quick introduction to the competition."
   ]
  },
  {
   "cell_type": "markdown",
   "metadata": {
    "collapsed": false,
    "jupyter": {
     "outputs_hidden": false
    }
   },
   "source": [
    "# Setup #"
   ]
  },
  {
   "cell_type": "code",
   "execution_count": 2,
   "metadata": {
    "collapsed": false,
    "jupyter": {
     "outputs_hidden": false
    }
   },
   "outputs": [],
   "source": [
    "import numpy as np\n",
    "import pandas as pd\n",
    "from ast import literal_eval\n",
    "from pathlib import Path\n",
    "from pprint import pprint\n",
    "from sympy.combinatorics import Permutation\n",
    "\n",
    "\n",
    "data_dir = Path(\"\")\n",
    "\n",
    "puzzle_info = pd.read_csv(data_dir / 'puzzle_info.csv', index_col='puzzle_type')\n",
    "# Parse allowed_moves\n",
    "puzzle_info['allowed_moves'] = puzzle_info['allowed_moves'].apply(literal_eval)\n",
    "\n",
    "puzzles = pd.read_csv(data_dir / 'puzzles.csv', index_col='id')\n",
    "# Parse color states\n",
    "puzzles = puzzles.assign(\n",
    "    initial_state=lambda df: df['initial_state'].str.split(';'),\n",
    "    solution_state=lambda df: df['solution_state'].str.split(';')\n",
    ")\n",
    "\n",
    "sample_submission = pd.read_csv(data_dir / 'sample_submission.csv', index_col='id')"
   ]
  },
  {
   "cell_type": "markdown",
   "metadata": {
    "collapsed": false,
    "jupyter": {
     "outputs_hidden": false
    }
   },
   "source": [
    "# Globe Puzzles #\n",
    "A `globe` puzzle is a sphere with cuts along lines of latitude and longitude. If you poke a hole at the North and South poles, cut along the meridian, and spread it out, it will look like a grid:\n",
    "\n",
    "```\n",
    "  | f0  f1  f2  f3  f4  f5  f6  f7\n",
    "--+-------------------------------\n",
    "r0| 0   1   2   3   4   5   6   7\n",
    "r1| 8   9   10  11  12  13  14  15\n",
    "r2| 16  17  18  19  20  21  22  23\n",
    "r3| 24  25  26  27  28  29  30  31\n",
    "```\n",
    "\n",
    "More precisely, a `globe_M/N` is a sphere with `M` lateral cuts (through latitude) and N radial cuts (through longitude). This gives a `(M + 1) x (2 N)` grid of positions. You could format a color state into a grid like this with something like `np.asarray(state).reshape(m+1, 2*n)`. The above is a `globe_3/4` puzzle."
   ]
  },
  {
   "cell_type": "code",
   "execution_count": 3,
   "metadata": {},
   "outputs": [
    {
     "data": {
      "text/plain": [
       "array([['I', 'P', 'O', 'A', 'A', 'D', 'F', 'L', 'J', 'M', 'G', 'M', 'P',\n",
       "        'F', 'E', 'J'],\n",
       "       ['E', 'B', 'O', 'G', 'H', 'D', 'N', 'L', 'N', 'I', 'B', 'K', 'C',\n",
       "        'C', 'K', 'H']], dtype='<U1')"
      ]
     },
     "execution_count": 3,
     "metadata": {},
     "output_type": "execute_result"
    }
   ],
   "source": [
    "# Get a solution_state\n",
    "ss_globe34 = puzzles.query(\"puzzle_type == 'globe_1/8'\").iloc[0]['initial_state']\n",
    "\n",
    "# Reshape into a grid\n",
    "np.asarray(ss_globe34).reshape(1+1, 2*8)"
   ]
  },
  {
   "cell_type": "code",
   "execution_count": 4,
   "metadata": {},
   "outputs": [
    {
     "data": {
      "text/html": [
       "<div>\n",
       "<style scoped>\n",
       "    .dataframe tbody tr th:only-of-type {\n",
       "        vertical-align: middle;\n",
       "    }\n",
       "\n",
       "    .dataframe tbody tr th {\n",
       "        vertical-align: top;\n",
       "    }\n",
       "\n",
       "    .dataframe thead th {\n",
       "        text-align: right;\n",
       "    }\n",
       "</style>\n",
       "<table border=\"1\" class=\"dataframe\">\n",
       "  <thead>\n",
       "    <tr style=\"text-align: right;\">\n",
       "      <th></th>\n",
       "      <th>puzzle_type</th>\n",
       "      <th>solution_state</th>\n",
       "      <th>initial_state</th>\n",
       "      <th>num_wildcards</th>\n",
       "    </tr>\n",
       "    <tr>\n",
       "      <th>id</th>\n",
       "      <th></th>\n",
       "      <th></th>\n",
       "      <th></th>\n",
       "      <th></th>\n",
       "    </tr>\n",
       "  </thead>\n",
       "  <tbody>\n",
       "    <tr>\n",
       "      <th>358</th>\n",
       "      <td>globe_3/4</td>\n",
       "      <td>[A, A, C, C, E, E, G, G, A, A, C, C, E, E, G, ...</td>\n",
       "      <td>[C, F, B, F, H, H, E, D, H, E, G, A, G, C, E, ...</td>\n",
       "      <td>2</td>\n",
       "    </tr>\n",
       "    <tr>\n",
       "      <th>359</th>\n",
       "      <td>globe_3/4</td>\n",
       "      <td>[A, A, C, C, E, E, G, G, A, A, C, C, E, E, G, ...</td>\n",
       "      <td>[D, B, G, B, F, E, D, C, F, B, F, E, B, G, H, ...</td>\n",
       "      <td>4</td>\n",
       "    </tr>\n",
       "    <tr>\n",
       "      <th>360</th>\n",
       "      <td>globe_3/4</td>\n",
       "      <td>[A, A, C, C, E, E, G, G, A, A, C, C, E, E, G, ...</td>\n",
       "      <td>[E, E, F, A, D, G, F, H, C, F, A, C, G, B, H, ...</td>\n",
       "      <td>2</td>\n",
       "    </tr>\n",
       "    <tr>\n",
       "      <th>361</th>\n",
       "      <td>globe_3/4</td>\n",
       "      <td>[A, A, C, C, E, E, G, G, A, A, C, C, E, E, G, ...</td>\n",
       "      <td>[C, E, G, H, E, F, F, H, G, E, F, E, B, H, A, ...</td>\n",
       "      <td>0</td>\n",
       "    </tr>\n",
       "    <tr>\n",
       "      <th>362</th>\n",
       "      <td>globe_3/4</td>\n",
       "      <td>[A, A, C, C, E, E, G, G, A, A, C, C, E, E, G, ...</td>\n",
       "      <td>[F, H, D, C, D, E, E, A, A, E, E, F, C, H, D, ...</td>\n",
       "      <td>0</td>\n",
       "    </tr>\n",
       "    <tr>\n",
       "      <th>363</th>\n",
       "      <td>globe_3/4</td>\n",
       "      <td>[A, A, C, C, E, E, G, G, A, A, C, C, E, E, G, ...</td>\n",
       "      <td>[F, D, B, G, H, C, A, C, C, A, H, E, C, F, E, ...</td>\n",
       "      <td>0</td>\n",
       "    </tr>\n",
       "    <tr>\n",
       "      <th>364</th>\n",
       "      <td>globe_3/4</td>\n",
       "      <td>[A, A, C, C, E, E, G, G, A, A, C, C, E, E, G, ...</td>\n",
       "      <td>[E, G, G, H, C, B, B, F, G, H, E, A, C, F, B, ...</td>\n",
       "      <td>0</td>\n",
       "    </tr>\n",
       "    <tr>\n",
       "      <th>365</th>\n",
       "      <td>globe_3/4</td>\n",
       "      <td>[A, A, C, C, E, E, G, G, A, A, C, C, E, E, G, ...</td>\n",
       "      <td>[A, G, B, E, F, G, H, A, B, E, F, C, G, D, A, ...</td>\n",
       "      <td>0</td>\n",
       "    </tr>\n",
       "    <tr>\n",
       "      <th>366</th>\n",
       "      <td>globe_3/4</td>\n",
       "      <td>[A, A, C, C, E, E, G, G, A, A, C, C, E, E, G, ...</td>\n",
       "      <td>[B, C, F, G, B, D, E, H, E, C, F, H, G, B, H, ...</td>\n",
       "      <td>0</td>\n",
       "    </tr>\n",
       "    <tr>\n",
       "      <th>367</th>\n",
       "      <td>globe_3/4</td>\n",
       "      <td>[A, A, C, C, E, E, G, G, A, A, C, C, E, E, G, ...</td>\n",
       "      <td>[D, B, F, G, F, C, A, D, C, E, A, B, F, G, F, ...</td>\n",
       "      <td>0</td>\n",
       "    </tr>\n",
       "    <tr>\n",
       "      <th>368</th>\n",
       "      <td>globe_3/4</td>\n",
       "      <td>[N0, N1, N2, N3, N4, N5, N6, N7, N8, N9, N10, ...</td>\n",
       "      <td>[N4, N6, N5, N7, N0, N1, N26, N25, N14, N13, N...</td>\n",
       "      <td>0</td>\n",
       "    </tr>\n",
       "    <tr>\n",
       "      <th>369</th>\n",
       "      <td>globe_3/4</td>\n",
       "      <td>[N0, N1, N2, N3, N4, N5, N6, N7, N8, N9, N10, ...</td>\n",
       "      <td>[N24, N6, N7, N2, N29, N5, N27, N26, N18, N22,...</td>\n",
       "      <td>0</td>\n",
       "    </tr>\n",
       "    <tr>\n",
       "      <th>370</th>\n",
       "      <td>globe_3/4</td>\n",
       "      <td>[N0, N1, N2, N3, N4, N5, N6, N7, N8, N9, N10, ...</td>\n",
       "      <td>[N1, N28, N6, N2, N26, N7, N0, N29, N11, N16, ...</td>\n",
       "      <td>2</td>\n",
       "    </tr>\n",
       "    <tr>\n",
       "      <th>371</th>\n",
       "      <td>globe_3/4</td>\n",
       "      <td>[N0, N1, N2, N3, N4, N5, N6, N7, N8, N9, N10, ...</td>\n",
       "      <td>[N30, N3, N28, N6, N31, N25, N27, N1, N9, N20,...</td>\n",
       "      <td>0</td>\n",
       "    </tr>\n",
       "    <tr>\n",
       "      <th>372</th>\n",
       "      <td>globe_3/4</td>\n",
       "      <td>[N0, N1, N2, N3, N4, N5, N6, N7, N8, N9, N10, ...</td>\n",
       "      <td>[N5, N28, N1, N30, N29, N27, N4, N6, N20, N12,...</td>\n",
       "      <td>2</td>\n",
       "    </tr>\n",
       "  </tbody>\n",
       "</table>\n",
       "</div>"
      ],
      "text/plain": [
       "    puzzle_type                                     solution_state  \\\n",
       "id                                                                   \n",
       "358   globe_3/4  [A, A, C, C, E, E, G, G, A, A, C, C, E, E, G, ...   \n",
       "359   globe_3/4  [A, A, C, C, E, E, G, G, A, A, C, C, E, E, G, ...   \n",
       "360   globe_3/4  [A, A, C, C, E, E, G, G, A, A, C, C, E, E, G, ...   \n",
       "361   globe_3/4  [A, A, C, C, E, E, G, G, A, A, C, C, E, E, G, ...   \n",
       "362   globe_3/4  [A, A, C, C, E, E, G, G, A, A, C, C, E, E, G, ...   \n",
       "363   globe_3/4  [A, A, C, C, E, E, G, G, A, A, C, C, E, E, G, ...   \n",
       "364   globe_3/4  [A, A, C, C, E, E, G, G, A, A, C, C, E, E, G, ...   \n",
       "365   globe_3/4  [A, A, C, C, E, E, G, G, A, A, C, C, E, E, G, ...   \n",
       "366   globe_3/4  [A, A, C, C, E, E, G, G, A, A, C, C, E, E, G, ...   \n",
       "367   globe_3/4  [A, A, C, C, E, E, G, G, A, A, C, C, E, E, G, ...   \n",
       "368   globe_3/4  [N0, N1, N2, N3, N4, N5, N6, N7, N8, N9, N10, ...   \n",
       "369   globe_3/4  [N0, N1, N2, N3, N4, N5, N6, N7, N8, N9, N10, ...   \n",
       "370   globe_3/4  [N0, N1, N2, N3, N4, N5, N6, N7, N8, N9, N10, ...   \n",
       "371   globe_3/4  [N0, N1, N2, N3, N4, N5, N6, N7, N8, N9, N10, ...   \n",
       "372   globe_3/4  [N0, N1, N2, N3, N4, N5, N6, N7, N8, N9, N10, ...   \n",
       "\n",
       "                                         initial_state  num_wildcards  \n",
       "id                                                                     \n",
       "358  [C, F, B, F, H, H, E, D, H, E, G, A, G, C, E, ...              2  \n",
       "359  [D, B, G, B, F, E, D, C, F, B, F, E, B, G, H, ...              4  \n",
       "360  [E, E, F, A, D, G, F, H, C, F, A, C, G, B, H, ...              2  \n",
       "361  [C, E, G, H, E, F, F, H, G, E, F, E, B, H, A, ...              0  \n",
       "362  [F, H, D, C, D, E, E, A, A, E, E, F, C, H, D, ...              0  \n",
       "363  [F, D, B, G, H, C, A, C, C, A, H, E, C, F, E, ...              0  \n",
       "364  [E, G, G, H, C, B, B, F, G, H, E, A, C, F, B, ...              0  \n",
       "365  [A, G, B, E, F, G, H, A, B, E, F, C, G, D, A, ...              0  \n",
       "366  [B, C, F, G, B, D, E, H, E, C, F, H, G, B, H, ...              0  \n",
       "367  [D, B, F, G, F, C, A, D, C, E, A, B, F, G, F, ...              0  \n",
       "368  [N4, N6, N5, N7, N0, N1, N26, N25, N14, N13, N...              0  \n",
       "369  [N24, N6, N7, N2, N29, N5, N27, N26, N18, N22,...              0  \n",
       "370  [N1, N28, N6, N2, N26, N7, N0, N29, N11, N16, ...              2  \n",
       "371  [N30, N3, N28, N6, N31, N25, N27, N1, N9, N20,...              0  \n",
       "372  [N5, N28, N1, N30, N29, N27, N4, N6, N20, N12,...              2  "
      ]
     },
     "execution_count": 4,
     "metadata": {},
     "output_type": "execute_result"
    }
   ],
   "source": [
    "puzzles.query(\"puzzle_type == 'globe_3/4'\")"
   ]
  },
  {
   "cell_type": "code",
   "execution_count": 5,
   "metadata": {},
   "outputs": [],
   "source": [
    "# Hemisphere operation (180 flip), latitude rotation\n",
    "\n",
    "# The top/bottom, top-1/bottom+1.... independent\n",
    "# all the elements in start = end for palindromic rows\n",
    "# the number of \"displaced elements\" on top = on bottom\n",
    "# in 3 moves, we can do a cyclic rotation of half of the perm for top/bot\n",
    "# all we need to do is ensure the bottom row (N24..N31 end up exactly where they are in the solution state) -> all elements of the top rwo are forced (except the case where answer is just a rotation of top / bottom, all hemisphere operations cancel)\n",
    "# the order of elements on the top will always be in reverse, the order on the bottom is always opposite\n",
    "\n",
    "# For globe 1/8, we can reduce to only three moves -> up shift, down shift, hemisphere (at index 0) shift"
   ]
  },
  {
   "cell_type": "code",
   "execution_count": 35,
   "metadata": {},
   "outputs": [
    {
     "name": "stdout",
     "output_type": "stream",
     "text": [
      "globe_1/8\n",
      "[[ 0  1  2  3  4  5  6  7  8  9 10 11 12 13 14 15]\n",
      " [16 17 18 19 20 21 22 23 24 25 26 27 28 29 30 31]]\n"
     ]
    }
   ],
   "source": [
    "all_moves = {}\n",
    "print(\"globe_1/8\")\n",
    "for m, p in puzzle_info.loc['globe_1/8', 'allowed_moves'].items():\n",
    "    all_moves[m] = Permutation(p)\n",
    "    all_moves['-' + m] = Permutation(p) ** -1\n",
    "\n",
    "# gstate = all_moves['-r0'](gstate)\n",
    "gstate = np.array([i for i in range(32)])\n",
    "print(np.asarray(gstate).reshape(1+1, 2*8))"
   ]
  },
  {
   "cell_type": "code",
   "execution_count": 36,
   "metadata": {},
   "outputs": [],
   "source": [
    "# # Get a initial_state\n",
    "# # gstate = puzzles.query(\"puzzle_type == 'globe_3/4'\").iloc[10]['solution_state']\n",
    "# # gstate = [i for i in range(16)] + ['x' + str(i) for i in range(16)]\n",
    "\n",
    "# gstate = np.array([ 9,  7, 17, 11, 30, 14,  5,  0, 16, 31,  6,  4,  1,  8, 12, 13,\n",
    "#        15, 22, 26, 27,  3, 21, 19, 25, 29, 23, 20, 28,  2, 18, 24, 10])\n",
    "# np.set_printoptions(linewidth=1000)\n",
    "# # Reshape into a grid\n",
    "# print(np.asarray(gstate).reshape(1+1, 2*8))"
   ]
  },
  {
   "cell_type": "code",
   "execution_count": 54,
   "metadata": {},
   "outputs": [
    {
     "name": "stdout",
     "output_type": "stream",
     "text": [
      "[[ 7  8  9 10 11 12 13 14 15  0  1  2  3  4  5  6]\n",
      " [23 24 25 26 27 28 29 30 31 16 17 18 19 20 21 22]]\n"
     ]
    }
   ],
   "source": [
    "gstate = all_moves['f1'](gstate)\n",
    "print(np.asarray(gstate).reshape(1+1, 2*8))"
   ]
  },
  {
   "cell_type": "code",
   "execution_count": 8,
   "metadata": {},
   "outputs": [
    {
     "name": "stdout",
     "output_type": "stream",
     "text": [
      "[[ 9 29 25 19 21  3 27 24 18  2 28 20 23  7 17 13]\n",
      " [15 16  0  5 14 30 11 12  8  1  4  6 31 22 26 10]]\n"
     ]
    }
   ],
   "source": [
    "gstate = all_moves['f7'](gstate)\n",
    "print(np.asarray(gstate).reshape(1+1, 2*8))"
   ]
  },
  {
   "cell_type": "code",
   "execution_count": 53,
   "metadata": {},
   "outputs": [
    {
     "name": "stdout",
     "output_type": "stream",
     "text": [
      "[[ 7 31 30 29 28 27 26 25 24  0  1  2  3  4  5  6]\n",
      " [23 15 14 13 12 11 10  9  8 16 17 18 19 20 21 22]]\n"
     ]
    }
   ],
   "source": [
    "gstate = all_moves['f0'](gstate)\n",
    "print(np.asarray(gstate).reshape(1+1, 2*8))"
   ]
  },
  {
   "cell_type": "code",
   "execution_count": 22,
   "metadata": {},
   "outputs": [
    {
     "name": "stdout",
     "output_type": "stream",
     "text": [
      "[[22 21 20 19 18 17 16  8  9 10 11 12 13 14 15 23]\n",
      " [ 7  6  5  4  3  2  1  0 24 25 26 27 28 29 30 31]]\n"
     ]
    }
   ],
   "source": [
    "gstate = all_moves['r0'](gstate)\n",
    "print(np.asarray(gstate).reshape(1+1, 2*8))"
   ]
  },
  {
   "cell_type": "code",
   "execution_count": 51,
   "metadata": {},
   "outputs": [
    {
     "name": "stdout",
     "output_type": "stream",
     "text": [
      "[[ 9 10 11 12 13 14 15 23 24  0  1  2  3  4  5  6]\n",
      " [26 27 28 29 30 31  7  8 16 17 18 19 20 21 22 25]]\n"
     ]
    }
   ],
   "source": [
    "gstate = all_moves['-r0'](gstate)\n",
    "\n",
    "print(np.asarray(gstate).reshape(1+1, 2*8))"
   ]
  },
  {
   "cell_type": "code",
   "execution_count": 52,
   "metadata": {},
   "outputs": [
    {
     "name": "stdout",
     "output_type": "stream",
     "text": [
      "[[ 9 10 11 12 13 14 15 23 24  0  1  2  3  4  5  6]\n",
      " [25 26 27 28 29 30 31  7  8 16 17 18 19 20 21 22]]\n"
     ]
    }
   ],
   "source": [
    "gstate = all_moves['-r1'](gstate)\n",
    "\n",
    "print(np.asarray(gstate).reshape(1+1, 2*8))"
   ]
  },
  {
   "cell_type": "code",
   "execution_count": 24,
   "metadata": {},
   "outputs": [
    {
     "name": "stdout",
     "output_type": "stream",
     "text": [
      "[[22 21 20 19 18 17 16  8  9 10 11 12 13 14 15 23]\n",
      " [ 5  4  3  2  1  0 24 25 26 27 28 29 30 31  7  6]]\n"
     ]
    }
   ],
   "source": [
    "gstate = all_moves['r1'](gstate)\n",
    "\n",
    "print(np.asarray(gstate).reshape(1+1, 2*8))"
   ]
  },
  {
   "cell_type": "code",
   "execution_count": 14,
   "metadata": {},
   "outputs": [
    {
     "ename": "NameError",
     "evalue": "name 'half_turn' is not defined",
     "output_type": "error",
     "traceback": [
      "\u001b[0;31m---------------------------------------------------------------------------\u001b[0m",
      "\u001b[0;31mNameError\u001b[0m                                 Traceback (most recent call last)",
      "Cell \u001b[0;32mIn[14], line 1\u001b[0m\n\u001b[0;32m----> 1\u001b[0m gstate \u001b[38;5;241m=\u001b[39m \u001b[43mhalf_turn\u001b[49m(gstate)\n\u001b[1;32m      2\u001b[0m \u001b[38;5;28mprint\u001b[39m(np\u001b[38;5;241m.\u001b[39masarray(gstate)\u001b[38;5;241m.\u001b[39mreshape(\u001b[38;5;241m1\u001b[39m\u001b[38;5;241m+\u001b[39m\u001b[38;5;241m1\u001b[39m, \u001b[38;5;241m2\u001b[39m\u001b[38;5;241m*\u001b[39m\u001b[38;5;241m8\u001b[39m))\n",
      "\u001b[0;31mNameError\u001b[0m: name 'half_turn' is not defined"
     ]
    }
   ],
   "source": [
    "gstate = half_turn(gstate)\n",
    "print(np.asarray(gstate).reshape(1+1, 2*8))"
   ]
  },
  {
   "cell_type": "code",
   "execution_count": 158,
   "metadata": {},
   "outputs": [
    {
     "name": "stdout",
     "output_type": "stream",
     "text": [
      "[[ 1  2  3  4  5  6  7 23  8  9 10 11 12 13 14 15]\n",
      " [ 0 16 17 18 19 20 21 22 24 25 26 27 28 29 30 31]]\n",
      "[[16  0  1  2  3  4  5  6  8  9 10 11 12 13 14 15]\n",
      " [17 18 19 20 21 22 23  7 24 25 26 27 28 29 30 31]]\n"
     ]
    }
   ],
   "source": [
    "def half_turn(gstate):\n",
    "    gstate = all_moves['-r0'](gstate)\n",
    "    gstate = all_moves['-r0'](gstate)\n",
    "    gstate = all_moves['-r0'](gstate)\n",
    "    gstate = all_moves['-r0'](gstate)\n",
    "    gstate = all_moves['-r0'](gstate)\n",
    "    gstate = all_moves['-r0'](gstate)\n",
    "    gstate = all_moves['-r0'](gstate)\n",
    "    gstate = all_moves['-r0'](gstate)\n",
    "    \n",
    "    gstate = all_moves['f0'](gstate)\n",
    "    gstate = all_moves['r0'](gstate)\n",
    "    gstate = all_moves['f0'](gstate)\n",
    "    \n",
    "    gstate = all_moves['r0'](gstate)\n",
    "    gstate = all_moves['r0'](gstate)\n",
    "    gstate = all_moves['r0'](gstate)\n",
    "    gstate = all_moves['r0'](gstate)\n",
    "    gstate = all_moves['r0'](gstate)\n",
    "    gstate = all_moves['r0'](gstate)\n",
    "    gstate = all_moves['r0'](gstate)\n",
    "    gstate = all_moves['r0'](gstate)\n",
    "    return gstate\n",
    "\n",
    "print(np.asarray(half_turn(gstate)).reshape(1+1, 2*8))\n",
    "\n",
    "def rev_half_turn(gstate):\n",
    "    gstate = all_moves['-r0'](gstate)\n",
    "    gstate = all_moves['-r0'](gstate)\n",
    "    gstate = all_moves['-r0'](gstate)\n",
    "    gstate = all_moves['-r0'](gstate)\n",
    "    gstate = all_moves['-r0'](gstate)\n",
    "    gstate = all_moves['-r0'](gstate)\n",
    "    gstate = all_moves['-r0'](gstate)\n",
    "    gstate = all_moves['-r0'](gstate)\n",
    "    \n",
    "    gstate = all_moves['f0'](gstate)\n",
    "    gstate = all_moves['-r0'](gstate)\n",
    "    gstate = all_moves['f0'](gstate)\n",
    "    \n",
    "    gstate = all_moves['r0'](gstate)\n",
    "    gstate = all_moves['r0'](gstate)\n",
    "    gstate = all_moves['r0'](gstate)\n",
    "    gstate = all_moves['r0'](gstate)\n",
    "    gstate = all_moves['r0'](gstate)\n",
    "    gstate = all_moves['r0'](gstate)\n",
    "    gstate = all_moves['r0'](gstate)\n",
    "    gstate = all_moves['r0'](gstate)\n",
    "    return gstate\n",
    "\n",
    "\n",
    "print(np.asarray(rev_half_turn(gstate)).reshape(1+1, 2*8))"
   ]
  },
  {
   "cell_type": "code",
   "execution_count": 159,
   "metadata": {},
   "outputs": [
    {
     "name": "stdout",
     "output_type": "stream",
     "text": [
      "[[ 1  0  2  3  4  5  6  7  8  9 10 11 12 13 14 15]\n",
      " [17 16 18 19 20 21 22 23 24 25 26 27 28 29 30 31]]\n"
     ]
    }
   ],
   "source": [
    "gstate = np.array([i for i in range(32)])\n",
    "\n",
    "def swap_helper(gstate):\n",
    "    gstate = half_turn(gstate)\n",
    "    gstate = all_moves['r0'](gstate)\n",
    "    gstate = all_moves['r0'](gstate)\n",
    "    gstate = all_moves['r0'](gstate)\n",
    "    gstate = all_moves['r0'](gstate)\n",
    "    gstate = all_moves['r0'](gstate)\n",
    "    gstate = all_moves['r0'](gstate)\n",
    "    gstate = all_moves['r0'](gstate)\n",
    "\n",
    "    gstate = all_moves['-r1'](gstate)\n",
    "    gstate = all_moves['-r1'](gstate)\n",
    "    gstate = all_moves['-r1'](gstate)\n",
    "    gstate = all_moves['-r1'](gstate)\n",
    "    gstate = all_moves['-r1'](gstate)\n",
    "    gstate = all_moves['-r1'](gstate)\n",
    "    gstate = all_moves['-r1'](gstate)\n",
    "\n",
    "    gstate = half_turn(gstate)\n",
    "    \n",
    "    return gstate\n",
    "\n",
    "swap_helper(gstate)\n",
    "\n",
    "def swap_starts(gstate):\n",
    "    gstate = all_moves['r0'](gstate)\n",
    "    gstate = all_moves['-r1'](gstate)\n",
    "    gstate = all_moves['-r1'](gstate)\n",
    "    gstate = all_moves['-r1'](gstate)\n",
    "    gstate = all_moves['-r1'](gstate)\n",
    "    gstate = all_moves['-r1'](gstate)\n",
    "    gstate = all_moves['-r1'](gstate)\n",
    "    gstate = all_moves['-r1'](gstate)\n",
    "\n",
    "    gstate = swap_helper(gstate)\n",
    "    \n",
    "    gstate = all_moves['-r1'](gstate)\n",
    "    gstate = all_moves['r0'](gstate)\n",
    "    gstate = all_moves['r0'](gstate)\n",
    "    gstate = all_moves['r0'](gstate)\n",
    "    gstate = all_moves['r0'](gstate)\n",
    "    gstate = all_moves['r0'](gstate)\n",
    "    gstate = all_moves['r0'](gstate)\n",
    "    gstate = all_moves['r0'](gstate)\n",
    "\n",
    "    return gstate\n",
    "\n",
    "print(np.asarray(swap_starts(gstate)).reshape(1+1, 2*8))"
   ]
  },
  {
   "cell_type": "code",
   "execution_count": null,
   "metadata": {},
   "outputs": [],
   "source": []
  },
  {
   "cell_type": "code",
   "execution_count": 160,
   "metadata": {},
   "outputs": [
    {
     "data": {
      "text/plain": [
       "array([[ 0,  1,  2,  3,  4,  5,  6,  7,  8,  9, 10, 11, 12, 13, 14, 15],\n",
       "       [16, 17, 18, 19, 20, 21, 22, 23, 24, 25, 26, 27, 28, 29, 30, 31]])"
      ]
     },
     "execution_count": 160,
     "metadata": {},
     "output_type": "execute_result"
    }
   ],
   "source": [
    "def is_sorted_top_bottom(gstate):\n",
    "    for i in range(16):\n",
    "        if gstate[i] >= 16:\n",
    "            return False\n",
    "    for i in range(16, 32):\n",
    "        if gstate[i] < 16:\n",
    "            return False\n",
    "\n",
    "    return True\n",
    "\n",
    "def sort_top_bottom(gstate):\n",
    "    while not is_sorted_top_bottom(gstate):\n",
    "        bad_top, bad_bottom = -1, -1\n",
    "\n",
    "        for i in range(16):\n",
    "            if gstate[i] >= 16:\n",
    "                bad_top = i\n",
    "                break\n",
    "\n",
    "\n",
    "        for i in range(16, 32):\n",
    "            if gstate[i] < 16:\n",
    "                bad_bottom = i - 16\n",
    "                break\n",
    "\n",
    "        \n",
    "        print('A', np.asarray(gstate).reshape(1+1, 2*8))\n",
    "        # Set up for half turn\n",
    "        for i in range(bad_top):\n",
    "            # cyclic shift left\n",
    "            gstate = all_moves['r0'](gstate)\n",
    "\n",
    "        for i in range(bad_bottom):\n",
    "            gstate = all_moves['r1'](gstate)\n",
    "\n",
    "        for i in range(7):\n",
    "            gstate = all_moves['-r1'](gstate)\n",
    "\n",
    "\n",
    "        print('B', np.asarray(gstate).reshape(1+1, 2*8))\n",
    "\n",
    "        gstate = half_turn(gstate)\n",
    "\n",
    "        print('C', np.asarray(gstate).reshape(1+1, 2*8))\n",
    "    return gstate\n",
    "\n",
    "gstate = sort_top_bottom(gstate)\n",
    "np.asarray(gstate).reshape(1+1, 2*8)"
   ]
  },
  {
   "cell_type": "code",
   "execution_count": 161,
   "metadata": {},
   "outputs": [
    {
     "data": {
      "text/plain": [
       "array([[ 0,  1,  2,  3,  4,  5,  6,  7,  8,  9, 10, 11, 12, 13, 14, 15],\n",
       "       [16, 17, 18, 19, 20, 21, 22, 23, 24, 25, 26, 27, 28, 29, 30, 31]])"
      ]
     },
     "execution_count": 161,
     "metadata": {},
     "output_type": "execute_result"
    }
   ],
   "source": [
    "np.asarray(gstate).reshape(1+1, 2*8)"
   ]
  },
  {
   "cell_type": "code",
   "execution_count": 162,
   "metadata": {},
   "outputs": [
    {
     "ename": "NameError",
     "evalue": "name 'adj_rot_bot_idx' is not defined",
     "output_type": "error",
     "traceback": [
      "\u001b[0;31m---------------------------------------------------------------------------\u001b[0m",
      "\u001b[0;31mNameError\u001b[0m                                 Traceback (most recent call last)",
      "Cell \u001b[0;32mIn[162], line 1\u001b[0m\n\u001b[0;32m----> 1\u001b[0m gstate \u001b[38;5;241m=\u001b[39m \u001b[43madj_rot_bot_idx\u001b[49m(gstate, \u001b[38;5;241m1\u001b[39m)\n",
      "\u001b[0;31mNameError\u001b[0m: name 'adj_rot_bot_idx' is not defined"
     ]
    }
   ],
   "source": [
    "gstate = adj_rot_bot_idx(gstate, 1)"
   ]
  },
  {
   "cell_type": "code",
   "execution_count": 180,
   "metadata": {},
   "outputs": [
    {
     "name": "stdout",
     "output_type": "stream",
     "text": [
      "A [[ 0  1  2  3  4  5  6  7  8  9 10 11 12 13 14 24]\n",
      " [17 16 18 19 20 21 22 23 15 25 26 27 28 29 30 31]]\n",
      "B [[24  0  1  2  3  4  5  6  7  8  9 10 11 12 13 14]\n",
      " [16 18 19 20 21 22 23 15 25 26 27 28 29 30 31 17]]\n",
      "C [[ 0  1  2  3  4  5  6 15  7  8  9 10 11 12 13 14]\n",
      " [24 16 18 19 20 21 22 23 25 26 27 28 29 30 31 17]]\n"
     ]
    }
   ],
   "source": [
    "# def adj_rot_top():\n",
    "    \n",
    "\n",
    "a = [i for i in range(32)]\n",
    "\n",
    "def adj_rot_bot(a):\n",
    "    a = all_moves['f0'](a)\n",
    "    a = all_moves['-r0'](a)\n",
    "    a = all_moves['f0'](a)\n",
    "\n",
    "    a = all_moves['r1'](a)\n",
    "\n",
    "    a = all_moves['f0'](a)\n",
    "    a = all_moves['r0'](a)\n",
    "    a = all_moves['f0'](a)\n",
    "\n",
    "    a = all_moves['-r1'](a)\n",
    "    a = sort_top_bottom(a)\n",
    "\n",
    "    # for i in range(8):\n",
    "    #     a = all_moves['r1'](a)\n",
    "    #     a = all_moves['r0'](a)\n",
    "\n",
    "    # a = rev_half_turn(a)\n",
    "\n",
    "    # for i in range(8):\n",
    "    #     a = all_moves['-r1'](a)\n",
    "    #     a = all_moves['-r0'](a)\n",
    "    \n",
    "    return a\n",
    "\n",
    "\n",
    "\n",
    "# swaps i, i+1\n",
    "def adj_rot_bot_idx(a, i):\n",
    "    for j in range(i):\n",
    "        a = all_moves['r1'](a)\n",
    "\n",
    "    a = adj_rot_bot(a)\n",
    "\n",
    "    for j in range(i):\n",
    "        a = all_moves['-r1'](a)\n",
    "\n",
    "    return a\n",
    "        \n",
    "# [[ 0  1  2  3  4  5  6  7 14 15  8  9 10 11 12 13]\n",
    "#  [16 17 18 19 20 21 22 23 26 27 28 29 30 31 24 25]]\n",
    "def move_two_to_end(a):\n",
    "    a = adj_rot_bot(a)\n",
    "    a = adj_rot_bot(a)\n",
    "    return a\n",
    "\n",
    "a = adj_rot_bot(a)"
   ]
  },
  {
   "cell_type": "code",
   "execution_count": 181,
   "metadata": {},
   "outputs": [
    {
     "name": "stdout",
     "output_type": "stream",
     "text": [
      "[[ 0  1  2  3  4  5  6 15  7  8  9 10 11 12 13 14]\n",
      " [24 16 18 19 20 21 22 23 25 26 27 28 29 30 31 17]]\n"
     ]
    }
   ],
   "source": [
    "print(np.asarray(a).reshape(1+1, 2*8))"
   ]
  },
  {
   "cell_type": "code",
   "execution_count": 19,
   "metadata": {
    "collapsed": false,
    "jupyter": {
     "outputs_hidden": false
    }
   },
   "outputs": [
    {
     "data": {
      "text/plain": [
       "array([['N0', 'N1', 'N2', 'N3', 'N4', 'N5', 'N6', 'N7'],\n",
       "       ['N8', 'N9', 'N10', 'N11', 'N12', 'N13', 'N14', 'N15'],\n",
       "       ['N16', 'N17', 'N18', 'N19', 'N20', 'N21', 'N22', 'N23'],\n",
       "       ['N24', 'N25', 'N26', 'N27', 'N28', 'N29', 'N30', 'N31']],\n",
       "      dtype='<U3')"
      ]
     },
     "execution_count": 19,
     "metadata": {},
     "output_type": "execute_result"
    }
   ],
   "source": [
    "# Get a solution_state\n",
    "ss_globe34 = puzzles.query(\"puzzle_type == 'globe_3/4'\").iloc[10]['solution_state']\n",
    "\n",
    "# Reshape into a grid\n",
    "np.asarray(ss_globe34).reshape(3+1, 2*4)"
   ]
  },
  {
   "cell_type": "markdown",
   "metadata": {
    "collapsed": false,
    "jupyter": {
     "outputs_hidden": false
    }
   },
   "source": [
    "There is a move for each lateral layer (the `r`s) and a move for each half (the `f`s). The `r` moves shift a layer by one position laterally, while the `f` moves shift one half of the globe by a half-twist."
   ]
  },
  {
   "cell_type": "code",
   "execution_count": 20,
   "metadata": {
    "collapsed": false,
    "jupyter": {
     "outputs_hidden": false
    }
   },
   "outputs": [
    {
     "name": "stdout",
     "output_type": "stream",
     "text": [
      "globe_3/4\n",
      "r0: (31)(0 1 2 3 4 5 6 7)\n",
      "r1: (31)(8 9 10 11 12 13 14 15)\n",
      "r2: (31)(16 17 18 19 20 21 22 23)\n",
      "r3: (24 25 26 27 28 29 30 31)\n",
      "f0: (31)(0 27)(1 26)(2 25)(3 24)(8 19)(9 18)(10 17)(11 16)\n",
      "f1: (31)(1 28)(2 27)(3 26)(4 25)(9 20)(10 19)(11 18)(12 17)\n",
      "f2: (31)(2 29)(3 28)(4 27)(5 26)(10 21)(11 20)(12 19)(13 18)\n",
      "f3: (31)(3 30)(4 29)(5 28)(6 27)(11 22)(12 21)(13 20)(14 19)\n",
      "f4: (4 31)(5 30)(6 29)(7 28)(12 23)(13 22)(14 21)(15 20)\n",
      "f5: (0 29)(5 24)(6 31)(7 30)(8 21)(13 16)(14 23)(15 22)\n",
      "f6: (0 31)(1 30)(6 25)(7 24)(8 23)(9 22)(14 17)(15 16)\n",
      "f7: (0 25)(1 24)(2 31)(7 26)(8 17)(9 16)(10 23)(15 18)\n"
     ]
    }
   ],
   "source": [
    "all_moves = {}\n",
    "print(\"globe_3/4\")\n",
    "for m, p in puzzle_info.loc['globe_3/4', 'allowed_moves'].items():\n",
    "    all_moves[m] = Permutation(p)\n",
    "    print(f\"{m}: {Permutation(p)}\")"
   ]
  },
  {
   "cell_type": "code",
   "execution_count": 21,
   "metadata": {},
   "outputs": [
    {
     "data": {
      "text/plain": [
       "array([['I', 'P', 'O', 'A', 'A', 'D', 'F', 'L', 'J', 'M', 'G', 'M', 'P',\n",
       "        'F', 'E', 'J'],\n",
       "       ['E', 'B', 'O', 'G', 'H', 'D', 'N', 'L', 'N', 'I', 'B', 'K', 'C',\n",
       "        'C', 'K', 'H']], dtype='<U1')"
      ]
     },
     "execution_count": 21,
     "metadata": {},
     "output_type": "execute_result"
    }
   ],
   "source": [
    "# Get a initial_state\n",
    "initial_state = puzzles.query(\"puzzle_type == 'globe_1/8'\").iloc[0]['initial_state']\n",
    "\n",
    "# Reshape into a grid\n",
    "np.asarray(initial_state).reshape(1+1, 2*8)"
   ]
  },
  {
   "cell_type": "code",
   "execution_count": 22,
   "metadata": {},
   "outputs": [
    {
     "name": "stdout",
     "output_type": "stream",
     "text": [
      "r0: [1, 2, 3, 4, 5, 6, 7, 8, 9, 10, 11, 12, 13, 14, 15, 0, 16, 17, 18, 19, 20, 21, 22, 23, 24, 25, 26, 27, 28, 29, 30, 31]\n",
      "r1: [0, 1, 2, 3, 4, 5, 6, 7, 8, 9, 10, 11, 12, 13, 14, 15, 17, 18, 19, 20, 21, 22, 23, 24, 25, 26, 27, 28, 29, 30, 31, 16]\n",
      "f0: [23, 22, 21, 20, 19, 18, 17, 16, 8, 9, 10, 11, 12, 13, 14, 15, 7, 6, 5, 4, 3, 2, 1, 0, 24, 25, 26, 27, 28, 29, 30, 31]\n",
      "f1: [0, 24, 23, 22, 21, 20, 19, 18, 17, 9, 10, 11, 12, 13, 14, 15, 16, 8, 7, 6, 5, 4, 3, 2, 1, 25, 26, 27, 28, 29, 30, 31]\n",
      "f2: [0, 1, 25, 24, 23, 22, 21, 20, 19, 18, 10, 11, 12, 13, 14, 15, 16, 17, 9, 8, 7, 6, 5, 4, 3, 2, 26, 27, 28, 29, 30, 31]\n",
      "f3: [0, 1, 2, 26, 25, 24, 23, 22, 21, 20, 19, 11, 12, 13, 14, 15, 16, 17, 18, 10, 9, 8, 7, 6, 5, 4, 3, 27, 28, 29, 30, 31]\n",
      "f4: [0, 1, 2, 3, 27, 26, 25, 24, 23, 22, 21, 20, 12, 13, 14, 15, 16, 17, 18, 19, 11, 10, 9, 8, 7, 6, 5, 4, 28, 29, 30, 31]\n",
      "f5: [0, 1, 2, 3, 4, 28, 27, 26, 25, 24, 23, 22, 21, 13, 14, 15, 16, 17, 18, 19, 20, 12, 11, 10, 9, 8, 7, 6, 5, 29, 30, 31]\n",
      "f6: [0, 1, 2, 3, 4, 5, 29, 28, 27, 26, 25, 24, 23, 22, 14, 15, 16, 17, 18, 19, 20, 21, 13, 12, 11, 10, 9, 8, 7, 6, 30, 31]\n",
      "f7: [0, 1, 2, 3, 4, 5, 6, 30, 29, 28, 27, 26, 25, 24, 23, 15, 16, 17, 18, 19, 20, 21, 22, 14, 13, 12, 11, 10, 9, 8, 7, 31]\n",
      "f8: [0, 1, 2, 3, 4, 5, 6, 7, 31, 30, 29, 28, 27, 26, 25, 24, 16, 17, 18, 19, 20, 21, 22, 23, 15, 14, 13, 12, 11, 10, 9, 8]\n",
      "f9: [25, 1, 2, 3, 4, 5, 6, 7, 8, 16, 31, 30, 29, 28, 27, 26, 9, 17, 18, 19, 20, 21, 22, 23, 24, 0, 15, 14, 13, 12, 11, 10]\n",
      "f10: [27, 26, 2, 3, 4, 5, 6, 7, 8, 9, 17, 16, 31, 30, 29, 28, 11, 10, 18, 19, 20, 21, 22, 23, 24, 25, 1, 0, 15, 14, 13, 12]\n",
      "f11: [29, 28, 27, 3, 4, 5, 6, 7, 8, 9, 10, 18, 17, 16, 31, 30, 13, 12, 11, 19, 20, 21, 22, 23, 24, 25, 26, 2, 1, 0, 15, 14]\n",
      "f12: [31, 30, 29, 28, 4, 5, 6, 7, 8, 9, 10, 11, 19, 18, 17, 16, 15, 14, 13, 12, 20, 21, 22, 23, 24, 25, 26, 27, 3, 2, 1, 0]\n",
      "f13: [17, 16, 31, 30, 29, 5, 6, 7, 8, 9, 10, 11, 12, 20, 19, 18, 1, 0, 15, 14, 13, 21, 22, 23, 24, 25, 26, 27, 28, 4, 3, 2]\n",
      "f14: [19, 18, 17, 16, 31, 30, 6, 7, 8, 9, 10, 11, 12, 13, 21, 20, 3, 2, 1, 0, 15, 14, 22, 23, 24, 25, 26, 27, 28, 29, 5, 4]\n",
      "f15: [21, 20, 19, 18, 17, 16, 31, 7, 8, 9, 10, 11, 12, 13, 14, 22, 5, 4, 3, 2, 1, 0, 15, 23, 24, 25, 26, 27, 28, 29, 30, 6]\n"
     ]
    }
   ],
   "source": [
    "all_moves = {}\n",
    "for m, p in puzzle_info.loc['globe_1/8', 'allowed_moves'].items():\n",
    "    all_moves[m] = np.array(p)\n",
    "    # all_moves[m] = Permutation(p)\n",
    "#     print(f\"{m}: {Permutation(p)}\")\n",
    "    print(f\"{m}: {p}\")"
   ]
  },
  {
   "cell_type": "code",
   "execution_count": 170,
   "metadata": {},
   "outputs": [
    {
     "name": "stdout",
     "output_type": "stream",
     "text": [
      "[[0, 'f0', 31, 'f0', 16, 'f0', 17, 'f0', 144, 'f0', 31, 'f0', 144, 'f0', 31, 'f0', 16, 'f0', 17, 'f0', 144, 'f0', 31, 'f0', 144], [0, 'f0', 16, 'f0', 17, 'f0', 16, 'f0', 39, 'f0', 16, 'f0', 136, 'f0', 16, 'f0', 17, 'f0', 16, 'f0', 39, 'f0', 16, 'f0', 136]]\n"
     ]
    },
    {
     "data": {
      "text/plain": [
       "['f0',\n",
       " '-r0',\n",
       " 'f0',\n",
       " 'r1',\n",
       " 'f0',\n",
       " 'r0',\n",
       " 'f0',\n",
       " 'r1',\n",
       " 'r1',\n",
       " 'r1',\n",
       " 'r1',\n",
       " 'r1',\n",
       " 'r1',\n",
       " 'r1',\n",
       " 'f0',\n",
       " '-r0',\n",
       " 'f0',\n",
       " 'r1',\n",
       " 'r1',\n",
       " 'r1',\n",
       " 'r1',\n",
       " 'r1',\n",
       " 'r1',\n",
       " 'r1',\n",
       " 'r1',\n",
       " 'f0',\n",
       " '-r0',\n",
       " 'f0',\n",
       " 'r1',\n",
       " 'f0',\n",
       " 'r0',\n",
       " 'f0',\n",
       " 'r1',\n",
       " 'r1',\n",
       " 'r1',\n",
       " 'r1',\n",
       " 'r1',\n",
       " 'r1',\n",
       " 'r1',\n",
       " 'f0',\n",
       " '-r0',\n",
       " 'f0',\n",
       " 'r1',\n",
       " 'r1',\n",
       " 'r1',\n",
       " 'r1',\n",
       " 'r1',\n",
       " 'r1',\n",
       " 'r1',\n",
       " 'r1']"
      ]
     },
     "execution_count": 170,
     "metadata": {},
     "output_type": "execute_result"
    }
   ],
   "source": [
    "def expand(path, n = 2, m = 16):    \n",
    "    rows = [[] for _ in range(n)]\n",
    "    \n",
    "    def expand_f(x):\n",
    "        for i in range(n):\n",
    "            rows[i].append(x)\n",
    "            rows[i].append('f0')\n",
    "            rows[i].append(m - x)\n",
    "    \n",
    "    for i in path:\n",
    "        if 'f' in i:\n",
    "            if '-' in i:\n",
    "                expand_f(int(i[2:]))\n",
    "            else:\n",
    "                expand_f(int(i[1:]))\n",
    "        else:\n",
    "            for j in range(n):\n",
    "                temp = 'r' + str(j)\n",
    "\n",
    "                if temp == i:\n",
    "                    rows[j].append(1)\n",
    "                    \n",
    "                temp = '-r' + str(j)\n",
    "\n",
    "                if temp == i:\n",
    "                    rows[j].append(m-1)\n",
    "\n",
    "    Rrows = [[] for _ in range(n)]\n",
    "\n",
    "    for r in range(n):\n",
    "        run = 0\n",
    "        for i in rows[r]:\n",
    "            if type(i) == type(0):\n",
    "                run += i\n",
    "            else:\n",
    "                Rrows[r].append(run)\n",
    "                Rrows[r].append('f0')\n",
    "                run = 0\n",
    "            \n",
    "        Rrows[r].append(run)\n",
    "    \n",
    "    return Rrows\n",
    "\n",
    "def shrink(rows, n = 2, m = 16):\n",
    "    for i in range(len(rows[0])):\n",
    "        mn = int(1e9)\n",
    "        for j in range(n):\n",
    "            if type(rows[j][i]) == type(1):\n",
    "                rows[j][i] %= m\n",
    "            else:\n",
    "                mn = min(mn, rows[j][i-1])\n",
    "        \n",
    "        for j in range(n):  \n",
    "            if type(rows[j][i]) == type('string'):\n",
    "                rows[j][i-1] -= mn\n",
    "                rows[j][i] = 'f' + str(mn)\n",
    "                rows[j][i+1] += mn\n",
    "    \n",
    "    final_moves = []\n",
    "    for i in range(len(rows[0])):\n",
    "        if type(rows[0][i]) == type('string'):\n",
    "            final_moves.append(rows[0][i])\n",
    "            continue\n",
    "\n",
    "        for j in range(n):\n",
    "            if rows[j][i] > m/2:\n",
    "                final_moves = final_moves + ['-r' + str(j)] * (m - rows[j][i])\n",
    "            else:\n",
    "                final_moves = final_moves + ['r' + str(j)] * (rows[j][i])\n",
    "\n",
    "    final_final_moves = []\n",
    "    i = 0\n",
    "    while i < len(final_moves):\n",
    "        if i != len(final_moves) - 1 and ('f' in final_moves[i]) and final_moves[i] == final_moves[i+1]:\n",
    "            i += 2\n",
    "        else:\n",
    "            final_final_moves.append(final_moves[i])\n",
    "            i += 1\n",
    "    \n",
    "    return final_final_moves\n",
    "\n",
    "def ex_red(moves):\n",
    "    ex = expand(moves)\n",
    "    return shrink(ex)\n",
    "\n",
    "# ex = expand(sample_submission['moves'][idx].split('.'), N, M)\n",
    "input = ['f0', '-r0', 'f0', 'r1', 'f0', 'r0', 'f0', '-r1'] + ['r1'] * 8 + ['r0'] * 8 + ['-r0'] * 8 + ['f0', '-r0', 'f0'] + ['r0'] * 8 + ['-r1'] * 8 + ['-r0'] * 8\n",
    "\n",
    "input = input + input\n",
    "ex = expand(input, 2, 16)\n",
    "print(ex)\n",
    "res = shrink(ex, 2, 16)\n",
    "res"
   ]
  },
  {
   "cell_type": "code",
   "execution_count": 172,
   "metadata": {},
   "outputs": [
    {
     "name": "stdout",
     "output_type": "stream",
     "text": [
      "12\n"
     ]
    }
   ],
   "source": [
    "cnt_f0s = 0\n",
    "for i in res:\n",
    "    if i == 'f0':\n",
    "        cnt_f0s+=1\n",
    "\n",
    "print(cnt_f0s)"
   ]
  },
  {
   "cell_type": "code",
   "execution_count": 173,
   "metadata": {},
   "outputs": [
    {
     "name": "stdout",
     "output_type": "stream",
     "text": [
      "[[ 0  1  2  3  4  5  6  7 14 15  8  9 10 11 12 13]\n",
      " [16 17 18 19 20 21 22 23 26 27 28 29 30 31 24 25]]\n"
     ]
    }
   ],
   "source": [
    "test_globe = np.array([i for i in range(2 * 16)])\n",
    "for i in input:\n",
    "    test_globe = all_moves[i](test_globe)\n",
    "\n",
    "print(np.asarray(test_globe).reshape(1+1, 2*8))"
   ]
  },
  {
   "cell_type": "code",
   "execution_count": 23,
   "metadata": {},
   "outputs": [],
   "source": [
    "import matplotlib.pyplot as plt\n",
    "from scipy import stats\n",
    "import numpy as np\n",
    "from numba import jit\n",
    "import pstats\n",
    "import heapq\n",
    "import time\n",
    "import cProfile\n",
    "import pandas as pd"
   ]
  },
  {
   "cell_type": "code",
   "execution_count": 24,
   "metadata": {},
   "outputs": [],
   "source": [
    "@jit(nopython=True, parallel = True, fastmath = True)\n",
    "def hash_perm(perm):\n",
    "    base = 9973\n",
    "    modb = 1000000007\n",
    "    modc = 1000000009\n",
    "\n",
    "    B, C = 0, 0\n",
    "    for i in perm:\n",
    "        B = (B * base) % modb + i\n",
    "        C = (C * base) % modc + i\n",
    "\n",
    "    return str(B) + str(C)"
   ]
  },
  {
   "cell_type": "code",
   "execution_count": 25,
   "metadata": {},
   "outputs": [
    {
     "name": "stdout",
     "output_type": "stream",
     "text": [
      "[0 0 0 ... 0 0 0]\n"
     ]
    }
   ],
   "source": [
    "# 1e6 ~ 2 seconds\n",
    "mx_mem = int(1e7)\n",
    "mem_idx = 0\n",
    "\n",
    "last_state = np.zeros(mx_mem, dtype=int)\n",
    "last_move = np.zeros(mx_mem, dtype=int)\n",
    "cur_state = np.array([np.array([]) for i in range(mx_mem)])\n",
    "\n",
    "print(last_state)"
   ]
  },
  {
   "cell_type": "code",
   "execution_count": 26,
   "metadata": {},
   "outputs": [],
   "source": [
    "# M = np.array([all_moves['r0'], all_moves['r1'], all_moves['f0']])\n",
    "M = np.array([[ 1,  2,  3,  4,  5,  6,  7,  8,  9, 10, 11, 12, 13, 14, 15,  0,\n",
    "        16, 17, 18, 19, 20, 21, 22, 23, 24, 25, 26, 27, 28, 29, 30, 31],\n",
    "       [ 0,  1,  2,  3,  4,  5,  6,  7,  8,  9, 10, 11, 12, 13, 14, 15,\n",
    "        17, 18, 19, 20, 21, 22, 23, 24, 25, 26, 27, 28, 29, 30, 31, 16],\n",
    "       [23, 22, 21, 20, 19, 18, 17, 16,  8,  9, 10, 11, 12, 13, 14, 15,\n",
    "         7,  6,  5,  4,  3,  2,  1,  0, 24, 25, 26, 27, 28, 29, 30, 31]])"
   ]
  },
  {
   "cell_type": "code",
   "execution_count": 27,
   "metadata": {},
   "outputs": [
    {
     "name": "stderr",
     "output_type": "stream",
     "text": [
      "/opt/homebrew/lib/python3.11/site-packages/numba/core/typed_passes.py:334: NumbaPerformanceWarning: \n",
      "The keyword argument 'parallel=True' was specified but no transformation for parallel execution was possible.\n",
      "\n",
      "To find out why, try turning on parallel diagnostics, see https://numba.readthedocs.io/en/stable/user/parallel.html#diagnostics for help.\n",
      "\n",
      "File \"../../../../../var/folders/kd/99328vjn0zlc1kls78_rwvdh0000gn/T/ipykernel_28049/3020915523.py\", line 1:\n",
      "<source missing, REPL/exec in use?>\n",
      "\n",
      "  warnings.warn(errors.NumbaPerformanceWarning(msg,\n"
     ]
    },
    {
     "ename": "IndexError",
     "evalue": "index 1 is out of bounds for axis 0 with size 0",
     "output_type": "error",
     "traceback": [
      "\u001b[0;31m---------------------------------------------------------------------------\u001b[0m",
      "\u001b[0;31mIndexError\u001b[0m                                Traceback (most recent call last)",
      "File \u001b[0;32m<timed exec>:29\u001b[0m\n",
      "File \u001b[0;32m<timed exec>:14\u001b[0m, in \u001b[0;36mBFS\u001b[0;34m(last_state, last_move, cur_state, M)\u001b[0m\n",
      "\u001b[0;31mIndexError\u001b[0m: index 1 is out of bounds for axis 0 with size 0"
     ]
    }
   ],
   "source": [
    "%%time\n",
    "# @jit(nopython=True, fastmath = True)\n",
    "def BFS(last_state, last_move, cur_state, M):\n",
    "    mem_idx = 1\n",
    "    initial_state = np.arange(32)\n",
    "    visited = dict()\n",
    "    visited[hash_perm(initial_state)] = 0\n",
    "\n",
    "    i = 0\n",
    "    while mem_idx + 10 < mx_mem:\n",
    "        state = cur_state[i]\n",
    "        \n",
    "        for j in range(3):\n",
    "            m = M[j]\n",
    "            next_state = state[m]\n",
    "            next_hash = hash_perm(next_state)\n",
    "            \n",
    "            if(next_hash in visited):\n",
    "                continue\n",
    "                \n",
    "            visited[next_hash] = mem_idx\n",
    "            last_state[mem_idx] = i\n",
    "            last_move[mem_idx] = j\n",
    "            \n",
    "            mem_idx += 1\n",
    "        i += 1\n",
    "        \n",
    "    return visited\n",
    "\n",
    "a = BFS(last_state, last_move, cur_state, M)"
   ]
  },
  {
   "cell_type": "code",
   "execution_count": 28,
   "metadata": {},
   "outputs": [
    {
     "name": "stdout",
     "output_type": "stream",
     "text": [
      "         3 function calls in 0.000 seconds\n",
      "\n",
      "   Ordered by: standard name\n",
      "\n",
      "   ncalls  tottime  percall  cumtime  percall filename:lineno(function)\n",
      "        1    0.000    0.000    0.000    0.000 <string>:1(<module>)\n",
      "        1    0.000    0.000    0.000    0.000 {built-in method builtins.exec}\n",
      "        1    0.000    0.000    0.000    0.000 {method 'disable' of '_lsprof.Profiler' objects}\n",
      "\n",
      "\n"
     ]
    },
    {
     "ename": "TypeError",
     "evalue": "BFS() missing 4 required positional arguments: 'last_state', 'last_move', 'cur_state', and 'M'",
     "output_type": "error",
     "traceback": [
      "\u001b[0;31m---------------------------------------------------------------------------\u001b[0m",
      "\u001b[0;31mTypeError\u001b[0m                                 Traceback (most recent call last)",
      "Cell \u001b[0;32mIn[28], line 2\u001b[0m\n\u001b[1;32m      1\u001b[0m \u001b[38;5;28;01mimport\u001b[39;00m \u001b[38;5;21;01mcProfile\u001b[39;00m\n\u001b[0;32m----> 2\u001b[0m \u001b[43mcProfile\u001b[49m\u001b[38;5;241;43m.\u001b[39;49m\u001b[43mrun\u001b[49m\u001b[43m(\u001b[49m\u001b[38;5;124;43m'\u001b[39;49m\u001b[38;5;124;43mBFS()\u001b[39;49m\u001b[38;5;124;43m'\u001b[39;49m\u001b[43m)\u001b[49m\n",
      "File \u001b[0;32m/opt/homebrew/Cellar/python@3.11/3.11.6/Frameworks/Python.framework/Versions/3.11/lib/python3.11/cProfile.py:17\u001b[0m, in \u001b[0;36mrun\u001b[0;34m(statement, filename, sort)\u001b[0m\n\u001b[1;32m     16\u001b[0m \u001b[38;5;28;01mdef\u001b[39;00m \u001b[38;5;21mrun\u001b[39m(statement, filename\u001b[38;5;241m=\u001b[39m\u001b[38;5;28;01mNone\u001b[39;00m, sort\u001b[38;5;241m=\u001b[39m\u001b[38;5;241m-\u001b[39m\u001b[38;5;241m1\u001b[39m):\n\u001b[0;32m---> 17\u001b[0m     \u001b[38;5;28;01mreturn\u001b[39;00m \u001b[43m_pyprofile\u001b[49m\u001b[38;5;241;43m.\u001b[39;49m\u001b[43m_Utils\u001b[49m\u001b[43m(\u001b[49m\u001b[43mProfile\u001b[49m\u001b[43m)\u001b[49m\u001b[38;5;241;43m.\u001b[39;49m\u001b[43mrun\u001b[49m\u001b[43m(\u001b[49m\u001b[43mstatement\u001b[49m\u001b[43m,\u001b[49m\u001b[43m \u001b[49m\u001b[43mfilename\u001b[49m\u001b[43m,\u001b[49m\u001b[43m \u001b[49m\u001b[43msort\u001b[49m\u001b[43m)\u001b[49m\n",
      "File \u001b[0;32m/opt/homebrew/Cellar/python@3.11/3.11.6/Frameworks/Python.framework/Versions/3.11/lib/python3.11/profile.py:54\u001b[0m, in \u001b[0;36m_Utils.run\u001b[0;34m(self, statement, filename, sort)\u001b[0m\n\u001b[1;32m     52\u001b[0m prof \u001b[38;5;241m=\u001b[39m \u001b[38;5;28mself\u001b[39m\u001b[38;5;241m.\u001b[39mprofiler()\n\u001b[1;32m     53\u001b[0m \u001b[38;5;28;01mtry\u001b[39;00m:\n\u001b[0;32m---> 54\u001b[0m     \u001b[43mprof\u001b[49m\u001b[38;5;241;43m.\u001b[39;49m\u001b[43mrun\u001b[49m\u001b[43m(\u001b[49m\u001b[43mstatement\u001b[49m\u001b[43m)\u001b[49m\n\u001b[1;32m     55\u001b[0m \u001b[38;5;28;01mexcept\u001b[39;00m \u001b[38;5;167;01mSystemExit\u001b[39;00m:\n\u001b[1;32m     56\u001b[0m     \u001b[38;5;28;01mpass\u001b[39;00m\n",
      "File \u001b[0;32m/opt/homebrew/Cellar/python@3.11/3.11.6/Frameworks/Python.framework/Versions/3.11/lib/python3.11/cProfile.py:96\u001b[0m, in \u001b[0;36mProfile.run\u001b[0;34m(self, cmd)\u001b[0m\n\u001b[1;32m     94\u001b[0m \u001b[38;5;28;01mimport\u001b[39;00m \u001b[38;5;21;01m__main__\u001b[39;00m\n\u001b[1;32m     95\u001b[0m \u001b[38;5;28mdict\u001b[39m \u001b[38;5;241m=\u001b[39m __main__\u001b[38;5;241m.\u001b[39m\u001b[38;5;18m__dict__\u001b[39m\n\u001b[0;32m---> 96\u001b[0m \u001b[38;5;28;01mreturn\u001b[39;00m \u001b[38;5;28;43mself\u001b[39;49m\u001b[38;5;241;43m.\u001b[39;49m\u001b[43mrunctx\u001b[49m\u001b[43m(\u001b[49m\u001b[43mcmd\u001b[49m\u001b[43m,\u001b[49m\u001b[43m \u001b[49m\u001b[38;5;28;43mdict\u001b[39;49m\u001b[43m,\u001b[49m\u001b[43m \u001b[49m\u001b[38;5;28;43mdict\u001b[39;49m\u001b[43m)\u001b[49m\n",
      "File \u001b[0;32m/opt/homebrew/Cellar/python@3.11/3.11.6/Frameworks/Python.framework/Versions/3.11/lib/python3.11/cProfile.py:101\u001b[0m, in \u001b[0;36mProfile.runctx\u001b[0;34m(self, cmd, globals, locals)\u001b[0m\n\u001b[1;32m     99\u001b[0m \u001b[38;5;28mself\u001b[39m\u001b[38;5;241m.\u001b[39menable()\n\u001b[1;32m    100\u001b[0m \u001b[38;5;28;01mtry\u001b[39;00m:\n\u001b[0;32m--> 101\u001b[0m     \u001b[43mexec\u001b[49m\u001b[43m(\u001b[49m\u001b[43mcmd\u001b[49m\u001b[43m,\u001b[49m\u001b[43m \u001b[49m\u001b[38;5;28;43mglobals\u001b[39;49m\u001b[43m,\u001b[49m\u001b[43m \u001b[49m\u001b[38;5;28;43mlocals\u001b[39;49m\u001b[43m)\u001b[49m\n\u001b[1;32m    102\u001b[0m \u001b[38;5;28;01mfinally\u001b[39;00m:\n\u001b[1;32m    103\u001b[0m     \u001b[38;5;28mself\u001b[39m\u001b[38;5;241m.\u001b[39mdisable()\n",
      "File \u001b[0;32m<string>:1\u001b[0m\n",
      "\u001b[0;31mTypeError\u001b[0m: BFS() missing 4 required positional arguments: 'last_state', 'last_move', 'cur_state', and 'M'"
     ]
    }
   ],
   "source": [
    "import cProfile\n",
    "cProfile.run('BFS()')"
   ]
  },
  {
   "cell_type": "code",
   "execution_count": null,
   "metadata": {},
   "outputs": [],
   "source": [
    "def expandPath("
   ]
  },
  {
   "cell_type": "markdown",
   "metadata": {
    "collapsed": false,
    "jupyter": {
     "outputs_hidden": false
    }
   },
   "source": [
    "# Submissions #\n",
    "\n",
    "The submission format requires moves in a sequence to be delimited by a period `.`. Indicate the inverse of a named move with a preceeding `-`. Moves are applied from left to right.\n",
    "\n",
    "The `sample_submission.csv` contains a baseline solution for each puzzle."
   ]
  },
  {
   "cell_type": "code",
   "execution_count": 12,
   "metadata": {
    "collapsed": false,
    "execution": {
     "iopub.execute_input": "2023-12-23T21:05:54.056726Z",
     "iopub.status.busy": "2023-12-23T21:05:54.055787Z",
     "iopub.status.idle": "2023-12-23T21:05:54.079604Z",
     "shell.execute_reply": "2023-12-23T21:05:54.078853Z",
     "shell.execute_reply.started": "2023-12-23T21:05:54.056693Z"
    },
    "jupyter": {
     "outputs_hidden": false
    }
   },
   "outputs": [
    {
     "data": {
      "text/html": [
       "<div>\n",
       "<style scoped>\n",
       "    .dataframe tbody tr th:only-of-type {\n",
       "        vertical-align: middle;\n",
       "    }\n",
       "\n",
       "    .dataframe tbody tr th {\n",
       "        vertical-align: top;\n",
       "    }\n",
       "\n",
       "    .dataframe thead th {\n",
       "        text-align: right;\n",
       "    }\n",
       "</style>\n",
       "<table border=\"1\" class=\"dataframe\">\n",
       "  <thead>\n",
       "    <tr style=\"text-align: right;\">\n",
       "      <th></th>\n",
       "      <th>moves</th>\n",
       "    </tr>\n",
       "    <tr>\n",
       "      <th>id</th>\n",
       "      <th></th>\n",
       "    </tr>\n",
       "  </thead>\n",
       "  <tbody>\n",
       "    <tr>\n",
       "      <th>0</th>\n",
       "      <td>r1.-f1</td>\n",
       "    </tr>\n",
       "    <tr>\n",
       "      <th>1</th>\n",
       "      <td>f1.d0.-r0.-f1.-d0.-f1.d0.-r0.f0.-f1.-r0.f1.-d1...</td>\n",
       "    </tr>\n",
       "    <tr>\n",
       "      <th>2</th>\n",
       "      <td>f1.d0.-d1.r0.-d1.-f0.f1.-r0.-f0.-r1.-f0.r0.-d0...</td>\n",
       "    </tr>\n",
       "    <tr>\n",
       "      <th>3</th>\n",
       "      <td>-f0.-r0.-f0.-d0.-f0.f1.r0.-d1.-r0.-r1.-r0.-f1....</td>\n",
       "    </tr>\n",
       "    <tr>\n",
       "      <th>4</th>\n",
       "      <td>d1.-f1.d1.r1.-f0.d1.-d0.-r1.d1.d1.-f1.d1.-d0.-...</td>\n",
       "    </tr>\n",
       "    <tr>\n",
       "      <th>...</th>\n",
       "      <td>...</td>\n",
       "    </tr>\n",
       "    <tr>\n",
       "      <th>393</th>\n",
       "      <td>f19.f21.-f39.f20.f2.-f5.f7.-r3.f55.-f12.f65.-f...</td>\n",
       "    </tr>\n",
       "    <tr>\n",
       "      <th>394</th>\n",
       "      <td>-f31.-f22.f16.-f17.-f13.-f24.-f14.f2.f21.f44.f...</td>\n",
       "    </tr>\n",
       "    <tr>\n",
       "      <th>395</th>\n",
       "      <td>-r0.-f42.-f8.f16.-f49.f14.-f1.f56.f26.f35.f62....</td>\n",
       "    </tr>\n",
       "    <tr>\n",
       "      <th>396</th>\n",
       "      <td>f25.-f29.f46.f49.-f8.f27.f26.-f20.f2.-f20.f6.f...</td>\n",
       "    </tr>\n",
       "    <tr>\n",
       "      <th>397</th>\n",
       "      <td>-r1.f23.-f24.-r2.f30.f30.f38.-f19.f24.f19.f18....</td>\n",
       "    </tr>\n",
       "  </tbody>\n",
       "</table>\n",
       "<p>398 rows × 1 columns</p>\n",
       "</div>"
      ],
      "text/plain": [
       "                                                 moves\n",
       "id                                                    \n",
       "0                                               r1.-f1\n",
       "1    f1.d0.-r0.-f1.-d0.-f1.d0.-r0.f0.-f1.-r0.f1.-d1...\n",
       "2    f1.d0.-d1.r0.-d1.-f0.f1.-r0.-f0.-r1.-f0.r0.-d0...\n",
       "3    -f0.-r0.-f0.-d0.-f0.f1.r0.-d1.-r0.-r1.-r0.-f1....\n",
       "4    d1.-f1.d1.r1.-f0.d1.-d0.-r1.d1.d1.-f1.d1.-d0.-...\n",
       "..                                                 ...\n",
       "393  f19.f21.-f39.f20.f2.-f5.f7.-r3.f55.-f12.f65.-f...\n",
       "394  -f31.-f22.f16.-f17.-f13.-f24.-f14.f2.f21.f44.f...\n",
       "395  -r0.-f42.-f8.f16.-f49.f14.-f1.f56.f26.f35.f62....\n",
       "396  f25.-f29.f46.f49.-f8.f27.f26.-f20.f2.-f20.f6.f...\n",
       "397  -r1.f23.-f24.-r2.f30.f30.f38.-f19.f24.f19.f18....\n",
       "\n",
       "[398 rows x 1 columns]"
      ]
     },
     "execution_count": 12,
     "metadata": {},
     "output_type": "execute_result"
    }
   ],
   "source": [
    "sample_submission"
   ]
  },
  {
   "cell_type": "markdown",
   "metadata": {
    "collapsed": false,
    "jupyter": {
     "outputs_hidden": false
    }
   },
   "source": [
    "Let's check that the given sequence for the first puzzle is actually a solution."
   ]
  },
  {
   "cell_type": "code",
   "execution_count": 13,
   "metadata": {
    "collapsed": false,
    "execution": {
     "iopub.execute_input": "2023-12-23T21:05:54.081697Z",
     "iopub.status.busy": "2023-12-23T21:05:54.080889Z",
     "iopub.status.idle": "2023-12-23T21:05:54.236138Z",
     "shell.execute_reply": "2023-12-23T21:05:54.234153Z",
     "shell.execute_reply.started": "2023-12-23T21:05:54.081667Z"
    },
    "jupyter": {
     "outputs_hidden": false
    }
   },
   "outputs": [
    {
     "data": {
      "text/plain": [
       "True"
      ]
     },
     "execution_count": 13,
     "metadata": {},
     "output_type": "execute_result"
    }
   ],
   "source": [
    "def apply_sequence(sequence, moves, state):\n",
    "    \"\"\"Apply a sequence of moves in array form to a color state.\"\"\"\n",
    "    state = np.asarray(state)\n",
    "    for m in sequence.split('.'):\n",
    "        state = state[moves[m]]\n",
    "    return state\n",
    "\n",
    "\n",
    "# Convert allowed_moves to dict and add inverse moves\n",
    "all_moves = puzzle_info.loc[:, 'allowed_moves'].to_dict()\n",
    "for ptype, moves in all_moves.copy().items():\n",
    "    for m, arr in moves.copy().items():\n",
    "        all_moves[ptype][f\"-{m}\"] = np.argsort(arr).tolist()\n",
    "\n",
    "\n",
    "# Get info for the first puzzle\n",
    "solution_state = puzzles.iloc[0, 1]\n",
    "initial_state = puzzles.iloc[0, 2]\n",
    "baseline_solution = sample_submission.loc[0, 'moves']\n",
    "\n",
    "state = apply_sequence(baseline_solution, all_moves['cube_2/2/2'], initial_state)\n",
    "np.array_equal(state, solution_state)"
   ]
  },
  {
   "cell_type": "markdown",
   "metadata": {
    "collapsed": false,
    "jupyter": {
     "outputs_hidden": false
    }
   },
   "source": [
    "In this case, the resulting state is exactly equal to the required solution state. For puzzles with wildcards, there can be an allowed number of differences. See the competitions [Evaluation](https://www.kaggle.com/competitions/santa-2023/overview/evaluation) page for more info."
   ]
  },
  {
   "cell_type": "markdown",
   "metadata": {},
   "source": [
    "# Good luck! #\n",
    "\n",
    "We hope this introduction was informative! Here are some places to follow up for more information:\n",
    "- [The Complexity Dynamics of Magic Cubes and Twisty Puzzles](https://resplendence.org/dhushara.com/cubes/cubes.pdf)\n",
    "- [Twisty Puzzle Museum](https://twistypuzzles.com/app/museum/museum_search.php)\n",
    "- [Analyzing Rubik's Cube with GAP](https://www.gap-system.org/Doc/Examples/rubik.html) - You could try reproducing this with [SAGE](https://www.sagemath.org/), if you prefer."
   ]
  }
 ],
 "metadata": {
  "kaggle": {
   "accelerator": "none",
   "dataSources": [
    {
     "databundleVersionId": 7339171,
     "sourceId": 65704,
     "sourceType": "competition"
    }
   ],
   "dockerImageVersionId": 30626,
   "isGpuEnabled": false,
   "isInternetEnabled": true,
   "language": "python",
   "sourceType": "notebook"
  },
  "kernelspec": {
   "display_name": "climate-change-ai-venv-kernel",
   "language": "python",
   "name": "climate-change-ai-venv-kernel"
  },
  "language_info": {
   "codemirror_mode": {
    "name": "ipython",
    "version": 3
   },
   "file_extension": ".py",
   "mimetype": "text/x-python",
   "name": "python",
   "nbconvert_exporter": "python",
   "pygments_lexer": "ipython3",
   "version": "3.11.6"
  },
  "name": "getting_started.ipynb"
 },
 "nbformat": 4,
 "nbformat_minor": 4
}
