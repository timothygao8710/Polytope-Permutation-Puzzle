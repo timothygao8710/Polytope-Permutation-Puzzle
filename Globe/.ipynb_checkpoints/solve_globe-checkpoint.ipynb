{
 "cells": [
  {
   "cell_type": "code",
   "execution_count": 289,
   "metadata": {
    "collapsed": false,
    "jupyter": {
     "outputs_hidden": false
    }
   },
   "outputs": [],
   "source": [
    "import matplotlib.pyplot as plt\n",
    "from scipy import stats\n",
    "import numpy as np\n",
    "from numba import jit\n",
    "import pstats\n",
    "import heapq\n",
    "import time\n",
    "import cProfile\n",
    "import pandas as pd\n",
    "import numpy as np\n",
    "import pandas as pd\n",
    "from ast import literal_eval\n",
    "from pathlib import Path\n",
    "from pprint import pprint\n",
    "from sympy.combinatorics import Permutation\n",
    "\n",
    "puzzle_info_path = 'puzzle_info.csv'\n",
    "puzzles_path = 'puzzles.csv'\n",
    "sample_submission_path = 'sample_submission.csv'\n",
    "my_submission_path = 'submission.csv'\n",
    "\n",
    "puzzle_info_df = pd.read_csv(puzzle_info_path)\n",
    "puzzles_df = pd.read_csv(puzzles_path)\n",
    "sample_submission_df = pd.read_csv(sample_submission_path)\n",
    "my_submission_df = pd.read_csv(my_submission_path)"
   ]
  },
  {
   "cell_type": "code",
   "execution_count": 290,
   "metadata": {},
   "outputs": [
    {
     "data": {
      "text/html": [
       "<div>\n",
       "<style scoped>\n",
       "    .dataframe tbody tr th:only-of-type {\n",
       "        vertical-align: middle;\n",
       "    }\n",
       "\n",
       "    .dataframe tbody tr th {\n",
       "        vertical-align: top;\n",
       "    }\n",
       "\n",
       "    .dataframe thead th {\n",
       "        text-align: right;\n",
       "    }\n",
       "</style>\n",
       "<table border=\"1\" class=\"dataframe\">\n",
       "  <thead>\n",
       "    <tr style=\"text-align: right;\">\n",
       "      <th></th>\n",
       "      <th>id</th>\n",
       "      <th>puzzle_type</th>\n",
       "      <th>solution_state</th>\n",
       "      <th>initial_state</th>\n",
       "      <th>num_wildcards</th>\n",
       "    </tr>\n",
       "  </thead>\n",
       "  <tbody>\n",
       "    <tr>\n",
       "      <th>338</th>\n",
       "      <td>338</td>\n",
       "      <td>globe_1/8</td>\n",
       "      <td>A;A;C;C;E;E;G;G;I;I;K;K;M;M;O;O;B;B;D;D;F;F;H;...</td>\n",
       "      <td>I;P;O;A;A;D;F;L;J;M;G;M;P;F;E;J;E;B;O;G;H;D;N;...</td>\n",
       "      <td>0</td>\n",
       "    </tr>\n",
       "    <tr>\n",
       "      <th>339</th>\n",
       "      <td>339</td>\n",
       "      <td>globe_1/8</td>\n",
       "      <td>A;A;C;C;E;E;G;G;I;I;K;K;M;M;O;O;B;B;D;D;F;F;H;...</td>\n",
       "      <td>K;I;C;B;M;J;D;G;E;H;N;E;F;I;D;K;L;P;A;O;B;N;J;...</td>\n",
       "      <td>0</td>\n",
       "    </tr>\n",
       "    <tr>\n",
       "      <th>340</th>\n",
       "      <td>340</td>\n",
       "      <td>globe_1/8</td>\n",
       "      <td>A;A;C;C;E;E;G;G;I;I;K;K;M;M;O;O;B;B;D;D;F;F;H;...</td>\n",
       "      <td>M;O;L;M;P;F;L;B;I;G;E;J;A;G;O;I;C;H;D;P;B;A;N;...</td>\n",
       "      <td>0</td>\n",
       "    </tr>\n",
       "    <tr>\n",
       "      <th>341</th>\n",
       "      <td>341</td>\n",
       "      <td>globe_1/8</td>\n",
       "      <td>A;A;C;C;E;E;G;G;I;I;K;K;M;M;O;O;B;B;D;D;F;F;H;...</td>\n",
       "      <td>P;O;G;J;A;L;F;C;D;B;P;N;F;M;I;G;O;M;H;H;E;N;K;...</td>\n",
       "      <td>0</td>\n",
       "    </tr>\n",
       "    <tr>\n",
       "      <th>342</th>\n",
       "      <td>342</td>\n",
       "      <td>globe_1/8</td>\n",
       "      <td>A;A;C;C;E;E;G;G;I;I;K;K;M;M;O;O;B;B;D;D;F;F;H;...</td>\n",
       "      <td>F;H;O;M;C;J;K;I;J;L;B;N;B;G;K;H;D;P;A;D;E;N;P;...</td>\n",
       "      <td>2</td>\n",
       "    </tr>\n",
       "    <tr>\n",
       "      <th>343</th>\n",
       "      <td>343</td>\n",
       "      <td>globe_1/8</td>\n",
       "      <td>N0;N1;N2;N3;N4;N5;N6;N7;N8;N9;N10;N11;N12;N13;...</td>\n",
       "      <td>N21;N1;N9;N20;N30;N8;N25;N26;N11;N2;N16;N27;N4...</td>\n",
       "      <td>0</td>\n",
       "    </tr>\n",
       "    <tr>\n",
       "      <th>344</th>\n",
       "      <td>344</td>\n",
       "      <td>globe_1/8</td>\n",
       "      <td>N0;N1;N2;N3;N4;N5;N6;N7;N8;N9;N10;N11;N12;N13;...</td>\n",
       "      <td>N30;N0;N22;N15;N24;N19;N14;N18;N31;N6;N23;N16;...</td>\n",
       "      <td>0</td>\n",
       "    </tr>\n",
       "    <tr>\n",
       "      <th>345</th>\n",
       "      <td>345</td>\n",
       "      <td>globe_1/8</td>\n",
       "      <td>N0;N1;N2;N3;N4;N5;N6;N7;N8;N9;N10;N11;N12;N13;...</td>\n",
       "      <td>N19;N11;N22;N29;N15;N7;N14;N16;N0;N18;N9;N24;N...</td>\n",
       "      <td>0</td>\n",
       "    </tr>\n",
       "    <tr>\n",
       "      <th>346</th>\n",
       "      <td>346</td>\n",
       "      <td>globe_1/8</td>\n",
       "      <td>N0;N1;N2;N3;N4;N5;N6;N7;N8;N9;N10;N11;N12;N13;...</td>\n",
       "      <td>N9;N7;N17;N11;N30;N14;N5;N0;N16;N31;N6;N4;N1;N...</td>\n",
       "      <td>0</td>\n",
       "    </tr>\n",
       "    <tr>\n",
       "      <th>347</th>\n",
       "      <td>347</td>\n",
       "      <td>globe_1/8</td>\n",
       "      <td>N0;N1;N2;N3;N4;N5;N6;N7;N8;N9;N10;N11;N12;N13;...</td>\n",
       "      <td>N26;N10;N17;N24;N11;N3;N14;N16;N23;N2;N21;N1;N...</td>\n",
       "      <td>0</td>\n",
       "    </tr>\n",
       "  </tbody>\n",
       "</table>\n",
       "</div>"
      ],
      "text/plain": [
       "      id puzzle_type                                     solution_state  \\\n",
       "338  338   globe_1/8  A;A;C;C;E;E;G;G;I;I;K;K;M;M;O;O;B;B;D;D;F;F;H;...   \n",
       "339  339   globe_1/8  A;A;C;C;E;E;G;G;I;I;K;K;M;M;O;O;B;B;D;D;F;F;H;...   \n",
       "340  340   globe_1/8  A;A;C;C;E;E;G;G;I;I;K;K;M;M;O;O;B;B;D;D;F;F;H;...   \n",
       "341  341   globe_1/8  A;A;C;C;E;E;G;G;I;I;K;K;M;M;O;O;B;B;D;D;F;F;H;...   \n",
       "342  342   globe_1/8  A;A;C;C;E;E;G;G;I;I;K;K;M;M;O;O;B;B;D;D;F;F;H;...   \n",
       "343  343   globe_1/8  N0;N1;N2;N3;N4;N5;N6;N7;N8;N9;N10;N11;N12;N13;...   \n",
       "344  344   globe_1/8  N0;N1;N2;N3;N4;N5;N6;N7;N8;N9;N10;N11;N12;N13;...   \n",
       "345  345   globe_1/8  N0;N1;N2;N3;N4;N5;N6;N7;N8;N9;N10;N11;N12;N13;...   \n",
       "346  346   globe_1/8  N0;N1;N2;N3;N4;N5;N6;N7;N8;N9;N10;N11;N12;N13;...   \n",
       "347  347   globe_1/8  N0;N1;N2;N3;N4;N5;N6;N7;N8;N9;N10;N11;N12;N13;...   \n",
       "\n",
       "                                         initial_state  num_wildcards  \n",
       "338  I;P;O;A;A;D;F;L;J;M;G;M;P;F;E;J;E;B;O;G;H;D;N;...              0  \n",
       "339  K;I;C;B;M;J;D;G;E;H;N;E;F;I;D;K;L;P;A;O;B;N;J;...              0  \n",
       "340  M;O;L;M;P;F;L;B;I;G;E;J;A;G;O;I;C;H;D;P;B;A;N;...              0  \n",
       "341  P;O;G;J;A;L;F;C;D;B;P;N;F;M;I;G;O;M;H;H;E;N;K;...              0  \n",
       "342  F;H;O;M;C;J;K;I;J;L;B;N;B;G;K;H;D;P;A;D;E;N;P;...              2  \n",
       "343  N21;N1;N9;N20;N30;N8;N25;N26;N11;N2;N16;N27;N4...              0  \n",
       "344  N30;N0;N22;N15;N24;N19;N14;N18;N31;N6;N23;N16;...              0  \n",
       "345  N19;N11;N22;N29;N15;N7;N14;N16;N0;N18;N9;N24;N...              0  \n",
       "346  N9;N7;N17;N11;N30;N14;N5;N0;N16;N31;N6;N4;N1;N...              0  \n",
       "347  N26;N10;N17;N24;N11;N3;N14;N16;N23;N2;N21;N1;N...              0  "
      ]
     },
     "execution_count": 290,
     "metadata": {},
     "output_type": "execute_result"
    }
   ],
   "source": [
    "puzzles_df[puzzles_df[\"puzzle_type\"] == 'globe_1/8']\n",
    "# Two types: permutation & colors"
   ]
  },
  {
   "cell_type": "code",
   "execution_count": 291,
   "metadata": {},
   "outputs": [],
   "source": [
    "idx = 344\n",
    "N = 1+1\n",
    "M = int(2*8)"
   ]
  },
  {
   "cell_type": "markdown",
   "metadata": {},
   "source": [
    "# Solving 2xM"
   ]
  },
  {
   "cell_type": "code",
   "execution_count": 292,
   "metadata": {},
   "outputs": [],
   "source": [
    "test_globe = np.array([i for i in range(2*M)])\n",
    "def print_globe(b):\n",
    "    print(np.asarray(b).reshape(2, M))\n",
    "\n",
    "apply_move = {}\n",
    "\n",
    "def set_moves(M):\n",
    "    r0_perm = np.array([i for i in range(2*M)])\n",
    "    r1_perm = np.array([i for i in range(2*M)])\n",
    "    f0_perm = np.array([i for i in range(2*M)])\n",
    "    \n",
    "    r0_perm[M-1] = 0\n",
    "    for i in range(0, M-1):\n",
    "        r0_perm[i] = i+1\n",
    "    \n",
    "    r1_perm[2 * M - 1] = M\n",
    "    for i in range(M, 2*M-1):\n",
    "        r1_perm[i] = i+1\n",
    "    \n",
    "    for i in range(M//2):\n",
    "        f0_perm[i] = M + M//2 - 1 - i\n",
    "    \n",
    "    for i in range(M, M + M//2):\n",
    "        f0_perm[i] = M//2-1 - (i-M)\n",
    "    \n",
    "    nr0_perm = np.array([i for i in range(2*M)])\n",
    "    nr1_perm = np.array([i for i in range(2*M)])\n",
    "    \n",
    "    for i in range(M-1):\n",
    "        nr0_perm = nr0_perm[r0_perm]\n",
    "    \n",
    "    for i in range(M-1):\n",
    "        nr1_perm = nr1_perm[r1_perm]\n",
    "\n",
    "    def r0(arr, moves):\n",
    "        moves.append('r0')\n",
    "        arr = arr[r0_perm]\n",
    "        return arr\n",
    "    \n",
    "    def nr0(arr, moves):\n",
    "        moves.append('-r0')\n",
    "        arr = arr[nr0_perm]\n",
    "        return arr\n",
    "    \n",
    "    def r1(arr, moves):\n",
    "        moves.append('r1')\n",
    "        arr = arr[r1_perm]\n",
    "        return arr\n",
    "    \n",
    "    def nr1(arr, moves):\n",
    "        moves.append('-r1')\n",
    "        arr = arr[nr1_perm]\n",
    "        return arr\n",
    "    \n",
    "    def f0(arr, moves):\n",
    "        moves.append('f0')\n",
    "        arr = arr[f0_perm]\n",
    "        return arr\n",
    "    \n",
    "    apply_move['r0'] = r0\n",
    "    apply_move['-r0'] = nr0\n",
    "    apply_move['r1'] = r1\n",
    "    apply_move['-r1'] = nr1\n",
    "    apply_move['f0'] = f0\n",
    "    \n",
    "    print(\"r0\")\n",
    "    print_globe(r0(test_globe, []))\n",
    "    print(\"nr0\")\n",
    "    print_globe(nr0(test_globe, []))\n",
    "    print(\"r1\")\n",
    "    print_globe(r1(test_globe, []))\n",
    "    print(\"f0\")\n",
    "    print_globe(f0(test_globe, []))\n",
    "\n",
    "    def create_f_function(i, cur_perm):\n",
    "        return lambda arr, moves: (moves.append('f' + str(i)), arr[cur_perm])[1]\n",
    "\n",
    "    for i in range(1, M):\n",
    "        cur_perm = np.array([i for i in range(2*M)])\n",
    "    \n",
    "        for j in range(i):\n",
    "            cur_perm = cur_perm[r0_perm]\n",
    "            cur_perm = cur_perm[r1_perm]\n",
    "    \n",
    "        cur_perm = cur_perm[f0_perm]\n",
    "    \n",
    "        for j in range(i):\n",
    "            cur_perm = cur_perm[nr0_perm]\n",
    "            cur_perm = cur_perm[nr1_perm]\n",
    "            \n",
    "        apply_move['f' + str(i)] = create_f_function(i, cur_perm)\n",
    "    \n",
    "    print_globe(apply_move['f1'](test_globe, []))\n",
    "    print_globe(apply_move['f2'](test_globe, []))"
   ]
  },
  {
   "cell_type": "code",
   "execution_count": 293,
   "metadata": {},
   "outputs": [
    {
     "name": "stdout",
     "output_type": "stream",
     "text": [
      "r0\n",
      "[[ 1  2  3  4  5  6  7  8  9 10 11 12 13 14 15  0]\n",
      " [16 17 18 19 20 21 22 23 24 25 26 27 28 29 30 31]]\n",
      "nr0\n",
      "[[15  0  1  2  3  4  5  6  7  8  9 10 11 12 13 14]\n",
      " [16 17 18 19 20 21 22 23 24 25 26 27 28 29 30 31]]\n",
      "r1\n",
      "[[ 0  1  2  3  4  5  6  7  8  9 10 11 12 13 14 15]\n",
      " [17 18 19 20 21 22 23 24 25 26 27 28 29 30 31 16]]\n",
      "f0\n",
      "[[23 22 21 20 19 18 17 16  8  9 10 11 12 13 14 15]\n",
      " [ 7  6  5  4  3  2  1  0 24 25 26 27 28 29 30 31]]\n",
      "[[ 0 24 23 22 21 20 19 18 17  9 10 11 12 13 14 15]\n",
      " [16  8  7  6  5  4  3  2  1 25 26 27 28 29 30 31]]\n",
      "[[ 0  1 25 24 23 22 21 20 19 18 10 11 12 13 14 15]\n",
      " [16 17  9  8  7  6  5  4  3  2 26 27 28 29 30 31]]\n"
     ]
    }
   ],
   "source": [
    "set_moves(M)"
   ]
  },
  {
   "cell_type": "code",
   "execution_count": 294,
   "metadata": {},
   "outputs": [
    {
     "name": "stdout",
     "output_type": "stream",
     "text": [
      "[[ 1  2  3  4  5  6  7 23  8  9 10 11 12 13 14 15]\n",
      " [ 0 16 17 18 19 20 21 22 24 25 26 27 28 29 30 31]]\n",
      "[[16  0  1  2  3  4  5  6  8  9 10 11 12 13 14 15]\n",
      " [17 18 19 20 21 22 23  7 24 25 26 27 28 29 30 31]]\n"
     ]
    }
   ],
   "source": [
    "def half_turn_ccw(arr, moves):\n",
    "    for i in range(M//2):\n",
    "        arr = apply_move['-r0'](arr, moves)\n",
    "    \n",
    "    arr = apply_move['f0'](arr, moves)\n",
    "    arr = apply_move['r0'](arr, moves)\n",
    "    arr = apply_move['f0'](arr, moves)\n",
    "    \n",
    "    for i in range(M//2):\n",
    "        arr = apply_move['r0'](arr, moves)\n",
    "    return arr\n",
    "\n",
    "print_globe(half_turn_ccw(test_globe, []))\n",
    "\n",
    "def half_turn_cw(arr, moves):\n",
    "    for i in range(M//2):\n",
    "        arr = apply_move['-r0'](arr, moves)\n",
    "    \n",
    "    arr = apply_move['f0'](arr, moves)\n",
    "    arr = apply_move['-r0'](arr, moves)\n",
    "    arr = apply_move['f0'](arr, moves)\n",
    "    \n",
    "    for i in range(M//2):\n",
    "        arr = apply_move['r0'](arr, moves)\n",
    "    return arr\n",
    "\n",
    "apply_move['half_turn'] = half_turn_ccw\n",
    "apply_move['rev_half_turn'] = half_turn_cw\n",
    "\n",
    "print_globe(half_turn_cw(test_globe, []))"
   ]
  },
  {
   "cell_type": "code",
   "execution_count": 295,
   "metadata": {},
   "outputs": [
    {
     "name": "stdout",
     "output_type": "stream",
     "text": [
      "[[ 0  1  2  3  4  5  6  7 16  8  9 10 11 12 13 14]\n",
      " [17 18 19 20 21 22 23 15 24 25 26 27 28 29 30 31]]\n",
      "[[ 0  1  2  3  4  5  6  7  9 10 11 12 13 14 15 23]\n",
      " [ 8 16 17 18 19 20 21 22 24 25 26 27 28 29 30 31]]\n",
      "[[24  0  1  2  3  4  5  6  8  9 10 11 12 13 14 15]\n",
      " [16 17 18 19 20 21 22 23 25 26 27 28 29 30 31  7]]\n",
      "[[ 1  2  3  4  5  6  7 31  8  9 10 11 12 13 14 15]\n",
      " [16 17 18 19 20 21 22 23  0 24 25 26 27 28 29 30]]\n"
     ]
    }
   ],
   "source": [
    "test_globe = np.array([i for i in range(2*M)])\n",
    "\n",
    "def top_right_cw(arr, moves):\n",
    "    arr = apply_move['f0'](arr, moves)\n",
    "    arr = apply_move['-r0'](arr, moves)\n",
    "    arr = apply_move['f0'](arr, moves)\n",
    "    return arr\n",
    "\n",
    "def top_right_ccw(arr, moves):\n",
    "    arr = apply_move['f0'](arr, moves)\n",
    "    arr = apply_move['r0'](arr, moves)\n",
    "    arr = apply_move['f0'](arr, moves)\n",
    "    return arr\n",
    "\n",
    "def top_left_ccw(arr, moves):\n",
    "    arr = apply_move['f0'](arr, moves)\n",
    "    arr = apply_move['-r1'](arr, moves)\n",
    "    arr = apply_move['f0'](arr, moves)\n",
    "    return arr\n",
    "\n",
    "def top_left_cw(arr, moves):\n",
    "    arr = apply_move['f0'](arr, moves)\n",
    "    arr = apply_move['r1'](arr, moves)\n",
    "    arr = apply_move['f0'](arr, moves)\n",
    "    return arr\n",
    "\n",
    "apply_move['top_right_cw'] = top_right_cw\n",
    "apply_move['top_right_ccw'] = top_right_ccw\n",
    "apply_move['top_left_cw'] = top_left_cw\n",
    "apply_move['top_left_ccw'] = top_left_ccw\n",
    "\n",
    "print_globe(top_right_cw(test_globe, []))\n",
    "print_globe(top_right_ccw(test_globe, []))\n",
    "print_globe(top_left_cw(test_globe, []))\n",
    "print_globe(top_left_ccw(test_globe, []))"
   ]
  },
  {
   "cell_type": "markdown",
   "metadata": {},
   "source": [
    "## Phase 1: Sort Elements Into Top/Bottom Arrays"
   ]
  },
  {
   "cell_type": "code",
   "execution_count": 296,
   "metadata": {},
   "outputs": [
    {
     "name": "stdout",
     "output_type": "stream",
     "text": [
      "32\n"
     ]
    }
   ],
   "source": [
    "test_globe = puzzles_df[puzzles_df[\"puzzle_type\"] == \"globe_1/8\"]['initial_state'][idx]\n",
    "test_globe = np.array([int(x[1:]) for x in test_globe.split(';') if x])\n",
    "# print_globe(test_globe)\n",
    "print(len(test_globe))"
   ]
  },
  {
   "cell_type": "code",
   "execution_count": 297,
   "metadata": {},
   "outputs": [],
   "source": [
    "# test_globe = apply_move['f0'](test_globe, [])\n",
    "# test_globe = apply_move['f9'](test_globe, [])\n",
    "# test_globe = apply_move['r0'](test_globe, [])\n",
    "# test_globe = apply_move['r0'](test_globe, [])\n",
    "# test_globe = apply_move['f1'](test_globe, [])"
   ]
  },
  {
   "cell_type": "code",
   "execution_count": 298,
   "metadata": {},
   "outputs": [
    {
     "name": "stdout",
     "output_type": "stream",
     "text": [
      "[[30  0 22 15 24 19 14 18 31  6 23 16  9  1 29 13]\n",
      " [21 12  8 26  4 28  3 25  7 20  2 10 11 27  5 17]]\n"
     ]
    }
   ],
   "source": [
    "print_globe(test_globe)"
   ]
  },
  {
   "cell_type": "code",
   "execution_count": 299,
   "metadata": {},
   "outputs": [],
   "source": [
    "moves = []"
   ]
  },
  {
   "cell_type": "code",
   "execution_count": 300,
   "metadata": {},
   "outputs": [
    {
     "name": "stdout",
     "output_type": "stream",
     "text": [
      "[[14  6  5  9 11  1 10  2 13  3  7  4  8  0 15 12]\n",
      " [29 16 27 23 17 31 18 21 19 24 22 26 30 28 25 20]]\n"
     ]
    }
   ],
   "source": [
    "def is_moved_top_bottom(arr):\n",
    "    for i in range(M):\n",
    "        if arr[i] >= M:\n",
    "            return False\n",
    "    for i in range(M, 2*M):\n",
    "        if arr[i] < M:\n",
    "            return False\n",
    "    return True\n",
    "\n",
    "# change this to allow all M cyclic rotates\n",
    "def move_top_bottom_helper(arr, moves):\n",
    "    while not is_moved_top_bottom(arr):\n",
    "        \n",
    "        rotate_locs = [\n",
    "            (M//2, M + M // 2 - 1, 'top_right_ccw'),\n",
    "            (M-1, M, 'top_right_cw'),\n",
    "            (M//2-1, M + M//2, 'top_left_cw'),\n",
    "            (0, 2*M-1, 'top_left_ccw')\n",
    "        ]\n",
    "\n",
    "        all_costs = []\n",
    "\n",
    "        for a, b, op_name in rotate_locs:\n",
    "            mn_a, mn_b = int(1e9), int(1e9)\n",
    "            top_ops, bot_ops = [], []\n",
    "            \n",
    "            for i in range(M):\n",
    "                if arr[i] >= M: # TODO: Try no abs. Can only r0\n",
    "                    if abs(i - a) < mn_a:\n",
    "                        mn_a = abs(i-a)\n",
    "\n",
    "                        if i < a: # rotate right\n",
    "                            top_ops = ['-r0'] * (a - i)\n",
    "                        else:\n",
    "                            top_ops = ['r0'] * (i - a)\n",
    "\n",
    "            for i in range(M, 2*M):\n",
    "                if arr[i] < M:\n",
    "                    if abs(i - b) < mn_b:\n",
    "                        mn_b = abs(i - b)\n",
    "\n",
    "                        if i < b:\n",
    "                            bot_ops = ['-r1'] * (b - i)\n",
    "                        else:\n",
    "                            bot_ops = ['r1'] * (i - b)\n",
    "\n",
    "            all_costs.append((mn_a + mn_b, top_ops + bot_ops, op_name))\n",
    "\n",
    "        all_costs = list(sorted(all_costs))\n",
    "        for i in all_costs[0][1]:\n",
    "            arr = apply_move[i](arr, moves)\n",
    "        arr = apply_move[all_costs[0][2]](arr, moves)\n",
    "    return arr\n",
    "\n",
    "print_globe(move_top_bottom_helper(test_globe, []))"
   ]
  },
  {
   "cell_type": "code",
   "execution_count": 301,
   "metadata": {},
   "outputs": [],
   "source": [
    "# def sort_top_bottom(arr, moves):\n",
    "#     a = []\n",
    "#     a_arr = sort_top_bottom_helper(arr, a)\n",
    "\n",
    "#     b = ['f0', 'f' + str(M//2)] # untested\n",
    "#     arr = apply_move['f0'](arr, [])\n",
    "    \n",
    "#     for i in range(M//2):\n",
    "#         arr = apply_move['r0'](arr, [])\n",
    "#         arr = apply_move['r1'](arr, [])\n",
    "\n",
    "#     arr = apply_move['f0'](arr, [])\n",
    "\n",
    "#     for i in range(M//2):\n",
    "#         arr = apply_move['-r0'](arr, [])\n",
    "#         arr = apply_move['-r1'](arr, [])\n",
    "\n",
    "#     b_arr = sort_top_bottom_helper(arr, b)\n",
    "\n",
    "#     if len(b) < len(a):\n",
    "#         for i in b:\n",
    "#             moves.append(i)\n",
    "#         return b_arr\n",
    "\n",
    "#     for i in a:\n",
    "#         moves.append(i)\n",
    "#     return a_arr\n",
    "\n",
    "# test_globe = sort_top_bottom(test_globe, moves)\n",
    "# test_globe = sort_top_bottom_helper(test_globe, moves)\n",
    "# print_globe(test_globe)"
   ]
  },
  {
   "cell_type": "code",
   "execution_count": 302,
   "metadata": {},
   "outputs": [],
   "source": [
    "test_globe = move_top_bottom_helper(test_globe, moves)\n",
    "top_bot_moves = moves\n",
    "top_bot_state = test_globe\n",
    "# try only applying ex-red here"
   ]
  },
  {
   "cell_type": "markdown",
   "metadata": {},
   "source": [
    "# Phase 2: Remove Inversions"
   ]
  },
  {
   "cell_type": "code",
   "execution_count": 303,
   "metadata": {},
   "outputs": [
    {
     "name": "stdout",
     "output_type": "stream",
     "text": [
      "[[14  6  5  9 11  1 10  2 13  3  7  4  8  0 15 12]\n",
      " [29 16 27 23 17 31 18 21 19 24 22 26 30 28 25 20]]\n"
     ]
    }
   ],
   "source": [
    "test_globe = top_bot_state\n",
    "moves = top_bot_moves\n",
    "\n",
    "print_globe(test_globe)"
   ]
  },
  {
   "cell_type": "code",
   "execution_count": 304,
   "metadata": {},
   "outputs": [
    {
     "name": "stdout",
     "output_type": "stream",
     "text": [
      "60\n",
      "52\n"
     ]
    }
   ],
   "source": [
    "def merge_and_count(arr, temp, left, mid, right):\n",
    "    i, j, k = left, mid + 1, left\n",
    "    inv_count = 0\n",
    "\n",
    "    while i <= mid and j <= right:\n",
    "        if arr[i] <= arr[j]:\n",
    "            temp[k] = arr[i]\n",
    "            i += 1\n",
    "        else:\n",
    "            temp[k] = arr[j]\n",
    "            inv_count += (mid - i + 1)\n",
    "            j += 1\n",
    "        k += 1\n",
    "\n",
    "    while i <= mid:\n",
    "        temp[k] = arr[i]\n",
    "        k += 1\n",
    "        i += 1\n",
    "\n",
    "    while j <= right:\n",
    "        temp[k] = arr[j]\n",
    "        k += 1\n",
    "        j += 1\n",
    "\n",
    "    for i in range(left, right + 1):\n",
    "        arr[i] = temp[i]\n",
    "\n",
    "    return inv_count\n",
    "\n",
    "def merge_sort_and_count(arr, temp, left, right):\n",
    "    inv_count = 0\n",
    "    if left < right:\n",
    "        mid = (left + right) // 2\n",
    "        inv_count += merge_sort_and_count(arr, temp, left, mid)\n",
    "        inv_count += merge_sort_and_count(arr, temp, mid + 1, right)\n",
    "        inv_count += merge_and_count(arr, temp, left, mid, right)\n",
    "    return inv_count\n",
    "\n",
    "def count_inversions(arr):\n",
    "    n = len(arr)\n",
    "    temp_arr = arr.copy()  # Create a copy of the array\n",
    "    temp = [0] * n\n",
    "    return merge_sort_and_count(temp_arr, temp, 0, n - 1)\n",
    "\n",
    "print(count_inversions(test_globe[0:M]))\n",
    "print(count_inversions(test_globe[M:2*M]))"
   ]
  },
  {
   "cell_type": "code",
   "execution_count": 305,
   "metadata": {},
   "outputs": [
    {
     "name": "stdout",
     "output_type": "stream",
     "text": [
      "[[ 0  1  2  3  4  5  6  7  8  9 10 11 12 13 14 15]\n",
      " [16 17 18 19 20 21 22 23 24 25 26 27 28 29 30 31]]\n",
      "[[ 0  2  1  3  4  5  6  7  8  9 10 11 12 13 14 15]\n",
      " [16 18 17 19 20 21 22 23 24 25 26 27 28 29 30 31]]\n"
     ]
    }
   ],
   "source": [
    "temp_test_globe = np.array([i for i in range(2*M)])\n",
    "\n",
    "# swaps i, i+1 for both top and bottom\n",
    "def swap_same_idx(i, arr, moves):\n",
    "    loc = M // 2 - 1\n",
    "    if i < loc:\n",
    "        i += M\n",
    "\n",
    "    delta = i - loc\n",
    "\n",
    "    arr = apply_move['f' + str(delta)](arr, moves)\n",
    "    arr = apply_move['r0'](arr, moves)\n",
    "    arr = apply_move['f' + str(delta)](arr, moves)\n",
    "\n",
    "    arr = apply_move['r1'](arr, moves)\n",
    "    arr = apply_move['r1'](arr, moves)\n",
    "\n",
    "    plus_half_minus_one = (delta + loc) % M\n",
    "\n",
    "    arr = apply_move['f' + str(plus_half_minus_one)](arr, moves)\n",
    "    arr = apply_move['r0'](arr, moves)\n",
    "    arr = apply_move['f' + str(plus_half_minus_one)](arr, moves)\n",
    "\n",
    "    arr = apply_move['-r0'](arr, moves) # cuold remove, but should be handled by ex-red\n",
    "    arr = apply_move['-r1'](arr, moves) # cuold remove, but should be handled by ex-red\n",
    "\n",
    "    return arr\n",
    "\n",
    "print_globe(temp_test_globe)\n",
    "print_globe(swap_same_idx(1, temp_test_globe, []))"
   ]
  },
  {
   "cell_type": "code",
   "execution_count": 306,
   "metadata": {},
   "outputs": [],
   "source": [
    "def get_inversion_locs(arr):\n",
    "    A, B = [], []\n",
    "    for i in range(0, M-1):\n",
    "        if (arr[i] > arr[i+1]):\n",
    "            A.append(i)\n",
    "\n",
    "    for i in range(M, 2*M-1):\n",
    "        if (arr[i] > arr[i+1]):\n",
    "            B.append(i - M)\n",
    "\n",
    "    return (A, B)\n",
    "\n",
    "# Could try: Non-circular min_abs_diff\n",
    "def min_abs_diff(A, B):\n",
    "    # A = A + [i + M for i in A]\n",
    "    # B = B + [i + M for i in B]\n",
    "    \n",
    "    i, j = 0, 0\n",
    "    min_diff = int(1e9)\n",
    "    min_indices = (-1, -1)\n",
    "\n",
    "    while i < len(A) and j < len(B):\n",
    "        diff = abs(A[i] - B[j])\n",
    "\n",
    "        if diff < min_diff:\n",
    "            min_diff = diff\n",
    "            min_indices = (A[i], B[j])\n",
    "\n",
    "        if A[i] < B[j]:\n",
    "            i += 1\n",
    "        else:\n",
    "            j += 1\n",
    "\n",
    "    if min_indices[0] >= M:\n",
    "        min_indices = (min_indices[0] - M, min_indices[1])\n",
    "\n",
    "    if min_indices[1] >= M:\n",
    "        min_indices = (min_indices[0], min_indices[1] - M)\n",
    "        \n",
    "    return min_indices\n",
    "\n",
    "def is_array_zero_to_n(arr):\n",
    "    n = len(arr) - 1\n",
    "    return len(arr) == n + 1 and set(arr) == set(range(n + 1))\n",
    "\n",
    "def check_swaps(arr, swaps):\n",
    "    arr_copy = arr.copy()\n",
    "    for swap in swaps:\n",
    "        if 0 <= swap < len(arr_copy) - 1:\n",
    "            arr_copy[swap], arr_copy[swap + 1] = arr_copy[swap + 1], arr_copy[swap]\n",
    "            # print(arr_copy)\n",
    "        else:\n",
    "            return False\n",
    "    return arr_copy == sorted(arr_copy)\n",
    "\n",
    "# Phase 2, finding optimal order of swaps of one array to minimize the amount of rotations of other\n",
    "# Minimize sum of absolute distances between swaps\n",
    "def get_swaps_order(arr):\n",
    "    swaps = []\n",
    "    arr = [i % M for i in arr]\n",
    "\n",
    "    mx = -1\n",
    "    move_forward = []\n",
    "    for i in range(len(arr)):\n",
    "        if(arr[i] < mx):\n",
    "             move_forward.append(i)\n",
    "        mx = max(mx, arr[i])\n",
    "\n",
    "    while move_forward:\n",
    "        for i in range(len(move_forward)-1, -1, -1):\n",
    "            if i != 0 and move_forward[i-1] == move_forward[i] - 1:\n",
    "                continue\n",
    "\n",
    "            swaps.append(move_forward[i] - 1)\n",
    "            arr[move_forward[i]-1], arr[move_forward[i]] = arr[move_forward[i]], arr[move_forward[i]-1]\n",
    "            move_forward[i] -= 1\n",
    "            \n",
    "            temp = -1\n",
    "            for k in range(move_forward[i]):\n",
    "                temp = max(temp, arr[k])\n",
    "\n",
    "            \n",
    "            if temp <= arr[move_forward[i]]:\n",
    "                move_forward.pop(i)\n",
    "                \n",
    "            break\n",
    "\n",
    "    if (not is_array_zero_to_n(arr)):\n",
    "        print(\"get_swaps_order function is incorrect\")\n",
    "        # swaps = swaps + get_swaps_order(arr)\n",
    "    \n",
    "    return swaps\n",
    "\n",
    "x = get_swaps_order([2,6,0,5,4,7,1,3])"
   ]
  },
  {
   "cell_type": "code",
   "execution_count": 307,
   "metadata": {},
   "outputs": [
    {
     "name": "stdout",
     "output_type": "stream",
     "text": [
      "[[14  6  5  9 11  1 10  2 13  3  7  4  8  0 15 12]\n",
      " [29 16 27 23 17 31 18 21 19 24 22 26 30 28 25 20]]\n"
     ]
    },
    {
     "data": {
      "text/plain": [
       "array([ 0,  1,  2,  3,  4,  5,  6,  7,  8,  9, 10, 11, 12, 13, 14, 15, 16,\n",
       "       17, 18, 19, 20, 21, 22, 23, 24, 25, 26, 27, 28, 29, 30, 31])"
      ]
     },
     "execution_count": 307,
     "metadata": {},
     "output_type": "execute_result"
    }
   ],
   "source": [
    "def is_array_zero_to_n(arr):\n",
    "    n = len(arr) - 1\n",
    "    return len(arr) == n + 1 and set(arr) == set(range(n + 1))\n",
    "\n",
    "def remove_inversions(arr, moves):\n",
    "    # print(\"A\")\n",
    "    # print_globe(arr)\n",
    "\n",
    "    # Phase 1: Both Have Inversions\n",
    "    up_inversions, down_inversions = get_inversion_locs(arr)\n",
    "\n",
    "    while up_inversions and down_inversions:\n",
    "        up_i, down_i = min_abs_diff(up_inversions, down_inversions)\n",
    "\n",
    "        if down_i < up_i: \n",
    "            diff = up_i - down_i # Could do: Try swapping K/2 left up, K/2 down right\n",
    "            for k in range(diff):\n",
    "                arr = apply_move['r0'](arr, moves)\n",
    "\n",
    "            arr = swap_same_idx(down_i, arr, moves)\n",
    "\n",
    "            for k in range(diff):\n",
    "                arr = apply_move['-r0'](arr, moves)\n",
    "\n",
    "        else:\n",
    "            diff = down_i - up_i # Could do: Try swapping K/2 left up, K/2 down right\n",
    "            for k in range(diff):\n",
    "                arr = apply_move['r1'](arr, moves)\n",
    "\n",
    "            arr = swap_same_idx(up_i, arr, moves)\n",
    "\n",
    "            for k in range(diff):\n",
    "                arr = apply_move['-r1'](arr, moves)\n",
    "\n",
    "        up_inversions, down_inversions = get_inversion_locs(arr)\n",
    "        \n",
    "\n",
    "    # print(\"B\")\n",
    "    # print_globe(arr)\n",
    "    \n",
    "    # Phase 2: Only one has inversion (FIX)\n",
    "    if (count_inversions(arr[M:2*M]) + count_inversions(arr[0:M])) % 2 != 0:\n",
    "        print(\"Failure: Leftover Inversions should be even\")\n",
    "        return [-1]\n",
    "\n",
    "    if up_inversions:\n",
    "        up_swaps = get_swaps_order(arr[0:M])\n",
    "        for k in range(0, len(up_swaps), 2):\n",
    "            diff = (up_swaps[k] - up_swaps[k+1] + M) % M\n",
    "            \n",
    "            arr = swap_same_idx(up_swaps[k], arr, moves)\n",
    "            \n",
    "            for l in range(diff):\n",
    "                arr = apply_move['r1'](arr, moves)\n",
    "            arr = swap_same_idx(up_swaps[k+1], arr, moves)\n",
    "            \n",
    "        \n",
    "    if down_inversions:\n",
    "        down_swaps = get_swaps_order(arr[M:2*M])\n",
    "        for k in range(0, len(down_swaps), 2):\n",
    "            diff = (down_swaps[k] - down_swaps[k+1] + M) % M\n",
    "            \n",
    "            arr = swap_same_idx(down_swaps[k], arr, moves)\n",
    "            \n",
    "            for l in range(diff):\n",
    "                arr = apply_move['r0'](arr, moves)\n",
    "\n",
    "            arr = swap_same_idx(down_swaps[k+1], arr, moves)\n",
    "\n",
    "\n",
    "    # Phase 3: Do some final rotations to get everything aligned right. Check correctness\n",
    "    while arr[0] != 0:\n",
    "        arr = apply_move['r0'](arr, moves)\n",
    "\n",
    "    while arr[M] != M:\n",
    "        arr = apply_move['r1'](arr, moves)\n",
    "    \n",
    "    # print(\"C\")\n",
    "    # print_globe(arr)\n",
    "\n",
    "    return arr\n",
    "\n",
    "\n",
    "# test_globe = apply_move['r0'](test_globe, [])\n",
    "\n",
    "print_globe(test_globe)\n",
    "remove_inversions(test_globe, [])"
   ]
  },
  {
   "cell_type": "code",
   "execution_count": 311,
   "metadata": {},
   "outputs": [],
   "source": [
    "def sort_top_bot(arr, moves = []):\n",
    "    res = [-1]\n",
    "\n",
    "    for i in range(M-1):\n",
    "        for j in range(M-1):\n",
    "            cur_moves = []\n",
    "            cur_arr = arr\n",
    "            \n",
    "            for k in range(i):\n",
    "                cur_arr = apply_move['r0'](cur_arr, cur_moves)\n",
    "\n",
    "            for k in range(j):\n",
    "                cur_arr = apply_move['r1'](cur_arr, cur_moves)\n",
    "            \n",
    "            if (count_inversions(cur_arr[0:M]) % 2 != count_inversions(cur_arr[M:2*M]) % 2):\n",
    "                continue\n",
    "\n",
    "            cur_arr = remove_inversions(cur_arr, cur_moves)\n",
    "\n",
    "            # TODO: Apply Exp-Red\n",
    "\n",
    "            if -1 in res or len(cur_moves) < len(res):\n",
    "                res = cur_moves\n",
    "    \n",
    "    if -1 in res:\n",
    "        print(\"Failure: No Rotations where top and bottom have same parity inversions\")\n",
    "\n",
    "    return res\n",
    "\n",
    "res = sort_top_bot(test_globe)"
   ]
  },
  {
   "cell_type": "code",
   "execution_count": 312,
   "metadata": {},
   "outputs": [
    {
     "name": "stdout",
     "output_type": "stream",
     "text": [
      "542\n"
     ]
    }
   ],
   "source": [
    "print(len(res))"
   ]
  },
  {
   "cell_type": "code",
   "execution_count": 313,
   "metadata": {},
   "outputs": [
    {
     "name": "stdout",
     "output_type": "stream",
     "text": [
      "[[ 0  1  2  3  4  5  6  7  8  9 10 11 12 13 14 15]\n",
      " [16 17 18 19 20 21 22 23 24 25 26 27 28 29 30 31]]\n"
     ]
    }
   ],
   "source": [
    "test_globe_copy = test_globe\n",
    "for i in res:\n",
    "    test_globe_copy = apply_move[i](test_globe_copy, [])\n",
    "print_globe(test_globe_copy)"
   ]
  },
  {
   "cell_type": "code",
   "execution_count": 314,
   "metadata": {},
   "outputs": [
    {
     "name": "stdout",
     "output_type": "stream",
     "text": [
      "542\n"
     ]
    }
   ],
   "source": [
    "print(len(res))"
   ]
  },
  {
   "cell_type": "code",
   "execution_count": 315,
   "metadata": {},
   "outputs": [
    {
     "name": "stdout",
     "output_type": "stream",
     "text": [
      "575\n"
     ]
    }
   ],
   "source": [
    "moves = moves + res\n",
    "print(len(moves))"
   ]
  },
  {
   "cell_type": "code",
   "execution_count": 316,
   "metadata": {},
   "outputs": [
    {
     "name": "stdout",
     "output_type": "stream",
     "text": [
      "[[30  0 22 15 24 19 14 18 31  6 23 16  9  1 29 13]\n",
      " [21 12  8 26  4 28  3 25  7 20  2 10 11 27  5 17]]\n"
     ]
    }
   ],
   "source": [
    "test_globe = puzzles_df[puzzles_df[\"puzzle_type\"] == \"globe_1/8\"]['initial_state'][idx]\n",
    "test_globe = np.array([int(x[1:]) for x in test_globe.split(';') if x])\n",
    "print_globe(test_globe)"
   ]
  },
  {
   "cell_type": "code",
   "execution_count": 317,
   "metadata": {},
   "outputs": [
    {
     "name": "stdout",
     "output_type": "stream",
     "text": [
      "[[ 0  1  2  3  4  5  6  7  8  9 10 11 12 13 14 15]\n",
      " [16 17 18 19 20 21 22 23 24 25 26 27 28 29 30 31]]\n"
     ]
    }
   ],
   "source": [
    "for i in moves:\n",
    "    test_globe = apply_move[i](test_globe, [])\n",
    "print_globe(test_globe)"
   ]
  },
  {
   "cell_type": "code",
   "execution_count": 318,
   "metadata": {},
   "outputs": [
    {
     "name": "stdout",
     "output_type": "stream",
     "text": [
      "435\n"
     ]
    }
   ],
   "source": [
    "def expand(path, n = 2, m = 16):    \n",
    "    rows = [[] for _ in range(n)]\n",
    "    \n",
    "    def expand_f(x):\n",
    "        for i in range(n):\n",
    "            rows[i].append(x)\n",
    "            rows[i].append('f0')\n",
    "            rows[i].append(m - x)\n",
    "    \n",
    "    for i in path:\n",
    "        if 'f' in i:\n",
    "            if '-' in i:\n",
    "                expand_f(int(i[2:]))\n",
    "            else:\n",
    "                expand_f(int(i[1:]))\n",
    "        else:\n",
    "            for j in range(n):\n",
    "                temp = 'r' + str(j)\n",
    "\n",
    "                if temp == i:\n",
    "                    rows[j].append(1)\n",
    "                    \n",
    "                temp = '-r' + str(j)\n",
    "\n",
    "                if temp == i:\n",
    "                    rows[j].append(m-1)\n",
    "\n",
    "    Rrows = [[] for _ in range(n)]\n",
    "\n",
    "    for r in range(n):\n",
    "        run = 0\n",
    "        for i in rows[r]:\n",
    "            if type(i) == type(0):\n",
    "                run += i\n",
    "            else:\n",
    "                Rrows[r].append(run)\n",
    "                Rrows[r].append('f0')\n",
    "                run = 0\n",
    "            \n",
    "        Rrows[r].append(run)\n",
    "    \n",
    "    return Rrows\n",
    "\n",
    "def shrink(rows, n = 2, m = 16):\n",
    "    for i in range(len(rows[0])):\n",
    "        mn = int(1e9)\n",
    "        for j in range(n):\n",
    "            if type(rows[j][i]) == type(1):\n",
    "                rows[j][i] %= m\n",
    "            else:\n",
    "                mn = min(mn, rows[j][i-1])\n",
    "        \n",
    "        for j in range(n):  \n",
    "            if type(rows[j][i]) == type('string'):\n",
    "                rows[j][i-1] -= mn\n",
    "                rows[j][i] = 'f' + str(mn)\n",
    "                rows[j][i+1] += mn\n",
    "    \n",
    "    final_moves = []\n",
    "    for i in range(len(rows[0])):\n",
    "        if type(rows[0][i]) == type('string'):\n",
    "            final_moves.append(rows[0][i])\n",
    "            continue\n",
    "\n",
    "        for j in range(n):\n",
    "            if rows[j][i] > m/2:\n",
    "                final_moves = final_moves + ['-r' + str(j)] * (m - rows[j][i])\n",
    "            else:\n",
    "                final_moves = final_moves + ['r' + str(j)] * (rows[j][i])\n",
    "\n",
    "    final_final_moves = []\n",
    "    i = 0\n",
    "    while i < len(final_moves):\n",
    "        if i != len(final_moves) - 1 and ('f' in final_moves[i]) and final_moves[i] == final_moves[i+1]:\n",
    "            i += 2\n",
    "        else:\n",
    "            final_final_moves.append(final_moves[i])\n",
    "            i += 1\n",
    "    \n",
    "    return final_final_moves\n",
    "\n",
    "def ex_red(moves):\n",
    "    ex = expand(moves)\n",
    "    return shrink(ex)\n",
    "\n",
    "print(len(ex_red(moves)))"
   ]
  },
  {
   "cell_type": "code",
   "execution_count": null,
   "metadata": {},
   "outputs": [],
   "source": [
    "def check_moves(arr, moves):\n",
    "    for i in moves:\n",
    "        arr = apply_move[i](arr, [])\n",
    "\n",
    "def solve_2xM(arr):\n",
    "    if not is_array_zero_to_n(list(sorted(arr))):\n",
    "        print(\"Array not in correct format for 2xM Solve\")\n",
    "    M = len(arr) // 2\n",
    "    set_moves(M)\n",
    "\n",
    "    # Move top/bot\n",
    "    move_moves = []\n",
    "    arr = move_top_bottom_helper(arr, move_moves)\n",
    "\n",
    "    # Sort top/bot\n",
    "    sort_moves = sort_top_bot(arr)\n",
    "\n",
    "    # Combine moves\n",
    "    res_moves = move_moves + sort_moves\n",
    "\n",
    "    print(\"Sorting moves:\", len(sort_moves), \"Move top/bot moves:\", len(move_moves))\n",
    "    print(\"Before Ex-Red\", len(res_moves))\n",
    "    \n",
    "    res_moves = ex_red(res_moves)\n",
    "\n",
    "    print(\"After Ex-Red\", len(res_move))\n",
    "    \n",
    "\n",
    "def solve_1xM(arr):\n",
    "    print(\"TODO\")"
   ]
  },
  {
   "cell_type": "markdown",
   "metadata": {},
   "source": [
    "# Solving N x M"
   ]
  },
  {
   "cell_type": "code",
   "execution_count": null,
   "metadata": {},
   "outputs": [],
   "source": []
  },
  {
   "cell_type": "code",
   "execution_count": null,
   "metadata": {},
   "outputs": [],
   "source": [
    "idx = 395\n",
    "N = 1+1\n",
    "M = int(2*33)"
   ]
  },
  {
   "cell_type": "code",
   "execution_count": 257,
   "metadata": {},
   "outputs": [
    {
     "data": {
      "text/html": [
       "<div>\n",
       "<style scoped>\n",
       "    .dataframe tbody tr th:only-of-type {\n",
       "        vertical-align: middle;\n",
       "    }\n",
       "\n",
       "    .dataframe tbody tr th {\n",
       "        vertical-align: top;\n",
       "    }\n",
       "\n",
       "    .dataframe thead th {\n",
       "        text-align: right;\n",
       "    }\n",
       "</style>\n",
       "<table border=\"1\" class=\"dataframe\">\n",
       "  <thead>\n",
       "    <tr style=\"text-align: right;\">\n",
       "      <th></th>\n",
       "      <th>id</th>\n",
       "      <th>puzzle_type</th>\n",
       "      <th>solution_state</th>\n",
       "      <th>initial_state</th>\n",
       "      <th>num_wildcards</th>\n",
       "    </tr>\n",
       "  </thead>\n",
       "  <tbody>\n",
       "    <tr>\n",
       "      <th>0</th>\n",
       "      <td>0</td>\n",
       "      <td>cube_2/2/2</td>\n",
       "      <td>A;A;A;A;B;B;B;B;C;C;C;C;D;D;D;D;E;E;E;E;F;F;F;F</td>\n",
       "      <td>D;E;D;A;E;B;A;B;C;A;C;A;D;C;D;F;F;F;E;E;B;F;B;C</td>\n",
       "      <td>0</td>\n",
       "    </tr>\n",
       "    <tr>\n",
       "      <th>1</th>\n",
       "      <td>1</td>\n",
       "      <td>cube_2/2/2</td>\n",
       "      <td>A;A;A;A;B;B;B;B;C;C;C;C;D;D;D;D;E;E;E;E;F;F;F;F</td>\n",
       "      <td>D;E;C;B;B;E;F;A;F;D;B;F;F;E;B;D;A;A;C;D;C;E;A;C</td>\n",
       "      <td>0</td>\n",
       "    </tr>\n",
       "    <tr>\n",
       "      <th>2</th>\n",
       "      <td>2</td>\n",
       "      <td>cube_2/2/2</td>\n",
       "      <td>A;A;A;A;B;B;B;B;C;C;C;C;D;D;D;D;E;E;E;E;F;F;F;F</td>\n",
       "      <td>E;F;C;C;F;A;D;D;B;B;A;F;E;B;C;A;A;B;D;F;E;E;C;D</td>\n",
       "      <td>0</td>\n",
       "    </tr>\n",
       "    <tr>\n",
       "      <th>3</th>\n",
       "      <td>3</td>\n",
       "      <td>cube_2/2/2</td>\n",
       "      <td>A;A;A;A;B;B;B;B;C;C;C;C;D;D;D;D;E;E;E;E;F;F;F;F</td>\n",
       "      <td>A;C;E;C;F;D;E;D;A;A;F;A;B;D;B;F;E;D;B;F;B;C;C;E</td>\n",
       "      <td>0</td>\n",
       "    </tr>\n",
       "    <tr>\n",
       "      <th>4</th>\n",
       "      <td>4</td>\n",
       "      <td>cube_2/2/2</td>\n",
       "      <td>A;A;A;A;B;B;B;B;C;C;C;C;D;D;D;D;E;E;E;E;F;F;F;F</td>\n",
       "      <td>E;D;E;D;A;E;F;B;A;C;F;D;F;D;C;A;F;B;C;C;B;E;B;A</td>\n",
       "      <td>0</td>\n",
       "    </tr>\n",
       "  </tbody>\n",
       "</table>\n",
       "</div>"
      ],
      "text/plain": [
       "   id puzzle_type                                   solution_state  \\\n",
       "0   0  cube_2/2/2  A;A;A;A;B;B;B;B;C;C;C;C;D;D;D;D;E;E;E;E;F;F;F;F   \n",
       "1   1  cube_2/2/2  A;A;A;A;B;B;B;B;C;C;C;C;D;D;D;D;E;E;E;E;F;F;F;F   \n",
       "2   2  cube_2/2/2  A;A;A;A;B;B;B;B;C;C;C;C;D;D;D;D;E;E;E;E;F;F;F;F   \n",
       "3   3  cube_2/2/2  A;A;A;A;B;B;B;B;C;C;C;C;D;D;D;D;E;E;E;E;F;F;F;F   \n",
       "4   4  cube_2/2/2  A;A;A;A;B;B;B;B;C;C;C;C;D;D;D;D;E;E;E;E;F;F;F;F   \n",
       "\n",
       "                                     initial_state  num_wildcards  \n",
       "0  D;E;D;A;E;B;A;B;C;A;C;A;D;C;D;F;F;F;E;E;B;F;B;C              0  \n",
       "1  D;E;C;B;B;E;F;A;F;D;B;F;F;E;B;D;A;A;C;D;C;E;A;C              0  \n",
       "2  E;F;C;C;F;A;D;D;B;B;A;F;E;B;C;A;A;B;D;F;E;E;C;D              0  \n",
       "3  A;C;E;C;F;D;E;D;A;A;F;A;B;D;B;F;E;D;B;F;B;C;C;E              0  \n",
       "4  E;D;E;D;A;E;F;B;A;C;F;D;F;D;C;A;F;B;C;C;B;E;B;A              0  "
      ]
     },
     "execution_count": 257,
     "metadata": {},
     "output_type": "execute_result"
    }
   ],
   "source": [
    "puzzles_df.head()"
   ]
  },
  {
   "cell_type": "code",
   "execution_count": null,
   "metadata": {},
   "outputs": [],
   "source": [
    "# redefine moves\n",
    "\n",
    "start_state = puzzles_df['initial_state'][idx].split(';')\n",
    "solution_state = puzzles_df['solution_state'][idx].split(';')\n",
    "\n",
    "for i in range(N):\n",
    "    if N-1-i > i:\n",
    "        break\n",
    "        \n",
    "    start_state = \n",
    "    \n",
    "    if N-1-1 == i:\n",
    "        solve_1xM("
   ]
  },
  {
   "cell_type": "markdown",
   "metadata": {
    "collapsed": false,
    "jupyter": {
     "outputs_hidden": false
    }
   },
   "source": [
    "# Submissions #\n",
    "\n",
    "The submission format requires moves in a sequence to be delimited by a period `.`. Indicate the inverse of a named move with a preceeding `-`. Moves are applied from left to right.\n",
    "\n",
    "The `sample_submission.csv` contains a baseline solution for each puzzle."
   ]
  },
  {
   "cell_type": "markdown",
   "metadata": {
    "collapsed": false,
    "jupyter": {
     "outputs_hidden": false
    }
   },
   "source": [
    "Let's check that the given sequence for the first puzzle is actually a solution."
   ]
  },
  {
   "cell_type": "code",
   "execution_count": null,
   "metadata": {},
   "outputs": [],
   "source": []
  }
 ],
 "metadata": {
  "kaggle": {
   "accelerator": "none",
   "dataSources": [
    {
     "databundleVersionId": 7339171,
     "sourceId": 65704,
     "sourceType": "competition"
    }
   ],
   "dockerImageVersionId": 30626,
   "isGpuEnabled": false,
   "isInternetEnabled": true,
   "language": "python",
   "sourceType": "notebook"
  },
  "kernelspec": {
   "display_name": "climate-change-ai-venv-kernel",
   "language": "python",
   "name": "climate-change-ai-venv-kernel"
  },
  "language_info": {
   "codemirror_mode": {
    "name": "ipython",
    "version": 3
   },
   "file_extension": ".py",
   "mimetype": "text/x-python",
   "name": "python",
   "nbconvert_exporter": "python",
   "pygments_lexer": "ipython3",
   "version": "3.11.6"
  },
  "name": "getting_started.ipynb"
 },
 "nbformat": 4,
 "nbformat_minor": 4
}
