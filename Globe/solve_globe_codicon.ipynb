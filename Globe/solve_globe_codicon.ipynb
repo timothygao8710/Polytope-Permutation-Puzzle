{
 "cells": [
  {
   "cell_type": "code",
   "execution_count": 369,
   "metadata": {
    "collapsed": false,
    "ExecuteTime": {
     "end_time": "2024-01-02T03:11:58.970949500Z",
     "start_time": "2024-01-02T03:11:58.863741700Z"
    }
   },
   "outputs": [],
   "source": [
    "import matplotlib.pyplot as plt\n",
    "from scipy import stats\n",
    "import numpy as np\n",
    "from numba import jit\n",
    "import pstats\n",
    "import heapq\n",
    "import time\n",
    "import cProfile\n",
    "import pandas as pd\n",
    "import numpy as np\n",
    "import pandas as pd\n",
    "from ast import literal_eval\n",
    "from pathlib import Path\n",
    "from pprint import pprint\n",
    "from sympy.combinatorics import Permutation\n",
    "\n",
    "puzzle_info_path = 'puzzle_info.csv'\n",
    "puzzles_path = 'puzzles.csv'\n",
    "sample_submission_path = 'sample_submission.csv'\n",
    "my_submission_path = 'submission.csv'\n",
    "\n",
    "puzzle_info_df = pd.read_csv(puzzle_info_path)\n",
    "puzzles_df = pd.read_csv(puzzles_path)\n",
    "sample_submission_df = pd.read_csv(sample_submission_path)\n",
    "my_submission_df = pd.read_csv(my_submission_path)"
   ]
  },
  {
   "cell_type": "code",
   "execution_count": 370,
   "metadata": {
    "ExecuteTime": {
     "end_time": "2024-01-02T03:11:58.982678300Z",
     "start_time": "2024-01-02T03:11:58.977480700Z"
    }
   },
   "outputs": [
    {
     "data": {
      "text/plain": "      id puzzle_type                                     solution_state  \\\n388  388  globe_3/33  A;A;A;A;A;A;C;C;C;C;C;C;E;E;E;E;E;E;G;G;G;G;G;...   \n389  389  globe_3/33  A;A;A;A;A;A;C;C;C;C;C;C;E;E;E;E;E;E;G;G;G;G;G;...   \n390  390  globe_3/33  A;A;A;A;A;A;C;C;C;C;C;C;E;E;E;E;E;E;G;G;G;G;G;...   \n391  391  globe_3/33  N0;N1;N2;N3;N4;N5;N6;N7;N8;N9;N10;N11;N12;N13;...   \n392  392  globe_3/33  A;A;A;A;A;A;C;C;C;C;C;C;E;E;E;E;E;E;G;G;G;G;G;...   \n393  393  globe_3/33  A;A;A;A;A;A;C;C;C;C;C;C;E;E;E;E;E;E;G;G;G;G;G;...   \n394  394  globe_3/33  A;A;A;A;A;A;C;C;C;C;C;C;E;E;E;E;E;E;G;G;G;G;G;...   \n395  395  globe_3/33  N0;N1;N2;N3;N4;N5;N6;N7;N8;N9;N10;N11;N12;N13;...   \n\n                                         initial_state  num_wildcards  \n388  G;Q;G;D;E;T;E;N;U;H;H;U;O;F;T;B;S;M;A;N;D;V;V;...              6  \n389  H;A;P;K;G;N;U;G;D;V;E;L;D;O;E;Q;D;A;A;H;L;J;A;...              0  \n390  F;O;N;B;B;D;V;E;B;J;F;L;S;G;U;E;O;P;U;F;R;R;J;...              0  \n391  N237;N257;N199;N215;N54;N261;N50;N6;N57;N32;N2...              0  \n392  L;A;O;U;T;Q;F;P;B;V;H;T;O;C;J;P;V;P;N;C;T;V;G;...              0  \n393  D;D;L;A;P;E;R;U;U;C;S;R;J;B;E;G;O;J;F;Q;R;E;D;...              0  \n394  V;L;N;G;B;V;R;E;H;A;K;S;I;N;G;E;V;C;L;G;S;M;P;...              0  \n395  N12;N219;N227;N198;N4;N208;N214;N245;N56;N55;N...              0  ",
      "text/html": "<div>\n<style scoped>\n    .dataframe tbody tr th:only-of-type {\n        vertical-align: middle;\n    }\n\n    .dataframe tbody tr th {\n        vertical-align: top;\n    }\n\n    .dataframe thead th {\n        text-align: right;\n    }\n</style>\n<table border=\"1\" class=\"dataframe\">\n  <thead>\n    <tr style=\"text-align: right;\">\n      <th></th>\n      <th>id</th>\n      <th>puzzle_type</th>\n      <th>solution_state</th>\n      <th>initial_state</th>\n      <th>num_wildcards</th>\n    </tr>\n  </thead>\n  <tbody>\n    <tr>\n      <th>388</th>\n      <td>388</td>\n      <td>globe_3/33</td>\n      <td>A;A;A;A;A;A;C;C;C;C;C;C;E;E;E;E;E;E;G;G;G;G;G;...</td>\n      <td>G;Q;G;D;E;T;E;N;U;H;H;U;O;F;T;B;S;M;A;N;D;V;V;...</td>\n      <td>6</td>\n    </tr>\n    <tr>\n      <th>389</th>\n      <td>389</td>\n      <td>globe_3/33</td>\n      <td>A;A;A;A;A;A;C;C;C;C;C;C;E;E;E;E;E;E;G;G;G;G;G;...</td>\n      <td>H;A;P;K;G;N;U;G;D;V;E;L;D;O;E;Q;D;A;A;H;L;J;A;...</td>\n      <td>0</td>\n    </tr>\n    <tr>\n      <th>390</th>\n      <td>390</td>\n      <td>globe_3/33</td>\n      <td>A;A;A;A;A;A;C;C;C;C;C;C;E;E;E;E;E;E;G;G;G;G;G;...</td>\n      <td>F;O;N;B;B;D;V;E;B;J;F;L;S;G;U;E;O;P;U;F;R;R;J;...</td>\n      <td>0</td>\n    </tr>\n    <tr>\n      <th>391</th>\n      <td>391</td>\n      <td>globe_3/33</td>\n      <td>N0;N1;N2;N3;N4;N5;N6;N7;N8;N9;N10;N11;N12;N13;...</td>\n      <td>N237;N257;N199;N215;N54;N261;N50;N6;N57;N32;N2...</td>\n      <td>0</td>\n    </tr>\n    <tr>\n      <th>392</th>\n      <td>392</td>\n      <td>globe_3/33</td>\n      <td>A;A;A;A;A;A;C;C;C;C;C;C;E;E;E;E;E;E;G;G;G;G;G;...</td>\n      <td>L;A;O;U;T;Q;F;P;B;V;H;T;O;C;J;P;V;P;N;C;T;V;G;...</td>\n      <td>0</td>\n    </tr>\n    <tr>\n      <th>393</th>\n      <td>393</td>\n      <td>globe_3/33</td>\n      <td>A;A;A;A;A;A;C;C;C;C;C;C;E;E;E;E;E;E;G;G;G;G;G;...</td>\n      <td>D;D;L;A;P;E;R;U;U;C;S;R;J;B;E;G;O;J;F;Q;R;E;D;...</td>\n      <td>0</td>\n    </tr>\n    <tr>\n      <th>394</th>\n      <td>394</td>\n      <td>globe_3/33</td>\n      <td>A;A;A;A;A;A;C;C;C;C;C;C;E;E;E;E;E;E;G;G;G;G;G;...</td>\n      <td>V;L;N;G;B;V;R;E;H;A;K;S;I;N;G;E;V;C;L;G;S;M;P;...</td>\n      <td>0</td>\n    </tr>\n    <tr>\n      <th>395</th>\n      <td>395</td>\n      <td>globe_3/33</td>\n      <td>N0;N1;N2;N3;N4;N5;N6;N7;N8;N9;N10;N11;N12;N13;...</td>\n      <td>N12;N219;N227;N198;N4;N208;N214;N245;N56;N55;N...</td>\n      <td>0</td>\n    </tr>\n  </tbody>\n</table>\n</div>"
     },
     "execution_count": 370,
     "metadata": {},
     "output_type": "execute_result"
    }
   ],
   "source": [
    "puzzles_df[puzzles_df[\"puzzle_type\"] == 'globe_1/8']\n",
    "# Two types: permutation & colors"
   ]
  },
  {
   "cell_type": "code",
   "execution_count": 371,
   "metadata": {
    "ExecuteTime": {
     "end_time": "2024-01-02T03:11:58.992825300Z",
     "start_time": "2024-01-02T03:11:58.981673500Z"
    }
   },
   "outputs": [],
   "source": [
    "idx = 343\n",
    "\n",
    "N = 1+1\n",
    "M = int(2*8)\n",
    "apply_move = {}"
   ]
  },
  {
   "cell_type": "markdown",
   "metadata": {
    "ExecuteTime": {
     "end_time": "2024-01-02T03:11:59.054871Z",
     "start_time": "2024-01-02T03:11:58.991840900Z"
    }
   },
   "source": [
    "# Solving 2xM"
   ]
  },
  {
   "cell_type": "code",
   "execution_count": 81,
   "outputs": [],
   "source": [
    "def print_globe(b):\n",
    "    print(np.asarray(b).reshape(2, M))"
   ],
   "metadata": {
    "collapsed": false,
    "ExecuteTime": {
     "end_time": "2023-12-30T05:32:46.119870700Z",
     "start_time": "2023-12-30T05:32:46.042816400Z"
    }
   }
  },
  {
   "cell_type": "code",
   "execution_count": 373,
   "outputs": [
    {
     "name": "stdout",
     "output_type": "stream",
     "text": [
      "r0\n",
      "[[  1   2   3   4   5   6   7   8   9  10  11  12  13  14  15  16  17  18\n",
      "   19  20  21  22  23  24  25  26  27  28  29  30  31  32  33  34  35  36\n",
      "   37  38  39  40  41  42  43  44  45  46  47  48  49  50  51  52  53  54\n",
      "   55  56  57  58  59  60  61  62  63  64  65   0]\n",
      " [ 66  67  68  69  70  71  72  73  74  75  76  77  78  79  80  81  82  83\n",
      "   84  85  86  87  88  89  90  91  92  93  94  95  96  97  98  99 100 101\n",
      "  102 103 104 105 106 107 108 109 110 111 112 113 114 115 116 117 118 119\n",
      "  120 121 122 123 124 125 126 127 128 129 130 131]]\n",
      "nr0\n",
      "[[ 65   0   1   2   3   4   5   6   7   8   9  10  11  12  13  14  15  16\n",
      "   17  18  19  20  21  22  23  24  25  26  27  28  29  30  31  32  33  34\n",
      "   35  36  37  38  39  40  41  42  43  44  45  46  47  48  49  50  51  52\n",
      "   53  54  55  56  57  58  59  60  61  62  63  64]\n",
      " [ 66  67  68  69  70  71  72  73  74  75  76  77  78  79  80  81  82  83\n",
      "   84  85  86  87  88  89  90  91  92  93  94  95  96  97  98  99 100 101\n",
      "  102 103 104 105 106 107 108 109 110 111 112 113 114 115 116 117 118 119\n",
      "  120 121 122 123 124 125 126 127 128 129 130 131]]\n",
      "r1\n",
      "[[  0   1   2   3   4   5   6   7   8   9  10  11  12  13  14  15  16  17\n",
      "   18  19  20  21  22  23  24  25  26  27  28  29  30  31  32  33  34  35\n",
      "   36  37  38  39  40  41  42  43  44  45  46  47  48  49  50  51  52  53\n",
      "   54  55  56  57  58  59  60  61  62  63  64  65]\n",
      " [ 67  68  69  70  71  72  73  74  75  76  77  78  79  80  81  82  83  84\n",
      "   85  86  87  88  89  90  91  92  93  94  95  96  97  98  99 100 101 102\n",
      "  103 104 105 106 107 108 109 110 111 112 113 114 115 116 117 118 119 120\n",
      "  121 122 123 124 125 126 127 128 129 130 131  66]]\n",
      "f0\n",
      "[[ 98  97  96  95  94  93  92  91  90  89  88  87  86  85  84  83  82  81\n",
      "   80  79  78  77  76  75  74  73  72  71  70  69  68  67  66  33  34  35\n",
      "   36  37  38  39  40  41  42  43  44  45  46  47  48  49  50  51  52  53\n",
      "   54  55  56  57  58  59  60  61  62  63  64  65]\n",
      " [ 32  31  30  29  28  27  26  25  24  23  22  21  20  19  18  17  16  15\n",
      "   14  13  12  11  10   9   8   7   6   5   4   3   2   1   0  99 100 101\n",
      "  102 103 104 105 106 107 108 109 110 111 112 113 114 115 116 117 118 119\n",
      "  120 121 122 123 124 125 126 127 128 129 130 131]]\n",
      "[[  0  99  98  97  96  95  94  93  92  91  90  89  88  87  86  85  84  83\n",
      "   82  81  80  79  78  77  76  75  74  73  72  71  70  69  68  67  34  35\n",
      "   36  37  38  39  40  41  42  43  44  45  46  47  48  49  50  51  52  53\n",
      "   54  55  56  57  58  59  60  61  62  63  64  65]\n",
      " [ 66  33  32  31  30  29  28  27  26  25  24  23  22  21  20  19  18  17\n",
      "   16  15  14  13  12  11  10   9   8   7   6   5   4   3   2   1 100 101\n",
      "  102 103 104 105 106 107 108 109 110 111 112 113 114 115 116 117 118 119\n",
      "  120 121 122 123 124 125 126 127 128 129 130 131]]\n",
      "[[  0   1 100  99  98  97  96  95  94  93  92  91  90  89  88  87  86  85\n",
      "   84  83  82  81  80  79  78  77  76  75  74  73  72  71  70  69  68  35\n",
      "   36  37  38  39  40  41  42  43  44  45  46  47  48  49  50  51  52  53\n",
      "   54  55  56  57  58  59  60  61  62  63  64  65]\n",
      " [ 66  67  34  33  32  31  30  29  28  27  26  25  24  23  22  21  20  19\n",
      "   18  17  16  15  14  13  12  11  10   9   8   7   6   5   4   3   2 101\n",
      "  102 103 104 105 106 107 108 109 110 111 112 113 114 115 116 117 118 119\n",
      "  120 121 122 123 124 125 126 127 128 129 130 131]]\n",
      "[[  1   2   3   4   5   6   7   8   9  10  11  12  13  14  15  16  17  18\n",
      "   19  20  21  22  23  24  25  26  27  28  29  30  31  32  98  33  34  35\n",
      "   36  37  38  39  40  41  42  43  44  45  46  47  48  49  50  51  52  53\n",
      "   54  55  56  57  58  59  60  61  62  63  64  65]\n",
      " [  0  66  67  68  69  70  71  72  73  74  75  76  77  78  79  80  81  82\n",
      "   83  84  85  86  87  88  89  90  91  92  93  94  95  96  97  99 100 101\n",
      "  102 103 104 105 106 107 108 109 110 111 112 113 114 115 116 117 118 119\n",
      "  120 121 122 123 124 125 126 127 128 129 130 131]]\n",
      "[[ 66   0   1   2   3   4   5   6   7   8   9  10  11  12  13  14  15  16\n",
      "   17  18  19  20  21  22  23  24  25  26  27  28  29  30  31  33  34  35\n",
      "   36  37  38  39  40  41  42  43  44  45  46  47  48  49  50  51  52  53\n",
      "   54  55  56  57  58  59  60  61  62  63  64  65]\n",
      " [ 67  68  69  70  71  72  73  74  75  76  77  78  79  80  81  82  83  84\n",
      "   85  86  87  88  89  90  91  92  93  94  95  96  97  98  32  99 100 101\n",
      "  102 103 104 105 106 107 108 109 110 111 112 113 114 115 116 117 118 119\n",
      "  120 121 122 123 124 125 126 127 128 129 130 131]]\n",
      "[[  0   1   2   3   4   5   6   7   8   9  10  11  12  13  14  15  16  17\n",
      "   18  19  20  21  22  23  24  25  26  27  28  29  30  31  32  66  33  34\n",
      "   35  36  37  38  39  40  41  42  43  44  45  46  47  48  49  50  51  52\n",
      "   53  54  55  56  57  58  59  60  61  62  63  64]\n",
      " [ 67  68  69  70  71  72  73  74  75  76  77  78  79  80  81  82  83  84\n",
      "   85  86  87  88  89  90  91  92  93  94  95  96  97  98  65  99 100 101\n",
      "  102 103 104 105 106 107 108 109 110 111 112 113 114 115 116 117 118 119\n",
      "  120 121 122 123 124 125 126 127 128 129 130 131]]\n",
      "[[  0   1   2   3   4   5   6   7   8   9  10  11  12  13  14  15  16  17\n",
      "   18  19  20  21  22  23  24  25  26  27  28  29  30  31  32  34  35  36\n",
      "   37  38  39  40  41  42  43  44  45  46  47  48  49  50  51  52  53  54\n",
      "   55  56  57  58  59  60  61  62  63  64  65  98]\n",
      " [ 33  66  67  68  69  70  71  72  73  74  75  76  77  78  79  80  81  82\n",
      "   83  84  85  86  87  88  89  90  91  92  93  94  95  96  97  99 100 101\n",
      "  102 103 104 105 106 107 108 109 110 111 112 113 114 115 116 117 118 119\n",
      "  120 121 122 123 124 125 126 127 128 129 130 131]]\n",
      "[[ 99   0   1   2   3   4   5   6   7   8   9  10  11  12  13  14  15  16\n",
      "   17  18  19  20  21  22  23  24  25  26  27  28  29  30  31  33  34  35\n",
      "   36  37  38  39  40  41  42  43  44  45  46  47  48  49  50  51  52  53\n",
      "   54  55  56  57  58  59  60  61  62  63  64  65]\n",
      " [ 66  67  68  69  70  71  72  73  74  75  76  77  78  79  80  81  82  83\n",
      "   84  85  86  87  88  89  90  91  92  93  94  95  96  97  98 100 101 102\n",
      "  103 104 105 106 107 108 109 110 111 112 113 114 115 116 117 118 119 120\n",
      "  121 122 123 124 125 126 127 128 129 130 131  32]]\n",
      "[[  1   2   3   4   5   6   7   8   9  10  11  12  13  14  15  16  17  18\n",
      "   19  20  21  22  23  24  25  26  27  28  29  30  31  32 131  33  34  35\n",
      "   36  37  38  39  40  41  42  43  44  45  46  47  48  49  50  51  52  53\n",
      "   54  55  56  57  58  59  60  61  62  63  64  65]\n",
      " [ 66  67  68  69  70  71  72  73  74  75  76  77  78  79  80  81  82  83\n",
      "   84  85  86  87  88  89  90  91  92  93  94  95  96  97  98   0  99 100\n",
      "  101 102 103 104 105 106 107 108 109 110 111 112 113 114 115 116 117 118\n",
      "  119 120 121 122 123 124 125 126 127 128 129 130]]\n"
     ]
    }
   ],
   "source": [
    "def make_moves():\n",
    "    \"\"\"\n",
    "    Creates global variable apply_move\n",
    "    \"\"\"\n",
    "    \n",
    "    # Create perms\n",
    "    r0_perm = np.array([i for i in range(2*M)])\n",
    "    r1_perm = np.array([i for i in range(2*M)])\n",
    "    f0_perm = np.array([i for i in range(2*M)])\n",
    "\n",
    "    r0_perm[M-1] = 0\n",
    "    for i in range(0, M-1):\n",
    "        r0_perm[i] = i+1\n",
    "\n",
    "    r1_perm[2 * M - 1] = M\n",
    "    for i in range(M, 2*M-1):\n",
    "        r1_perm[i] = i+1\n",
    "\n",
    "    for i in range(M//2):\n",
    "        f0_perm[i] = M + M//2 - 1 - i\n",
    "\n",
    "    for i in range(M, M + M//2):\n",
    "        f0_perm[i] = M//2-1 - (i-M)\n",
    "\n",
    "    nr0_perm = np.array([i for i in range(2*M)])\n",
    "    nr1_perm = np.array([i for i in range(2*M)])\n",
    "\n",
    "    for i in range(M-1):\n",
    "        nr0_perm = nr0_perm[r0_perm]\n",
    "\n",
    "    for i in range(M-1):\n",
    "        nr1_perm = nr1_perm[r1_perm]\n",
    "        \n",
    "    # Create r moves\n",
    "    \n",
    "    def r0(arr, moves):\n",
    "        moves.append('r0')\n",
    "        arr = arr[r0_perm]\n",
    "        return arr\n",
    "\n",
    "    def nr0(arr, moves):\n",
    "        moves.append('-r0')\n",
    "        arr = arr[nr0_perm]\n",
    "        return arr\n",
    "\n",
    "    def r1(arr, moves):\n",
    "        moves.append('r1')\n",
    "        arr = arr[r1_perm]\n",
    "        return arr\n",
    "\n",
    "    def nr1(arr, moves):\n",
    "        moves.append('-r1')\n",
    "        arr = arr[nr1_perm]\n",
    "        return arr\n",
    "\n",
    "    def f0(arr, moves):\n",
    "        moves.append('f0')\n",
    "        arr = arr[f0_perm]\n",
    "        return arr\n",
    "\n",
    "    apply_move['r0'] = r0\n",
    "    apply_move['-r0'] = nr0\n",
    "    apply_move['r1'] = r1\n",
    "    apply_move['-r1'] = nr1\n",
    "    apply_move['f0'] = f0\n",
    "    \n",
    "    # Create f moves\n",
    "    \n",
    "    def create_f_function(i, cur_perm):\n",
    "        return lambda arr, moves: (moves.append('f' + str(i)), arr[cur_perm])[1]\n",
    "\n",
    "    for i in range(1, M):\n",
    "        cur_perm = np.array([i for i in range(2*M)])\n",
    "\n",
    "        for j in range(i):\n",
    "            cur_perm = cur_perm[r0_perm]\n",
    "            cur_perm = cur_perm[r1_perm]\n",
    "\n",
    "        cur_perm = cur_perm[f0_perm]\n",
    "\n",
    "        for j in range(i):\n",
    "            cur_perm = cur_perm[nr0_perm]\n",
    "            cur_perm = cur_perm[nr1_perm]\n",
    "\n",
    "        apply_move['f' + str(i)] = create_f_function(i, cur_perm)"
   ],
   "metadata": {
    "collapsed": false,
    "ExecuteTime": {
     "end_time": "2024-01-02T03:11:59.054871Z",
     "start_time": "2024-01-02T03:11:59.016629600Z"
    }
   }
  },
  {
   "cell_type": "code",
   "execution_count": 374,
   "outputs": [
    {
     "name": "stdout",
     "output_type": "stream",
     "text": [
      "208\n",
      "823\n",
      "[['A' 'A' 'A' 'A' 'A' 'A' 'C' 'C' 'C' 'C' 'C' 'C' 'E' 'E' 'E' 'E' 'Q' 'Q'\n",
      "  'Q' 'Q' 'Q' 'S' 'S' 'S' 'S' 'S' 'S' 'U' 'U' 'U' 'U' 'U' 'U' 'N' 'J' 'H'\n",
      "  'K' 'I' 'O' 'N' 'K' 'O' 'H' 'K' 'P' 'K' 'F' 'O' 'H' 'E' 'J' 'P' 'H' 'H'\n",
      "  'J' 'L' 'E' 'N' 'R' 'P' 'M' 'P' 'G' 'N' 'J' 'I']\n",
      " ['B' 'B' 'B' 'B' 'B' 'B' 'D' 'D' 'D' 'D' 'D' 'D' 'F' 'F' 'F' 'F' 'R' 'R'\n",
      "  'R' 'R' 'R' 'T' 'T' 'T' 'T' 'T' 'T' 'V' 'V' 'V' 'V' 'V' 'V' 'O' 'J' 'G'\n",
      "  'F' 'I' 'I' 'M' 'G' 'I' 'N' 'L' 'L' 'N' 'K' 'P' 'O' 'I' 'G' 'J' 'P' 'O'\n",
      "  'G' 'M' 'L' 'M' 'L' 'Q' 'G' 'M' 'M' 'L' 'H' 'K']]\n",
      "[['A' 'A' 'A' 'A' 'A' 'A' 'C' 'C' 'C' 'C' 'C' 'C' 'E' 'E' 'E' 'E' 'E' 'E'\n",
      "  'G' 'G' 'G' 'G' 'G' 'G' 'I' 'I' 'I' 'I' 'I' 'I' 'K' 'K' 'K' 'K' 'K' 'K'\n",
      "  'M' 'M' 'M' 'M' 'M' 'M' 'O' 'O' 'O' 'O' 'O' 'O' 'Q' 'Q' 'Q' 'Q' 'Q' 'Q'\n",
      "  'S' 'S' 'S' 'S' 'S' 'S' 'U' 'U' 'U' 'U' 'U' 'U']\n",
      " ['B' 'B' 'B' 'B' 'B' 'B' 'D' 'D' 'D' 'D' 'D' 'D' 'F' 'F' 'F' 'F' 'F' 'F'\n",
      "  'H' 'H' 'H' 'H' 'H' 'H' 'J' 'J' 'J' 'J' 'J' 'J' 'L' 'L' 'L' 'L' 'L' 'L'\n",
      "  'N' 'N' 'N' 'N' 'N' 'N' 'P' 'P' 'P' 'P' 'P' 'P' 'R' 'R' 'R' 'R' 'R' 'R'\n",
      "  'T' 'T' 'T' 'T' 'T' 'T' 'V' 'V' 'V' 'V' 'V' 'V']]\n"
     ]
    }
   ],
   "source": [
    "make_moves(M)"
   ],
   "metadata": {
    "collapsed": false,
    "ExecuteTime": {
     "end_time": "2024-01-02T03:11:59.054871Z",
     "start_time": "2024-01-02T03:11:59.026261700Z"
    }
   }
  },
  {
   "cell_type": "code",
   "execution_count": 375,
   "metadata": {
    "ExecuteTime": {
     "end_time": "2024-01-02T03:11:59.054871Z",
     "start_time": "2024-01-02T03:11:59.036447300Z"
    }
   },
   "outputs": [],
   "source": [
    "def half_turn_ccw(arr, moves):\n",
    "    for i in range(M//2):\n",
    "        arr = apply_move['-r0'](arr, moves)\n",
    "    \n",
    "    arr = apply_move['f0'](arr, moves)\n",
    "    arr = apply_move['r0'](arr, moves)\n",
    "    arr = apply_move['f0'](arr, moves)\n",
    "    \n",
    "    for i in range(M//2):\n",
    "        arr = apply_move['r0'](arr, moves)\n",
    "    return arr\n",
    "\n",
    "print_globe(half_turn_ccw(test_globe, []))\n",
    "\n",
    "def half_turn_cw(arr, moves):\n",
    "    for i in range(M//2):\n",
    "        arr = apply_move['-r0'](arr, moves)\n",
    "    \n",
    "    arr = apply_move['f0'](arr, moves)\n",
    "    arr = apply_move['-r0'](arr, moves)\n",
    "    arr = apply_move['f0'](arr, moves)\n",
    "    \n",
    "    for i in range(M//2):\n",
    "        arr = apply_move['r0'](arr, moves)\n",
    "    return arr\n",
    "\n",
    "apply_move['half_turn'] = half_turn_ccw\n",
    "apply_move['rev_half_turn'] = half_turn_cw\n",
    "\n",
    "print_globe(half_turn_cw(test_globe, []))"
   ]
  },
  {
   "cell_type": "code",
   "execution_count": 376,
   "metadata": {
    "ExecuteTime": {
     "end_time": "2024-01-02T03:11:59.073229Z",
     "start_time": "2024-01-02T03:11:59.047583300Z"
    }
   },
   "outputs": [],
   "source": [
    "test_globe = np.array([i for i in range(2*M)])\n",
    "\n",
    "def top_right_cw(arr, moves):\n",
    "    arr = apply_move['f0'](arr, moves)\n",
    "    arr = apply_move['-r0'](arr, moves)\n",
    "    arr = apply_move['f0'](arr, moves)\n",
    "    return arr\n",
    "\n",
    "def top_right_ccw(arr, moves):\n",
    "    arr = apply_move['f0'](arr, moves)\n",
    "    arr = apply_move['r0'](arr, moves)\n",
    "    arr = apply_move['f0'](arr, moves)\n",
    "    return arr\n",
    "\n",
    "def top_left_ccw(arr, moves):\n",
    "    arr = apply_move['f0'](arr, moves)\n",
    "    arr = apply_move['-r1'](arr, moves)\n",
    "    arr = apply_move['f0'](arr, moves)\n",
    "    return arr\n",
    "\n",
    "def top_left_cw(arr, moves):\n",
    "    arr = apply_move['f0'](arr, moves)\n",
    "    arr = apply_move['r1'](arr, moves)\n",
    "    arr = apply_move['f0'](arr, moves)\n",
    "    return arr\n",
    "\n",
    "apply_move['top_right_cw'] = top_right_cw\n",
    "apply_move['top_right_ccw'] = top_right_ccw\n",
    "apply_move['top_left_cw'] = top_left_cw\n",
    "apply_move['top_left_ccw'] = top_left_ccw\n",
    "\n",
    "print_globe(top_right_cw(test_globe, []))\n",
    "print_globe(top_right_ccw(test_globe, []))\n",
    "print_globe(top_left_cw(test_globe, []))\n",
    "print_globe(top_left_ccw(test_globe, []))"
   ]
  },
  {
   "cell_type": "markdown",
   "metadata": {
    "ExecuteTime": {
     "end_time": "2024-01-01T04:14:22.082297200Z",
     "start_time": "2024-01-01T04:14:22.037466Z"
    }
   },
   "source": [
    "## Phase 1: Sort Elements Into Top/Bottom Arrays"
   ]
  },
  {
   "cell_type": "code",
   "execution_count": 52,
   "metadata": {
    "ExecuteTime": {
     "end_time": "2023-12-31T05:12:44.246536Z",
     "start_time": "2023-12-31T05:12:44.226661200Z"
    }
   },
   "outputs": [],
   "source": [
    "test_globe = puzzles_df[puzzles_df[\"puzzle_type\"] == \"globe_1/8\"]['initial_state'][idx]\n",
    "test_globe = np.array([int(x[1:]) for x in test_globe.split(';') if x])\n",
    "print_globe(test_globe)"
   ]
  },
  {
   "cell_type": "code",
   "execution_count": null,
   "metadata": {
    "ExecuteTime": {
     "start_time": "2023-12-31T05:03:58.833054800Z"
    }
   },
   "outputs": [],
   "source": [
    "moves = []"
   ]
  },
  {
   "cell_type": "code",
   "execution_count": 90,
   "metadata": {
    "ExecuteTime": {
     "end_time": "2023-12-30T05:32:46.155881400Z",
     "start_time": "2023-12-30T05:32:46.134156500Z"
    }
   },
   "outputs": [
    {
     "name": "stdout",
     "output_type": "stream",
     "text": [
      "[[13  1  9  8 11  2  4  5  6  3  7 10 14  0 12 15]\n",
      " [28 21 31 18 19 29 22 24 27 23 26 16 25 17 30 20]]\n"
     ]
    }
   ],
   "source": [
    "def is_moved_top_bottom(arr):\n",
    "    for i in range(M):\n",
    "        if arr[i] >= M:\n",
    "            return False\n",
    "    for i in range(M, 2*M):\n",
    "        if arr[i] < M:\n",
    "            return False\n",
    "    return True\n",
    "\n",
    "# change this to allow all M cyclic rotates\n",
    "def move_top_bottom_helper(arr, moves):\n",
    "    while not is_moved_top_bottom(arr):\n",
    "        \n",
    "        rotate_locs = [\n",
    "            (M//2, M + M // 2 - 1, 'top_right_ccw'),\n",
    "            (M-1, M, 'top_right_cw'),\n",
    "            (M//2-1, M + M//2, 'top_left_cw'),\n",
    "            (0, 2*M-1, 'top_left_ccw')\n",
    "        ]\n",
    "\n",
    "        all_costs = []\n",
    "\n",
    "        for a, b, op_name in rotate_locs:\n",
    "            mn_a, mn_b = int(1e9), int(1e9)\n",
    "            top_ops, bot_ops = [], []\n",
    "            \n",
    "            for i in range(M):\n",
    "                if arr[i] >= M: # TODO: Try no abs. Can only r0\n",
    "                    if abs(i - a) < mn_a:\n",
    "                        mn_a = abs(i-a)\n",
    "\n",
    "                        if i < a: # rotate right\n",
    "                            top_ops = ['-r0'] * (a - i)\n",
    "                        else:\n",
    "                            top_ops = ['r0'] * (i - a)\n",
    "\n",
    "            for i in range(M, 2*M):\n",
    "                if arr[i] < M:\n",
    "                    if abs(i - b) < mn_b:\n",
    "                        mn_b = abs(i - b)\n",
    "\n",
    "                        if i < b:\n",
    "                            bot_ops = ['-r1'] * (b - i)\n",
    "                        else:\n",
    "                            bot_ops = ['r1'] * (i - b)\n",
    "\n",
    "            all_costs.append((mn_a + mn_b, top_ops + bot_ops, op_name))\n",
    "\n",
    "        all_costs = list(sorted(all_costs))\n",
    "        for i in all_costs[0][1]:\n",
    "            arr = apply_move[i](arr, moves)\n",
    "        arr = apply_move[all_costs[0][2]](arr, moves)\n",
    "    return arr\n",
    "\n",
    "print_globe(move_top_bottom_helper(test_globe, []))"
   ]
  },
  {
   "cell_type": "code",
   "execution_count": 91,
   "metadata": {
    "ExecuteTime": {
     "end_time": "2023-12-30T05:32:46.233378200Z",
     "start_time": "2023-12-30T05:32:46.143763500Z"
    }
   },
   "outputs": [],
   "source": [
    "# def sort_top_bottom(arr, moves):\n",
    "#     a = []\n",
    "#     a_arr = sort_top_bottom_helper(arr, a)\n",
    "\n",
    "#     b = ['f0', 'f' + str(M//2)] # untested\n",
    "#     arr = apply_move['f0'](arr, [])\n",
    "    \n",
    "#     for i in range(M//2):\n",
    "#         arr = apply_move['r0'](arr, [])\n",
    "#         arr = apply_move['r1'](arr, [])\n",
    "\n",
    "#     arr = apply_move['f0'](arr, [])\n",
    "\n",
    "#     for i in range(M//2):\n",
    "#         arr = apply_move['-r0'](arr, [])\n",
    "#         arr = apply_move['-r1'](arr, [])\n",
    "\n",
    "#     b_arr = sort_top_bottom_helper(arr, b)\n",
    "\n",
    "#     if len(b) < len(a):\n",
    "#         for i in b:\n",
    "#             moves.append(i)\n",
    "#         return b_arr\n",
    "\n",
    "#     for i in a:\n",
    "#         moves.append(i)\n",
    "#     return a_arr\n",
    "\n",
    "# test_globe = sort_top_bottom(test_globe, moves)\n",
    "# test_globe = sort_top_bottom_helper(test_globe, moves)\n",
    "# print_globe(test_globe)"
   ]
  },
  {
   "cell_type": "code",
   "execution_count": 92,
   "metadata": {
    "ExecuteTime": {
     "end_time": "2023-12-30T05:32:46.269747300Z",
     "start_time": "2023-12-30T05:32:46.153882500Z"
    }
   },
   "outputs": [],
   "source": [
    "test_globe = move_top_bottom_helper(test_globe, moves)\n",
    "top_bot_moves = moves\n",
    "top_bot_state = test_globe\n",
    "# try only applying ex-red here"
   ]
  },
  {
   "cell_type": "markdown",
   "metadata": {},
   "source": [
    "# Phase 2: Remove Inversions"
   ]
  },
  {
   "cell_type": "code",
   "execution_count": 93,
   "metadata": {
    "ExecuteTime": {
     "end_time": "2023-12-30T05:32:46.286462600Z",
     "start_time": "2023-12-30T05:32:46.164990300Z"
    }
   },
   "outputs": [
    {
     "name": "stdout",
     "output_type": "stream",
     "text": [
      "[[13  1  9  8 11  2  4  5  6  3  7 10 14  0 12 15]\n",
      " [28 21 31 18 19 29 22 24 27 23 26 16 25 17 30 20]]\n"
     ]
    }
   ],
   "source": [
    "test_globe = top_bot_state\n",
    "moves = top_bot_moves\n",
    "\n",
    "print_globe(test_globe)"
   ]
  },
  {
   "cell_type": "code",
   "execution_count": 94,
   "metadata": {
    "ExecuteTime": {
     "end_time": "2023-12-30T05:32:46.286462600Z",
     "start_time": "2023-12-30T05:32:46.179177100Z"
    }
   },
   "outputs": [
    {
     "name": "stdout",
     "output_type": "stream",
     "text": [
      "49\n",
      "66\n"
     ]
    }
   ],
   "source": [
    "def merge_and_count(arr, temp, left, mid, right):\n",
    "    i, j, k = left, mid + 1, left\n",
    "    inv_count = 0\n",
    "\n",
    "    while i <= mid and j <= right:\n",
    "        if arr[i] <= arr[j]:\n",
    "            temp[k] = arr[i]\n",
    "            i += 1\n",
    "        else:\n",
    "            temp[k] = arr[j]\n",
    "            inv_count += (mid - i + 1)\n",
    "            j += 1\n",
    "        k += 1\n",
    "\n",
    "    while i <= mid:\n",
    "        temp[k] = arr[i]\n",
    "        k += 1\n",
    "        i += 1\n",
    "\n",
    "    while j <= right:\n",
    "        temp[k] = arr[j]\n",
    "        k += 1\n",
    "        j += 1\n",
    "\n",
    "    for i in range(left, right + 1):\n",
    "        arr[i] = temp[i]\n",
    "\n",
    "    return inv_count\n",
    "\n",
    "def merge_sort_and_count(arr, temp, left, right):\n",
    "    inv_count = 0\n",
    "    if left < right:\n",
    "        mid = (left + right) // 2\n",
    "        inv_count += merge_sort_and_count(arr, temp, left, mid)\n",
    "        inv_count += merge_sort_and_count(arr, temp, mid + 1, right)\n",
    "        inv_count += merge_and_count(arr, temp, left, mid, right)\n",
    "    return inv_count\n",
    "\n",
    "def count_inversions(arr):\n",
    "    n = len(arr)\n",
    "    temp_arr = arr.copy()  # Create a copy of the array\n",
    "    temp = [0] * n\n",
    "    return merge_sort_and_count(temp_arr, temp, 0, n - 1)\n",
    "\n",
    "print(count_inversions(test_globe[0:M]))\n",
    "print(count_inversions(test_globe[M:2*M]))"
   ]
  },
  {
   "cell_type": "code",
   "execution_count": 95,
   "metadata": {
    "ExecuteTime": {
     "end_time": "2023-12-30T05:32:46.286462600Z",
     "start_time": "2023-12-30T05:32:46.186375400Z"
    }
   },
   "outputs": [
    {
     "name": "stdout",
     "output_type": "stream",
     "text": [
      "[[ 0  2  1  3  4  5  6  7  8  9 10 11 12 13 14 15]\n",
      " [16 18 17 19 20 21 22 23 24 25 26 27 28 29 30 31]]\n"
     ]
    }
   ],
   "source": [
    "temp_test_globe = np.array([i for i in range(2*M)])\n",
    "\n",
    "# swaps i, i+1 for both top and bottom\n",
    "def swap_same_idx(i, arr, moves):\n",
    "    loc = M // 2 - 1\n",
    "    if i < loc:\n",
    "        i += M\n",
    "\n",
    "    delta = i - loc\n",
    "\n",
    "    arr = apply_move['f' + str(delta)](arr, moves)\n",
    "    arr = apply_move['r0'](arr, moves)\n",
    "    arr = apply_move['f' + str(delta)](arr, moves)\n",
    "\n",
    "    arr = apply_move['r1'](arr, moves)\n",
    "    arr = apply_move['r1'](arr, moves)\n",
    "\n",
    "    plus_seven = (delta + 7) % M\n",
    "\n",
    "    arr = apply_move['f' + str(plus_seven)](arr, moves)\n",
    "    arr = apply_move['r0'](arr, moves)\n",
    "    arr = apply_move['f' + str(plus_seven)](arr, moves)\n",
    "\n",
    "    arr = apply_move['-r0'](arr, moves) # cuold remove, but should be handled by ex-red\n",
    "    arr = apply_move['-r1'](arr, moves) # cuold remove, but should be handled by ex-red\n",
    "\n",
    "    return arr\n",
    "\n",
    "print_globe(swap_same_idx(1, temp_test_globe, []))"
   ]
  },
  {
   "cell_type": "code",
   "execution_count": 96,
   "metadata": {
    "ExecuteTime": {
     "end_time": "2023-12-30T05:32:46.286462600Z",
     "start_time": "2023-12-30T05:32:46.202458200Z"
    }
   },
   "outputs": [],
   "source": [
    "def get_inversion_locs(arr):\n",
    "    A, B = [], []\n",
    "    for i in range(0, M-1):\n",
    "        if (arr[i] > arr[i+1]):\n",
    "            A.append(i)\n",
    "\n",
    "    for i in range(M, 2*M-1):\n",
    "        if (arr[i] > arr[i+1]):\n",
    "            B.append(i - M)\n",
    "\n",
    "    return (A, B)\n",
    "\n",
    "# Could try: Non-circular min_abs_diff\n",
    "def min_abs_diff(A, B):\n",
    "    A = A + [i + M for i in A]\n",
    "    B = B + [i + M for i in B]\n",
    "    \n",
    "    i, j = 0, 0\n",
    "    min_diff = int(1e9)\n",
    "    min_indices = (-1, -1)\n",
    "\n",
    "    while i < len(A) and j < len(B):\n",
    "        diff = abs(A[i] - B[j])\n",
    "\n",
    "        if diff < min_diff:\n",
    "            min_diff = diff\n",
    "            min_indices = (A[i], B[j])\n",
    "\n",
    "        if A[i] < B[j]:\n",
    "            i += 1\n",
    "        else:\n",
    "            j += 1\n",
    "\n",
    "    if min_indices[0] >= M:\n",
    "        min_indices = (min_indices[0] - M, min_indices[1])\n",
    "\n",
    "    if min_indices[1] >= M:\n",
    "        min_indices = (min_indices[0], min_indices[1] - M)\n",
    "        \n",
    "    return min_indices\n",
    "\n",
    "def is_array_zero_to_n(arr):\n",
    "    n = len(arr) - 1\n",
    "    return len(arr) == n + 1 and set(arr) == set(range(n + 1))\n",
    "\n",
    "def check_swaps(arr, swaps):\n",
    "    arr_copy = arr.copy()\n",
    "    for swap in swaps:\n",
    "        if 0 <= swap < len(arr_copy) - 1:\n",
    "            arr_copy[swap], arr_copy[swap + 1] = arr_copy[swap + 1], arr_copy[swap]\n",
    "            # print(arr_copy)\n",
    "        else:\n",
    "            return False\n",
    "    return arr_copy == sorted(arr_copy)\n",
    "\n",
    "# Phase 2, finding optimal order of swaps of one array to minimize the amount of rotations of other\n",
    "# Minimize sum of absolute distances between swaps\n",
    "def get_swaps_order(arr):\n",
    "    swaps = []\n",
    "    arr = [i % M for i in arr]\n",
    "\n",
    "    mx = -1\n",
    "    move_forward = []\n",
    "    for i in range(len(arr)):\n",
    "        if(arr[i] < mx):\n",
    "             move_forward.append(i)\n",
    "        mx = max(mx, arr[i])\n",
    "\n",
    "    while move_forward:\n",
    "        for i in range(len(move_forward)-1, -1, -1):\n",
    "            if i != 0 and move_forward[i-1] == move_forward[i] - 1:\n",
    "                continue\n",
    "\n",
    "            swaps.append(move_forward[i] - 1)\n",
    "            arr[move_forward[i]-1], arr[move_forward[i]] = arr[move_forward[i]], arr[move_forward[i]-1]\n",
    "            move_forward[i] -= 1\n",
    "            \n",
    "            temp = -1\n",
    "            for k in range(move_forward[i]):\n",
    "                temp = max(temp, arr[k])\n",
    "\n",
    "            \n",
    "            if temp <= arr[move_forward[i]]:\n",
    "                move_forward.pop(i)\n",
    "                \n",
    "            break\n",
    "\n",
    "    if (not is_array_zero_to_n(arr)):\n",
    "        print(\"get_swaps_order function is incorrect\")\n",
    "        # swaps = swaps + get_swaps_order(arr)\n",
    "    \n",
    "    return swaps\n",
    "\n",
    "x = get_swaps_order([2,6,0,5,4,7,1,3])"
   ]
  },
  {
   "cell_type": "code",
   "execution_count": 97,
   "metadata": {
    "ExecuteTime": {
     "end_time": "2023-12-30T05:32:46.286462600Z",
     "start_time": "2023-12-30T05:32:46.212505800Z"
    }
   },
   "outputs": [
    {
     "name": "stdout",
     "output_type": "stream",
     "text": [
      "[[13  1  9  8 11  2  4  5  6  3  7 10 14  0 12 15]\n",
      " [28 21 31 18 19 29 22 24 27 23 26 16 25 17 30 20]]\n",
      "Failure: Leftover Inversions should be even\n"
     ]
    },
    {
     "data": {
      "text/plain": "[-1]"
     },
     "execution_count": 97,
     "metadata": {},
     "output_type": "execute_result"
    }
   ],
   "source": [
    "def is_array_zero_to_n(arr):\n",
    "    n = len(arr) - 1\n",
    "    return len(arr) == n + 1 and set(arr) == set(range(n + 1))\n",
    "\n",
    "def remove_inversions(arr, moves):\n",
    "    # print(\"A\")\n",
    "    # print_globe(arr)\n",
    "\n",
    "    # Phase 1: Both Have Inversions\n",
    "    up_inversions, down_inversions = get_inversion_locs(arr)\n",
    "\n",
    "    while up_inversions and down_inversions:\n",
    "        up_i, down_i = min_abs_diff(up_inversions, down_inversions)\n",
    "\n",
    "        if down_i < up_i: \n",
    "            diff = up_i - down_i # Could do: Try swapping K/2 left up, K/2 down right\n",
    "            for k in range(diff):\n",
    "                arr = apply_move['r0'](arr, moves)\n",
    "\n",
    "            arr = swap_same_idx(down_i, arr, moves)\n",
    "\n",
    "            for k in range(diff):\n",
    "                arr = apply_move['-r0'](arr, moves)\n",
    "\n",
    "        else:\n",
    "            diff = down_i - up_i # Could do: Try swapping K/2 left up, K/2 down right\n",
    "            for k in range(diff):\n",
    "                arr = apply_move['r1'](arr, moves)\n",
    "\n",
    "            arr = swap_same_idx(up_i, arr, moves)\n",
    "\n",
    "            for k in range(diff):\n",
    "                arr = apply_move['-r1'](arr, moves)\n",
    "\n",
    "        up_inversions, down_inversions = get_inversion_locs(arr)\n",
    "        \n",
    "\n",
    "    # print(\"B\")\n",
    "    # print_globe(arr)\n",
    "    \n",
    "    # Phase 2: Only one has inversion (FIX)\n",
    "    if (count_inversions(arr[M:2*M]) + count_inversions(arr[0:M])) % 2 != 0:\n",
    "        print(\"Failure: Leftover Inversions should be even\")\n",
    "        return [-1]\n",
    "\n",
    "    if up_inversions:\n",
    "        up_swaps = get_swaps_order(arr[0:M])\n",
    "        for k in range(0, len(up_swaps), 2):\n",
    "            diff = (up_swaps[k] - up_swaps[k+1] + M) % M\n",
    "            \n",
    "            arr = swap_same_idx(up_swaps[k], arr, moves)\n",
    "            \n",
    "            for l in range(diff):\n",
    "                arr = apply_move['r1'](arr, moves)\n",
    "            arr = swap_same_idx(up_swaps[k+1], arr, moves)\n",
    "            \n",
    "        \n",
    "    if down_inversions:\n",
    "        down_swaps = get_swaps_order(arr[M:2*M])\n",
    "        for k in range(0, len(down_swaps), 2):\n",
    "            diff = (down_swaps[k] - down_swaps[k+1] + M) % M\n",
    "            \n",
    "            arr = swap_same_idx(down_swaps[k], arr, moves)\n",
    "            \n",
    "            for l in range(diff):\n",
    "                arr = apply_move['r0'](arr, moves)\n",
    "\n",
    "            arr = swap_same_idx(down_swaps[k+1], arr, moves)\n",
    "\n",
    "\n",
    "    # Phase 3: Do some final rotations to get everything aligned right. Check correctness\n",
    "    while arr[0] != 0:\n",
    "        arr = apply_move['r0'](arr, moves)\n",
    "\n",
    "    while arr[M] != M:\n",
    "        arr = apply_move['r1'](arr, moves)\n",
    "    \n",
    "    # print(\"C\")\n",
    "    # print_globe(arr)\n",
    "\n",
    "    return arr\n",
    "\n",
    "\n",
    "# test_globe = apply_move['r0'](test_globe, [])\n",
    "\n",
    "print_globe(test_globe)\n",
    "remove_inversions(test_globe, [])"
   ]
  },
  {
   "cell_type": "code",
   "execution_count": 98,
   "metadata": {
    "ExecuteTime": {
     "end_time": "2023-12-30T05:32:46.487741800Z",
     "start_time": "2023-12-30T05:32:46.226175200Z"
    }
   },
   "outputs": [],
   "source": [
    "def sort_top_bot(arr):\n",
    "    res = [-1]\n",
    "\n",
    "    for i in range(M-1):\n",
    "        for j in range(M-1):\n",
    "            cur_moves = []\n",
    "            cur_arr = arr\n",
    "            \n",
    "            for k in range(i):\n",
    "                cur_arr = apply_move['r0'](cur_arr, cur_moves)\n",
    "\n",
    "            for k in range(j):\n",
    "                cur_arr = apply_move['r1'](cur_arr, cur_moves)\n",
    "            \n",
    "            if (count_inversions(cur_arr[0:M]) % 2 != count_inversions(cur_arr[M:2*M]) % 2):\n",
    "                continue\n",
    "\n",
    "            cur_arr = remove_inversions(cur_arr, cur_moves)\n",
    "\n",
    "            # TODO: Apply Exp-Red\n",
    "\n",
    "            if -1 in res or len(cur_moves) < len(res):\n",
    "                res = cur_moves\n",
    "    \n",
    "    if -1 in res:\n",
    "        print(\"Failure: No Rotations where top and bottom have same parity inversions\")\n",
    "\n",
    "    return res\n",
    "\n",
    "res = sort_top_bot(test_globe)"
   ]
  },
  {
   "cell_type": "code",
   "execution_count": 99,
   "metadata": {
    "ExecuteTime": {
     "end_time": "2023-12-30T05:32:46.503770100Z",
     "start_time": "2023-12-30T05:32:46.357495800Z"
    }
   },
   "outputs": [
    {
     "name": "stdout",
     "output_type": "stream",
     "text": [
      "[[ 0  1  2  3  4  5  6  7  8  9 10 11 12 13 14 15]\n",
      " [16 17 18 19 20 21 22 23 24 25 26 27 28 29 30 31]]\n"
     ]
    }
   ],
   "source": [
    "test_globe_copy = test_globe\n",
    "for i in res:\n",
    "    test_globe_copy = apply_move[i](test_globe_copy, [])\n",
    "print_globe(test_globe_copy)"
   ]
  },
  {
   "cell_type": "code",
   "execution_count": 100,
   "metadata": {
    "ExecuteTime": {
     "end_time": "2023-12-30T05:32:46.503770100Z",
     "start_time": "2023-12-30T05:32:46.361493900Z"
    }
   },
   "outputs": [
    {
     "name": "stdout",
     "output_type": "stream",
     "text": [
      "623\n"
     ]
    }
   ],
   "source": [
    "print(len(res))"
   ]
  },
  {
   "cell_type": "code",
   "execution_count": 101,
   "metadata": {
    "ExecuteTime": {
     "end_time": "2023-12-30T05:32:46.503770100Z",
     "start_time": "2023-12-30T05:32:46.370599900Z"
    }
   },
   "outputs": [
    {
     "name": "stdout",
     "output_type": "stream",
     "text": [
      "667\n"
     ]
    }
   ],
   "source": [
    "moves = moves + res\n",
    "print(len(moves))"
   ]
  },
  {
   "cell_type": "code",
   "execution_count": 102,
   "metadata": {
    "ExecuteTime": {
     "end_time": "2023-12-30T05:32:46.503770100Z",
     "start_time": "2023-12-30T05:32:46.391877300Z"
    }
   },
   "outputs": [
    {
     "name": "stdout",
     "output_type": "stream",
     "text": [
      "[[21  1  9 20 30  8 25 26 11  2 16 27  4 28  6 13]\n",
      " [17 31 12 18 19  0 29 10 22 14 24  7  3  5 15 23]]\n"
     ]
    }
   ],
   "source": [
    "test_globe = puzzles_df[puzzles_df[\"puzzle_type\"] == \"globe_1/8\"]['initial_state'][idx]\n",
    "test_globe = np.array([int(x[1:]) for x in test_globe.split(';') if x])\n",
    "print_globe(test_globe)"
   ]
  },
  {
   "cell_type": "code",
   "execution_count": 103,
   "metadata": {
    "ExecuteTime": {
     "end_time": "2023-12-30T05:32:46.503770100Z",
     "start_time": "2023-12-30T05:32:46.394873800Z"
    }
   },
   "outputs": [
    {
     "name": "stdout",
     "output_type": "stream",
     "text": [
      "[[ 0  1  2  3  4  5  6  7  8  9 10 11 12 13 14 15]\n",
      " [16 17 18 19 20 21 22 23 24 25 26 27 28 29 30 31]]\n"
     ]
    }
   ],
   "source": [
    "for i in moves:\n",
    "    test_globe = apply_move[i](test_globe, [])\n",
    "print_globe(test_globe)"
   ]
  },
  {
   "cell_type": "code",
   "execution_count": 104,
   "metadata": {
    "ExecuteTime": {
     "end_time": "2023-12-30T05:32:46.503770100Z",
     "start_time": "2023-12-30T05:32:46.407385300Z"
    }
   },
   "outputs": [
    {
     "name": "stdout",
     "output_type": "stream",
     "text": [
      "479\n"
     ]
    }
   ],
   "source": [
    "def expand(path, n = 2, m = 16):    \n",
    "    rows = [[] for _ in range(n)]\n",
    "    \n",
    "    def expand_f(x):\n",
    "        for i in range(n):\n",
    "            rows[i].append(x)\n",
    "            rows[i].append('f0')\n",
    "            rows[i].append(m - x)\n",
    "    \n",
    "    for i in path:\n",
    "        if 'f' in i:\n",
    "            if '-' in i:\n",
    "                expand_f(int(i[2:]))\n",
    "            else:\n",
    "                expand_f(int(i[1:]))\n",
    "        else:\n",
    "            for j in range(n):\n",
    "                temp = 'r' + str(j)\n",
    "\n",
    "                if temp == i:\n",
    "                    rows[j].append(1)\n",
    "                    \n",
    "                temp = '-r' + str(j)\n",
    "\n",
    "                if temp == i:\n",
    "                    rows[j].append(m-1)\n",
    "\n",
    "    Rrows = [[] for _ in range(n)]\n",
    "\n",
    "    for r in range(n):\n",
    "        run = 0\n",
    "        for i in rows[r]:\n",
    "            if type(i) == type(0):\n",
    "                run += i\n",
    "            else:\n",
    "                Rrows[r].append(run)\n",
    "                Rrows[r].append('f0')\n",
    "                run = 0\n",
    "            \n",
    "        Rrows[r].append(run)\n",
    "    \n",
    "    return Rrows\n",
    "\n",
    "def shrink(rows, n = 2, m = 16):\n",
    "    for i in range(len(rows[0])):\n",
    "        mn = int(1e9)\n",
    "        for j in range(n):\n",
    "            if type(rows[j][i]) == type(1):\n",
    "                rows[j][i] %= m\n",
    "            else:\n",
    "                mn = min(mn, rows[j][i-1])\n",
    "        \n",
    "        for j in range(n):  \n",
    "            if type(rows[j][i]) == type('string'):\n",
    "                rows[j][i-1] -= mn\n",
    "                rows[j][i] = 'f' + str(mn)\n",
    "                rows[j][i+1] += mn\n",
    "    \n",
    "    final_moves = []\n",
    "    for i in range(len(rows[0])):\n",
    "        if type(rows[0][i]) == type('string'):\n",
    "            final_moves.append(rows[0][i])\n",
    "            continue\n",
    "\n",
    "        for j in range(n):\n",
    "            if rows[j][i] > m/2:\n",
    "                final_moves = final_moves + ['-r' + str(j)] * (m - rows[j][i])\n",
    "            else:\n",
    "                final_moves = final_moves + ['r' + str(j)] * (rows[j][i])\n",
    "\n",
    "    final_final_moves = []\n",
    "    i = 0\n",
    "    while i < len(final_moves):\n",
    "        if i != len(final_moves) - 1 and ('f' in final_moves[i]) and final_moves[i] == final_moves[i+1]:\n",
    "            i += 2\n",
    "        else:\n",
    "            final_final_moves.append(final_moves[i])\n",
    "            i += 1\n",
    "    \n",
    "    return final_final_moves\n",
    "\n",
    "def ex_red(moves):\n",
    "    ex = expand(moves)\n",
    "    return shrink(ex)\n",
    "\n",
    "print(len(ex_red(moves)))"
   ]
  }
 ],
 "metadata": {
  "kaggle": {
   "accelerator": "none",
   "dataSources": [
    {
     "databundleVersionId": 7339171,
     "sourceId": 65704,
     "sourceType": "competition"
    }
   ],
   "dockerImageVersionId": 30626,
   "isGpuEnabled": false,
   "isInternetEnabled": true,
   "language": "python",
   "sourceType": "notebook"
  },
  "kernelspec": {
   "name": "python3",
   "language": "python",
   "display_name": "Python 3 (ipykernel)"
  },
  "language_info": {
   "codemirror_mode": {
    "name": "ipython",
    "version": 3
   },
   "file_extension": ".py",
   "mimetype": "text/x-python",
   "name": "python",
   "nbconvert_exporter": "python",
   "pygments_lexer": "ipython3",
   "version": "3.11.6"
  },
  "name": "getting_started.ipynb"
 },
 "nbformat": 4,
 "nbformat_minor": 4
}
