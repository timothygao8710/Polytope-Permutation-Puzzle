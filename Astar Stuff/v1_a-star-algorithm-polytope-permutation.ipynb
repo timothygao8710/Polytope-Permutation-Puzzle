{
 "cells": [
  {
   "cell_type": "markdown",
   "metadata": {
    "_cell_guid": "b1076dfc-b9ad-4769-8c92-a6c4dae69d19",
    "_uuid": "8f2839f25d086af736a60e9eeb907d3b93b6e0e5"
   },
   "source": [
    "# Step 1: Load and Inspect Data Files"
   ]
  },
  {
   "cell_type": "code",
   "execution_count": 222,
   "metadata": {},
   "outputs": [],
   "source": [
    "import matplotlib.pyplot as plt\n",
    "from scipy import stats\n",
    "import numpy as np\n",
    "from numba import jit\n",
    "import pstats\n",
    "import heapq\n",
    "import time\n",
    "import cProfile"
   ]
  },
  {
   "cell_type": "code",
   "execution_count": 223,
   "metadata": {},
   "outputs": [
    {
     "name": "stderr",
     "output_type": "stream",
     "text": [
      "/var/folders/kd/99328vjn0zlc1kls78_rwvdh0000gn/T/ipykernel_33178/497385358.py:7: RuntimeWarning: overflow encountered in scalar multiply\n",
      "  fact[i] = (fact[i-1] * i) % MOD\n"
     ]
    }
   ],
   "source": [
    "MOD = 1e18 + 3\n",
    "fact = [0 for _ in range(1000000)]\n",
    "fact = np.array(fact)\n",
    "fact[0] = 1\n",
    "fact[1] = 1\n",
    "for i in range(2, len(fact)):\n",
    "    fact[i] = (fact[i-1] * i) % MOD"
   ]
  },
  {
   "cell_type": "code",
   "execution_count": 224,
   "metadata": {},
   "outputs": [
    {
     "name": "stdout",
     "output_type": "stream",
     "text": [
      "         7 function calls in 0.001 seconds\n",
      "\n",
      "   Ordered by: standard name\n",
      "\n",
      "   ncalls  tottime  percall  cumtime  percall filename:lineno(function)\n",
      "        1    0.001    0.001    0.001    0.001 114246932.py:22(dist)\n",
      "        1    0.000    0.000    0.001    0.001 <string>:1(<module>)\n",
      "        1    0.000    0.000    0.000    0.000 numeric.py:411(_count_nonzero_dispatcher)\n",
      "        1    0.000    0.000    0.000    0.000 numeric.py:415(count_nonzero)\n",
      "        1    0.000    0.000    0.001    0.001 {built-in method builtins.exec}\n",
      "        1    0.000    0.000    0.000    0.000 {built-in method numpy.core._multiarray_umath.count_nonzero}\n",
      "        1    0.000    0.000    0.000    0.000 {method 'disable' of '_lsprof.Profiler' objects}\n",
      "\n",
      "\n"
     ]
    }
   ],
   "source": [
    "# Use numba here (the C thingy)\n",
    "# Use xxhash --> https://stackoverflow.com/questions/9350002/python-tuples-as-keys-slow,\n",
    "# https://github.com/Cyan4973/xxHash\n",
    "\n",
    "# @jit(nopython=True, parallel = True, fastmath = True)\n",
    "def c_hash(perm):\n",
    "    return tuple(perm)\n",
    "    # base = 9973\n",
    "    # modb = 1000000007\n",
    "    # modc = 1000000009\n",
    "\n",
    "    # B, C = 0, 0\n",
    "    # for i in perm:\n",
    "    #     B = (B * base) % modb + i\n",
    "    #     C = (C * base) % modc + i\n",
    "\n",
    "    # return (B, C)\n",
    "\n",
    "\n",
    "#wegithe dist by size ~ needs to scale with path length (dist increases linearly, path increases exponentially (?) )\n",
    "# @jit(nopython=True, parallel = True, fastmath = True)\n",
    "def dist(a, b):\n",
    "    return np.count_nonzero(a != b)\n",
    "\n",
    "arrA = [i for i in range(100000000)]\n",
    "arrB = [i + 2 for i in range(100000000)]\n",
    "\n",
    "cProfile.run(\"dist(arrA, arrB)\")"
   ]
  },
  {
   "cell_type": "code",
   "execution_count": 225,
   "metadata": {},
   "outputs": [],
   "source": [
    "def getInversePerm(arr):\n",
    "    # gets the inverse move for a certain move\n",
    "    res = [0 for i in range(len(arr))]\n",
    "    for i in range(len(arr)):\n",
    "        res[arr[i]] = i\n",
    "    return res"
   ]
  },
  {
   "cell_type": "code",
   "execution_count": 226,
   "metadata": {},
   "outputs": [
    {
     "data": {
      "text/html": [
       "<div>\n",
       "<style scoped>\n",
       "    .dataframe tbody tr th:only-of-type {\n",
       "        vertical-align: middle;\n",
       "    }\n",
       "\n",
       "    .dataframe tbody tr th {\n",
       "        vertical-align: top;\n",
       "    }\n",
       "\n",
       "    .dataframe thead th {\n",
       "        text-align: right;\n",
       "    }\n",
       "</style>\n",
       "<table border=\"1\" class=\"dataframe\">\n",
       "  <thead>\n",
       "    <tr style=\"text-align: right;\">\n",
       "      <th></th>\n",
       "      <th>id</th>\n",
       "      <th>num_wildcards</th>\n",
       "    </tr>\n",
       "  </thead>\n",
       "  <tbody>\n",
       "    <tr>\n",
       "      <th>count</th>\n",
       "      <td>398.000000</td>\n",
       "      <td>398.000000</td>\n",
       "    </tr>\n",
       "    <tr>\n",
       "      <th>mean</th>\n",
       "      <td>198.500000</td>\n",
       "      <td>1.809045</td>\n",
       "    </tr>\n",
       "    <tr>\n",
       "      <th>std</th>\n",
       "      <td>115.036951</td>\n",
       "      <td>10.047931</td>\n",
       "    </tr>\n",
       "    <tr>\n",
       "      <th>min</th>\n",
       "      <td>0.000000</td>\n",
       "      <td>0.000000</td>\n",
       "    </tr>\n",
       "    <tr>\n",
       "      <th>25%</th>\n",
       "      <td>99.250000</td>\n",
       "      <td>0.000000</td>\n",
       "    </tr>\n",
       "    <tr>\n",
       "      <th>50%</th>\n",
       "      <td>198.500000</td>\n",
       "      <td>0.000000</td>\n",
       "    </tr>\n",
       "    <tr>\n",
       "      <th>75%</th>\n",
       "      <td>297.750000</td>\n",
       "      <td>0.000000</td>\n",
       "    </tr>\n",
       "    <tr>\n",
       "      <th>max</th>\n",
       "      <td>397.000000</td>\n",
       "      <td>176.000000</td>\n",
       "    </tr>\n",
       "  </tbody>\n",
       "</table>\n",
       "</div>"
      ],
      "text/plain": [
       "               id  num_wildcards\n",
       "count  398.000000     398.000000\n",
       "mean   198.500000       1.809045\n",
       "std    115.036951      10.047931\n",
       "min      0.000000       0.000000\n",
       "25%     99.250000       0.000000\n",
       "50%    198.500000       0.000000\n",
       "75%    297.750000       0.000000\n",
       "max    397.000000     176.000000"
      ]
     },
     "execution_count": 226,
     "metadata": {},
     "output_type": "execute_result"
    }
   ],
   "source": [
    "import pandas as pd\n",
    "\n",
    "# File paths\n",
    "puzzle_info_path = 'puzzle_info.csv'\n",
    "puzzles_path = 'puzzles.csv'\n",
    "sample_submission_path = 'submission.csv' # change name across board\n",
    "\n",
    "# Loading the data\n",
    "puzzle_info_df = pd.read_csv(puzzle_info_path)\n",
    "puzzles_df = pd.read_csv(puzzles_path)\n",
    "sample_submission_df = pd.read_csv(sample_submission_path)\n",
    "\n",
    "# Displaying the first few rows of each dataframe\n",
    "puzzles_df.describe()"
   ]
  },
  {
   "cell_type": "code",
   "execution_count": 227,
   "metadata": {},
   "outputs": [
    {
     "data": {
      "text/html": [
       "<div>\n",
       "<style scoped>\n",
       "    .dataframe tbody tr th:only-of-type {\n",
       "        vertical-align: middle;\n",
       "    }\n",
       "\n",
       "    .dataframe tbody tr th {\n",
       "        vertical-align: top;\n",
       "    }\n",
       "\n",
       "    .dataframe thead th {\n",
       "        text-align: right;\n",
       "    }\n",
       "</style>\n",
       "<table border=\"1\" class=\"dataframe\">\n",
       "  <thead>\n",
       "    <tr style=\"text-align: right;\">\n",
       "      <th></th>\n",
       "      <th>id</th>\n",
       "      <th>puzzle_type</th>\n",
       "      <th>solution_state</th>\n",
       "      <th>initial_state</th>\n",
       "      <th>num_wildcards</th>\n",
       "    </tr>\n",
       "  </thead>\n",
       "  <tbody>\n",
       "    <tr>\n",
       "      <th>0</th>\n",
       "      <td>0</td>\n",
       "      <td>cube_2/2/2</td>\n",
       "      <td>A;A;A;A;B;B;B;B;C;C;C;C;D;D;D;D;E;E;E;E;F;F;F;F</td>\n",
       "      <td>D;E;D;A;E;B;A;B;C;A;C;A;D;C;D;F;F;F;E;E;B;F;B;C</td>\n",
       "      <td>0</td>\n",
       "    </tr>\n",
       "    <tr>\n",
       "      <th>1</th>\n",
       "      <td>1</td>\n",
       "      <td>cube_2/2/2</td>\n",
       "      <td>A;A;A;A;B;B;B;B;C;C;C;C;D;D;D;D;E;E;E;E;F;F;F;F</td>\n",
       "      <td>D;E;C;B;B;E;F;A;F;D;B;F;F;E;B;D;A;A;C;D;C;E;A;C</td>\n",
       "      <td>0</td>\n",
       "    </tr>\n",
       "    <tr>\n",
       "      <th>2</th>\n",
       "      <td>2</td>\n",
       "      <td>cube_2/2/2</td>\n",
       "      <td>A;A;A;A;B;B;B;B;C;C;C;C;D;D;D;D;E;E;E;E;F;F;F;F</td>\n",
       "      <td>E;F;C;C;F;A;D;D;B;B;A;F;E;B;C;A;A;B;D;F;E;E;C;D</td>\n",
       "      <td>0</td>\n",
       "    </tr>\n",
       "    <tr>\n",
       "      <th>3</th>\n",
       "      <td>3</td>\n",
       "      <td>cube_2/2/2</td>\n",
       "      <td>A;A;A;A;B;B;B;B;C;C;C;C;D;D;D;D;E;E;E;E;F;F;F;F</td>\n",
       "      <td>A;C;E;C;F;D;E;D;A;A;F;A;B;D;B;F;E;D;B;F;B;C;C;E</td>\n",
       "      <td>0</td>\n",
       "    </tr>\n",
       "    <tr>\n",
       "      <th>4</th>\n",
       "      <td>4</td>\n",
       "      <td>cube_2/2/2</td>\n",
       "      <td>A;A;A;A;B;B;B;B;C;C;C;C;D;D;D;D;E;E;E;E;F;F;F;F</td>\n",
       "      <td>E;D;E;D;A;E;F;B;A;C;F;D;F;D;C;A;F;B;C;C;B;E;B;A</td>\n",
       "      <td>0</td>\n",
       "    </tr>\n",
       "  </tbody>\n",
       "</table>\n",
       "</div>"
      ],
      "text/plain": [
       "   id puzzle_type                                   solution_state  \\\n",
       "0   0  cube_2/2/2  A;A;A;A;B;B;B;B;C;C;C;C;D;D;D;D;E;E;E;E;F;F;F;F   \n",
       "1   1  cube_2/2/2  A;A;A;A;B;B;B;B;C;C;C;C;D;D;D;D;E;E;E;E;F;F;F;F   \n",
       "2   2  cube_2/2/2  A;A;A;A;B;B;B;B;C;C;C;C;D;D;D;D;E;E;E;E;F;F;F;F   \n",
       "3   3  cube_2/2/2  A;A;A;A;B;B;B;B;C;C;C;C;D;D;D;D;E;E;E;E;F;F;F;F   \n",
       "4   4  cube_2/2/2  A;A;A;A;B;B;B;B;C;C;C;C;D;D;D;D;E;E;E;E;F;F;F;F   \n",
       "\n",
       "                                     initial_state  num_wildcards  \n",
       "0  D;E;D;A;E;B;A;B;C;A;C;A;D;C;D;F;F;F;E;E;B;F;B;C              0  \n",
       "1  D;E;C;B;B;E;F;A;F;D;B;F;F;E;B;D;A;A;C;D;C;E;A;C              0  \n",
       "2  E;F;C;C;F;A;D;D;B;B;A;F;E;B;C;A;A;B;D;F;E;E;C;D              0  \n",
       "3  A;C;E;C;F;D;E;D;A;A;F;A;B;D;B;F;E;D;B;F;B;C;C;E              0  \n",
       "4  E;D;E;D;A;E;F;B;A;C;F;D;F;D;C;A;F;B;C;C;B;E;B;A              0  "
      ]
     },
     "execution_count": 227,
     "metadata": {},
     "output_type": "execute_result"
    }
   ],
   "source": [
    "puzzles_df.head()"
   ]
  },
  {
   "cell_type": "code",
   "execution_count": 228,
   "metadata": {},
   "outputs": [
    {
     "name": "stdout",
     "output_type": "stream",
     "text": [
      "398\n"
     ]
    }
   ],
   "source": [
    "print(len(puzzles_df))"
   ]
  },
  {
   "cell_type": "code",
   "execution_count": 229,
   "metadata": {},
   "outputs": [],
   "source": [
    "mp = {}\n",
    "mp_s_num = {}\n",
    "\n",
    "for i in range(len(puzzles_df)):\n",
    "    if(puzzles_df['puzzle_type'][i] not in mp):\n",
    "        mp[puzzles_df['puzzle_type'][i]] = 0\n",
    "        mp_s_num[puzzles_df['puzzle_type'][i]] = len(puzzles_df['solution_state'][i].split(';'))\n",
    "    mp[puzzles_df['puzzle_type'][i]] += 1"
   ]
  },
  {
   "cell_type": "code",
   "execution_count": 230,
   "metadata": {},
   "outputs": [
    {
     "name": "stdout",
     "output_type": "stream",
     "text": [
      "{'cube_2/2/2': 30, 'cube_3/3/3': 120, 'cube_4/4/4': 60, 'cube_5/5/5': 35, 'cube_6/6/6': 12, 'cube_7/7/7': 5, 'cube_8/8/8': 5, 'cube_9/9/9': 5, 'cube_10/10/10': 5, 'cube_19/19/19': 4, 'cube_33/33/33': 3, 'wreath_6/6': 20, 'wreath_7/7': 15, 'wreath_12/12': 10, 'wreath_21/21': 5, 'wreath_33/33': 3, 'wreath_100/100': 1, 'globe_1/8': 10, 'globe_1/16': 5, 'globe_2/6': 5, 'globe_3/4': 15, 'globe_6/4': 5, 'globe_6/8': 5, 'globe_6/10': 5, 'globe_3/33': 4, 'globe_33/3': 4, 'globe_8/25': 2}\n"
     ]
    }
   ],
   "source": [
    "print(mp)"
   ]
  },
  {
   "cell_type": "code",
   "execution_count": 231,
   "metadata": {},
   "outputs": [
    {
     "name": "stdout",
     "output_type": "stream",
     "text": [
      "{'cube_2/2/2': 24, 'cube_3/3/3': 54, 'cube_4/4/4': 96, 'cube_5/5/5': 150, 'cube_6/6/6': 216, 'cube_7/7/7': 294, 'cube_8/8/8': 384, 'cube_9/9/9': 486, 'cube_10/10/10': 600, 'cube_19/19/19': 2166, 'cube_33/33/33': 6534, 'wreath_6/6': 10, 'wreath_7/7': 12, 'wreath_12/12': 22, 'wreath_21/21': 40, 'wreath_33/33': 64, 'wreath_100/100': 198, 'globe_1/8': 32, 'globe_1/16': 64, 'globe_2/6': 36, 'globe_3/4': 32, 'globe_6/4': 56, 'globe_6/8': 112, 'globe_6/10': 140, 'globe_3/33': 264, 'globe_33/3': 264, 'globe_8/25': 450}\n"
     ]
    }
   ],
   "source": [
    "print(mp_s_num)"
   ]
  },
  {
   "cell_type": "code",
   "execution_count": 239,
   "metadata": {},
   "outputs": [
    {
     "name": "stdout",
     "output_type": "stream",
     "text": [
      "7\n",
      "10\n",
      "13\n",
      "16\n",
      "19\n",
      "22\n",
      "25\n",
      "28\n",
      "31\n",
      "58\n",
      "100\n",
      "3\n",
      "3\n",
      "3\n",
      "3\n",
      "3\n",
      "3\n",
      "19\n",
      "35\n",
      "16\n",
      "13\n",
      "16\n",
      "24\n",
      "28\n",
      "71\n",
      "71\n",
      "60\n"
     ]
    }
   ],
   "source": [
    "# Number of edges\n",
    "\n",
    "for i in range(len(puzzle_info_df)):\n",
    "    print(len(puzzle_info_df['allowed_moves'][i].split(':')))"
   ]
  },
  {
   "cell_type": "code",
   "execution_count": 198,
   "metadata": {},
   "outputs": [
    {
     "data": {
      "text/html": [
       "<div>\n",
       "<style scoped>\n",
       "    .dataframe tbody tr th:only-of-type {\n",
       "        vertical-align: middle;\n",
       "    }\n",
       "\n",
       "    .dataframe tbody tr th {\n",
       "        vertical-align: top;\n",
       "    }\n",
       "\n",
       "    .dataframe thead th {\n",
       "        text-align: right;\n",
       "    }\n",
       "</style>\n",
       "<table border=\"1\" class=\"dataframe\">\n",
       "  <thead>\n",
       "    <tr style=\"text-align: right;\">\n",
       "      <th></th>\n",
       "      <th>id</th>\n",
       "      <th>moves</th>\n",
       "    </tr>\n",
       "  </thead>\n",
       "  <tbody>\n",
       "    <tr>\n",
       "      <th>0</th>\n",
       "      <td>0</td>\n",
       "      <td>r1.-f1</td>\n",
       "    </tr>\n",
       "    <tr>\n",
       "      <th>1</th>\n",
       "      <td>1</td>\n",
       "      <td>f0.r1.f1.-d0.-d0.-f0.-r0.f0.d0</td>\n",
       "    </tr>\n",
       "    <tr>\n",
       "      <th>2</th>\n",
       "      <td>2</td>\n",
       "      <td>f1.d0.-d1.r0.-d1.-f0.f1.-r0.-f0.-r1.-f0.r0.-d0...</td>\n",
       "    </tr>\n",
       "    <tr>\n",
       "      <th>3</th>\n",
       "      <td>3</td>\n",
       "      <td>-f0.-r0.-f0.-d0.-f0.f1.r0.-d1.-r0.-r1.-r0.-f1....</td>\n",
       "    </tr>\n",
       "    <tr>\n",
       "      <th>4</th>\n",
       "      <td>4</td>\n",
       "      <td>d1.-f1.d1.r1.-f0.d1.-d0.-r1.d1.d1.-f1.d1.-d0.-...</td>\n",
       "    </tr>\n",
       "  </tbody>\n",
       "</table>\n",
       "</div>"
      ],
      "text/plain": [
       "   id                                              moves\n",
       "0   0                                             r1.-f1\n",
       "1   1                     f0.r1.f1.-d0.-d0.-f0.-r0.f0.d0\n",
       "2   2  f1.d0.-d1.r0.-d1.-f0.f1.-r0.-f0.-r1.-f0.r0.-d0...\n",
       "3   3  -f0.-r0.-f0.-d0.-f0.f1.r0.-d1.-r0.-r1.-r0.-f1....\n",
       "4   4  d1.-f1.d1.r1.-f0.d1.-d0.-r1.d1.d1.-f1.d1.-d0.-..."
      ]
     },
     "execution_count": 198,
     "metadata": {},
     "output_type": "execute_result"
    }
   ],
   "source": [
    "sample_submission_df.head()"
   ]
  },
  {
   "cell_type": "code",
   "execution_count": 199,
   "metadata": {},
   "outputs": [
    {
     "name": "stdout",
     "output_type": "stream",
     "text": [
      "Array: [2, 9, 62, 92, 70, 54, 10, 83, 98, 76, 10, 63, 72, 131, 96, 10, 11, 62, 11, 82, 112, 96, 63, 53, 99, 61, 93, 73, 83, 82, 300, 392, 268, 239, 304, 440, 267, 299, 237, 408, 259, 296, 208, 229, 602, 584, 327, 358, 242, 258, 238, 370, 479, 355, 230, 309, 285, 344, 282, 415, 251, 236, 385, 225, 429, 200, 250, 331, 298, 225, 205, 266, 327, 392, 408, 320, 382, 358, 257, 254, 372, 221, 251, 300, 260, 227, 265, 310, 209, 268, 277, 303, 216, 214, 317, 287, 425, 323, 292, 249, 263, 356, 274, 398, 221, 231, 207, 340, 342, 268, 257, 265, 399, 219, 262, 273, 329, 315, 385, 360, 331, 295, 339, 346, 301, 311, 268, 264, 260, 299, 362, 401, 215, 268, 395, 372, 227, 376, 257, 241, 209, 287, 412, 474, 399, 267, 358, 263, 233, 258, 700, 610, 498, 593, 665, 544, 642, 637, 443, 697, 598, 538, 789, 816, 542, 616, 597, 465, 420, 670, 558, 519, 466, 736, 483, 472, 737, 493, 534, 486, 670, 592, 491, 675, 499, 888, 595, 734, 701, 451, 458, 731, 737, 659, 495, 594, 947, 550, 422, 517, 623, 633, 439, 586, 509, 560, 477, 499, 541, 483, 1881, 1143, 1207, 2108, 1153, 1112, 1174, 1473, 1169, 1418, 1001, 2043, 1418, 1218, 1574, 1352, 1154, 1451, 2393, 1233, 1363, 1514, 1999, 1213, 1105, 1235, 1904, 1162, 1214, 1637, 1890, 1427, 1510, 1655, 1751, 2234, 2304, 2053, 2445, 2063, 2054, 2574, 3229, 2146, 2049, 3395, 2742, 4306, 4158, 4892, 4330, 4261, 5332, 5947, 6057, 5641, 5401, 7505, 6361, 6326, 6837, 7521, 9002, 10047, 10304, 11999, 9113, 24419, 21455, 32249, 24194, 123431, 139629, 109140, 7, 3, 5, 2, 6, 8, 10, 5, 8, 8, 10, 9, 10, 9, 7, 8, 11, 5, 9, 11, 10, 9, 10, 10, 8, 6, 3, 11, 10, 10, 9, 10, 8, 8, 9, 18, 15, 16, 2061, 2309, 17, 2246, 2104, 2047, 16, 5179, 4564, 4576, 4067, 4060, 5610, 5737, 5881, 22284, 229, 320, 213, 236, 210, 251, 209, 216, 247, 216, 479, 496, 502, 444, 482, 481, 517, 493, 503, 441, 433, 413, 412, 426, 473, 432, 506, 463, 564, 480, 5727, 4710, 5886, 4851, 3750, 2401, 2906, 3805, 2712, 4266, 2964, 3124, 2772, 2889, 3243, 3379, 3455, 2735, 2746, 2522, 26960, 32610, 25239, 30775, 22323, 30596, 28971, 28876, 26402, 21111]\n",
      "Count: 398\n",
      "Mean: 2999.7010050251256\n",
      "Median: 427.5\n",
      "Standard Deviation: 11815.702822919453\n",
      "Variance: 139610833.19954672\n",
      "Minimum: 2\n",
      "Maximum: 139629\n",
      "Range: 139627\n",
      "25th Percentile: 238.25\n",
      "50th Percentile (Median): 427.5\n",
      "75th Percentile: 1418.0\n",
      "Interquartile Range: 1179.75\n"
     ]
    }
   ],
   "source": [
    "tot = 0\n",
    "arr = []\n",
    "for i in range(len(sample_submission_df)):\n",
    "    arr.append(len(sample_submission_df['moves'][i].split('.')))\n",
    "    tot += len(sample_submission_df['moves'][i].split('.'))\n",
    "\n",
    "def describe_array(arr):\n",
    "    print(\"Array:\", arr)\n",
    "    print(\"Count:\", len(arr))\n",
    "    print(\"Mean:\", np.mean(arr))\n",
    "    print(\"Median:\", np.median(arr))\n",
    "    print(\"Standard Deviation:\", np.std(arr))\n",
    "    print(\"Variance:\", np.var(arr))\n",
    "    print(\"Minimum:\", np.min(arr))\n",
    "    print(\"Maximum:\", np.max(arr))\n",
    "    print(\"Range:\", np.max(arr) - np.min(arr))\n",
    "    print(\"25th Percentile:\", np.percentile(arr, 25))\n",
    "    print(\"50th Percentile (Median):\", np.percentile(arr, 50))\n",
    "    print(\"75th Percentile:\", np.percentile(arr, 75))\n",
    "    print(\"Interquartile Range:\", np.percentile(arr, 75) - np.percentile(arr, 25))\n",
    "\n",
    "\n",
    "describe_array(arr)\n"
   ]
  },
  {
   "cell_type": "code",
   "execution_count": 200,
   "metadata": {
    "scrolled": true
   },
   "outputs": [
    {
     "name": "stdout",
     "output_type": "stream",
     "text": [
      "Array: [0, 0, 0, 0, 0, 0, 0, 0, 0, 0, 0, 0, 0, 0, 0, 0, 0, 0, 0, 0, 0, 0, 0, 0, 0, 0, 0, 0, 0, 0, 0, 6, 0, 6, 0, 0, 0, 0, 6, 0, 4, 0, 0, 0, 0, 0, 0, 0, 0, 0, 0, 0, 0, 0, 0, 0, 0, 0, 0, 0, 0, 0, 0, 0, 2, 4, 0, 0, 0, 0, 0, 0, 0, 4, 0, 0, 2, 0, 0, 0, 4, 0, 0, 0, 0, 0, 0, 0, 0, 2, 0, 0, 0, 0, 0, 0, 4, 0, 0, 0, 4, 2, 0, 0, 0, 0, 0, 2, 0, 0, 4, 0, 0, 0, 4, 0, 2, 0, 0, 0, 0, 0, 4, 0, 0, 0, 0, 0, 0, 0, 0, 0, 0, 0, 0, 0, 0, 0, 0, 0, 6, 0, 0, 6, 0, 2, 0, 0, 0, 0, 0, 0, 0, 0, 0, 0, 8, 0, 0, 0, 8, 0, 0, 2, 2, 4, 0, 0, 0, 0, 0, 0, 0, 0, 0, 0, 0, 0, 0, 0, 0, 0, 0, 0, 0, 0, 4, 0, 0, 0, 0, 0, 0, 0, 0, 0, 8, 0, 0, 0, 0, 0, 0, 10, 0, 0, 10, 0, 6, 0, 0, 10, 0, 0, 0, 6, 0, 0, 2, 2, 0, 0, 0, 0, 0, 0, 0, 6, 0, 0, 0, 0, 0, 0, 16, 0, 0, 0, 0, 0, 0, 2, 0, 0, 10, 2, 0, 2, 2, 18, 0, 0, 0, 0, 0, 0, 16, 42, 0, 0, 0, 0, 0, 0, 34, 18, 0, 38, 0, 0, 16, 0, 0, 0, 0, 0, 54, 176, 0, 0, 0, 0, 0, 0, 0, 2, 2, 2, 0, 0, 0, 2, 0, 0, 0, 0, 0, 0, 2, 0, 0, 0, 0, 0, 0, 0, 0, 0, 0, 2, 2, 0, 0, 0, 0, 0, 0, 0, 0, 2, 0, 2, 0, 0, 0, 0, 0, 0, 2, 0, 0, 0, 0, 0, 0, 0, 8, 8, 0, 0, 0, 0, 2, 0, 0, 0, 0, 0, 0, 0, 0, 2, 2, 4, 0, 0, 0, 2, 2, 4, 2, 0, 0, 0, 0, 0, 0, 0, 0, 0, 2, 0, 2, 4, 0, 0, 0, 0, 0, 0, 0, 12, 0, 8, 0, 8, 6, 2, 6, 0, 0, 0, 0, 0, 0, 0, 0, 0]\n",
      "Count: 398\n",
      "Mean: 1.8090452261306533\n",
      "Median: 0.0\n",
      "Standard Deviation: 10.035300437321313\n",
      "Variance: 100.70725486730132\n",
      "Minimum: 0\n",
      "Maximum: 176\n",
      "Range: 176\n",
      "25th Percentile: 0.0\n",
      "50th Percentile (Median): 0.0\n",
      "75th Percentile: 0.0\n",
      "Interquartile Range: 0.0\n"
     ]
    }
   ],
   "source": [
    "tot = 0\n",
    "arr = []\n",
    "for i in range(len(puzzles_df)):\n",
    "    arr.append(puzzles_df['num_wildcards'][i])\n",
    "    tot += puzzles_df['num_wildcards'][i]\n",
    "\n",
    "def describe_array(arr):\n",
    "    print(\"Array:\", arr)\n",
    "    print(\"Count:\", len(arr))\n",
    "    print(\"Mean:\", np.mean(arr))\n",
    "    print(\"Median:\", np.median(arr))\n",
    "    print(\"Standard Deviation:\", np.std(arr))\n",
    "    print(\"Variance:\", np.var(arr))\n",
    "    print(\"Minimum:\", np.min(arr))\n",
    "    print(\"Maximum:\", np.max(arr))\n",
    "    print(\"Range:\", np.max(arr) - np.min(arr))\n",
    "    print(\"25th Percentile:\", np.percentile(arr, 25))\n",
    "    print(\"50th Percentile (Median):\", np.percentile(arr, 50))\n",
    "    print(\"75th Percentile:\", np.percentile(arr, 75))\n",
    "    print(\"Interquartile Range:\", np.percentile(arr, 75) - np.percentile(arr, 25))\n",
    "\n",
    "\n",
    "describe_array(arr)\n"
   ]
  },
  {
   "cell_type": "code",
   "execution_count": 201,
   "metadata": {},
   "outputs": [
    {
     "name": "stdout",
     "output_type": "stream",
     "text": [
      "720\n"
     ]
    }
   ],
   "source": [
    "print(tot)"
   ]
  },
  {
   "cell_type": "markdown",
   "metadata": {},
   "source": [
    "# Step 2: Parse puzzle status"
   ]
  },
  {
   "cell_type": "code",
   "execution_count": 202,
   "metadata": {},
   "outputs": [
    {
     "data": {
      "text/html": [
       "<div>\n",
       "<style scoped>\n",
       "    .dataframe tbody tr th:only-of-type {\n",
       "        vertical-align: middle;\n",
       "    }\n",
       "\n",
       "    .dataframe tbody tr th {\n",
       "        vertical-align: top;\n",
       "    }\n",
       "\n",
       "    .dataframe thead th {\n",
       "        text-align: right;\n",
       "    }\n",
       "</style>\n",
       "<table border=\"1\" class=\"dataframe\">\n",
       "  <thead>\n",
       "    <tr style=\"text-align: right;\">\n",
       "      <th></th>\n",
       "      <th>id</th>\n",
       "      <th>puzzle_type</th>\n",
       "      <th>parsed_initial_state</th>\n",
       "      <th>parsed_solution_state</th>\n",
       "    </tr>\n",
       "  </thead>\n",
       "  <tbody>\n",
       "    <tr>\n",
       "      <th>0</th>\n",
       "      <td>0</td>\n",
       "      <td>cube_2/2/2</td>\n",
       "      <td>[0, 1, 0, 2, 1, 3, 2, 3, 4, 2, 4, 2, 0, 4, 0, ...</td>\n",
       "      <td>[2, 2, 2, 2, 3, 3, 3, 3, 4, 4, 4, 4, 0, 0, 0, ...</td>\n",
       "    </tr>\n",
       "    <tr>\n",
       "      <th>1</th>\n",
       "      <td>1</td>\n",
       "      <td>cube_2/2/2</td>\n",
       "      <td>[0, 1, 4, 3, 3, 1, 5, 2, 5, 0, 3, 5, 5, 1, 3, ...</td>\n",
       "      <td>[2, 2, 2, 2, 3, 3, 3, 3, 4, 4, 4, 4, 0, 0, 0, ...</td>\n",
       "    </tr>\n",
       "    <tr>\n",
       "      <th>2</th>\n",
       "      <td>2</td>\n",
       "      <td>cube_2/2/2</td>\n",
       "      <td>[1, 5, 4, 4, 5, 2, 0, 0, 3, 3, 2, 5, 1, 3, 4, ...</td>\n",
       "      <td>[2, 2, 2, 2, 3, 3, 3, 3, 4, 4, 4, 4, 0, 0, 0, ...</td>\n",
       "    </tr>\n",
       "    <tr>\n",
       "      <th>3</th>\n",
       "      <td>3</td>\n",
       "      <td>cube_2/2/2</td>\n",
       "      <td>[2, 4, 1, 4, 5, 0, 1, 0, 2, 2, 5, 2, 3, 0, 3, ...</td>\n",
       "      <td>[2, 2, 2, 2, 3, 3, 3, 3, 4, 4, 4, 4, 0, 0, 0, ...</td>\n",
       "    </tr>\n",
       "    <tr>\n",
       "      <th>4</th>\n",
       "      <td>4</td>\n",
       "      <td>cube_2/2/2</td>\n",
       "      <td>[1, 0, 1, 0, 2, 1, 5, 3, 2, 4, 5, 0, 5, 0, 4, ...</td>\n",
       "      <td>[2, 2, 2, 2, 3, 3, 3, 3, 4, 4, 4, 4, 0, 0, 0, ...</td>\n",
       "    </tr>\n",
       "  </tbody>\n",
       "</table>\n",
       "</div>"
      ],
      "text/plain": [
       "   id puzzle_type                               parsed_initial_state  \\\n",
       "0   0  cube_2/2/2  [0, 1, 0, 2, 1, 3, 2, 3, 4, 2, 4, 2, 0, 4, 0, ...   \n",
       "1   1  cube_2/2/2  [0, 1, 4, 3, 3, 1, 5, 2, 5, 0, 3, 5, 5, 1, 3, ...   \n",
       "2   2  cube_2/2/2  [1, 5, 4, 4, 5, 2, 0, 0, 3, 3, 2, 5, 1, 3, 4, ...   \n",
       "3   3  cube_2/2/2  [2, 4, 1, 4, 5, 0, 1, 0, 2, 2, 5, 2, 3, 0, 3, ...   \n",
       "4   4  cube_2/2/2  [1, 0, 1, 0, 2, 1, 5, 3, 2, 4, 5, 0, 5, 0, 4, ...   \n",
       "\n",
       "                               parsed_solution_state  \n",
       "0  [2, 2, 2, 2, 3, 3, 3, 3, 4, 4, 4, 4, 0, 0, 0, ...  \n",
       "1  [2, 2, 2, 2, 3, 3, 3, 3, 4, 4, 4, 4, 0, 0, 0, ...  \n",
       "2  [2, 2, 2, 2, 3, 3, 3, 3, 4, 4, 4, 4, 0, 0, 0, ...  \n",
       "3  [2, 2, 2, 2, 3, 3, 3, 3, 4, 4, 4, 4, 0, 0, 0, ...  \n",
       "4  [2, 2, 2, 2, 3, 3, 3, 3, 4, 4, 4, 4, 0, 0, 0, ...  "
      ]
     },
     "execution_count": 202,
     "metadata": {},
     "output_type": "execute_result"
    }
   ],
   "source": [
    "# Parsing the initial_state and solution_state columns\n",
    "# Converting the semicolon-separated string values into lists of colors\n",
    "puzzles_df['parsed_initial_state'] = puzzles_df['initial_state'].apply(lambda x: x.split(';'))\n",
    "seen = {}\n",
    "\n",
    "for i in range(len(puzzles_df['parsed_initial_state'])):\n",
    "    for j in range(len(puzzles_df['parsed_initial_state'][i])):\n",
    "        if puzzles_df['parsed_initial_state'][i][j] not in seen:\n",
    "            seen[puzzles_df['parsed_initial_state'][i][j]] = len(seen)\n",
    "        puzzles_df['parsed_initial_state'][i][j] = seen[puzzles_df['parsed_initial_state'][i][j]]\n",
    "\n",
    "puzzles_df['parsed_solution_state'] = puzzles_df['solution_state'].apply(lambda x: x.split(';'))\n",
    "\n",
    "for i in range(len(puzzles_df['parsed_solution_state'])):\n",
    "    for j in range(len(puzzles_df['parsed_solution_state'][i])):\n",
    "        puzzles_df['parsed_solution_state'][i][j] = seen[puzzles_df['parsed_solution_state'][i][j]]\n",
    "\n",
    "# Displaying the modified dataframe with parsed states\n",
    "puzzles_df[['id', 'puzzle_type', 'parsed_initial_state', 'parsed_solution_state']].head()"
   ]
  },
  {
   "cell_type": "markdown",
   "metadata": {},
   "source": [
    "# Step 3: Deal with allow move"
   ]
  },
  {
   "cell_type": "code",
   "execution_count": 203,
   "metadata": {},
   "outputs": [
    {
     "data": {
      "text/plain": [
       "'cube_2/2/2'"
      ]
     },
     "execution_count": 203,
     "metadata": {},
     "output_type": "execute_result"
    }
   ],
   "source": [
    "import json\n",
    "\n",
    "# Converting the string representation of allowed_moves to dictionary\n",
    "puzzle_info_df['allowed_moves'] = puzzle_info_df['allowed_moves'].apply(lambda x: json.loads(x.replace(\"'\", '\"')))\n",
    "\n",
    "# Selecting an example puzzle type and displaying its allowed moves\n",
    "example_puzzle_type = puzzle_info_df['puzzle_type'].iloc[0]\n",
    "example_allowed_moves = puzzle_info_df[puzzle_info_df['puzzle_type'] == example_puzzle_type]['allowed_moves'].iloc[0]\n",
    "\n",
    "example_puzzle_type"
   ]
  },
  {
   "cell_type": "code",
   "execution_count": 204,
   "metadata": {},
   "outputs": [
    {
     "data": {
      "text/html": [
       "<div>\n",
       "<style scoped>\n",
       "    .dataframe tbody tr th:only-of-type {\n",
       "        vertical-align: middle;\n",
       "    }\n",
       "\n",
       "    .dataframe tbody tr th {\n",
       "        vertical-align: top;\n",
       "    }\n",
       "\n",
       "    .dataframe thead th {\n",
       "        text-align: right;\n",
       "    }\n",
       "</style>\n",
       "<table border=\"1\" class=\"dataframe\">\n",
       "  <thead>\n",
       "    <tr style=\"text-align: right;\">\n",
       "      <th></th>\n",
       "      <th>f0</th>\n",
       "      <th>f1</th>\n",
       "      <th>r0</th>\n",
       "      <th>r1</th>\n",
       "      <th>d0</th>\n",
       "      <th>d1</th>\n",
       "    </tr>\n",
       "  </thead>\n",
       "  <tbody>\n",
       "    <tr>\n",
       "      <th>0</th>\n",
       "      <td>0</td>\n",
       "      <td>18</td>\n",
       "      <td>0</td>\n",
       "      <td>4</td>\n",
       "      <td>0</td>\n",
       "      <td>1</td>\n",
       "    </tr>\n",
       "    <tr>\n",
       "      <th>1</th>\n",
       "      <td>1</td>\n",
       "      <td>16</td>\n",
       "      <td>5</td>\n",
       "      <td>1</td>\n",
       "      <td>1</td>\n",
       "      <td>3</td>\n",
       "    </tr>\n",
       "    <tr>\n",
       "      <th>2</th>\n",
       "      <td>19</td>\n",
       "      <td>2</td>\n",
       "      <td>2</td>\n",
       "      <td>6</td>\n",
       "      <td>2</td>\n",
       "      <td>0</td>\n",
       "    </tr>\n",
       "    <tr>\n",
       "      <th>3</th>\n",
       "      <td>17</td>\n",
       "      <td>3</td>\n",
       "      <td>7</td>\n",
       "      <td>3</td>\n",
       "      <td>3</td>\n",
       "      <td>2</td>\n",
       "    </tr>\n",
       "    <tr>\n",
       "      <th>4</th>\n",
       "      <td>6</td>\n",
       "      <td>4</td>\n",
       "      <td>4</td>\n",
       "      <td>20</td>\n",
       "      <td>4</td>\n",
       "      <td>16</td>\n",
       "    </tr>\n",
       "    <tr>\n",
       "      <th>5</th>\n",
       "      <td>4</td>\n",
       "      <td>5</td>\n",
       "      <td>21</td>\n",
       "      <td>5</td>\n",
       "      <td>5</td>\n",
       "      <td>17</td>\n",
       "    </tr>\n",
       "    <tr>\n",
       "      <th>6</th>\n",
       "      <td>7</td>\n",
       "      <td>6</td>\n",
       "      <td>6</td>\n",
       "      <td>22</td>\n",
       "      <td>18</td>\n",
       "      <td>6</td>\n",
       "    </tr>\n",
       "    <tr>\n",
       "      <th>7</th>\n",
       "      <td>5</td>\n",
       "      <td>7</td>\n",
       "      <td>23</td>\n",
       "      <td>7</td>\n",
       "      <td>19</td>\n",
       "      <td>7</td>\n",
       "    </tr>\n",
       "    <tr>\n",
       "      <th>8</th>\n",
       "      <td>2</td>\n",
       "      <td>8</td>\n",
       "      <td>10</td>\n",
       "      <td>8</td>\n",
       "      <td>8</td>\n",
       "      <td>4</td>\n",
       "    </tr>\n",
       "    <tr>\n",
       "      <th>9</th>\n",
       "      <td>9</td>\n",
       "      <td>0</td>\n",
       "      <td>8</td>\n",
       "      <td>9</td>\n",
       "      <td>9</td>\n",
       "      <td>5</td>\n",
       "    </tr>\n",
       "    <tr>\n",
       "      <th>10</th>\n",
       "      <td>3</td>\n",
       "      <td>10</td>\n",
       "      <td>11</td>\n",
       "      <td>10</td>\n",
       "      <td>6</td>\n",
       "      <td>10</td>\n",
       "    </tr>\n",
       "    <tr>\n",
       "      <th>11</th>\n",
       "      <td>11</td>\n",
       "      <td>1</td>\n",
       "      <td>9</td>\n",
       "      <td>11</td>\n",
       "      <td>7</td>\n",
       "      <td>11</td>\n",
       "    </tr>\n",
       "    <tr>\n",
       "      <th>12</th>\n",
       "      <td>12</td>\n",
       "      <td>13</td>\n",
       "      <td>3</td>\n",
       "      <td>12</td>\n",
       "      <td>12</td>\n",
       "      <td>8</td>\n",
       "    </tr>\n",
       "    <tr>\n",
       "      <th>13</th>\n",
       "      <td>13</td>\n",
       "      <td>15</td>\n",
       "      <td>13</td>\n",
       "      <td>2</td>\n",
       "      <td>13</td>\n",
       "      <td>9</td>\n",
       "    </tr>\n",
       "    <tr>\n",
       "      <th>14</th>\n",
       "      <td>14</td>\n",
       "      <td>12</td>\n",
       "      <td>1</td>\n",
       "      <td>14</td>\n",
       "      <td>10</td>\n",
       "      <td>14</td>\n",
       "    </tr>\n",
       "    <tr>\n",
       "      <th>15</th>\n",
       "      <td>15</td>\n",
       "      <td>14</td>\n",
       "      <td>15</td>\n",
       "      <td>0</td>\n",
       "      <td>11</td>\n",
       "      <td>15</td>\n",
       "    </tr>\n",
       "    <tr>\n",
       "      <th>16</th>\n",
       "      <td>16</td>\n",
       "      <td>22</td>\n",
       "      <td>16</td>\n",
       "      <td>17</td>\n",
       "      <td>16</td>\n",
       "      <td>12</td>\n",
       "    </tr>\n",
       "    <tr>\n",
       "      <th>17</th>\n",
       "      <td>20</td>\n",
       "      <td>17</td>\n",
       "      <td>17</td>\n",
       "      <td>19</td>\n",
       "      <td>17</td>\n",
       "      <td>13</td>\n",
       "    </tr>\n",
       "    <tr>\n",
       "      <th>18</th>\n",
       "      <td>18</td>\n",
       "      <td>23</td>\n",
       "      <td>18</td>\n",
       "      <td>16</td>\n",
       "      <td>14</td>\n",
       "      <td>18</td>\n",
       "    </tr>\n",
       "    <tr>\n",
       "      <th>19</th>\n",
       "      <td>21</td>\n",
       "      <td>19</td>\n",
       "      <td>19</td>\n",
       "      <td>18</td>\n",
       "      <td>15</td>\n",
       "      <td>19</td>\n",
       "    </tr>\n",
       "    <tr>\n",
       "      <th>20</th>\n",
       "      <td>10</td>\n",
       "      <td>20</td>\n",
       "      <td>20</td>\n",
       "      <td>15</td>\n",
       "      <td>22</td>\n",
       "      <td>20</td>\n",
       "    </tr>\n",
       "    <tr>\n",
       "      <th>21</th>\n",
       "      <td>8</td>\n",
       "      <td>21</td>\n",
       "      <td>14</td>\n",
       "      <td>21</td>\n",
       "      <td>20</td>\n",
       "      <td>21</td>\n",
       "    </tr>\n",
       "    <tr>\n",
       "      <th>22</th>\n",
       "      <td>22</td>\n",
       "      <td>11</td>\n",
       "      <td>22</td>\n",
       "      <td>13</td>\n",
       "      <td>23</td>\n",
       "      <td>22</td>\n",
       "    </tr>\n",
       "    <tr>\n",
       "      <th>23</th>\n",
       "      <td>23</td>\n",
       "      <td>9</td>\n",
       "      <td>12</td>\n",
       "      <td>23</td>\n",
       "      <td>21</td>\n",
       "      <td>23</td>\n",
       "    </tr>\n",
       "  </tbody>\n",
       "</table>\n",
       "</div>"
      ],
      "text/plain": [
       "    f0  f1  r0  r1  d0  d1\n",
       "0    0  18   0   4   0   1\n",
       "1    1  16   5   1   1   3\n",
       "2   19   2   2   6   2   0\n",
       "3   17   3   7   3   3   2\n",
       "4    6   4   4  20   4  16\n",
       "5    4   5  21   5   5  17\n",
       "6    7   6   6  22  18   6\n",
       "7    5   7  23   7  19   7\n",
       "8    2   8  10   8   8   4\n",
       "9    9   0   8   9   9   5\n",
       "10   3  10  11  10   6  10\n",
       "11  11   1   9  11   7  11\n",
       "12  12  13   3  12  12   8\n",
       "13  13  15  13   2  13   9\n",
       "14  14  12   1  14  10  14\n",
       "15  15  14  15   0  11  15\n",
       "16  16  22  16  17  16  12\n",
       "17  20  17  17  19  17  13\n",
       "18  18  23  18  16  14  18\n",
       "19  21  19  19  18  15  19\n",
       "20  10  20  20  15  22  20\n",
       "21   8  21  14  21  20  21\n",
       "22  22  11  22  13  23  22\n",
       "23  23   9  12  23  21  23"
      ]
     },
     "execution_count": 204,
     "metadata": {},
     "output_type": "execute_result"
    }
   ],
   "source": [
    "pd.DataFrame(example_allowed_moves)"
   ]
  },
  {
   "cell_type": "code",
   "execution_count": 205,
   "metadata": {},
   "outputs": [
    {
     "name": "stdout",
     "output_type": "stream",
     "text": [
      "  puzzle_type                                      allowed_moves\n",
      "0  cube_2/2/2  {'f0': [0, 1, 19, 17, 6, 4, 7, 5, 2, 9, 3, 11,...\n",
      "1  cube_3/3/3  {'f0': [0, 1, 2, 3, 4, 5, 44, 41, 38, 15, 12, ...\n",
      "2  cube_4/4/4  {'f0': [0, 1, 2, 3, 4, 5, 6, 7, 8, 9, 10, 11, ...\n",
      "3  cube_5/5/5  {'f0': [0, 1, 2, 3, 4, 5, 6, 7, 8, 9, 10, 11, ...\n",
      "4  cube_6/6/6  {'f0': [0, 1, 2, 3, 4, 5, 6, 7, 8, 9, 10, 11, ...\n"
     ]
    }
   ],
   "source": [
    "print(puzzle_info_df.head())"
   ]
  },
  {
   "cell_type": "code",
   "execution_count": 206,
   "metadata": {},
   "outputs": [
    {
     "name": "stdout",
     "output_type": "stream",
     "text": [
      "{'f0': [0, 1, 19, 17, 6, 4, 7, 5, 2, 9, 3, 11, 12, 13, 14, 15, 16, 20, 18, 21, 10, 8, 22, 23], 'f1': [18, 16, 2, 3, 4, 5, 6, 7, 8, 0, 10, 1, 13, 15, 12, 14, 22, 17, 23, 19, 20, 21, 11, 9], 'r0': [0, 5, 2, 7, 4, 21, 6, 23, 10, 8, 11, 9, 3, 13, 1, 15, 16, 17, 18, 19, 20, 14, 22, 12], 'r1': [4, 1, 6, 3, 20, 5, 22, 7, 8, 9, 10, 11, 12, 2, 14, 0, 17, 19, 16, 18, 15, 21, 13, 23], 'd0': [0, 1, 2, 3, 4, 5, 18, 19, 8, 9, 6, 7, 12, 13, 10, 11, 16, 17, 14, 15, 22, 20, 23, 21], 'd1': [1, 3, 0, 2, 16, 17, 6, 7, 4, 5, 10, 11, 8, 9, 14, 15, 12, 13, 18, 19, 20, 21, 22, 23]}\n"
     ]
    }
   ],
   "source": [
    "print(puzzle_info_df['allowed_moves'][0])"
   ]
  },
  {
   "cell_type": "code",
   "execution_count": null,
   "metadata": {},
   "outputs": [],
   "source": []
  },
  {
   "cell_type": "code",
   "execution_count": 207,
   "metadata": {},
   "outputs": [],
   "source": [
    "# type : (np.array(move_perm_i), np.array(name_i))\n",
    "puz_info = {}\n",
    "\n",
    "for i in range(len(puzzle_info_df)):\n",
    "    puz_info[puzzle_info_df['puzzle_type'][i]] = [[], []]\n",
    "    for j in puzzle_info_df['allowed_moves'][i].keys():\n",
    "        puz_info[puzzle_info_df['puzzle_type'][i]][1].append(j)\n",
    "        puz_info[puzzle_info_df['puzzle_type'][i]][0].append(np.array(puzzle_info_df['allowed_moves'][i][j]))\n",
    "\n",
    "        puz_info[puzzle_info_df['puzzle_type'][i]][1].append(str('-' + j)) # might be the opposite\n",
    "        puz_info[puzzle_info_df['puzzle_type'][i]][0].append(np.array(getInversePerm(puzzle_info_df['allowed_moves'][i][j])))"
   ]
  },
  {
   "cell_type": "code",
   "execution_count": 208,
   "metadata": {},
   "outputs": [
    {
     "name": "stdout",
     "output_type": "stream",
     "text": [
      "[[array([ 0,  1,  2,  3,  4,  5, 44, 41, 38, 15, 12,  9, 16, 13, 10, 17, 14,\n",
      "       11,  6, 19, 20,  7, 22, 23,  8, 25, 26, 27, 28, 29, 30, 31, 32, 33,\n",
      "       34, 35, 36, 37, 45, 39, 40, 46, 42, 43, 47, 24, 21, 18, 48, 49, 50,\n",
      "       51, 52, 53]), array([ 0,  1,  2,  3,  4,  5, 18, 21, 24, 11, 14, 17, 10, 13, 16,  9, 12,\n",
      "       15, 47, 19, 20, 46, 22, 23, 45, 25, 26, 27, 28, 29, 30, 31, 32, 33,\n",
      "       34, 35, 36, 37,  8, 39, 40,  7, 42, 43,  6, 38, 41, 44, 48, 49, 50,\n",
      "       51, 52, 53]), array([ 0,  1,  2, 43, 40, 37,  6,  7,  8,  9, 10, 11, 12, 13, 14, 15, 16,\n",
      "       17, 18,  3, 20, 21,  4, 23, 24,  5, 26, 27, 28, 29, 30, 31, 32, 33,\n",
      "       34, 35, 36, 48, 38, 39, 49, 41, 42, 50, 44, 45, 46, 47, 25, 22, 19,\n",
      "       51, 52, 53]), array([ 0,  1,  2, 19, 22, 25,  6,  7,  8,  9, 10, 11, 12, 13, 14, 15, 16,\n",
      "       17, 18, 50, 20, 21, 49, 23, 24, 48, 26, 27, 28, 29, 30, 31, 32, 33,\n",
      "       34, 35, 36,  5, 38, 39,  4, 41, 42,  3, 44, 45, 46, 47, 37, 40, 43,\n",
      "       51, 52, 53]), array([42, 39, 36,  3,  4,  5,  6,  7,  8,  9, 10, 11, 12, 13, 14, 15, 16,\n",
      "       17, 18, 19,  0, 21, 22,  1, 24, 25,  2, 29, 32, 35, 28, 31, 34, 27,\n",
      "       30, 33, 51, 37, 38, 52, 40, 41, 53, 43, 44, 45, 46, 47, 48, 49, 50,\n",
      "       26, 23, 20]), array([20, 23, 26,  3,  4,  5,  6,  7,  8,  9, 10, 11, 12, 13, 14, 15, 16,\n",
      "       17, 18, 19, 53, 21, 22, 52, 24, 25, 51, 33, 30, 27, 34, 31, 28, 35,\n",
      "       32, 29,  2, 37, 38,  1, 40, 41,  0, 43, 44, 45, 46, 47, 48, 49, 50,\n",
      "       36, 39, 42]), array([ 0,  1, 11,  3,  4, 14,  6,  7, 17,  9, 10, 47, 12, 13, 50, 15, 16,\n",
      "       53, 24, 21, 18, 25, 22, 19, 26, 23, 20,  8, 28, 29,  5, 31, 32,  2,\n",
      "       34, 35, 36, 37, 38, 39, 40, 41, 42, 43, 44, 45, 46, 33, 48, 49, 30,\n",
      "       51, 52, 27]), array([ 0,  1, 33,  3,  4, 30,  6,  7, 27,  9, 10,  2, 12, 13,  5, 15, 16,\n",
      "        8, 20, 23, 26, 19, 22, 25, 18, 21, 24, 53, 28, 29, 50, 31, 32, 47,\n",
      "       34, 35, 36, 37, 38, 39, 40, 41, 42, 43, 44, 45, 46, 11, 48, 49, 14,\n",
      "       51, 52, 17]), array([ 0, 10,  2,  3, 13,  5,  6, 16,  8,  9, 46, 11, 12, 49, 14, 15, 52,\n",
      "       17, 18, 19, 20, 21, 22, 23, 24, 25, 26, 27,  7, 29, 30,  4, 32, 33,\n",
      "        1, 35, 36, 37, 38, 39, 40, 41, 42, 43, 44, 45, 34, 47, 48, 31, 50,\n",
      "       51, 28, 53]), array([ 0, 34,  2,  3, 31,  5,  6, 28,  8,  9,  1, 11, 12,  4, 14, 15,  7,\n",
      "       17, 18, 19, 20, 21, 22, 23, 24, 25, 26, 27, 52, 29, 30, 49, 32, 33,\n",
      "       46, 35, 36, 37, 38, 39, 40, 41, 42, 43, 44, 45, 10, 47, 48, 13, 50,\n",
      "       51, 16, 53]), array([ 9,  1,  2, 12,  4,  5, 15,  7,  8, 45, 10, 11, 48, 13, 14, 51, 16,\n",
      "       17, 18, 19, 20, 21, 22, 23, 24, 25, 26, 27, 28,  6, 30, 31,  3, 33,\n",
      "       34,  0, 38, 41, 44, 37, 40, 43, 36, 39, 42, 35, 46, 47, 32, 49, 50,\n",
      "       29, 52, 53]), array([35,  1,  2, 32,  4,  5, 29,  7,  8,  0, 10, 11,  3, 13, 14,  6, 16,\n",
      "       17, 18, 19, 20, 21, 22, 23, 24, 25, 26, 27, 28, 51, 30, 31, 48, 33,\n",
      "       34, 45, 42, 39, 36, 43, 40, 37, 44, 41, 38,  9, 46, 47, 12, 49, 50,\n",
      "       15, 52, 53]), array([ 0,  1,  2,  3,  4,  5,  6,  7,  8,  9, 10, 11, 12, 13, 14, 42, 43,\n",
      "       44, 18, 19, 20, 21, 22, 23, 15, 16, 17, 27, 28, 29, 30, 31, 32, 24,\n",
      "       25, 26, 36, 37, 38, 39, 40, 41, 33, 34, 35, 51, 48, 45, 52, 49, 46,\n",
      "       53, 50, 47]), array([ 0,  1,  2,  3,  4,  5,  6,  7,  8,  9, 10, 11, 12, 13, 14, 24, 25,\n",
      "       26, 18, 19, 20, 21, 22, 23, 33, 34, 35, 27, 28, 29, 30, 31, 32, 42,\n",
      "       43, 44, 36, 37, 38, 39, 40, 41, 15, 16, 17, 47, 50, 53, 46, 49, 52,\n",
      "       45, 48, 51]), array([ 0,  1,  2,  3,  4,  5,  6,  7,  8,  9, 10, 11, 39, 40, 41, 15, 16,\n",
      "       17, 18, 19, 20, 12, 13, 14, 24, 25, 26, 27, 28, 29, 21, 22, 23, 33,\n",
      "       34, 35, 36, 37, 38, 30, 31, 32, 42, 43, 44, 45, 46, 47, 48, 49, 50,\n",
      "       51, 52, 53]), array([ 0,  1,  2,  3,  4,  5,  6,  7,  8,  9, 10, 11, 21, 22, 23, 15, 16,\n",
      "       17, 18, 19, 20, 30, 31, 32, 24, 25, 26, 27, 28, 29, 39, 40, 41, 33,\n",
      "       34, 35, 36, 37, 38, 12, 13, 14, 42, 43, 44, 45, 46, 47, 48, 49, 50,\n",
      "       51, 52, 53]), array([ 2,  5,  8,  1,  4,  7,  0,  3,  6, 36, 37, 38, 12, 13, 14, 15, 16,\n",
      "       17,  9, 10, 11, 21, 22, 23, 24, 25, 26, 18, 19, 20, 30, 31, 32, 33,\n",
      "       34, 35, 27, 28, 29, 39, 40, 41, 42, 43, 44, 45, 46, 47, 48, 49, 50,\n",
      "       51, 52, 53]), array([ 6,  3,  0,  7,  4,  1,  8,  5,  2, 18, 19, 20, 12, 13, 14, 15, 16,\n",
      "       17, 27, 28, 29, 21, 22, 23, 24, 25, 26, 36, 37, 38, 30, 31, 32, 33,\n",
      "       34, 35,  9, 10, 11, 39, 40, 41, 42, 43, 44, 45, 46, 47, 48, 49, 50,\n",
      "       51, 52, 53])], ['f0', '-f0', 'f1', '-f1', 'f2', '-f2', 'r0', '-r0', 'r1', '-r1', 'r2', '-r2', 'd0', '-d0', 'd1', '-d1', 'd2', '-d2']]\n"
     ]
    }
   ],
   "source": [
    "print(puz_info['cube_3/3/3'])"
   ]
  },
  {
   "cell_type": "markdown",
   "metadata": {},
   "source": [
    "# Step 4: Apply actions to the puzzle state"
   ]
  },
  {
   "cell_type": "code",
   "execution_count": 209,
   "metadata": {},
   "outputs": [
    {
     "name": "stdout",
     "output_type": "stream",
     "text": [
      "[0 1 1 5 2 1 3 3 0 2 2 2 0 4 0 5 5 3 1 5 4 4 3 4]\n",
      "[0 1 4 4 3 3 1 2 5 2 3 2 0 4 0 5 5 2 1 0 5 1 3 4]\n",
      "Inverse check:\n",
      "[0 1 0 2 1 3 2 3 4 2 4 2 0 4 0 5 5 5 1 1 3 5 3 4]\n",
      "[ True  True  True  True  True  True  True  True  True  True  True  True\n",
      "  True  True  True  True  True  True  True  True  True  True  True  True]\n",
      "[0 1 0 2 1 3 2 3 4 2 4 2 0 4 0 5 5 5 1 1 3 5 3 4]\n"
     ]
    }
   ],
   "source": [
    "t_n = len(puz_info['cube_2/2/2'][0][0])\n",
    "\n",
    "a = puz_info['cube_2/2/2'][0][0]\n",
    "_a = puz_info['cube_2/2/2'][0][1]\n",
    "arr = np.array(puzzles_df['parsed_initial_state'][0])\n",
    "\n",
    "print(arr[a])\n",
    "print(arr[_a])\n",
    "\n",
    "print(\"Inverse check:\")\n",
    "print(arr[a][_a])\n",
    "print(arr[a][_a] == arr)\n",
    "print(arr[_a][a])"
   ]
  },
  {
   "cell_type": "markdown",
   "metadata": {},
   "source": [
    "# Step 5: Develop search algorithm"
   ]
  },
  {
   "cell_type": "code",
   "execution_count": 210,
   "metadata": {},
   "outputs": [
    {
     "name": "stdout",
     "output_type": "stream",
     "text": [
      "   id                                              moves\n",
      "0   0                                             r1.-f1\n",
      "1   1                     f0.r1.f1.-d0.-d0.-f0.-r0.f0.d0\n",
      "2   2  f1.d0.-d1.r0.-d1.-f0.f1.-r0.-f0.-r1.-f0.r0.-d0...\n",
      "3   3  -f0.-r0.-f0.-d0.-f0.f1.r0.-d1.-r0.-r1.-r0.-f1....\n",
      "4   4  d1.-f1.d1.r1.-f0.d1.-d0.-r1.d1.d1.-f1.d1.-d0.-...\n"
     ]
    }
   ],
   "source": [
    "print(sample_submission_df.head())"
   ]
  },
  {
   "cell_type": "code",
   "execution_count": 211,
   "metadata": {},
   "outputs": [],
   "source": [
    "@jit(nopython=True, parallel = True, fastmath = True)\n",
    "def hash(perm):\n",
    "    base = 9973\n",
    "    modb = 1000000007\n",
    "    modc = 1000000009\n",
    "\n",
    "    B, C = 0, 0\n",
    "    for i in perm:\n",
    "        B = (B * base) % modb + i\n",
    "        C = (C * base) % modc + i\n",
    "\n",
    "    return (B, C)"
   ]
  },
  {
   "cell_type": "code",
   "execution_count": 212,
   "metadata": {},
   "outputs": [],
   "source": [
    "mx_mem = int(3e7)\n",
    "memory = [['', 0, []] for i in range(mx_mem)]\n",
    "# move_to_get_here, last_idx, perm"
   ]
  },
  {
   "cell_type": "code",
   "execution_count": 213,
   "metadata": {},
   "outputs": [],
   "source": [
    "# memory = np.array(memory) # call np.zeroes directly\n",
    "mem_idx = 0"
   ]
  },
  {
   "cell_type": "code",
   "execution_count": 216,
   "metadata": {},
   "outputs": [],
   "source": [
    "def a_star_search(initial_state, goal_state, max_dist, move_perm, move_name):\n",
    "    global mem_idx\n",
    "    \n",
    "    n = len(initial_state)\n",
    "    m = len(move_perm)\n",
    "    \n",
    "    # Priority queue for the open set (states to be evaluated)\n",
    "    open_set = []\n",
    "    heapq.heappush(open_set, (0, mem_idx))  # (priority, state, mem_idx)\n",
    "    memory[mem_idx][2] = initial_state\n",
    "    mem_idx += 1\n",
    "\n",
    "    # all considered permutations\n",
    "    considered = set()\n",
    "    considered.add(hash(initial_state))\n",
    "\n",
    "    while mem_idx + 200 < mx_mem:\n",
    "        cur_p, cur_idx = heapq.heappop(open_set)\n",
    "        cur_state = memory[cur_idx][2]\n",
    "        \n",
    "        cur_dist = dist(cur_state, goal_state)\n",
    "        cur_p -= cur_dist \n",
    "        # cur_state = np.array(cur_state)\n",
    "\n",
    "        #Comparision optimize: Just use hash if no wild_card\n",
    "        if cur_dist <= max_dist:\n",
    "            return cur_idx\n",
    "\n",
    "        for i in range(m):\n",
    "            perm = move_perm[i]\n",
    "            name = move_name[i]\n",
    "\n",
    "            new_state = cur_state[perm]\n",
    "            cur_hash = hash(new_state)\n",
    "            \n",
    "            if cur_hash not in considered:\n",
    "                considered.add(cur_hash)\n",
    "                memory[mem_idx][0] = name\n",
    "                memory[mem_idx][1] = cur_idx\n",
    "                memory[mem_idx][2] = new_state\n",
    "                \n",
    "                priority = cur_p + 1 + dist(new_state, goal_state) #might not be doing much. Regular dijkstra?\n",
    "                \n",
    "                heapq.heappush(open_set, (priority, mem_idx))\n",
    "                mem_idx += 1\n",
    "    return None"
   ]
  },
  {
   "cell_type": "code",
   "execution_count": 221,
   "metadata": {},
   "outputs": [
    {
     "name": "stdout",
     "output_type": "stream",
     "text": [
      "         6012303 function calls in 3.125 seconds\n",
      "\n",
      "   Ordered by: standard name\n",
      "\n",
      "   ncalls  tottime  percall  cumtime  percall filename:lineno(function)\n",
      "   856125    0.505    0.000    0.708    0.000 114246932.py:22(dist)\n",
      "        1    1.671    1.671    2.996    2.996 1586048460.py:1(a_star_search)\n",
      "        1    0.000    0.000    0.000    0.000 2844175703.py:1(dig_through_memory)\n",
      "        1    0.127    0.127    3.125    3.125 2844175703.py:11(solve)\n",
      "   954925    0.304    0.000    0.304    0.000 327325576.py:1(hash)\n",
      "        1    0.000    0.000    3.125    3.125 <string>:1(<module>)\n",
      "        5    0.000    0.000    0.000    0.000 __init__.py:33(using_copy_on_write)\n",
      "        5    0.000    0.000    0.000    0.000 base.py:5299(__contains__)\n",
      "       10    0.000    0.000    0.000    0.000 common.py:367(apply_if_callable)\n",
      "        5    0.000    0.000    0.000    0.000 frame.py:3856(__getitem__)\n",
      "        5    0.000    0.000    0.000    0.000 frame.py:4405(_get_item_cache)\n",
      "       10    0.000    0.000    0.000    0.000 indexing.py:2678(check_dict_or_set_indexers)\n",
      "        5    0.000    0.000    0.000    0.000 inference.py:334(is_hashable)\n",
      "        5    0.000    0.000    0.000    0.000 managers.py:1960(internal_values)\n",
      "   856125    0.044    0.000    0.044    0.000 numeric.py:411(_count_nonzero_dispatcher)\n",
      "   856125    0.111    0.000    0.159    0.000 numeric.py:415(count_nonzero)\n",
      "        5    0.000    0.000    0.000    0.000 range.py:409(get_loc)\n",
      "        5    0.000    0.000    0.000    0.000 series.py:1016(__getitem__)\n",
      "        5    0.000    0.000    0.000    0.000 series.py:1139(_get_value)\n",
      "        5    0.000    0.000    0.000    0.000 series.py:750(_values)\n",
      "    79578    0.105    0.000    0.105    0.000 {built-in method _heapq.heappop}\n",
      "   776548    0.132    0.000    0.132    0.000 {built-in method _heapq.heappush}\n",
      "       10    0.000    0.000    0.000    0.000 {built-in method builtins.callable}\n",
      "        1    0.000    0.000    3.125    3.125 {built-in method builtins.exec}\n",
      "       10    0.000    0.000    0.000    0.000 {built-in method builtins.hash}\n",
      "       50    0.000    0.000    0.000    0.000 {built-in method builtins.isinstance}\n",
      "        2    0.000    0.000    0.000    0.000 {built-in method builtins.len}\n",
      "        4    0.001    0.000    0.001    0.000 {built-in method numpy.array}\n",
      "   856125    0.048    0.000    0.048    0.000 {built-in method numpy.core._multiarray_umath.count_nonzero}\n",
      "   776548    0.075    0.000    0.075    0.000 {method 'add' of 'set' objects}\n",
      "       12    0.000    0.000    0.000    0.000 {method 'append' of 'list' objects}\n",
      "        1    0.000    0.000    0.000    0.000 {method 'disable' of '_lsprof.Profiler' objects}\n",
      "        5    0.000    0.000    0.000    0.000 {method 'get' of 'dict' objects}\n",
      "        5    0.000    0.000    0.000    0.000 {method 'index' of 'range' objects}\n",
      "       15    0.000    0.000    0.000    0.000 {pandas._libs.lib.is_integer}\n",
      "        5    0.000    0.000    0.000    0.000 {pandas._libs.lib.is_iterator}\n",
      "        5    0.000    0.000    0.000    0.000 {pandas._libs.lib.is_scalar}\n",
      "        5    0.000    0.000    0.000    0.000 {pandas._libs.lib.item_from_zerodim}\n",
      "\n",
      "\n"
     ]
    }
   ],
   "source": [
    "def dig_through_memory(idx):\n",
    "    res = []\n",
    "    while idx != 0:\n",
    "        # print(idx)\n",
    "        res.append(memory[idx][0])\n",
    "        idx = memory[idx][1]\n",
    "\n",
    "    res = list(reversed(res))\n",
    "    return res\n",
    "\n",
    "def solve(idx):\n",
    "    global mem_idx\n",
    "    \n",
    "    mem_idx = 0\n",
    "    \n",
    "    initial_state = np.array(puzzles_df['parsed_initial_state'][idx])\n",
    "    goal_state = np.array(puzzles_df['parsed_solution_state'][idx])\n",
    "    max_dist = puzzles_df['num_wildcards'][idx]\n",
    "    \n",
    "    move_perm = np.array(puz_info[puzzles_df['puzzle_type'][idx]][0])\n",
    "    move_name = np.array(puz_info[puzzles_df['puzzle_type'][idx]][1])\n",
    "\n",
    "    res = a_star_search(initial_state, goal_state, max_dist, move_perm, move_name)\n",
    "    \n",
    "    if res != None:\n",
    "        return dig_through_memory(res)\n",
    "        \n",
    "    return sample_submission_df['moves'][idx]\n",
    "\n",
    "cProfile.run(\"solve(2)\")\n",
    "# solve(0)"
   ]
  },
  {
   "cell_type": "markdown",
   "metadata": {},
   "source": [
    "# Step 6: Build submission format function"
   ]
  },
  {
   "cell_type": "code",
   "execution_count": 30,
   "metadata": {},
   "outputs": [],
   "source": [
    "def format_solution_for_submission(puzzle_id, solution_moves):\n",
    "    \"\"\"\n",
    "    Format the solution to a puzzle for submission.\n",
    "\n",
    "    :param puzzle_id: The unique identifier of the puzzle.\n",
    "    :param solution_moves: List of tuples representing the solution moves.\n",
    "    :return: Formatted string suitable for submission.\n",
    "    \"\"\"\n",
    "    formatted_moves = []\n",
    "    for move in solution_moves:\n",
    "        formatted_moves.append(move)\n",
    "\n",
    "    # Joining the moves into a single string separated by periods\n",
    "    return {'id': puzzle_id, 'moves': '.'.join(formatted_moves)}\n"
   ]
  },
  {
   "cell_type": "markdown",
   "metadata": {},
   "source": [
    "# Step 7: Define solve function"
   ]
  },
  {
   "cell_type": "code",
   "execution_count": 31,
   "metadata": {},
   "outputs": [
    {
     "name": "stderr",
     "output_type": "stream",
     "text": [
      " 12%|████▍                               | 49/398 [8:50:41<62:59:48, 649.83s/it]\n"
     ]
    },
    {
     "ename": "KeyboardInterrupt",
     "evalue": "",
     "output_type": "error",
     "traceback": [
      "\u001b[0;31m---------------------------------------------------------------------------\u001b[0m",
      "\u001b[0;31mKeyboardInterrupt\u001b[0m                         Traceback (most recent call last)",
      "Cell \u001b[0;32mIn[31], line 6\u001b[0m\n\u001b[1;32m      3\u001b[0m res_df \u001b[38;5;241m=\u001b[39m []\n\u001b[1;32m      5\u001b[0m \u001b[38;5;28;01mfor\u001b[39;00m i \u001b[38;5;129;01min\u001b[39;00m tqdm(\u001b[38;5;28mrange\u001b[39m(\u001b[38;5;28mlen\u001b[39m(puzzles_df))):\n\u001b[0;32m----> 6\u001b[0m     res \u001b[38;5;241m=\u001b[39m \u001b[43msolve\u001b[49m\u001b[43m(\u001b[49m\u001b[43mi\u001b[49m\u001b[43m)\u001b[49m\n\u001b[1;32m      7\u001b[0m     \u001b[38;5;66;03m# print(res)\u001b[39;00m\n\u001b[1;32m      8\u001b[0m     \u001b[38;5;28;01mif\u001b[39;00m res \u001b[38;5;241m==\u001b[39m \u001b[38;5;28;01mNone\u001b[39;00m:\n",
      "Cell \u001b[0;32mIn[29], line 22\u001b[0m, in \u001b[0;36msolve\u001b[0;34m(idx)\u001b[0m\n\u001b[1;32m     19\u001b[0m move_perm \u001b[38;5;241m=\u001b[39m np\u001b[38;5;241m.\u001b[39marray(puz_info[puzzles_df[\u001b[38;5;124m'\u001b[39m\u001b[38;5;124mpuzzle_type\u001b[39m\u001b[38;5;124m'\u001b[39m][idx]][\u001b[38;5;241m0\u001b[39m])\n\u001b[1;32m     20\u001b[0m move_name \u001b[38;5;241m=\u001b[39m np\u001b[38;5;241m.\u001b[39marray(puz_info[puzzles_df[\u001b[38;5;124m'\u001b[39m\u001b[38;5;124mpuzzle_type\u001b[39m\u001b[38;5;124m'\u001b[39m][idx]][\u001b[38;5;241m1\u001b[39m])\n\u001b[0;32m---> 22\u001b[0m res \u001b[38;5;241m=\u001b[39m \u001b[43ma_star_search\u001b[49m\u001b[43m(\u001b[49m\u001b[43minitial_state\u001b[49m\u001b[43m,\u001b[49m\u001b[43m \u001b[49m\u001b[43mgoal_state\u001b[49m\u001b[43m,\u001b[49m\u001b[43m \u001b[49m\u001b[43mmax_dist\u001b[49m\u001b[43m,\u001b[49m\u001b[43m \u001b[49m\u001b[43mmove_perm\u001b[49m\u001b[43m,\u001b[49m\u001b[43m \u001b[49m\u001b[43mmove_name\u001b[49m\u001b[43m)\u001b[49m\n\u001b[1;32m     24\u001b[0m \u001b[38;5;28;01mif\u001b[39;00m res \u001b[38;5;241m!=\u001b[39m \u001b[38;5;28;01mNone\u001b[39;00m:\n\u001b[1;32m     25\u001b[0m     \u001b[38;5;28;01mreturn\u001b[39;00m dig_through_memory(res)\n",
      "Cell \u001b[0;32mIn[28], line 37\u001b[0m, in \u001b[0;36ma_star_search\u001b[0;34m(initial_state, goal_state, max_dist, move_perm, move_name)\u001b[0m\n\u001b[1;32m     34\u001b[0m name \u001b[38;5;241m=\u001b[39m move_name[i]\n\u001b[1;32m     36\u001b[0m new_state \u001b[38;5;241m=\u001b[39m cur_state[perm]\n\u001b[0;32m---> 37\u001b[0m cur_hash \u001b[38;5;241m=\u001b[39m \u001b[38;5;28;43mhash\u001b[39;49m\u001b[43m(\u001b[49m\u001b[43mnew_state\u001b[49m\u001b[43m)\u001b[49m\n\u001b[1;32m     39\u001b[0m \u001b[38;5;28;01mif\u001b[39;00m cur_hash \u001b[38;5;129;01mnot\u001b[39;00m \u001b[38;5;129;01min\u001b[39;00m considered:\n\u001b[1;32m     40\u001b[0m     considered\u001b[38;5;241m.\u001b[39madd(cur_hash)\n",
      "Cell \u001b[0;32mIn[3], line 14\u001b[0m, in \u001b[0;36mhash\u001b[0;34m(perm)\u001b[0m\n\u001b[1;32m     12\u001b[0m     A \u001b[38;5;241m+\u001b[39m\u001b[38;5;241m=\u001b[39m (A \u001b[38;5;241m*\u001b[39m base) \u001b[38;5;241m%\u001b[39m moda \u001b[38;5;241m+\u001b[39m i\n\u001b[1;32m     13\u001b[0m     B \u001b[38;5;241m+\u001b[39m\u001b[38;5;241m=\u001b[39m (B \u001b[38;5;241m*\u001b[39m base) \u001b[38;5;241m%\u001b[39m modb \u001b[38;5;241m+\u001b[39m i\n\u001b[0;32m---> 14\u001b[0m     C \u001b[38;5;241m+\u001b[39m\u001b[38;5;241m=\u001b[39m (C \u001b[38;5;241m*\u001b[39m base) \u001b[38;5;241m%\u001b[39m modc \u001b[38;5;241m+\u001b[39m i\n\u001b[1;32m     16\u001b[0m \u001b[38;5;28;01mreturn\u001b[39;00m (A, B, C)\n",
      "\u001b[0;31mKeyboardInterrupt\u001b[0m: "
     ]
    }
   ],
   "source": [
    "from tqdm import tqdm\n",
    "\n",
    "res_df = []\n",
    "\n",
    "for i in tqdm(range(len(puzzles_df))):\n",
    "    res = solve(i)\n",
    "    # print(res)\n",
    "    if res == None:\n",
    "        res = format_solution_for_submission(i, sample_submission_df['moves'][i].split('.'))\n",
    "    else:\n",
    "        res = format_solution_for_submission(i, res)\n",
    "    res_df.append(res)"
   ]
  },
  {
   "cell_type": "code",
   "execution_count": null,
   "metadata": {},
   "outputs": [],
   "source": [
    "res_df = pd.DataFrame(res_df)\n",
    "res_df"
   ]
  },
  {
   "cell_type": "markdown",
   "metadata": {},
   "source": [
    "# Step 9: Save submission"
   ]
  },
  {
   "cell_type": "code",
   "execution_count": null,
   "metadata": {},
   "outputs": [],
   "source": [
    "# Define the file path for the output CSV file\n",
    "output_csv_path = 'submission.csv'\n",
    "\n",
    "# Save the output DataFrame to a CSV file\n",
    "res_df.to_csv(output_csv_path, index=False)\n",
    "\n",
    "# Return the path of the saved file\n",
    "output_csv_path"
   ]
  },
  {
   "cell_type": "code",
   "execution_count": null,
   "metadata": {},
   "outputs": [],
   "source": []
  }
 ],
 "metadata": {
  "kaggle": {
   "accelerator": "none",
   "dataSources": [
    {
     "databundleVersionId": 7323271,
     "sourceId": 65704,
     "sourceType": "competition"
    }
   ],
   "dockerImageVersionId": 30626,
   "isGpuEnabled": false,
   "isInternetEnabled": true,
   "language": "python",
   "sourceType": "notebook"
  },
  "kernelspec": {
   "display_name": "climate-change-ai-venv-kernel",
   "language": "python",
   "name": "climate-change-ai-venv-kernel"
  },
  "language_info": {
   "codemirror_mode": {
    "name": "ipython",
    "version": 3
   },
   "file_extension": ".py",
   "mimetype": "text/x-python",
   "name": "python",
   "nbconvert_exporter": "python",
   "pygments_lexer": "ipython3",
   "version": "3.11.6"
  }
 },
 "nbformat": 4,
 "nbformat_minor": 4
}
