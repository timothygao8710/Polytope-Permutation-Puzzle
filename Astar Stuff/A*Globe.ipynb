{
 "cells": [
  {
   "cell_type": "code",
   "execution_count": 1,
   "metadata": {},
   "outputs": [],
   "source": [
    "import matplotlib.pyplot as plt\n",
    "from scipy import stats\n",
    "import numpy as np\n",
    "from numba import jit\n",
    "import pstats\n",
    "import heapq\n",
    "import time\n",
    "import cProfile\n",
    "import pandas as pd"
   ]
  },
  {
   "cell_type": "code",
   "execution_count": 2,
   "metadata": {},
   "outputs": [],
   "source": [
    "puzzle_info_path = 'puzzle_info.csv'\n",
    "puzzles_path = 'puzzles.csv'\n",
    "sample_submission_path = 'sample_submission.csv' # change name across board\n",
    "puzzle_info_df = pd.read_csv(puzzle_info_path)\n",
    "puzzles_df = pd.read_csv(puzzles_path)\n",
    "sample_submission_df = pd.read_csv(sample_submission_path)"
   ]
  },
  {
   "cell_type": "code",
   "execution_count": 3,
   "metadata": {},
   "outputs": [],
   "source": [
    "puzzles_df['parsed_initial_state'] = puzzles_df['initial_state'].apply(lambda x: x.split(';'))\n",
    "seen = {}\n",
    "\n",
    "for i in range(len(puzzles_df['parsed_initial_state'])):\n",
    "    for j in range(len(puzzles_df['parsed_initial_state'][i])):\n",
    "        if puzzles_df['parsed_initial_state'][i][j] not in seen:\n",
    "            seen[puzzles_df['parsed_initial_state'][i][j]] = len(seen)\n",
    "        puzzles_df['parsed_initial_state'][i][j] = seen[puzzles_df['parsed_initial_state'][i][j]]\n",
    "\n",
    "puzzles_df['parsed_solution_state'] = puzzles_df['solution_state'].apply(lambda x: x.split(';'))\n",
    "\n",
    "for i in range(len(puzzles_df['parsed_solution_state'])):\n",
    "    for j in range(len(puzzles_df['parsed_solution_state'][i])):\n",
    "        puzzles_df['parsed_solution_state'][i][j] = seen[puzzles_df['parsed_solution_state'][i][j]]"
   ]
  },
  {
   "cell_type": "code",
   "execution_count": 4,
   "metadata": {},
   "outputs": [],
   "source": [
    "import json\n",
    "\n",
    "# Converting the string representation of allowed_moves to dictionary\n",
    "puzzle_info_df['allowed_moves'] = puzzle_info_df['allowed_moves'].apply(lambda x: json.loads(x.replace(\"'\", '\"')))\n",
    "\n",
    "# Selecting an example puzzle type and displaying its allowed moves\n",
    "example_puzzle_type = puzzle_info_df['puzzle_type'].iloc[0]\n",
    "example_allowed_moves = puzzle_info_df[puzzle_info_df['puzzle_type'] == example_puzzle_type]['allowed_moves'].iloc[0]\n",
    "\n",
    "def getInversePerm(arr):\n",
    "    # gets the inverse move for a certain move\n",
    "    res = [0 for i in range(len(arr))]\n",
    "    for i in range(len(arr)):\n",
    "        res[arr[i]] = i\n",
    "    return res\n",
    "    \n",
    "# type : (np.array(move_perm_i), np.array(name_i))\n",
    "puz_info = {}\n",
    "\n",
    "# type : {move : perm}\n",
    "move_to_perm = {}\n",
    "\n",
    "for i in range(len(puzzle_info_df)):\n",
    "    puz_info[puzzle_info_df['puzzle_type'][i]] = [[], []]\n",
    "    move_to_perm[puzzle_info_df['puzzle_type'][i]] = {}\n",
    "    \n",
    "    for j in puzzle_info_df['allowed_moves'][i].keys():\n",
    "        puz_info[puzzle_info_df['puzzle_type'][i]][1].append(j)\n",
    "        puz_info[puzzle_info_df['puzzle_type'][i]][0].append(np.array(puzzle_info_df['allowed_moves'][i][j]))\n",
    "\n",
    "        puz_info[puzzle_info_df['puzzle_type'][i]][1].append(str('-' + j)) # might be the opposite\n",
    "        puz_info[puzzle_info_df['puzzle_type'][i]][0].append(np.array(getInversePerm(puzzle_info_df['allowed_moves'][i][j])))\n",
    "\n",
    "        move_to_perm[puzzle_info_df['puzzle_type'][i]][str('-' + j)] = np.array(getInversePerm(puzzle_info_df['allowed_moves'][i][j]))\n",
    "        move_to_perm[puzzle_info_df['puzzle_type'][i]][j] = np.array(puzzle_info_df['allowed_moves'][i][j])"
   ]
  },
  {
   "cell_type": "code",
   "execution_count": 5,
   "metadata": {},
   "outputs": [],
   "source": [
    "N = 2\n",
    "M = 16"
   ]
  },
  {
   "cell_type": "code",
   "execution_count": 6,
   "metadata": {},
   "outputs": [],
   "source": [
    "@jit(nopython=True, fastmath = True)\n",
    "def hash_perm(perm):\n",
    "    base = 9973\n",
    "    modb = 1000000007\n",
    "    modc = 1000000009\n",
    "\n",
    "    B, C = 0, 0\n",
    "    for i in perm:\n",
    "        B = (B * base) % modb + i\n",
    "        C = (C * base) % modc + i\n",
    "\n",
    "    return (B, C)\n",
    "\n",
    "# improve the a\n",
    "@jit(nopython=True,fastmath = True)\n",
    "def dist(a):\n",
    "    res = 0\n",
    "    for i in range(M):\n",
    "        if (a[i] >= M):\n",
    "            cur = abs(i + M - a[i])\n",
    "            res += max(0, min(cur, M - cur) - 8)\n",
    "        else:\n",
    "            cur = abs(i - a[i])\n",
    "            res += min(cur, M - cur)\n",
    "\n",
    "    for i in range(M):\n",
    "        if (a[i + M] < M):\n",
    "            cur = abs(i - a[i + M])\n",
    "            res += max(0, min(cur, M - cur) - 8)\n",
    "        else:\n",
    "            cur = abs(i + M - a[i + M])\n",
    "            res += min(cur, M - cur)\n",
    "\n",
    "    return res / 32"
   ]
  },
  {
   "cell_type": "code",
   "execution_count": 7,
   "metadata": {},
   "outputs": [
    {
     "name": "stdout",
     "output_type": "stream",
     "text": [
      "[0 0 0 ... 0 0 0]\n"
     ]
    }
   ],
   "source": [
    "# 1e6 ~ 2 seconds\n",
    "mx_mem = int(1e7)\n",
    "mem_idx = 0\n",
    "\n",
    "last_state = np.zeros(mx_mem, dtype=int)\n",
    "last_move = np.zeros(mx_mem, dtype=int)\n",
    "\n",
    "print(last_state)"
   ]
  },
  {
   "cell_type": "code",
   "execution_count": 19,
   "metadata": {},
   "outputs": [],
   "source": [
    "pq = []\n",
    "improvements = []\n",
    "\n",
    "def a_star_search(move_perm, initial_state, goal_state):\n",
    "    global mem_idx\n",
    "    \n",
    "    max_dist = 0\n",
    "\n",
    "    n = len(initial_state)\n",
    "    m = len(move_perm)\n",
    "\n",
    "    print(n, m)\n",
    "\n",
    "    avg_dist = np.array([n + 1 for i in range(500 * n)], dtype = np.float32)\n",
    "    n_dist = np.array([0 for i in range(500 * n)])\n",
    "\n",
    "    def upd_prune(nxt_p, nxt_dist):\n",
    "        if n_dist[nxt_p] == 0:\n",
    "            avg_dist[nxt_p] = nxt_dist\n",
    "            n_dist[nxt_p] = 1\n",
    "            return True\n",
    "\n",
    "        if n_dist[nxt_p] > 500:\n",
    "            if nxt_dist > avg_dist[nxt_p]:\n",
    "                return False\n",
    "        avg_dist[nxt_p] *= n_dist[nxt_p] / (n_dist[nxt_p] + 1)\n",
    "        avg_dist[nxt_p] += nxt_dist / (n_dist[nxt_p] + 1)\n",
    "        n_dist[nxt_p] += 1\n",
    "        return True\n",
    "    mx_len = 0\n",
    "    heapq.heappush(pq, (0, mem_idx, initial_state, 0))  # (priority, mem_idx, state, path_length)\n",
    "    mem_idx += 1\n",
    "\n",
    "    pruned_branch = 0\n",
    "    \n",
    "    best_so_far = 1e18\n",
    "    S = time.time()\n",
    "    considered = set()\n",
    "    considered.add(hash_perm(initial_state))\n",
    "    while mem_idx + m < mx_mem:\n",
    "        cur_p_plus_dist, cur_idx, cur_state, cur_p = heapq.heappop(pq) \n",
    "        cur_dist = cur_p_plus_dist - cur_p\n",
    "        \n",
    "        # if mx_len > 50 and np.random.rand() > 1 + cur_p / mx_len - 0.3: # Pruning 2 (too risky) --> missing results in HUGE penalty\n",
    "        #     pruned_branch += 1\n",
    "        #     continue\n",
    "\n",
    "        mx_len = max(mx_len, cur_p + 1)\n",
    "\n",
    "        \n",
    "        for i in range(m):\n",
    "            nxt_state = cur_state[move_perm[i]]\n",
    "            nxt_hash = hash_perm(nxt_state)\n",
    "            nxt_p = 1 + cur_p\n",
    "\n",
    "            nxt_dist = dist(nxt_state)\n",
    "            \n",
    "\n",
    "            ok = upd_prune(nxt_p, nxt_dist)\n",
    "            if not ok:\n",
    "                pruned_branch += 1\n",
    "                continue\n",
    "\n",
    "            \n",
    "            if nxt_hash in considered:\n",
    "                continue\n",
    "            considered.add(nxt_hash)\n",
    "\n",
    "            if nxt_dist < best_so_far:\n",
    "                improvements.append((time.time() - S, nxt_dist))\n",
    "                print(nxt_dist)\n",
    "                best_so_far = nxt_dist\n",
    "            \n",
    "            last_state[mem_idx] = cur_idx\n",
    "            last_move[mem_idx] = i\n",
    "\n",
    "            if np.array_equal(nxt_state, goal_state):\n",
    "                print(\"Number of pruned branches\", pruned_branch)\n",
    "                print(\"Final length\", cur_p)\n",
    "                print(\"Final Dist\", nxt_dist)\n",
    "                \n",
    "                return mem_idx\n",
    "            \n",
    "            priority = nxt_p + nxt_dist\n",
    "            heapq.heappush(pq, (priority, mem_idx, nxt_state, 1+cur_p))\n",
    "            mem_idx += 1\n",
    "    return None\n",
    "\n",
    "initial_state = np.array([26,\n",
    " 10,\n",
    " 17,\n",
    " 24,\n",
    " 11,\n",
    " 3,\n",
    " 14,\n",
    " 16,\n",
    " 23,\n",
    " 2,\n",
    " 21,\n",
    " 1,\n",
    " 25,\n",
    " 22,\n",
    " 27,\n",
    " 9,\n",
    " 7,\n",
    " 6,\n",
    " 8,\n",
    " 5,\n",
    " 19,\n",
    " 0,\n",
    " 31,\n",
    " 12,\n",
    " 30,\n",
    " 18,\n",
    " 15,\n",
    " 28,\n",
    " 13,\n",
    " 20,\n",
    " 4,\n",
    " 29])\n",
    "\n",
    "goal_state = np.array([i for i in range(32)])\n",
    "move_perm = [np.array(move_to_perm['globe_1/8']['r0']), np.array(move_to_perm['globe_1/8']['r1']), np.array(move_to_perm['globe_1/8']['f0'])]"
   ]
  },
  {
   "cell_type": "code",
   "execution_count": 21,
   "metadata": {},
   "outputs": [
    {
     "name": "stdout",
     "output_type": "stream",
     "text": [
      "32 3\n",
      "2.21875\n",
      "1.96875\n",
      "1.8125\n",
      "1.75\n",
      "1.625\n",
      "1.53125\n",
      "1.5\n",
      "1.40625\n",
      "1.3125\n",
      "1.21875\n",
      "1.09375\n",
      "1.03125\n",
      "0.90625\n",
      "0.875\n",
      "0.84375\n",
      "0.8125\n",
      "0.78125\n",
      "0.75\n",
      "0.6875\n",
      "0.65625\n",
      "0.625\n",
      "0.59375\n",
      "0.5625\n",
      "0.53125\n",
      "0.5\n",
      "0.4375\n",
      "0.375\n",
      "0.34375\n",
      "0.3125\n",
      "0.28125\n",
      "0.21875\n",
      "0.1875\n",
      "0.09375\n",
      "0.0625\n",
      "CPU times: user 1min 1s, sys: 1.15 s, total: 1min 2s\n",
      "Wall time: 1min 4s\n"
     ]
    }
   ],
   "source": [
    "%%time\n",
    "a_star_search(move_perm, initial_state, goal_state)"
   ]
  },
  {
   "cell_type": "code",
   "execution_count": null,
   "metadata": {},
   "outputs": [],
   "source": [
    "print(len(pq))\n",
    "\n",
    "fringe_lengths = [] # all path lengths on fringe\n",
    "for j in pq:\n",
    "    fringe_lengths.append(j[3])\n",
    "\n",
    "plt.hist(fringe_lengths)"
   ]
  },
  {
   "cell_type": "code",
   "execution_count": null,
   "metadata": {},
   "outputs": [],
   "source": [
    "print(\"For path length 10, distribution of distances\")\n",
    "print(len(test10))\n",
    "temp = []\n",
    "for i in test10:\n",
    "    temp.append(i[0])\n",
    "plt.hist(temp)"
   ]
  },
  {
   "cell_type": "code",
   "execution_count": 246,
   "metadata": {},
   "outputs": [
    {
     "name": "stdout",
     "output_type": "stream",
     "text": [
      "For path length 10, distribution of times (where we changed the average)\n",
      "6022\n"
     ]
    },
    {
     "data": {
      "text/plain": [
       "(array([ 669.,  803.,  827., 1034.,  658.,  469.,  625.,  406.,  310.,\n",
       "         221.]),\n",
       " array([  818. ,  5850.1, 10882.2, 15914.3, 20946.4, 25978.5, 31010.6,\n",
       "        36042.7, 41074.8, 46106.9, 51139. ]),\n",
       " <BarContainer object of 10 artists>)"
      ]
     },
     "execution_count": 246,
     "metadata": {},
     "output_type": "execute_result"
    },
    {
     "data": {
      "image/png": "[encoded data removed]",
      "text/plain": [
       "<Figure size 640x480 with 1 Axes>"
      ]
     },
     "metadata": {},
     "output_type": "display_data"
    }
   ],
   "source": [
    "print(\"For path length 10, distribution of times (where we changed the average)\")\n",
    "print(len(test10))\n",
    "temp = []\n",
    "for i in test10:\n",
    "    temp.append(i[1])\n",
    "plt.hist(temp)"
   ]
  },
  {
   "cell_type": "code",
   "execution_count": 247,
   "metadata": {},
   "outputs": [
    {
     "name": "stdout",
     "output_type": "stream",
     "text": [
      "2418\n"
     ]
    },
    {
     "data": {
      "text/plain": [
       "(array([125., 498., 711., 475., 244.,  71.,  73., 151.,  47.,  23.]),\n",
       " array([49129., 51024., 52919., 54814., 56709., 58604., 60499., 62394.,\n",
       "        64289., 66184., 68079.]),\n",
       " <BarContainer object of 10 artists>)"
      ]
     },
     "execution_count": 247,
     "metadata": {},
     "output_type": "execute_result"
    },
    {
     "data": {
      "image/png": "[encoded data removed]",
      "text/plain": [
       "<Figure size 640x480 with 1 Axes>"
      ]
     },
     "metadata": {},
     "output_type": "display_data"
    }
   ],
   "source": [
    "print(len(test30))\n",
    "temp = []\n",
    "for i in test30:\n",
    "    temp.append(i[1])\n",
    "plt.hist(temp)"
   ]
  },
  {
   "cell_type": "code",
   "execution_count": 248,
   "metadata": {},
   "outputs": [
    {
     "name": "stdout",
     "output_type": "stream",
     "text": [
      "17\n"
     ]
    }
   ],
   "source": [
    "print(len(test50))"
   ]
  },
  {
   "cell_type": "code",
   "execution_count": 249,
   "metadata": {},
   "outputs": [
    {
     "name": "stdout",
     "output_type": "stream",
     "text": [
      "17\n"
     ]
    },
    {
     "data": {
      "text/plain": [
       "(array([2., 1., 3., 1., 2., 1., 2., 1., 2., 2.]),\n",
       " array([74857. , 74858.5, 74860. , 74861.5, 74863. , 74864.5, 74866. ,\n",
       "        74867.5, 74869. , 74870.5, 74872. ]),\n",
       " <BarContainer object of 10 artists>)"
      ]
     },
     "execution_count": 249,
     "metadata": {},
     "output_type": "execute_result"
    },
    {
     "data": {
      "image/png": "[encoded data removed]",
      "text/plain": [
       "<Figure size 640x480 with 1 Axes>"
      ]
     },
     "metadata": {},
     "output_type": "display_data"
    }
   ],
   "source": [
    "print(len(test50))\n",
    "temp = []\n",
    "for i in test50:\n",
    "    temp.append(i[1])\n",
    "plt.hist(temp)"
   ]
  },
  {
   "cell_type": "code",
   "execution_count": 250,
   "metadata": {},
   "outputs": [
    {
     "name": "stdout",
     "output_type": "stream",
     "text": [
      "0\n"
     ]
    }
   ],
   "source": [
    "print(len(test70))"
   ]
  },
  {
   "cell_type": "code",
   "execution_count": 251,
   "metadata": {},
   "outputs": [
    {
     "name": "stdout",
     "output_type": "stream",
     "text": [
      "0\n"
     ]
    },
    {
     "data": {
      "text/plain": [
       "(array([0., 0., 0., 0., 0., 0., 0., 0., 0., 0.]),\n",
       " array([0. , 0.1, 0.2, 0.3, 0.4, 0.5, 0.6, 0.7, 0.8, 0.9, 1. ]),\n",
       " <BarContainer object of 10 artists>)"
      ]
     },
     "execution_count": 251,
     "metadata": {},
     "output_type": "execute_result"
    },
    {
     "data": {
      "image/png": "[encoded data removed]",
      "text/plain": [
       "<Figure size 640x480 with 1 Axes>"
      ]
     },
     "metadata": {},
     "output_type": "display_data"
    }
   ],
   "source": [
    "print(len(test70))\n",
    "temp = []\n",
    "for i in test70:\n",
    "    temp.append(i[1])\n",
    "plt.hist(temp)"
   ]
  },
  {
   "cell_type": "code",
   "execution_count": 255,
   "metadata": {},
   "outputs": [
    {
     "data": {
      "text/plain": [
       "[<matplotlib.lines.Line2D at 0x2b25faf50>]"
      ]
     },
     "execution_count": 255,
     "metadata": {},
     "output_type": "execute_result"
    },
    {
     "data": {
      "image/png": "[encoded data removed]",
      "text/plain": [
       "<Figure size 640x480 with 1 Axes>"
      ]
     },
     "metadata": {},
     "output_type": "display_data"
    }
   ],
   "source": [
    "\n",
    "xs = []\n",
    "ys = []\n",
    "\n",
    "for i in improvements:\n",
    "    xs.append(i[0])\n",
    "    ys.append(i[1])\n",
    "    \n",
    "plt.plot(xs, ys)"
   ]
  },
  {
   "cell_type": "code",
   "execution_count": 258,
   "metadata": {},
   "outputs": [
    {
     "name": "stdout",
     "output_type": "stream",
     "text": [
      "42\n"
     ]
    },
    {
     "ename": "IndexError",
     "evalue": "index 44 is out of bounds for axis 0 with size 10",
     "output_type": "error",
     "traceback": [
      "\u001b[0;31m---------------------------------------------------------------------------\u001b[0m",
      "\u001b[0;31mIndexError\u001b[0m                                Traceback (most recent call last)",
      "File \u001b[0;32m<timed exec>:28\u001b[0m\n",
      "File \u001b[0;32m<timed exec>:17\u001b[0m, in \u001b[0;36msolve\u001b[0;34m(idx)\u001b[0m\n",
      "File \u001b[0;32m<timed exec>:98\u001b[0m, in \u001b[0;36ma_star_search\u001b[0;34m(idx)\u001b[0m\n",
      "\u001b[0;31mIndexError\u001b[0m: index 44 is out of bounds for axis 0 with size 10"
     ]
    }
   ],
   "source": [
    "%%time\n",
    "def dig_through_memory(idx):\n",
    "    res = []\n",
    "    while idx != 0:\n",
    "        res.append(last_move[idx])\n",
    "        idx = last_state[idx]\n",
    "\n",
    "    res = list(reversed(res))\n",
    "    return res\n",
    "\n",
    "def solve(idx):\n",
    "    global mem_idx\n",
    "    \n",
    "    mem_idx = 0\n",
    "    \n",
    "    move_name = np.array(puz_info[puzzles_df['puzzle_type'][idx]][1])\n",
    "\n",
    "    res = a_star_search(idx)\n",
    "    \n",
    "    if res == None:\n",
    "        return None\n",
    "\n",
    "    res = dig_through_memory(res)\n",
    "    for i in range(len(res)):\n",
    "        res[i] = move_name[res[i]]\n",
    "\n",
    "    return res\n",
    "\n",
    "A = solve(30)\n",
    "A"
   ]
  },
  {
   "cell_type": "code",
   "execution_count": 15,
   "metadata": {},
   "outputs": [
    {
     "data": {
      "text/plain": [
       "[<matplotlib.lines.Line2D at 0x41d3e1610>]"
      ]
     },
     "execution_count": 15,
     "metadata": {},
     "output_type": "execute_result"
    },
    {
     "data": {
      "image/png": "[encoded data removed]",
      "text/plain": [
       "<Figure size 640x480 with 1 Axes>"
      ]
     },
     "metadata": {},
     "output_type": "display_data"
    }
   ],
   "source": [
    "\n",
    "ys = [i for i in range(10)]\n",
    "plt.plot(xs, ys)"
   ]
  },
  {
   "cell_type": "markdown",
   "metadata": {},
   "source": [
    "# Step 6: Build submission format function"
   ]
  },
  {
   "cell_type": "code",
   "execution_count": 28,
   "metadata": {},
   "outputs": [],
   "source": [
    "def format_solution_for_submission(puzzle_id, solution_moves):\n",
    "    \"\"\"\n",
    "    Format the solution to a puzzle for submission.\n",
    "\n",
    "    :param puzzle_id: The unique identifier of the puzzle.\n",
    "    :param solution_moves: List of tuples representing the solution moves.\n",
    "    :return: Formatted string suitable for submission.\n",
    "    \"\"\"\n",
    "    formatted_moves = []\n",
    "    for move in solution_moves:\n",
    "        formatted_moves.append(move)\n",
    "\n",
    "    # Joining the moves into a single string separated by periods\n",
    "    return {'id': puzzle_id, 'moves': '.'.join(formatted_moves)}\n"
   ]
  },
  {
   "cell_type": "markdown",
   "metadata": {},
   "source": [
    "# Step 7: Define solve function"
   ]
  },
  {
   "cell_type": "code",
   "execution_count": 29,
   "metadata": {},
   "outputs": [
    {
     "name": "stderr",
     "output_type": "stream",
     "text": [
      "  0%|                                                   | 0/398 [00:00<?, ?it/s]"
     ]
    },
    {
     "name": "stdout",
     "output_type": "stream",
     "text": [
      "OK : 0 16\n",
      "num [6, 3]\n",
      "OK : 1 13131\n",
      "num [0, 6, 2, 9, 9, 2, 9, 3, 8]\n"
     ]
    },
    {
     "name": "stderr",
     "output_type": "stream",
     "text": [
      "  1%|▎                                          | 3/398 [00:01<03:15,  2.02it/s]"
     ]
    },
    {
     "name": "stdout",
     "output_type": "stream",
     "text": [
      "OK : 2 776542\n",
      "num [3, 5, 1, 7, 1, 8, 7, 9, 0, 8, 8, 1]\n"
     ]
    },
    {
     "name": "stderr",
     "output_type": "stream",
     "text": [
      "  1%|▎                                          | 3/398 [00:02<05:00,  1.31it/s]\n"
     ]
    },
    {
     "ename": "KeyboardInterrupt",
     "evalue": "",
     "output_type": "error",
     "traceback": [
      "\u001b[0;31m---------------------------------------------------------------------------\u001b[0m",
      "\u001b[0;31mKeyboardInterrupt\u001b[0m                         Traceback (most recent call last)",
      "Cell \u001b[0;32mIn[29], line 7\u001b[0m\n\u001b[1;32m      4\u001b[0m res_df \u001b[38;5;241m=\u001b[39m []\n\u001b[1;32m      6\u001b[0m \u001b[38;5;28;01mfor\u001b[39;00m i \u001b[38;5;129;01min\u001b[39;00m tqdm(\u001b[38;5;28mrange\u001b[39m(\u001b[38;5;28mlen\u001b[39m(puzzles_df))):\n\u001b[0;32m----> 7\u001b[0m     res \u001b[38;5;241m=\u001b[39m \u001b[43msolve\u001b[49m\u001b[43m(\u001b[49m\u001b[43mi\u001b[49m\u001b[43m)\u001b[49m\n\u001b[1;32m      8\u001b[0m     \u001b[38;5;66;03m# print(res)\u001b[39;00m\n\u001b[1;32m      9\u001b[0m     \u001b[38;5;28;01mif\u001b[39;00m res \u001b[38;5;241m==\u001b[39m \u001b[38;5;28;01mNone\u001b[39;00m:\n",
      "Cell \u001b[0;32mIn[27], line 17\u001b[0m, in \u001b[0;36msolve\u001b[0;34m(idx)\u001b[0m\n\u001b[1;32m     13\u001b[0m mem_idx \u001b[38;5;241m=\u001b[39m \u001b[38;5;241m0\u001b[39m\n\u001b[1;32m     15\u001b[0m move_name \u001b[38;5;241m=\u001b[39m np\u001b[38;5;241m.\u001b[39marray(puz_info[puzzles_df[\u001b[38;5;124m'\u001b[39m\u001b[38;5;124mpuzzle_type\u001b[39m\u001b[38;5;124m'\u001b[39m][idx]][\u001b[38;5;241m1\u001b[39m])\n\u001b[0;32m---> 17\u001b[0m res \u001b[38;5;241m=\u001b[39m \u001b[43ma_star_search\u001b[49m\u001b[43m(\u001b[49m\u001b[43midx\u001b[49m\u001b[43m)\u001b[49m\n\u001b[1;32m     19\u001b[0m \u001b[38;5;28;01mif\u001b[39;00m res \u001b[38;5;241m==\u001b[39m \u001b[38;5;28;01mNone\u001b[39;00m:\n\u001b[1;32m     20\u001b[0m     \u001b[38;5;28;01mreturn\u001b[39;00m sample_submission_df[\u001b[38;5;124m'\u001b[39m\u001b[38;5;124mmoves\u001b[39m\u001b[38;5;124m'\u001b[39m][idx]\n",
      "File \u001b[0;32m<timed exec>:29\u001b[0m, in \u001b[0;36ma_star_search\u001b[0;34m(idx)\u001b[0m\n",
      "\u001b[0;31mKeyboardInterrupt\u001b[0m: "
     ]
    }
   ],
   "source": [
    "from tqdm import tqdm\n",
    "\n",
    "all_ok = []\n",
    "res_df = []\n",
    "\n",
    "for i in tqdm(range(len(puzzles_df))):\n",
    "    res = solve(i)\n",
    "    # print(res)\n",
    "    if res == None:\n",
    "        res = format_solution_for_submission(i, sample_submission_df['moves'][i].split('.'))\n",
    "    else:\n",
    "        all_ok.append(i)\n",
    "        res = format_solution_for_submission(i, res)\n",
    "    res_df.append(res)"
   ]
  },
  {
   "cell_type": "code",
   "execution_count": null,
   "metadata": {},
   "outputs": [],
   "source": [
    "for i in tqdm(range(len(res_df), len(puzzles_df))):\n",
    "    res = None\n",
    "    # print(res)\n",
    "    if res == None:\n",
    "        res = format_solution_for_submission(i, sample_submission_df['moves'][i].split('.'))\n",
    "    else:\n",
    "        all_ok.append(i)\n",
    "        res = format_solution_for_submission(i, res)\n",
    "    res_df.append(res)"
   ]
  },
  {
   "cell_type": "code",
   "execution_count": null,
   "metadata": {},
   "outputs": [],
   "source": [
    "print(all_ok)"
   ]
  },
  {
   "cell_type": "code",
   "execution_count": null,
   "metadata": {},
   "outputs": [],
   "source": [
    "res_df = pd.DataFrame(res_df)\n",
    "res_df"
   ]
  },
  {
   "cell_type": "markdown",
   "metadata": {},
   "source": [
    "# Step 9: Save submission"
   ]
  },
  {
   "cell_type": "code",
   "execution_count": null,
   "metadata": {},
   "outputs": [],
   "source": [
    "# Define the file path for the output CSV file\n",
    "output_csv_path = 'submission.csv'\n",
    "\n",
    "# Save the output DataFrame to a CSV file\n",
    "res_df.to_csv(output_csv_path, index=False)\n",
    "\n",
    "# Return the path of the saved file\n",
    "output_csv_path"
   ]
  },
  {
   "cell_type": "code",
   "execution_count": null,
   "metadata": {},
   "outputs": [],
   "source": []
  },
  {
   "cell_type": "code",
   "execution_count": null,
   "metadata": {},
   "outputs": [],
   "source": []
  },
  {
   "cell_type": "code",
   "execution_count": null,
   "metadata": {},
   "outputs": [],
   "source": []
  }
 ],
 "metadata": {
  "kaggle": {
   "accelerator": "none",
   "dataSources": [
    {
     "databundleVersionId": 7323271,
     "sourceId": 65704,
     "sourceType": "competition"
    }
   ],
   "dockerImageVersionId": 30626,
   "isGpuEnabled": false,
   "isInternetEnabled": true,
   "language": "python",
   "sourceType": "notebook"
  },
  "kernelspec": {
   "display_name": "climate-change-ai-venv-kernel",
   "language": "python",
   "name": "climate-change-ai-venv-kernel"
  },
  "language_info": {
   "codemirror_mode": {
    "name": "ipython",
    "version": 3
   },
   "file_extension": ".py",
   "mimetype": "text/x-python",
   "name": "python",
   "nbconvert_exporter": "python",
   "pygments_lexer": "ipython3",
   "version": "3.11.6"
  }
 },
 "nbformat": 4,
 "nbformat_minor": 4
}
