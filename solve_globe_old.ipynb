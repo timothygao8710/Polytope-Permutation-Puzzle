{
 "cells": [
  {
   "cell_type": "code",
   "execution_count": 8,
   "metadata": {
    "collapsed": false,
    "jupyter": {
     "outputs_hidden": false
    }
   },
   "outputs": [
    {
     "data": {
      "text/html": [
       "<div>\n",
       "<style scoped>\n",
       "    .dataframe tbody tr th:only-of-type {\n",
       "        vertical-align: middle;\n",
       "    }\n",
       "\n",
       "    .dataframe tbody tr th {\n",
       "        vertical-align: top;\n",
       "    }\n",
       "\n",
       "    .dataframe thead th {\n",
       "        text-align: right;\n",
       "    }\n",
       "</style>\n",
       "<table border=\"1\" class=\"dataframe\">\n",
       "  <thead>\n",
       "    <tr style=\"text-align: right;\">\n",
       "      <th></th>\n",
       "      <th>id</th>\n",
       "      <th>puzzle_type</th>\n",
       "      <th>solution_state</th>\n",
       "      <th>initial_state</th>\n",
       "      <th>num_wildcards</th>\n",
       "    </tr>\n",
       "  </thead>\n",
       "  <tbody>\n",
       "    <tr>\n",
       "      <th>0</th>\n",
       "      <td>0</td>\n",
       "      <td>cube_2/2/2</td>\n",
       "      <td>A;A;A;A;B;B;B;B;C;C;C;C;D;D;D;D;E;E;E;E;F;F;F;F</td>\n",
       "      <td>D;E;D;A;E;B;A;B;C;A;C;A;D;C;D;F;F;F;E;E;B;F;B;C</td>\n",
       "      <td>0</td>\n",
       "    </tr>\n",
       "    <tr>\n",
       "      <th>1</th>\n",
       "      <td>1</td>\n",
       "      <td>cube_2/2/2</td>\n",
       "      <td>A;A;A;A;B;B;B;B;C;C;C;C;D;D;D;D;E;E;E;E;F;F;F;F</td>\n",
       "      <td>D;E;C;B;B;E;F;A;F;D;B;F;F;E;B;D;A;A;C;D;C;E;A;C</td>\n",
       "      <td>0</td>\n",
       "    </tr>\n",
       "    <tr>\n",
       "      <th>2</th>\n",
       "      <td>2</td>\n",
       "      <td>cube_2/2/2</td>\n",
       "      <td>A;A;A;A;B;B;B;B;C;C;C;C;D;D;D;D;E;E;E;E;F;F;F;F</td>\n",
       "      <td>E;F;C;C;F;A;D;D;B;B;A;F;E;B;C;A;A;B;D;F;E;E;C;D</td>\n",
       "      <td>0</td>\n",
       "    </tr>\n",
       "    <tr>\n",
       "      <th>3</th>\n",
       "      <td>3</td>\n",
       "      <td>cube_2/2/2</td>\n",
       "      <td>A;A;A;A;B;B;B;B;C;C;C;C;D;D;D;D;E;E;E;E;F;F;F;F</td>\n",
       "      <td>A;C;E;C;F;D;E;D;A;A;F;A;B;D;B;F;E;D;B;F;B;C;C;E</td>\n",
       "      <td>0</td>\n",
       "    </tr>\n",
       "    <tr>\n",
       "      <th>4</th>\n",
       "      <td>4</td>\n",
       "      <td>cube_2/2/2</td>\n",
       "      <td>A;A;A;A;B;B;B;B;C;C;C;C;D;D;D;D;E;E;E;E;F;F;F;F</td>\n",
       "      <td>E;D;E;D;A;E;F;B;A;C;F;D;F;D;C;A;F;B;C;C;B;E;B;A</td>\n",
       "      <td>0</td>\n",
       "    </tr>\n",
       "  </tbody>\n",
       "</table>\n",
       "</div>"
      ],
      "text/plain": [
       "   id puzzle_type                                   solution_state  \\\n",
       "0   0  cube_2/2/2  A;A;A;A;B;B;B;B;C;C;C;C;D;D;D;D;E;E;E;E;F;F;F;F   \n",
       "1   1  cube_2/2/2  A;A;A;A;B;B;B;B;C;C;C;C;D;D;D;D;E;E;E;E;F;F;F;F   \n",
       "2   2  cube_2/2/2  A;A;A;A;B;B;B;B;C;C;C;C;D;D;D;D;E;E;E;E;F;F;F;F   \n",
       "3   3  cube_2/2/2  A;A;A;A;B;B;B;B;C;C;C;C;D;D;D;D;E;E;E;E;F;F;F;F   \n",
       "4   4  cube_2/2/2  A;A;A;A;B;B;B;B;C;C;C;C;D;D;D;D;E;E;E;E;F;F;F;F   \n",
       "\n",
       "                                     initial_state  num_wildcards  \n",
       "0  D;E;D;A;E;B;A;B;C;A;C;A;D;C;D;F;F;F;E;E;B;F;B;C              0  \n",
       "1  D;E;C;B;B;E;F;A;F;D;B;F;F;E;B;D;A;A;C;D;C;E;A;C              0  \n",
       "2  E;F;C;C;F;A;D;D;B;B;A;F;E;B;C;A;A;B;D;F;E;E;C;D              0  \n",
       "3  A;C;E;C;F;D;E;D;A;A;F;A;B;D;B;F;E;D;B;F;B;C;C;E              0  \n",
       "4  E;D;E;D;A;E;F;B;A;C;F;D;F;D;C;A;F;B;C;C;B;E;B;A              0  "
      ]
     },
     "execution_count": 8,
     "metadata": {},
     "output_type": "execute_result"
    }
   ],
   "source": [
    "import numpy as np\n",
    "import pandas as pd\n",
    "from ast import literal_eval\n",
    "from pathlib import Path\n",
    "from pprint import pprint\n",
    "from sympy.combinatorics import Permutation\n",
    "\n",
    "# File paths\n",
    "puzzle_info_path = 'puzzle_info.csv'\n",
    "puzzles_path = 'puzzles.csv'\n",
    "sample_submission_path = 'sample_submission.csv' # change name across board\n",
    "my_submission_path = 'submission.csv'\n",
    "\n",
    "# Loading the data\n",
    "puzzle_info_df = pd.read_csv(puzzle_info_path)\n",
    "puzzles_df = pd.read_csv(puzzles_path)\n",
    "sample_submission_df = pd.read_csv(sample_submission_path)\n",
    "my_submission_df = pd.read_csv(my_submission_path)\n",
    "puzzles_df.head()"
   ]
  },
  {
   "cell_type": "markdown",
   "metadata": {
    "collapsed": false,
    "jupyter": {
     "outputs_hidden": false
    }
   },
   "source": [
    "# Globe Puzzles #\n",
    "A `globe` puzzle is a sphere with cuts along lines of latitude and longitude. If you poke a hole at the North and South poles, cut along the meridian, and spread it out, it will look like a grid:\n",
    "\n",
    "```\n",
    "  | f0  f1  f2  f3  f4  f5  f6  f7\n",
    "--+-------------------------------\n",
    "r0| 0   1   2   3   4   5   6   7\n",
    "r1| 8   9   10  11  12  13  14  15\n",
    "r2| 16  17  18  19  20  21  22  23\n",
    "r3| 24  25  26  27  28  29  30  31\n",
    "```\n",
    "\n",
    "More precisely, a `globe_M/N` is a sphere with `M` lateral cuts (through latitude) and N radial cuts (through longitude). This gives a `(M + 1) x (2 N)` grid of positions. You could format a color state into a grid like this with something like `np.asarray(state).reshape(m+1, 2*n)`. The above is a `globe_3/4` puzzle."
   ]
  },
  {
   "cell_type": "code",
   "execution_count": 9,
   "metadata": {},
   "outputs": [
    {
     "data": {
      "text/plain": [
       "array([['I', 'P', 'O', 'A', 'A', 'D', 'F', 'L', 'J', 'M', 'G', 'M', 'P',\n",
       "        'F', 'E', 'J'],\n",
       "       ['E', 'B', 'O', 'G', 'H', 'D', 'N', 'L', 'N', 'I', 'B', 'K', 'C',\n",
       "        'C', 'K', 'H']], dtype='<U1')"
      ]
     },
     "execution_count": 9,
     "metadata": {},
     "output_type": "execute_result"
    }
   ],
   "source": [
    "# Get a solution_state\n",
    "ss_globe34 = puzzles_df[puzzles_df[\"puzzle_type\"] == 'globe_1/8'].iloc[0]['initial_state'].split(';')\n",
    "\n",
    "# Reshape into a grid\n",
    "np.asarray(ss_globe34).reshape(1+1, 2*8)"
   ]
  },
  {
   "cell_type": "code",
   "execution_count": 10,
   "metadata": {},
   "outputs": [
    {
     "data": {
      "text/html": [
       "<div>\n",
       "<style scoped>\n",
       "    .dataframe tbody tr th:only-of-type {\n",
       "        vertical-align: middle;\n",
       "    }\n",
       "\n",
       "    .dataframe tbody tr th {\n",
       "        vertical-align: top;\n",
       "    }\n",
       "\n",
       "    .dataframe thead th {\n",
       "        text-align: right;\n",
       "    }\n",
       "</style>\n",
       "<table border=\"1\" class=\"dataframe\">\n",
       "  <thead>\n",
       "    <tr style=\"text-align: right;\">\n",
       "      <th></th>\n",
       "      <th>id</th>\n",
       "      <th>puzzle_type</th>\n",
       "      <th>solution_state</th>\n",
       "      <th>initial_state</th>\n",
       "      <th>num_wildcards</th>\n",
       "    </tr>\n",
       "  </thead>\n",
       "  <tbody>\n",
       "    <tr>\n",
       "      <th>358</th>\n",
       "      <td>358</td>\n",
       "      <td>globe_3/4</td>\n",
       "      <td>A;A;C;C;E;E;G;G;A;A;C;C;E;E;G;G;B;B;D;D;F;F;H;...</td>\n",
       "      <td>C;F;B;F;H;H;E;D;H;E;G;A;G;C;E;D;C;B;B;A;F;D;F;...</td>\n",
       "      <td>2</td>\n",
       "    </tr>\n",
       "    <tr>\n",
       "      <th>359</th>\n",
       "      <td>359</td>\n",
       "      <td>globe_3/4</td>\n",
       "      <td>A;A;C;C;E;E;G;G;A;A;C;C;E;E;G;G;B;B;D;D;F;F;H;...</td>\n",
       "      <td>D;B;G;B;F;E;D;C;F;B;F;E;B;G;H;A;H;A;D;C;E;C;D;...</td>\n",
       "      <td>4</td>\n",
       "    </tr>\n",
       "    <tr>\n",
       "      <th>360</th>\n",
       "      <td>360</td>\n",
       "      <td>globe_3/4</td>\n",
       "      <td>A;A;C;C;E;E;G;G;A;A;C;C;E;E;G;G;B;B;D;D;F;F;H;...</td>\n",
       "      <td>E;E;F;A;D;G;F;H;C;F;A;C;G;B;H;H;G;D;B;A;F;D;E;...</td>\n",
       "      <td>2</td>\n",
       "    </tr>\n",
       "    <tr>\n",
       "      <th>361</th>\n",
       "      <td>361</td>\n",
       "      <td>globe_3/4</td>\n",
       "      <td>A;A;C;C;E;E;G;G;A;A;C;C;E;E;G;G;B;B;D;D;F;F;H;...</td>\n",
       "      <td>C;E;G;H;E;F;F;H;G;E;F;E;B;H;A;C;H;B;C;A;G;F;D;...</td>\n",
       "      <td>0</td>\n",
       "    </tr>\n",
       "    <tr>\n",
       "      <th>362</th>\n",
       "      <td>362</td>\n",
       "      <td>globe_3/4</td>\n",
       "      <td>A;A;C;C;E;E;G;G;A;A;C;C;E;E;G;G;B;B;D;D;F;F;H;...</td>\n",
       "      <td>F;H;D;C;D;E;E;A;A;E;E;F;C;H;D;D;A;H;F;B;B;G;G;...</td>\n",
       "      <td>0</td>\n",
       "    </tr>\n",
       "    <tr>\n",
       "      <th>363</th>\n",
       "      <td>363</td>\n",
       "      <td>globe_3/4</td>\n",
       "      <td>A;A;C;C;E;E;G;G;A;A;C;C;E;E;G;G;B;B;D;D;F;F;H;...</td>\n",
       "      <td>F;D;B;G;H;C;A;C;C;A;H;E;C;F;E;A;G;D;F;B;H;D;B;...</td>\n",
       "      <td>0</td>\n",
       "    </tr>\n",
       "    <tr>\n",
       "      <th>364</th>\n",
       "      <td>364</td>\n",
       "      <td>globe_3/4</td>\n",
       "      <td>A;A;C;C;E;E;G;G;A;A;C;C;E;E;G;G;B;B;D;D;F;F;H;...</td>\n",
       "      <td>E;G;G;H;C;B;B;F;G;H;E;A;C;F;B;C;G;F;E;D;B;H;A;...</td>\n",
       "      <td>0</td>\n",
       "    </tr>\n",
       "    <tr>\n",
       "      <th>365</th>\n",
       "      <td>365</td>\n",
       "      <td>globe_3/4</td>\n",
       "      <td>A;A;C;C;E;E;G;G;A;A;C;C;E;E;G;G;B;B;D;D;F;F;H;...</td>\n",
       "      <td>A;G;B;E;F;G;H;A;B;E;F;C;G;D;A;D;H;C;G;A;H;F;E;...</td>\n",
       "      <td>0</td>\n",
       "    </tr>\n",
       "    <tr>\n",
       "      <th>366</th>\n",
       "      <td>366</td>\n",
       "      <td>globe_3/4</td>\n",
       "      <td>A;A;C;C;E;E;G;G;A;A;C;C;E;E;G;G;B;B;D;D;F;F;H;...</td>\n",
       "      <td>B;C;F;G;B;D;E;H;E;C;F;H;G;B;H;A;G;C;B;D;A;D;E;...</td>\n",
       "      <td>0</td>\n",
       "    </tr>\n",
       "    <tr>\n",
       "      <th>367</th>\n",
       "      <td>367</td>\n",
       "      <td>globe_3/4</td>\n",
       "      <td>A;A;C;C;E;E;G;G;A;A;C;C;E;E;G;G;B;B;D;D;F;F;H;...</td>\n",
       "      <td>D;B;F;G;F;C;A;D;C;E;A;B;F;G;F;C;E;H;A;H;G;D;D;...</td>\n",
       "      <td>0</td>\n",
       "    </tr>\n",
       "    <tr>\n",
       "      <th>368</th>\n",
       "      <td>368</td>\n",
       "      <td>globe_3/4</td>\n",
       "      <td>N0;N1;N2;N3;N4;N5;N6;N7;N8;N9;N10;N11;N12;N13;...</td>\n",
       "      <td>N4;N6;N5;N7;N0;N1;N26;N25;N14;N13;N18;N22;N20;...</td>\n",
       "      <td>0</td>\n",
       "    </tr>\n",
       "    <tr>\n",
       "      <th>369</th>\n",
       "      <td>369</td>\n",
       "      <td>globe_3/4</td>\n",
       "      <td>N0;N1;N2;N3;N4;N5;N6;N7;N8;N9;N10;N11;N12;N13;...</td>\n",
       "      <td>N24;N6;N7;N2;N29;N5;N27;N26;N18;N22;N23;N10;N2...</td>\n",
       "      <td>0</td>\n",
       "    </tr>\n",
       "    <tr>\n",
       "      <th>370</th>\n",
       "      <td>370</td>\n",
       "      <td>globe_3/4</td>\n",
       "      <td>N0;N1;N2;N3;N4;N5;N6;N7;N8;N9;N10;N11;N12;N13;...</td>\n",
       "      <td>N1;N28;N6;N2;N26;N7;N0;N29;N11;N16;N23;N17;N10...</td>\n",
       "      <td>2</td>\n",
       "    </tr>\n",
       "    <tr>\n",
       "      <th>371</th>\n",
       "      <td>371</td>\n",
       "      <td>globe_3/4</td>\n",
       "      <td>N0;N1;N2;N3;N4;N5;N6;N7;N8;N9;N10;N11;N12;N13;...</td>\n",
       "      <td>N30;N3;N28;N6;N31;N25;N27;N1;N9;N20;N15;N12;N2...</td>\n",
       "      <td>0</td>\n",
       "    </tr>\n",
       "    <tr>\n",
       "      <th>372</th>\n",
       "      <td>372</td>\n",
       "      <td>globe_3/4</td>\n",
       "      <td>N0;N1;N2;N3;N4;N5;N6;N7;N8;N9;N10;N11;N12;N13;...</td>\n",
       "      <td>N5;N28;N1;N30;N29;N27;N4;N6;N20;N12;N19;N10;N1...</td>\n",
       "      <td>2</td>\n",
       "    </tr>\n",
       "  </tbody>\n",
       "</table>\n",
       "</div>"
      ],
      "text/plain": [
       "      id puzzle_type                                     solution_state  \\\n",
       "358  358   globe_3/4  A;A;C;C;E;E;G;G;A;A;C;C;E;E;G;G;B;B;D;D;F;F;H;...   \n",
       "359  359   globe_3/4  A;A;C;C;E;E;G;G;A;A;C;C;E;E;G;G;B;B;D;D;F;F;H;...   \n",
       "360  360   globe_3/4  A;A;C;C;E;E;G;G;A;A;C;C;E;E;G;G;B;B;D;D;F;F;H;...   \n",
       "361  361   globe_3/4  A;A;C;C;E;E;G;G;A;A;C;C;E;E;G;G;B;B;D;D;F;F;H;...   \n",
       "362  362   globe_3/4  A;A;C;C;E;E;G;G;A;A;C;C;E;E;G;G;B;B;D;D;F;F;H;...   \n",
       "363  363   globe_3/4  A;A;C;C;E;E;G;G;A;A;C;C;E;E;G;G;B;B;D;D;F;F;H;...   \n",
       "364  364   globe_3/4  A;A;C;C;E;E;G;G;A;A;C;C;E;E;G;G;B;B;D;D;F;F;H;...   \n",
       "365  365   globe_3/4  A;A;C;C;E;E;G;G;A;A;C;C;E;E;G;G;B;B;D;D;F;F;H;...   \n",
       "366  366   globe_3/4  A;A;C;C;E;E;G;G;A;A;C;C;E;E;G;G;B;B;D;D;F;F;H;...   \n",
       "367  367   globe_3/4  A;A;C;C;E;E;G;G;A;A;C;C;E;E;G;G;B;B;D;D;F;F;H;...   \n",
       "368  368   globe_3/4  N0;N1;N2;N3;N4;N5;N6;N7;N8;N9;N10;N11;N12;N13;...   \n",
       "369  369   globe_3/4  N0;N1;N2;N3;N4;N5;N6;N7;N8;N9;N10;N11;N12;N13;...   \n",
       "370  370   globe_3/4  N0;N1;N2;N3;N4;N5;N6;N7;N8;N9;N10;N11;N12;N13;...   \n",
       "371  371   globe_3/4  N0;N1;N2;N3;N4;N5;N6;N7;N8;N9;N10;N11;N12;N13;...   \n",
       "372  372   globe_3/4  N0;N1;N2;N3;N4;N5;N6;N7;N8;N9;N10;N11;N12;N13;...   \n",
       "\n",
       "                                         initial_state  num_wildcards  \n",
       "358  C;F;B;F;H;H;E;D;H;E;G;A;G;C;E;D;C;B;B;A;F;D;F;...              2  \n",
       "359  D;B;G;B;F;E;D;C;F;B;F;E;B;G;H;A;H;A;D;C;E;C;D;...              4  \n",
       "360  E;E;F;A;D;G;F;H;C;F;A;C;G;B;H;H;G;D;B;A;F;D;E;...              2  \n",
       "361  C;E;G;H;E;F;F;H;G;E;F;E;B;H;A;C;H;B;C;A;G;F;D;...              0  \n",
       "362  F;H;D;C;D;E;E;A;A;E;E;F;C;H;D;D;A;H;F;B;B;G;G;...              0  \n",
       "363  F;D;B;G;H;C;A;C;C;A;H;E;C;F;E;A;G;D;F;B;H;D;B;...              0  \n",
       "364  E;G;G;H;C;B;B;F;G;H;E;A;C;F;B;C;G;F;E;D;B;H;A;...              0  \n",
       "365  A;G;B;E;F;G;H;A;B;E;F;C;G;D;A;D;H;C;G;A;H;F;E;...              0  \n",
       "366  B;C;F;G;B;D;E;H;E;C;F;H;G;B;H;A;G;C;B;D;A;D;E;...              0  \n",
       "367  D;B;F;G;F;C;A;D;C;E;A;B;F;G;F;C;E;H;A;H;G;D;D;...              0  \n",
       "368  N4;N6;N5;N7;N0;N1;N26;N25;N14;N13;N18;N22;N20;...              0  \n",
       "369  N24;N6;N7;N2;N29;N5;N27;N26;N18;N22;N23;N10;N2...              0  \n",
       "370  N1;N28;N6;N2;N26;N7;N0;N29;N11;N16;N23;N17;N10...              2  \n",
       "371  N30;N3;N28;N6;N31;N25;N27;N1;N9;N20;N15;N12;N2...              0  \n",
       "372  N5;N28;N1;N30;N29;N27;N4;N6;N20;N12;N19;N10;N1...              2  "
      ]
     },
     "execution_count": 10,
     "metadata": {},
     "output_type": "execute_result"
    }
   ],
   "source": [
    "puzzles_df[puzzles_df[\"puzzle_type\"] == 'globe_3/4']"
   ]
  },
  {
   "cell_type": "code",
   "execution_count": 11,
   "metadata": {},
   "outputs": [],
   "source": [
    "# Hemisphere operation (180 flip), latitude rotation\n",
    "\n",
    "# The top/bottom, top-1/bottom+1.... independent\n",
    "# all the elements in start = end for palindromic rows\n",
    "# the number of \"displaced elements\" on top = on bottom\n",
    "# in 3 moves, we can do a cyclic rotation of half of the perm for top/bot\n",
    "# all we need to do is ensure the bottom row (N24..N31 end up exactly where they are in the solution state) -> all elements of the top rwo are forced (except the case where answer is just a rotation of top / bottom, all hemisphere operations cancel)\n",
    "# the order of elements on the top will always be in reverse, the order on the bottom is always opposite\n",
    "\n",
    "# For globe 1/8, we can reduce to only three moves -> up shift, down shift, hemisphere (at index 0) shift"
   ]
  },
  {
   "cell_type": "code",
   "execution_count": null,
   "metadata": {},
   "outputs": [],
   "source": [
    "import matplotlib.pyplot as plt\n",
    "from scipy import stats\n",
    "import numpy as np\n",
    "from numba import jit\n",
    "import pstats\n",
    "import heapq\n",
    "import time\n",
    "import cProfile\n",
    "import pandas as pd"
   ]
  },
  {
   "cell_type": "code",
   "execution_count": null,
   "metadata": {},
   "outputs": [],
   "source": [
    "@jit(nopython=True, parallel = True, fastmath = True)\n",
    "def hash_perm(perm):\n",
    "    base = 9973\n",
    "    modb = 1000000007\n",
    "    modc = 1000000009\n",
    "\n",
    "    B, C = 0, 0\n",
    "    for i in perm:\n",
    "        B = (B * base) % modb + i\n",
    "        C = (C * base) % modc + i\n",
    "\n",
    "    return (B, C)"
   ]
  },
  {
   "cell_type": "code",
   "execution_count": null,
   "metadata": {},
   "outputs": [],
   "source": [
    "# 1e6 ~ 2 seconds\n",
    "mx_mem = int(1e7)\n",
    "mem_idx = 0\n",
    "\n",
    "last_state = np.zeros(mx_mem, dtype=int)\n",
    "last_move = np.zeros(mx_mem, dtype=int)\n",
    "\n",
    "cur_state = [np.zeros(32, dtype=int) for i in range(mx_mem)]\n",
    "\n",
    "print(last_state)"
   ]
  },
  {
   "cell_type": "code",
   "execution_count": null,
   "metadata": {},
   "outputs": [],
   "source": [
    "# M = np.array([all_moves['r0'], all_moves['r1'], all_moves['f0']])\n",
    "M = np.array([[5, 4, 2, 3, 1, 0, 6, 7], [3, 0, 1, 2, 4,5,6,7], [0,1,2,3, 7,4,5,6]])\n",
    "M_names = ['f0', 'r0', 'r1']"
   ]
  },
  {
   "cell_type": "code",
   "execution_count": null,
   "metadata": {},
   "outputs": [],
   "source": [
    "# M = np.array([all_moves['r0'], all_moves['r1'], all_moves['f0']])\n",
    "# 6 : 6\n",
    "M = np.array([[8, 7, 6, 3,4,5, 2,1,0,9,10,11], [5,0,1,2,3,4,6,7,8,9,10,11], [0,1,2,3,4,5,11,6,7,8,9,10]])\n",
    "M_names = ['f0', 'r0', 'r1']"
   ]
  },
  {
   "cell_type": "code",
   "execution_count": 20,
   "metadata": {},
   "outputs": [
    {
     "name": "stdout",
     "output_type": "stream",
     "text": [
      "CPU times: user 14 µs, sys: 1 µs, total: 15 µs\n",
      "Wall time: 19.1 µs\n"
     ]
    }
   ],
   "source": [
    "%%time\n",
    "\n",
    "from collections import deque\n",
    "\n",
    "# @jit(nopython=True, fastmath = True)\n",
    "def BFS(last_state, last_move, cur_state, M):\n",
    "    mem_idx = 1\n",
    "    initial_state = np.arange(12)\n",
    "    visited = dict()\n",
    "    visited[hash_perm(initial_state)] = 0\n",
    "\n",
    "    Q = deque([initial_state])\n",
    "\n",
    "    i = 0\n",
    "    while len(Q) > 0:\n",
    "        state = Q.popleft()\n",
    "        \n",
    "        for j in range(3):\n",
    "            m = M[j]\n",
    "            next_state = state[m]\n",
    "            # next_state = m(state)\n",
    "            next_hash = hash_perm(next_state)\n",
    "            \n",
    "            if(next_hash in visited):\n",
    "                continue\n",
    "                \n",
    "            visited[next_hash] = mem_idx\n",
    "            \n",
    "            # last_state[mem_idx] = i\n",
    "            # last_move[mem_idx] = j\n",
    "            \n",
    "            mem_idx += 1\n",
    "\n",
    "            Q.append(next_state)\n",
    "        \n",
    "        i += 1\n",
    "        \n",
    "    return visited"
   ]
  },
  {
   "cell_type": "code",
   "execution_count": 24,
   "metadata": {},
   "outputs": [
    {
     "ename": "NameError",
     "evalue": "name 'a' is not defined",
     "output_type": "error",
     "traceback": [
      "\u001b[0;31m---------------------------------------------------------------------------\u001b[0m",
      "\u001b[0;31mNameError\u001b[0m                                 Traceback (most recent call last)",
      "Cell \u001b[0;32mIn[24], line 14\u001b[0m\n\u001b[1;32m     11\u001b[0m         res_names\u001b[38;5;241m.\u001b[39mappend(M_names[i])\n\u001b[1;32m     12\u001b[0m     \u001b[38;5;28;01mreturn\u001b[39;00m res_names\n\u001b[0;32m---> 14\u001b[0m dig_through_memory(\u001b[43ma\u001b[49m[test_hash])\n",
      "\u001b[0;31mNameError\u001b[0m: name 'a' is not defined"
     ]
    }
   ],
   "source": [
    "def dig_through_memory(idx):\n",
    "    res = []\n",
    "    while idx != 0:\n",
    "        res.append(last_move[idx])\n",
    "        idx = last_state[idx]\n",
    "\n",
    "    res = list(reversed(res))\n",
    "\n",
    "    res_names = []\n",
    "    for i in res:\n",
    "        res_names.append(M_names[i])\n",
    "    return res_names\n",
    "\n",
    "dig_through_memory(a[test_hash])"
   ]
  },
  {
   "cell_type": "code",
   "execution_count": 33,
   "metadata": {},
   "outputs": [],
   "source": [
    "idx = 349\t\n",
    "N = 1+1\n",
    "M = 2*8"
   ]
  },
  {
   "cell_type": "code",
   "execution_count": 36,
   "metadata": {},
   "outputs": [
    {
     "name": "stdout",
     "output_type": "stream",
     "text": [
      "globe_1/8\n"
     ]
    },
    {
     "ename": "KeyError",
     "evalue": "'globe_1/8'",
     "output_type": "error",
     "traceback": [
      "\u001b[0;31m---------------------------------------------------------------------------\u001b[0m",
      "\u001b[0;31mKeyError\u001b[0m                                  Traceback (most recent call last)",
      "Cell \u001b[0;32mIn[36], line 3\u001b[0m\n\u001b[1;32m      1\u001b[0m all_moves \u001b[38;5;241m=\u001b[39m {}\n\u001b[1;32m      2\u001b[0m \u001b[38;5;28mprint\u001b[39m(\u001b[38;5;124m\"\u001b[39m\u001b[38;5;124mglobe_1/8\u001b[39m\u001b[38;5;124m\"\u001b[39m)\n\u001b[0;32m----> 3\u001b[0m \u001b[38;5;28;01mfor\u001b[39;00m m, p \u001b[38;5;129;01min\u001b[39;00m \u001b[43mpuzzle_info_df\u001b[49m\u001b[38;5;241;43m.\u001b[39;49m\u001b[43mloc\u001b[49m\u001b[43m[\u001b[49m\u001b[38;5;124;43m'\u001b[39;49m\u001b[38;5;124;43mglobe_1/8\u001b[39;49m\u001b[38;5;124;43m'\u001b[39;49m\u001b[43m,\u001b[49m\u001b[43m \u001b[49m\u001b[38;5;124;43m'\u001b[39;49m\u001b[38;5;124;43mallowed_moves\u001b[39;49m\u001b[38;5;124;43m'\u001b[39;49m\u001b[43m]\u001b[49m\u001b[38;5;241m.\u001b[39mitems():\n\u001b[1;32m      4\u001b[0m     all_moves[m] \u001b[38;5;241m=\u001b[39m Permutation(p)\n\u001b[1;32m      5\u001b[0m     all_moves[\u001b[38;5;124m'\u001b[39m\u001b[38;5;124m-\u001b[39m\u001b[38;5;124m'\u001b[39m \u001b[38;5;241m+\u001b[39m m] \u001b[38;5;241m=\u001b[39m Permutation(p) \u001b[38;5;241m*\u001b[39m\u001b[38;5;241m*\u001b[39m \u001b[38;5;241m-\u001b[39m\u001b[38;5;241m1\u001b[39m\n",
      "File \u001b[0;32m/opt/homebrew/lib/python3.11/site-packages/pandas/core/indexing.py:1146\u001b[0m, in \u001b[0;36m_LocationIndexer.__getitem__\u001b[0;34m(self, key)\u001b[0m\n\u001b[1;32m   1144\u001b[0m     key \u001b[38;5;241m=\u001b[39m \u001b[38;5;28mtuple\u001b[39m(com\u001b[38;5;241m.\u001b[39mapply_if_callable(x, \u001b[38;5;28mself\u001b[39m\u001b[38;5;241m.\u001b[39mobj) \u001b[38;5;28;01mfor\u001b[39;00m x \u001b[38;5;129;01min\u001b[39;00m key)\n\u001b[1;32m   1145\u001b[0m     \u001b[38;5;28;01mif\u001b[39;00m \u001b[38;5;28mself\u001b[39m\u001b[38;5;241m.\u001b[39m_is_scalar_access(key):\n\u001b[0;32m-> 1146\u001b[0m         \u001b[38;5;28;01mreturn\u001b[39;00m \u001b[38;5;28;43mself\u001b[39;49m\u001b[38;5;241;43m.\u001b[39;49m\u001b[43mobj\u001b[49m\u001b[38;5;241;43m.\u001b[39;49m\u001b[43m_get_value\u001b[49m\u001b[43m(\u001b[49m\u001b[38;5;241;43m*\u001b[39;49m\u001b[43mkey\u001b[49m\u001b[43m,\u001b[49m\u001b[43m \u001b[49m\u001b[43mtakeable\u001b[49m\u001b[38;5;241;43m=\u001b[39;49m\u001b[38;5;28;43mself\u001b[39;49m\u001b[38;5;241;43m.\u001b[39;49m\u001b[43m_takeable\u001b[49m\u001b[43m)\u001b[49m\n\u001b[1;32m   1147\u001b[0m     \u001b[38;5;28;01mreturn\u001b[39;00m \u001b[38;5;28mself\u001b[39m\u001b[38;5;241m.\u001b[39m_getitem_tuple(key)\n\u001b[1;32m   1148\u001b[0m \u001b[38;5;28;01melse\u001b[39;00m:\n\u001b[1;32m   1149\u001b[0m     \u001b[38;5;66;03m# we by definition only have the 0th axis\u001b[39;00m\n",
      "File \u001b[0;32m/opt/homebrew/lib/python3.11/site-packages/pandas/core/frame.py:4015\u001b[0m, in \u001b[0;36mDataFrame._get_value\u001b[0;34m(self, index, col, takeable)\u001b[0m\n\u001b[1;32m   4009\u001b[0m engine \u001b[38;5;241m=\u001b[39m \u001b[38;5;28mself\u001b[39m\u001b[38;5;241m.\u001b[39mindex\u001b[38;5;241m.\u001b[39m_engine\n\u001b[1;32m   4011\u001b[0m \u001b[38;5;28;01mif\u001b[39;00m \u001b[38;5;129;01mnot\u001b[39;00m \u001b[38;5;28misinstance\u001b[39m(\u001b[38;5;28mself\u001b[39m\u001b[38;5;241m.\u001b[39mindex, MultiIndex):\n\u001b[1;32m   4012\u001b[0m     \u001b[38;5;66;03m# CategoricalIndex: Trying to use the engine fastpath may give incorrect\u001b[39;00m\n\u001b[1;32m   4013\u001b[0m     \u001b[38;5;66;03m#  results if our categories are integers that dont match our codes\u001b[39;00m\n\u001b[1;32m   4014\u001b[0m     \u001b[38;5;66;03m# IntervalIndex: IntervalTree has no get_loc\u001b[39;00m\n\u001b[0;32m-> 4015\u001b[0m     row \u001b[38;5;241m=\u001b[39m \u001b[38;5;28;43mself\u001b[39;49m\u001b[38;5;241;43m.\u001b[39;49m\u001b[43mindex\u001b[49m\u001b[38;5;241;43m.\u001b[39;49m\u001b[43mget_loc\u001b[49m\u001b[43m(\u001b[49m\u001b[43mindex\u001b[49m\u001b[43m)\u001b[49m\n\u001b[1;32m   4016\u001b[0m     \u001b[38;5;28;01mreturn\u001b[39;00m series\u001b[38;5;241m.\u001b[39m_values[row]\n\u001b[1;32m   4018\u001b[0m \u001b[38;5;66;03m# For MultiIndex going through engine effectively restricts us to\u001b[39;00m\n\u001b[1;32m   4019\u001b[0m \u001b[38;5;66;03m#  same-length tuples; see test_get_set_value_no_partial_indexing\u001b[39;00m\n",
      "File \u001b[0;32m/opt/homebrew/lib/python3.11/site-packages/pandas/core/indexes/range.py:418\u001b[0m, in \u001b[0;36mRangeIndex.get_loc\u001b[0;34m(self, key)\u001b[0m\n\u001b[1;32m    416\u001b[0m         \u001b[38;5;28;01mraise\u001b[39;00m \u001b[38;5;167;01mKeyError\u001b[39;00m(key) \u001b[38;5;28;01mfrom\u001b[39;00m \u001b[38;5;21;01merr\u001b[39;00m\n\u001b[1;32m    417\u001b[0m \u001b[38;5;28;01mif\u001b[39;00m \u001b[38;5;28misinstance\u001b[39m(key, Hashable):\n\u001b[0;32m--> 418\u001b[0m     \u001b[38;5;28;01mraise\u001b[39;00m \u001b[38;5;167;01mKeyError\u001b[39;00m(key)\n\u001b[1;32m    419\u001b[0m \u001b[38;5;28mself\u001b[39m\u001b[38;5;241m.\u001b[39m_check_indexing_error(key)\n\u001b[1;32m    420\u001b[0m \u001b[38;5;28;01mraise\u001b[39;00m \u001b[38;5;167;01mKeyError\u001b[39;00m(key)\n",
      "\u001b[0;31mKeyError\u001b[0m: 'globe_1/8'"
     ]
    }
   ],
   "source": [
    "all_moves = {}\n",
    "print(\"globe_1/8\")\n",
    "for m, p in puzzle_info_df.loc['globe_1/8', 'allowed_moves'].items():\n",
    "    all_moves[m] = Permutation(p)\n",
    "    all_moves['-' + m] = Permutation(p) ** -1\n",
    "\n",
    "# gstate = all_moves['-r0'](gstate)\n",
    "gstate = np.array([i for i in range(32)])\n",
    "print(np.asarray(gstate).reshape(1+1, 2*8))"
   ]
  },
  {
   "cell_type": "code",
   "execution_count": 30,
   "metadata": {},
   "outputs": [
    {
     "name": "stdout",
     "output_type": "stream",
     "text": [
      "[[120, 'f0', 17, 'f0', 151, 'f0', 17, 'f0', 24], [0, 'f0', 16, 'f0', 23, 'f0', 16, 'f0', 16]]\n"
     ]
    },
    {
     "data": {
      "text/plain": [
       "['r0',\n",
       " 'r0',\n",
       " 'r0',\n",
       " 'r0',\n",
       " 'r0',\n",
       " 'r0',\n",
       " 'r0',\n",
       " 'r0',\n",
       " 'f0',\n",
       " 'r0',\n",
       " 'f0',\n",
       " 'f7',\n",
       " 'r0',\n",
       " 'f7',\n",
       " '-r0',\n",
       " 'r1',\n",
       " 'r1',\n",
       " 'r1',\n",
       " 'r1',\n",
       " 'r1',\n",
       " 'r1',\n",
       " 'r1']"
      ]
     },
     "execution_count": 30,
     "metadata": {},
     "output_type": "execute_result"
    }
   ],
   "source": [
    "def expand(path, n = 2, m = 16):    \n",
    "    rows = [[] for _ in range(n)]\n",
    "    \n",
    "    def expand_f(x):\n",
    "        for i in range(n):\n",
    "            rows[i].append(x)\n",
    "            rows[i].append('f0')\n",
    "            rows[i].append(m - x)\n",
    "    \n",
    "    for i in path:\n",
    "        if 'f' in i:\n",
    "            if '-' in i:\n",
    "                expand_f(int(i[2:]))\n",
    "            else:\n",
    "                expand_f(int(i[1:]))\n",
    "        else:\n",
    "            for j in range(n):\n",
    "                temp = 'r' + str(j)\n",
    "\n",
    "                if temp == i:\n",
    "                    rows[j].append(1)\n",
    "                    \n",
    "                temp = '-r' + str(j)\n",
    "\n",
    "                if temp == i:\n",
    "                    rows[j].append(m-1)\n",
    "\n",
    "    Rrows = [[] for _ in range(n)]\n",
    "\n",
    "    for r in range(n):\n",
    "        run = 0\n",
    "        for i in rows[r]:\n",
    "            if type(i) == type(0):\n",
    "                run += i\n",
    "            else:\n",
    "                Rrows[r].append(run)\n",
    "                Rrows[r].append('f0')\n",
    "                run = 0\n",
    "            \n",
    "        Rrows[r].append(run)\n",
    "    \n",
    "    return Rrows\n",
    "\n",
    "def shrink(rows, n = 2, m = 16):\n",
    "    for i in range(len(rows[0])):\n",
    "        mn = int(1e9)\n",
    "        for j in range(n):\n",
    "            if type(rows[j][i]) == type(1):\n",
    "                rows[j][i] %= m\n",
    "            else:\n",
    "                mn = min(mn, rows[j][i-1])\n",
    "        \n",
    "        for j in range(n):  \n",
    "            if type(rows[j][i]) == type('string'):\n",
    "                rows[j][i-1] -= mn\n",
    "                rows[j][i] = 'f' + str(mn)\n",
    "                rows[j][i+1] += mn\n",
    "    \n",
    "    final_moves = []\n",
    "    for i in range(len(rows[0])):\n",
    "        if type(rows[0][i]) == type('string'):\n",
    "            final_moves.append(rows[0][i])\n",
    "            continue\n",
    "\n",
    "        for j in range(n):\n",
    "            if rows[j][i] > m/2:\n",
    "                final_moves = final_moves + ['-r' + str(j)] * (m - rows[j][i])\n",
    "            else:\n",
    "                final_moves = final_moves + ['r' + str(j)] * (rows[j][i])\n",
    "\n",
    "    final_final_moves = []\n",
    "    i = 0\n",
    "    while i < len(final_moves):\n",
    "        if i != len(final_moves) - 1 and ('f' in final_moves[i]) and final_moves[i] == final_moves[i+1]:\n",
    "            i += 2\n",
    "        else:\n",
    "            final_final_moves.append(final_moves[i])\n",
    "            i += 1\n",
    "    \n",
    "    return final_final_moves\n",
    "        \n",
    "\n",
    "# ex = expand(sample_submission['moves'][idx].split('.'), N, M)\n",
    "ex = expand([\n",
    " '-r0',\n",
    "'-r0',\n",
    "'-r0',\n",
    "'-r0',\n",
    "'-r0',\n",
    "'-r0',\n",
    "'-r0',\n",
    "'-r0',\n",
    "\n",
    "    \n",
    " 'f0',\n",
    " 'r0',\n",
    " 'f0',\n",
    "    \n",
    " 'r0',\n",
    " 'r0',\n",
    "'r0',\n",
    " 'r0',\n",
    "'r0',\n",
    " 'r0',\n",
    "  'r0',\n",
    " 'r0',\n",
    "\n",
    "'r0',\n",
    "'r0',\n",
    " 'r0',\n",
    "'r0',\n",
    " 'r0',\n",
    "  'r0',\n",
    " 'r0',\n",
    "\n",
    "    'r1',\n",
    "'r1',\n",
    " 'r1',\n",
    "'r1',\n",
    " 'r1',\n",
    "  'r1',\n",
    " 'r1',\n",
    "\n",
    "'-r0',\n",
    "'-r0',\n",
    "'-r0',\n",
    "'-r0',\n",
    "'-r0',\n",
    "'-r0',\n",
    "'-r0',\n",
    "'-r0',\n",
    "\n",
    "    \n",
    " 'f0',\n",
    " 'r0',\n",
    " 'f0',\n",
    "    \n",
    " 'r0',\n",
    " 'r0',\n",
    "'r0',\n",
    " 'r0',\n",
    "'r0',\n",
    " 'r0',\n",
    "  'r0',\n",
    " 'r0',\n",
    "    \n",
    " ], 2, 16)\n",
    "print(ex)\n",
    "res = shrink(ex, 2, 16)\n",
    "res"
   ]
  },
  {
   "cell_type": "code",
   "execution_count": 32,
   "metadata": {},
   "outputs": [
    {
     "ename": "NameError",
     "evalue": "name 'cur' is not defined",
     "output_type": "error",
     "traceback": [
      "\u001b[0;31m---------------------------------------------------------------------------\u001b[0m",
      "\u001b[0;31mNameError\u001b[0m                                 Traceback (most recent call last)",
      "Cell \u001b[0;32mIn[32], line 5\u001b[0m\n\u001b[1;32m      2\u001b[0m cur_type \u001b[38;5;241m=\u001b[39m puzzles_df[\u001b[38;5;124m'\u001b[39m\u001b[38;5;124mpuzzle_type\u001b[39m\u001b[38;5;124m'\u001b[39m][idx]\n\u001b[1;32m      4\u001b[0m \u001b[38;5;28;01mfor\u001b[39;00m i \u001b[38;5;129;01min\u001b[39;00m res:\n\u001b[0;32m----> 5\u001b[0m     cur \u001b[38;5;241m=\u001b[39m \u001b[43mcur\u001b[49m[move_to_perm[cur_type][i]]\n\u001b[1;32m      7\u001b[0m     \u001b[38;5;28mprint\u001b[39m(cur)\n",
      "\u001b[0;31mNameError\u001b[0m: name 'cur' is not defined"
     ]
    }
   ],
   "source": [
    "test_globe = np.array([i for i in range(2*8)])\n",
    "cur_type = puzzles_df['puzzle_type'][idx]\n",
    "\n",
    "for i in res:\n",
    "    cur = cur[move_to_perm[cur_type][i]]\n",
    "\n",
    "    print(cur)\n"
   ]
  },
  {
   "cell_type": "code",
   "execution_count": 243,
   "metadata": {},
   "outputs": [
    {
     "name": "stdout",
     "output_type": "stream",
     "text": [
      "496\n",
      "504\n"
     ]
    }
   ],
   "source": [
    "print(len(sample_submission['moves'][idx].split('.')))\n",
    "print(len(res))"
   ]
  },
  {
   "cell_type": "code",
   "execution_count": 244,
   "metadata": {},
   "outputs": [
    {
     "name": "stdout",
     "output_type": "stream",
     "text": [
      "['E' 'C' 'A' 'H' 'C' 'J' 'K' 'H' 'I' 'K' 'A' 'A' 'H' 'I' 'L' 'M' 'M' 'P'\n",
      " 'I' 'N' 'C' 'L' 'M' 'K' 'G' 'O' 'F' 'D' 'J' 'N' 'F' 'B' 'J' 'G' 'P' 'L'\n",
      " 'P' 'G' 'B' 'O' 'O' 'E' 'A' 'N' 'J' 'G' 'C' 'O' 'K' 'F' 'E' 'P' 'H' 'I'\n",
      " 'N' 'M' 'E' 'F' 'D' 'L' 'B' 'D' 'D' 'B']\n",
      "expected ['A' 'A' 'A' 'A' 'C' 'C' 'C' 'C' 'E' 'E' 'E' 'E' 'G' 'G' 'G' 'G' 'I' 'I'\n",
      " 'I' 'I' 'K' 'K' 'K' 'K' 'M' 'M' 'M' 'M' 'O' 'O' 'O' 'O' 'B' 'B' 'B' 'B'\n",
      " 'D' 'D' 'D' 'D' 'F' 'F' 'F' 'F' 'H' 'H' 'H' 'H' 'J' 'J' 'J' 'J' 'L' 'L'\n",
      " 'L' 'L' 'N' 'N' 'N' 'N' 'P' 'P' 'P' 'P']\n",
      "got ['A' 'A' 'A' 'A' 'C' 'C' 'C' 'C' 'E' 'E' 'E' 'E' 'G' 'G' 'G' 'G' 'I' 'I'\n",
      " 'I' 'I' 'K' 'K' 'K' 'K' 'M' 'M' 'M' 'M' 'O' 'O' 'O' 'O' 'B' 'B' 'B' 'B'\n",
      " 'D' 'D' 'D' 'D' 'F' 'F' 'F' 'F' 'H' 'H' 'H' 'H' 'J' 'J' 'J' 'J' 'L' 'L'\n",
      " 'L' 'L' 'N' 'N' 'N' 'N' 'P' 'P' 'P' 'P']\n"
     ]
    }
   ],
   "source": [
    "cur = np.array(puzzles['initial_state'][idx])\n",
    "print(cur)\n",
    "cur_type = puzzles['puzzle_type'][idx]\n",
    "\n",
    "ALL = {}\n",
    "temp = 0\n",
    "\n",
    "calc = 0\n",
    "\n",
    "for i in res:\n",
    "    cur = cur[move_to_perm[cur_type][i]]\n",
    "\n",
    "    if tuple(cur) in ALL:\n",
    "        print(ALL[tuple(cur)], temp)\n",
    "        calc += temp - ALL[tuple(cur)]\n",
    "\n",
    "    if tuple(cur) not in ALL:\n",
    "        ALL[tuple(cur)] = temp\n",
    "\n",
    "    temp += 1\n",
    "\n",
    "print('expected', np.array(puzzles['solution_state'][idx]))\n",
    "print('got', cur)"
   ]
  },
  {
   "cell_type": "code",
   "execution_count": 231,
   "metadata": {},
   "outputs": [
    {
     "name": "stdout",
     "output_type": "stream",
     "text": [
      "237\n"
     ]
    }
   ],
   "source": [
    "print(len(res) - calc)"
   ]
  },
  {
   "cell_type": "code",
   "execution_count": 232,
   "metadata": {},
   "outputs": [
    {
     "name": "stdout",
     "output_type": "stream",
     "text": [
      "[]\n"
     ]
    }
   ],
   "source": [
    "print(res[788:792])"
   ]
  }
 ],
 "metadata": {
  "kaggle": {
   "accelerator": "none",
   "dataSources": [
    {
     "databundleVersionId": 7339171,
     "sourceId": 65704,
     "sourceType": "competition"
    }
   ],
   "dockerImageVersionId": 30626,
   "isGpuEnabled": false,
   "isInternetEnabled": true,
   "language": "python",
   "sourceType": "notebook"
  },
  "kernelspec": {
   "display_name": "climate-change-ai-venv-kernel",
   "language": "python",
   "name": "climate-change-ai-venv-kernel"
  },
  "language_info": {
   "codemirror_mode": {
    "name": "ipython",
    "version": 3
   },
   "file_extension": ".py",
   "mimetype": "text/x-python",
   "name": "python",
   "nbconvert_exporter": "python",
   "pygments_lexer": "ipython3",
   "version": "3.11.6"
  },
  "name": "getting_started.ipynb"
 },
 "nbformat": 4,
 "nbformat_minor": 4
}
