{
 "cells": [
  {
   "cell_type": "code",
   "execution_count": 1,
   "metadata": {},
   "outputs": [],
   "source": [
    "import matplotlib.pyplot as plt\n",
    "from scipy import stats\n",
    "import numpy as np\n",
    "from numba import jit\n",
    "import pstats\n",
    "import heapq\n",
    "import time\n",
    "import cProfile\n",
    "import pandas as pd"
   ]
  },
  {
   "cell_type": "code",
   "execution_count": 2,
   "metadata": {},
   "outputs": [],
   "source": [
    "puzzle_info_path = 'puzzle_info.csv'\n",
    "puzzles_path = 'puzzles.csv'\n",
    "sample_submission_path = 'sample_submission.csv' # change name across board\n",
    "puzzle_info_df = pd.read_csv(puzzle_info_path)\n",
    "puzzles_df = pd.read_csv(puzzles_path)\n",
    "sample_submission_df = pd.read_csv(sample_submission_path)"
   ]
  },
  {
   "cell_type": "code",
   "execution_count": 3,
   "metadata": {},
   "outputs": [],
   "source": [
    "# Parsing the initial_state and solution_state columns\n",
    "# Converting the semicolon-separated string values into lists of colors\n",
    "puzzles_df['parsed_initial_state'] = puzzles_df['initial_state'].apply(lambda x: x.split(';'))\n",
    "seen = {}\n",
    "\n",
    "for i in range(len(puzzles_df['parsed_initial_state'])):\n",
    "    for j in range(len(puzzles_df['parsed_initial_state'][i])):\n",
    "        if puzzles_df['parsed_initial_state'][i][j] not in seen:\n",
    "            seen[puzzles_df['parsed_initial_state'][i][j]] = len(seen)\n",
    "        puzzles_df['parsed_initial_state'][i][j] = seen[puzzles_df['parsed_initial_state'][i][j]]\n",
    "\n",
    "puzzles_df['parsed_solution_state'] = puzzles_df['solution_state'].apply(lambda x: x.split(';'))\n",
    "\n",
    "for i in range(len(puzzles_df['parsed_solution_state'])):\n",
    "    for j in range(len(puzzles_df['parsed_solution_state'][i])):\n",
    "        puzzles_df['parsed_solution_state'][i][j] = seen[puzzles_df['parsed_solution_state'][i][j]]"
   ]
  },
  {
   "cell_type": "code",
   "execution_count": 4,
   "metadata": {},
   "outputs": [],
   "source": [
    "import json\n",
    "\n",
    "# Converting the string representation of allowed_moves to dictionary\n",
    "puzzle_info_df['allowed_moves'] = puzzle_info_df['allowed_moves'].apply(lambda x: json.loads(x.replace(\"'\", '\"')))\n",
    "\n",
    "# Selecting an example puzzle type and displaying its allowed moves\n",
    "example_puzzle_type = puzzle_info_df['puzzle_type'].iloc[0]\n",
    "example_allowed_moves = puzzle_info_df[puzzle_info_df['puzzle_type'] == example_puzzle_type]['allowed_moves'].iloc[0]"
   ]
  },
  {
   "cell_type": "code",
   "execution_count": 5,
   "metadata": {},
   "outputs": [],
   "source": [
    "def getInversePerm(arr):\n",
    "    # gets the inverse move for a certain move\n",
    "    res = [0 for i in range(len(arr))]\n",
    "    for i in range(len(arr)):\n",
    "        res[arr[i]] = i\n",
    "    return res\n",
    "    \n",
    "# type : (np.array(move_perm_i), np.array(name_i))\n",
    "puz_info = {}\n",
    "\n",
    "# type : {move : perm}\n",
    "move_to_perm = {}\n",
    "\n",
    "for i in range(len(puzzle_info_df)):\n",
    "    puz_info[puzzle_info_df['puzzle_type'][i]] = [[], []]\n",
    "    move_to_perm[puzzle_info_df['puzzle_type'][i]] = {}\n",
    "    \n",
    "    for j in puzzle_info_df['allowed_moves'][i].keys():\n",
    "        puz_info[puzzle_info_df['puzzle_type'][i]][1].append(j)\n",
    "        puz_info[puzzle_info_df['puzzle_type'][i]][0].append(np.array(puzzle_info_df['allowed_moves'][i][j]))\n",
    "\n",
    "        puz_info[puzzle_info_df['puzzle_type'][i]][1].append(str('-' + j)) # might be the opposite\n",
    "        puz_info[puzzle_info_df['puzzle_type'][i]][0].append(np.array(getInversePerm(puzzle_info_df['allowed_moves'][i][j])))\n",
    "\n",
    "        move_to_perm[puzzle_info_df['puzzle_type'][i]][str('-' + j)] = np.array(getInversePerm(puzzle_info_df['allowed_moves'][i][j]))\n",
    "        move_to_perm[puzzle_info_df['puzzle_type'][i]][j] = np.array(puzzle_info_df['allowed_moves'][i][j])\n",
    "\n",
    "# move_to_perm['cube_2/2/2']"
   ]
  },
  {
   "cell_type": "code",
   "execution_count": 24,
   "metadata": {},
   "outputs": [],
   "source": [
    "@jit(nopython=True, parallel = True, fastmath = True)\n",
    "def hash_perm(perm):\n",
    "    base = 9973\n",
    "    modb = 1000000007\n",
    "    modc = 1000000009\n",
    "\n",
    "    B, C = 0, 0\n",
    "    for i in perm:\n",
    "        B = (B * base) % modb + i\n",
    "        C = (C * base) % modc + i\n",
    "\n",
    "    return (B, C)\n",
    "\n",
    "def dist(a, b):\n",
    "    return np.count_nonzero(a != b)"
   ]
  },
  {
   "cell_type": "code",
   "execution_count": 25,
   "metadata": {},
   "outputs": [
    {
     "name": "stdout",
     "output_type": "stream",
     "text": [
      "[0 0 0 ... 0 0 0]\n"
     ]
    }
   ],
   "source": [
    "# 1e6 ~ 2 seconds\n",
    "mx_mem = int(1e7)\n",
    "mem_idx = 0\n",
    "\n",
    "last_state = np.zeros(mx_mem, dtype=int)\n",
    "last_move = np.zeros(mx_mem, dtype=int)\n",
    "\n",
    "print(last_state)"
   ]
  },
  {
   "cell_type": "code",
   "execution_count": 76,
   "metadata": {},
   "outputs": [
    {
     "name": "stdout",
     "output_type": "stream",
     "text": [
      "(13, 37949, array([5, 4, 2, 2, 2, 2, 2, 2, 2, 1, 3, 3, 3, 3, 4, 3, 3, 3, 4, 0, 4, 2,\n",
      "       4, 4, 4, 4, 3, 0, 0, 0, 5, 0, 0, 1, 0, 0, 4, 1, 0, 1, 1, 1, 1, 1,\n",
      "       1, 5, 5, 5, 5, 5, 3, 5, 5, 2]), 20)\n"
     ]
    }
   ],
   "source": [
    "def chunk_search(idx, initial_state = None, chunk_time = 1):\n",
    "    global mem_idx\n",
    "\n",
    "    if initial_state is None:\n",
    "        initial_state = np.array(puzzles_df['parsed_initial_state'][idx])\n",
    "    \n",
    "    goal_state = np.array(puzzles_df['parsed_solution_state'][idx])\n",
    "    max_dist = puzzles_df['num_wildcards'][idx]\n",
    "    move_perm = np.array(puz_info[puzzles_df['puzzle_type'][idx]][0])\n",
    "\n",
    "    n = len(initial_state)\n",
    "    m = len(move_perm)\n",
    "\n",
    "    avg_dist = np.array([n + 1 for i in range(500 * n)], dtype = np.float32)\n",
    "    n_dist = np.array([0 for i in range(500 * n)])\n",
    "\n",
    "    def upd_prune(nxt_p, nxt_dist, avg_dist, n_dist):\n",
    "        if n_dist[nxt_p] == 0:\n",
    "            avg_dist[nxt_p] = nxt_dist\n",
    "            n_dist[nxt_p] = 1\n",
    "            return True\n",
    "\n",
    "        if n_dist[nxt_p] > 500: # pruning here\n",
    "            if nxt_dist > avg_dist[nxt_p]:\n",
    "                return False\n",
    "        \n",
    "        avg_dist[nxt_p] *= n_dist[nxt_p] / (n_dist[nxt_p] + 1)\n",
    "        avg_dist[nxt_p] += nxt_dist / (n_dist[nxt_p] + 1)\n",
    "        n_dist[nxt_p] += 1\n",
    "        return True\n",
    "    \n",
    "    pq = []\n",
    "    heapq.heappush(pq, (0, mem_idx, initial_state, 0))  # (priority, mem_idx, state, path_length)\n",
    "    mem_idx += 1\n",
    "\n",
    "    best_branch = (dist(initial_state, goal_state), 0, initial_state, 0) # (score, mem_idx, state, path_length)\n",
    "\n",
    "    considered = set()\n",
    "    considered.add(hash_perm(initial_state))\n",
    "\n",
    "    start_time = time.time()\n",
    "    \n",
    "    while mem_idx + m < mx_mem:\n",
    "        if time.time() - start_time > chunk_time:\n",
    "            break\n",
    "        \n",
    "        cur_p_plus_dist, cur_idx, cur_state, cur_p = heapq.heappop(pq) \n",
    "\n",
    "        for i in range(m):\n",
    "            nxt_state = cur_state[move_perm[i]]\n",
    "            nxt_hash = hash_perm(nxt_state)\n",
    "            nxt_p = 1 + cur_p\n",
    "\n",
    "            nxt_dist = dist(nxt_state, goal_state)\n",
    "            \n",
    "            ok = upd_prune(nxt_p, nxt_dist,avg_dist,n_dist)\n",
    "            if not ok:\n",
    "                continue\n",
    "\n",
    "            if nxt_hash in considered:\n",
    "                continue\n",
    "            considered.add(nxt_hash)\n",
    "\n",
    "            if (nxt_dist == best_branch[0] and nxt_p < best_branch[3]) or nxt_dist < best_branch[0]:\n",
    "                # print(nxt_dist, nxt_p)\n",
    "                best_branch = (nxt_dist, mem_idx, nxt_state, nxt_p)\n",
    "            \n",
    "            last_state[mem_idx] = cur_idx\n",
    "            last_move[mem_idx] = i\n",
    "\n",
    "            if nxt_dist <= max_dist:\n",
    "                # print(\"Number of pruned branches\", pruned_branch)\n",
    "                # print(\"Chunk length\", cur_p)\n",
    "                # print(\"Chunk Dist\", nxt_dist)\n",
    "                \n",
    "                return best_branch\n",
    "            \n",
    "            priority = nxt_p + nxt_dist\n",
    "            heapq.heappush(pq, (priority, mem_idx, nxt_state, 1+cur_p))\n",
    "            mem_idx += 1\n",
    "    return best_branch\n",
    "\n",
    "mem_idx = 0\n",
    "print(chunk_search(30))\n",
    "# cProfile.run('chunk_search(30)')"
   ]
  },
  {
   "cell_type": "code",
   "execution_count": 78,
   "metadata": {},
   "outputs": [
    {
     "data": {
      "text/plain": [
       "['r0',\n",
       " 'f0',\n",
       " 'd1',\n",
       " '-f0',\n",
       " 'r0',\n",
       " '-f0',\n",
       " '-r0',\n",
       " 'f0',\n",
       " 'f0',\n",
       " '-r0',\n",
       " '-f0',\n",
       " 'r0',\n",
       " 'd1',\n",
       " 'r0',\n",
       " '-d1',\n",
       " '-f0',\n",
       " '-d1',\n",
       " 'f0',\n",
       " 'd1',\n",
       " 'r0',\n",
       " 'd1',\n",
       " '-r0',\n",
       " '-d1',\n",
       " 'r0',\n",
       " 'd1',\n",
       " '-r0',\n",
       " '-d1',\n",
       " 'r0',\n",
       " '-d1',\n",
       " '-r0',\n",
       " '-f0',\n",
       " 'r1',\n",
       " 'f0',\n",
       " '-r1',\n",
       " '-d0',\n",
       " '-r1',\n",
       " 'd0',\n",
       " 'r1',\n",
       " 'f0',\n",
       " '-r1',\n",
       " '-f0',\n",
       " 'r1',\n",
       " '-d0',\n",
       " '-r1',\n",
       " 'f0',\n",
       " 'd0',\n",
       " '-r0',\n",
       " '-d1',\n",
       " 'f0',\n",
       " 'd1',\n",
       " '-f0',\n",
       " '-r1',\n",
       " 'd0',\n",
       " 'r1',\n",
       " '-d0',\n",
       " 'r1',\n",
       " '-f0',\n",
       " 'd0',\n",
       " 'f0',\n",
       " '-r1',\n",
       " 'f0',\n",
       " 'r1',\n",
       " '-f0',\n",
       " '-f0',\n",
       " 'r0',\n",
       " 'f0',\n",
       " '-r0',\n",
       " '-r0',\n",
       " 'f0',\n",
       " 'r0',\n",
       " 'd1',\n",
       " 'r0',\n",
       " '-d1',\n",
       " 'f0',\n",
       " '-r0',\n",
       " '-f0']"
      ]
     },
     "execution_count": 78,
     "metadata": {},
     "output_type": "execute_result"
    }
   ],
   "source": [
    "def dig_through_memory(idx):\n",
    "    res = []\n",
    "    while idx != 0:\n",
    "        res.append(last_move[idx])\n",
    "        idx = last_state[idx]\n",
    "\n",
    "    res = list(reversed(res))\n",
    "    return res\n",
    "\n",
    "def solve(idx, allotted_time = 10):\n",
    "    global mem_idx\n",
    "    \n",
    "    start_time = time.time()\n",
    "    move_name = np.array(puz_info[puzzles_df['puzzle_type'][idx]][1])\n",
    "    max_dist = puzzles_df['num_wildcards'][idx]\n",
    "\n",
    "    found = 0\n",
    "    res = []\n",
    "    cur = np.array(puzzles_df['parsed_initial_state'][idx])\n",
    "    # chunk_time = 1\n",
    "    chunk_time = allotted_time + 1\n",
    "    \n",
    "    while (time.time() - start_time < allotted_time and not found):\n",
    "        # print(\"Start chunk\")\n",
    "        mem_idx = 0\n",
    "        nxt_cur = chunk_search(idx, cur, chunk_time = chunk_time) \n",
    "        # larger chunk_time -> better solution, longer time\n",
    "        # more breath on search\n",
    "\n",
    "        if nxt_cur[0] <= max_dist:\n",
    "            found = 1\n",
    "\n",
    "        cur_moves = dig_through_memory(nxt_cur[1])\n",
    "        res = res + cur_moves\n",
    "        \n",
    "        cur = nxt_cur[2]\n",
    "        chunk_time *= 2\n",
    "        # print(\"End chunk\")\n",
    "    \n",
    "    if not found:\n",
    "        return None\n",
    "        \n",
    "    for i in range(len(res)):\n",
    "        res[i] = move_name[res[i]]\n",
    "    return res\n",
    "\n",
    "A = solve(5)\n",
    "A"
   ]
  },
  {
   "cell_type": "markdown",
   "metadata": {},
   "source": [
    "# Step 6: Build submission format function"
   ]
  },
  {
   "cell_type": "code",
   "execution_count": null,
   "metadata": {},
   "outputs": [],
   "source": [
    "def format_solution_for_submission(puzzle_id, solution_moves):\n",
    "    \"\"\"\n",
    "    Format the solution to a puzzle for submission.\n",
    "\n",
    "    :param puzzle_id: The unique identifier of the puzzle.\n",
    "    :param solution_moves: List of tuples representing the solution moves.\n",
    "    :return: Formatted string suitable for submission.\n",
    "    \"\"\"\n",
    "    formatted_moves = []\n",
    "    for move in solution_moves:\n",
    "        formatted_moves.append(move)\n",
    "\n",
    "    # Joining the moves into a single string separated by periods\n",
    "    return {'id': puzzle_id, 'moves': '.'.join(formatted_moves)}\n"
   ]
  },
  {
   "cell_type": "markdown",
   "metadata": {},
   "source": [
    "# Step 7: Define solve function"
   ]
  },
  {
   "cell_type": "code",
   "execution_count": 82,
   "metadata": {},
   "outputs": [
    {
     "name": "stderr",
     "output_type": "stream",
     "text": [
      "  0%|                                                   | 0/398 [00:00<?, ?it/s]"
     ]
    },
    {
     "name": "stdout",
     "output_type": "stream",
     "text": [
      "0\n",
      "1\n",
      "2\n",
      "3\n",
      "4\n",
      "5\n",
      "6\n",
      "7\n",
      "8\n",
      "9\n",
      "10\n",
      "11\n",
      "12\n",
      "13\n",
      "14\n",
      "15\n",
      "16\n",
      "17\n",
      "18\n",
      "19\n",
      "20\n",
      "21\n",
      "22\n",
      "23\n",
      "24\n",
      "25\n",
      "26\n",
      "27\n",
      "28\n",
      "29\n",
      "30\n"
     ]
    },
    {
     "name": "stderr",
     "output_type": "stream",
     "text": [
      "  8%|███▎                                      | 31/398 [01:01<12:09,  1.99s/it]"
     ]
    },
    {
     "name": "stdout",
     "output_type": "stream",
     "text": [
      "31\n"
     ]
    },
    {
     "name": "stderr",
     "output_type": "stream",
     "text": [
      "  8%|███▍                                      | 32/398 [01:04<12:16,  2.01s/it]"
     ]
    },
    {
     "name": "stdout",
     "output_type": "stream",
     "text": [
      "32\n"
     ]
    },
    {
     "name": "stderr",
     "output_type": "stream",
     "text": [
      "  8%|███▍                                      | 32/398 [02:32<29:05,  4.77s/it]\n"
     ]
    },
    {
     "ename": "KeyboardInterrupt",
     "evalue": "",
     "output_type": "error",
     "traceback": [
      "\u001b[0;31m---------------------------------------------------------------------------\u001b[0m",
      "\u001b[0;31mKeyboardInterrupt\u001b[0m                         Traceback (most recent call last)",
      "Cell \u001b[0;32mIn[82], line 11\u001b[0m\n\u001b[1;32m      9\u001b[0m \u001b[38;5;28mtype\u001b[39m \u001b[38;5;241m=\u001b[39m puzzles_df[\u001b[38;5;124m'\u001b[39m\u001b[38;5;124mpuzzle_type\u001b[39m\u001b[38;5;124m'\u001b[39m][i]\n\u001b[1;32m     10\u001b[0m \u001b[38;5;28;01mif\u001b[39;00m \u001b[38;5;28mtype\u001b[39m \u001b[38;5;129;01min\u001b[39;00m all_ok:\n\u001b[0;32m---> 11\u001b[0m     res \u001b[38;5;241m=\u001b[39m \u001b[43msolve\u001b[49m\u001b[43m(\u001b[49m\u001b[43mi\u001b[49m\u001b[43m,\u001b[49m\u001b[43m \u001b[49m\u001b[38;5;241;43m90\u001b[39;49m\u001b[43m)\u001b[49m\n\u001b[1;32m     13\u001b[0m \u001b[38;5;28;01mif\u001b[39;00m res \u001b[38;5;129;01mis\u001b[39;00m \u001b[38;5;28;01mNone\u001b[39;00m:\n\u001b[1;32m     14\u001b[0m     res \u001b[38;5;241m=\u001b[39m format_solution_for_submission(i, sample_submission_df[\u001b[38;5;124m'\u001b[39m\u001b[38;5;124mmoves\u001b[39m\u001b[38;5;124m'\u001b[39m][i]\u001b[38;5;241m.\u001b[39msplit(\u001b[38;5;124m'\u001b[39m\u001b[38;5;124m.\u001b[39m\u001b[38;5;124m'\u001b[39m))\n",
      "Cell \u001b[0;32mIn[78], line 26\u001b[0m, in \u001b[0;36msolve\u001b[0;34m(idx, allotted_time)\u001b[0m\n\u001b[1;32m     23\u001b[0m \u001b[38;5;28;01mwhile\u001b[39;00m (time\u001b[38;5;241m.\u001b[39mtime() \u001b[38;5;241m-\u001b[39m start_time \u001b[38;5;241m<\u001b[39m allotted_time \u001b[38;5;129;01mand\u001b[39;00m \u001b[38;5;129;01mnot\u001b[39;00m found):\n\u001b[1;32m     24\u001b[0m     \u001b[38;5;66;03m# print(\"Start chunk\")\u001b[39;00m\n\u001b[1;32m     25\u001b[0m     mem_idx \u001b[38;5;241m=\u001b[39m \u001b[38;5;241m0\u001b[39m\n\u001b[0;32m---> 26\u001b[0m     nxt_cur \u001b[38;5;241m=\u001b[39m \u001b[43mchunk_search\u001b[49m\u001b[43m(\u001b[49m\u001b[43midx\u001b[49m\u001b[43m,\u001b[49m\u001b[43m \u001b[49m\u001b[43mcur\u001b[49m\u001b[43m,\u001b[49m\u001b[43m \u001b[49m\u001b[43mchunk_time\u001b[49m\u001b[43m \u001b[49m\u001b[38;5;241;43m=\u001b[39;49m\u001b[43m \u001b[49m\u001b[43mchunk_time\u001b[49m\u001b[43m)\u001b[49m \n\u001b[1;32m     27\u001b[0m     \u001b[38;5;66;03m# larger chunk_time -> better solution, longer time\u001b[39;00m\n\u001b[1;32m     28\u001b[0m     \u001b[38;5;66;03m# more breath on search\u001b[39;00m\n\u001b[1;32m     30\u001b[0m     \u001b[38;5;28;01mif\u001b[39;00m nxt_cur[\u001b[38;5;241m0\u001b[39m] \u001b[38;5;241m<\u001b[39m\u001b[38;5;241m=\u001b[39m max_dist:\n",
      "Cell \u001b[0;32mIn[76], line 51\u001b[0m, in \u001b[0;36mchunk_search\u001b[0;34m(idx, initial_state, chunk_time)\u001b[0m\n\u001b[1;32m     49\u001b[0m \u001b[38;5;28;01mfor\u001b[39;00m i \u001b[38;5;129;01min\u001b[39;00m \u001b[38;5;28mrange\u001b[39m(m):\n\u001b[1;32m     50\u001b[0m     nxt_state \u001b[38;5;241m=\u001b[39m cur_state[move_perm[i]]\n\u001b[0;32m---> 51\u001b[0m     nxt_hash \u001b[38;5;241m=\u001b[39m \u001b[43mhash_perm\u001b[49m\u001b[43m(\u001b[49m\u001b[43mnxt_state\u001b[49m\u001b[43m)\u001b[49m\n\u001b[1;32m     52\u001b[0m     nxt_p \u001b[38;5;241m=\u001b[39m \u001b[38;5;241m1\u001b[39m \u001b[38;5;241m+\u001b[39m cur_p\n\u001b[1;32m     54\u001b[0m     nxt_dist \u001b[38;5;241m=\u001b[39m dist(nxt_state, goal_state)\n",
      "\u001b[0;31mKeyboardInterrupt\u001b[0m: "
     ]
    }
   ],
   "source": [
    "from tqdm import tqdm\n",
    "\n",
    "all_ok = ['cube_3/3/3', 'wreath_21/21', 'wreath_33/33']\n",
    "res_df = []\n",
    "\n",
    "for i in tqdm(range(len(puzzles_df))):\n",
    "    res = None\n",
    "    print(i)\n",
    "    type = puzzles_df['puzzle_type'][i]\n",
    "    if type in all_ok:\n",
    "        res = solve(i, 90)\n",
    "    \n",
    "    if res is None:\n",
    "        res = format_solution_for_submission(i, sample_submission_df['moves'][i].split('.'))\n",
    "    else:\n",
    "        res = format_solution_for_submission(i, res)\n",
    "    \n",
    "    res_df.append(res)"
   ]
  },
  {
   "cell_type": "code",
   "execution_count": null,
   "metadata": {},
   "outputs": [],
   "source": [
    "last_submission_df = pd.read_csv('submission.csv')\n",
    "last_submission_df"
   ]
  },
  {
   "cell_type": "code",
   "execution_count": null,
   "metadata": {},
   "outputs": [],
   "source": [
    "res_df = pd.DataFrame(res_df)\n",
    "res_df"
   ]
  },
  {
   "cell_type": "code",
   "execution_count": null,
   "metadata": {},
   "outputs": [],
   "source": [
    "# Define the file path for the output CSV file\n",
    "output_csv_path = 'submission.csv'\n",
    "\n",
    "# Save the output DataFrame to a CSV file\n",
    "res_df.to_csv(output_csv_path, index=False)\n",
    "\n",
    "# Return the path of the saved file\n",
    "output_csv_path"
   ]
  },
  {
   "cell_type": "code",
   "execution_count": null,
   "metadata": {},
   "outputs": [],
   "source": []
  },
  {
   "cell_type": "code",
   "execution_count": null,
   "metadata": {},
   "outputs": [],
   "source": []
  },
  {
   "cell_type": "code",
   "execution_count": null,
   "metadata": {},
   "outputs": [],
   "source": []
  }
 ],
 "metadata": {
  "kaggle": {
   "accelerator": "none",
   "dataSources": [
    {
     "databundleVersionId": 7323271,
     "sourceId": 65704,
     "sourceType": "competition"
    }
   ],
   "dockerImageVersionId": 30626,
   "isGpuEnabled": false,
   "isInternetEnabled": true,
   "language": "python",
   "sourceType": "notebook"
  },
  "kernelspec": {
   "display_name": "climate-change-ai-venv-kernel",
   "language": "python",
   "name": "climate-change-ai-venv-kernel"
  },
  "language_info": {
   "codemirror_mode": {
    "name": "ipython",
    "version": 3
   },
   "file_extension": ".py",
   "mimetype": "text/x-python",
   "name": "python",
   "nbconvert_exporter": "python",
   "pygments_lexer": "ipython3",
   "version": "3.11.6"
  }
 },
 "nbformat": 4,
 "nbformat_minor": 4
}
